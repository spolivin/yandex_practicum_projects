{
 "cells": [
  {
   "cell_type": "markdown",
   "id": "cb3bfb5b-b311-48f7-9ed0-9f60535d3b2e",
   "metadata": {},
   "source": [
    "# Getting data"
   ]
  },
  {
   "cell_type": "code",
   "execution_count": 1,
   "id": "d32c0174-0880-4402-997d-5a35111711fd",
   "metadata": {},
   "outputs": [],
   "source": [
    "from typing import Any, Optional\n",
    "\n",
    "import matplotlib.pyplot as plt\n",
    "import numpy as np\n",
    "import pandas as pd\n",
    "import seaborn as sns\n",
    "from IPython.display import display\n",
    "\n",
    "RANDOM_STATE = 12345"
   ]
  },
  {
   "cell_type": "code",
   "execution_count": 2,
   "id": "90048710-1809-4f60-9c44-094b6340a31e",
   "metadata": {},
   "outputs": [
    {
     "data": {
      "text/html": [
       "<div>\n",
       "<style scoped>\n",
       "    .dataframe tbody tr th:only-of-type {\n",
       "        vertical-align: middle;\n",
       "    }\n",
       "\n",
       "    .dataframe tbody tr th {\n",
       "        vertical-align: top;\n",
       "    }\n",
       "\n",
       "    .dataframe thead th {\n",
       "        text-align: right;\n",
       "    }\n",
       "</style>\n",
       "<table border=\"1\" class=\"dataframe\">\n",
       "  <thead>\n",
       "    <tr style=\"text-align: right;\">\n",
       "      <th></th>\n",
       "      <th>children</th>\n",
       "      <th>days_employed</th>\n",
       "      <th>dob_years</th>\n",
       "      <th>education</th>\n",
       "      <th>education_id</th>\n",
       "      <th>family_status</th>\n",
       "      <th>family_status_id</th>\n",
       "      <th>gender</th>\n",
       "      <th>income_type</th>\n",
       "      <th>debt</th>\n",
       "      <th>total_income</th>\n",
       "      <th>purpose</th>\n",
       "    </tr>\n",
       "  </thead>\n",
       "  <tbody>\n",
       "    <tr>\n",
       "      <th>10494</th>\n",
       "      <td>0</td>\n",
       "      <td>-777.565227</td>\n",
       "      <td>41</td>\n",
       "      <td>среднее</td>\n",
       "      <td>1</td>\n",
       "      <td>гражданский брак</td>\n",
       "      <td>1</td>\n",
       "      <td>M</td>\n",
       "      <td>сотрудник</td>\n",
       "      <td>0</td>\n",
       "      <td>166520.601913</td>\n",
       "      <td>дополнительное образование</td>\n",
       "    </tr>\n",
       "    <tr>\n",
       "      <th>1460</th>\n",
       "      <td>3</td>\n",
       "      <td>-2789.878442</td>\n",
       "      <td>31</td>\n",
       "      <td>среднее</td>\n",
       "      <td>1</td>\n",
       "      <td>женат / замужем</td>\n",
       "      <td>0</td>\n",
       "      <td>M</td>\n",
       "      <td>сотрудник</td>\n",
       "      <td>0</td>\n",
       "      <td>115323.047716</td>\n",
       "      <td>строительство недвижимости</td>\n",
       "    </tr>\n",
       "    <tr>\n",
       "      <th>9914</th>\n",
       "      <td>0</td>\n",
       "      <td>NaN</td>\n",
       "      <td>58</td>\n",
       "      <td>высшее</td>\n",
       "      <td>0</td>\n",
       "      <td>женат / замужем</td>\n",
       "      <td>0</td>\n",
       "      <td>M</td>\n",
       "      <td>сотрудник</td>\n",
       "      <td>0</td>\n",
       "      <td>NaN</td>\n",
       "      <td>автомобили</td>\n",
       "    </tr>\n",
       "    <tr>\n",
       "      <th>3165</th>\n",
       "      <td>0</td>\n",
       "      <td>329050.424240</td>\n",
       "      <td>59</td>\n",
       "      <td>начальное</td>\n",
       "      <td>3</td>\n",
       "      <td>вдовец / вдова</td>\n",
       "      <td>2</td>\n",
       "      <td>F</td>\n",
       "      <td>пенсионер</td>\n",
       "      <td>0</td>\n",
       "      <td>296160.300798</td>\n",
       "      <td>получение дополнительного образования</td>\n",
       "    </tr>\n",
       "    <tr>\n",
       "      <th>3080</th>\n",
       "      <td>0</td>\n",
       "      <td>360739.755029</td>\n",
       "      <td>51</td>\n",
       "      <td>высшее</td>\n",
       "      <td>0</td>\n",
       "      <td>женат / замужем</td>\n",
       "      <td>0</td>\n",
       "      <td>M</td>\n",
       "      <td>пенсионер</td>\n",
       "      <td>0</td>\n",
       "      <td>184394.932593</td>\n",
       "      <td>операции со своей недвижимостью</td>\n",
       "    </tr>\n",
       "    <tr>\n",
       "      <th>14925</th>\n",
       "      <td>0</td>\n",
       "      <td>368945.757693</td>\n",
       "      <td>62</td>\n",
       "      <td>среднее</td>\n",
       "      <td>1</td>\n",
       "      <td>гражданский брак</td>\n",
       "      <td>1</td>\n",
       "      <td>F</td>\n",
       "      <td>пенсионер</td>\n",
       "      <td>0</td>\n",
       "      <td>144149.728877</td>\n",
       "      <td>сыграть свадьбу</td>\n",
       "    </tr>\n",
       "    <tr>\n",
       "      <th>6437</th>\n",
       "      <td>2</td>\n",
       "      <td>-3173.437878</td>\n",
       "      <td>29</td>\n",
       "      <td>среднее</td>\n",
       "      <td>1</td>\n",
       "      <td>женат / замужем</td>\n",
       "      <td>0</td>\n",
       "      <td>M</td>\n",
       "      <td>сотрудник</td>\n",
       "      <td>0</td>\n",
       "      <td>79874.036949</td>\n",
       "      <td>покупка своего жилья</td>\n",
       "    </tr>\n",
       "    <tr>\n",
       "      <th>20182</th>\n",
       "      <td>0</td>\n",
       "      <td>-3288.307489</td>\n",
       "      <td>44</td>\n",
       "      <td>неоконченное высшее</td>\n",
       "      <td>2</td>\n",
       "      <td>Не женат / не замужем</td>\n",
       "      <td>4</td>\n",
       "      <td>M</td>\n",
       "      <td>компаньон</td>\n",
       "      <td>0</td>\n",
       "      <td>216611.469978</td>\n",
       "      <td>покупка жилой недвижимости</td>\n",
       "    </tr>\n",
       "    <tr>\n",
       "      <th>2661</th>\n",
       "      <td>0</td>\n",
       "      <td>336548.862836</td>\n",
       "      <td>64</td>\n",
       "      <td>среднее</td>\n",
       "      <td>1</td>\n",
       "      <td>Не женат / не замужем</td>\n",
       "      <td>4</td>\n",
       "      <td>F</td>\n",
       "      <td>пенсионер</td>\n",
       "      <td>0</td>\n",
       "      <td>82212.733538</td>\n",
       "      <td>образование</td>\n",
       "    </tr>\n",
       "    <tr>\n",
       "      <th>4599</th>\n",
       "      <td>2</td>\n",
       "      <td>-528.394952</td>\n",
       "      <td>26</td>\n",
       "      <td>ВЫСШЕЕ</td>\n",
       "      <td>0</td>\n",
       "      <td>женат / замужем</td>\n",
       "      <td>0</td>\n",
       "      <td>M</td>\n",
       "      <td>компаньон</td>\n",
       "      <td>0</td>\n",
       "      <td>171056.175618</td>\n",
       "      <td>покупка недвижимости</td>\n",
       "    </tr>\n",
       "    <tr>\n",
       "      <th>12975</th>\n",
       "      <td>1</td>\n",
       "      <td>NaN</td>\n",
       "      <td>38</td>\n",
       "      <td>среднее</td>\n",
       "      <td>1</td>\n",
       "      <td>женат / замужем</td>\n",
       "      <td>0</td>\n",
       "      <td>F</td>\n",
       "      <td>сотрудник</td>\n",
       "      <td>0</td>\n",
       "      <td>NaN</td>\n",
       "      <td>покупка жилья для семьи</td>\n",
       "    </tr>\n",
       "    <tr>\n",
       "      <th>7901</th>\n",
       "      <td>0</td>\n",
       "      <td>NaN</td>\n",
       "      <td>59</td>\n",
       "      <td>среднее</td>\n",
       "      <td>1</td>\n",
       "      <td>женат / замужем</td>\n",
       "      <td>0</td>\n",
       "      <td>F</td>\n",
       "      <td>пенсионер</td>\n",
       "      <td>0</td>\n",
       "      <td>NaN</td>\n",
       "      <td>ремонт жилью</td>\n",
       "    </tr>\n",
       "    <tr>\n",
       "      <th>20613</th>\n",
       "      <td>0</td>\n",
       "      <td>-4137.331615</td>\n",
       "      <td>69</td>\n",
       "      <td>высшее</td>\n",
       "      <td>0</td>\n",
       "      <td>женат / замужем</td>\n",
       "      <td>0</td>\n",
       "      <td>M</td>\n",
       "      <td>госслужащий</td>\n",
       "      <td>0</td>\n",
       "      <td>146187.858312</td>\n",
       "      <td>недвижимость</td>\n",
       "    </tr>\n",
       "    <tr>\n",
       "      <th>17092</th>\n",
       "      <td>2</td>\n",
       "      <td>-2826.964554</td>\n",
       "      <td>43</td>\n",
       "      <td>среднее</td>\n",
       "      <td>1</td>\n",
       "      <td>женат / замужем</td>\n",
       "      <td>0</td>\n",
       "      <td>M</td>\n",
       "      <td>сотрудник</td>\n",
       "      <td>0</td>\n",
       "      <td>269176.262406</td>\n",
       "      <td>ремонт жилью</td>\n",
       "    </tr>\n",
       "    <tr>\n",
       "      <th>5046</th>\n",
       "      <td>0</td>\n",
       "      <td>-423.938041</td>\n",
       "      <td>24</td>\n",
       "      <td>среднее</td>\n",
       "      <td>1</td>\n",
       "      <td>Не женат / не замужем</td>\n",
       "      <td>4</td>\n",
       "      <td>M</td>\n",
       "      <td>сотрудник</td>\n",
       "      <td>0</td>\n",
       "      <td>182491.031136</td>\n",
       "      <td>профильное образование</td>\n",
       "    </tr>\n",
       "    <tr>\n",
       "      <th>14986</th>\n",
       "      <td>0</td>\n",
       "      <td>-3690.815732</td>\n",
       "      <td>36</td>\n",
       "      <td>среднее</td>\n",
       "      <td>1</td>\n",
       "      <td>Не женат / не замужем</td>\n",
       "      <td>4</td>\n",
       "      <td>F</td>\n",
       "      <td>сотрудник</td>\n",
       "      <td>0</td>\n",
       "      <td>439770.605953</td>\n",
       "      <td>высшее образование</td>\n",
       "    </tr>\n",
       "    <tr>\n",
       "      <th>3621</th>\n",
       "      <td>0</td>\n",
       "      <td>-1587.837522</td>\n",
       "      <td>55</td>\n",
       "      <td>среднее</td>\n",
       "      <td>1</td>\n",
       "      <td>женат / замужем</td>\n",
       "      <td>0</td>\n",
       "      <td>F</td>\n",
       "      <td>сотрудник</td>\n",
       "      <td>0</td>\n",
       "      <td>109356.711511</td>\n",
       "      <td>строительство жилой недвижимости</td>\n",
       "    </tr>\n",
       "    <tr>\n",
       "      <th>18517</th>\n",
       "      <td>0</td>\n",
       "      <td>-537.327354</td>\n",
       "      <td>24</td>\n",
       "      <td>ВЫСШЕЕ</td>\n",
       "      <td>0</td>\n",
       "      <td>гражданский брак</td>\n",
       "      <td>1</td>\n",
       "      <td>F</td>\n",
       "      <td>сотрудник</td>\n",
       "      <td>0</td>\n",
       "      <td>119002.008399</td>\n",
       "      <td>сыграть свадьбу</td>\n",
       "    </tr>\n",
       "    <tr>\n",
       "      <th>4844</th>\n",
       "      <td>2</td>\n",
       "      <td>-2716.177578</td>\n",
       "      <td>36</td>\n",
       "      <td>среднее</td>\n",
       "      <td>1</td>\n",
       "      <td>женат / замужем</td>\n",
       "      <td>0</td>\n",
       "      <td>F</td>\n",
       "      <td>сотрудник</td>\n",
       "      <td>0</td>\n",
       "      <td>138185.845117</td>\n",
       "      <td>строительство собственной недвижимости</td>\n",
       "    </tr>\n",
       "    <tr>\n",
       "      <th>16233</th>\n",
       "      <td>0</td>\n",
       "      <td>NaN</td>\n",
       "      <td>61</td>\n",
       "      <td>СРЕДНЕЕ</td>\n",
       "      <td>1</td>\n",
       "      <td>женат / замужем</td>\n",
       "      <td>0</td>\n",
       "      <td>M</td>\n",
       "      <td>сотрудник</td>\n",
       "      <td>0</td>\n",
       "      <td>NaN</td>\n",
       "      <td>строительство недвижимости</td>\n",
       "    </tr>\n",
       "  </tbody>\n",
       "</table>\n",
       "</div>"
      ],
      "text/plain": [
       "       children  days_employed  dob_years            education  education_id  \\\n",
       "10494         0    -777.565227         41              среднее             1   \n",
       "1460          3   -2789.878442         31              среднее             1   \n",
       "9914          0            NaN         58               высшее             0   \n",
       "3165          0  329050.424240         59            начальное             3   \n",
       "3080          0  360739.755029         51               высшее             0   \n",
       "14925         0  368945.757693         62              среднее             1   \n",
       "6437          2   -3173.437878         29              среднее             1   \n",
       "20182         0   -3288.307489         44  неоконченное высшее             2   \n",
       "2661          0  336548.862836         64              среднее             1   \n",
       "4599          2    -528.394952         26               ВЫСШЕЕ             0   \n",
       "12975         1            NaN         38              среднее             1   \n",
       "7901          0            NaN         59              среднее             1   \n",
       "20613         0   -4137.331615         69               высшее             0   \n",
       "17092         2   -2826.964554         43              среднее             1   \n",
       "5046          0    -423.938041         24              среднее             1   \n",
       "14986         0   -3690.815732         36              среднее             1   \n",
       "3621          0   -1587.837522         55              среднее             1   \n",
       "18517         0    -537.327354         24               ВЫСШЕЕ             0   \n",
       "4844          2   -2716.177578         36              среднее             1   \n",
       "16233         0            NaN         61              СРЕДНЕЕ             1   \n",
       "\n",
       "               family_status  family_status_id gender  income_type  debt  \\\n",
       "10494       гражданский брак                 1      M    сотрудник     0   \n",
       "1460         женат / замужем                 0      M    сотрудник     0   \n",
       "9914         женат / замужем                 0      M    сотрудник     0   \n",
       "3165          вдовец / вдова                 2      F    пенсионер     0   \n",
       "3080         женат / замужем                 0      M    пенсионер     0   \n",
       "14925       гражданский брак                 1      F    пенсионер     0   \n",
       "6437         женат / замужем                 0      M    сотрудник     0   \n",
       "20182  Не женат / не замужем                 4      M    компаньон     0   \n",
       "2661   Не женат / не замужем                 4      F    пенсионер     0   \n",
       "4599         женат / замужем                 0      M    компаньон     0   \n",
       "12975        женат / замужем                 0      F    сотрудник     0   \n",
       "7901         женат / замужем                 0      F    пенсионер     0   \n",
       "20613        женат / замужем                 0      M  госслужащий     0   \n",
       "17092        женат / замужем                 0      M    сотрудник     0   \n",
       "5046   Не женат / не замужем                 4      M    сотрудник     0   \n",
       "14986  Не женат / не замужем                 4      F    сотрудник     0   \n",
       "3621         женат / замужем                 0      F    сотрудник     0   \n",
       "18517       гражданский брак                 1      F    сотрудник     0   \n",
       "4844         женат / замужем                 0      F    сотрудник     0   \n",
       "16233        женат / замужем                 0      M    сотрудник     0   \n",
       "\n",
       "        total_income                                 purpose  \n",
       "10494  166520.601913              дополнительное образование  \n",
       "1460   115323.047716              строительство недвижимости  \n",
       "9914             NaN                              автомобили  \n",
       "3165   296160.300798   получение дополнительного образования  \n",
       "3080   184394.932593         операции со своей недвижимостью  \n",
       "14925  144149.728877                         сыграть свадьбу  \n",
       "6437    79874.036949                    покупка своего жилья  \n",
       "20182  216611.469978              покупка жилой недвижимости  \n",
       "2661    82212.733538                             образование  \n",
       "4599   171056.175618                    покупка недвижимости  \n",
       "12975            NaN                 покупка жилья для семьи  \n",
       "7901             NaN                            ремонт жилью  \n",
       "20613  146187.858312                            недвижимость  \n",
       "17092  269176.262406                            ремонт жилью  \n",
       "5046   182491.031136                  профильное образование  \n",
       "14986  439770.605953                      высшее образование  \n",
       "3621   109356.711511        строительство жилой недвижимости  \n",
       "18517  119002.008399                         сыграть свадьбу  \n",
       "4844   138185.845117  строительство собственной недвижимости  \n",
       "16233            NaN              строительство недвижимости  "
      ]
     },
     "metadata": {},
     "output_type": "display_data"
    }
   ],
   "source": [
    "bank_data = pd.read_csv(\"datasets/bank_clients_data.csv\")\n",
    "display(bank_data.sample(20, random_state=RANDOM_STATE))"
   ]
  },
  {
   "cell_type": "code",
   "execution_count": 3,
   "id": "3098edfb-7b03-4bf0-b95d-132dde83b6d5",
   "metadata": {},
   "outputs": [
    {
     "name": "stdout",
     "output_type": "stream",
     "text": [
      "<class 'pandas.core.frame.DataFrame'>\n",
      "RangeIndex: 21525 entries, 0 to 21524\n",
      "Data columns (total 12 columns):\n",
      " #   Column            Non-Null Count  Dtype  \n",
      "---  ------            --------------  -----  \n",
      " 0   children          21525 non-null  int64  \n",
      " 1   days_employed     19351 non-null  float64\n",
      " 2   dob_years         21525 non-null  int64  \n",
      " 3   education         21525 non-null  object \n",
      " 4   education_id      21525 non-null  int64  \n",
      " 5   family_status     21525 non-null  object \n",
      " 6   family_status_id  21525 non-null  int64  \n",
      " 7   gender            21525 non-null  object \n",
      " 8   income_type       21525 non-null  object \n",
      " 9   debt              21525 non-null  int64  \n",
      " 10  total_income      19351 non-null  float64\n",
      " 11  purpose           21525 non-null  object \n",
      "dtypes: float64(2), int64(5), object(5)\n",
      "memory usage: 2.0+ MB\n"
     ]
    }
   ],
   "source": [
    "bank_data.info()"
   ]
  },
  {
   "cell_type": "markdown",
   "id": "ec987167-4e66-4417-b70b-afa7f4b4f7ec",
   "metadata": {},
   "source": [
    "We can see that the DataFrame contains the following information in its columns:"
   ]
  },
  {
   "cell_type": "markdown",
   "id": "1e1a7e4e-af8c-4b72-86a2-b2d16e53aed2",
   "metadata": {},
   "source": [
    "<table>\n",
    "<thead>\n",
    "<tr><th>Features</th><th>Description</th></tr>\n",
    "</thead>\n",
    "<tbody>\n",
    "<tr><td><code>children</code></td><td><i>Number of children in a family</i></td></tr>\n",
    "<tr><td><code>days_employed</code></td><td><i>Total number of days being employed</i></td></tr>\n",
    "<tr><td><code>dob_years</code></td><td><i>Client's age</i></td></tr>\n",
    "<tr><td><code>education</code></td><td><i>Client's education level</i></td></tr>\n",
    "<tr><td><code>education_id</code></td><td><i>Education level identifier</i></td></tr>\n",
    "<tr><td><code>family_status</code></td><td><i>Client's family status</i></td></tr>\n",
    "<tr><td><code>family_status_id</code></td><td><i>Family status identifier</i></td></tr>\n",
    "<tr><td><code>gender</code></td><td><i>Client's gender</i></td></tr>\n",
    "<tr><td><code>income_type</code></td><td><i>Type of employment</i></td></tr>\n",
    "<tr><td><code>debt</code></td><td><i>Indicator of owing debt to the bank</i></td></tr>\n",
    "<tr><td><code>total_income</code></td><td><i>Monthly income</i></td></tr>\n",
    "<tr><td><code>purpose</code></td><td><i>Purpose for taking out a loan</i></td></tr>\n",
    "</tbody>\n",
    "</table>"
   ]
  },
  {
   "cell_type": "markdown",
   "id": "2ca5e11c-71cc-4b27-93b1-5c25fe861b24",
   "metadata": {},
   "source": [
    "**Conclusion**\n",
    "\n",
    "The dataset contains information about borrowers of the bank with numerous attributes, where each row identifies a separate debtor with specific data. The DataFrame can be seen to have missing values present as well as potential data format problems, all of which warrant data preprocessing being carried out."
   ]
  },
  {
   "cell_type": "markdown",
   "id": "9afdc809-113f-409e-8d5c-9cc9fdb04891",
   "metadata": {},
   "source": [
    "# Data preprocessing"
   ]
  },
  {
   "cell_type": "markdown",
   "id": "e09dc58a-7620-4ca7-9253-5f203bdf6e0c",
   "metadata": {},
   "source": [
    "## Missing values"
   ]
  },
  {
   "cell_type": "code",
   "execution_count": 4,
   "id": "fbab9f24-27c9-4e02-b54f-6cd29aede4bd",
   "metadata": {},
   "outputs": [],
   "source": [
    "def identify_missing_values(data: pd.DataFrame) -> Optional[pd.DataFrame]:\n",
    "    \"\"\"Performs missing values computation.\n",
    "\n",
    "    Computes a number and share of missing values\n",
    "    in DataFrame columns which have NaN-values present\n",
    "    and displays data types of such columns.\n",
    "\n",
    "    Args:\n",
    "        data (pd.DataFrame): DataFrame which needs to\n",
    "            be checked for missing values.\n",
    "\n",
    "    Returns:\n",
    "        Optional[pd.DataFrame]: DataFrame with column names, number of\n",
    "        missing values and shares of NaN-values in such columns.\n",
    "        In case there are not missing values present, an according\n",
    "        message is shown and nothing is returned. Additionally, columns\n",
    "        data type is shown.\n",
    "    \"\"\"\n",
    "    # Verifying missing values\n",
    "    miss_vals_num = data.isnull().sum()[data.isnull().sum() > 0]\n",
    "    if miss_vals_num.empty:\n",
    "        print(\"Missing values are not found.\")\n",
    "        return\n",
    "    # Creating a table with numbers of missing values\n",
    "    cols = {\"missing_count\": miss_vals_num.values}\n",
    "    nans_df = pd.DataFrame(data=cols, index=miss_vals_num.index).sort_values(\n",
    "        by=\"missing_count\", ascending=False\n",
    "    )\n",
    "    # Adding shares of missing values\n",
    "    nans_df[\"missing_fraction\"] = nans_df[\"missing_count\"] / data.shape[0]\n",
    "    nans_df[\"missing_fraction\"] = nans_df[\"missing_fraction\"].round(4)\n",
    "    # Adding data types\n",
    "    nans_df[\"dtype\"] = data[nans_df.index].dtypes\n",
    "    nans_df = nans_df[[\"dtype\", \"missing_count\", \"missing_fraction\"]]\n",
    "\n",
    "    return nans_df"
   ]
  },
  {
   "cell_type": "code",
   "execution_count": 5,
   "id": "7d806e95-0413-49a2-94fa-3307b248e044",
   "metadata": {},
   "outputs": [
    {
     "data": {
      "text/html": [
       "<div>\n",
       "<style scoped>\n",
       "    .dataframe tbody tr th:only-of-type {\n",
       "        vertical-align: middle;\n",
       "    }\n",
       "\n",
       "    .dataframe tbody tr th {\n",
       "        vertical-align: top;\n",
       "    }\n",
       "\n",
       "    .dataframe thead th {\n",
       "        text-align: right;\n",
       "    }\n",
       "</style>\n",
       "<table border=\"1\" class=\"dataframe\">\n",
       "  <thead>\n",
       "    <tr style=\"text-align: right;\">\n",
       "      <th></th>\n",
       "      <th>dtype</th>\n",
       "      <th>missing_count</th>\n",
       "      <th>missing_fraction</th>\n",
       "    </tr>\n",
       "  </thead>\n",
       "  <tbody>\n",
       "    <tr>\n",
       "      <th>days_employed</th>\n",
       "      <td>float64</td>\n",
       "      <td>2174</td>\n",
       "      <td>0.101</td>\n",
       "    </tr>\n",
       "    <tr>\n",
       "      <th>total_income</th>\n",
       "      <td>float64</td>\n",
       "      <td>2174</td>\n",
       "      <td>0.101</td>\n",
       "    </tr>\n",
       "  </tbody>\n",
       "</table>\n",
       "</div>"
      ],
      "text/plain": [
       "                 dtype  missing_count  missing_fraction\n",
       "days_employed  float64           2174             0.101\n",
       "total_income   float64           2174             0.101"
      ]
     },
     "execution_count": 5,
     "metadata": {},
     "output_type": "execute_result"
    }
   ],
   "source": [
    "# Computing the number and percentage of missing values in the DataFrame\n",
    "identify_missing_values(data=bank_data)"
   ]
  },
  {
   "cell_type": "markdown",
   "id": "047d75f4-82e2-436a-92a7-75b3a5512e70",
   "metadata": {},
   "source": [
    "We see that there are two columns that contain missing values: `days_employed` and `total_income`. Deal first with the latter column. In order to get rid of missing values, we need to understand what the variable represents. `total_income` stores information about clients' incomes, meaning that the column possesses numeric values. Income is dependent upon type of employment shown in `income_type` and therefore we can fill in missing values with median income relative to a particular employment type."
   ]
  },
  {
   "cell_type": "code",
   "execution_count": 6,
   "id": "6fa7b207-d49a-43d1-913c-47d23430e61c",
   "metadata": {},
   "outputs": [],
   "source": [
    "# Filling in missing values with median in 'total_income' column depending on 'income_type'\n",
    "for inc_type in bank_data[\"income_type\"].unique():\n",
    "    bank_data.loc[\n",
    "        (bank_data[\"income_type\"] == inc_type) & (bank_data[\"total_income\"].isna()),\n",
    "        \"total_income\",\n",
    "    ] = bank_data.loc[(bank_data[\"income_type\"] == inc_type), \"total_income\"].median()"
   ]
  },
  {
   "cell_type": "markdown",
   "id": "8c441297-a782-49e7-9368-6e5fc200f373",
   "metadata": {},
   "source": [
    "## Abnormalities"
   ]
  },
  {
   "cell_type": "markdown",
   "id": "46a03e6f-fd4b-4704-9154-863822047ac7",
   "metadata": {},
   "source": [
    "As can be seen from the data, we have abnormal values found in `days_employed` column: by no means can duration of employment be negative. Thus, we are dealing with abnormalities in the data. We can easily fix this by taking the absolute value of each data point in this column."
   ]
  },
  {
   "cell_type": "code",
   "execution_count": 7,
   "id": "381ed564-9563-4f14-9ffc-6a471799312d",
   "metadata": {},
   "outputs": [],
   "source": [
    "# Converting the data to a correct format\n",
    "bank_data[\"days_employed\"] = np.absolute(bank_data[\"days_employed\"])"
   ]
  },
  {
   "cell_type": "markdown",
   "id": "1810cf1d-1dd7-472c-b585-bcfcbfcf3023",
   "metadata": {},
   "source": [
    "Let's further explore this column and display median employment duration in relation to employment type."
   ]
  },
  {
   "cell_type": "code",
   "execution_count": 8,
   "id": "41f78e27-96eb-45f1-824e-8c506e486de9",
   "metadata": {},
   "outputs": [
    {
     "data": {
      "text/plain": [
       "income_type\n",
       "безработный        366413.652744\n",
       "в декрете            3296.759962\n",
       "госслужащий          2689.368353\n",
       "компаньон            1547.382223\n",
       "пенсионер          365213.306266\n",
       "предприниматель       520.848083\n",
       "сотрудник            1574.202821\n",
       "студент               578.751554\n",
       "Name: days_employed, dtype: float64"
      ]
     },
     "execution_count": 8,
     "metadata": {},
     "output_type": "execute_result"
    }
   ],
   "source": [
    "# Displaying median values\n",
    "bank_data.groupby(\"income_type\")[\"days_employed\"].agg(\"median\")"
   ]
  },
  {
   "cell_type": "markdown",
   "id": "863d2a00-abb7-40f9-a7d1-2c468145564f",
   "metadata": {},
   "source": [
    "We see that some income types, specifically, unemployed (`безработный`) and retired (`пенсионер`) have unusually high values. It is difficult to deal with this kind of abnormalities and since this column will be very informative to use in the subsequent analysis, we just leave the data as it is here."
   ]
  },
  {
   "cell_type": "markdown",
   "id": "be493414-0c8e-4fb1-866d-523bd91befeb",
   "metadata": {},
   "source": [
    "Now, display the possible unique numbers of children that borrowers have."
   ]
  },
  {
   "cell_type": "code",
   "execution_count": 9,
   "id": "8db5aa06-ce2b-4725-9974-9931b55fb3f7",
   "metadata": {},
   "outputs": [
    {
     "name": "stdout",
     "output_type": "stream",
     "text": [
      "[-1  0  1  2  3  4  5 20]\n"
     ]
    }
   ],
   "source": [
    "print(bank_data[\"children\"].sort_values().unique())"
   ]
  },
  {
   "cell_type": "markdown",
   "id": "2dc23c5d-4d67-42ea-84f9-c974d9e11db8",
   "metadata": {},
   "source": [
    "It is clearly seen that there are two impossible values: 20 and -1. Let's get rid of them."
   ]
  },
  {
   "cell_type": "code",
   "execution_count": 10,
   "id": "ef7fd26a-f998-4cf5-bba4-d8ceb4bb1aa1",
   "metadata": {},
   "outputs": [
    {
     "name": "stdout",
     "output_type": "stream",
     "text": [
      "[0 1 2 3 4 5]\n"
     ]
    }
   ],
   "source": [
    "# Getting rid of abnormal values\n",
    "bank_data = bank_data[bank_data[\"children\"].between(0, 5)]\n",
    "print(bank_data[\"children\"].sort_values().unique())"
   ]
  },
  {
   "cell_type": "markdown",
   "id": "3674a298-e147-4fd7-936d-17547dccf890",
   "metadata": {},
   "source": [
    "## Missing values (cont.)"
   ]
  },
  {
   "cell_type": "markdown",
   "id": "d940b56a-2c21-4401-9b91-927e5d6d978a",
   "metadata": {},
   "source": [
    "Now we can fill in missing values in `days_employed` column with their median values depending on income type."
   ]
  },
  {
   "cell_type": "code",
   "execution_count": 11,
   "id": "6159e4a9-9751-4ec2-9d04-0ab736d6bb09",
   "metadata": {},
   "outputs": [],
   "source": [
    "# Filling in missing values with median in 'days_employed' column depending on 'income_type'\n",
    "for inc_type in bank_data[\"income_type\"].unique():\n",
    "    bank_data.loc[\n",
    "        (bank_data[\"income_type\"] == inc_type) & (bank_data[\"days_employed\"].isna()),\n",
    "        \"days_employed\",\n",
    "    ] = bank_data.loc[(bank_data[\"income_type\"] == inc_type), \"days_employed\"].median()"
   ]
  },
  {
   "cell_type": "code",
   "execution_count": 12,
   "id": "be53603b-2bc0-45ea-82ab-9e02581f4f47",
   "metadata": {},
   "outputs": [
    {
     "name": "stdout",
     "output_type": "stream",
     "text": [
      "Missing values are not found.\n"
     ]
    }
   ],
   "source": [
    "identify_missing_values(data=bank_data)"
   ]
  },
  {
   "cell_type": "markdown",
   "id": "0a9b81f7-3889-46bf-ab70-b3427b5f60c8",
   "metadata": {},
   "source": [
    "## Data type changes"
   ]
  },
  {
   "cell_type": "markdown",
   "id": "82f112f0-5fdb-4421-b9b6-6df933c62db1",
   "metadata": {},
   "source": [
    "Let's change the data in `total_income` column from `float64` to `int64` for convenience. "
   ]
  },
  {
   "cell_type": "code",
   "execution_count": 13,
   "id": "e88d4d85-9e04-4b86-9c12-2d662ddc4c0e",
   "metadata": {},
   "outputs": [],
   "source": [
    "bank_data[\"total_income\"] = bank_data[\"total_income\"].astype(\"int64\")"
   ]
  },
  {
   "cell_type": "markdown",
   "id": "9ed8b0b4-1d88-47e5-9d40-6f330603546e",
   "metadata": {},
   "source": [
    "## Duplicates"
   ]
  },
  {
   "cell_type": "markdown",
   "id": "d29658d6-4f5f-4c8e-a068-5a916a822987",
   "metadata": {},
   "source": [
    "We have some implicit duplicates in `education` column, specifically, using both capital and small letters to write down the same education level. Thus, let's convert all values in this column to strings with lowercase letters."
   ]
  },
  {
   "cell_type": "code",
   "execution_count": 14,
   "id": "c6f70eb0-347d-4e85-9827-f9bb9a7fe815",
   "metadata": {},
   "outputs": [],
   "source": [
    "bank_data[\"education\"] = bank_data[\"education\"].str.lower()"
   ]
  },
  {
   "cell_type": "markdown",
   "id": "2035acad-9762-46ed-b64b-32fc8cee9e30",
   "metadata": {},
   "source": [
    "Now, we can take a look how many explicit duplicates (identical DataFrame rows) we have."
   ]
  },
  {
   "cell_type": "code",
   "execution_count": 15,
   "id": "fbdc1eda-f4ca-48af-9503-9b18e1c2034b",
   "metadata": {},
   "outputs": [],
   "source": [
    "def preprocess_duplicates(data: pd.DataFrame) -> None:\n",
    "    \"\"\"Computes and deletes all duplicates in the DataFrame.\"\"\"\n",
    "    num_duplicates = data.duplicated().sum()\n",
    "    if num_duplicates != 0:\n",
    "        data.drop_duplicates(inplace=True)\n",
    "        print(f\"{num_duplicates:,} duplicates found and deleted.\")\n",
    "        return\n",
    "    print(\"No duplicates found.\")"
   ]
  },
  {
   "cell_type": "code",
   "execution_count": 16,
   "id": "2fc7d01c-63df-4654-95e9-45b16418fde6",
   "metadata": {},
   "outputs": [
    {
     "name": "stdout",
     "output_type": "stream",
     "text": [
      "71 duplicates found and deleted.\n"
     ]
    }
   ],
   "source": [
    "preprocess_duplicates(data=bank_data)"
   ]
  },
  {
   "cell_type": "markdown",
   "id": "7117cf4a-c6d1-4687-9b65-5d544ff511cf",
   "metadata": {},
   "source": [
    "## Data categorization"
   ]
  },
  {
   "cell_type": "markdown",
   "id": "59ab2130-677e-495b-b62c-1d1286a1de4c",
   "metadata": {},
   "source": [
    "### Income"
   ]
  },
  {
   "cell_type": "markdown",
   "id": "9f7705d9-850d-4e8f-8ec3-1302a0ed6454",
   "metadata": {},
   "source": [
    "To make further data analysis more convenient, let's create a categorical variable that will classify clients' incomes (in roubles) according to the following ranges:\n",
    "\n",
    "* 0-30,000 => `E`\n",
    "* 30,001-50,000 => `D`\n",
    "* 50,001-200,000 => `C`\n",
    "* 200,001-1,000,000 => `B`\n",
    "* 1,000,001 and higher => `A`\n",
    "\n",
    "For instance, a borrower with monthly income of, say, 200500 roubles will be put in `B` income category. We can easily program such a categorization by using `cut()` function of `pandas` library in order to be able to categorize the data in `total_income` column in accordance with ranges and income group identifiers defined above."
   ]
  },
  {
   "cell_type": "code",
   "execution_count": 17,
   "id": "065499e8-095b-410e-b005-feca6e8081fd",
   "metadata": {},
   "outputs": [
    {
     "name": "stdout",
     "output_type": "stream",
     "text": [
      "['A' 'B' 'C' 'D' 'E']\n"
     ]
    }
   ],
   "source": [
    "# Classifying into income groups\n",
    "bank_data[\"total_income_category\"] = pd.cut(\n",
    "    bank_data[\"total_income\"],\n",
    "    bins=[0, 30000, 50000, 200000, 1000000, np.max(bank_data[\"total_income\"])],\n",
    "    labels=[\"E\", \"D\", \"C\", \"B\", \"A\"],\n",
    ")\n",
    "\n",
    "bank_data[\"total_income_category\"] = bank_data[\"total_income_category\"].astype(\"object\")\n",
    "print(bank_data[\"total_income_category\"].sort_values().unique())"
   ]
  },
  {
   "cell_type": "markdown",
   "id": "ef29682e-4a58-45b3-862d-74259434d5f8",
   "metadata": {},
   "source": [
    "### Loan purpose"
   ]
  },
  {
   "cell_type": "markdown",
   "id": "efdf2b40-575d-47b6-8730-1c2c0cf7d693",
   "metadata": {},
   "source": [
    "Next, consider possible purposes that clients taking out loans may have."
   ]
  },
  {
   "cell_type": "code",
   "execution_count": 18,
   "id": "47820dfa-f41a-457c-a77f-8034f190f3b6",
   "metadata": {},
   "outputs": [
    {
     "name": "stdout",
     "output_type": "stream",
     "text": [
      "['автомобили' 'автомобиль' 'высшее образование'\n",
      " 'дополнительное образование' 'жилье' 'заняться высшим образованием'\n",
      " 'заняться образованием' 'на покупку автомобиля'\n",
      " 'на покупку подержанного автомобиля' 'на покупку своего автомобиля'\n",
      " 'на проведение свадьбы' 'недвижимость' 'образование' 'операции с жильем'\n",
      " 'операции с коммерческой недвижимостью' 'операции с недвижимостью'\n",
      " 'операции со своей недвижимостью' 'покупка жилой недвижимости'\n",
      " 'покупка жилья' 'покупка жилья для сдачи' 'покупка жилья для семьи'\n",
      " 'покупка коммерческой недвижимости' 'покупка недвижимости'\n",
      " 'покупка своего жилья' 'получение высшего образования'\n",
      " 'получение дополнительного образования' 'получение образования'\n",
      " 'приобретение автомобиля' 'профильное образование' 'ремонт жилью'\n",
      " 'свадьба' 'свой автомобиль' 'сделка с автомобилем'\n",
      " 'сделка с подержанным автомобилем' 'строительство жилой недвижимости'\n",
      " 'строительство недвижимости' 'строительство собственной недвижимости'\n",
      " 'сыграть свадьбу']\n"
     ]
    }
   ],
   "source": [
    "# Printing unique purposes of taking a loan\n",
    "print(bank_data[\"purpose\"].sort_values().unique())"
   ]
  },
  {
   "cell_type": "markdown",
   "id": "f24becf7-e1ac-4a8d-a946-bfe47050f784",
   "metadata": {},
   "source": [
    "We can see that it seems that there are lost of reasons for taking out loans in a bank, including real estate (`жилье`), buying a car (`автомобиль`), wedding (`свадьба`) and education (`образование`). But, in fact, all these purposes are simply written differently but actually refer to similar things. Hence, it is possible to also classify all these reasons into purpose categories. In order to accomplish this, we can use `categorize_purpose()` function we define below and use `apply()` method on it. Specifically, we will check if the word stem of a loan purpose (`жилье`, `автомобиль`, `свадьба` or `образование`) is included into the full purpose of taking out a loan and then classify these purposes accordingly into 4 categories:\n",
    "\n",
    "* `Car`\n",
    "* `Real estate`\n",
    "* `Wedding`\n",
    "* `Education`\n",
    "\n",
    "Purposes that are different from these will be allocated to `Other`."
   ]
  },
  {
   "cell_type": "code",
   "execution_count": 19,
   "id": "511e869a-d79a-4e90-aaea-f61207ccafb1",
   "metadata": {},
   "outputs": [],
   "source": [
    "def categorize_purpose(loan_purpose: str) -> str:\n",
    "    \"\"\"Classifies people into loan purpose categories depending on loan purpose.\"\"\"\n",
    "    loan_purpose = loan_purpose.lower()\n",
    "    if \"автом\" in loan_purpose:\n",
    "        return \"Car\"\n",
    "    elif \"жил\" in loan_purpose or \"недвиж\" in loan_purpose:\n",
    "        return \"Real estate\"\n",
    "    elif \"свад\" in loan_purpose:\n",
    "        return \"Wedding\"\n",
    "    elif \"образов\" in loan_purpose:\n",
    "        return \"Education\"\n",
    "    else:\n",
    "        return \"Other\""
   ]
  },
  {
   "cell_type": "code",
   "execution_count": 20,
   "id": "00505082-73eb-4da1-a361-6040733a9d19",
   "metadata": {},
   "outputs": [
    {
     "name": "stdout",
     "output_type": "stream",
     "text": [
      "['Car' 'Education' 'Real estate' 'Wedding']\n"
     ]
    }
   ],
   "source": [
    "# Applying the function to the DataFrame column\n",
    "bank_data[\"purpose_category\"] = bank_data[\"purpose\"].apply(categorize_purpose)\n",
    "print(bank_data[\"purpose_category\"].sort_values().unique())"
   ]
  },
  {
   "cell_type": "markdown",
   "id": "a06ea14d-6dcd-4ffb-8c79-70d3fc9f44dc",
   "metadata": {},
   "source": [
    "### Family status"
   ]
  },
  {
   "cell_type": "markdown",
   "id": "03a1164a-ab1a-4ab2-b066-bee3bb27233b",
   "metadata": {},
   "source": [
    "Let's use the same logic and categorize family statuses into 5 categories:\n",
    "\n",
    "* `Unmarried`\n",
    "* `Divorced`\n",
    "* `Widow(er)`\n",
    "* `Civil` => civil marriage\n",
    "* `Married`\n",
    "\n",
    "It can be achieved by using another defined function - `categorize_family_status()`."
   ]
  },
  {
   "cell_type": "code",
   "execution_count": 21,
   "id": "96e33229-4831-4d01-9142-0b5d922c5563",
   "metadata": {},
   "outputs": [],
   "source": [
    "def categorize_family_status(family_status: str) -> str:\n",
    "    \"\"\"Classifies people into family status categories depending on family status.\"\"\"\n",
    "    family_status = family_status.lower()\n",
    "    if \"не жен\" in family_status or \"не замуж\" in family_status:\n",
    "        return \"Unmarried\"\n",
    "    elif \"разв\" in family_status:\n",
    "        return \"Divorced\"\n",
    "    elif \"вдов\" in family_status:\n",
    "        return \"Widow(er)\"\n",
    "    elif \"гражд\" in family_status:\n",
    "        return \"Civil\"\n",
    "    elif \"жен\" in family_status or \"замуж\" in family_status:\n",
    "        return \"Married\"\n",
    "    else:\n",
    "        return \"Other\""
   ]
  },
  {
   "cell_type": "code",
   "execution_count": 22,
   "id": "5a15d40a-fac6-4554-b65c-3b2fa64b1c4f",
   "metadata": {},
   "outputs": [
    {
     "name": "stdout",
     "output_type": "stream",
     "text": [
      "['Не женат / не замужем' 'в разводе' 'вдовец / вдова' 'гражданский брак'\n",
      " 'женат / замужем']\n"
     ]
    }
   ],
   "source": [
    "print(bank_data[\"family_status\"].sort_values().unique())"
   ]
  },
  {
   "cell_type": "code",
   "execution_count": 23,
   "id": "31cb872c-121a-4179-b33a-97c4b272fa29",
   "metadata": {},
   "outputs": [
    {
     "name": "stdout",
     "output_type": "stream",
     "text": [
      "['Civil' 'Divorced' 'Married' 'Unmarried' 'Widow(er)']\n"
     ]
    }
   ],
   "source": [
    "bank_data[\"family_status_category\"] = bank_data[\"family_status\"].apply(\n",
    "    categorize_family_status\n",
    ")\n",
    "print(bank_data[\"family_status_category\"].sort_values().unique())"
   ]
  },
  {
   "cell_type": "markdown",
   "id": "6f705762-6d4b-468d-a9da-f601198c90b5",
   "metadata": {},
   "source": [
    "**Conclusion**\n",
    "\n",
    "We have managed to properly preprocess data by dealing with missing and abnormal values, changing the format of data and deleting duplicates, both expicit and implicit. \n",
    "\n",
    "Omissions in the source data were noted in the columns `days_employed` and `total_income`. One possible reason for missing data may be the failure of an automated system for collecting information about borrowers. For example, when a borrower specifies information about themselves in a form on a website and does not specify some information, the website may not notice this and simply send the information further (if the programmer forgot to make some cells mandatory). Another reason may be a purely human factor: if a borrower comes to the bank and tells the bank employee information about themselves, an employee may simply make a mistake in something and forget to specify the data, which will result in the appearance of `NaN` values in the data.\n",
    "\n",
    "Besides, we have managed to fill in missing values by using a median. As a rule, there are \"outliers\" in quantitative variables - values that are very different from other values in a particular column. The use of average values can distort the data in this case and in order to avoid this, a median is used, which will take into account such sharply distinguished values and will not exaggerate the estimate of the missing value.\n",
    "\n",
    "Next step is to actually start conducting creditworthiness analysis itself."
   ]
  },
  {
   "cell_type": "markdown",
   "id": "a67bdc8e-7448-4475-ab62-52e4c309e72f",
   "metadata": {},
   "source": [
    "# Solvency determinants analysis"
   ]
  },
  {
   "cell_type": "markdown",
   "id": "56255c8f-8c6f-4a1d-b8f5-cd809bff9bfa",
   "metadata": {},
   "source": [
    "Now that the data has been preprocessed, we can get to analyzing possible factors that determine the ability of bank's clients to repay a loan on time. We will conduct the analysis by considering multiple features:\n",
    "\n",
    "    1. Number of children. \n",
    "    2. Family status.\n",
    "    3. Total income. \n",
    "    4. Purpose of a loan. \n",
    "    \n",
    "We will compute some descriptive statistics about the borrowers. In order not to repeat the code over and over again, let's use `show_solvency_by_cat()` that will calculate the number of borrowers, including those in debt and those who repaid the loan, as well as the share of people who do not have debt, depending on a specific feature of the bank clients. "
   ]
  },
  {
   "cell_type": "code",
   "execution_count": 24,
   "id": "8477e5c1-26fe-485e-8f20-f1f8110f1a0f",
   "metadata": {},
   "outputs": [],
   "source": [
    "def show_solvency_by_cat(feature: str, data: pd.DataFrame) -> pd.DataFrame:\n",
    "    \"\"\"\n",
    "    Displays solvency statistics for borrowers by category\n",
    "    of a feature.\n",
    "\n",
    "    Args:\n",
    "        feature (str): Characteristic of borrowers.\n",
    "        data (pd.DataFrame): Bank clients' data.\n",
    "\n",
    "    Returns:\n",
    "        pd.DataFrame: Object with solvency statistics for\n",
    "        each unique element of feature.\n",
    "    \"\"\"\n",
    "    data_grouped = data.groupby(feature).agg({\"debt\": [\"count\", \"sum\"]})\n",
    "\n",
    "    # Number of borrowers who managed to repay on time\n",
    "    data_grouped[\"no_debt\"] = (\n",
    "        data_grouped[\"debt\"][\"count\"] - data_grouped[\"debt\"][\"sum\"]\n",
    "    )\n",
    "\n",
    "    # Computing debt repayment ratio\n",
    "    data_grouped[\"no_debt_share\"] = np.round(\n",
    "        data_grouped[\"no_debt\"] / data_grouped[\"debt\"][\"count\"], 4\n",
    "    )\n",
    "\n",
    "    # Getting rid of multiindex\n",
    "    data_grouped.columns = [\n",
    "        \"total_borrowers\",\n",
    "        \"has_debt\",\n",
    "        \"no_debt\",\n",
    "        \"repay_ratio\",\n",
    "    ]\n",
    "\n",
    "    solvency_info = data_grouped.copy()\n",
    "\n",
    "    return solvency_info"
   ]
  },
  {
   "cell_type": "markdown",
   "id": "e87f0034-d571-4f99-8bc2-83fb2ec3bc0f",
   "metadata": {},
   "source": [
    "Since reading statistics in a DataFrame may sometimes be inconvenient, let's add visualization part here as well. Hence, we will make figures by `plot_solvency_by_cat()` function that will create a set of subplots for each category of a specific feature."
   ]
  },
  {
   "cell_type": "code",
   "execution_count": 25,
   "id": "36dd9f4c-2a4e-4566-ae23-fa4eed0697b7",
   "metadata": {},
   "outputs": [],
   "source": [
    "def plot_solvency_by_cat(feature: str, data: pd.DataFrame) -> Any:\n",
    "    \"\"\"\n",
    "    Plots solvency statistics for borrowers by category\n",
    "    of feature.\n",
    "\n",
    "    Creates two plots:\n",
    "        - Left one depicts the number of borrowers who repayed\n",
    "            and did not repay the loan for each category within feature.\n",
    "        - Right plot shows debt repayment ratios for each category of\n",
    "            clients within feature.\n",
    "\n",
    "    Args:\n",
    "        feature (str): Characteristic of borrowers.\n",
    "        data (pd.DataFrame): Bank clients' data.\n",
    "    \"\"\"\n",
    "    fig, axes = plt.subplots(1, 2, figsize=(10, 5))\n",
    "    fig.suptitle(f\"Solvency of clients by {feature}\")\n",
    "\n",
    "    # Plotting the number of borrowers\n",
    "    figure_left = sns.barplot(\n",
    "        x=feature,\n",
    "        y=\"debt\",\n",
    "        data=data,\n",
    "        estimator=lambda x: len(x),\n",
    "        ci=None,\n",
    "        hue=\"debt\",\n",
    "        ax=axes[0],\n",
    "    )\n",
    "    axes[0].legend(title=\"Status\", loc=\"upper right\", labels=[\"Repaid\", \"In debt\"])\n",
    "    axes[0].set_title(\"Number of borrowers by categories\")\n",
    "    axes[0].set_ylabel(\"People\")\n",
    "\n",
    "    # Plotting the debt repayment ratio\n",
    "    figure_right = sns.barplot(\n",
    "        x=feature,\n",
    "        y=\"debt\",\n",
    "        data=data,\n",
    "        estimator=lambda x: 100 - sum(x) / len(x) * 100,\n",
    "        ci=None,\n",
    "        ax=axes[1],\n",
    "        color=\"dodgerblue\",\n",
    "    )\n",
    "    axes[1].set_title(\"Repayment rate by categories\")\n",
    "    axes[1].set_ylabel(\"Percent\")\n",
    "\n",
    "    # Responsively setting y-limits for the right plot\n",
    "    repay_rate = (\n",
    "        data.groupby(feature)[\"debt\"].sum() / data.groupby(feature)[\"debt\"].count()\n",
    "    )\n",
    "    lower_bound = (100 - 100 * np.max(repay_rate)) - 0.5\n",
    "    upper_bound = (100 - 100 * np.min(repay_rate)) + 0.5\n",
    "    axes[1].set_ylim(lower_bound, upper_bound)\n",
    "\n",
    "    plt.tight_layout()"
   ]
  },
  {
   "cell_type": "markdown",
   "id": "ec90d48a-1765-4aeb-9a80-59a69ff826ea",
   "metadata": {},
   "source": [
    "## Number of children"
   ]
  },
  {
   "cell_type": "code",
   "execution_count": 26,
   "id": "48f492ba-9b23-4be8-9c79-f11a08a6dc28",
   "metadata": {},
   "outputs": [
    {
     "data": {
      "text/plain": [
       "0    14091\n",
       "1     4808\n",
       "2     2052\n",
       "3      330\n",
       "4       41\n",
       "5        9\n",
       "Name: children, dtype: int64"
      ]
     },
     "execution_count": 26,
     "metadata": {},
     "output_type": "execute_result"
    }
   ],
   "source": [
    "# Computing the number of borrowers in each children group\n",
    "bank_data[\"children\"].value_counts()"
   ]
  },
  {
   "cell_type": "markdown",
   "id": "37e708b4-0102-4e6b-b51d-bbae1bb9af1e",
   "metadata": {},
   "source": [
    "To begin with, let's calculate the total number of borrowers by the number of children using `value_counts()` method in the `children` column. It can be seen that the number of borrowers broken down by each group varies quite widely, which suggests that people with a large number of children do not take out loans so often."
   ]
  },
  {
   "cell_type": "code",
   "execution_count": 27,
   "id": "88216832-a616-4114-998f-160af0318a8a",
   "metadata": {},
   "outputs": [
    {
     "data": {
      "text/html": [
       "<div>\n",
       "<style scoped>\n",
       "    .dataframe tbody tr th:only-of-type {\n",
       "        vertical-align: middle;\n",
       "    }\n",
       "\n",
       "    .dataframe tbody tr th {\n",
       "        vertical-align: top;\n",
       "    }\n",
       "\n",
       "    .dataframe thead th {\n",
       "        text-align: right;\n",
       "    }\n",
       "</style>\n",
       "<table border=\"1\" class=\"dataframe\">\n",
       "  <thead>\n",
       "    <tr style=\"text-align: right;\">\n",
       "      <th></th>\n",
       "      <th>total_borrowers</th>\n",
       "      <th>has_debt</th>\n",
       "      <th>no_debt</th>\n",
       "      <th>repay_ratio</th>\n",
       "    </tr>\n",
       "    <tr>\n",
       "      <th>children</th>\n",
       "      <th></th>\n",
       "      <th></th>\n",
       "      <th></th>\n",
       "      <th></th>\n",
       "    </tr>\n",
       "  </thead>\n",
       "  <tbody>\n",
       "    <tr>\n",
       "      <th>0</th>\n",
       "      <td>14091</td>\n",
       "      <td>1063</td>\n",
       "      <td>13028</td>\n",
       "      <td>0.9246</td>\n",
       "    </tr>\n",
       "    <tr>\n",
       "      <th>1</th>\n",
       "      <td>4808</td>\n",
       "      <td>444</td>\n",
       "      <td>4364</td>\n",
       "      <td>0.9077</td>\n",
       "    </tr>\n",
       "    <tr>\n",
       "      <th>2</th>\n",
       "      <td>2052</td>\n",
       "      <td>194</td>\n",
       "      <td>1858</td>\n",
       "      <td>0.9055</td>\n",
       "    </tr>\n",
       "    <tr>\n",
       "      <th>3</th>\n",
       "      <td>330</td>\n",
       "      <td>27</td>\n",
       "      <td>303</td>\n",
       "      <td>0.9182</td>\n",
       "    </tr>\n",
       "    <tr>\n",
       "      <th>4</th>\n",
       "      <td>41</td>\n",
       "      <td>4</td>\n",
       "      <td>37</td>\n",
       "      <td>0.9024</td>\n",
       "    </tr>\n",
       "    <tr>\n",
       "      <th>5</th>\n",
       "      <td>9</td>\n",
       "      <td>0</td>\n",
       "      <td>9</td>\n",
       "      <td>1.0000</td>\n",
       "    </tr>\n",
       "  </tbody>\n",
       "</table>\n",
       "</div>"
      ],
      "text/plain": [
       "          total_borrowers  has_debt  no_debt  repay_ratio\n",
       "children                                                 \n",
       "0                   14091      1063    13028       0.9246\n",
       "1                    4808       444     4364       0.9077\n",
       "2                    2052       194     1858       0.9055\n",
       "3                     330        27      303       0.9182\n",
       "4                      41         4       37       0.9024\n",
       "5                       9         0        9       1.0000"
      ]
     },
     "metadata": {},
     "output_type": "display_data"
    }
   ],
   "source": [
    "solvency_children = show_solvency_by_cat(feature=\"children\", data=bank_data)\n",
    "display(solvency_children)"
   ]
  },
  {
   "cell_type": "code",
   "execution_count": 28,
   "id": "af6300fb-964f-4497-be82-01853387cb70",
   "metadata": {},
   "outputs": [
    {
     "data": {
      "image/png": "[encoded data removed]",
      "text/plain": [
       "<Figure size 1000x500 with 2 Axes>"
      ]
     },
     "metadata": {},
     "output_type": "display_data"
    }
   ],
   "source": [
    "sns.set_theme(style=\"darkgrid\")\n",
    "plot_solvency_by_cat(feature=\"children\", data=bank_data)"
   ]
  },
  {
   "cell_type": "markdown",
   "id": "bdb50df9-2286-4788-abdf-f8a1f5ef4613",
   "metadata": {},
   "source": [
    "Let's look at the data from the bank's point of view and use as a metric of loan repayment on time - \"the proportion of people who have paid off a loan on time in a certain group\" (`repay_ratio`). It can be seen that samples of borrowers with three or more children do not have many observations, especially for a group of people with five children. In other words, such samples are not representative enough and therefore it makes sense to compare samples with 0, 1 and 2 children only."
   ]
  },
  {
   "cell_type": "code",
   "execution_count": 29,
   "id": "759b5944-9d29-43e6-90f3-e57f1cb4504c",
   "metadata": {},
   "outputs": [
    {
     "data": {
      "text/html": [
       "<div>\n",
       "<style scoped>\n",
       "    .dataframe tbody tr th:only-of-type {\n",
       "        vertical-align: middle;\n",
       "    }\n",
       "\n",
       "    .dataframe tbody tr th {\n",
       "        vertical-align: top;\n",
       "    }\n",
       "\n",
       "    .dataframe thead th {\n",
       "        text-align: right;\n",
       "    }\n",
       "</style>\n",
       "<table border=\"1\" class=\"dataframe\">\n",
       "  <thead>\n",
       "    <tr style=\"text-align: right;\">\n",
       "      <th></th>\n",
       "      <th>total_borrowers</th>\n",
       "      <th>has_debt</th>\n",
       "      <th>no_debt</th>\n",
       "      <th>repay_ratio</th>\n",
       "    </tr>\n",
       "    <tr>\n",
       "      <th>children</th>\n",
       "      <th></th>\n",
       "      <th></th>\n",
       "      <th></th>\n",
       "      <th></th>\n",
       "    </tr>\n",
       "  </thead>\n",
       "  <tbody>\n",
       "    <tr>\n",
       "      <th>0</th>\n",
       "      <td>14091</td>\n",
       "      <td>1063</td>\n",
       "      <td>13028</td>\n",
       "      <td>0.9246</td>\n",
       "    </tr>\n",
       "    <tr>\n",
       "      <th>1</th>\n",
       "      <td>4808</td>\n",
       "      <td>444</td>\n",
       "      <td>4364</td>\n",
       "      <td>0.9077</td>\n",
       "    </tr>\n",
       "    <tr>\n",
       "      <th>2</th>\n",
       "      <td>2052</td>\n",
       "      <td>194</td>\n",
       "      <td>1858</td>\n",
       "      <td>0.9055</td>\n",
       "    </tr>\n",
       "  </tbody>\n",
       "</table>\n",
       "</div>"
      ],
      "text/plain": [
       "          total_borrowers  has_debt  no_debt  repay_ratio\n",
       "children                                                 \n",
       "0                   14091      1063    13028       0.9246\n",
       "1                    4808       444     4364       0.9077\n",
       "2                    2052       194     1858       0.9055"
      ]
     },
     "execution_count": 29,
     "metadata": {},
     "output_type": "execute_result"
    }
   ],
   "source": [
    "# Printing a table for subsamples of borrowers with 0, 1, 2 children\n",
    "solvency_children.loc[solvency_children[\"total_borrowers\"] > 2000].sort_values(\n",
    "    by=\"repay_ratio\", ascending=False\n",
    ")"
   ]
  },
  {
   "cell_type": "markdown",
   "id": "365332e3-d16f-4d9d-a33d-4b1cac2e4ebb",
   "metadata": {},
   "source": [
    "Considering this grouping, it is obvious that with a larger number of children, the probability of repayment of the loan decreases: childless borrowers repay the loan on time in about 92.5% of cases, while for borrowers with a large number of children, this indicator is in the region of 90-91%. In other words, the repayment of the loan on time has an inverse relationship with the number of children of the borrower."
   ]
  },
  {
   "cell_type": "markdown",
   "id": "a71290f3-0add-4cae-a0ef-ee1246d59dfb",
   "metadata": {},
   "source": [
    "## Family status"
   ]
  },
  {
   "cell_type": "code",
   "execution_count": 30,
   "id": "c0759f35-d06b-48db-b463-859b2a440ffc",
   "metadata": {},
   "outputs": [
    {
     "data": {
      "text/plain": [
       "Married      12261\n",
       "Civil         4134\n",
       "Unmarried     2796\n",
       "Divorced      1189\n",
       "Widow(er)      951\n",
       "Name: family_status_category, dtype: int64"
      ]
     },
     "execution_count": 30,
     "metadata": {},
     "output_type": "execute_result"
    }
   ],
   "source": [
    "# Computing the number of borrowers in each group by family status\n",
    "bank_data[\"family_status_category\"].value_counts()"
   ]
  },
  {
   "cell_type": "markdown",
   "id": "e2155fbc-cb51-4b5d-b394-7932c51acd5c",
   "metadata": {},
   "source": [
    "Let's apply the same strategy and look at the number of borrowers by marital status. Mostly loans are taken by people who are married, and least of all by borrowers without official relations - widower/widow and divorced. However, this does not mean that people who take out loans less often pay less on time."
   ]
  },
  {
   "cell_type": "code",
   "execution_count": 31,
   "id": "49e1fb85-9afb-4f58-bac4-9b59401b2439",
   "metadata": {},
   "outputs": [
    {
     "data": {
      "text/html": [
       "<div>\n",
       "<style scoped>\n",
       "    .dataframe tbody tr th:only-of-type {\n",
       "        vertical-align: middle;\n",
       "    }\n",
       "\n",
       "    .dataframe tbody tr th {\n",
       "        vertical-align: top;\n",
       "    }\n",
       "\n",
       "    .dataframe thead th {\n",
       "        text-align: right;\n",
       "    }\n",
       "</style>\n",
       "<table border=\"1\" class=\"dataframe\">\n",
       "  <thead>\n",
       "    <tr style=\"text-align: right;\">\n",
       "      <th></th>\n",
       "      <th>total_borrowers</th>\n",
       "      <th>has_debt</th>\n",
       "      <th>no_debt</th>\n",
       "      <th>repay_ratio</th>\n",
       "    </tr>\n",
       "    <tr>\n",
       "      <th>family_status_category</th>\n",
       "      <th></th>\n",
       "      <th></th>\n",
       "      <th></th>\n",
       "      <th></th>\n",
       "    </tr>\n",
       "  </thead>\n",
       "  <tbody>\n",
       "    <tr>\n",
       "      <th>Civil</th>\n",
       "      <td>4134</td>\n",
       "      <td>385</td>\n",
       "      <td>3749</td>\n",
       "      <td>0.9069</td>\n",
       "    </tr>\n",
       "    <tr>\n",
       "      <th>Divorced</th>\n",
       "      <td>1189</td>\n",
       "      <td>84</td>\n",
       "      <td>1105</td>\n",
       "      <td>0.9294</td>\n",
       "    </tr>\n",
       "    <tr>\n",
       "      <th>Married</th>\n",
       "      <td>12261</td>\n",
       "      <td>927</td>\n",
       "      <td>11334</td>\n",
       "      <td>0.9244</td>\n",
       "    </tr>\n",
       "    <tr>\n",
       "      <th>Unmarried</th>\n",
       "      <td>2796</td>\n",
       "      <td>273</td>\n",
       "      <td>2523</td>\n",
       "      <td>0.9024</td>\n",
       "    </tr>\n",
       "    <tr>\n",
       "      <th>Widow(er)</th>\n",
       "      <td>951</td>\n",
       "      <td>63</td>\n",
       "      <td>888</td>\n",
       "      <td>0.9338</td>\n",
       "    </tr>\n",
       "  </tbody>\n",
       "</table>\n",
       "</div>"
      ],
      "text/plain": [
       "                        total_borrowers  has_debt  no_debt  repay_ratio\n",
       "family_status_category                                                 \n",
       "Civil                              4134       385     3749       0.9069\n",
       "Divorced                           1189        84     1105       0.9294\n",
       "Married                           12261       927    11334       0.9244\n",
       "Unmarried                          2796       273     2523       0.9024\n",
       "Widow(er)                           951        63      888       0.9338"
      ]
     },
     "metadata": {},
     "output_type": "display_data"
    }
   ],
   "source": [
    "solvency_family_status = show_solvency_by_cat(\n",
    "    feature=\"family_status_category\", data=bank_data\n",
    ")\n",
    "display(solvency_family_status)"
   ]
  },
  {
   "cell_type": "code",
   "execution_count": 32,
   "id": "dd5f4a92-6298-4cfc-a7b4-e27443397379",
   "metadata": {},
   "outputs": [
    {
     "data": {
      "image/png": "[encoded data removed]",
      "text/plain": [
       "<Figure size 1000x500 with 2 Axes>"
      ]
     },
     "metadata": {},
     "output_type": "display_data"
    }
   ],
   "source": [
    "plot_solvency_by_cat(feature=\"family_status_category\", data=bank_data)"
   ]
  },
  {
   "cell_type": "markdown",
   "id": "13f93198-8063-44a6-82a4-403b481042d2",
   "metadata": {},
   "source": [
    "As in the previous point, the number of observations in each sample has a fairly strong influence on the results of the study, since a smaller sample will absorb less information, thus distorting them. Therefore, in this case it makes sense to consider categories that include, say, more than 2000 people. Thus, we will exclude the categories of widower/widows and divorced from the analysis and consider others."
   ]
  },
  {
   "cell_type": "code",
   "execution_count": 33,
   "id": "1caa431f-b280-428a-9fe2-8680c21a3a9e",
   "metadata": {},
   "outputs": [
    {
     "data": {
      "text/html": [
       "<div>\n",
       "<style scoped>\n",
       "    .dataframe tbody tr th:only-of-type {\n",
       "        vertical-align: middle;\n",
       "    }\n",
       "\n",
       "    .dataframe tbody tr th {\n",
       "        vertical-align: top;\n",
       "    }\n",
       "\n",
       "    .dataframe thead th {\n",
       "        text-align: right;\n",
       "    }\n",
       "</style>\n",
       "<table border=\"1\" class=\"dataframe\">\n",
       "  <thead>\n",
       "    <tr style=\"text-align: right;\">\n",
       "      <th></th>\n",
       "      <th>total_borrowers</th>\n",
       "      <th>has_debt</th>\n",
       "      <th>no_debt</th>\n",
       "      <th>repay_ratio</th>\n",
       "    </tr>\n",
       "    <tr>\n",
       "      <th>family_status_category</th>\n",
       "      <th></th>\n",
       "      <th></th>\n",
       "      <th></th>\n",
       "      <th></th>\n",
       "    </tr>\n",
       "  </thead>\n",
       "  <tbody>\n",
       "    <tr>\n",
       "      <th>Married</th>\n",
       "      <td>12261</td>\n",
       "      <td>927</td>\n",
       "      <td>11334</td>\n",
       "      <td>0.9244</td>\n",
       "    </tr>\n",
       "    <tr>\n",
       "      <th>Civil</th>\n",
       "      <td>4134</td>\n",
       "      <td>385</td>\n",
       "      <td>3749</td>\n",
       "      <td>0.9069</td>\n",
       "    </tr>\n",
       "    <tr>\n",
       "      <th>Unmarried</th>\n",
       "      <td>2796</td>\n",
       "      <td>273</td>\n",
       "      <td>2523</td>\n",
       "      <td>0.9024</td>\n",
       "    </tr>\n",
       "  </tbody>\n",
       "</table>\n",
       "</div>"
      ],
      "text/plain": [
       "                        total_borrowers  has_debt  no_debt  repay_ratio\n",
       "family_status_category                                                 \n",
       "Married                           12261       927    11334       0.9244\n",
       "Civil                              4134       385     3749       0.9069\n",
       "Unmarried                          2796       273     2523       0.9024"
      ]
     },
     "execution_count": 33,
     "metadata": {},
     "output_type": "execute_result"
    }
   ],
   "source": [
    "# Considering a subsample\n",
    "solvency_family_status.loc[\n",
    "    solvency_family_status[\"total_borrowers\"] > 2000\n",
    "].sort_values(by=\"repay_ratio\", ascending=False)"
   ]
  },
  {
   "cell_type": "markdown",
   "id": "c9d14a7b-91a8-449b-9efc-5d8c3626bbf1",
   "metadata": {},
   "source": [
    "Now the dependence is more clearly traced: more family people are more responsible for timely repayment of debt, which is manifested in a high value of the share of refunds for such categories of borrowers. Thus, we have a direct relationship between the \"formality\" of family relations and the repayment of the loan on time."
   ]
  },
  {
   "cell_type": "markdown",
   "id": "e6be0345-970c-49ed-9f8f-088c62470bc4",
   "metadata": {},
   "source": [
    "## Total income"
   ]
  },
  {
   "cell_type": "code",
   "execution_count": 34,
   "id": "9123a83b-58fc-411b-9f4f-213447a3cb3b",
   "metadata": {},
   "outputs": [
    {
     "data": {
      "text/plain": [
       "C    15921\n",
       "B     5014\n",
       "D      349\n",
       "A       25\n",
       "E       22\n",
       "Name: total_income_category, dtype: int64"
      ]
     },
     "execution_count": 34,
     "metadata": {},
     "output_type": "execute_result"
    }
   ],
   "source": [
    "# Computing the number of borrowers in each group by income\n",
    "bank_data[\"total_income_category\"].value_counts()"
   ]
  },
  {
   "cell_type": "code",
   "execution_count": 35,
   "id": "d513d0c2-9c76-4055-b1ee-f67bbc7316fb",
   "metadata": {},
   "outputs": [
    {
     "data": {
      "text/html": [
       "<div>\n",
       "<style scoped>\n",
       "    .dataframe tbody tr th:only-of-type {\n",
       "        vertical-align: middle;\n",
       "    }\n",
       "\n",
       "    .dataframe tbody tr th {\n",
       "        vertical-align: top;\n",
       "    }\n",
       "\n",
       "    .dataframe thead th {\n",
       "        text-align: right;\n",
       "    }\n",
       "</style>\n",
       "<table border=\"1\" class=\"dataframe\">\n",
       "  <thead>\n",
       "    <tr style=\"text-align: right;\">\n",
       "      <th></th>\n",
       "      <th>total_borrowers</th>\n",
       "      <th>has_debt</th>\n",
       "      <th>no_debt</th>\n",
       "      <th>repay_ratio</th>\n",
       "    </tr>\n",
       "    <tr>\n",
       "      <th>total_income_category</th>\n",
       "      <th></th>\n",
       "      <th></th>\n",
       "      <th></th>\n",
       "      <th></th>\n",
       "    </tr>\n",
       "  </thead>\n",
       "  <tbody>\n",
       "    <tr>\n",
       "      <th>A</th>\n",
       "      <td>25</td>\n",
       "      <td>2</td>\n",
       "      <td>23</td>\n",
       "      <td>0.9200</td>\n",
       "    </tr>\n",
       "    <tr>\n",
       "      <th>B</th>\n",
       "      <td>5014</td>\n",
       "      <td>354</td>\n",
       "      <td>4660</td>\n",
       "      <td>0.9294</td>\n",
       "    </tr>\n",
       "    <tr>\n",
       "      <th>C</th>\n",
       "      <td>15921</td>\n",
       "      <td>1353</td>\n",
       "      <td>14568</td>\n",
       "      <td>0.9150</td>\n",
       "    </tr>\n",
       "    <tr>\n",
       "      <th>D</th>\n",
       "      <td>349</td>\n",
       "      <td>21</td>\n",
       "      <td>328</td>\n",
       "      <td>0.9398</td>\n",
       "    </tr>\n",
       "    <tr>\n",
       "      <th>E</th>\n",
       "      <td>22</td>\n",
       "      <td>2</td>\n",
       "      <td>20</td>\n",
       "      <td>0.9091</td>\n",
       "    </tr>\n",
       "  </tbody>\n",
       "</table>\n",
       "</div>"
      ],
      "text/plain": [
       "                       total_borrowers  has_debt  no_debt  repay_ratio\n",
       "total_income_category                                                 \n",
       "A                                   25         2       23       0.9200\n",
       "B                                 5014       354     4660       0.9294\n",
       "C                                15921      1353    14568       0.9150\n",
       "D                                  349        21      328       0.9398\n",
       "E                                   22         2       20       0.9091"
      ]
     },
     "metadata": {},
     "output_type": "display_data"
    }
   ],
   "source": [
    "solvency_income = show_solvency_by_cat(feature=\"total_income_category\", data=bank_data)\n",
    "display(solvency_income)"
   ]
  },
  {
   "cell_type": "code",
   "execution_count": 36,
   "id": "8ff4f6c0-2797-4ca9-82c1-99e32e4cad62",
   "metadata": {},
   "outputs": [
    {
     "data": {
      "image/png": "[encoded data removed]",
      "text/plain": [
       "<Figure size 1000x500 with 2 Axes>"
      ]
     },
     "metadata": {},
     "output_type": "display_data"
    }
   ],
   "source": [
    "plot_solvency_by_cat(feature=\"total_income_category\", data=bank_data)"
   ]
  },
  {
   "cell_type": "markdown",
   "id": "09abba56-5eed-4236-b709-32c04ba90a99",
   "metadata": {},
   "source": [
    "The results show a similar situation: the number of borrowers of categories A, E and D is extremely small, which may affect the results of the study. Borrowers in these groups are underrepresented and it would be better to exclude them from the analysis and consider the remaining categories."
   ]
  },
  {
   "cell_type": "code",
   "execution_count": 37,
   "id": "61c26a51-9143-4a7b-883b-811569261735",
   "metadata": {},
   "outputs": [
    {
     "data": {
      "text/html": [
       "<div>\n",
       "<style scoped>\n",
       "    .dataframe tbody tr th:only-of-type {\n",
       "        vertical-align: middle;\n",
       "    }\n",
       "\n",
       "    .dataframe tbody tr th {\n",
       "        vertical-align: top;\n",
       "    }\n",
       "\n",
       "    .dataframe thead th {\n",
       "        text-align: right;\n",
       "    }\n",
       "</style>\n",
       "<table border=\"1\" class=\"dataframe\">\n",
       "  <thead>\n",
       "    <tr style=\"text-align: right;\">\n",
       "      <th></th>\n",
       "      <th>total_borrowers</th>\n",
       "      <th>has_debt</th>\n",
       "      <th>no_debt</th>\n",
       "      <th>repay_ratio</th>\n",
       "    </tr>\n",
       "    <tr>\n",
       "      <th>total_income_category</th>\n",
       "      <th></th>\n",
       "      <th></th>\n",
       "      <th></th>\n",
       "      <th></th>\n",
       "    </tr>\n",
       "  </thead>\n",
       "  <tbody>\n",
       "    <tr>\n",
       "      <th>B</th>\n",
       "      <td>5014</td>\n",
       "      <td>354</td>\n",
       "      <td>4660</td>\n",
       "      <td>0.9294</td>\n",
       "    </tr>\n",
       "    <tr>\n",
       "      <th>C</th>\n",
       "      <td>15921</td>\n",
       "      <td>1353</td>\n",
       "      <td>14568</td>\n",
       "      <td>0.9150</td>\n",
       "    </tr>\n",
       "  </tbody>\n",
       "</table>\n",
       "</div>"
      ],
      "text/plain": [
       "                       total_borrowers  has_debt  no_debt  repay_ratio\n",
       "total_income_category                                                 \n",
       "B                                 5014       354     4660       0.9294\n",
       "C                                15921      1353    14568       0.9150"
      ]
     },
     "execution_count": 37,
     "metadata": {},
     "output_type": "execute_result"
    }
   ],
   "source": [
    "# Considering a subsample\n",
    "solvency_income.loc[solvency_income[\"total_borrowers\"] > 2000].sort_values(\n",
    "    by=\"repay_ratio\", ascending=False\n",
    ")"
   ]
  },
  {
   "cell_type": "markdown",
   "id": "1f4089c4-0cc9-4bc1-a4f7-7ba2d871a23d",
   "metadata": {},
   "source": [
    "So, we can see that the higher the borrower's income category, the higher the probability of debt repayment, so we have a direct relationship between these two variables."
   ]
  },
  {
   "cell_type": "markdown",
   "id": "765bd2fc-ba2a-4c77-89e1-fb195a58bef7",
   "metadata": {},
   "source": [
    "## Loan purpose"
   ]
  },
  {
   "cell_type": "code",
   "execution_count": 38,
   "id": "517b7777-364c-43f3-8840-107f27006f8d",
   "metadata": {},
   "outputs": [
    {
     "data": {
      "text/plain": [
       "Real estate    10751\n",
       "Car             4279\n",
       "Education       3988\n",
       "Wedding         2313\n",
       "Name: purpose_category, dtype: int64"
      ]
     },
     "execution_count": 38,
     "metadata": {},
     "output_type": "execute_result"
    }
   ],
   "source": [
    "# Computing the number of borrowers in each group by loan purpose\n",
    "bank_data[\"purpose_category\"].value_counts()"
   ]
  },
  {
   "cell_type": "code",
   "execution_count": 39,
   "id": "836f74aa-7310-499e-8e75-f24a655c144f",
   "metadata": {},
   "outputs": [
    {
     "data": {
      "text/html": [
       "<div>\n",
       "<style scoped>\n",
       "    .dataframe tbody tr th:only-of-type {\n",
       "        vertical-align: middle;\n",
       "    }\n",
       "\n",
       "    .dataframe tbody tr th {\n",
       "        vertical-align: top;\n",
       "    }\n",
       "\n",
       "    .dataframe thead th {\n",
       "        text-align: right;\n",
       "    }\n",
       "</style>\n",
       "<table border=\"1\" class=\"dataframe\">\n",
       "  <thead>\n",
       "    <tr style=\"text-align: right;\">\n",
       "      <th></th>\n",
       "      <th>total_borrowers</th>\n",
       "      <th>has_debt</th>\n",
       "      <th>no_debt</th>\n",
       "      <th>repay_ratio</th>\n",
       "    </tr>\n",
       "    <tr>\n",
       "      <th>purpose_category</th>\n",
       "      <th></th>\n",
       "      <th></th>\n",
       "      <th></th>\n",
       "      <th></th>\n",
       "    </tr>\n",
       "  </thead>\n",
       "  <tbody>\n",
       "    <tr>\n",
       "      <th>Car</th>\n",
       "      <td>4279</td>\n",
       "      <td>400</td>\n",
       "      <td>3879</td>\n",
       "      <td>0.9065</td>\n",
       "    </tr>\n",
       "    <tr>\n",
       "      <th>Education</th>\n",
       "      <td>3988</td>\n",
       "      <td>369</td>\n",
       "      <td>3619</td>\n",
       "      <td>0.9075</td>\n",
       "    </tr>\n",
       "    <tr>\n",
       "      <th>Real estate</th>\n",
       "      <td>10751</td>\n",
       "      <td>780</td>\n",
       "      <td>9971</td>\n",
       "      <td>0.9274</td>\n",
       "    </tr>\n",
       "    <tr>\n",
       "      <th>Wedding</th>\n",
       "      <td>2313</td>\n",
       "      <td>183</td>\n",
       "      <td>2130</td>\n",
       "      <td>0.9209</td>\n",
       "    </tr>\n",
       "  </tbody>\n",
       "</table>\n",
       "</div>"
      ],
      "text/plain": [
       "                  total_borrowers  has_debt  no_debt  repay_ratio\n",
       "purpose_category                                                 \n",
       "Car                          4279       400     3879       0.9065\n",
       "Education                    3988       369     3619       0.9075\n",
       "Real estate                 10751       780     9971       0.9274\n",
       "Wedding                      2313       183     2130       0.9209"
      ]
     },
     "metadata": {},
     "output_type": "display_data"
    }
   ],
   "source": [
    "solvency_loan_purpose = show_solvency_by_cat(feature=\"purpose_category\", data=bank_data)\n",
    "display(solvency_loan_purpose)"
   ]
  },
  {
   "cell_type": "code",
   "execution_count": 40,
   "id": "0aec6512-f7f7-4c61-9e9f-2533e38eee66",
   "metadata": {},
   "outputs": [
    {
     "data": {
      "image/png": "[encoded data removed]",
      "text/plain": [
       "<Figure size 1000x500 with 2 Axes>"
      ]
     },
     "metadata": {},
     "output_type": "display_data"
    }
   ],
   "source": [
    "plot_solvency_by_cat(feature=\"purpose_category\", data=bank_data)"
   ]
  },
  {
   "cell_type": "code",
   "execution_count": 41,
   "id": "98f41e50-139e-41d0-9759-9901d9481e2a",
   "metadata": {},
   "outputs": [
    {
     "data": {
      "text/html": [
       "<div>\n",
       "<style scoped>\n",
       "    .dataframe tbody tr th:only-of-type {\n",
       "        vertical-align: middle;\n",
       "    }\n",
       "\n",
       "    .dataframe tbody tr th {\n",
       "        vertical-align: top;\n",
       "    }\n",
       "\n",
       "    .dataframe thead th {\n",
       "        text-align: right;\n",
       "    }\n",
       "</style>\n",
       "<table border=\"1\" class=\"dataframe\">\n",
       "  <thead>\n",
       "    <tr style=\"text-align: right;\">\n",
       "      <th></th>\n",
       "      <th>total_borrowers</th>\n",
       "      <th>has_debt</th>\n",
       "      <th>no_debt</th>\n",
       "      <th>repay_ratio</th>\n",
       "    </tr>\n",
       "    <tr>\n",
       "      <th>purpose_category</th>\n",
       "      <th></th>\n",
       "      <th></th>\n",
       "      <th></th>\n",
       "      <th></th>\n",
       "    </tr>\n",
       "  </thead>\n",
       "  <tbody>\n",
       "    <tr>\n",
       "      <th>Real estate</th>\n",
       "      <td>10751</td>\n",
       "      <td>780</td>\n",
       "      <td>9971</td>\n",
       "      <td>0.9274</td>\n",
       "    </tr>\n",
       "    <tr>\n",
       "      <th>Wedding</th>\n",
       "      <td>2313</td>\n",
       "      <td>183</td>\n",
       "      <td>2130</td>\n",
       "      <td>0.9209</td>\n",
       "    </tr>\n",
       "    <tr>\n",
       "      <th>Education</th>\n",
       "      <td>3988</td>\n",
       "      <td>369</td>\n",
       "      <td>3619</td>\n",
       "      <td>0.9075</td>\n",
       "    </tr>\n",
       "    <tr>\n",
       "      <th>Car</th>\n",
       "      <td>4279</td>\n",
       "      <td>400</td>\n",
       "      <td>3879</td>\n",
       "      <td>0.9065</td>\n",
       "    </tr>\n",
       "  </tbody>\n",
       "</table>\n",
       "</div>"
      ],
      "text/plain": [
       "                  total_borrowers  has_debt  no_debt  repay_ratio\n",
       "purpose_category                                                 \n",
       "Real estate                 10751       780     9971       0.9274\n",
       "Wedding                      2313       183     2130       0.9209\n",
       "Education                    3988       369     3619       0.9075\n",
       "Car                          4279       400     3879       0.9065"
      ]
     },
     "execution_count": 41,
     "metadata": {},
     "output_type": "execute_result"
    }
   ],
   "source": [
    "solvency_loan_purpose.loc[solvency_loan_purpose[\"total_borrowers\"] > 2000].sort_values(\n",
    "    by=\"repay_ratio\", ascending=False\n",
    ")"
   ]
  },
  {
   "cell_type": "markdown",
   "id": "78872743-9f12-4e6e-82e9-bc567d5cae31",
   "metadata": {},
   "source": [
    "Basically, loans are predominantly taken for real estate transactions and, moreover, borrowers of this group more often repay loans, so this direction of lending should be considered by bank analysts."
   ]
  },
  {
   "cell_type": "markdown",
   "id": "4d929666-bf62-4df0-b6ef-175cb7c1d16f",
   "metadata": {},
   "source": [
    "**Conclusion**\n",
    "\n",
    "By considering separate solvency-affecting factors, we have managed to identify possible profit-enhacing channels that a bank can focus on."
   ]
  },
  {
   "cell_type": "markdown",
   "id": "25ec64e5-4f62-4716-968f-0036c1139824",
   "metadata": {},
   "source": [
    "# Conclusion"
   ]
  },
  {
   "cell_type": "markdown",
   "id": "8a8f92e0-1780-4360-8dae-2f44c77f86a7",
   "metadata": {},
   "source": [
    "So, in this study, the statistics of the solvency of customers of a credit institution have been analyzed. To obtain the results, the data obtained was carefully preprocessed: duplicates were removed, abnormal and missing values were processed, and data categorization was carried out to simplify further data analysis.\n",
    "\n",
    "Based on the results of the study, the following conclusion can be drawn. In order for the bank to increase its profits, the following groups of borrowers are the most profitable sources of funds for the bank:\n",
    "\n",
    "* Childless;\n",
    "\n",
    "* Married;\n",
    "\n",
    "* People with salaries from 200,000 to 1,000,000 roubles;\n",
    "\n",
    "* People taking out loans for real estate transactions.\n",
    "\n",
    "In the future, it is recommendable that in the process of collecting data, a more careful approach to their processing is applied. In particular, it is advisable that missing values in the data be processed appropriately at the stage of sending them for analysis, or explanations be provided regarding the nature of their absence. The same applies to checking the correctness of the data format. This will lead to more efficient data analysis and the provision of more accurate recommendations and results."
   ]
  }
 ],
 "metadata": {
  "kernelspec": {
   "display_name": "Python 3 (ipykernel)",
   "language": "python",
   "name": "python3"
  },
  "language_info": {
   "codemirror_mode": {
    "name": "ipython",
    "version": 3
   },
   "file_extension": ".py",
   "mimetype": "text/x-python",
   "name": "python",
   "nbconvert_exporter": "python",
   "pygments_lexer": "ipython3",
   "version": "3.9.13"
  }
 },
 "nbformat": 4,
 "nbformat_minor": 5
}
