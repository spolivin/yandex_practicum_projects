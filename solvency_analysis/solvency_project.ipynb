{
 "cells": [
  {
   "cell_type": "markdown",
   "id": "cb3bfb5b-b311-48f7-9ed0-9f60535d3b2e",
   "metadata": {},
   "source": [
    "## Getting data"
   ]
  },
  {
   "cell_type": "markdown",
   "id": "fde5a7e0-d843-486a-83c5-8fa2c9a7c927",
   "metadata": {},
   "source": [
    "First, we need to examine the data provided by the bank's credit department for the project. We start by importing `pandas` library for reading a csv-file into a DataFrame stored in `data` variable."
   ]
  },
  {
   "cell_type": "code",
   "execution_count": 1,
   "id": "d32c0174-0880-4402-997d-5a35111711fd",
   "metadata": {},
   "outputs": [],
   "source": [
    "# Importing pandas library\n",
    "import pandas as pd"
   ]
  },
  {
   "cell_type": "markdown",
   "id": "37fc4431-1626-4be2-87a4-6bc446a79155",
   "metadata": {},
   "source": [
    "Now, let's save the dataset contained in `bank_clients_data.csv` into a separate variable."
   ]
  },
  {
   "cell_type": "code",
   "execution_count": 2,
   "id": "90048710-1809-4f60-9c44-094b6340a31e",
   "metadata": {},
   "outputs": [],
   "source": [
    "# Reading the dataset into a DataFrame\n",
    "data = pd.read_csv('bank_clients_data.csv')"
   ]
  },
  {
   "cell_type": "markdown",
   "id": "53f46055-3392-412f-ab8d-1b7f3d90ba10",
   "metadata": {},
   "source": [
    "Print the first 20 rows of the DataFrame in order to see what the data looks like."
   ]
  },
  {
   "cell_type": "code",
   "execution_count": 3,
   "id": "88d55d7c-aab5-4eec-91fc-657e33762444",
   "metadata": {},
   "outputs": [
    {
     "data": {
      "text/html": [
       "<div>\n",
       "<style scoped>\n",
       "    .dataframe tbody tr th:only-of-type {\n",
       "        vertical-align: middle;\n",
       "    }\n",
       "\n",
       "    .dataframe tbody tr th {\n",
       "        vertical-align: top;\n",
       "    }\n",
       "\n",
       "    .dataframe thead th {\n",
       "        text-align: right;\n",
       "    }\n",
       "</style>\n",
       "<table border=\"1\" class=\"dataframe\">\n",
       "  <thead>\n",
       "    <tr style=\"text-align: right;\">\n",
       "      <th></th>\n",
       "      <th>children</th>\n",
       "      <th>days_employed</th>\n",
       "      <th>dob_years</th>\n",
       "      <th>education</th>\n",
       "      <th>education_id</th>\n",
       "      <th>family_status</th>\n",
       "      <th>family_status_id</th>\n",
       "      <th>gender</th>\n",
       "      <th>income_type</th>\n",
       "      <th>debt</th>\n",
       "      <th>total_income</th>\n",
       "      <th>purpose</th>\n",
       "    </tr>\n",
       "  </thead>\n",
       "  <tbody>\n",
       "    <tr>\n",
       "      <th>0</th>\n",
       "      <td>1</td>\n",
       "      <td>-8437.673028</td>\n",
       "      <td>42</td>\n",
       "      <td>высшее</td>\n",
       "      <td>0</td>\n",
       "      <td>женат / замужем</td>\n",
       "      <td>0</td>\n",
       "      <td>F</td>\n",
       "      <td>сотрудник</td>\n",
       "      <td>0</td>\n",
       "      <td>253875.639453</td>\n",
       "      <td>покупка жилья</td>\n",
       "    </tr>\n",
       "    <tr>\n",
       "      <th>1</th>\n",
       "      <td>1</td>\n",
       "      <td>-4024.803754</td>\n",
       "      <td>36</td>\n",
       "      <td>среднее</td>\n",
       "      <td>1</td>\n",
       "      <td>женат / замужем</td>\n",
       "      <td>0</td>\n",
       "      <td>F</td>\n",
       "      <td>сотрудник</td>\n",
       "      <td>0</td>\n",
       "      <td>112080.014102</td>\n",
       "      <td>приобретение автомобиля</td>\n",
       "    </tr>\n",
       "    <tr>\n",
       "      <th>2</th>\n",
       "      <td>0</td>\n",
       "      <td>-5623.422610</td>\n",
       "      <td>33</td>\n",
       "      <td>Среднее</td>\n",
       "      <td>1</td>\n",
       "      <td>женат / замужем</td>\n",
       "      <td>0</td>\n",
       "      <td>M</td>\n",
       "      <td>сотрудник</td>\n",
       "      <td>0</td>\n",
       "      <td>145885.952297</td>\n",
       "      <td>покупка жилья</td>\n",
       "    </tr>\n",
       "    <tr>\n",
       "      <th>3</th>\n",
       "      <td>3</td>\n",
       "      <td>-4124.747207</td>\n",
       "      <td>32</td>\n",
       "      <td>среднее</td>\n",
       "      <td>1</td>\n",
       "      <td>женат / замужем</td>\n",
       "      <td>0</td>\n",
       "      <td>M</td>\n",
       "      <td>сотрудник</td>\n",
       "      <td>0</td>\n",
       "      <td>267628.550329</td>\n",
       "      <td>дополнительное образование</td>\n",
       "    </tr>\n",
       "    <tr>\n",
       "      <th>4</th>\n",
       "      <td>0</td>\n",
       "      <td>340266.072047</td>\n",
       "      <td>53</td>\n",
       "      <td>среднее</td>\n",
       "      <td>1</td>\n",
       "      <td>гражданский брак</td>\n",
       "      <td>1</td>\n",
       "      <td>F</td>\n",
       "      <td>пенсионер</td>\n",
       "      <td>0</td>\n",
       "      <td>158616.077870</td>\n",
       "      <td>сыграть свадьбу</td>\n",
       "    </tr>\n",
       "    <tr>\n",
       "      <th>5</th>\n",
       "      <td>0</td>\n",
       "      <td>-926.185831</td>\n",
       "      <td>27</td>\n",
       "      <td>высшее</td>\n",
       "      <td>0</td>\n",
       "      <td>гражданский брак</td>\n",
       "      <td>1</td>\n",
       "      <td>M</td>\n",
       "      <td>компаньон</td>\n",
       "      <td>0</td>\n",
       "      <td>255763.565419</td>\n",
       "      <td>покупка жилья</td>\n",
       "    </tr>\n",
       "    <tr>\n",
       "      <th>6</th>\n",
       "      <td>0</td>\n",
       "      <td>-2879.202052</td>\n",
       "      <td>43</td>\n",
       "      <td>высшее</td>\n",
       "      <td>0</td>\n",
       "      <td>женат / замужем</td>\n",
       "      <td>0</td>\n",
       "      <td>F</td>\n",
       "      <td>компаньон</td>\n",
       "      <td>0</td>\n",
       "      <td>240525.971920</td>\n",
       "      <td>операции с жильем</td>\n",
       "    </tr>\n",
       "    <tr>\n",
       "      <th>7</th>\n",
       "      <td>0</td>\n",
       "      <td>-152.779569</td>\n",
       "      <td>50</td>\n",
       "      <td>СРЕДНЕЕ</td>\n",
       "      <td>1</td>\n",
       "      <td>женат / замужем</td>\n",
       "      <td>0</td>\n",
       "      <td>M</td>\n",
       "      <td>сотрудник</td>\n",
       "      <td>0</td>\n",
       "      <td>135823.934197</td>\n",
       "      <td>образование</td>\n",
       "    </tr>\n",
       "    <tr>\n",
       "      <th>8</th>\n",
       "      <td>2</td>\n",
       "      <td>-6929.865299</td>\n",
       "      <td>35</td>\n",
       "      <td>ВЫСШЕЕ</td>\n",
       "      <td>0</td>\n",
       "      <td>гражданский брак</td>\n",
       "      <td>1</td>\n",
       "      <td>F</td>\n",
       "      <td>сотрудник</td>\n",
       "      <td>0</td>\n",
       "      <td>95856.832424</td>\n",
       "      <td>на проведение свадьбы</td>\n",
       "    </tr>\n",
       "    <tr>\n",
       "      <th>9</th>\n",
       "      <td>0</td>\n",
       "      <td>-2188.756445</td>\n",
       "      <td>41</td>\n",
       "      <td>среднее</td>\n",
       "      <td>1</td>\n",
       "      <td>женат / замужем</td>\n",
       "      <td>0</td>\n",
       "      <td>M</td>\n",
       "      <td>сотрудник</td>\n",
       "      <td>0</td>\n",
       "      <td>144425.938277</td>\n",
       "      <td>покупка жилья для семьи</td>\n",
       "    </tr>\n",
       "    <tr>\n",
       "      <th>10</th>\n",
       "      <td>2</td>\n",
       "      <td>-4171.483647</td>\n",
       "      <td>36</td>\n",
       "      <td>высшее</td>\n",
       "      <td>0</td>\n",
       "      <td>женат / замужем</td>\n",
       "      <td>0</td>\n",
       "      <td>M</td>\n",
       "      <td>компаньон</td>\n",
       "      <td>0</td>\n",
       "      <td>113943.491460</td>\n",
       "      <td>покупка недвижимости</td>\n",
       "    </tr>\n",
       "    <tr>\n",
       "      <th>11</th>\n",
       "      <td>0</td>\n",
       "      <td>-792.701887</td>\n",
       "      <td>40</td>\n",
       "      <td>среднее</td>\n",
       "      <td>1</td>\n",
       "      <td>женат / замужем</td>\n",
       "      <td>0</td>\n",
       "      <td>F</td>\n",
       "      <td>сотрудник</td>\n",
       "      <td>0</td>\n",
       "      <td>77069.234271</td>\n",
       "      <td>покупка коммерческой недвижимости</td>\n",
       "    </tr>\n",
       "    <tr>\n",
       "      <th>12</th>\n",
       "      <td>0</td>\n",
       "      <td>NaN</td>\n",
       "      <td>65</td>\n",
       "      <td>среднее</td>\n",
       "      <td>1</td>\n",
       "      <td>гражданский брак</td>\n",
       "      <td>1</td>\n",
       "      <td>M</td>\n",
       "      <td>пенсионер</td>\n",
       "      <td>0</td>\n",
       "      <td>NaN</td>\n",
       "      <td>сыграть свадьбу</td>\n",
       "    </tr>\n",
       "    <tr>\n",
       "      <th>13</th>\n",
       "      <td>0</td>\n",
       "      <td>-1846.641941</td>\n",
       "      <td>54</td>\n",
       "      <td>неоконченное высшее</td>\n",
       "      <td>2</td>\n",
       "      <td>женат / замужем</td>\n",
       "      <td>0</td>\n",
       "      <td>F</td>\n",
       "      <td>сотрудник</td>\n",
       "      <td>0</td>\n",
       "      <td>130458.228857</td>\n",
       "      <td>приобретение автомобиля</td>\n",
       "    </tr>\n",
       "    <tr>\n",
       "      <th>14</th>\n",
       "      <td>0</td>\n",
       "      <td>-1844.956182</td>\n",
       "      <td>56</td>\n",
       "      <td>высшее</td>\n",
       "      <td>0</td>\n",
       "      <td>гражданский брак</td>\n",
       "      <td>1</td>\n",
       "      <td>F</td>\n",
       "      <td>компаньон</td>\n",
       "      <td>1</td>\n",
       "      <td>165127.911772</td>\n",
       "      <td>покупка жилой недвижимости</td>\n",
       "    </tr>\n",
       "    <tr>\n",
       "      <th>15</th>\n",
       "      <td>1</td>\n",
       "      <td>-972.364419</td>\n",
       "      <td>26</td>\n",
       "      <td>среднее</td>\n",
       "      <td>1</td>\n",
       "      <td>женат / замужем</td>\n",
       "      <td>0</td>\n",
       "      <td>F</td>\n",
       "      <td>сотрудник</td>\n",
       "      <td>0</td>\n",
       "      <td>116820.904450</td>\n",
       "      <td>строительство собственной недвижимости</td>\n",
       "    </tr>\n",
       "    <tr>\n",
       "      <th>16</th>\n",
       "      <td>0</td>\n",
       "      <td>-1719.934226</td>\n",
       "      <td>35</td>\n",
       "      <td>среднее</td>\n",
       "      <td>1</td>\n",
       "      <td>женат / замужем</td>\n",
       "      <td>0</td>\n",
       "      <td>F</td>\n",
       "      <td>сотрудник</td>\n",
       "      <td>0</td>\n",
       "      <td>289202.704229</td>\n",
       "      <td>недвижимость</td>\n",
       "    </tr>\n",
       "    <tr>\n",
       "      <th>17</th>\n",
       "      <td>0</td>\n",
       "      <td>-2369.999720</td>\n",
       "      <td>33</td>\n",
       "      <td>высшее</td>\n",
       "      <td>0</td>\n",
       "      <td>гражданский брак</td>\n",
       "      <td>1</td>\n",
       "      <td>M</td>\n",
       "      <td>сотрудник</td>\n",
       "      <td>0</td>\n",
       "      <td>90410.586745</td>\n",
       "      <td>строительство недвижимости</td>\n",
       "    </tr>\n",
       "    <tr>\n",
       "      <th>18</th>\n",
       "      <td>0</td>\n",
       "      <td>400281.136913</td>\n",
       "      <td>53</td>\n",
       "      <td>среднее</td>\n",
       "      <td>1</td>\n",
       "      <td>вдовец / вдова</td>\n",
       "      <td>2</td>\n",
       "      <td>F</td>\n",
       "      <td>пенсионер</td>\n",
       "      <td>0</td>\n",
       "      <td>56823.777243</td>\n",
       "      <td>на покупку подержанного автомобиля</td>\n",
       "    </tr>\n",
       "    <tr>\n",
       "      <th>19</th>\n",
       "      <td>0</td>\n",
       "      <td>-10038.818549</td>\n",
       "      <td>48</td>\n",
       "      <td>СРЕДНЕЕ</td>\n",
       "      <td>1</td>\n",
       "      <td>в разводе</td>\n",
       "      <td>3</td>\n",
       "      <td>F</td>\n",
       "      <td>сотрудник</td>\n",
       "      <td>0</td>\n",
       "      <td>242831.107982</td>\n",
       "      <td>на покупку своего автомобиля</td>\n",
       "    </tr>\n",
       "  </tbody>\n",
       "</table>\n",
       "</div>"
      ],
      "text/plain": [
       "    children  days_employed  dob_years            education  education_id  \\\n",
       "0          1   -8437.673028         42               высшее             0   \n",
       "1          1   -4024.803754         36              среднее             1   \n",
       "2          0   -5623.422610         33              Среднее             1   \n",
       "3          3   -4124.747207         32              среднее             1   \n",
       "4          0  340266.072047         53              среднее             1   \n",
       "5          0    -926.185831         27               высшее             0   \n",
       "6          0   -2879.202052         43               высшее             0   \n",
       "7          0    -152.779569         50              СРЕДНЕЕ             1   \n",
       "8          2   -6929.865299         35               ВЫСШЕЕ             0   \n",
       "9          0   -2188.756445         41              среднее             1   \n",
       "10         2   -4171.483647         36               высшее             0   \n",
       "11         0    -792.701887         40              среднее             1   \n",
       "12         0            NaN         65              среднее             1   \n",
       "13         0   -1846.641941         54  неоконченное высшее             2   \n",
       "14         0   -1844.956182         56               высшее             0   \n",
       "15         1    -972.364419         26              среднее             1   \n",
       "16         0   -1719.934226         35              среднее             1   \n",
       "17         0   -2369.999720         33               высшее             0   \n",
       "18         0  400281.136913         53              среднее             1   \n",
       "19         0  -10038.818549         48              СРЕДНЕЕ             1   \n",
       "\n",
       "       family_status  family_status_id gender income_type  debt  \\\n",
       "0    женат / замужем                 0      F   сотрудник     0   \n",
       "1    женат / замужем                 0      F   сотрудник     0   \n",
       "2    женат / замужем                 0      M   сотрудник     0   \n",
       "3    женат / замужем                 0      M   сотрудник     0   \n",
       "4   гражданский брак                 1      F   пенсионер     0   \n",
       "5   гражданский брак                 1      M   компаньон     0   \n",
       "6    женат / замужем                 0      F   компаньон     0   \n",
       "7    женат / замужем                 0      M   сотрудник     0   \n",
       "8   гражданский брак                 1      F   сотрудник     0   \n",
       "9    женат / замужем                 0      M   сотрудник     0   \n",
       "10   женат / замужем                 0      M   компаньон     0   \n",
       "11   женат / замужем                 0      F   сотрудник     0   \n",
       "12  гражданский брак                 1      M   пенсионер     0   \n",
       "13   женат / замужем                 0      F   сотрудник     0   \n",
       "14  гражданский брак                 1      F   компаньон     1   \n",
       "15   женат / замужем                 0      F   сотрудник     0   \n",
       "16   женат / замужем                 0      F   сотрудник     0   \n",
       "17  гражданский брак                 1      M   сотрудник     0   \n",
       "18    вдовец / вдова                 2      F   пенсионер     0   \n",
       "19         в разводе                 3      F   сотрудник     0   \n",
       "\n",
       "     total_income                                 purpose  \n",
       "0   253875.639453                           покупка жилья  \n",
       "1   112080.014102                 приобретение автомобиля  \n",
       "2   145885.952297                           покупка жилья  \n",
       "3   267628.550329              дополнительное образование  \n",
       "4   158616.077870                         сыграть свадьбу  \n",
       "5   255763.565419                           покупка жилья  \n",
       "6   240525.971920                       операции с жильем  \n",
       "7   135823.934197                             образование  \n",
       "8    95856.832424                   на проведение свадьбы  \n",
       "9   144425.938277                 покупка жилья для семьи  \n",
       "10  113943.491460                    покупка недвижимости  \n",
       "11   77069.234271       покупка коммерческой недвижимости  \n",
       "12            NaN                         сыграть свадьбу  \n",
       "13  130458.228857                 приобретение автомобиля  \n",
       "14  165127.911772              покупка жилой недвижимости  \n",
       "15  116820.904450  строительство собственной недвижимости  \n",
       "16  289202.704229                            недвижимость  \n",
       "17   90410.586745              строительство недвижимости  \n",
       "18   56823.777243      на покупку подержанного автомобиля  \n",
       "19  242831.107982            на покупку своего автомобиля  "
      ]
     },
     "execution_count": 3,
     "metadata": {},
     "output_type": "execute_result"
    }
   ],
   "source": [
    "# Displaying the first 20 rows of the data\n",
    "data.head(20)"
   ]
  },
  {
   "cell_type": "markdown",
   "id": "84f1fd02-2371-41fe-84a7-c64da465cf81",
   "metadata": {},
   "source": [
    "We can explore the data further by considering the summary information about the DataFrame."
   ]
  },
  {
   "cell_type": "code",
   "execution_count": 4,
   "id": "3098edfb-7b03-4bf0-b95d-132dde83b6d5",
   "metadata": {},
   "outputs": [
    {
     "name": "stdout",
     "output_type": "stream",
     "text": [
      "<class 'pandas.core.frame.DataFrame'>\n",
      "RangeIndex: 21525 entries, 0 to 21524\n",
      "Data columns (total 12 columns):\n",
      " #   Column            Non-Null Count  Dtype  \n",
      "---  ------            --------------  -----  \n",
      " 0   children          21525 non-null  int64  \n",
      " 1   days_employed     19351 non-null  float64\n",
      " 2   dob_years         21525 non-null  int64  \n",
      " 3   education         21525 non-null  object \n",
      " 4   education_id      21525 non-null  int64  \n",
      " 5   family_status     21525 non-null  object \n",
      " 6   family_status_id  21525 non-null  int64  \n",
      " 7   gender            21525 non-null  object \n",
      " 8   income_type       21525 non-null  object \n",
      " 9   debt              21525 non-null  int64  \n",
      " 10  total_income      19351 non-null  float64\n",
      " 11  purpose           21525 non-null  object \n",
      "dtypes: float64(2), int64(5), object(5)\n",
      "memory usage: 2.0+ MB\n"
     ]
    }
   ],
   "source": [
    "# Displaying a concise summary\n",
    "data.info()"
   ]
  },
  {
   "cell_type": "markdown",
   "id": "11e1c706-bb4a-4b42-8413-0c9a475ad188",
   "metadata": {},
   "source": [
    "Let's inspect what information the dataset contains:\n",
    "\n",
    "1. The DataFrame has twelve columns, which have numeric and categorical values. \n",
    "\n",
    "2. `data` contains information about the clients of the bank with the following features:\n",
    "\n",
    "    * `children` - number of children in a family;\n",
    "    * `days_employed` - total number of days being employed;\n",
    "    * `dob_years` - client's age;\n",
    "    * `education` - client's education level;\n",
    "    * `education_id` - education level indentifier;\n",
    "    * `family_status` - client's family status;\n",
    "    * `family_status_id` - family status identifier;\n",
    "    * `gender` - client's gender;\n",
    "    * `income_type` - type of employment;\n",
    "    * `debt` - indicator of owing a debt to the bank;\n",
    "    * `total_income` - monthly income;\n",
    "    * `purpose` - purpose of taking out a loan.\n",
    "3. The number of values across columns is not the same, signifying the fact that the data has missing values."
   ]
  },
  {
   "cell_type": "markdown",
   "id": "2ca5e11c-71cc-4b27-93b1-5c25fe861b24",
   "metadata": {},
   "source": [
    "**Conclusions**\n",
    "\n",
    "The dataset contains information about borrowers of the bank with numerous attributes, where each row identifies a separate debtor with specific data. The DataFrame is seen to have missing values present as well as potential data format problems, all of which warrant data preprocessing being carried out."
   ]
  },
  {
   "cell_type": "markdown",
   "id": "9afdc809-113f-409e-8d5c-9cc9fdb04891",
   "metadata": {},
   "source": [
    "## Data preprocessing"
   ]
  },
  {
   "cell_type": "markdown",
   "id": "e09dc58a-7620-4ca7-9253-5f203bdf6e0c",
   "metadata": {},
   "source": [
    "### Missing values"
   ]
  },
  {
   "cell_type": "markdown",
   "id": "d5eb7694-359f-4806-a579-15e9eb678520",
   "metadata": {},
   "source": [
    "Let's determine the number of missing values in the dataset."
   ]
  },
  {
   "cell_type": "code",
   "execution_count": 5,
   "id": "7d806e95-0413-49a2-94fa-3307b248e044",
   "metadata": {},
   "outputs": [
    {
     "data": {
      "text/plain": [
       "children               0\n",
       "days_employed       2174\n",
       "dob_years              0\n",
       "education              0\n",
       "education_id           0\n",
       "family_status          0\n",
       "family_status_id       0\n",
       "gender                 0\n",
       "income_type            0\n",
       "debt                   0\n",
       "total_income        2174\n",
       "purpose                0\n",
       "dtype: int64"
      ]
     },
     "execution_count": 5,
     "metadata": {},
     "output_type": "execute_result"
    }
   ],
   "source": [
    "# Displaying the number of missing values for each column\n",
    "data.isna().sum()"
   ]
  },
  {
   "cell_type": "markdown",
   "id": "047d75f4-82e2-436a-92a7-75b3a5512e70",
   "metadata": {},
   "source": [
    "We see that there are two columns that contain missing values: `days_employed` and `total_income`. Deal first with the latter column. In order to get rid of missing values, we need to understand what the variable represents. `total_income` stores information about clients' incomes, meaning that the column possesses numeric values. Income is dependent upon the type of employment shown in `income_type` and therefore we can fill missing values with median income relative to a particular employment type."
   ]
  },
  {
   "cell_type": "code",
   "execution_count": 6,
   "id": "6fa7b207-d49a-43d1-913c-47d23430e61c",
   "metadata": {},
   "outputs": [],
   "source": [
    "# Filling in missing values with median\n",
    "for inc_type in data['income_type'].unique():\n",
    "    data.loc[(data['income_type'] == inc_type) & (data['total_income'].isna()), 'total_income'] = \\\n",
    "    data.loc[(data['income_type'] == inc_type), 'total_income'].median()"
   ]
  },
  {
   "cell_type": "markdown",
   "id": "8c441297-a782-49e7-9368-6e5fc200f373",
   "metadata": {},
   "source": [
    "### Abnormalities"
   ]
  },
  {
   "cell_type": "markdown",
   "id": "46a03e6f-fd4b-4704-9154-863822047ac7",
   "metadata": {},
   "source": [
    "As can be seen from the data, we have abnormal values found in `days_employed` column: by no means can duration of employment be negative. Thus, we are dealing with abnormalities in the data. We can easily fix this by taking the absolute value of each data point in this column."
   ]
  },
  {
   "cell_type": "code",
   "execution_count": 7,
   "id": "381ed564-9563-4f14-9ffc-6a471799312d",
   "metadata": {},
   "outputs": [],
   "source": [
    "# Converting the data to a correct format\n",
    "data['days_employed'] = data['days_employed'].abs()"
   ]
  },
  {
   "cell_type": "markdown",
   "id": "1810cf1d-1dd7-472c-b585-bcfcbfcf3023",
   "metadata": {},
   "source": [
    "Let's further explore this column and display median employment duration in relation to employment type."
   ]
  },
  {
   "cell_type": "code",
   "execution_count": 8,
   "id": "41f78e27-96eb-45f1-824e-8c506e486de9",
   "metadata": {},
   "outputs": [
    {
     "data": {
      "text/plain": [
       "income_type\n",
       "безработный        366413.652744\n",
       "в декрете            3296.759962\n",
       "госслужащий          2689.368353\n",
       "компаньон            1547.382223\n",
       "пенсионер          365213.306266\n",
       "предприниматель       520.848083\n",
       "сотрудник            1574.202821\n",
       "студент               578.751554\n",
       "Name: days_employed, dtype: float64"
      ]
     },
     "execution_count": 8,
     "metadata": {},
     "output_type": "execute_result"
    }
   ],
   "source": [
    "# Displaying median values\n",
    "data.groupby('income_type')['days_employed'].agg('median')"
   ]
  },
  {
   "cell_type": "markdown",
   "id": "863d2a00-abb7-40f9-a7d1-2c468145564f",
   "metadata": {},
   "source": [
    "We see that some income types, specifically, unemployed (`безработный`) and retired (`пенсионер`) have unusually high values. It is difficult to deal with this kind of abnormalities and since this column will be very informative to use in the subsequent analysis, we just leave the data as it is here."
   ]
  },
  {
   "cell_type": "markdown",
   "id": "be493414-0c8e-4fb1-866d-523bd91befeb",
   "metadata": {},
   "source": [
    "Now, display the possible unique numbers of children that borrowers have."
   ]
  },
  {
   "cell_type": "code",
   "execution_count": 9,
   "id": "8db5aa06-ce2b-4725-9974-9931b55fb3f7",
   "metadata": {},
   "outputs": [
    {
     "data": {
      "text/plain": [
       "array([ 1,  0,  3,  2, -1,  4, 20,  5], dtype=int64)"
      ]
     },
     "execution_count": 9,
     "metadata": {},
     "output_type": "execute_result"
    }
   ],
   "source": [
    "# Printing unique values of children\n",
    "data['children'].unique()"
   ]
  },
  {
   "cell_type": "markdown",
   "id": "2dc23c5d-4d67-42ea-84f9-c974d9e11db8",
   "metadata": {},
   "source": [
    "It is clearly seen that there are two impossible values: 20 and -1. Let's get rid of them."
   ]
  },
  {
   "cell_type": "code",
   "execution_count": 10,
   "id": "ef7fd26a-f998-4cf5-bba4-d8ceb4bb1aa1",
   "metadata": {},
   "outputs": [
    {
     "data": {
      "text/plain": [
       "array([1, 0, 3, 2, 4, 5], dtype=int64)"
      ]
     },
     "execution_count": 10,
     "metadata": {},
     "output_type": "execute_result"
    }
   ],
   "source": [
    "# Getting rid of abnormal values\n",
    "data = data[(data['children'] != -1) & (data['children'] != 20)]\n",
    "data['children'].unique()"
   ]
  },
  {
   "cell_type": "markdown",
   "id": "3674a298-e147-4fd7-936d-17547dccf890",
   "metadata": {},
   "source": [
    "### Missing values (cont.)"
   ]
  },
  {
   "cell_type": "markdown",
   "id": "d940b56a-2c21-4401-9b91-927e5d6d978a",
   "metadata": {},
   "source": [
    "Now we can fill in missing values in `days_employed` column with their median values depending on income type."
   ]
  },
  {
   "cell_type": "code",
   "execution_count": 11,
   "id": "6159e4a9-9751-4ec2-9d04-0ab736d6bb09",
   "metadata": {},
   "outputs": [],
   "source": [
    "# Filling in missing values with median\n",
    "for inc_type in data['income_type'].unique():\n",
    "    data.loc[(data['income_type'] == inc_type) & (data['days_employed'].isna()), 'days_employed'] = \\\n",
    "    data.loc[(data['income_type'] == inc_type), 'days_employed'].median()"
   ]
  },
  {
   "cell_type": "markdown",
   "id": "4e83aeda-30a5-4e8e-a6e3-3d2de419cd4a",
   "metadata": {},
   "source": [
    "We can verify whether we have completely dealt with missing values issue."
   ]
  },
  {
   "cell_type": "code",
   "execution_count": 12,
   "id": "be53603b-2bc0-45ea-82ab-9e02581f4f47",
   "metadata": {},
   "outputs": [
    {
     "data": {
      "text/plain": [
       "children            0\n",
       "days_employed       0\n",
       "dob_years           0\n",
       "education           0\n",
       "education_id        0\n",
       "family_status       0\n",
       "family_status_id    0\n",
       "gender              0\n",
       "income_type         0\n",
       "debt                0\n",
       "total_income        0\n",
       "purpose             0\n",
       "dtype: int64"
      ]
     },
     "execution_count": 12,
     "metadata": {},
     "output_type": "execute_result"
    }
   ],
   "source": [
    "# Checking changes made\n",
    "data.isna().sum()"
   ]
  },
  {
   "cell_type": "markdown",
   "id": "0a9b81f7-3889-46bf-ab70-b3427b5f60c8",
   "metadata": {},
   "source": [
    "### Data type changes"
   ]
  },
  {
   "cell_type": "markdown",
   "id": "82f112f0-5fdb-4421-b9b6-6df933c62db1",
   "metadata": {},
   "source": [
    "Let's change the data in `total_income` column from `float64` to `int64` for convenience. "
   ]
  },
  {
   "cell_type": "code",
   "execution_count": 13,
   "id": "e88d4d85-9e04-4b86-9c12-2d662ddc4c0e",
   "metadata": {},
   "outputs": [],
   "source": [
    "# Converting data type\n",
    "data['total_income'] = data['total_income'].astype(int)"
   ]
  },
  {
   "cell_type": "markdown",
   "id": "9ed8b0b4-1d88-47e5-9d40-6f330603546e",
   "metadata": {},
   "source": [
    "### Duplicates"
   ]
  },
  {
   "cell_type": "markdown",
   "id": "d29658d6-4f5f-4c8e-a068-5a916a822987",
   "metadata": {},
   "source": [
    "We have some implicit duplicates in `education` column, specifically, using both capital and small letters to write down the same education level. Thus, let's convert all values in this column to strings with lowercase letters."
   ]
  },
  {
   "cell_type": "code",
   "execution_count": 14,
   "id": "c6f70eb0-347d-4e85-9827-f9bb9a7fe815",
   "metadata": {},
   "outputs": [],
   "source": [
    "# Converting data to lowercase\n",
    "data['education'] = data['education'].str.lower()"
   ]
  },
  {
   "cell_type": "markdown",
   "id": "2035acad-9762-46ed-b64b-32fc8cee9e30",
   "metadata": {},
   "source": [
    "Now, we can take a look how many duplicates we have."
   ]
  },
  {
   "cell_type": "code",
   "execution_count": 15,
   "id": "2fc7d01c-63df-4654-95e9-45b16418fde6",
   "metadata": {},
   "outputs": [
    {
     "data": {
      "text/plain": [
       "71"
      ]
     },
     "execution_count": 15,
     "metadata": {},
     "output_type": "execute_result"
    }
   ],
   "source": [
    "# Computing the number of explicit duplicates\n",
    "data.duplicated().sum()"
   ]
  },
  {
   "cell_type": "code",
   "execution_count": 16,
   "id": "83d310db-e894-4e16-9e27-26a3a041aae7",
   "metadata": {},
   "outputs": [],
   "source": [
    "# Dropping all duplicates\n",
    "data = data.drop_duplicates()"
   ]
  },
  {
   "cell_type": "markdown",
   "id": "7117cf4a-c6d1-4687-9b65-5d544ff511cf",
   "metadata": {},
   "source": [
    "### Data categorization"
   ]
  },
  {
   "cell_type": "markdown",
   "id": "9f7705d9-850d-4e8f-8ec3-1302a0ed6454",
   "metadata": {},
   "source": [
    "To make further data analysis more convenient, let's create a categorical variable that will classify clients' incomes (in roubles) according to the following ranges:\n",
    "\n",
    "* 0-30,000 => `'E'`\n",
    "* 30,001-50,000 => `'D'`\n",
    "* 50,001-200,000 => `'C'`\n",
    "* 200,001-1,000,000 => `'B'`\n",
    "* 1,000,001 and higher => `'A'`\n",
    "\n",
    "For instance, a borrower with monthly income of, say, 200500 roubles will be put in `'B'` income category. We can program such a categorization by writing a function `categorize_income()` followed by `apply()` method."
   ]
  },
  {
   "cell_type": "code",
   "execution_count": 17,
   "id": "065499e8-095b-410e-b005-feca6e8081fd",
   "metadata": {},
   "outputs": [],
   "source": [
    "# categorize_income() function\n",
    "## A function takes one argument: total income (income)\n",
    "## It then classifies it to a specific income category denoted by a letter \"A-E\"\n",
    "def categorize_income(income):\n",
    "    try:\n",
    "        if 0 <= income <= 30000:\n",
    "            return 'E'\n",
    "        elif 30001 <= income <= 50000:\n",
    "            return 'D'\n",
    "        elif 50001 <= income <= 200000:\n",
    "            return 'C'\n",
    "        elif 200001 <= income <= 1000000:\n",
    "            return 'B'\n",
    "        elif income >= 1000001:\n",
    "            return 'A'\n",
    "    except:\n",
    "        pass"
   ]
  },
  {
   "cell_type": "code",
   "execution_count": 18,
   "id": "53b63fbd-2882-44a9-ba5a-86d0371349e4",
   "metadata": {},
   "outputs": [],
   "source": [
    "# Applying the function to a column of the DataFrame\n",
    "data['total_income_category'] = data['total_income'].apply(categorize_income)"
   ]
  },
  {
   "cell_type": "markdown",
   "id": "efdf2b40-575d-47b6-8730-1c2c0cf7d693",
   "metadata": {},
   "source": [
    "Next, consider possible purposes that clients taking out loans may have."
   ]
  },
  {
   "cell_type": "code",
   "execution_count": 19,
   "id": "47820dfa-f41a-457c-a77f-8034f190f3b6",
   "metadata": {},
   "outputs": [
    {
     "data": {
      "text/plain": [
       "array(['покупка жилья', 'приобретение автомобиля',\n",
       "       'дополнительное образование', 'сыграть свадьбу',\n",
       "       'операции с жильем', 'образование', 'на проведение свадьбы',\n",
       "       'покупка жилья для семьи', 'покупка недвижимости',\n",
       "       'покупка коммерческой недвижимости', 'покупка жилой недвижимости',\n",
       "       'строительство собственной недвижимости', 'недвижимость',\n",
       "       'строительство недвижимости', 'на покупку подержанного автомобиля',\n",
       "       'на покупку своего автомобиля',\n",
       "       'операции с коммерческой недвижимостью',\n",
       "       'строительство жилой недвижимости', 'жилье',\n",
       "       'операции со своей недвижимостью', 'автомобили',\n",
       "       'заняться образованием', 'сделка с подержанным автомобилем',\n",
       "       'получение образования', 'автомобиль', 'свадьба',\n",
       "       'получение дополнительного образования', 'покупка своего жилья',\n",
       "       'операции с недвижимостью', 'получение высшего образования',\n",
       "       'свой автомобиль', 'сделка с автомобилем',\n",
       "       'профильное образование', 'высшее образование',\n",
       "       'покупка жилья для сдачи', 'на покупку автомобиля', 'ремонт жилью',\n",
       "       'заняться высшим образованием'], dtype=object)"
      ]
     },
     "execution_count": 19,
     "metadata": {},
     "output_type": "execute_result"
    }
   ],
   "source": [
    "# Printing unique purposes of taking a loan\n",
    "data['purpose'].unique()"
   ]
  },
  {
   "cell_type": "markdown",
   "id": "f24becf7-e1ac-4a8d-a946-bfe47050f784",
   "metadata": {},
   "source": [
    "We can see that it seems that there are lost of reasons for taking out loans in a bank, including real estate (`жилье`), buying a car (`автомобиль`), wedding (`свадьба`) and education (`образование`). But, in fact, all these purposes are simply written differently but actually refer to similar things. Hence, it is possible to also classify all these reasons into purpose categories:\n",
    "\n",
    "* `'операции с автомобилем'` => buying a car\n",
    "* `'операции с недвижимостью'` => real estate\n",
    "* `'проведение свадьбы'` => wedding\n",
    "* `'получение образования'` => education\n",
    "\n",
    "In order to accomplish this, we can create a function `categorize_purpose()` and use a method `apply()` on it."
   ]
  },
  {
   "cell_type": "code",
   "execution_count": 20,
   "id": "95c3b483-90a4-41dc-9abc-10bac7b142d3",
   "metadata": {},
   "outputs": [],
   "source": [
    "# categorize_purpose() function\n",
    "## A function takes one argument: an element of a Series (row)\n",
    "## It then classifies it according to its word structure to one of four categories\n",
    "def categorize_purpose(row):\n",
    "    try:\n",
    "        if 'автом' in row:\n",
    "            return 'операции с автомобилем'\n",
    "        elif 'жил' in row or 'недвиж' in row:\n",
    "            return 'операции с недвижимостью'\n",
    "        elif 'свад' in row:\n",
    "            return 'проведение свадьбы'\n",
    "        elif 'образов' in row:\n",
    "            return 'получение образования'\n",
    "    except:\n",
    "        return 'нет категории'"
   ]
  },
  {
   "cell_type": "code",
   "execution_count": 21,
   "id": "00505082-73eb-4da1-a361-6040733a9d19",
   "metadata": {},
   "outputs": [],
   "source": [
    "# Applying a function to a column of the DataFrame\n",
    "data['purpose_category'] = data['purpose'].apply(categorize_purpose)"
   ]
  },
  {
   "cell_type": "markdown",
   "id": "6f705762-6d4b-468d-a9da-f601198c90b5",
   "metadata": {},
   "source": [
    "**Conclusions**\n",
    "\n",
    "We have managed to properly preprocess data by dealing with missing and abnormal values, changing the format of data and deleting duplicates, both expicit and implicit. \n",
    "\n",
    "Omissions in the source data were recorded in the columns `days_employed` and `total_income`. One possible reason for missing data may be the failure of an automated system for collecting information about borrowers. For example, when a borrower specifies information about himself in a form on the site and does not specify some information, the site may not notice this and simply send the information further (if the programmer forgot to make some cells mandatory). Another reason may be a purely human factor: if the borrower came to the bank and tells the bank employee information about himself, the employee may simply make a mistake in something and forget to specify the data, which will result in the appearance of `NaN` values.\n",
    "\n",
    "Besides, we have managed to fill in missing values by using a median. As a rule, there are \"outliers\" in quantitative variables - values that are very different from other values in this column. The use of an average value can distort the data in this case and in order to avoid this, a median is used, which will take into account such sharply distinguished values and will not exaggerate the estimate of the missing value.\n",
    "\n",
    "Next step is to actually start conducting creditworthiness analysis itself."
   ]
  },
  {
   "cell_type": "markdown",
   "id": "a67bdc8e-7448-4475-ab62-52e4c309e72f",
   "metadata": {},
   "source": [
    "## Solvency determinants analysis"
   ]
  },
  {
   "cell_type": "markdown",
   "id": "56255c8f-8c6f-4a1d-b8f5-cd809bff9bfa",
   "metadata": {},
   "source": [
    "Now that the data has been preprocessed, we can get to analyzing possible factors that determine the ability of bank's clients to repay a loan on time."
   ]
  },
  {
   "cell_type": "markdown",
   "id": "ec90d48a-1765-4aeb-9a80-59a69ff826ea",
   "metadata": {},
   "source": [
    "### Number of children"
   ]
  },
  {
   "cell_type": "code",
   "execution_count": 22,
   "id": "48f492ba-9b23-4be8-9c79-f11a08a6dc28",
   "metadata": {},
   "outputs": [
    {
     "data": {
      "text/plain": [
       "0    14091\n",
       "1     4808\n",
       "2     2052\n",
       "3      330\n",
       "4       41\n",
       "5        9\n",
       "Name: children, dtype: int64"
      ]
     },
     "execution_count": 22,
     "metadata": {},
     "output_type": "execute_result"
    }
   ],
   "source": [
    "# Computing the number of borrowers in each children group\n",
    "data['children'].value_counts()"
   ]
  },
  {
   "cell_type": "markdown",
   "id": "37e708b4-0102-4e6b-b51d-bbae1bb9af1e",
   "metadata": {},
   "source": [
    "To begin with, let's calculate the total number of borrowers by the number of children using the `value_counts()` method in the `children` column. It can be seen that the number of borrowers broken down by each group varies quite widely, which suggests that people with a large number of children do not take out loans so often."
   ]
  },
  {
   "cell_type": "code",
   "execution_count": 23,
   "id": "88216832-a616-4114-998f-160af0318a8a",
   "metadata": {},
   "outputs": [
    {
     "data": {
      "text/html": [
       "<div>\n",
       "<style scoped>\n",
       "    .dataframe tbody tr th:only-of-type {\n",
       "        vertical-align: middle;\n",
       "    }\n",
       "\n",
       "    .dataframe tbody tr th {\n",
       "        vertical-align: top;\n",
       "    }\n",
       "\n",
       "    .dataframe thead tr th {\n",
       "        text-align: left;\n",
       "    }\n",
       "\n",
       "    .dataframe thead tr:last-of-type th {\n",
       "        text-align: right;\n",
       "    }\n",
       "</style>\n",
       "<table border=\"1\" class=\"dataframe\">\n",
       "  <thead>\n",
       "    <tr>\n",
       "      <th></th>\n",
       "      <th colspan=\"2\" halign=\"left\">debt</th>\n",
       "      <th>no_debt</th>\n",
       "      <th>no_debt_share</th>\n",
       "    </tr>\n",
       "    <tr>\n",
       "      <th></th>\n",
       "      <th>count</th>\n",
       "      <th>sum</th>\n",
       "      <th></th>\n",
       "      <th></th>\n",
       "    </tr>\n",
       "    <tr>\n",
       "      <th>children</th>\n",
       "      <th></th>\n",
       "      <th></th>\n",
       "      <th></th>\n",
       "      <th></th>\n",
       "    </tr>\n",
       "  </thead>\n",
       "  <tbody>\n",
       "    <tr>\n",
       "      <th>5</th>\n",
       "      <td>9</td>\n",
       "      <td>0</td>\n",
       "      <td>9</td>\n",
       "      <td>1.0000</td>\n",
       "    </tr>\n",
       "    <tr>\n",
       "      <th>0</th>\n",
       "      <td>14091</td>\n",
       "      <td>1063</td>\n",
       "      <td>13028</td>\n",
       "      <td>0.9246</td>\n",
       "    </tr>\n",
       "    <tr>\n",
       "      <th>3</th>\n",
       "      <td>330</td>\n",
       "      <td>27</td>\n",
       "      <td>303</td>\n",
       "      <td>0.9182</td>\n",
       "    </tr>\n",
       "    <tr>\n",
       "      <th>1</th>\n",
       "      <td>4808</td>\n",
       "      <td>444</td>\n",
       "      <td>4364</td>\n",
       "      <td>0.9077</td>\n",
       "    </tr>\n",
       "    <tr>\n",
       "      <th>2</th>\n",
       "      <td>2052</td>\n",
       "      <td>194</td>\n",
       "      <td>1858</td>\n",
       "      <td>0.9055</td>\n",
       "    </tr>\n",
       "    <tr>\n",
       "      <th>4</th>\n",
       "      <td>41</td>\n",
       "      <td>4</td>\n",
       "      <td>37</td>\n",
       "      <td>0.9024</td>\n",
       "    </tr>\n",
       "  </tbody>\n",
       "</table>\n",
       "</div>"
      ],
      "text/plain": [
       "           debt       no_debt no_debt_share\n",
       "          count   sum                      \n",
       "children                                   \n",
       "5             9     0       9        1.0000\n",
       "0         14091  1063   13028        0.9246\n",
       "3           330    27     303        0.9182\n",
       "1          4808   444    4364        0.9077\n",
       "2          2052   194    1858        0.9055\n",
       "4            41     4      37        0.9024"
      ]
     },
     "execution_count": 23,
     "metadata": {},
     "output_type": "execute_result"
    }
   ],
   "source": [
    "# Aggregating data\n",
    "children_grouped = data.groupby('children').agg({'debt': ['count', 'sum']})\n",
    "# Computing number of borrowers who managed to repay on time by groups\n",
    "children_grouped['no_debt'] = children_grouped['debt']['count'] - children_grouped['debt']['sum']\n",
    "# Computing a fraction of borrowers who managed to repay on time by groups\n",
    "children_grouped['no_debt_share'] = round(children_grouped['no_debt'] \\\n",
    "         / children_grouped['debt']['count'], 4)\n",
    "# Sorting data\n",
    "children_grouped.sort_values('no_debt_share', ascending=False)"
   ]
  },
  {
   "cell_type": "markdown",
   "id": "bdb50df9-2286-4788-abdf-f8a1f5ef4613",
   "metadata": {},
   "source": [
    "Now let's try to answer the question posed. To do this, we aggregate the data using the `agg` method, counting the number of borrowers by groups using the `count` method, and using the `sum` method to count the number of people with debts (value of 1 in `debt` column refers to a person who has not paid on time). Next, we will count the number of people who have paid off the loan on time, finding the difference between these two columns.\n",
    "\n",
    "Let's look at the data from the bank's point of view and use as a metric of loan repayment on time - \"the proportion of people who have paid off a loan on time in a certain group\" (`no_debt_share`). It can be seen that samples of borrowers with three or more children do not have many observations, especially for a group of people with five children. In other words, such samples are not representative enough and therefore it makes sense to compare samples with 0, 1 and 2 children."
   ]
  },
  {
   "cell_type": "code",
   "execution_count": 24,
   "id": "759b5944-9d29-43e6-90f3-e57f1cb4504c",
   "metadata": {},
   "outputs": [
    {
     "data": {
      "text/html": [
       "<div>\n",
       "<style scoped>\n",
       "    .dataframe tbody tr th:only-of-type {\n",
       "        vertical-align: middle;\n",
       "    }\n",
       "\n",
       "    .dataframe tbody tr th {\n",
       "        vertical-align: top;\n",
       "    }\n",
       "\n",
       "    .dataframe thead tr th {\n",
       "        text-align: left;\n",
       "    }\n",
       "\n",
       "    .dataframe thead tr:last-of-type th {\n",
       "        text-align: right;\n",
       "    }\n",
       "</style>\n",
       "<table border=\"1\" class=\"dataframe\">\n",
       "  <thead>\n",
       "    <tr>\n",
       "      <th></th>\n",
       "      <th colspan=\"2\" halign=\"left\">debt</th>\n",
       "      <th>no_debt</th>\n",
       "      <th>no_debt_share</th>\n",
       "    </tr>\n",
       "    <tr>\n",
       "      <th></th>\n",
       "      <th>count</th>\n",
       "      <th>sum</th>\n",
       "      <th></th>\n",
       "      <th></th>\n",
       "    </tr>\n",
       "    <tr>\n",
       "      <th>children</th>\n",
       "      <th></th>\n",
       "      <th></th>\n",
       "      <th></th>\n",
       "      <th></th>\n",
       "    </tr>\n",
       "  </thead>\n",
       "  <tbody>\n",
       "    <tr>\n",
       "      <th>0</th>\n",
       "      <td>14091</td>\n",
       "      <td>1063</td>\n",
       "      <td>13028</td>\n",
       "      <td>0.9246</td>\n",
       "    </tr>\n",
       "    <tr>\n",
       "      <th>1</th>\n",
       "      <td>4808</td>\n",
       "      <td>444</td>\n",
       "      <td>4364</td>\n",
       "      <td>0.9077</td>\n",
       "    </tr>\n",
       "    <tr>\n",
       "      <th>2</th>\n",
       "      <td>2052</td>\n",
       "      <td>194</td>\n",
       "      <td>1858</td>\n",
       "      <td>0.9055</td>\n",
       "    </tr>\n",
       "  </tbody>\n",
       "</table>\n",
       "</div>"
      ],
      "text/plain": [
       "           debt       no_debt no_debt_share\n",
       "          count   sum                      \n",
       "children                                   \n",
       "0         14091  1063   13028        0.9246\n",
       "1          4808   444    4364        0.9077\n",
       "2          2052   194    1858        0.9055"
      ]
     },
     "execution_count": 24,
     "metadata": {},
     "output_type": "execute_result"
    }
   ],
   "source": [
    "# Printing a table for subsamples of borrowers with 0, 1, 2 children\n",
    "children_grouped.loc[:2, :]"
   ]
  },
  {
   "cell_type": "markdown",
   "id": "365332e3-d16f-4d9d-a33d-4b1cac2e4ebb",
   "metadata": {},
   "source": [
    "Considering this grouping, it is obvious that with a larger number of children, the probability of repayment of the loan decreases: childless borrowers repay the loan on time in about 92.5% of cases, while for borrowers with a large number of children, this indicator is in the region of 90-91%. In other words, the repayment of the loan on time has an inverse relationship with the number of children of the borrower."
   ]
  },
  {
   "cell_type": "markdown",
   "id": "a71290f3-0add-4cae-a0ef-ee1246d59dfb",
   "metadata": {},
   "source": [
    "### Family status"
   ]
  },
  {
   "cell_type": "code",
   "execution_count": 25,
   "id": "c0759f35-d06b-48db-b463-859b2a440ffc",
   "metadata": {},
   "outputs": [
    {
     "data": {
      "text/plain": [
       "женат / замужем          12261\n",
       "гражданский брак          4134\n",
       "Не женат / не замужем     2796\n",
       "в разводе                 1189\n",
       "вдовец / вдова             951\n",
       "Name: family_status, dtype: int64"
      ]
     },
     "execution_count": 25,
     "metadata": {},
     "output_type": "execute_result"
    }
   ],
   "source": [
    "# Computing the number of borrowers in each group by family status\n",
    "data['family_status'].value_counts()"
   ]
  },
  {
   "cell_type": "markdown",
   "id": "e2155fbc-cb51-4b5d-b394-7932c51acd5c",
   "metadata": {},
   "source": [
    "Let's apply the same strategy and look at the number of borrowers by marital status. Mostly loans are taken by people who are married (`женат / замужем`), and least of all by borrowers without official relations - widower/widow (`вдовец / вдова`) and divorced (`в разводе`). However, this does not mean that people who take out loans less often pay less on time."
   ]
  },
  {
   "cell_type": "code",
   "execution_count": 26,
   "id": "49e1fb85-9afb-4f58-bac4-9b59401b2439",
   "metadata": {},
   "outputs": [
    {
     "data": {
      "text/html": [
       "<div>\n",
       "<style scoped>\n",
       "    .dataframe tbody tr th:only-of-type {\n",
       "        vertical-align: middle;\n",
       "    }\n",
       "\n",
       "    .dataframe tbody tr th {\n",
       "        vertical-align: top;\n",
       "    }\n",
       "\n",
       "    .dataframe thead tr th {\n",
       "        text-align: left;\n",
       "    }\n",
       "\n",
       "    .dataframe thead tr:last-of-type th {\n",
       "        text-align: right;\n",
       "    }\n",
       "</style>\n",
       "<table border=\"1\" class=\"dataframe\">\n",
       "  <thead>\n",
       "    <tr>\n",
       "      <th></th>\n",
       "      <th colspan=\"2\" halign=\"left\">debt</th>\n",
       "      <th>no_debt</th>\n",
       "      <th>no_debt_share</th>\n",
       "      <th>family_status_eng</th>\n",
       "    </tr>\n",
       "    <tr>\n",
       "      <th></th>\n",
       "      <th>count</th>\n",
       "      <th>sum</th>\n",
       "      <th></th>\n",
       "      <th></th>\n",
       "      <th></th>\n",
       "    </tr>\n",
       "    <tr>\n",
       "      <th>family_status</th>\n",
       "      <th></th>\n",
       "      <th></th>\n",
       "      <th></th>\n",
       "      <th></th>\n",
       "      <th></th>\n",
       "    </tr>\n",
       "  </thead>\n",
       "  <tbody>\n",
       "    <tr>\n",
       "      <th>вдовец / вдова</th>\n",
       "      <td>951</td>\n",
       "      <td>63</td>\n",
       "      <td>888</td>\n",
       "      <td>0.9338</td>\n",
       "      <td>widower/widow</td>\n",
       "    </tr>\n",
       "    <tr>\n",
       "      <th>в разводе</th>\n",
       "      <td>1189</td>\n",
       "      <td>84</td>\n",
       "      <td>1105</td>\n",
       "      <td>0.9294</td>\n",
       "      <td>divorced</td>\n",
       "    </tr>\n",
       "    <tr>\n",
       "      <th>женат / замужем</th>\n",
       "      <td>12261</td>\n",
       "      <td>927</td>\n",
       "      <td>11334</td>\n",
       "      <td>0.9244</td>\n",
       "      <td>married</td>\n",
       "    </tr>\n",
       "    <tr>\n",
       "      <th>гражданский брак</th>\n",
       "      <td>4134</td>\n",
       "      <td>385</td>\n",
       "      <td>3749</td>\n",
       "      <td>0.9069</td>\n",
       "      <td>civil marriage</td>\n",
       "    </tr>\n",
       "    <tr>\n",
       "      <th>Не женат / не замужем</th>\n",
       "      <td>2796</td>\n",
       "      <td>273</td>\n",
       "      <td>2523</td>\n",
       "      <td>0.9024</td>\n",
       "      <td>not married</td>\n",
       "    </tr>\n",
       "  </tbody>\n",
       "</table>\n",
       "</div>"
      ],
      "text/plain": [
       "                        debt      no_debt no_debt_share family_status_eng\n",
       "                       count  sum                                        \n",
       "family_status                                                            \n",
       "вдовец / вдова           951   63     888        0.9338     widower/widow\n",
       "в разводе               1189   84    1105        0.9294          divorced\n",
       "женат / замужем        12261  927   11334        0.9244           married\n",
       "гражданский брак        4134  385    3749        0.9069    civil marriage\n",
       "Не женат / не замужем   2796  273    2523        0.9024       not married"
      ]
     },
     "execution_count": 26,
     "metadata": {},
     "output_type": "execute_result"
    }
   ],
   "source": [
    "# Aggregating data\n",
    "family_grouped = data.groupby('family_status').agg({'debt': ['count', 'sum']})\n",
    "# Computing the number of borrowers who repaid on time by groups\n",
    "family_grouped['no_debt'] = family_grouped['debt']['count'] - family_grouped['debt']['sum']\n",
    "# Computing the fraction of borrowers who repaid on time by groups\n",
    "family_grouped['no_debt_share'] = round(family_grouped['no_debt'] \\\n",
    "        / family_grouped['debt']['count'], 4)\n",
    "# Adding english translation of family statuses\n",
    "family_grouped['family_status_eng'] = ['not married', 'divorced', 'widower/widow', 'civil marriage', 'married']\n",
    "# Sorting data\n",
    "family_grouped.sort_values('no_debt_share', ascending=False)"
   ]
  },
  {
   "cell_type": "markdown",
   "id": "13f93198-8063-44a6-82a4-403b481042d2",
   "metadata": {},
   "source": [
    "As in the previous point, the number of observations in each sample has a fairly strong influence on the results of the study, since a smaller sample will absorb less information, thus distorting them. Therefore, in this case it makes sense to consider categories that include, say, more than 2000 people. Thus, we will exclude the categories of widower/widows (`вдовец / вдова`) and divorced (`в разводе`) from the analysis and consider others."
   ]
  },
  {
   "cell_type": "code",
   "execution_count": 27,
   "id": "1caa431f-b280-428a-9fe2-8680c21a3a9e",
   "metadata": {},
   "outputs": [
    {
     "data": {
      "text/html": [
       "<div>\n",
       "<style scoped>\n",
       "    .dataframe tbody tr th:only-of-type {\n",
       "        vertical-align: middle;\n",
       "    }\n",
       "\n",
       "    .dataframe tbody tr th {\n",
       "        vertical-align: top;\n",
       "    }\n",
       "\n",
       "    .dataframe thead tr th {\n",
       "        text-align: left;\n",
       "    }\n",
       "\n",
       "    .dataframe thead tr:last-of-type th {\n",
       "        text-align: right;\n",
       "    }\n",
       "</style>\n",
       "<table border=\"1\" class=\"dataframe\">\n",
       "  <thead>\n",
       "    <tr>\n",
       "      <th></th>\n",
       "      <th colspan=\"2\" halign=\"left\">debt</th>\n",
       "      <th>no_debt</th>\n",
       "      <th>no_debt_share</th>\n",
       "      <th>family_status_eng</th>\n",
       "    </tr>\n",
       "    <tr>\n",
       "      <th></th>\n",
       "      <th>count</th>\n",
       "      <th>sum</th>\n",
       "      <th></th>\n",
       "      <th></th>\n",
       "      <th></th>\n",
       "    </tr>\n",
       "    <tr>\n",
       "      <th>family_status</th>\n",
       "      <th></th>\n",
       "      <th></th>\n",
       "      <th></th>\n",
       "      <th></th>\n",
       "      <th></th>\n",
       "    </tr>\n",
       "  </thead>\n",
       "  <tbody>\n",
       "    <tr>\n",
       "      <th>женат / замужем</th>\n",
       "      <td>12261</td>\n",
       "      <td>927</td>\n",
       "      <td>11334</td>\n",
       "      <td>0.9244</td>\n",
       "      <td>married</td>\n",
       "    </tr>\n",
       "    <tr>\n",
       "      <th>гражданский брак</th>\n",
       "      <td>4134</td>\n",
       "      <td>385</td>\n",
       "      <td>3749</td>\n",
       "      <td>0.9069</td>\n",
       "      <td>civil marriage</td>\n",
       "    </tr>\n",
       "    <tr>\n",
       "      <th>Не женат / не замужем</th>\n",
       "      <td>2796</td>\n",
       "      <td>273</td>\n",
       "      <td>2523</td>\n",
       "      <td>0.9024</td>\n",
       "      <td>not married</td>\n",
       "    </tr>\n",
       "  </tbody>\n",
       "</table>\n",
       "</div>"
      ],
      "text/plain": [
       "                        debt      no_debt no_debt_share family_status_eng\n",
       "                       count  sum                                        \n",
       "family_status                                                            \n",
       "женат / замужем        12261  927   11334        0.9244           married\n",
       "гражданский брак        4134  385    3749        0.9069    civil marriage\n",
       "Не женат / не замужем   2796  273    2523        0.9024       not married"
      ]
     },
     "execution_count": 27,
     "metadata": {},
     "output_type": "execute_result"
    }
   ],
   "source": [
    "rows = data['family_status'].unique()\n",
    "family_grouped.loc[[rows[0], rows[1], rows[4]], :]"
   ]
  },
  {
   "cell_type": "markdown",
   "id": "c9d14a7b-91a8-449b-9efc-5d8c3626bbf1",
   "metadata": {},
   "source": [
    "Now the dependence is more clearly traced: more family people are more responsible for timely repayment of debt, which is manifested in a high value of the share of refunds for such categories of borrowers. Thus, we have a direct relationship between the \"formality\" of family relations and the repayment of the loan on time."
   ]
  },
  {
   "cell_type": "markdown",
   "id": "e6be0345-970c-49ed-9f8f-088c62470bc4",
   "metadata": {},
   "source": [
    "### Total income"
   ]
  },
  {
   "cell_type": "code",
   "execution_count": 28,
   "id": "9123a83b-58fc-411b-9f4f-213447a3cb3b",
   "metadata": {},
   "outputs": [
    {
     "data": {
      "text/plain": [
       "C    15921\n",
       "B     5014\n",
       "D      349\n",
       "A       25\n",
       "E       22\n",
       "Name: total_income_category, dtype: int64"
      ]
     },
     "execution_count": 28,
     "metadata": {},
     "output_type": "execute_result"
    }
   ],
   "source": [
    "# Computing the number of borrowers in each group by income\n",
    "data['total_income_category'].value_counts()"
   ]
  },
  {
   "cell_type": "code",
   "execution_count": 29,
   "id": "d513d0c2-9c76-4055-b1ee-f67bbc7316fb",
   "metadata": {},
   "outputs": [
    {
     "data": {
      "text/html": [
       "<div>\n",
       "<style scoped>\n",
       "    .dataframe tbody tr th:only-of-type {\n",
       "        vertical-align: middle;\n",
       "    }\n",
       "\n",
       "    .dataframe tbody tr th {\n",
       "        vertical-align: top;\n",
       "    }\n",
       "\n",
       "    .dataframe thead tr th {\n",
       "        text-align: left;\n",
       "    }\n",
       "\n",
       "    .dataframe thead tr:last-of-type th {\n",
       "        text-align: right;\n",
       "    }\n",
       "</style>\n",
       "<table border=\"1\" class=\"dataframe\">\n",
       "  <thead>\n",
       "    <tr>\n",
       "      <th></th>\n",
       "      <th colspan=\"2\" halign=\"left\">debt</th>\n",
       "      <th>no_debt</th>\n",
       "      <th>no_debt_share</th>\n",
       "      <th>income_range</th>\n",
       "    </tr>\n",
       "    <tr>\n",
       "      <th></th>\n",
       "      <th>count</th>\n",
       "      <th>sum</th>\n",
       "      <th></th>\n",
       "      <th></th>\n",
       "      <th></th>\n",
       "    </tr>\n",
       "    <tr>\n",
       "      <th>total_income_category</th>\n",
       "      <th></th>\n",
       "      <th></th>\n",
       "      <th></th>\n",
       "      <th></th>\n",
       "      <th></th>\n",
       "    </tr>\n",
       "  </thead>\n",
       "  <tbody>\n",
       "    <tr>\n",
       "      <th>D</th>\n",
       "      <td>349</td>\n",
       "      <td>21</td>\n",
       "      <td>328</td>\n",
       "      <td>0.9398</td>\n",
       "      <td>30,001-50,000</td>\n",
       "    </tr>\n",
       "    <tr>\n",
       "      <th>B</th>\n",
       "      <td>5014</td>\n",
       "      <td>354</td>\n",
       "      <td>4660</td>\n",
       "      <td>0.9294</td>\n",
       "      <td>200,001-1,000,000</td>\n",
       "    </tr>\n",
       "    <tr>\n",
       "      <th>A</th>\n",
       "      <td>25</td>\n",
       "      <td>2</td>\n",
       "      <td>23</td>\n",
       "      <td>0.9200</td>\n",
       "      <td>&gt;1,000,000</td>\n",
       "    </tr>\n",
       "    <tr>\n",
       "      <th>C</th>\n",
       "      <td>15921</td>\n",
       "      <td>1353</td>\n",
       "      <td>14568</td>\n",
       "      <td>0.9150</td>\n",
       "      <td>50,001-200,000</td>\n",
       "    </tr>\n",
       "    <tr>\n",
       "      <th>E</th>\n",
       "      <td>22</td>\n",
       "      <td>2</td>\n",
       "      <td>20</td>\n",
       "      <td>0.9091</td>\n",
       "      <td>0-30,000</td>\n",
       "    </tr>\n",
       "  </tbody>\n",
       "</table>\n",
       "</div>"
      ],
      "text/plain": [
       "                        debt       no_debt no_debt_share       income_range\n",
       "                       count   sum                                         \n",
       "total_income_category                                                      \n",
       "D                        349    21     328        0.9398      30,001-50,000\n",
       "B                       5014   354    4660        0.9294  200,001-1,000,000\n",
       "A                         25     2      23        0.9200         >1,000,000\n",
       "C                      15921  1353   14568        0.9150     50,001-200,000\n",
       "E                         22     2      20        0.9091           0-30,000"
      ]
     },
     "execution_count": 29,
     "metadata": {},
     "output_type": "execute_result"
    }
   ],
   "source": [
    "# Aggregating data\n",
    "total_income_grouped = data.groupby('total_income_category').agg({'debt': ['count', 'sum']})\n",
    "# Computing the number of people who repaid on time by groups\n",
    "total_income_grouped['no_debt'] = total_income_grouped['debt']['count'] \\\n",
    "        - total_income_grouped['debt']['sum']\n",
    "# Computing the fraction of people who repaid on time by groups\n",
    "total_income_grouped['no_debt_share'] = round(total_income_grouped['no_debt'] \\\n",
    "        / total_income_grouped['debt']['count'], 4)\n",
    "# Adding income ranges\n",
    "total_income_grouped['income_range'] = ['>1,000,000', '200,001-1,000,000', '50,001-200,000', \n",
    "                                        '30,001-50,000', '0-30,000']\n",
    "# Sorting the table\n",
    "total_income_grouped.sort_values('no_debt_share', ascending=False)"
   ]
  },
  {
   "cell_type": "markdown",
   "id": "09abba56-5eed-4236-b709-32c04ba90a99",
   "metadata": {},
   "source": [
    "The table shows a similar situation: the number of borrowers of categories A, E and D is extremely small, which may affect the results of the study. Borrowers in these groups are underrepresented and it would be better to exclude them from the analysis and consider the remaining categories."
   ]
  },
  {
   "cell_type": "code",
   "execution_count": 30,
   "id": "61c26a51-9143-4a7b-883b-811569261735",
   "metadata": {},
   "outputs": [
    {
     "data": {
      "text/html": [
       "<div>\n",
       "<style scoped>\n",
       "    .dataframe tbody tr th:only-of-type {\n",
       "        vertical-align: middle;\n",
       "    }\n",
       "\n",
       "    .dataframe tbody tr th {\n",
       "        vertical-align: top;\n",
       "    }\n",
       "\n",
       "    .dataframe thead tr th {\n",
       "        text-align: left;\n",
       "    }\n",
       "\n",
       "    .dataframe thead tr:last-of-type th {\n",
       "        text-align: right;\n",
       "    }\n",
       "</style>\n",
       "<table border=\"1\" class=\"dataframe\">\n",
       "  <thead>\n",
       "    <tr>\n",
       "      <th></th>\n",
       "      <th colspan=\"2\" halign=\"left\">debt</th>\n",
       "      <th>no_debt</th>\n",
       "      <th>no_debt_share</th>\n",
       "      <th>income_range</th>\n",
       "    </tr>\n",
       "    <tr>\n",
       "      <th></th>\n",
       "      <th>count</th>\n",
       "      <th>sum</th>\n",
       "      <th></th>\n",
       "      <th></th>\n",
       "      <th></th>\n",
       "    </tr>\n",
       "    <tr>\n",
       "      <th>total_income_category</th>\n",
       "      <th></th>\n",
       "      <th></th>\n",
       "      <th></th>\n",
       "      <th></th>\n",
       "      <th></th>\n",
       "    </tr>\n",
       "  </thead>\n",
       "  <tbody>\n",
       "    <tr>\n",
       "      <th>B</th>\n",
       "      <td>5014</td>\n",
       "      <td>354</td>\n",
       "      <td>4660</td>\n",
       "      <td>0.9294</td>\n",
       "      <td>200,001-1,000,000</td>\n",
       "    </tr>\n",
       "    <tr>\n",
       "      <th>C</th>\n",
       "      <td>15921</td>\n",
       "      <td>1353</td>\n",
       "      <td>14568</td>\n",
       "      <td>0.9150</td>\n",
       "      <td>50,001-200,000</td>\n",
       "    </tr>\n",
       "  </tbody>\n",
       "</table>\n",
       "</div>"
      ],
      "text/plain": [
       "                        debt       no_debt no_debt_share       income_range\n",
       "                       count   sum                                         \n",
       "total_income_category                                                      \n",
       "B                       5014   354    4660        0.9294  200,001-1,000,000\n",
       "C                      15921  1353   14568        0.9150     50,001-200,000"
      ]
     },
     "execution_count": 30,
     "metadata": {},
     "output_type": "execute_result"
    }
   ],
   "source": [
    "rows = ['B', 'C']\n",
    "total_income_grouped.loc[rows, :]"
   ]
  },
  {
   "cell_type": "markdown",
   "id": "1f4089c4-0cc9-4bc1-a4f7-7ba2d871a23d",
   "metadata": {},
   "source": [
    "So, we can see that the higher the borrower's income category, the higher the probability of debt repayment, so we have a direct relationship between these two variables."
   ]
  },
  {
   "cell_type": "markdown",
   "id": "765bd2fc-ba2a-4c77-89e1-fb195a58bef7",
   "metadata": {},
   "source": [
    "### Loan purpose"
   ]
  },
  {
   "cell_type": "code",
   "execution_count": 31,
   "id": "517b7777-364c-43f3-8840-107f27006f8d",
   "metadata": {},
   "outputs": [
    {
     "data": {
      "text/plain": [
       "операции с недвижимостью    10751\n",
       "операции с автомобилем       4279\n",
       "получение образования        3988\n",
       "проведение свадьбы           2313\n",
       "Name: purpose_category, dtype: int64"
      ]
     },
     "execution_count": 31,
     "metadata": {},
     "output_type": "execute_result"
    }
   ],
   "source": [
    "# Computing the number of borrowers in each group by loan purpose\n",
    "data['purpose_category'].value_counts()"
   ]
  },
  {
   "cell_type": "code",
   "execution_count": 32,
   "id": "836f74aa-7310-499e-8e75-f24a655c144f",
   "metadata": {},
   "outputs": [
    {
     "data": {
      "text/html": [
       "<div>\n",
       "<style scoped>\n",
       "    .dataframe tbody tr th:only-of-type {\n",
       "        vertical-align: middle;\n",
       "    }\n",
       "\n",
       "    .dataframe tbody tr th {\n",
       "        vertical-align: top;\n",
       "    }\n",
       "\n",
       "    .dataframe thead tr th {\n",
       "        text-align: left;\n",
       "    }\n",
       "\n",
       "    .dataframe thead tr:last-of-type th {\n",
       "        text-align: right;\n",
       "    }\n",
       "</style>\n",
       "<table border=\"1\" class=\"dataframe\">\n",
       "  <thead>\n",
       "    <tr>\n",
       "      <th></th>\n",
       "      <th colspan=\"2\" halign=\"left\">debt</th>\n",
       "      <th>no_debt</th>\n",
       "      <th>no_debt_share</th>\n",
       "      <th>purpose_category_eng</th>\n",
       "    </tr>\n",
       "    <tr>\n",
       "      <th></th>\n",
       "      <th>count</th>\n",
       "      <th>sum</th>\n",
       "      <th></th>\n",
       "      <th></th>\n",
       "      <th></th>\n",
       "    </tr>\n",
       "    <tr>\n",
       "      <th>purpose_category</th>\n",
       "      <th></th>\n",
       "      <th></th>\n",
       "      <th></th>\n",
       "      <th></th>\n",
       "      <th></th>\n",
       "    </tr>\n",
       "  </thead>\n",
       "  <tbody>\n",
       "    <tr>\n",
       "      <th>операции с недвижимостью</th>\n",
       "      <td>10751</td>\n",
       "      <td>780</td>\n",
       "      <td>9971</td>\n",
       "      <td>0.9274</td>\n",
       "      <td>real estate</td>\n",
       "    </tr>\n",
       "    <tr>\n",
       "      <th>проведение свадьбы</th>\n",
       "      <td>2313</td>\n",
       "      <td>183</td>\n",
       "      <td>2130</td>\n",
       "      <td>0.9209</td>\n",
       "      <td>wedding</td>\n",
       "    </tr>\n",
       "    <tr>\n",
       "      <th>получение образования</th>\n",
       "      <td>3988</td>\n",
       "      <td>369</td>\n",
       "      <td>3619</td>\n",
       "      <td>0.9075</td>\n",
       "      <td>education</td>\n",
       "    </tr>\n",
       "    <tr>\n",
       "      <th>операции с автомобилем</th>\n",
       "      <td>4279</td>\n",
       "      <td>400</td>\n",
       "      <td>3879</td>\n",
       "      <td>0.9065</td>\n",
       "      <td>car</td>\n",
       "    </tr>\n",
       "  </tbody>\n",
       "</table>\n",
       "</div>"
      ],
      "text/plain": [
       "                           debt      no_debt no_debt_share  \\\n",
       "                          count  sum                         \n",
       "purpose_category                                             \n",
       "операции с недвижимостью  10751  780    9971        0.9274   \n",
       "проведение свадьбы         2313  183    2130        0.9209   \n",
       "получение образования      3988  369    3619        0.9075   \n",
       "операции с автомобилем     4279  400    3879        0.9065   \n",
       "\n",
       "                         purpose_category_eng  \n",
       "                                               \n",
       "purpose_category                               \n",
       "операции с недвижимостью          real estate  \n",
       "проведение свадьбы                    wedding  \n",
       "получение образования               education  \n",
       "операции с автомобилем                    car  "
      ]
     },
     "execution_count": 32,
     "metadata": {},
     "output_type": "execute_result"
    }
   ],
   "source": [
    "# Aggregating data\n",
    "purpose_grouped = data.groupby('purpose_category').agg({'debt': ['count', 'sum']})\n",
    "# Computing the number of people who repaid on time by purpose\n",
    "purpose_grouped['no_debt'] = purpose_grouped['debt']['count'] \\\n",
    "        - purpose_grouped['debt']['sum']\n",
    "# Computing the fraction of people who repaid on time by purpose\n",
    "purpose_grouped['no_debt_share'] = round(purpose_grouped['no_debt'] \\\n",
    "        / purpose_grouped['debt']['count'], 4)\n",
    "# Adding english translation of loan purposes\n",
    "purpose_grouped['purpose_category_eng'] = ['car', 'real estate', 'education', 'wedding']\n",
    "# Sorting data\n",
    "purpose_grouped.sort_values('no_debt_share', ascending=False)"
   ]
  },
  {
   "cell_type": "markdown",
   "id": "78872743-9f12-4e6e-82e9-bc567d5cae31",
   "metadata": {},
   "source": [
    "Basically, loans are taken for real estate transactions and, moreover, borrowers of this group more often repay loans, so this direction of lending should be considered by bank analysts."
   ]
  },
  {
   "cell_type": "markdown",
   "id": "4d929666-bf62-4df0-b6ef-175cb7c1d16f",
   "metadata": {},
   "source": [
    "**Conclusions**\n",
    "\n",
    "By considering separate solvency-affecting factors, we have managed to identify possible profit-enhacing channels that a bank can focus on."
   ]
  },
  {
   "cell_type": "markdown",
   "id": "25ec64e5-4f62-4716-968f-0036c1139824",
   "metadata": {},
   "source": [
    "## Conclusion"
   ]
  },
  {
   "cell_type": "markdown",
   "id": "8a8f92e0-1780-4360-8dae-2f44c77f86a7",
   "metadata": {},
   "source": [
    "So, in this study, the statistics of the solvency of customers of a credit institution were analyzed. To obtain the results, the data obtained were carefully preprocessed: duplicates were removed, abnormal and missing values were processed, and data categorization was carried out to simplify further data analysis.\n",
    "\n",
    "Based on the results of the study, the following conclusion can be drawn. In order for the bank to increase its profits, the following groups of borrowers are the most profitable sources of funds for the bank:\n",
    "\n",
    "* Childless;\n",
    "\n",
    "* Married;\n",
    "\n",
    "* People with salaries from 200,000 to 1,000,000 roubles;\n",
    "\n",
    "* People taking out loans for real estate transactions.\n",
    "\n",
    "In the future, it is recommendable that in the process of collecting data, a more careful approach to their processing is applied. In particular, it is advisable that missing values in the data be processed appropriately at the stage of sending them for analysis, or explanations be provided regarding the nature of their absence. The same applies to checking the correctness of the data format. This will lead to more efficient data analysis and the provision of more accurate recommendations and results."
   ]
  }
 ],
 "metadata": {
  "kernelspec": {
   "display_name": "Python 3 (ipykernel)",
   "language": "python",
   "name": "python3"
  },
  "language_info": {
   "codemirror_mode": {
    "name": "ipython",
    "version": 3
   },
   "file_extension": ".py",
   "mimetype": "text/x-python",
   "name": "python",
   "nbconvert_exporter": "python",
   "pygments_lexer": "ipython3",
   "version": "3.9.13"
  }
 },
 "nbformat": 4,
 "nbformat_minor": 5
}
