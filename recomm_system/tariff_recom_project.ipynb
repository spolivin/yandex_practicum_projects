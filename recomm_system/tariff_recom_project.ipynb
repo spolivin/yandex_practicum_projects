{
 "cells": [
  {
   "cell_type": "markdown",
   "id": "7f4b7445-0a1e-481e-a990-b6808b520443",
   "metadata": {},
   "source": [
    "## Exploring data"
   ]
  },
  {
   "cell_type": "markdown",
   "id": "59645d5c-4cdd-4308-bf0f-b6615d52fb21",
   "metadata": {},
   "source": [
    "Firstly, we will need to carefully study the dataset that will be used to solve the classification problem. To do this, we will load the necessary libraries and import data structures and functions which will be particularly useful in training machine learning models."
   ]
  },
  {
   "cell_type": "code",
   "execution_count": 1,
   "id": "8e66eaf2-3d27-47fa-aaec-2cd2fd7a1722",
   "metadata": {},
   "outputs": [],
   "source": [
    "import pandas as pd \n",
    "from sklearn.tree import DecisionTreeClassifier\n",
    "from sklearn.ensemble import RandomForestClassifier\n",
    "from sklearn.linear_model import LogisticRegression\n",
    "from sklearn.dummy import DummyClassifier\n",
    "from sklearn.model_selection import train_test_split\n",
    "from sklearn.metrics import accuracy_score"
   ]
  },
  {
   "cell_type": "markdown",
   "id": "24e6c4b7-7282-4876-9a2d-6b8fd094d5e2",
   "metadata": {},
   "source": [
    "Now, after getting access to `pandas` library for data analysis, we will use the `read_csv()` function to read the dataset and save it as a DataFrame."
   ]
  },
  {
   "cell_type": "code",
   "execution_count": 2,
   "id": "674397d4-fea2-4eb1-9e5a-3c35e573a807",
   "metadata": {},
   "outputs": [],
   "source": [
    "users_data = pd.read_csv('users_behavior.csv')"
   ]
  },
  {
   "cell_type": "markdown",
   "id": "ffdfdcb0-3d99-4db3-b0ef-65ec268a23fb",
   "metadata": {},
   "source": [
    "Let's display the first ten rows of the DataFrame contained in `users_data` variable and consider the information shown."
   ]
  },
  {
   "cell_type": "code",
   "execution_count": 3,
   "id": "ecc42167-965e-4154-89d2-b06983301f8d",
   "metadata": {},
   "outputs": [
    {
     "data": {
      "text/html": [
       "<div>\n",
       "<style scoped>\n",
       "    .dataframe tbody tr th:only-of-type {\n",
       "        vertical-align: middle;\n",
       "    }\n",
       "\n",
       "    .dataframe tbody tr th {\n",
       "        vertical-align: top;\n",
       "    }\n",
       "\n",
       "    .dataframe thead th {\n",
       "        text-align: right;\n",
       "    }\n",
       "</style>\n",
       "<table border=\"1\" class=\"dataframe\">\n",
       "  <thead>\n",
       "    <tr style=\"text-align: right;\">\n",
       "      <th></th>\n",
       "      <th>calls</th>\n",
       "      <th>minutes</th>\n",
       "      <th>messages</th>\n",
       "      <th>mb_used</th>\n",
       "      <th>is_ultra</th>\n",
       "    </tr>\n",
       "  </thead>\n",
       "  <tbody>\n",
       "    <tr>\n",
       "      <th>0</th>\n",
       "      <td>40.0</td>\n",
       "      <td>311.90</td>\n",
       "      <td>83.0</td>\n",
       "      <td>19915.42</td>\n",
       "      <td>0</td>\n",
       "    </tr>\n",
       "    <tr>\n",
       "      <th>1</th>\n",
       "      <td>85.0</td>\n",
       "      <td>516.75</td>\n",
       "      <td>56.0</td>\n",
       "      <td>22696.96</td>\n",
       "      <td>0</td>\n",
       "    </tr>\n",
       "    <tr>\n",
       "      <th>2</th>\n",
       "      <td>77.0</td>\n",
       "      <td>467.66</td>\n",
       "      <td>86.0</td>\n",
       "      <td>21060.45</td>\n",
       "      <td>0</td>\n",
       "    </tr>\n",
       "    <tr>\n",
       "      <th>3</th>\n",
       "      <td>106.0</td>\n",
       "      <td>745.53</td>\n",
       "      <td>81.0</td>\n",
       "      <td>8437.39</td>\n",
       "      <td>1</td>\n",
       "    </tr>\n",
       "    <tr>\n",
       "      <th>4</th>\n",
       "      <td>66.0</td>\n",
       "      <td>418.74</td>\n",
       "      <td>1.0</td>\n",
       "      <td>14502.75</td>\n",
       "      <td>0</td>\n",
       "    </tr>\n",
       "    <tr>\n",
       "      <th>5</th>\n",
       "      <td>58.0</td>\n",
       "      <td>344.56</td>\n",
       "      <td>21.0</td>\n",
       "      <td>15823.37</td>\n",
       "      <td>0</td>\n",
       "    </tr>\n",
       "    <tr>\n",
       "      <th>6</th>\n",
       "      <td>57.0</td>\n",
       "      <td>431.64</td>\n",
       "      <td>20.0</td>\n",
       "      <td>3738.90</td>\n",
       "      <td>1</td>\n",
       "    </tr>\n",
       "    <tr>\n",
       "      <th>7</th>\n",
       "      <td>15.0</td>\n",
       "      <td>132.40</td>\n",
       "      <td>6.0</td>\n",
       "      <td>21911.60</td>\n",
       "      <td>0</td>\n",
       "    </tr>\n",
       "    <tr>\n",
       "      <th>8</th>\n",
       "      <td>7.0</td>\n",
       "      <td>43.39</td>\n",
       "      <td>3.0</td>\n",
       "      <td>2538.67</td>\n",
       "      <td>1</td>\n",
       "    </tr>\n",
       "    <tr>\n",
       "      <th>9</th>\n",
       "      <td>90.0</td>\n",
       "      <td>665.41</td>\n",
       "      <td>38.0</td>\n",
       "      <td>17358.61</td>\n",
       "      <td>0</td>\n",
       "    </tr>\n",
       "  </tbody>\n",
       "</table>\n",
       "</div>"
      ],
      "text/plain": [
       "   calls  minutes  messages   mb_used  is_ultra\n",
       "0   40.0   311.90      83.0  19915.42         0\n",
       "1   85.0   516.75      56.0  22696.96         0\n",
       "2   77.0   467.66      86.0  21060.45         0\n",
       "3  106.0   745.53      81.0   8437.39         1\n",
       "4   66.0   418.74       1.0  14502.75         0\n",
       "5   58.0   344.56      21.0  15823.37         0\n",
       "6   57.0   431.64      20.0   3738.90         1\n",
       "7   15.0   132.40       6.0  21911.60         0\n",
       "8    7.0    43.39       3.0   2538.67         1\n",
       "9   90.0   665.41      38.0  17358.61         0"
      ]
     },
     "execution_count": 3,
     "metadata": {},
     "output_type": "execute_result"
    }
   ],
   "source": [
    "users_data.head(10)"
   ]
  },
  {
   "cell_type": "markdown",
   "id": "f7f8ca43-582b-4901-a421-2509802c58d6",
   "metadata": {},
   "source": [
    "We can see that the data seems to be already preprocessed, where we have 4 features expressed by `calls`, `minutes`, `messages` and `mb_used` columns as well as one binary target variable - `is_ultra`. In this case, we will solve the binary classification problem with two classes so at first sight the target is seen to be encoded correctly. Nevertheless, let's take a closer look at the DataFrame and output a concise summary of it using the `info()` method."
   ]
  },
  {
   "cell_type": "code",
   "execution_count": 4,
   "id": "559c1765-9f2f-4263-9bd6-10bcd8297a95",
   "metadata": {},
   "outputs": [
    {
     "name": "stdout",
     "output_type": "stream",
     "text": [
      "<class 'pandas.core.frame.DataFrame'>\n",
      "RangeIndex: 3214 entries, 0 to 3213\n",
      "Data columns (total 5 columns):\n",
      " #   Column    Non-Null Count  Dtype  \n",
      "---  ------    --------------  -----  \n",
      " 0   calls     3214 non-null   float64\n",
      " 1   minutes   3214 non-null   float64\n",
      " 2   messages  3214 non-null   float64\n",
      " 3   mb_used   3214 non-null   float64\n",
      " 4   is_ultra  3214 non-null   int64  \n",
      "dtypes: float64(4), int64(1)\n",
      "memory usage: 125.7 KB\n"
     ]
    }
   ],
   "source": [
    "users_data.info()"
   ]
  },
  {
   "cell_type": "markdown",
   "id": "2d6e5fbc-0fc1-4591-ae60-fa11c89b9c10",
   "metadata": {},
   "source": [
    "We observe the following. The table contains data on 3,214 customers of a mobile operator that are characterized by five columns: four features and one target. The features are numeric and have `float64` data type, while the target variable is binary and is therefore expressed by the integer type - `int64`. The number of non-null values are equal across DataFrame columns and are equal to the total number of objects in the dataset, which indicates the absence of missing values. Let's take a closer look at what information the columns contain:\n",
    "\n",
    "* `calls` - number of calls;\n",
    "* `minutes` - total duration of calls (minutes);\n",
    "* `messages` - number of SMS messages;\n",
    "* `mb_used` - internet traffic used (MB);\n",
    "* `is_ultra` - indicator of the customer's tariff (1 -> \"Ultra\", 0 -> \"Smart\")."
   ]
  },
  {
   "cell_type": "markdown",
   "id": "b21b653e-8059-4081-82f7-a6f9085b4d2c",
   "metadata": {},
   "source": [
    "It seems that data preprocessing will not be required: there are no missing values in this dataset. However, it is worth converting data types in the `calls` and `messages` columns, since the numbers of calls and SMS messages cannot be fractional. This will not affect the results of the study but, nevertheless, the features should be characterized by correct data types."
   ]
  },
  {
   "cell_type": "code",
   "execution_count": 5,
   "id": "c33bf945-a235-4723-a26e-3aec10e16ebe",
   "metadata": {},
   "outputs": [],
   "source": [
    "# Conversion to int64\n",
    "users_data['calls'] = users_data['calls'].astype('int64')\n",
    "users_data['messages'] = users_data['messages'].astype('int64')"
   ]
  },
  {
   "cell_type": "markdown",
   "id": "bc01a6c7-db03-491d-a042-b3dbaa82e083",
   "metadata": {},
   "source": [
    "Now, let's look at the first five rows of the DataFrame and print a summary of it in order to check whether the changes made were actually carried out."
   ]
  },
  {
   "cell_type": "code",
   "execution_count": 6,
   "id": "37e4ba25-ec1e-4db4-b154-449b605fdeee",
   "metadata": {},
   "outputs": [
    {
     "data": {
      "text/html": [
       "<div>\n",
       "<style scoped>\n",
       "    .dataframe tbody tr th:only-of-type {\n",
       "        vertical-align: middle;\n",
       "    }\n",
       "\n",
       "    .dataframe tbody tr th {\n",
       "        vertical-align: top;\n",
       "    }\n",
       "\n",
       "    .dataframe thead th {\n",
       "        text-align: right;\n",
       "    }\n",
       "</style>\n",
       "<table border=\"1\" class=\"dataframe\">\n",
       "  <thead>\n",
       "    <tr style=\"text-align: right;\">\n",
       "      <th></th>\n",
       "      <th>calls</th>\n",
       "      <th>minutes</th>\n",
       "      <th>messages</th>\n",
       "      <th>mb_used</th>\n",
       "      <th>is_ultra</th>\n",
       "    </tr>\n",
       "  </thead>\n",
       "  <tbody>\n",
       "    <tr>\n",
       "      <th>0</th>\n",
       "      <td>40</td>\n",
       "      <td>311.90</td>\n",
       "      <td>83</td>\n",
       "      <td>19915.42</td>\n",
       "      <td>0</td>\n",
       "    </tr>\n",
       "    <tr>\n",
       "      <th>1</th>\n",
       "      <td>85</td>\n",
       "      <td>516.75</td>\n",
       "      <td>56</td>\n",
       "      <td>22696.96</td>\n",
       "      <td>0</td>\n",
       "    </tr>\n",
       "    <tr>\n",
       "      <th>2</th>\n",
       "      <td>77</td>\n",
       "      <td>467.66</td>\n",
       "      <td>86</td>\n",
       "      <td>21060.45</td>\n",
       "      <td>0</td>\n",
       "    </tr>\n",
       "    <tr>\n",
       "      <th>3</th>\n",
       "      <td>106</td>\n",
       "      <td>745.53</td>\n",
       "      <td>81</td>\n",
       "      <td>8437.39</td>\n",
       "      <td>1</td>\n",
       "    </tr>\n",
       "    <tr>\n",
       "      <th>4</th>\n",
       "      <td>66</td>\n",
       "      <td>418.74</td>\n",
       "      <td>1</td>\n",
       "      <td>14502.75</td>\n",
       "      <td>0</td>\n",
       "    </tr>\n",
       "  </tbody>\n",
       "</table>\n",
       "</div>"
      ],
      "text/plain": [
       "   calls  minutes  messages   mb_used  is_ultra\n",
       "0     40   311.90        83  19915.42         0\n",
       "1     85   516.75        56  22696.96         0\n",
       "2     77   467.66        86  21060.45         0\n",
       "3    106   745.53        81   8437.39         1\n",
       "4     66   418.74         1  14502.75         0"
      ]
     },
     "execution_count": 6,
     "metadata": {},
     "output_type": "execute_result"
    }
   ],
   "source": [
    "users_data.head()"
   ]
  },
  {
   "cell_type": "code",
   "execution_count": 7,
   "id": "b13f326e-de87-4f6e-8077-f7cd8dfa86b2",
   "metadata": {},
   "outputs": [
    {
     "name": "stdout",
     "output_type": "stream",
     "text": [
      "<class 'pandas.core.frame.DataFrame'>\n",
      "RangeIndex: 3214 entries, 0 to 3213\n",
      "Data columns (total 5 columns):\n",
      " #   Column    Non-Null Count  Dtype  \n",
      "---  ------    --------------  -----  \n",
      " 0   calls     3214 non-null   int64  \n",
      " 1   minutes   3214 non-null   float64\n",
      " 2   messages  3214 non-null   int64  \n",
      " 3   mb_used   3214 non-null   float64\n",
      " 4   is_ultra  3214 non-null   int64  \n",
      "dtypes: float64(2), int64(3)\n",
      "memory usage: 125.7 KB\n"
     ]
    }
   ],
   "source": [
    "users_data.info()"
   ]
  },
  {
   "cell_type": "markdown",
   "id": "2a39c8ff-c81c-4ed3-9801-5650bf90967a",
   "metadata": {},
   "source": [
    "It can be seen that the data has been properly tranformed and can be used in the machine learning process. Before proceeding to dividing the dataset into samples, let's look at the distribution of values in each column of the DataFrame."
   ]
  },
  {
   "cell_type": "code",
   "execution_count": 8,
   "id": "b0bf14cb-d2d5-43f2-a6b8-0bf846770e53",
   "metadata": {},
   "outputs": [
    {
     "data": {
      "image/png": "[encoded data removed]",
      "text/plain": [
       "<Figure size 1500x2000 with 6 Axes>"
      ]
     },
     "metadata": {},
     "output_type": "display_data"
    }
   ],
   "source": [
    "# Plotting histograms for the DataFrame\n",
    "users_data.hist(figsize=(15, 20));"
   ]
  },
  {
   "cell_type": "markdown",
   "id": "79f2f048-9474-45e8-a684-94314a0f19a5",
   "metadata": {},
   "source": [
    "We see that the distribution of features resembles a normal distribution but a rightly skewed one, with the `messages` column being the most vivid example. As far as the target variable is concerned, we see that the classes are imbalanced: the dataset contains more clients with \"Smart\" tariff rather than with \"Ultra\"."
   ]
  },
  {
   "cell_type": "markdown",
   "id": "568653c7-8beb-4164-a06f-53c12a112dcf",
   "metadata": {},
   "source": [
    "**Conclusion**\n",
    "\n",
    "At this preliminary stage, the data has been studied and visualized. The data has already been prepared for this study but, nevertheless, the data types in the `calls` and `messages` columns have been converted to integer for more correct data display."
   ]
  },
  {
   "cell_type": "markdown",
   "id": "41904051-44c8-41db-80e9-c0c46b5077cb",
   "metadata": {},
   "source": [
    "## Training, validation and test sets"
   ]
  },
  {
   "cell_type": "markdown",
   "id": "0bc2e1ab-25ac-4d1a-bec8-18a6f237d616",
   "metadata": {},
   "source": [
    "The data is ready for machine learning. Before dividing the data into data sets, we will need to separate the features from the target variable and save them into separate variables."
   ]
  },
  {
   "cell_type": "code",
   "execution_count": 9,
   "id": "864bfae0-515d-4ee8-9c61-a470e9abd9c5",
   "metadata": {},
   "outputs": [],
   "source": [
    "# Separating features from target\n",
    "features = users_data.drop(['is_ultra'], axis=1)\n",
    "target = users_data['is_ultra']"
   ]
  },
  {
   "cell_type": "markdown",
   "id": "1224a512-bd52-43cf-8982-67b9d2bb0df1",
   "metadata": {},
   "source": [
    "Now, it is necessary to divide the data into training, validation and test sets. The test set will not be hidden from us so we will make use of the following proportions:\n",
    "\n",
    "* Training set (60%)\n",
    "* Validation set (20%)\n",
    "* Test set (20%)\n",
    "\n",
    "In order to split the data in this way, we can use the `train_test_split()` function from the `model_selection` module of the `sklearn` library. Since this function can split the data only once per call, first we divide the data into training and validation/test sets in 60-40 proportion and then by calling `train_test_split()` function the second time, we split the combination of validation and test sets equally, thus achieving proportions of 20-20."
   ]
  },
  {
   "cell_type": "code",
   "execution_count": 10,
   "id": "d4b9f56b-313b-450e-bde3-3ac6f6f7135d",
   "metadata": {},
   "outputs": [],
   "source": [
    "# Dividing data into a training set and a validation/test set\n",
    "features_train, features_valid_test, target_train, target_valid_test = train_test_split(features, target, test_size=0.4, random_state=12345)\n",
    "\n",
    "# Separating validation and test sets\n",
    "features_valid, features_test, target_valid, target_test = train_test_split(features_valid_test, target_valid_test, test_size=0.5, random_state=12345)"
   ]
  },
  {
   "cell_type": "markdown",
   "id": "2d58cad4-2c67-4a84-ac3b-aeb67c41d43d",
   "metadata": {},
   "source": [
    "Now, let's verify whether we have managed to correctly divide DataFrame into data sets and whether we have preserved the correct proportions."
   ]
  },
  {
   "cell_type": "code",
   "execution_count": 11,
   "id": "9d59c71c-2dec-4c99-b12e-9f54d84810da",
   "metadata": {},
   "outputs": [
    {
     "name": "stdout",
     "output_type": "stream",
     "text": [
      "------------------------------\n",
      "Training set size: 1,928 (60%)\n",
      "Validation set size: 643 (20%)\n",
      "Test set size: 643 (20%)\n",
      "------------------------------\n",
      "Total data size: 3,214\n",
      "------------------------------\n"
     ]
    }
   ],
   "source": [
    "# Computing the sizes of training, validation and test sets\n",
    "print('-' * 30)\n",
    "print('Training set size: {0:,} ({1:.0%})'.format(features_train.shape[0], features_train.shape[0] / features.shape[0]))\n",
    "print('Validation set size: {0} ({1:.0%})'.format(features_valid.shape[0], features_valid.shape[0] / features.shape[0]))\n",
    "print('Test set size: {0} ({1:.0%})'.format(features_test.shape[0], features_test.shape[0] / features.shape[0]))\n",
    "print('-' * 30)\n",
    "print('Total data size: {0:,}'.format(features.shape[0]))\n",
    "print('-' * 30)\n",
    "\n",
    "# Verifying the correctness of proportions\n",
    "assert features_train.shape[0] + features_valid.shape[0] + features_test.shape[0] == features.shape[0]"
   ]
  },
  {
   "cell_type": "markdown",
   "id": "87c6923c-1c30-4ae4-b6ab-6c2ff2cc4f47",
   "metadata": {},
   "source": [
    "We can see that the sum of the number of objects in the training, validation and test sets coincides with the total number of objects in the total DataFrame. Moreover, we were able to preserve the required proportions when splitting the data."
   ]
  },
  {
   "cell_type": "markdown",
   "id": "1b535984-34ca-4cd2-9d5a-b048823d3843",
   "metadata": {},
   "source": [
    "**Conclusion**\n",
    "\n",
    "This intermediate stage allowed for the final preparation of data for their use in classification algorithms. The DataFrame has been divided into training, validation and test test in the proportion of 60-20-20. Moreover, the correctness of the data splitting was checked manually, which enables moving on to training machine learning models."
   ]
  },
  {
   "cell_type": "markdown",
   "id": "f657a105-a32f-4468-8c52-5f5143d483ac",
   "metadata": {},
   "source": [
    "## Training models"
   ]
  },
  {
   "cell_type": "markdown",
   "id": "fb5756d2-1dc7-425e-a23b-3cbaeb872cba",
   "metadata": {},
   "source": [
    "Consider three classification models:\n",
    "\n",
    "* *Decision Tree* => `DecisionTreeClassifier`\n",
    "* *Random Forest* => `RandomForestClassifier`\n",
    "* *Logistic Regression* => `LogisticRegression`\n",
    "\n",
    "We will adhere to the following strategy. We will conduct hyperparameter tuning for each of the above models and find the optimal combination of hyperparameters that will lead to a high *accuracy* value for each of the three models. In other words, we will separately consider each model, determine which values for which hyperparameters we will vary, and calculate *accuracy* for such patricular settings of a particular model based on a validation set. Next, after conducting optimal hyperparameters values search and selecting the three best-performing models in terms of *accuracy*, we will compare them and choose the best one."
   ]
  },
  {
   "cell_type": "markdown",
   "id": "713d1d4d-1ab4-4598-9a3f-547bd6dcb49d",
   "metadata": {},
   "source": [
    "### Decision Tree"
   ]
  },
  {
   "cell_type": "markdown",
   "id": "7b77f2f8-c783-4e31-9835-f0a8cb0ac14f",
   "metadata": {},
   "source": [
    "Let's start with the Decision Tree and tune the hyperparameter of the maximum depth of the Tree - `max_depth`, where we will consider values from 1 to 10. At the same time, we will display the entire process of a hyperparameter selection on the screen in order to control the tuning process and determine whether the model is overfitting or underfitting for each variation of the hyperparameter. In other words, we will calculate the values of *accuracy* for each variant of the hyperparameter for both training and validation sets. Since a high *accuracy* obtained in the training set may indicate overfitting and by no means a high generalization power of the trained model, where the model simply memorized all the answers, we will decide on the best model based on a high value of *accuracy* on the validation test, that is, on a data set that the model has not seen during training."
   ]
  },
  {
   "cell_type": "code",
   "execution_count": 12,
   "id": "0954e367-55df-44ee-8bd1-858c3ae59688",
   "metadata": {},
   "outputs": [
    {
     "name": "stdout",
     "output_type": "stream",
     "text": [
      "-----------------------------------------------------------------\n",
      "Hyperparameter tuning of max_depth (DecisionTreeClassifier)\n",
      "-----------------------------------------------------------------\n",
      "max_depth = 1 : accuracy_train = 0.7578, accuracy_valid = 0.7543\n",
      "max_depth = 2 : accuracy_train = 0.7879, accuracy_valid = 0.7823\n",
      "max_depth = 3 : accuracy_train = 0.8076, accuracy_valid = 0.7854\n",
      "max_depth = 4 : accuracy_train = 0.8107, accuracy_valid = 0.7792\n",
      "max_depth = 5 : accuracy_train = 0.8200, accuracy_valid = 0.7792\n",
      "max_depth = 6 : accuracy_train = 0.8377, accuracy_valid = 0.7838\n",
      "max_depth = 7 : accuracy_train = 0.8558, accuracy_valid = 0.7823\n",
      "max_depth = 8 : accuracy_train = 0.8626, accuracy_valid = 0.7792\n",
      "max_depth = 9 : accuracy_train = 0.8812, accuracy_valid = 0.7823\n",
      "max_depth = 10 : accuracy_train = 0.8890, accuracy_valid = 0.7745\n",
      "-----------------------------------------------------------------\n",
      "\n",
      "Best model : DecisionTreeClassifier(max_depth=3, random_state=12345)\n",
      "Best accuracy : 0.7854\n"
     ]
    }
   ],
   "source": [
    "# Hyperparameter tuning (Decision Tree) -> {'max_depth'}\n",
    "best_model_DTC = None\n",
    "best_result_DTC = 0\n",
    "print('-' * 65)\n",
    "print('Hyperparameter tuning of max_depth (DecisionTreeClassifier)')\n",
    "print('-' * 65)\n",
    "for depth in range(1, 11):\n",
    "    model = DecisionTreeClassifier(random_state=12345, max_depth=depth) \n",
    "    model.fit(features_train, target_train) \n",
    "    # Computing predictions for training and validation sets\n",
    "    predictions_train = model.predict(features_train)\n",
    "    predictions_valid = model.predict(features_valid)\n",
    "    # Computing accuracy for training and validation sets\n",
    "    accuracy_train = accuracy_score(target_train, predictions_train)\n",
    "    accuracy_valid = accuracy_score(target_valid, predictions_valid)\n",
    "    # Making a decision about the best model\n",
    "    if accuracy_valid > best_result_DTC:\n",
    "        best_model_DTC = model\n",
    "        best_result_DTC = accuracy_valid\n",
    "    print(f'max_depth = {depth} : accuracy_train = {accuracy_train:.4f}, accuracy_valid = {accuracy_valid:.4f}')\n",
    "print('-' * 65)\n",
    "print(f'\\nBest model : {best_model_DTC}')\n",
    "print(f'Best accuracy : {best_result_DTC:.4f}')"
   ]
  },
  {
   "cell_type": "markdown",
   "id": "c045cd1b-b780-4f02-a236-8f9c41a1944b",
   "metadata": {},
   "source": [
    "The results of training the Decision Tree model show that as the depth of the Tree increases, *accuracy* grows on the training set and on the validation set it fluctuates around 0.77-0.78 which indicates that the model has been overfitting for higher values of `max_depth`. Nevertheless, as the results show, the Decision Tree is less prone to overfitting for a small Tree depth: the hyperparameter tuning determined `max_depth=3` as the best depth for which the quality of 78.5% is achieved, which is the best in this experiment."
   ]
  },
  {
   "cell_type": "markdown",
   "id": "b8cc82c4-f64a-4294-94de-a28969b90f9d",
   "metadata": {},
   "source": [
    "### Random Forest"
   ]
  },
  {
   "cell_type": "markdown",
   "id": "afe1f29c-ac66-47a5-a8fe-de4135e32578",
   "metadata": {},
   "source": [
    "Let's carry out a similar process of selecting hyperparameters for a Random Forest. Only this time, in addition to considering the values of the depth of Trees `max_depth` from 1 to 10, we will also consider the number of trees `n_estimators` that should comprise the Forest (from 10 to 50 trees with increments of 10)."
   ]
  },
  {
   "cell_type": "code",
   "execution_count": 13,
   "id": "fdd61416-c9c4-4626-9a05-fe9a69b91ab5",
   "metadata": {},
   "outputs": [
    {
     "name": "stdout",
     "output_type": "stream",
     "text": [
      "-------------------------------------------------------------------------------------\n",
      "Hyperparameter tuning of n_estimators, max_depth (RandomForestClassifier)\n",
      "-------------------------------------------------------------------------------------\n",
      "n_estimators = 10, max_depth = 1 : accuracy_train = 0.7443, accuracy_valid = 0.7558\n",
      "n_estimators = 10, max_depth = 2 : accuracy_train = 0.7785, accuracy_valid = 0.7776\n",
      "n_estimators = 10, max_depth = 3 : accuracy_train = 0.8102, accuracy_valid = 0.7854\n",
      "n_estimators = 10, max_depth = 4 : accuracy_train = 0.8143, accuracy_valid = 0.7900\n",
      "n_estimators = 10, max_depth = 5 : accuracy_train = 0.8242, accuracy_valid = 0.7932\n",
      "n_estimators = 10, max_depth = 6 : accuracy_train = 0.8351, accuracy_valid = 0.8009\n",
      "n_estimators = 10, max_depth = 7 : accuracy_train = 0.8553, accuracy_valid = 0.7947\n",
      "n_estimators = 10, max_depth = 8 : accuracy_train = 0.8698, accuracy_valid = 0.7963\n",
      "n_estimators = 10, max_depth = 9 : accuracy_train = 0.8729, accuracy_valid = 0.7854\n",
      "n_estimators = 10, max_depth = 10 : accuracy_train = 0.8859, accuracy_valid = 0.7916\n",
      "-------------------------------------------------------------------------------------\n",
      "n_estimators = 20, max_depth = 1 : accuracy_train = 0.7588, accuracy_valid = 0.7667\n",
      "n_estimators = 20, max_depth = 2 : accuracy_train = 0.7884, accuracy_valid = 0.7838\n",
      "n_estimators = 20, max_depth = 3 : accuracy_train = 0.8096, accuracy_valid = 0.7869\n",
      "n_estimators = 20, max_depth = 4 : accuracy_train = 0.8122, accuracy_valid = 0.7885\n",
      "n_estimators = 20, max_depth = 5 : accuracy_train = 0.8262, accuracy_valid = 0.7900\n",
      "n_estimators = 20, max_depth = 6 : accuracy_train = 0.8423, accuracy_valid = 0.7994\n",
      "n_estimators = 20, max_depth = 7 : accuracy_train = 0.8589, accuracy_valid = 0.8009\n",
      "n_estimators = 20, max_depth = 8 : accuracy_train = 0.8714, accuracy_valid = 0.7978\n",
      "n_estimators = 20, max_depth = 9 : accuracy_train = 0.8833, accuracy_valid = 0.7900\n",
      "n_estimators = 20, max_depth = 10 : accuracy_train = 0.8942, accuracy_valid = 0.7916\n",
      "-------------------------------------------------------------------------------------\n",
      "n_estimators = 30, max_depth = 1 : accuracy_train = 0.7567, accuracy_valid = 0.7667\n",
      "n_estimators = 30, max_depth = 2 : accuracy_train = 0.7889, accuracy_valid = 0.7838\n",
      "n_estimators = 30, max_depth = 3 : accuracy_train = 0.8086, accuracy_valid = 0.7869\n",
      "n_estimators = 30, max_depth = 4 : accuracy_train = 0.8159, accuracy_valid = 0.7869\n",
      "n_estimators = 30, max_depth = 5 : accuracy_train = 0.8242, accuracy_valid = 0.7932\n",
      "n_estimators = 30, max_depth = 6 : accuracy_train = 0.8408, accuracy_valid = 0.8009\n",
      "n_estimators = 30, max_depth = 7 : accuracy_train = 0.8579, accuracy_valid = 0.8025\n",
      "n_estimators = 30, max_depth = 8 : accuracy_train = 0.8729, accuracy_valid = 0.7994\n",
      "n_estimators = 30, max_depth = 9 : accuracy_train = 0.8838, accuracy_valid = 0.7932\n",
      "n_estimators = 30, max_depth = 10 : accuracy_train = 0.8937, accuracy_valid = 0.7947\n",
      "-------------------------------------------------------------------------------------\n",
      "n_estimators = 40, max_depth = 1 : accuracy_train = 0.7676, accuracy_valid = 0.7760\n",
      "n_estimators = 40, max_depth = 2 : accuracy_train = 0.7889, accuracy_valid = 0.7854\n",
      "n_estimators = 40, max_depth = 3 : accuracy_train = 0.8091, accuracy_valid = 0.7869\n",
      "n_estimators = 40, max_depth = 4 : accuracy_train = 0.8169, accuracy_valid = 0.7900\n",
      "n_estimators = 40, max_depth = 5 : accuracy_train = 0.8262, accuracy_valid = 0.7947\n",
      "n_estimators = 40, max_depth = 6 : accuracy_train = 0.8439, accuracy_valid = 0.8025\n",
      "n_estimators = 40, max_depth = 7 : accuracy_train = 0.8620, accuracy_valid = 0.8025\n",
      "n_estimators = 40, max_depth = 8 : accuracy_train = 0.8750, accuracy_valid = 0.8087\n",
      "n_estimators = 40, max_depth = 9 : accuracy_train = 0.8849, accuracy_valid = 0.7947\n",
      "n_estimators = 40, max_depth = 10 : accuracy_train = 0.8947, accuracy_valid = 0.7963\n",
      "-------------------------------------------------------------------------------------\n",
      "n_estimators = 50, max_depth = 1 : accuracy_train = 0.7640, accuracy_valid = 0.7589\n",
      "n_estimators = 50, max_depth = 2 : accuracy_train = 0.7894, accuracy_valid = 0.7838\n",
      "n_estimators = 50, max_depth = 3 : accuracy_train = 0.8081, accuracy_valid = 0.7869\n",
      "n_estimators = 50, max_depth = 4 : accuracy_train = 0.8159, accuracy_valid = 0.7869\n",
      "n_estimators = 50, max_depth = 5 : accuracy_train = 0.8252, accuracy_valid = 0.7932\n",
      "n_estimators = 50, max_depth = 6 : accuracy_train = 0.8402, accuracy_valid = 0.7994\n",
      "n_estimators = 50, max_depth = 7 : accuracy_train = 0.8631, accuracy_valid = 0.8025\n",
      "n_estimators = 50, max_depth = 8 : accuracy_train = 0.8755, accuracy_valid = 0.8072\n",
      "n_estimators = 50, max_depth = 9 : accuracy_train = 0.8859, accuracy_valid = 0.7978\n",
      "n_estimators = 50, max_depth = 10 : accuracy_train = 0.8932, accuracy_valid = 0.7932\n",
      "-------------------------------------------------------------------------------------\n",
      "\n",
      "Best model : RandomForestClassifier(max_depth=8, n_estimators=40, random_state=12345)\n",
      "Best accuracy : 0.8087\n"
     ]
    }
   ],
   "source": [
    "# Hyperparameter tuning (Random Forest) -> {'n_estimators', 'max_depth'}\n",
    "best_model_RFC = None\n",
    "best_result_RFC = 0\n",
    "print('-' * 85)\n",
    "print('Hyperparameter tuning of n_estimators, max_depth (RandomForestClassifier)')\n",
    "print('-' * 85)\n",
    "for est in range(10, 51, 10):\n",
    "    for depth in range(1, 11):\n",
    "        model = RandomForestClassifier(random_state=12345, n_estimators=est, max_depth=depth) \n",
    "        model.fit(features_train, target_train) \n",
    "        predictions_train = model.predict(features_train)\n",
    "        predictions_valid = model.predict(features_valid)\n",
    "        accuracy_train = accuracy_score(target_train, predictions_train)\n",
    "        accuracy_valid = accuracy_score(target_valid, predictions_valid)\n",
    "        if accuracy_valid > best_result_RFC:\n",
    "            best_model_RFC = model\n",
    "            best_result_RFC = accuracy_valid\n",
    "        print(f'n_estimators = {est}, max_depth = {depth} : accuracy_train = {accuracy_train:.4f}, accuracy_valid = {accuracy_valid:.4f}')\n",
    "    print('-' * 85)\n",
    "print(f'\\nBest model : {best_model_RFC}')\n",
    "print(f'Best accuracy : {best_result_RFC:.4f}')"
   ]
  },
  {
   "cell_type": "markdown",
   "id": "a8ee6ef2-9a19-4f64-9d36-6e5de6dac89a",
   "metadata": {},
   "source": [
    "The best accuracy was achieved for a Random Forest that includes 40 trees with a depth of 8. The value of this metric turned out to be better than that of a Decision Tree, since in this case not one tree is used, but a whole ensemble."
   ]
  },
  {
   "cell_type": "markdown",
   "id": "13e6b408-7cf1-4f69-9880-7487aa1c781d",
   "metadata": {},
   "source": [
    "### Logistic Regression"
   ]
  },
  {
   "cell_type": "markdown",
   "id": "af6d69da-7da8-4f41-8760-674b4ce0e7c2",
   "metadata": {},
   "source": [
    "There are not so many hyperparameters in this model that it would be interesting to vary, but we can consider the `C` hyperparameter responsible for regularization. According to the documentation of *scikit-learn*, the values of this hyperparameter must be positive and have the `float` type. Let's consider different values for this hyperparameter, where we will decrease the strength of regularization as the values of `C` increase. In addition, for all iterations, we will fix the maximum number of iterations of the model at `max_iter=1000` and use the optimization algorithm `solver='lbfgs`."
   ]
  },
  {
   "cell_type": "code",
   "execution_count": 14,
   "id": "9d22fbc1-ac09-4731-b3b6-d3225b42875d",
   "metadata": {},
   "outputs": [
    {
     "name": "stdout",
     "output_type": "stream",
     "text": [
      "----------------------------------------------------------------\n",
      "Hyperparameter tuning of C (LogisticRegression)\n",
      "----------------------------------------------------------------\n",
      "C = 1.0 : accuracy_train = 0.7132, accuracy_valid = 0.7107\n",
      "C = 3.0 : accuracy_train = 0.7132, accuracy_valid = 0.7107\n",
      "C = 10.0 : accuracy_train = 0.7531, accuracy_valid = 0.7558\n",
      "C = 30.0 : accuracy_train = 0.7531, accuracy_valid = 0.7558\n",
      "C = 100.0 : accuracy_train = 0.7531, accuracy_valid = 0.7558\n",
      "C = 300.0 : accuracy_train = 0.7531, accuracy_valid = 0.7558\n",
      "C = 1000.0 : accuracy_train = 0.7531, accuracy_valid = 0.7558\n",
      "C = 3000.0 : accuracy_train = 0.7531, accuracy_valid = 0.7558\n",
      "C = 10000.0 : accuracy_train = 0.7531, accuracy_valid = 0.7558\n",
      "----------------------------------------------------------------\n",
      "\n",
      "Best model : LogisticRegression(C=10.0, max_iter=1000, random_state=12345)\n",
      "Best accuracy : 0.7558\n"
     ]
    }
   ],
   "source": [
    "# Hyperparameter tuning (Logistic Regression) -> {'C'}\n",
    "best_model_log = None\n",
    "best_result_log = 0\n",
    "print('-' * 64)\n",
    "print('Hyperparameter tuning of C (LogisticRegression)')\n",
    "print('-' * 64)\n",
    "for c in [1., 3., 10., 30., 100., 300., 1000., 3000., 10000.]:\n",
    "    model = LogisticRegression(random_state=12345, solver='lbfgs', max_iter=1000, C=c) \n",
    "    model.fit(features_train, target_train) \n",
    "    predictions_train = model.predict(features_train)\n",
    "    predictions_valid = model.predict(features_valid)\n",
    "    accuracy_train = accuracy_score(target_train, predictions_train)\n",
    "    accuracy_valid = accuracy_score(target_valid, predictions_valid)\n",
    "    if accuracy_valid > best_result_log:\n",
    "        best_model_log = model\n",
    "        best_result_log = accuracy_valid\n",
    "    print(f'C = {c} : accuracy_train = {accuracy_train:.4f}, accuracy_valid = {accuracy_valid:.4f}')\n",
    "print('-' * 64)\n",
    "print(f'\\nBest model : {best_model_log}')\n",
    "print(f'Best accuracy : {best_result_log:.4f}')"
   ]
  },
  {
   "cell_type": "markdown",
   "id": "55714cb4-6729-4113-8900-1e25e6476db2",
   "metadata": {},
   "source": [
    "We can see that after reaching the value `C=10.0`, the values of the metric in the validation and training sets stopped changing and converged to *accuracy* of 0.7558. It is noticeable that the degree of overfitting of the model is extremely small (*accuracy* on the training and validation samples are quite close to each other), since the model does not have many parameters and is relatively simple. Hence, we can say that for the best specification of the Logistic Regression model, the strength of regularization is not so substantial."
   ]
  },
  {
   "cell_type": "markdown",
   "id": "e7af4200-38b7-4afa-b440-0b62763590df",
   "metadata": {},
   "source": [
    "### Model selection"
   ]
  },
  {
   "cell_type": "markdown",
   "id": "dd122ea7-80af-4b64-8c4d-f5081ac459cd",
   "metadata": {},
   "source": [
    "Now let's summarize the obtained results of training models and choose the best model out of three."
   ]
  },
  {
   "cell_type": "code",
   "execution_count": 15,
   "id": "d0366709-5b80-450e-89c4-823b222560ca",
   "metadata": {},
   "outputs": [
    {
     "data": {
      "text/html": [
       "<div>\n",
       "<style scoped>\n",
       "    .dataframe tbody tr th:only-of-type {\n",
       "        vertical-align: middle;\n",
       "    }\n",
       "\n",
       "    .dataframe tbody tr th {\n",
       "        vertical-align: top;\n",
       "    }\n",
       "\n",
       "    .dataframe thead th {\n",
       "        text-align: right;\n",
       "    }\n",
       "</style>\n",
       "<table border=\"1\" class=\"dataframe\">\n",
       "  <thead>\n",
       "    <tr style=\"text-align: right;\">\n",
       "      <th></th>\n",
       "      <th>model</th>\n",
       "      <th>accuracy_score</th>\n",
       "    </tr>\n",
       "  </thead>\n",
       "  <tbody>\n",
       "    <tr>\n",
       "      <th>1</th>\n",
       "      <td>RandomForestClassifier</td>\n",
       "      <td>0.8087</td>\n",
       "    </tr>\n",
       "    <tr>\n",
       "      <th>2</th>\n",
       "      <td>DecisionTreeClassifier</td>\n",
       "      <td>0.7854</td>\n",
       "    </tr>\n",
       "    <tr>\n",
       "      <th>3</th>\n",
       "      <td>LogisticRegression</td>\n",
       "      <td>0.7558</td>\n",
       "    </tr>\n",
       "  </tbody>\n",
       "</table>\n",
       "</div>"
      ],
      "text/plain": [
       "                    model  accuracy_score\n",
       "1  RandomForestClassifier          0.8087\n",
       "2  DecisionTreeClassifier          0.7854\n",
       "3      LogisticRegression          0.7558"
      ]
     },
     "metadata": {},
     "output_type": "display_data"
    },
    {
     "name": "stdout",
     "output_type": "stream",
     "text": [
      "Final model : RandomForestClassifier(max_depth=8, n_estimators=40, random_state=12345)\n"
     ]
    }
   ],
   "source": [
    "# Creating a DataFrame with results\n",
    "cols = {\n",
    "    'model' : [\n",
    "        type(best_model_DTC).__name__, \n",
    "        type(best_model_RFC).__name__, \n",
    "        type(best_model_log).__name__\n",
    "        ],\n",
    "    'accuracy_score' : [\n",
    "        best_result_DTC, \n",
    "        best_result_RFC, \n",
    "        best_result_log\n",
    "        ]\n",
    "}\n",
    "df = pd.DataFrame(data=cols)\n",
    "\n",
    "# Creating a rating\n",
    "df_compare = df\\\n",
    "    .sort_values(by='accuracy_score', ascending=False)\\\n",
    "    .round(4)\\\n",
    "    .reset_index(drop=True)\\\n",
    "    .set_index(pd.Index([1, 2, 3]))\n",
    "display(df_compare)\n",
    "\n",
    "# Determining the final model\n",
    "best_model_final = best_model_RFC\n",
    "print(f'Final model : {best_model_final}')"
   ]
  },
  {
   "cell_type": "markdown",
   "id": "53ea6c15-5022-47f7-8532-2e008f841ce2",
   "metadata": {},
   "source": [
    "We see that the best model that has achieved the best value of the *accuracy* metric is a Random Forest."
   ]
  },
  {
   "cell_type": "markdown",
   "id": "377d752f-730d-4665-935a-082c72122795",
   "metadata": {},
   "source": [
    "**Conclusion**\n",
    "\n",
    "We have managed to train three machine learning models (Decision Tree, Random Forest and Logistic Regression), where we have carried out hyperparameters tuning for each of them. Based on the highest value of the *accuracy* criterion in the validation set, we determined three optimal variants of these models with certain settings. Afterwards, after comparing these three optimal models, we chose a Random Forest model with 40 trees and a depth of 8 as the model that outperforms other models in terms of correctly predicting (recommending) the tariff for users."
   ]
  },
  {
   "cell_type": "markdown",
   "id": "7acdba8c-d19b-4e6d-af38-6394792ba950",
   "metadata": {},
   "source": [
    "## Testing the final model"
   ]
  },
  {
   "cell_type": "markdown",
   "id": "708e9a7f-46e6-437a-9c08-7530cf3fddda",
   "metadata": {},
   "source": [
    "Now, let's take the model of Random Forest that we have selected and look at its performance on the test set."
   ]
  },
  {
   "cell_type": "code",
   "execution_count": 16,
   "id": "08e36b00-3b2a-437a-86d1-5147220d5c13",
   "metadata": {},
   "outputs": [
    {
     "name": "stdout",
     "output_type": "stream",
     "text": [
      "Model: RandomForestClassifier(max_depth=8, n_estimators=40, random_state=12345)\n",
      "Accuracy (test set): 0.7963\n"
     ]
    }
   ],
   "source": [
    "# Testing the final model\n",
    "best_model_final.fit(features_train, target_train) \n",
    "predictions_test = best_model_final.predict(features_test)\n",
    "accuracy_test = accuracy_score(target_test, predictions_test)\n",
    "print(f'Model: {best_model_final}')\n",
    "print(f'Accuracy (test set): {accuracy_test:.4f}')"
   ]
  },
  {
   "cell_type": "markdown",
   "id": "4f0b524a-2286-492c-b15a-9050c06cb8b1",
   "metadata": {},
   "source": [
    "The quality of the model turned out to be quite close to *accuracy* on the validation dataset and is approximately 79.6%."
   ]
  },
  {
   "cell_type": "markdown",
   "id": "b673f9a0-9aa6-4d42-a30e-c73d36314cf0",
   "metadata": {},
   "source": [
    "**Conclusion**\n",
    "\n",
    "At this stage, we used the final model (Random Forest) to test the trained model on a new dataset. The quality turned out to be 0.7963, which is higher than the set level of 0.75."
   ]
  },
  {
   "cell_type": "markdown",
   "id": "0e3789e8-1dc5-42da-8787-9d61c2318375",
   "metadata": {},
   "source": [
    "## Sanity check"
   ]
  },
  {
   "cell_type": "markdown",
   "id": "9d2e1b80-a339-48d8-9524-ebffc9bb4325",
   "metadata": {},
   "source": [
    "We will check the adequacy of the final model of a Random Forest on a test sample. To conduct such an experiment, we must compare the quality of our final model with a static one, that is, a model that will always predict the same class. In this way, we will be able to determine whether the Random Forest model we trained is sane and whether its predictions differ greatly from the predictions made by the static model. In this case, in the classification problem, as static predictions we can use a model that recommends the most frequent class in the training set, that is, in this case, the \"Smart\" tariff (class 0). We can do this by using the `DummyClassifier` from the `dummy` module of the `sklearn` library."
   ]
  },
  {
   "cell_type": "code",
   "execution_count": 17,
   "id": "5efbc630-5a94-4286-bbfc-6597f7e25bad",
   "metadata": {},
   "outputs": [
    {
     "name": "stdout",
     "output_type": "stream",
     "text": [
      "Accuracy (final model) : 0.7963\n",
      "Accuracy (static model) : 0.6843\n"
     ]
    }
   ],
   "source": [
    "# Sanity check\n",
    "dmb = DummyClassifier(random_state=12345, strategy='most_frequent')\n",
    "dmb.fit(features_train, target_train)\n",
    "dmb_score = dmb.score(features_test, target_test)\n",
    "print(f'Accuracy (final model) : {accuracy_test:.4f}')\n",
    "print(f'Accuracy (static model) : {dmb_score:.4f}')"
   ]
  },
  {
   "cell_type": "markdown",
   "id": "182e1ad7-c4e0-4759-aea6-f664c83fc2eb",
   "metadata": {},
   "source": [
    "Using `DummyClassifier`, we generated predictions consisting entirely of zeros, that is, as mentioned above, the random model will always recommend the \"Smart\" tariff to the client (0 is the most common value in the training set for the target variable). The accuracy turned out to be quite close to 0.7, but our model on the test set shows the value of the quality metric greater than 0.75 so our trained model is sane."
   ]
  },
  {
   "cell_type": "markdown",
   "id": "4ffb2393-cd1e-4683-8578-5d6c4d380223",
   "metadata": {},
   "source": [
    "**Conclusion**\n",
    "\n",
    "The use of static predictions led to an underestimation of the quality indicator, which indicates the sanity of the model trained above."
   ]
  },
  {
   "cell_type": "markdown",
   "id": "8751b199-3885-4c0e-bfb2-3edc1893b672",
   "metadata": {},
   "source": [
    "## General conclusion"
   ]
  },
  {
   "cell_type": "markdown",
   "id": "3e51d26b-0602-4eae-8b92-11c42b9c96b2",
   "metadata": {},
   "source": [
    "Within the framework of this study, the data of customers of a mobile operator were analyzed and an optimal system of tariff recommendation was developed. In particular, data were prepared for three classifiers (Decision Tree, Random Forest and Logistic Regression), and hyperparameters were selected. As a result, the best model from the point of view of the quality metric *accuracy* is a Random Forest with 40 trees with a depth of 8, which correctly predicts tariffs in about 79.6% of cases, which is higher than the benchmark level of 75%. Additionally, a sanity check was carried out for the final model of Random Forest, where we generated static predictions of recommending the most frequent tariff and compared them with the quality of Random Forest. It has been shown that trained model is much better at predicting tariffs than a static model, which shows the adequacy of the final model selected."
   ]
  }
 ],
 "metadata": {
  "kernelspec": {
   "display_name": "Python 3 (ipykernel)",
   "language": "python",
   "name": "python3"
  },
  "language_info": {
   "codemirror_mode": {
    "name": "ipython",
    "version": 3
   },
   "file_extension": ".py",
   "mimetype": "text/x-python",
   "name": "python",
   "nbconvert_exporter": "python",
   "pygments_lexer": "ipython3",
   "version": "3.9.13"
  }
 },
 "nbformat": 4,
 "nbformat_minor": 5
}
