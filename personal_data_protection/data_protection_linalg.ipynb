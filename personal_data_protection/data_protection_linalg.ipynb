{
 "cells": [
  {
   "cell_type": "markdown",
   "id": "17729770-a080-4e91-aa55-00c7ac06aecf",
   "metadata": {},
   "source": [
    "## Loading and exploring data"
   ]
  },
  {
   "cell_type": "markdown",
   "id": "297956d6-bebf-4c0b-b1be-346de2244ba8",
   "metadata": {},
   "source": [
    "Firstly, let's upload the data which we will deal with. For that we will need to import some libraries and modules that will be particularly useful."
   ]
  },
  {
   "cell_type": "code",
   "execution_count": 1,
   "id": "ac63c903-61a4-4a96-ae2e-95f98f6d2ae1",
   "metadata": {},
   "outputs": [],
   "source": [
    "from typing import Optional, Union\n",
    "\n",
    "import numpy as np\n",
    "import pandas as pd\n",
    "import matplotlib.pyplot as plt\n",
    "import seaborn as sns\n",
    "from sklearn.linear_model import LinearRegression\n",
    "from sklearn.metrics import r2_score\n",
    "\n",
    "# Defining constants\n",
    "RANDOM_STATE = 12345\n",
    "\n",
    "# Setting a visual theme for plots\n",
    "plot_custom_params = {\"axes.spines.right\": False, \"axes.spines.top\": False}\n",
    "sns.set_theme(style=\"ticks\", rc=plot_custom_params)"
   ]
  },
  {
   "cell_type": "code",
   "execution_count": 2,
   "id": "b9a36f19-726b-4b5a-ab16-5e5972eea1f2",
   "metadata": {},
   "outputs": [
    {
     "data": {
      "text/html": [
       "<div>\n",
       "<style scoped>\n",
       "    .dataframe tbody tr th:only-of-type {\n",
       "        vertical-align: middle;\n",
       "    }\n",
       "\n",
       "    .dataframe tbody tr th {\n",
       "        vertical-align: top;\n",
       "    }\n",
       "\n",
       "    .dataframe thead th {\n",
       "        text-align: right;\n",
       "    }\n",
       "</style>\n",
       "<table border=\"1\" class=\"dataframe\">\n",
       "  <thead>\n",
       "    <tr style=\"text-align: right;\">\n",
       "      <th></th>\n",
       "      <th>Пол</th>\n",
       "      <th>Возраст</th>\n",
       "      <th>Зарплата</th>\n",
       "      <th>Члены семьи</th>\n",
       "      <th>Страховые выплаты</th>\n",
       "    </tr>\n",
       "  </thead>\n",
       "  <tbody>\n",
       "    <tr>\n",
       "      <th>3183</th>\n",
       "      <td>0</td>\n",
       "      <td>33.0</td>\n",
       "      <td>39000.0</td>\n",
       "      <td>4</td>\n",
       "      <td>0</td>\n",
       "    </tr>\n",
       "    <tr>\n",
       "      <th>1071</th>\n",
       "      <td>0</td>\n",
       "      <td>50.0</td>\n",
       "      <td>43100.0</td>\n",
       "      <td>2</td>\n",
       "      <td>2</td>\n",
       "    </tr>\n",
       "    <tr>\n",
       "      <th>2640</th>\n",
       "      <td>1</td>\n",
       "      <td>39.0</td>\n",
       "      <td>42100.0</td>\n",
       "      <td>0</td>\n",
       "      <td>0</td>\n",
       "    </tr>\n",
       "    <tr>\n",
       "      <th>2282</th>\n",
       "      <td>0</td>\n",
       "      <td>20.0</td>\n",
       "      <td>34800.0</td>\n",
       "      <td>0</td>\n",
       "      <td>0</td>\n",
       "    </tr>\n",
       "    <tr>\n",
       "      <th>1595</th>\n",
       "      <td>0</td>\n",
       "      <td>41.0</td>\n",
       "      <td>40000.0</td>\n",
       "      <td>4</td>\n",
       "      <td>0</td>\n",
       "    </tr>\n",
       "  </tbody>\n",
       "</table>\n",
       "</div>"
      ],
      "text/plain": [
       "      Пол  Возраст  Зарплата  Члены семьи  Страховые выплаты\n",
       "3183    0     33.0   39000.0            4                  0\n",
       "1071    0     50.0   43100.0            2                  2\n",
       "2640    1     39.0   42100.0            0                  0\n",
       "2282    0     20.0   34800.0            0                  0\n",
       "1595    0     41.0   40000.0            4                  0"
      ]
     },
     "execution_count": 2,
     "metadata": {},
     "output_type": "execute_result"
    }
   ],
   "source": [
    "insurance_data = pd.read_csv(\"insurance.csv\")\n",
    "insurance_data.sample(5, random_state=RANDOM_STATE)"
   ]
  },
  {
   "cell_type": "markdown",
   "id": "a86db242-c587-42b0-9098-cb3a5c2d1192",
   "metadata": {},
   "source": [
    "We see that we have 4 features and 1 target. Let's convert the names of the columns to the convenient format and look at the concise summary of the DataFrame."
   ]
  },
  {
   "cell_type": "code",
   "execution_count": 3,
   "id": "9acf2bc9-01b3-4893-8907-b34a169082fa",
   "metadata": {},
   "outputs": [],
   "source": [
    "insurance_data = insurance_data.rename(\n",
    "    columns={\n",
    "        \"Пол\": \"sex\",\n",
    "        \"Возраст\": \"age\",\n",
    "        \"Зарплата\": \"salary\",\n",
    "        \"Члены семьи\": \"family_members\",\n",
    "        \"Страховые выплаты\": \"insurance_payout\",\n",
    "    }\n",
    ")"
   ]
  },
  {
   "cell_type": "code",
   "execution_count": 4,
   "id": "ea80ae14-be46-4862-853e-9dec7136436a",
   "metadata": {},
   "outputs": [
    {
     "name": "stdout",
     "output_type": "stream",
     "text": [
      "<class 'pandas.core.frame.DataFrame'>\n",
      "RangeIndex: 5000 entries, 0 to 4999\n",
      "Data columns (total 5 columns):\n",
      " #   Column            Non-Null Count  Dtype  \n",
      "---  ------            --------------  -----  \n",
      " 0   sex               5000 non-null   int64  \n",
      " 1   age               5000 non-null   float64\n",
      " 2   salary            5000 non-null   float64\n",
      " 3   family_members    5000 non-null   int64  \n",
      " 4   insurance_payout  5000 non-null   int64  \n",
      "dtypes: float64(2), int64(3)\n",
      "memory usage: 195.4 KB\n"
     ]
    }
   ],
   "source": [
    "insurance_data.info()"
   ]
  },
  {
   "cell_type": "markdown",
   "id": "eca3176a-2546-4ffd-bf33-bc578d43a043",
   "metadata": {},
   "source": [
    "The conversions were completed successfully. Let's take a look at which columns are present in the DataFrame:\n",
    "\n",
    "* `sex`: Gender of an insured person;\n",
    "* `age`: Age of an insured person;\n",
    "* `salary`: Salary of the insured person;\n",
    "* `family_members`: Number of family members of an insured person;\n",
    "* `insurance_payout`: Number of payments to an insured person over the past 5 years.\n",
    "\n",
    "Next, we can notice that the data types in the `age` and `salary` columns are specified as `float64`. In fact, the type here should be integer, so let's fix it."
   ]
  },
  {
   "cell_type": "code",
   "execution_count": 5,
   "id": "651f23db-7726-4721-a09f-8fadb660e1be",
   "metadata": {},
   "outputs": [
    {
     "name": "stdout",
     "output_type": "stream",
     "text": [
      "<class 'pandas.core.frame.DataFrame'>\n",
      "RangeIndex: 5000 entries, 0 to 4999\n",
      "Data columns (total 5 columns):\n",
      " #   Column            Non-Null Count  Dtype\n",
      "---  ------            --------------  -----\n",
      " 0   sex               5000 non-null   int64\n",
      " 1   age               5000 non-null   int64\n",
      " 2   salary            5000 non-null   int64\n",
      " 3   family_members    5000 non-null   int64\n",
      " 4   insurance_payout  5000 non-null   int64\n",
      "dtypes: int64(5)\n",
      "memory usage: 195.4 KB\n"
     ]
    }
   ],
   "source": [
    "insurance_data[\"age\"] = insurance_data[\"age\"].astype(\"int64\")\n",
    "insurance_data[\"salary\"] = insurance_data[\"salary\"].astype(\"int64\")\n",
    "\n",
    "insurance_data.info()"
   ]
  },
  {
   "cell_type": "markdown",
   "id": "2e3053b4-fd79-4042-bf5e-0fb331aef6bd",
   "metadata": {},
   "source": [
    "Let's move on. We don't see any missing values, which is a good sign. At the last stage of the data overview, we will build an appropriate plot for each column of the DataFrame."
   ]
  },
  {
   "cell_type": "code",
   "execution_count": 6,
   "id": "86d2df52-c238-4bba-ad08-e0b86ef5944c",
   "metadata": {},
   "outputs": [
    {
     "data": {
      "image/png": "[encoded data removed]",
      "text/plain": [
       "<Figure size 1500x1000 with 6 Axes>"
      ]
     },
     "metadata": {},
     "output_type": "display_data"
    }
   ],
   "source": [
    "fig, axes = plt.subplots(2, 3, figsize=(15, 10))\n",
    "axes = axes.reshape(\n",
    "    6,\n",
    ")\n",
    "axes[-1].axis(\"off\")\n",
    "for col, ax in zip(insurance_data.columns, axes):\n",
    "    if len(insurance_data[col].unique()) < 10:\n",
    "        f = sns.countplot(data=insurance_data, x=col, ax=ax, palette=\"Blues\")\n",
    "        ax.set(xlabel=None, ylabel=None)\n",
    "        ax.set_title(col, fontweight=\"bold\", fontsize=13)\n",
    "        continue\n",
    "    sns.histplot(data=insurance_data, x=col, bins=10, ax=ax)\n",
    "    ax.set(xlabel=None, ylabel=None)\n",
    "    ax.set_title(col, fontweight=\"bold\", fontsize=13)\n",
    "plt.tight_layout()\n",
    "plt.show()"
   ]
  },
  {
   "cell_type": "markdown",
   "id": "ef55df14-4da5-4fff-8fe0-814c174ab99c",
   "metadata": {},
   "source": [
    "So, the first thing that is quite noticeable is that there is an equal number of men and women in the data, which is visible on the first plot. Furthermore, the distribution of salary in the data resembles a normal distribution, and the graphs of the remaining columns are clearly more skewed to the right."
   ]
  },
  {
   "cell_type": "markdown",
   "id": "2ac8703d-71fe-44c5-96b0-fb35c9599e7a",
   "metadata": {},
   "source": [
    "**Conclusion**\n",
    "\n",
    "At this small stage, we were able to download the data, study it, and visualize it. For more convenient work with data, the columns have been renamed and the data types in some columns have been changed. By constructing histograms, we were able to clearly see with what data the study is to be conducted."
   ]
  },
  {
   "cell_type": "markdown",
   "id": "5d4f772e-e41c-4718-a85a-300ea2207645",
   "metadata": {},
   "source": [
    "## Matrix multiplication"
   ]
  },
  {
   "cell_type": "markdown",
   "id": "e6462a0e-f02d-4d77-99eb-e268163d3966",
   "metadata": {},
   "source": [
    "Now let's move on to the matrices themselves. In this case, the question is whether the quality of linear regression will change if the features are multiplied by an invertible matrix. To do this, first let's separate the features from the target."
   ]
  },
  {
   "cell_type": "code",
   "execution_count": 7,
   "id": "04c9b226-e56e-4761-a3d3-4e418f02e601",
   "metadata": {},
   "outputs": [],
   "source": [
    "features = insurance_data.drop(\"insurance_payout\", axis=1)\n",
    "target = insurance_data[\"insurance_payout\"]"
   ]
  },
  {
   "cell_type": "markdown",
   "id": "7ccaf140-a2e0-4461-b8ac-2d0c9f1bbb21",
   "metadata": {},
   "source": [
    "Now, let's create an invertible matrix. This can be done by generating a random matrix using the `normal()` method from `random` module of `numpy` library. Additionally, we will ensure reproducibility of the results by specifying `seed(RANDOM_STATE)`. The matrix should be square of size $4 \\times 4$, since we have 4 features. Besides, the matrix of features is of size $5000 \\times 4$ so  after the multiplication operation it will remain of the same dimensions of $5000 \\times 4$."
   ]
  },
  {
   "cell_type": "code",
   "execution_count": 8,
   "id": "346731a9-50f3-4382-9d25-329c907da5a7",
   "metadata": {},
   "outputs": [
    {
     "data": {
      "text/plain": [
       "(5000, 4)"
      ]
     },
     "execution_count": 8,
     "metadata": {},
     "output_type": "execute_result"
    }
   ],
   "source": [
    "features_matrix = features.values\n",
    "features_matrix.shape"
   ]
  },
  {
   "cell_type": "code",
   "execution_count": 9,
   "id": "1d2e7381-8bad-4ef6-ad3d-54ea699d6642",
   "metadata": {},
   "outputs": [
    {
     "name": "stdout",
     "output_type": "stream",
     "text": [
      "Initial matrix:\n",
      "[[-0.20470766  0.47894334 -0.51943872 -0.5557303 ]\n",
      " [ 1.96578057  1.39340583  0.09290788  0.28174615]\n",
      " [ 0.76902257  1.24643474  1.00718936 -1.29622111]\n",
      " [ 0.27499163  0.22891288  1.35291684  0.88642934]]\n",
      "\n",
      "Inverted matrix:\n",
      "[[-1.31136747  0.3921804   0.18868055 -0.67088287]\n",
      " [ 1.75872714  0.14106138 -0.17773045  0.79787127]\n",
      " [-0.41702659 -0.22854768  0.3550602   0.33039819]\n",
      " [ 0.58912996  0.19073027 -0.5545481   0.6259302 ]]\n",
      "\n",
      "Initial matrix determinant: -3.03\n"
     ]
    }
   ],
   "source": [
    "# Generating a random invertible matrix\n",
    "np.random.seed(RANDOM_STATE)\n",
    "invertible_matrix = np.random.normal(size=(features.shape[1], features.shape[1]))\n",
    "\n",
    "print(\"Initial matrix:\")\n",
    "print(invertible_matrix)\n",
    "\n",
    "# Verifying matrix invertibility\n",
    "try:\n",
    "    inverted_matrix = np.linalg.inv(invertible_matrix)\n",
    "except np.linalg.LinAlgError as err:\n",
    "    if \"Singular matrix\" in str(err):\n",
    "        print(\"\\nInverted matrix:\")\n",
    "        print(np.empty_like(invertible_matrix))\n",
    "        print(f\"\\nInitial matrix determinant: {np.linalg.det(invertible_matrix):.2f}\")\n",
    "else:\n",
    "    print(\"\\nInverted matrix:\")\n",
    "    print(inverted_matrix)\n",
    "    print(f\"\\nInitial matrix determinant: {np.linalg.det(invertible_matrix):.2f}\")"
   ]
  },
  {
   "cell_type": "markdown",
   "id": "095a56cb-90c0-497a-b05f-6508e99fb254",
   "metadata": {},
   "source": [
    "We managed to generate a random matrix of the required dimensions. As mentioned earlier, after multiplying the feature matrix by such a matrix, we will retain the dimensions of the original feature matrix, which we will continue to use in linear regression.\n",
    "\n",
    "In order to answer the question about the linear regression and its quality, let's consider two situations in more detail from a mathematical point of view:\n",
    "\n",
    "**Case 1:** *Features are **not multiplied** by an invertible matrix;*\n",
    "\n",
    "**Case 2:** *Features are **multiplied** by an invertible matrix.*"
   ]
  },
  {
   "cell_type": "markdown",
   "id": "cc2a7e4e-9405-4597-99c7-e6cfc67bfda0",
   "metadata": {},
   "source": [
    "Let's remember a solution for finding an optimal combination of linear regression parameters which can be computed based on minimizing $MSE$ metric by solving the following training problem:\n",
    "\n",
    "$$\n",
    "    w = \\arg\\min_w MSE(Xw, y)\n",
    "$$\n",
    "\n",
    "$$\n",
    "    \\Downarrow\n",
    "$$\n",
    "\n",
    "$$\n",
    "    w = (X^{T} X)^{-1} X^{T} y,\n",
    "$$\n",
    "where $X$ - features matrix, $y$ - target vector, $w$ - linear regression parameters vector. This is a formula for finding the solution in case when features are not multiplied by any other matrix so here we just fit a simple linear regression (**Case 1**).\n",
    "\n",
    "Now, let's consider a situtation when we do multiply features matrix by an invertible matrix $A$ (**Case 2**). In such a case we will have to compute the following vector of optimal parameters $w'$:\n",
    "\n",
    "$$\n",
    "    w' = ((\\underbrace{X A}_\\text{$X'$})^{T} (\\underbrace{X A}_\\text{$X'$}))^{-1} (\\underbrace{X A}_\\text{$X'$})^{T} y,\n",
    "$$\n",
    "\n",
    "Actually, the only change we have made to the formula is that we simply changed features matrix $X$ to a new matrix derived from a multiplication operation $X'$. Let's dig deeper into the formula:\n",
    "\n",
    "$$\n",
    "    w' = (X'^{T} X')^{-1} (X')^{T} y\n",
    "$$\n",
    "\n",
    "$$\n",
    "    w' = ((X A)^{T} (X A))^{-1} (X A)^{T} y\n",
    "$$\n",
    "\n",
    "$$\n",
    "    w' = (A^{T} X^{T} X A)^{-1} (X A)^{T} y\n",
    "$$\n",
    "\n",
    "$$\n",
    "    w' = (A^{T} (X^{T} X) A)^{-1} (X A)^{T} y\n",
    "$$\n",
    "\n",
    "$$\n",
    "    w' = (A^{T} (X^{T} X) A)^{-1} A^{T} X^{T} y\n",
    "$$\n",
    "\n",
    "$$\n",
    "    w' = A^{-1} (X^{T} X)^{-1} (A^{T})^{-1} A^{T} X^{T} y\n",
    "$$\n",
    "\n",
    "$$\n",
    "\\Downarrow\n",
    "$$\n",
    "\n",
    "$$\n",
    "    w' = A^{-1} (X^{T} X)^{-1} \\underbrace{(A^{T})^{-1} A^{T}}_\\text{$E$} X^{T} y\n",
    "$$\n",
    "\n",
    "$$\n",
    "    w' = A^{-1} (X^{T} X)^{-1} X^{T} y\n",
    "$$\n",
    "\n",
    "$$\n",
    "    w' = A^{-1} \\underbrace{(X^{T} X)^{-1} X^{T} y}_\\text{$w$}\n",
    "$$\n",
    "\n",
    "After the transformations, we notice that we have come to the original formula for the optimal vector of weights in linear regression, where we get the following relationship between the regression parameters in the original problem and the transformed one:\n",
    "\n",
    "$$\n",
    "    w' = A^{-1} w\n",
    "$$"
   ]
  },
  {
   "cell_type": "markdown",
   "id": "facb8388-da8d-49ce-97a5-ae0446673d02",
   "metadata": {},
   "source": [
    "Now, let's find out how it will affect $R^2$ metric. It can be computed as follows:\n",
    "\n",
    "$$\n",
    "    R^2 = 1 - \\frac{MSE_{model}}{MSE_{average}},\n",
    "$$\n",
    "\n",
    "where $MSE_{model}$ - *Mean Squared Error* of the model, а $MSE_{average}$ - *Mean Squared Error* of the model that produces constant predictions as average of target. In fact, the denominator will be a fixed number, since the average value of the target will be used as predictions, that is, it will not depend on the predictions made by the model. What will really depend on the predictions is $MSE_{model}$, whose value is calculated as follows:\n",
    "\n",
    "$$\n",
    "    MSE = \\frac{1}{N} \\sum_{i=1}^{N} (target_{i} - prediction_{i})^2,\n",
    "$$\n",
    "\n",
    "where $N$ - number of objects, $target_{i}$ - values of target for $i$-th object and  $prediction_{i}$ - prediction for $i$-th object. In other words, we need to look at how predictions are calculated in the original problem and the transformed one in order to be able to assert the difference or similarity of quality metrics in two situations."
   ]
  },
  {
   "cell_type": "markdown",
   "id": "e415add2-04c7-4fc5-a279-ff9cc8f706e7",
   "metadata": {},
   "source": [
    "Predictions can be computed as follows:\n",
    "\n",
    "$$\n",
    "    a = X w,\n",
    "$$\n",
    "\n",
    "where $a$ - predictions vector. Now, let's look at predictions for the transformed problem:\n",
    "\n",
    "$$\n",
    "    a' = X' w'\n",
    "$$\n",
    "\n",
    "$$\n",
    "    a' = X \\underbrace{A A^{-1}}_\\text{$E$} w\n",
    "$$\n",
    "\n",
    "$$\n",
    "    \\Downarrow\n",
    "$$\n",
    "\n",
    "$$\n",
    "    a' = X w,\n",
    "$$\n",
    "\n",
    "$$\n",
    "    \\Downarrow\n",
    "$$\n",
    "\n",
    "$$\n",
    "    a = a'\n",
    "$$\n",
    "\n",
    "So, we got that the predictions in the original and transformed problems will coincide, that is, the values of $MSE_{model}$ will coincide, and since $MSE_{average}$ does not change between the variants, we will have approximately equal values of the metric $R^2$. \n",
    "\n",
    "Now let's check the calculations made earlier and write code that will check the metric values in these two tasks. To begin with, let's compare the predictions."
   ]
  },
  {
   "cell_type": "code",
   "execution_count": 10,
   "id": "2644dead-ab5c-41eb-890e-aaa479aa7430",
   "metadata": {},
   "outputs": [
    {
     "data": {
      "text/plain": [
       "0       0.511727\n",
       "1       0.684316\n",
       "2       0.093734\n",
       "3      -0.222589\n",
       "4       0.065084\n",
       "          ...   \n",
       "4995    0.028390\n",
       "4996    0.253367\n",
       "4997   -0.256970\n",
       "4998   -0.190992\n",
       "4999    0.049050\n",
       "Length: 5000, dtype: float64"
      ]
     },
     "execution_count": 10,
     "metadata": {},
     "output_type": "execute_result"
    }
   ],
   "source": [
    "# Linear Regression (Case 1)\n",
    "lin_reg_base = LinearRegression()\n",
    "lin_reg_base.fit(features, target)\n",
    "predictions_base = lin_reg_base.predict(features)\n",
    "pd.Series(predictions_base, index=target.index)"
   ]
  },
  {
   "cell_type": "code",
   "execution_count": 11,
   "id": "9c902e22-abd1-4f6a-ba5e-7ea85dc646f2",
   "metadata": {},
   "outputs": [
    {
     "data": {
      "text/plain": [
       "0       0.511727\n",
       "1       0.684316\n",
       "2       0.093734\n",
       "3      -0.222589\n",
       "4       0.065084\n",
       "          ...   \n",
       "4995    0.028390\n",
       "4996    0.253367\n",
       "4997   -0.256970\n",
       "4998   -0.190992\n",
       "4999    0.049050\n",
       "Length: 5000, dtype: float64"
      ]
     },
     "execution_count": 11,
     "metadata": {},
     "output_type": "execute_result"
    }
   ],
   "source": [
    "# Transforming features\n",
    "features_matrix_transformed = features_matrix @ invertible_matrix\n",
    "\n",
    "# Linear Regression (Case 2)\n",
    "lin_reg_transformed = LinearRegression()\n",
    "lin_reg_transformed.fit(features_matrix_transformed, target)\n",
    "predictions_transformed = lin_reg_transformed.predict(features_matrix_transformed)\n",
    "pd.Series(predictions_transformed, index=target.index)"
   ]
  },
  {
   "cell_type": "markdown",
   "id": "3c41ade4-7ac8-493b-b6b5-9361079adffd",
   "metadata": {},
   "source": [
    "We see that the predictions are quite close to each other, which confirms the calculations that we made earlier. Now let's look at the values of the parameters of the regressions."
   ]
  },
  {
   "cell_type": "code",
   "execution_count": 12,
   "id": "868dd24b-9379-4baf-a4d7-2c3e6fcdaa89",
   "metadata": {},
   "outputs": [
    {
     "name": "stdout",
     "output_type": "stream",
     "text": [
      "[ 7.92580563e-03  3.57083050e-02 -1.70081903e-07 -1.35676627e-02]\n"
     ]
    }
   ],
   "source": [
    "# Printing Linear Regression parameters (Case 1)\n",
    "w = lin_reg_base.coef_\n",
    "print(w)"
   ]
  },
  {
   "cell_type": "code",
   "execution_count": 13,
   "id": "c8a1683a-3bb0-4192-8249-acee1e44cc11",
   "metadata": {},
   "outputs": [
    {
     "name": "stdout",
     "output_type": "stream",
     "text": [
      "[ 0.01271273  0.00815117 -0.01594911  0.00298767]\n",
      "[ 0.01271273  0.00815117 -0.01594911  0.00298767]\n"
     ]
    }
   ],
   "source": [
    "# Printing Linear Regression parameters (Case 2)\n",
    "w_transformed = inverted_matrix.dot(w)\n",
    "print(w_transformed)\n",
    "print(lin_reg_transformed.coef_)"
   ]
  },
  {
   "cell_type": "markdown",
   "id": "53656ee2-b596-49c7-9701-497c8132292d",
   "metadata": {},
   "source": [
    "Again, we see that the calculations are correct and the coefficients are different in the two problems. Finally, let's look at the values of the quality metric."
   ]
  },
  {
   "cell_type": "code",
   "execution_count": 14,
   "id": "b71f48ca-6415-4d02-90bd-cbf242d26d3f",
   "metadata": {},
   "outputs": [
    {
     "name": "stdout",
     "output_type": "stream",
     "text": [
      "R2 (Case 1): 0.4249\n",
      "R2 (Case 2): 0.4249\n"
     ]
    }
   ],
   "source": [
    "# Comparing R2-score\n",
    "print(\"R2 (Case 1): {:.4f}\".format(r2_score(target, predictions_base)))\n",
    "print(\"R2 (Case 2): {:.4f}\".format(r2_score(target, predictions_transformed)))"
   ]
  },
  {
   "cell_type": "markdown",
   "id": "64c3d1c2-da8e-4dff-9649-c334fd954390",
   "metadata": {},
   "source": [
    "**Conclusion**\n",
    "\n",
    "At this stage, we investigated the question of the effect of multiplication of the feature matrix by the invertible matrix. It turned out that the regression coefficients in the original and transformed problems will be different, but the predictions in both cases will be almost identical. This fact allows us to assert the similarity of metric values in these two variants of linear regression."
   ]
  },
  {
   "cell_type": "markdown",
   "id": "2d874506-5633-49fe-b3f4-95170a2cc66d",
   "metadata": {},
   "source": [
    "## Data conversion algorithm"
   ]
  },
  {
   "cell_type": "markdown",
   "id": "6b5a7bfe-4a16-45f0-975c-edf6411a3ef9",
   "metadata": {},
   "source": [
    "Now let's move on to developing such a data conversion algorithm that will protect the company's customer data as much as possible. The bottom line will be that we will multiply the feature matrix by a specially composed invertible matrix. Let's propose the following algorithm.\n",
    "\n",
    "**Algorithm:**\n",
    "\n",
    "* The initial invertible matrix will be generated based on standard normal distribution $\\mathcal{N}(0, 1)$;\n",
    "* The matrix will change or not change its sign based on a randomly generated standard logistic number from $Logistic(0, 1)$;\n",
    "* The resulting matrix will be premultiplied with the matrix of features.\n",
    "\n",
    "**Rationale for the algorithm:**\n",
    "\n",
    "This method was proposed due to the fact that there is a random factor here, that is, after each obfuscation of the feature matrix, a different result will be generated. The quality metric will not change in this case, because, as it was mathematically deduced earlier, when multiplying the feature matrix by any invertible matrix, we will still get the same predictions and, consequently, close values of the quality metric."
   ]
  },
  {
   "cell_type": "markdown",
   "id": "5a9456f6-efbf-42f4-b09d-0891f8c05921",
   "metadata": {},
   "source": [
    "**Conclusion**\n",
    "\n",
    "At this stage, a data transformation algorithm was proposed to protect the company's customer data. Thanks to the randomness, as well as a series of matrix transformations and conditions, we will be able to protect the data from recovery as much as possible."
   ]
  },
  {
   "cell_type": "markdown",
   "id": "afbbac55-123b-49e0-8196-0afd8e499d97",
   "metadata": {},
   "source": [
    "## Encoding algorithm"
   ]
  },
  {
   "cell_type": "markdown",
   "id": "c48a94b5-a57d-4b04-9a89-c8b85b88d2a2",
   "metadata": {},
   "source": [
    "Now, let's try to program such an algorithm proposed in the previous section. For that, we will create `Obfuscator()` class that will have three methods:\n",
    "\n",
    "* `__init__()` => Initializing an instance;\n",
    "* `mask_data()` => Obfuscating data with features;\n",
    "* `restore_data()` => Restoring data with features."
   ]
  },
  {
   "cell_type": "code",
   "execution_count": 15,
   "id": "996b98fc-86dc-49b8-9c5e-2d1bf3e7c423",
   "metadata": {},
   "outputs": [],
   "source": [
    "class Obfuscator(object):\n",
    "    \"\"\"Data obfuscation implementation.\n",
    "\n",
    "    Attributes:\n",
    "        random_state: None or an integer indicating\n",
    "            calibrating random number generator.\n",
    "    \"\"\"\n",
    "\n",
    "    def __init__(self, random_state: Optional[int] = None) -> None:\n",
    "        \"\"\"Initializes an instance based on random state.\n",
    "\n",
    "        Args:\n",
    "            random_state: Defines if an instance should\n",
    "                control for randomness.\n",
    "        \"\"\"\n",
    "        self.random_state = random_state\n",
    "\n",
    "    def mask_data(self, data: pd.DataFrame) -> Union[pd.DataFrame, None]:\n",
    "        \"\"\"Obfuscates the data using matrix operations.\n",
    "\n",
    "        Args:\n",
    "            data: DataFrame to be obfuscated.\n",
    "        \"\"\"\n",
    "        matrix = data.values\n",
    "        # Generating a matrix to be used in obfuscation\n",
    "        if self.random_state is not None:\n",
    "            np.random.seed(self.random_state)\n",
    "        self.obfuscating_matrix = np.random.normal(\n",
    "            size=(matrix.shape[1], matrix.shape[1])\n",
    "        )\n",
    "        # Making additional adjustments to a matrix\n",
    "        rand_logist_num = np.random.logistic()\n",
    "        self.obfuscating_matrix = (\n",
    "            -self.obfuscating_matrix if rand_logist_num > 0 else self.obfuscating_matrix\n",
    "        )\n",
    "        # Verifying invertibility of the matrix\n",
    "        try:\n",
    "            inverted_obfuscating_matrix = np.linalg.inv(self.obfuscating_matrix)\n",
    "        except np.linalg.LinAlgError as err:\n",
    "            print(err)\n",
    "        else:\n",
    "            # Computing obfuscated matrix\n",
    "            obfuscated_matrix = np.dot(matrix, self.obfuscating_matrix)\n",
    "            # Converting a matrix to DataFrame\n",
    "            obfuscated_data = pd.DataFrame(\n",
    "                data=obfuscated_matrix, index=data.index, columns=data.columns\n",
    "            )\n",
    "\n",
    "            return obfuscated_data\n",
    "\n",
    "    def restore_data(self, data: pd.DataFrame) -> pd.DataFrame:\n",
    "        \"\"\"Restores obfuscated data back to its original state.\n",
    "\n",
    "        Args:\n",
    "            data: DataFrame with obfuscated data.\n",
    "        \"\"\"\n",
    "        obfuscated_matrix = data.values\n",
    "        # Matrix operation to restore data\n",
    "        restored_matrix = obfuscated_matrix.dot(np.linalg.inv(self.obfuscating_matrix))\n",
    "        # Converting a matrix to DataFrame\n",
    "        restored_data = pd.DataFrame(\n",
    "            data=restored_matrix,\n",
    "            index=data.index,\n",
    "            columns=data.columns,\n",
    "        )\n",
    "        # Fixing output format\n",
    "        restored_data = restored_data.apply(\n",
    "            lambda column: column.round(2).astype(\"int64\")\n",
    "        )\n",
    "\n",
    "        return restored_data"
   ]
  },
  {
   "cell_type": "markdown",
   "id": "1e67e0e3-e93f-4770-923e-c8aa6ff12851",
   "metadata": {},
   "source": [
    "We can now test the structure we have written above. Firstly, we will create an instance of the class and mask the data with features."
   ]
  },
  {
   "cell_type": "code",
   "execution_count": 16,
   "id": "251ad34f-8b32-4e79-baaf-2d2847797a40",
   "metadata": {},
   "outputs": [
    {
     "data": {
      "text/html": [
       "<div>\n",
       "<style scoped>\n",
       "    .dataframe tbody tr th:only-of-type {\n",
       "        vertical-align: middle;\n",
       "    }\n",
       "\n",
       "    .dataframe tbody tr th {\n",
       "        vertical-align: top;\n",
       "    }\n",
       "\n",
       "    .dataframe thead th {\n",
       "        text-align: right;\n",
       "    }\n",
       "</style>\n",
       "<table border=\"1\" class=\"dataframe\">\n",
       "  <thead>\n",
       "    <tr style=\"text-align: right;\">\n",
       "      <th></th>\n",
       "      <th>sex</th>\n",
       "      <th>age</th>\n",
       "      <th>salary</th>\n",
       "      <th>family_members</th>\n",
       "    </tr>\n",
       "  </thead>\n",
       "  <tbody>\n",
       "    <tr>\n",
       "      <th>3183</th>\n",
       "      <td>30057.850862</td>\n",
       "      <td>48657.852763</td>\n",
       "      <td>39288.862573</td>\n",
       "      <td>-50539.779915</td>\n",
       "    </tr>\n",
       "    <tr>\n",
       "      <th>1071</th>\n",
       "      <td>33243.711676</td>\n",
       "      <td>53791.465256</td>\n",
       "      <td>43417.212539</td>\n",
       "      <td>-55851.269636</td>\n",
       "    </tr>\n",
       "    <tr>\n",
       "      <th>2640</th>\n",
       "      <td>32452.310831</td>\n",
       "      <td>52529.724173</td>\n",
       "      <td>42405.775923</td>\n",
       "      <td>-54560.476324</td>\n",
       "    </tr>\n",
       "    <tr>\n",
       "      <th>2282</th>\n",
       "      <td>26801.300964</td>\n",
       "      <td>43403.796943</td>\n",
       "      <td>35052.047801</td>\n",
       "      <td>-45102.859674</td>\n",
       "    </tr>\n",
       "    <tr>\n",
       "      <th>1595</th>\n",
       "      <td>30842.599674</td>\n",
       "      <td>49915.434746</td>\n",
       "      <td>40296.795194</td>\n",
       "      <td>-51833.747055</td>\n",
       "    </tr>\n",
       "  </tbody>\n",
       "</table>\n",
       "</div>"
      ],
      "text/plain": [
       "               sex           age        salary  family_members\n",
       "3183  30057.850862  48657.852763  39288.862573   -50539.779915\n",
       "1071  33243.711676  53791.465256  43417.212539   -55851.269636\n",
       "2640  32452.310831  52529.724173  42405.775923   -54560.476324\n",
       "2282  26801.300964  43403.796943  35052.047801   -45102.859674\n",
       "1595  30842.599674  49915.434746  40296.795194   -51833.747055"
      ]
     },
     "execution_count": 16,
     "metadata": {},
     "output_type": "execute_result"
    }
   ],
   "source": [
    "# Obfuscating features data\n",
    "obfuscator = Obfuscator(random_state=RANDOM_STATE)\n",
    "features_obfuscated = obfuscator.mask_data(data=features)\n",
    "features_obfuscated.sample(5, random_state=RANDOM_STATE)"
   ]
  },
  {
   "cell_type": "markdown",
   "id": "0727e883-0705-47eb-b3e0-75a773512b17",
   "metadata": {},
   "source": [
    "Now, let's restore original data."
   ]
  },
  {
   "cell_type": "code",
   "execution_count": 17,
   "id": "821e848f-b8c7-4fc1-aabe-f7ad21501d87",
   "metadata": {},
   "outputs": [
    {
     "data": {
      "text/html": [
       "<div>\n",
       "<style scoped>\n",
       "    .dataframe tbody tr th:only-of-type {\n",
       "        vertical-align: middle;\n",
       "    }\n",
       "\n",
       "    .dataframe tbody tr th {\n",
       "        vertical-align: top;\n",
       "    }\n",
       "\n",
       "    .dataframe thead th {\n",
       "        text-align: right;\n",
       "    }\n",
       "</style>\n",
       "<table border=\"1\" class=\"dataframe\">\n",
       "  <thead>\n",
       "    <tr style=\"text-align: right;\">\n",
       "      <th></th>\n",
       "      <th>sex</th>\n",
       "      <th>age</th>\n",
       "      <th>salary</th>\n",
       "      <th>family_members</th>\n",
       "    </tr>\n",
       "  </thead>\n",
       "  <tbody>\n",
       "    <tr>\n",
       "      <th>3183</th>\n",
       "      <td>0</td>\n",
       "      <td>33</td>\n",
       "      <td>39000</td>\n",
       "      <td>4</td>\n",
       "    </tr>\n",
       "    <tr>\n",
       "      <th>1071</th>\n",
       "      <td>0</td>\n",
       "      <td>50</td>\n",
       "      <td>43100</td>\n",
       "      <td>2</td>\n",
       "    </tr>\n",
       "    <tr>\n",
       "      <th>2640</th>\n",
       "      <td>1</td>\n",
       "      <td>39</td>\n",
       "      <td>42100</td>\n",
       "      <td>0</td>\n",
       "    </tr>\n",
       "    <tr>\n",
       "      <th>2282</th>\n",
       "      <td>0</td>\n",
       "      <td>20</td>\n",
       "      <td>34800</td>\n",
       "      <td>0</td>\n",
       "    </tr>\n",
       "    <tr>\n",
       "      <th>1595</th>\n",
       "      <td>0</td>\n",
       "      <td>41</td>\n",
       "      <td>40000</td>\n",
       "      <td>4</td>\n",
       "    </tr>\n",
       "  </tbody>\n",
       "</table>\n",
       "</div>"
      ],
      "text/plain": [
       "      sex  age  salary  family_members\n",
       "3183    0   33   39000               4\n",
       "1071    0   50   43100               2\n",
       "2640    1   39   42100               0\n",
       "2282    0   20   34800               0\n",
       "1595    0   41   40000               4"
      ]
     },
     "execution_count": 17,
     "metadata": {},
     "output_type": "execute_result"
    }
   ],
   "source": [
    "# Restoring original features data\n",
    "features_restored = obfuscator.restore_data(data=features_obfuscated)\n",
    "features_restored.sample(5, random_state=RANDOM_STATE)"
   ]
  },
  {
   "cell_type": "markdown",
   "id": "5c39f031-9e16-4352-98c0-2902777d28e5",
   "metadata": {},
   "source": [
    "Let's compare it with the real data."
   ]
  },
  {
   "cell_type": "code",
   "execution_count": 18,
   "id": "63e9c83d-f01b-42b5-a4a7-d13fc9397a7e",
   "metadata": {},
   "outputs": [
    {
     "data": {
      "text/html": [
       "<div>\n",
       "<style scoped>\n",
       "    .dataframe tbody tr th:only-of-type {\n",
       "        vertical-align: middle;\n",
       "    }\n",
       "\n",
       "    .dataframe tbody tr th {\n",
       "        vertical-align: top;\n",
       "    }\n",
       "\n",
       "    .dataframe thead th {\n",
       "        text-align: right;\n",
       "    }\n",
       "</style>\n",
       "<table border=\"1\" class=\"dataframe\">\n",
       "  <thead>\n",
       "    <tr style=\"text-align: right;\">\n",
       "      <th></th>\n",
       "      <th>sex</th>\n",
       "      <th>age</th>\n",
       "      <th>salary</th>\n",
       "      <th>family_members</th>\n",
       "    </tr>\n",
       "  </thead>\n",
       "  <tbody>\n",
       "    <tr>\n",
       "      <th>3183</th>\n",
       "      <td>0</td>\n",
       "      <td>33</td>\n",
       "      <td>39000</td>\n",
       "      <td>4</td>\n",
       "    </tr>\n",
       "    <tr>\n",
       "      <th>1071</th>\n",
       "      <td>0</td>\n",
       "      <td>50</td>\n",
       "      <td>43100</td>\n",
       "      <td>2</td>\n",
       "    </tr>\n",
       "    <tr>\n",
       "      <th>2640</th>\n",
       "      <td>1</td>\n",
       "      <td>39</td>\n",
       "      <td>42100</td>\n",
       "      <td>0</td>\n",
       "    </tr>\n",
       "    <tr>\n",
       "      <th>2282</th>\n",
       "      <td>0</td>\n",
       "      <td>20</td>\n",
       "      <td>34800</td>\n",
       "      <td>0</td>\n",
       "    </tr>\n",
       "    <tr>\n",
       "      <th>1595</th>\n",
       "      <td>0</td>\n",
       "      <td>41</td>\n",
       "      <td>40000</td>\n",
       "      <td>4</td>\n",
       "    </tr>\n",
       "  </tbody>\n",
       "</table>\n",
       "</div>"
      ],
      "text/plain": [
       "      sex  age  salary  family_members\n",
       "3183    0   33   39000               4\n",
       "1071    0   50   43100               2\n",
       "2640    1   39   42100               0\n",
       "2282    0   20   34800               0\n",
       "1595    0   41   40000               4"
      ]
     },
     "execution_count": 18,
     "metadata": {},
     "output_type": "execute_result"
    }
   ],
   "source": [
    "features.sample(5, random_state=RANDOM_STATE)"
   ]
  },
  {
   "cell_type": "markdown",
   "id": "09a6e89b-5d56-4cbe-ba5f-844f8c5683b1",
   "metadata": {},
   "source": [
    "Let's conduct one more verification and check if all values in these two DataFrames are indeed equal to each other."
   ]
  },
  {
   "cell_type": "code",
   "execution_count": 19,
   "id": "2407602b-fcbf-45f1-ae8f-57aa697a3e45",
   "metadata": {},
   "outputs": [],
   "source": [
    "# Verifying equality of all values in DataFrames\n",
    "assert features.equals(features_restored) == True"
   ]
  },
  {
   "cell_type": "markdown",
   "id": "9dbeda74-b030-40f1-8998-ce2e2ca1f552",
   "metadata": {},
   "source": [
    "Now, we can run the regressions again and compare the results."
   ]
  },
  {
   "cell_type": "code",
   "execution_count": 20,
   "id": "5cc84090-894c-460a-9558-f813cc07f62f",
   "metadata": {},
   "outputs": [
    {
     "data": {
      "text/plain": [
       "0       0.511727\n",
       "1       0.684316\n",
       "2       0.093734\n",
       "3      -0.222589\n",
       "4       0.065084\n",
       "          ...   \n",
       "4995    0.028390\n",
       "4996    0.253367\n",
       "4997   -0.256970\n",
       "4998   -0.190992\n",
       "4999    0.049050\n",
       "Length: 5000, dtype: float64"
      ]
     },
     "execution_count": 20,
     "metadata": {},
     "output_type": "execute_result"
    }
   ],
   "source": [
    "lin_reg_obfuscated = LinearRegression()\n",
    "lin_reg_obfuscated.fit(features_obfuscated, target)\n",
    "predictions_obfuscated = lin_reg_obfuscated.predict(features_obfuscated)\n",
    "pd.Series(predictions_obfuscated, index=target.index)"
   ]
  },
  {
   "cell_type": "code",
   "execution_count": 21,
   "id": "5772bfd1-d987-46d2-b4f5-c6397d17217d",
   "metadata": {},
   "outputs": [
    {
     "data": {
      "text/plain": [
       "0       0.511727\n",
       "1       0.684316\n",
       "2       0.093734\n",
       "3      -0.222589\n",
       "4       0.065084\n",
       "          ...   \n",
       "4995    0.028390\n",
       "4996    0.253367\n",
       "4997   -0.256970\n",
       "4998   -0.190992\n",
       "4999    0.049050\n",
       "Length: 5000, dtype: float64"
      ]
     },
     "execution_count": 21,
     "metadata": {},
     "output_type": "execute_result"
    }
   ],
   "source": [
    "pd.Series(predictions_base, index=target.index)"
   ]
  },
  {
   "cell_type": "code",
   "execution_count": 22,
   "id": "cd9bed53-5f21-421b-b8d0-63ecdf1fbc96",
   "metadata": {},
   "outputs": [
    {
     "name": "stdout",
     "output_type": "stream",
     "text": [
      "R2 (Case 1): 0.4249\n",
      "R2 (Case 2): 0.4249\n"
     ]
    }
   ],
   "source": [
    "print(\"R2 (Case 1): {:.4f}\".format(r2_score(target, predictions_base)))\n",
    "print(\"R2 (Case 2): {:.4f}\".format(r2_score(target, predictions_obfuscated)))"
   ]
  },
  {
   "cell_type": "markdown",
   "id": "d0009665-6304-415d-a749-f6d6f8bc85f1",
   "metadata": {},
   "source": [
    "**Conclusion**\n",
    "\n",
    "At the final stage, we were able to develop a data transformation method that will not only reliably protect data, but also make the data recovery process extremely difficult. Based on the results of data modeling in linear regression, we again saw that the predictions and, consequently, the values of quality metrics have not changed."
   ]
  },
  {
   "cell_type": "markdown",
   "id": "510f4e4f-f5e3-4c8c-afb2-3909eaeb83c0",
   "metadata": {},
   "source": [
    "## General conclusion\n",
    "\n",
    "This study was devoted to the process of developing an algorithm for protecting customer data of an insurance company. At the initial stage, the data were studied and visualized. The issue of the influence of multiplication of features on an invertible matrix on the values of quality metrics $R^2$ was carefully considered. Further, we were able to offer a rather complex data transformation algorithm in order to exclude the possibility of restoring customer data. After implementing this algorithm, we did not see any differences in the values of the quality metric when modeling data with linear regression."
   ]
  }
 ],
 "metadata": {
  "kernelspec": {
   "display_name": "Python 3 (ipykernel)",
   "language": "python",
   "name": "python3"
  },
  "language_info": {
   "codemirror_mode": {
    "name": "ipython",
    "version": 3
   },
   "file_extension": ".py",
   "mimetype": "text/x-python",
   "name": "python",
   "nbconvert_exporter": "python",
   "pygments_lexer": "ipython3",
   "version": "3.9.13"
  }
 },
 "nbformat": 4,
 "nbformat_minor": 5
}
