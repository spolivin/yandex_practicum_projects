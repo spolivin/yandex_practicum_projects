{
 "cells": [
  {
   "cell_type": "markdown",
   "id": "67b332a2-95b2-4c06-87c1-4e92c252aaf2",
   "metadata": {},
   "source": [
    "## Loading and preparing the data"
   ]
  },
  {
   "cell_type": "markdown",
   "id": "b9ad71a3-9e42-4083-a40b-73c4ea14af4c",
   "metadata": {},
   "source": [
    "### Loading data"
   ]
  },
  {
   "cell_type": "markdown",
   "id": "22624b82-e762-4cb1-aea5-63bc6b503e75",
   "metadata": {},
   "source": [
    "Let's start data analysis by importing all the libraries, modules, data structures and functions that we will need in the process of conducting this research. \n",
    "\n",
    "Additionally, here we will define several constant variables (distinguishable by capital letters), the values of which will be fixed:\n",
    "\n",
    "* `TRAIN_SET_SIZE` will store the fraction of data that needs to be left in the training dataset, while `VALID_SET_SIZE` will contain the share of the validation set. We will have only two sets during the process of training and validating machine learning models, where the test sample will be hidden;\n",
    "\n",
    "* We will also configure the random number generator as `RANDOM_STATE = 12345`;\n",
    "\n",
    "* In order to calculate the profit, we will add a couple more constants: `REVENUE_PER_1000_BARRELS` (revenue for every 1000 barrels of oil) and `TOTAL_COST` (budget for the development of the selected 200 oil wells, the number of which we will also store in `OIL_WELLS_SELECTED` constant variable);\n",
    "\n",
    "* To analyze profits and risks, we will also define `NUM_BOOTSTRAP_SAMPLES` constant, which will store the number of samples to be used when calculating profits using the *Bootstrap* technique;\n",
    "\n",
    "* We will also specify the confidence level as `CONFIDENCE_LEVEL` for calculating confidence intervals as well as the loss risk threshold defined as `LOSS_RISK_THRESHOLD`."
   ]
  },
  {
   "cell_type": "code",
   "execution_count": 1,
   "id": "e10e1e31-bb33-42eb-869c-5071fa8cf08c",
   "metadata": {},
   "outputs": [],
   "source": [
    "from typing import Tuple, Callable, Union, Optional, Any\n",
    "\n",
    "import numpy as np\n",
    "import pandas as pd\n",
    "import matplotlib.pyplot as plt\n",
    "import seaborn as sns\n",
    "from IPython.display import display\n",
    "from sklearn.model_selection import train_test_split\n",
    "from sklearn.linear_model import LinearRegression\n",
    "from sklearn.metrics import mean_squared_error\n",
    "\n",
    "RANDOM_STATE = 12345\n",
    "TRAIN_SET_SIZE = 0.75\n",
    "VALID_SET_SIZE = 0.25\n",
    "REVENUE_PER_1000_BARRELS = 450_000\n",
    "TOTAL_COST = 10_000_000_000\n",
    "OIL_WELLS_SELECTED = 200\n",
    "NUM_BOOTSTRAP_SAMPLES = 1000\n",
    "CONFIDENCE_LEVEL = 0.95\n",
    "LOSS_RISK_THRESHOLD = 0.025"
   ]
  },
  {
   "cell_type": "markdown",
   "id": "b4b80384-bc79-47b0-ae49-5b4ad5012a0c",
   "metadata": {},
   "source": [
    "Now, we can employ `pandas` library for loading data from 3 *csv*-files and saving them into 3 DataFrames."
   ]
  },
  {
   "cell_type": "code",
   "execution_count": 2,
   "id": "cdeea815-1b1a-4219-87a1-9ec6246a3844",
   "metadata": {},
   "outputs": [],
   "source": [
    "geo_data_0 = pd.read_csv(\"geo_data_0.csv\")\n",
    "geo_data_1 = pd.read_csv(\"geo_data_1.csv\")\n",
    "geo_data_2 = pd.read_csv(\"geo_data_2.csv\")"
   ]
  },
  {
   "cell_type": "markdown",
   "id": "e2b9f4e3-73e7-46ca-86bc-f1c4afd708f6",
   "metadata": {},
   "source": [
    "It should be noted that throughout the present study we will try to make the code as scalable as possible so that the code would run equally smoothly in cases of, for example, adding new data or changing current one."
   ]
  },
  {
   "cell_type": "markdown",
   "id": "5bb52b11-6123-435b-a190-334bef49f04f",
   "metadata": {},
   "source": [
    "### Data overview"
   ]
  },
  {
   "cell_type": "markdown",
   "id": "9f437fbe-6a1d-4d27-aadd-83c511ea8aca",
   "metadata": {},
   "source": [
    "To begin with, we will display random 5 lines from each DataFrame using the `sample()` method, while ensuring the reproducibility of the results by configuring the random number generator as `random_state=RANDOM_STATE`."
   ]
  },
  {
   "cell_type": "code",
   "execution_count": 3,
   "id": "2edce67c-bcad-4230-9b70-5f316617a3a8",
   "metadata": {},
   "outputs": [
    {
     "data": {
      "text/html": [
       "<div>\n",
       "<style scoped>\n",
       "    .dataframe tbody tr th:only-of-type {\n",
       "        vertical-align: middle;\n",
       "    }\n",
       "\n",
       "    .dataframe tbody tr th {\n",
       "        vertical-align: top;\n",
       "    }\n",
       "\n",
       "    .dataframe thead th {\n",
       "        text-align: right;\n",
       "    }\n",
       "</style>\n",
       "<table border=\"1\" class=\"dataframe\">\n",
       "  <thead>\n",
       "    <tr style=\"text-align: right;\">\n",
       "      <th></th>\n",
       "      <th>id</th>\n",
       "      <th>f0</th>\n",
       "      <th>f1</th>\n",
       "      <th>f2</th>\n",
       "      <th>product</th>\n",
       "    </tr>\n",
       "  </thead>\n",
       "  <tbody>\n",
       "    <tr>\n",
       "      <th>71751</th>\n",
       "      <td>7Z2gx</td>\n",
       "      <td>0.948970</td>\n",
       "      <td>-0.057547</td>\n",
       "      <td>2.095727</td>\n",
       "      <td>10.038645</td>\n",
       "    </tr>\n",
       "    <tr>\n",
       "      <th>80493</th>\n",
       "      <td>b2HU8</td>\n",
       "      <td>0.992974</td>\n",
       "      <td>0.206671</td>\n",
       "      <td>-0.142278</td>\n",
       "      <td>114.551489</td>\n",
       "    </tr>\n",
       "    <tr>\n",
       "      <th>2655</th>\n",
       "      <td>Y0dXD</td>\n",
       "      <td>1.199854</td>\n",
       "      <td>-0.563356</td>\n",
       "      <td>-1.852991</td>\n",
       "      <td>132.603635</td>\n",
       "    </tr>\n",
       "    <tr>\n",
       "      <th>53233</th>\n",
       "      <td>Mje59</td>\n",
       "      <td>0.691422</td>\n",
       "      <td>-0.433347</td>\n",
       "      <td>0.564974</td>\n",
       "      <td>169.072125</td>\n",
       "    </tr>\n",
       "    <tr>\n",
       "      <th>91141</th>\n",
       "      <td>yqXxU</td>\n",
       "      <td>0.420772</td>\n",
       "      <td>0.972638</td>\n",
       "      <td>0.736190</td>\n",
       "      <td>122.325180</td>\n",
       "    </tr>\n",
       "  </tbody>\n",
       "</table>\n",
       "</div>"
      ],
      "text/plain": [
       "          id        f0        f1        f2     product\n",
       "71751  7Z2gx  0.948970 -0.057547  2.095727   10.038645\n",
       "80493  b2HU8  0.992974  0.206671 -0.142278  114.551489\n",
       "2655   Y0dXD  1.199854 -0.563356 -1.852991  132.603635\n",
       "53233  Mje59  0.691422 -0.433347  0.564974  169.072125\n",
       "91141  yqXxU  0.420772  0.972638  0.736190  122.325180"
      ]
     },
     "execution_count": 3,
     "metadata": {},
     "output_type": "execute_result"
    }
   ],
   "source": [
    "geo_data_0.sample(5, random_state=RANDOM_STATE)"
   ]
  },
  {
   "cell_type": "code",
   "execution_count": 4,
   "id": "00a87f8b-34a6-424d-9075-080e984974b0",
   "metadata": {},
   "outputs": [
    {
     "data": {
      "text/html": [
       "<div>\n",
       "<style scoped>\n",
       "    .dataframe tbody tr th:only-of-type {\n",
       "        vertical-align: middle;\n",
       "    }\n",
       "\n",
       "    .dataframe tbody tr th {\n",
       "        vertical-align: top;\n",
       "    }\n",
       "\n",
       "    .dataframe thead th {\n",
       "        text-align: right;\n",
       "    }\n",
       "</style>\n",
       "<table border=\"1\" class=\"dataframe\">\n",
       "  <thead>\n",
       "    <tr style=\"text-align: right;\">\n",
       "      <th></th>\n",
       "      <th>id</th>\n",
       "      <th>f0</th>\n",
       "      <th>f1</th>\n",
       "      <th>f2</th>\n",
       "      <th>product</th>\n",
       "    </tr>\n",
       "  </thead>\n",
       "  <tbody>\n",
       "    <tr>\n",
       "      <th>71751</th>\n",
       "      <td>aTbUt</td>\n",
       "      <td>-0.371866</td>\n",
       "      <td>-1.862494</td>\n",
       "      <td>3.002210</td>\n",
       "      <td>80.859783</td>\n",
       "    </tr>\n",
       "    <tr>\n",
       "      <th>80493</th>\n",
       "      <td>CK34V</td>\n",
       "      <td>9.015122</td>\n",
       "      <td>-13.881455</td>\n",
       "      <td>1.995363</td>\n",
       "      <td>53.906522</td>\n",
       "    </tr>\n",
       "    <tr>\n",
       "      <th>2655</th>\n",
       "      <td>ioXCO</td>\n",
       "      <td>-6.507568</td>\n",
       "      <td>-4.817448</td>\n",
       "      <td>1.003449</td>\n",
       "      <td>30.132364</td>\n",
       "    </tr>\n",
       "    <tr>\n",
       "      <th>53233</th>\n",
       "      <td>xk6tF</td>\n",
       "      <td>14.560845</td>\n",
       "      <td>-10.667755</td>\n",
       "      <td>1.995175</td>\n",
       "      <td>53.906522</td>\n",
       "    </tr>\n",
       "    <tr>\n",
       "      <th>91141</th>\n",
       "      <td>F9AmG</td>\n",
       "      <td>6.090476</td>\n",
       "      <td>-4.494723</td>\n",
       "      <td>0.013815</td>\n",
       "      <td>0.000000</td>\n",
       "    </tr>\n",
       "  </tbody>\n",
       "</table>\n",
       "</div>"
      ],
      "text/plain": [
       "          id         f0         f1        f2    product\n",
       "71751  aTbUt  -0.371866  -1.862494  3.002210  80.859783\n",
       "80493  CK34V   9.015122 -13.881455  1.995363  53.906522\n",
       "2655   ioXCO  -6.507568  -4.817448  1.003449  30.132364\n",
       "53233  xk6tF  14.560845 -10.667755  1.995175  53.906522\n",
       "91141  F9AmG   6.090476  -4.494723  0.013815   0.000000"
      ]
     },
     "execution_count": 4,
     "metadata": {},
     "output_type": "execute_result"
    }
   ],
   "source": [
    "geo_data_1.sample(5, random_state=RANDOM_STATE)"
   ]
  },
  {
   "cell_type": "code",
   "execution_count": 5,
   "id": "13581c39-41df-40cd-a0f6-5684cc054b34",
   "metadata": {},
   "outputs": [
    {
     "data": {
      "text/html": [
       "<div>\n",
       "<style scoped>\n",
       "    .dataframe tbody tr th:only-of-type {\n",
       "        vertical-align: middle;\n",
       "    }\n",
       "\n",
       "    .dataframe tbody tr th {\n",
       "        vertical-align: top;\n",
       "    }\n",
       "\n",
       "    .dataframe thead th {\n",
       "        text-align: right;\n",
       "    }\n",
       "</style>\n",
       "<table border=\"1\" class=\"dataframe\">\n",
       "  <thead>\n",
       "    <tr style=\"text-align: right;\">\n",
       "      <th></th>\n",
       "      <th>id</th>\n",
       "      <th>f0</th>\n",
       "      <th>f1</th>\n",
       "      <th>f2</th>\n",
       "      <th>product</th>\n",
       "    </tr>\n",
       "  </thead>\n",
       "  <tbody>\n",
       "    <tr>\n",
       "      <th>71751</th>\n",
       "      <td>DMlgl</td>\n",
       "      <td>-1.444717</td>\n",
       "      <td>-3.861599</td>\n",
       "      <td>2.225805</td>\n",
       "      <td>61.212375</td>\n",
       "    </tr>\n",
       "    <tr>\n",
       "      <th>80493</th>\n",
       "      <td>tbrRC</td>\n",
       "      <td>-1.418617</td>\n",
       "      <td>1.276544</td>\n",
       "      <td>-0.976433</td>\n",
       "      <td>41.850118</td>\n",
       "    </tr>\n",
       "    <tr>\n",
       "      <th>2655</th>\n",
       "      <td>JRs1w</td>\n",
       "      <td>-4.587649</td>\n",
       "      <td>-0.413199</td>\n",
       "      <td>1.649268</td>\n",
       "      <td>57.776581</td>\n",
       "    </tr>\n",
       "    <tr>\n",
       "      <th>53233</th>\n",
       "      <td>bidOx</td>\n",
       "      <td>1.871584</td>\n",
       "      <td>1.619101</td>\n",
       "      <td>4.273555</td>\n",
       "      <td>100.053761</td>\n",
       "    </tr>\n",
       "    <tr>\n",
       "      <th>91141</th>\n",
       "      <td>AcBBB</td>\n",
       "      <td>-2.028785</td>\n",
       "      <td>4.128167</td>\n",
       "      <td>6.089547</td>\n",
       "      <td>109.897122</td>\n",
       "    </tr>\n",
       "  </tbody>\n",
       "</table>\n",
       "</div>"
      ],
      "text/plain": [
       "          id        f0        f1        f2     product\n",
       "71751  DMlgl -1.444717 -3.861599  2.225805   61.212375\n",
       "80493  tbrRC -1.418617  1.276544 -0.976433   41.850118\n",
       "2655   JRs1w -4.587649 -0.413199  1.649268   57.776581\n",
       "53233  bidOx  1.871584  1.619101  4.273555  100.053761\n",
       "91141  AcBBB -2.028785  4.128167  6.089547  109.897122"
      ]
     },
     "execution_count": 5,
     "metadata": {},
     "output_type": "execute_result"
    }
   ],
   "source": [
    "geo_data_2.sample(5, random_state=RANDOM_STATE)"
   ]
  },
  {
   "cell_type": "markdown",
   "id": "2cecd422-ab27-44b0-b938-7201b52e2d48",
   "metadata": {},
   "source": [
    "At first glance, we see that all DataFrames are made up uniformly, which can be seen by the matching column names. However, it is still worth looking at each of them in more detail, which can be done for each using the `info()` method."
   ]
  },
  {
   "cell_type": "code",
   "execution_count": 6,
   "id": "1ae4aa03-de5b-4190-b2b4-a2d05714f4b3",
   "metadata": {},
   "outputs": [
    {
     "name": "stdout",
     "output_type": "stream",
     "text": [
      "<class 'pandas.core.frame.DataFrame'>\n",
      "RangeIndex: 100000 entries, 0 to 99999\n",
      "Data columns (total 5 columns):\n",
      " #   Column   Non-Null Count   Dtype  \n",
      "---  ------   --------------   -----  \n",
      " 0   id       100000 non-null  object \n",
      " 1   f0       100000 non-null  float64\n",
      " 2   f1       100000 non-null  float64\n",
      " 3   f2       100000 non-null  float64\n",
      " 4   product  100000 non-null  float64\n",
      "dtypes: float64(4), object(1)\n",
      "memory usage: 3.8+ MB\n"
     ]
    }
   ],
   "source": [
    "geo_data_0.info()"
   ]
  },
  {
   "cell_type": "code",
   "execution_count": 7,
   "id": "3ce92d9a-166c-4b7a-bb1c-168594af58b3",
   "metadata": {},
   "outputs": [
    {
     "name": "stdout",
     "output_type": "stream",
     "text": [
      "<class 'pandas.core.frame.DataFrame'>\n",
      "RangeIndex: 100000 entries, 0 to 99999\n",
      "Data columns (total 5 columns):\n",
      " #   Column   Non-Null Count   Dtype  \n",
      "---  ------   --------------   -----  \n",
      " 0   id       100000 non-null  object \n",
      " 1   f0       100000 non-null  float64\n",
      " 2   f1       100000 non-null  float64\n",
      " 3   f2       100000 non-null  float64\n",
      " 4   product  100000 non-null  float64\n",
      "dtypes: float64(4), object(1)\n",
      "memory usage: 3.8+ MB\n"
     ]
    }
   ],
   "source": [
    "geo_data_1.info()"
   ]
  },
  {
   "cell_type": "code",
   "execution_count": 8,
   "id": "6b21985e-49d8-43e3-aa28-81af4261f4db",
   "metadata": {},
   "outputs": [
    {
     "name": "stdout",
     "output_type": "stream",
     "text": [
      "<class 'pandas.core.frame.DataFrame'>\n",
      "RangeIndex: 100000 entries, 0 to 99999\n",
      "Data columns (total 5 columns):\n",
      " #   Column   Non-Null Count   Dtype  \n",
      "---  ------   --------------   -----  \n",
      " 0   id       100000 non-null  object \n",
      " 1   f0       100000 non-null  float64\n",
      " 2   f1       100000 non-null  float64\n",
      " 3   f2       100000 non-null  float64\n",
      " 4   product  100000 non-null  float64\n",
      "dtypes: float64(4), object(1)\n",
      "memory usage: 3.8+ MB\n"
     ]
    }
   ],
   "source": [
    "geo_data_2.info()"
   ]
  },
  {
   "cell_type": "markdown",
   "id": "8a3f3b9d-6688-4fab-b82e-c410e67927b3",
   "metadata": {},
   "source": [
    "The results show that, indeed, all DataFrames are similar to each other, except that the data belong to different regions. We also notice that the data types are represented by the types `float64` and `object`. Let's look at the columns of the DataFrames in more detail and see what information they contain:"
   ]
  },
  {
   "cell_type": "markdown",
   "id": "ed9fa0ff-7910-43f5-8491-82b688e0cfcf",
   "metadata": {},
   "source": [
    "<table>\n",
    "<thead>\n",
    "<tr><th>Features</th><th>Description</th></tr>\n",
    "</thead>\n",
    "<tbody>\n",
    "<tr><td><code>id</code></td><td><i>Unique identifier of an oil well</i></td></tr>\n",
    "<tr><td><code>f0</code></td><td><i>Significant oil well feature #1 [hidden feature]</i></td></tr>\n",
    "<tr><td><code>f1</code></td><td><i>Significant oil well feature #2 [hidden feature]</i></td></tr>\n",
    "<tr><td><code>f2</code></td><td><i>Significant oil well feature #3 [hidden feature]</i></td></tr>\n",
    "<tr><td><code>product</code></td><td><i>Volume of reserves contained in an oil well (thsd. barrels)</i></td></tr>\n",
    "</tbody>\n",
    "</table>"
   ]
  },
  {
   "cell_type": "markdown",
   "id": "327d49c4-418e-490c-9793-7831cbac3a2b",
   "metadata": {},
   "source": [
    "Each DataFrame contains data on 100,000 potentially profitable wells that relate to a specific region. We see that all values are present in the data: number of `non-null` values in the columns is equal to the total number of objects in a separate DataFrame, which is true for all three regions. Furthermore, we do not notice any problems with column names and data types."
   ]
  },
  {
   "cell_type": "markdown",
   "id": "7e010f45-77dd-48d3-a882-1d01de56f7d3",
   "metadata": {},
   "source": [
    "Finally, we visualize the numeric columns of each DataFrame to get an idea of the distributions of values."
   ]
  },
  {
   "cell_type": "code",
   "execution_count": 9,
   "id": "522ce56b-f9a3-41eb-a62c-509415efaaee",
   "metadata": {},
   "outputs": [
    {
     "data": {
      "image/png": "[encoded data removed]",
      "text/plain": [
       "<Figure size 1500x1000 with 4 Axes>"
      ]
     },
     "metadata": {},
     "output_type": "display_data"
    }
   ],
   "source": [
    "sns.set_theme(style=\"darkgrid\")\n",
    "geo_data_0.hist(figsize=(15, 10), color=\"dodgerblue\")\n",
    "plt.suptitle(\"Region #1\")\n",
    "plt.show()"
   ]
  },
  {
   "cell_type": "code",
   "execution_count": 10,
   "id": "f5129aea-3e58-484d-92e9-f53ed2673f24",
   "metadata": {},
   "outputs": [
    {
     "data": {
      "image/png": "[encoded data removed]",
      "text/plain": [
       "<Figure size 1500x1000 with 4 Axes>"
      ]
     },
     "metadata": {},
     "output_type": "display_data"
    }
   ],
   "source": [
    "geo_data_1.hist(figsize=(15, 10), color=\"slateblue\")\n",
    "plt.suptitle(\"Region #2\")\n",
    "plt.show()"
   ]
  },
  {
   "cell_type": "code",
   "execution_count": 11,
   "id": "5ffb5ee6-4ac3-4eda-aa30-f95d4b663d93",
   "metadata": {},
   "outputs": [
    {
     "data": {
      "image/png": "[encoded data removed]",
      "text/plain": [
       "<Figure size 1500x1000 with 4 Axes>"
      ]
     },
     "metadata": {},
     "output_type": "display_data"
    }
   ],
   "source": [
    "geo_data_2.hist(figsize=(15, 10), color=\"darkmagenta\")\n",
    "plt.suptitle(\"Region #3\")\n",
    "plt.show()"
   ]
  },
  {
   "cell_type": "markdown",
   "id": "aab14038-422b-4c5a-a05b-2b6b0652c851",
   "metadata": {},
   "source": [
    "We see that the histograms have some differences between regions. In particular, for example, Region #3 is interesting because the histograms for all numeric columns resemble a normal distribution, which is not completely true about Region #1 and Region #2."
   ]
  },
  {
   "cell_type": "markdown",
   "id": "207fc961-e2de-4396-bc50-3ff059843351",
   "metadata": {},
   "source": [
    "### Data preprocessing"
   ]
  },
  {
   "cell_type": "markdown",
   "id": "05fdb36b-1ba3-499b-b4cc-e097f3e9f48a",
   "metadata": {},
   "source": [
    "Now, we get to preprocessing the data. Let's verify the number of missing values, duplicated rows and duplicated identifiers. For that we can write a function called `preprocess_data()`, which will check the DataFrame for the problems stated above and will accordingly adjust it. Specifically, here we will just remove all rows with missing values and duplicates. It should be noted that should duplicated rows or duplicated ids be found, we will keep the last duplicate. Since duplicates could have appeared due to additional measurements on the oil wells, we want to be able to have the latest information so we specify in such cases `keep=\"last\"`."
   ]
  },
  {
   "cell_type": "code",
   "execution_count": 12,
   "id": "960a223b-ef77-4478-9bb2-0b96c15e4152",
   "metadata": {},
   "outputs": [],
   "source": [
    "def preprocess_data(\n",
    "    data: pd.DataFrame,\n",
    "    preprocess_nan_values: bool = False,\n",
    "    preprocess_dup_rows: bool = False,\n",
    "    preprocess_dup_ids: bool = False,\n",
    ") -> None:\n",
    "    \"\"\"\n",
    "    Preprocesses missing values, duplicated rows and\n",
    "    duplicated identifiers in a DataFrame.\n",
    "\n",
    "    In case of the aforementioned problems found, cleans\n",
    "    a DataFrame from missing values, duplicated rows and\n",
    "    duplicated ids.\n",
    "\n",
    "    Args:\n",
    "        data: DataFrame with information on oil wells with its\n",
    "            identifiers and features.\n",
    "        preprocess_nan_values: Boolean value indicating checking\n",
    "            the data for missing values and adjusting it accordingly.\n",
    "        preprocess_dup_rows: Boolean value indicating checking\n",
    "            the data for identical rows and adjusting it accordingly.\n",
    "        preprocess_dup_ids: Boolean value indicating checking\n",
    "            the data for duplicated ids and adjusting it accordingly.\n",
    "\n",
    "    Returns:\n",
    "        Returns None. Displays a message in accordance with problems\n",
    "        found. DataFrames are automatically adjusted for issues identified.\n",
    "    \"\"\"\n",
    "    # Preprocessing missing values\n",
    "    if preprocess_nan_values:\n",
    "        nan_values_num = data.isnull().sum().sum()\n",
    "        if nan_values_num == 0:\n",
    "            print(\"No missing values found.\")\n",
    "        else:\n",
    "            data.dropna(subset=data.columns, inplace=True)\n",
    "            data.reset_index(drop=True, inplace=True)\n",
    "            print(f\"{nan_values_num:,} missing value(s) have been found and deleted.\")\n",
    "\n",
    "    # Preprocessing duplicated rows\n",
    "    if preprocess_dup_rows:\n",
    "        dup_rows_num = data.duplicated().sum()\n",
    "        if dup_rows_num == 0:\n",
    "            print(\"No duplicated rows found.\")\n",
    "        else:\n",
    "            data.drop_duplicates(keep=\"last\", inplace=True)\n",
    "            data.reset_index(drop=True, inplace=True)\n",
    "            print(f\"{dup_rows_num:,} duplicated row(s) have been found and deleted.\")\n",
    "\n",
    "    # Preprocessing duplicated identifiers\n",
    "    if preprocess_dup_ids:\n",
    "        dup_ids_num = data[\"id\"].duplicated().sum()\n",
    "        if dup_ids_num == 0:\n",
    "            print(\"No duplicated identifiers found.\")\n",
    "        else:\n",
    "            data.drop_duplicates(subset=\"id\", keep=\"last\", inplace=True)\n",
    "            data.reset_index(drop=True, inplace=True)\n",
    "            print(\n",
    "                f\"{dup_ids_num:,} duplicated identifiers have been found and deleted.\"\n",
    "            )"
   ]
  },
  {
   "cell_type": "markdown",
   "id": "d11a7426-a040-4535-b867-40ee655afdf1",
   "metadata": {},
   "source": [
    "Now, let's apply this function to each DataFrame."
   ]
  },
  {
   "cell_type": "code",
   "execution_count": 13,
   "id": "c52ee4cb-92fa-4b33-9179-f19c31ad1768",
   "metadata": {},
   "outputs": [
    {
     "name": "stdout",
     "output_type": "stream",
     "text": [
      "No missing values found.\n",
      "No duplicated rows found.\n",
      "10 duplicated identifiers have been found and deleted.\n"
     ]
    }
   ],
   "source": [
    "# Preprocessing DataFrame for Region #1\n",
    "preprocess_data(\n",
    "    data=geo_data_0,\n",
    "    preprocess_nan_values=True,\n",
    "    preprocess_dup_rows=True,\n",
    "    preprocess_dup_ids=True,\n",
    ")"
   ]
  },
  {
   "cell_type": "code",
   "execution_count": 14,
   "id": "3c8f97ba-3aae-4fdc-aa7e-75d849ad4339",
   "metadata": {},
   "outputs": [
    {
     "name": "stdout",
     "output_type": "stream",
     "text": [
      "No missing values found.\n",
      "No duplicated rows found.\n",
      "4 duplicated identifiers have been found and deleted.\n"
     ]
    }
   ],
   "source": [
    "# Preprocessing DataFrame for Region #2\n",
    "preprocess_data(\n",
    "    data=geo_data_1,\n",
    "    preprocess_nan_values=True,\n",
    "    preprocess_dup_rows=True,\n",
    "    preprocess_dup_ids=True,\n",
    ")"
   ]
  },
  {
   "cell_type": "code",
   "execution_count": 15,
   "id": "909ddcf9-a97d-402e-a2b1-e11a70781fe2",
   "metadata": {},
   "outputs": [
    {
     "name": "stdout",
     "output_type": "stream",
     "text": [
      "No missing values found.\n",
      "No duplicated rows found.\n",
      "4 duplicated identifiers have been found and deleted.\n"
     ]
    }
   ],
   "source": [
    "# Preprocessing DataFrame for Region #3\n",
    "preprocess_data(\n",
    "    data=geo_data_2,\n",
    "    preprocess_nan_values=True,\n",
    "    preprocess_dup_rows=True,\n",
    "    preprocess_dup_ids=True,\n",
    ")"
   ]
  },
  {
   "cell_type": "markdown",
   "id": "63980653-4703-481c-b5bb-954d33f69d4e",
   "metadata": {},
   "source": [
    "We can see that there are no missing values and duplicated rows in the data but, however, the function has managed to find identical identifiers in the DataFrames, which it has been able to delete. As mentioned above, these ones could have appeared due to additional measurements on the oil wells so we deleted all such duplicates, except the last one."
   ]
  },
  {
   "cell_type": "markdown",
   "id": "01158494-525d-47c9-b457-e1c9a0d60331",
   "metadata": {},
   "source": [
    "### Correlation analysis"
   ]
  },
  {
   "cell_type": "markdown",
   "id": "a9b29830-7e18-49bf-9053-2af04be17aed",
   "metadata": {},
   "source": [
    "Now, let's conduct correlation analysis and make sure we do not have multicollinearity problem, under which Linear Regression generates unreliable results. We can conveniently plot correlation matrix as a heatmap by writing another function called `plot_corr_heatmap()`."
   ]
  },
  {
   "cell_type": "code",
   "execution_count": 16,
   "id": "683e9983-13d3-4129-9aca-78e7f24ef979",
   "metadata": {},
   "outputs": [],
   "source": [
    "def plot_corr_heatmap(\n",
    "    data: pd.DataFrame,\n",
    "    annot_num_size: Optional[int] = None,\n",
    "    colormap: Optional[Any] = None,\n",
    "    upper_triangle: bool = False,\n",
    "    lower_triangle: bool = False,\n",
    ") -> Any:\n",
    "    \"\"\"\n",
    "    Plots a heatmap of the correlation matrix.\n",
    "\n",
    "    Args:\n",
    "        data: DataFrame.\n",
    "        annot_num_size: Font size of numbers inside the\n",
    "            correlation matrix heatmap.\n",
    "        colormap: Colormap applied to the heatmap.\n",
    "        show_upper_triangle: Boolean value indicating showing\n",
    "            the upper triangle of values of a correlation matrix\n",
    "            heatmap.\n",
    "        show_lower_triangle: Boolean value indicating showing\n",
    "            the lower triangle of values of a correlation matrix\n",
    "            heatmap.\n",
    "\n",
    "    Returns:\n",
    "        Returns an object of any type. Plots a full correlation matrix heatmap or\n",
    "        an upper/lower triangle of a matrix.\n",
    "    \"\"\"\n",
    "    corr_matrix = data.corr()\n",
    "\n",
    "    # Showing upper/lower triangle of a matrix\n",
    "    if upper_triangle:\n",
    "        mask = np.zeros_like(corr_matrix)\n",
    "        mask[np.tril_indices_from(mask)] = True\n",
    "    elif lower_triangle:\n",
    "        mask = np.zeros_like(corr_matrix)\n",
    "        mask[np.triu_indices_from(mask)] = True\n",
    "    else:\n",
    "        mask = None\n",
    "\n",
    "    # Plotting a matrix\n",
    "    corr_heatmap = sns.heatmap(\n",
    "        corr_matrix,\n",
    "        annot=True,\n",
    "        mask=mask,\n",
    "        annot_kws={\"size\": annot_num_size},\n",
    "        cmap=colormap,\n",
    "    )\n",
    "    corr_heatmap.xaxis.tick_bottom()\n",
    "    corr_heatmap.yaxis.tick_left()\n",
    "    corr_heatmap.set(title=\"Correlation matrix\")\n",
    "    plt.show()"
   ]
  },
  {
   "cell_type": "markdown",
   "id": "9b7963a2-d64a-4861-86c4-20120096f2b2",
   "metadata": {},
   "source": [
    "Let's consequently display heatmaps for correlation matrix for each DataFrame, where we will plot only the lower triangle of the matrix by specifying `lower_triangle=True`."
   ]
  },
  {
   "cell_type": "code",
   "execution_count": 17,
   "id": "e4ce670a",
   "metadata": {},
   "outputs": [
    {
     "data": {
      "image/png": "[encoded data removed]",
      "text/plain": [
       "<Figure size 640x480 with 2 Axes>"
      ]
     },
     "metadata": {},
     "output_type": "display_data"
    }
   ],
   "source": [
    "plot_corr_heatmap(data=geo_data_0, colormap=\"Oranges\", lower_triangle=True)"
   ]
  },
  {
   "cell_type": "code",
   "execution_count": 18,
   "id": "8d89cf54-98c8-4649-882a-d9c5169e9247",
   "metadata": {},
   "outputs": [
    {
     "data": {
      "image/png": "[encoded data removed]",
      "text/plain": [
       "<Figure size 640x480 with 2 Axes>"
      ]
     },
     "metadata": {},
     "output_type": "display_data"
    }
   ],
   "source": [
    "plot_corr_heatmap(data=geo_data_1, colormap=\"Oranges\", lower_triangle=True)"
   ]
  },
  {
   "cell_type": "code",
   "execution_count": 19,
   "id": "5ebc509b-b547-4471-a081-5f2f6bfa3985",
   "metadata": {},
   "outputs": [
    {
     "data": {
      "image/png": "[encoded data removed]",
      "text/plain": [
       "<Figure size 640x480 with 2 Axes>"
      ]
     },
     "metadata": {},
     "output_type": "display_data"
    }
   ],
   "source": [
    "plot_corr_heatmap(data=geo_data_2, colormap=\"Oranges\", lower_triangle=True)"
   ]
  },
  {
   "cell_type": "markdown",
   "id": "0390bcbe-c4c4-48b9-b9de-200654e70d09",
   "metadata": {},
   "source": [
    "We notice that features are not so strongly correlated between each other, thus signifying the fact that we should not be that concerned about multicolllinearity being present in the data. It should be noted that features `f0` and `f1` do not seem to correlate much with our target variable `product`, however, as far as `f2` is concerned, it showcases a pretty strong correlation with the target, which is especially the case for Region #2."
   ]
  },
  {
   "cell_type": "markdown",
   "id": "2a9d11aa-306d-4046-9e07-0fa844b1a289",
   "metadata": {},
   "source": [
    "### Data split"
   ]
  },
  {
   "cell_type": "markdown",
   "id": "796990df-7d94-4750-8ac1-c4f8c5108e41",
   "metadata": {},
   "source": [
    "The next step is to divide the data into separate datasets: training and validation. Before moving on to that, we will delete the columns that we will not need in the process of training the model. This only applies to the `id` column: we are not interested in any particular oil well, but the whole region, that is, the aggregation of data on these wells. Therefore, since oil well identifiers will not provide the model with any predictive power, we will get rid of this column. Let's do this in the most flexible way: provided that new relevant columns of the `object` type will not appear in the future, we can simply remove the `id` column by specifying the exclusion of columns of this type from the DataFrame."
   ]
  },
  {
   "cell_type": "code",
   "execution_count": 20,
   "id": "e063f23e-2d88-4448-a7e5-87b4099263a2",
   "metadata": {},
   "outputs": [],
   "source": [
    "# Filtering out irrelevant columns\n",
    "geo_data_0 = geo_data_0[geo_data_0.select_dtypes(exclude=\"object\").columns]\n",
    "geo_data_1 = geo_data_1[geo_data_1.select_dtypes(exclude=\"object\").columns]\n",
    "geo_data_2 = geo_data_2[geo_data_2.select_dtypes(exclude=\"object\").columns]"
   ]
  },
  {
   "cell_type": "markdown",
   "id": "2acb6440-b33d-48f7-ae2d-f5dd4682236d",
   "metadata": {},
   "source": [
    "Let's check the changes made by printing the last 5 rows of the DataFrames."
   ]
  },
  {
   "cell_type": "code",
   "execution_count": 21,
   "id": "865432c8-9c13-4497-94e1-a30ed023c899",
   "metadata": {},
   "outputs": [
    {
     "data": {
      "text/html": [
       "<div>\n",
       "<style scoped>\n",
       "    .dataframe tbody tr th:only-of-type {\n",
       "        vertical-align: middle;\n",
       "    }\n",
       "\n",
       "    .dataframe tbody tr th {\n",
       "        vertical-align: top;\n",
       "    }\n",
       "\n",
       "    .dataframe thead th {\n",
       "        text-align: right;\n",
       "    }\n",
       "</style>\n",
       "<table border=\"1\" class=\"dataframe\">\n",
       "  <thead>\n",
       "    <tr style=\"text-align: right;\">\n",
       "      <th></th>\n",
       "      <th>f0</th>\n",
       "      <th>f1</th>\n",
       "      <th>f2</th>\n",
       "      <th>product</th>\n",
       "    </tr>\n",
       "  </thead>\n",
       "  <tbody>\n",
       "    <tr>\n",
       "      <th>99985</th>\n",
       "      <td>0.971957</td>\n",
       "      <td>0.370953</td>\n",
       "      <td>6.075346</td>\n",
       "      <td>110.744026</td>\n",
       "    </tr>\n",
       "    <tr>\n",
       "      <th>99986</th>\n",
       "      <td>1.392429</td>\n",
       "      <td>-0.382606</td>\n",
       "      <td>1.273912</td>\n",
       "      <td>122.346843</td>\n",
       "    </tr>\n",
       "    <tr>\n",
       "      <th>99987</th>\n",
       "      <td>1.029585</td>\n",
       "      <td>0.018787</td>\n",
       "      <td>-1.348308</td>\n",
       "      <td>64.375443</td>\n",
       "    </tr>\n",
       "    <tr>\n",
       "      <th>99988</th>\n",
       "      <td>0.998163</td>\n",
       "      <td>-0.528582</td>\n",
       "      <td>1.583869</td>\n",
       "      <td>74.040764</td>\n",
       "    </tr>\n",
       "    <tr>\n",
       "      <th>99989</th>\n",
       "      <td>1.764754</td>\n",
       "      <td>-0.266417</td>\n",
       "      <td>5.722849</td>\n",
       "      <td>149.633246</td>\n",
       "    </tr>\n",
       "  </tbody>\n",
       "</table>\n",
       "</div>"
      ],
      "text/plain": [
       "             f0        f1        f2     product\n",
       "99985  0.971957  0.370953  6.075346  110.744026\n",
       "99986  1.392429 -0.382606  1.273912  122.346843\n",
       "99987  1.029585  0.018787 -1.348308   64.375443\n",
       "99988  0.998163 -0.528582  1.583869   74.040764\n",
       "99989  1.764754 -0.266417  5.722849  149.633246"
      ]
     },
     "metadata": {},
     "output_type": "display_data"
    },
    {
     "data": {
      "text/html": [
       "<div>\n",
       "<style scoped>\n",
       "    .dataframe tbody tr th:only-of-type {\n",
       "        vertical-align: middle;\n",
       "    }\n",
       "\n",
       "    .dataframe tbody tr th {\n",
       "        vertical-align: top;\n",
       "    }\n",
       "\n",
       "    .dataframe thead th {\n",
       "        text-align: right;\n",
       "    }\n",
       "</style>\n",
       "<table border=\"1\" class=\"dataframe\">\n",
       "  <thead>\n",
       "    <tr style=\"text-align: right;\">\n",
       "      <th></th>\n",
       "      <th>f0</th>\n",
       "      <th>f1</th>\n",
       "      <th>f2</th>\n",
       "      <th>product</th>\n",
       "    </tr>\n",
       "  </thead>\n",
       "  <tbody>\n",
       "    <tr>\n",
       "      <th>99991</th>\n",
       "      <td>9.535637</td>\n",
       "      <td>-6.878139</td>\n",
       "      <td>1.998296</td>\n",
       "      <td>53.906522</td>\n",
       "    </tr>\n",
       "    <tr>\n",
       "      <th>99992</th>\n",
       "      <td>-10.160631</td>\n",
       "      <td>-12.558096</td>\n",
       "      <td>5.005581</td>\n",
       "      <td>137.945408</td>\n",
       "    </tr>\n",
       "    <tr>\n",
       "      <th>99993</th>\n",
       "      <td>-7.378891</td>\n",
       "      <td>-3.084104</td>\n",
       "      <td>4.998651</td>\n",
       "      <td>137.945408</td>\n",
       "    </tr>\n",
       "    <tr>\n",
       "      <th>99994</th>\n",
       "      <td>0.665714</td>\n",
       "      <td>-6.152593</td>\n",
       "      <td>1.000146</td>\n",
       "      <td>30.132364</td>\n",
       "    </tr>\n",
       "    <tr>\n",
       "      <th>99995</th>\n",
       "      <td>-3.426139</td>\n",
       "      <td>-7.794274</td>\n",
       "      <td>-0.003299</td>\n",
       "      <td>3.179103</td>\n",
       "    </tr>\n",
       "  </tbody>\n",
       "</table>\n",
       "</div>"
      ],
      "text/plain": [
       "              f0         f1        f2     product\n",
       "99991   9.535637  -6.878139  1.998296   53.906522\n",
       "99992 -10.160631 -12.558096  5.005581  137.945408\n",
       "99993  -7.378891  -3.084104  4.998651  137.945408\n",
       "99994   0.665714  -6.152593  1.000146   30.132364\n",
       "99995  -3.426139  -7.794274 -0.003299    3.179103"
      ]
     },
     "metadata": {},
     "output_type": "display_data"
    },
    {
     "data": {
      "text/html": [
       "<div>\n",
       "<style scoped>\n",
       "    .dataframe tbody tr th:only-of-type {\n",
       "        vertical-align: middle;\n",
       "    }\n",
       "\n",
       "    .dataframe tbody tr th {\n",
       "        vertical-align: top;\n",
       "    }\n",
       "\n",
       "    .dataframe thead th {\n",
       "        text-align: right;\n",
       "    }\n",
       "</style>\n",
       "<table border=\"1\" class=\"dataframe\">\n",
       "  <thead>\n",
       "    <tr style=\"text-align: right;\">\n",
       "      <th></th>\n",
       "      <th>f0</th>\n",
       "      <th>f1</th>\n",
       "      <th>f2</th>\n",
       "      <th>product</th>\n",
       "    </tr>\n",
       "  </thead>\n",
       "  <tbody>\n",
       "    <tr>\n",
       "      <th>99991</th>\n",
       "      <td>-1.777037</td>\n",
       "      <td>1.125220</td>\n",
       "      <td>6.263374</td>\n",
       "      <td>172.327046</td>\n",
       "    </tr>\n",
       "    <tr>\n",
       "      <th>99992</th>\n",
       "      <td>-1.261523</td>\n",
       "      <td>-0.894828</td>\n",
       "      <td>2.524545</td>\n",
       "      <td>138.748846</td>\n",
       "    </tr>\n",
       "    <tr>\n",
       "      <th>99993</th>\n",
       "      <td>-1.199934</td>\n",
       "      <td>-2.957637</td>\n",
       "      <td>5.219411</td>\n",
       "      <td>157.080080</td>\n",
       "    </tr>\n",
       "    <tr>\n",
       "      <th>99994</th>\n",
       "      <td>-2.419896</td>\n",
       "      <td>2.417221</td>\n",
       "      <td>-5.548444</td>\n",
       "      <td>51.795253</td>\n",
       "    </tr>\n",
       "    <tr>\n",
       "      <th>99995</th>\n",
       "      <td>-2.551421</td>\n",
       "      <td>-2.025625</td>\n",
       "      <td>6.090891</td>\n",
       "      <td>102.775767</td>\n",
       "    </tr>\n",
       "  </tbody>\n",
       "</table>\n",
       "</div>"
      ],
      "text/plain": [
       "             f0        f1        f2     product\n",
       "99991 -1.777037  1.125220  6.263374  172.327046\n",
       "99992 -1.261523 -0.894828  2.524545  138.748846\n",
       "99993 -1.199934 -2.957637  5.219411  157.080080\n",
       "99994 -2.419896  2.417221 -5.548444   51.795253\n",
       "99995 -2.551421 -2.025625  6.090891  102.775767"
      ]
     },
     "metadata": {},
     "output_type": "display_data"
    }
   ],
   "source": [
    "display(geo_data_0.tail())\n",
    "display(geo_data_1.tail())\n",
    "display(geo_data_2.tail())"
   ]
  },
  {
   "cell_type": "markdown",
   "id": "98d411f1-2254-4d3b-8770-05df783489dd",
   "metadata": {},
   "source": [
    "Now we need to separate the features from the target, which in this case is contained in the `product` column, and then split the data. It is convenient to do this by writing a separate function `split_data()`, which will carry out such a separation task, and then divide the data into training and validation sets. Additionally, we will check the sets for the correct proportions. In this case, the data will be split based on the predefined values of `VALID_SET_SIZE` and `RANDOM_STATE`."
   ]
  },
  {
   "cell_type": "code",
   "execution_count": 22,
   "id": "ce726e78-0b7d-4692-85c5-0f5b31dd05e5",
   "metadata": {},
   "outputs": [],
   "source": [
    "def split_data(\n",
    "    data: pd.DataFrame, target_name: str = \"product\"\n",
    ") -> Tuple[pd.DataFrame, pd.DataFrame, pd.Series, pd.Series]:\n",
    "    \"\"\"\n",
    "    Splits a DataFrame into training and validation sets.\n",
    "\n",
    "    Given the data, separates features from a target and proceeds\n",
    "    to splitting the data into training and validation data sets.\n",
    "    Additionally, verifies the sizes of these sets for correctness\n",
    "    of proportions.\n",
    "\n",
    "    Args:\n",
    "        data: DataFrame with information on oil wells with\n",
    "            numeric features.\n",
    "        target_name: Name of a target variable.\n",
    "\n",
    "    Returns:\n",
    "        A tuple of two pandas.DataFrame objects (training and validation\n",
    "        features matrices) as well as two pandas.Series objects (training\n",
    "        and validation target vectors).\n",
    "    \"\"\"\n",
    "    # Separating features from target\n",
    "    features = data.drop([target_name], axis=1)\n",
    "    target = data[target_name]\n",
    "\n",
    "    # Splitting data\n",
    "    features_train, features_valid, target_train, target_valid = train_test_split(\n",
    "        features, target, test_size=VALID_SET_SIZE, random_state=RANDOM_STATE\n",
    "    )\n",
    "\n",
    "    # Checking correctness of proportions\n",
    "    train_set_share = features_train.shape[0] / features.shape[0]\n",
    "    valid_set_share = features_valid.shape[0] / features.shape[0]\n",
    "\n",
    "    assert (np.round(train_set_share, 2) == TRAIN_SET_SIZE) & (\n",
    "        np.round(valid_set_share, 2) == VALID_SET_SIZE\n",
    "    ), \"Incorrect proportions\"\n",
    "\n",
    "    return features_train, features_valid, target_train, target_valid"
   ]
  },
  {
   "cell_type": "markdown",
   "id": "474989ee-0400-4d57-95fb-ab9f5570c30f",
   "metadata": {},
   "source": [
    "Now let's test this function on each of the 3 DataFrames. If the logic of the function was coded correctly, then we should not receive any messages about the `AssertionError`."
   ]
  },
  {
   "cell_type": "code",
   "execution_count": 23,
   "id": "8d89d043-04c4-4497-b61f-ec9dfec03f40",
   "metadata": {},
   "outputs": [],
   "source": [
    "features_train_0, features_valid_0, target_train_0, target_valid_0 = split_data(\n",
    "    data=geo_data_0\n",
    ")"
   ]
  },
  {
   "cell_type": "code",
   "execution_count": 24,
   "id": "081b698f-f523-46de-a965-7d4a5e0bbd66",
   "metadata": {},
   "outputs": [],
   "source": [
    "features_train_1, features_valid_1, target_train_1, target_valid_1 = split_data(\n",
    "    data=geo_data_1\n",
    ")"
   ]
  },
  {
   "cell_type": "code",
   "execution_count": 25,
   "id": "2c7a13af-2e04-4673-9146-8aa96bce19fd",
   "metadata": {},
   "outputs": [],
   "source": [
    "features_train_2, features_valid_2, target_train_2, target_valid_2 = split_data(\n",
    "    data=geo_data_2\n",
    ")"
   ]
  },
  {
   "cell_type": "markdown",
   "id": "43b12479-37bb-439a-bff0-7baab27b6f8c",
   "metadata": {},
   "source": [
    "There were no errors, which means that we were able to correctly divide the data in 3 DataFrames into the corresponding data sets, while respecting the proportions."
   ]
  },
  {
   "cell_type": "markdown",
   "id": "7fae28f2-df78-4527-8952-09c1c73b355c",
   "metadata": {},
   "source": [
    "**Conclusion**\n",
    "\n",
    "This section allowed us to examine the data presented by 3 DataFrames, check the data for inconsistencies, and divide data into appropriate training and validation datasets. All actions were done as flexibly as possible, where basically we used manually written functions to avoid code duplication and for easier code viewing."
   ]
  },
  {
   "cell_type": "markdown",
   "id": "b01aa21d-c22f-4f27-b7b8-f743ed2e14de",
   "metadata": {},
   "source": [
    "## Training"
   ]
  },
  {
   "cell_type": "markdown",
   "id": "91fcfc79-4aa8-43a1-8473-92c8c79842f5",
   "metadata": {},
   "source": [
    "Now let's move on to training the model. In this case, we will use *LinearRegression*, where we will carry out the modeling process for each Region. In order not to duplicate the code, we will again write a function, which we will now call `make_predictions()` and which will train the model and make predictions for a specific Region. In order not to constantly pass to the function all 4 sets of data for each of the three Regions obtained at the previous stage, we can simply pass to the function a DataFrame for a specific Region (`data`) and the function according to which the data is divided. This is done by the `split_rule` parameter, which determines how data from the DataFrame should be split. Here, by default, the argument for this parameter will be `split_data()` function that has been written above. `make_predictions()` will output two vectors with real target data on the validation set and predictions made by the model on this set, as well as the value of the calculated *RMSE* for the trained model."
   ]
  },
  {
   "cell_type": "code",
   "execution_count": 26,
   "id": "20995cb1-66f4-4e9e-a31a-a384cd2d2740",
   "metadata": {},
   "outputs": [],
   "source": [
    "def make_predictions(\n",
    "    data: pd.DataFrame,\n",
    "    split_rule: Callable[\n",
    "        ..., Tuple[pd.DataFrame, pd.DataFrame, pd.Series, pd.Series]\n",
    "    ] = split_data,\n",
    ") -> Tuple[pd.Series, pd.Series, float]:\n",
    "    \"\"\"\n",
    "    Calculates predictions for the target variable\n",
    "    on the validation set for a DataFrame.\n",
    "\n",
    "    Args:\n",
    "        data: DataFrame with information on oil wells with\n",
    "            numeric features for a specific region.\n",
    "        split_rule: A function responsible for splitting the\n",
    "            data into training an validation data sets accordingly.\n",
    "\n",
    "    Returns:\n",
    "        Two pandas.Series objects with real validation data and computed\n",
    "        predictions as well as floating point value of RMSE metric.\n",
    "    \"\"\"\n",
    "    # Splitting DataFrame\n",
    "    features_train, features_valid, target_train, target_valid = split_rule(data=data)\n",
    "\n",
    "    # Training the model\n",
    "    model = LinearRegression()\n",
    "    model.fit(features_train, target_train)\n",
    "\n",
    "    # Computing predictions on validation set\n",
    "    predicted_values = model.predict(features_valid)\n",
    "\n",
    "    # Saving validation predictions and real validation data\n",
    "    predicted_values = pd.Series(predicted_values, index=target_valid.index)\n",
    "    true_values = target_valid.copy()\n",
    "\n",
    "    # Computed RMSE\n",
    "    rmse = mean_squared_error(true_values, predicted_values, squared=False)\n",
    "\n",
    "    return true_values, predicted_values, rmse"
   ]
  },
  {
   "cell_type": "markdown",
   "id": "ef6d0b76-1633-43f6-9e6b-9ba4b4ff00a7",
   "metadata": {},
   "source": [
    "Now we can test this function on all three Regions, where we will also calculate the average values for the predicted reserves of oil for a particular region."
   ]
  },
  {
   "cell_type": "code",
   "execution_count": 27,
   "id": "fca90b9f-1183-477d-ac52-4afb7f03aad7",
   "metadata": {},
   "outputs": [],
   "source": [
    "# Computing predictions and average value of predictions (Region #1)\n",
    "product_true_0, product_predicted_0, rmse_0 = make_predictions(data=geo_data_0)\n",
    "product_predicted_mean_0 = product_predicted_0.mean()"
   ]
  },
  {
   "cell_type": "code",
   "execution_count": 28,
   "id": "1316f368-69d7-456c-95c5-628800aa2b2a",
   "metadata": {},
   "outputs": [],
   "source": [
    "# Computing predictions and average value of predictions (Region #2)\n",
    "product_true_1, product_predicted_1, rmse_1 = make_predictions(data=geo_data_1)\n",
    "product_predicted_mean_1 = product_predicted_1.mean()"
   ]
  },
  {
   "cell_type": "code",
   "execution_count": 29,
   "id": "ee9f0381-df2d-4fb7-86d3-c59d89c0a9ca",
   "metadata": {},
   "outputs": [],
   "source": [
    "# Computing predictions and average value of predictions (Region #3)\n",
    "product_true_2, product_predicted_2, rmse_2 = make_predictions(data=geo_data_2)\n",
    "product_predicted_mean_2 = product_predicted_2.mean()"
   ]
  },
  {
   "cell_type": "markdown",
   "id": "e5b0beb5-59f0-4cf8-a81d-b621043ce9f4",
   "metadata": {},
   "source": [
    "To understand what the function eventually calculated, let's look at what the real data, predictions and values of the *RMSE* metric look like for, for example, region 2."
   ]
  },
  {
   "cell_type": "code",
   "execution_count": 30,
   "id": "5086482f-4085-4f03-948e-e4f0a244cea1",
   "metadata": {},
   "outputs": [
    {
     "data": {
      "text/html": [
       "<div>\n",
       "<style scoped>\n",
       "    .dataframe tbody tr th:only-of-type {\n",
       "        vertical-align: middle;\n",
       "    }\n",
       "\n",
       "    .dataframe tbody tr th {\n",
       "        vertical-align: top;\n",
       "    }\n",
       "\n",
       "    .dataframe thead th {\n",
       "        text-align: right;\n",
       "    }\n",
       "</style>\n",
       "<table border=\"1\" class=\"dataframe\">\n",
       "  <thead>\n",
       "    <tr style=\"text-align: right;\">\n",
       "      <th></th>\n",
       "      <th>product_true</th>\n",
       "      <th>product_pred</th>\n",
       "    </tr>\n",
       "  </thead>\n",
       "  <tbody>\n",
       "    <tr>\n",
       "      <th>71747</th>\n",
       "      <td>80.859783</td>\n",
       "      <td>82.662371</td>\n",
       "    </tr>\n",
       "    <tr>\n",
       "      <th>80489</th>\n",
       "      <td>53.906522</td>\n",
       "      <td>54.421351</td>\n",
       "    </tr>\n",
       "    <tr>\n",
       "      <th>2655</th>\n",
       "      <td>0.000000</td>\n",
       "      <td>0.550294</td>\n",
       "    </tr>\n",
       "    <tr>\n",
       "      <th>71170</th>\n",
       "      <td>110.992147</td>\n",
       "      <td>110.202674</td>\n",
       "    </tr>\n",
       "    <tr>\n",
       "      <th>91137</th>\n",
       "      <td>0.000000</td>\n",
       "      <td>1.239523</td>\n",
       "    </tr>\n",
       "  </tbody>\n",
       "</table>\n",
       "</div>"
      ],
      "text/plain": [
       "       product_true  product_pred\n",
       "71747     80.859783     82.662371\n",
       "80489     53.906522     54.421351\n",
       "2655       0.000000      0.550294\n",
       "71170    110.992147    110.202674\n",
       "91137      0.000000      1.239523"
      ]
     },
     "metadata": {},
     "output_type": "display_data"
    }
   ],
   "source": [
    "compare_reg2 = pd.concat([product_true_1, product_predicted_1], axis=1)\n",
    "compare_reg2.columns = [\"product_true\", \"product_pred\"]\n",
    "display(compare_reg2.head())"
   ]
  },
  {
   "cell_type": "code",
   "execution_count": 31,
   "id": "9f8f29aa-2214-4189-b567-64798b6fefb3",
   "metadata": {},
   "outputs": [
    {
     "data": {
      "text/plain": [
       "0.8877441757012706"
      ]
     },
     "execution_count": 31,
     "metadata": {},
     "output_type": "execute_result"
    }
   ],
   "source": [
    "rmse_1"
   ]
  },
  {
   "cell_type": "markdown",
   "id": "a1aaa0a3-3f42-43e7-8c79-ce9a5278e80c",
   "metadata": {},
   "source": [
    "As defined in the function itself, we get two objects of `pd.Series` type, as well as the `float` metric value of *RMSE*. We see predictions and real data for each row number in the validation set, which are essentially oil wells."
   ]
  },
  {
   "cell_type": "markdown",
   "id": "06476a0b-a52e-4ef1-8a95-ae5eaebf1fdc",
   "metadata": {},
   "source": [
    "Let's combine the results into a table to analyze what happened in the end."
   ]
  },
  {
   "cell_type": "code",
   "execution_count": 32,
   "id": "99b3c8c9-191d-4562-afaa-754f56a32b7a",
   "metadata": {},
   "outputs": [
    {
     "data": {
      "text/html": [
       "<div>\n",
       "<style scoped>\n",
       "    .dataframe tbody tr th:only-of-type {\n",
       "        vertical-align: middle;\n",
       "    }\n",
       "\n",
       "    .dataframe tbody tr th {\n",
       "        vertical-align: top;\n",
       "    }\n",
       "\n",
       "    .dataframe thead th {\n",
       "        text-align: right;\n",
       "    }\n",
       "</style>\n",
       "<table border=\"1\" class=\"dataframe\">\n",
       "  <thead>\n",
       "    <tr style=\"text-align: right;\">\n",
       "      <th></th>\n",
       "      <th>model</th>\n",
       "      <th>rmse</th>\n",
       "      <th>prod_pred_mean</th>\n",
       "    </tr>\n",
       "  </thead>\n",
       "  <tbody>\n",
       "    <tr>\n",
       "      <th>Region #1</th>\n",
       "      <td>LinearRegression</td>\n",
       "      <td>37.93</td>\n",
       "      <td>92.60</td>\n",
       "    </tr>\n",
       "    <tr>\n",
       "      <th>Region #2</th>\n",
       "      <td>LinearRegression</td>\n",
       "      <td>0.89</td>\n",
       "      <td>68.53</td>\n",
       "    </tr>\n",
       "    <tr>\n",
       "      <th>Region #3</th>\n",
       "      <td>LinearRegression</td>\n",
       "      <td>40.19</td>\n",
       "      <td>94.94</td>\n",
       "    </tr>\n",
       "  </tbody>\n",
       "</table>\n",
       "</div>"
      ],
      "text/plain": [
       "                      model   rmse  prod_pred_mean\n",
       "Region #1  LinearRegression  37.93           92.60\n",
       "Region #2  LinearRegression   0.89           68.53\n",
       "Region #3  LinearRegression  40.19           94.94"
      ]
     },
     "execution_count": 32,
     "metadata": {},
     "output_type": "execute_result"
    }
   ],
   "source": [
    "# Creating DataFrame columns\n",
    "cols_compare = {\n",
    "    \"model\": [\"LinearRegression\"],\n",
    "    \"rmse\": [rmse_0, rmse_1, rmse_2],\n",
    "    \"prod_pred_mean\": [\n",
    "        product_predicted_mean_0,\n",
    "        product_predicted_mean_1,\n",
    "        product_predicted_mean_2,\n",
    "    ],\n",
    "}\n",
    "# Creating a comparative table\n",
    "df_compare = pd.DataFrame(\n",
    "    cols_compare, index=[\"Region #1\", \"Region #2\", \"Region #3\"]\n",
    ").round(2)\n",
    "df_compare"
   ]
  },
  {
   "cell_type": "markdown",
   "id": "c437697d-6ddb-4d00-a176-a9d7d9f5adb5",
   "metadata": {},
   "source": [
    "We observe the following. The results for Region 2 turned out to be the most accurate: the real data does not differ so much on average from the prediction. By the way, this is noticeable from the results of the output of predictions and correct answers a little higher, where, indeed, the predictions are quite close to the real data. As for other Regions, it is obvious that the deviations of predictions from real data are much higher there and, consequently, the error values of objects are higher. This fact is taken into account by the *RMSE* metric, which punishes the model for higher error values. Furthermore, if we look at the average values of predictions, these for Region #1 and Region #3 are pretty high, which is the result of the model overestimating real data. However, such results do not mean that we should immediately choose Region 2: we still need to calculate profits and analyze risks."
   ]
  },
  {
   "cell_type": "markdown",
   "id": "2af4c8c7-720e-4368-8d3e-e23ed5816383",
   "metadata": {},
   "source": [
    "**Conclusion**\n",
    "\n",
    "At this stage, a Linear Regression model was trained for each region. It was found that the predictions for Region #2 are the most accurate and close to the values of the real data from the validation sample, which cannot be said about the other two regions."
   ]
  },
  {
   "cell_type": "markdown",
   "id": "f724f1b5-65a3-4107-afcf-f961fe89c485",
   "metadata": {},
   "source": [
    "## Profit computation preparation"
   ]
  },
  {
   "cell_type": "markdown",
   "id": "c03e0750-10c7-4a1f-a6fa-8eb8bf4c424e",
   "metadata": {},
   "source": [
    "Now, let's calculate how much production is needed for the break-even development of a new well, that is, in other words, the volume of production at which zero profit will be achieved. The profit can be found as follows. The price per 1000 barrels, which is given in the constant variable we predefined as `REVENUE_PER_1000_BARRELS`, must be multiplied by the required volume of production. We compute the budget for the development of one well (one out of the 200 wells for which funds were allocated) and subtract it from the previous multiplication result. We only know the total budget `TOTAL_COST`, but it is determined for 200 wells that are planned to be developed, which allows us to find the cost of break-even development of one well."
   ]
  },
  {
   "cell_type": "code",
   "execution_count": 33,
   "id": "2f60178e-3b45-46b3-9fe2-439c931b9519",
   "metadata": {},
   "outputs": [
    {
     "name": "stdout",
     "output_type": "stream",
     "text": [
      "Break-even production level: 111.11 (thousand barrels)\n"
     ]
    }
   ],
   "source": [
    "# Computing break-even production level\n",
    "break_even_prod = (TOTAL_COST / OIL_WELLS_SELECTED) / REVENUE_PER_1000_BARRELS\n",
    "print(\"Break-even production level: {:.2f} (thousand barrels)\".format(break_even_prod))\n",
    "\n",
    "# Checking correctness of calculations\n",
    "break_even_profit = REVENUE_PER_1000_BARRELS * break_even_prod - (\n",
    "    TOTAL_COST / OIL_WELLS_SELECTED\n",
    ")\n",
    "assert break_even_profit == 0"
   ]
  },
  {
   "cell_type": "markdown",
   "id": "466f3ae5-7ff1-4532-9051-c48b270146b1",
   "metadata": {},
   "source": [
    "We see that for the break-even development of one well, such a well should produce about 111 thousand barrels on average. Let's put this data in the table and compare it with the average values of the predictions."
   ]
  },
  {
   "cell_type": "code",
   "execution_count": 34,
   "id": "6e35adb3-da6c-40bc-a00b-4656117464de",
   "metadata": {},
   "outputs": [
    {
     "data": {
      "text/html": [
       "<div>\n",
       "<style scoped>\n",
       "    .dataframe tbody tr th:only-of-type {\n",
       "        vertical-align: middle;\n",
       "    }\n",
       "\n",
       "    .dataframe tbody tr th {\n",
       "        vertical-align: top;\n",
       "    }\n",
       "\n",
       "    .dataframe thead th {\n",
       "        text-align: right;\n",
       "    }\n",
       "</style>\n",
       "<table border=\"1\" class=\"dataframe\">\n",
       "  <thead>\n",
       "    <tr style=\"text-align: right;\">\n",
       "      <th></th>\n",
       "      <th>model</th>\n",
       "      <th>rmse</th>\n",
       "      <th>prod_pred_mean</th>\n",
       "      <th>prod_break_even</th>\n",
       "    </tr>\n",
       "  </thead>\n",
       "  <tbody>\n",
       "    <tr>\n",
       "      <th>Region #1</th>\n",
       "      <td>LinearRegression</td>\n",
       "      <td>37.93</td>\n",
       "      <td>92.60</td>\n",
       "      <td>111.11</td>\n",
       "    </tr>\n",
       "    <tr>\n",
       "      <th>Region #2</th>\n",
       "      <td>LinearRegression</td>\n",
       "      <td>0.89</td>\n",
       "      <td>68.53</td>\n",
       "      <td>111.11</td>\n",
       "    </tr>\n",
       "    <tr>\n",
       "      <th>Region #3</th>\n",
       "      <td>LinearRegression</td>\n",
       "      <td>40.19</td>\n",
       "      <td>94.94</td>\n",
       "      <td>111.11</td>\n",
       "    </tr>\n",
       "  </tbody>\n",
       "</table>\n",
       "</div>"
      ],
      "text/plain": [
       "                      model   rmse  prod_pred_mean  prod_break_even\n",
       "Region #1  LinearRegression  37.93           92.60           111.11\n",
       "Region #2  LinearRegression   0.89           68.53           111.11\n",
       "Region #3  LinearRegression  40.19           94.94           111.11"
      ]
     },
     "metadata": {},
     "output_type": "display_data"
    }
   ],
   "source": [
    "df_compare[\"prod_break_even\"] = np.round(break_even_prod, 2)\n",
    "display(df_compare)"
   ]
  },
  {
   "cell_type": "markdown",
   "id": "9f677c04-2cf7-40f4-a103-e3ebc63bea06",
   "metadata": {},
   "source": [
    "The break-even values turned out to be much higher than the average predictions, but this does not mean that there is no point in developing wells in these regions. We have to look at the profit that can be made in each of these Regions. To do this, we will write the function `compute_profit()`, which, based on the data for the Region (the `data` parameter) and the correct answers /predictions obtained at the previous stage (the `prediction_rule` parameter), will calculate the profit based on the 200 most promising wells from the point of view of the model. It should be noted that the predictions will be calculated by default by the previously defined function `make_predictions()`, where we will also need correct answers on the validation sample, since we will calculate the profit based on real data, but on the wells selected by the model. \n",
    "\n",
    "Additionally, we will include in this function the ability to calculate profits using the *Bootstrap* technique, which will be determined by the `bootstrap` parameter. In this case, when calculating profit by this method, the function will return not the profit value, but a collection of profit values calculated for each of the `NUM_BOOTSTRAP_SAMPLE` samples. We will proceed as follows: for each iteration, we will randomly select 500 values from the predicted validation sample, and then, based on the predictions, we will select the 200 most profitable wells from the point of view of the model, which we will take from the real validation sample to calculate the profit."
   ]
  },
  {
   "cell_type": "code",
   "execution_count": 35,
   "id": "676fc9f7-e43c-468d-95e7-bbf6ca098a79",
   "metadata": {},
   "outputs": [],
   "source": [
    "def compute_profit(\n",
    "    data: pd.DataFrame,\n",
    "    prediction_rule: Callable[\n",
    "        ..., Tuple[pd.Series, pd.Series, float]\n",
    "    ] = make_predictions,\n",
    "    bootstrap: bool = False,\n",
    ") -> Union[pd.Series, float]:\n",
    "    \"\"\"\n",
    "    Computes profits for oil wells selected by\n",
    "    the model for a specific region with Bootstrap\n",
    "    functionality added.\n",
    "\n",
    "    Args:\n",
    "        data: DataFrame with data on oil wells\n",
    "            development for a specific region.\n",
    "        prediction_rule: Function for computing\n",
    "            predictions.\n",
    "        bootstrap: Indicator of applying Bootstrap\n",
    "            procedure for computing profits.\n",
    "\n",
    "    Returns:\n",
    "        Returns float number in case of not using Boostrap\n",
    "        for computing profits. When using Bootstrap, returns\n",
    "        pd.Series object.\n",
    "    \"\"\"\n",
    "    # Computing predictions and selecting real data\n",
    "    true_values, predicted_values, _ = prediction_rule(data=data)\n",
    "\n",
    "    # Applying Bootstrap procedure\n",
    "    if bootstrap:\n",
    "        profits = []\n",
    "        state = np.random.RandomState(RANDOM_STATE)\n",
    "        for _ in range(NUM_BOOTSTRAP_SAMPLES):\n",
    "            # Sampling random 500 objects from predictions\n",
    "            select_500_predictions = predicted_values.sample(\n",
    "                500, replace=True, random_state=state\n",
    "            )\n",
    "            # Determining top-200 oil wells\n",
    "            top_predictions = select_500_predictions.sort_values(ascending=False).head(\n",
    "                200\n",
    "            )\n",
    "            # Computing total production level on top-200 oil wells\n",
    "            top_true_values = true_values.loc[top_predictions.index]\n",
    "            barrels = top_true_values.sum()\n",
    "            # Computing profits on top-200 oil wells\n",
    "            profit = REVENUE_PER_1000_BARRELS * barrels - TOTAL_COST\n",
    "            # Adding computed profit to a collection of profits\n",
    "            profits.append(profit)\n",
    "\n",
    "        profits = pd.Series(profits)\n",
    "\n",
    "        return profits\n",
    "\n",
    "    # Computing profit (no Bootstrap)\n",
    "    top_200_predictions = predicted_values.sort_values(ascending=False).head(200)\n",
    "    top_true_values = true_values.loc[top_200_predictions.index]\n",
    "    barrels = top_true_values.sum()\n",
    "    profit = REVENUE_PER_1000_BARRELS * barrels - TOTAL_COST\n",
    "\n",
    "    return profit"
   ]
  },
  {
   "cell_type": "markdown",
   "id": "4464e8a7-bf9b-403e-b41e-10f7aae535db",
   "metadata": {},
   "source": [
    "Let's use this function to calculate profits by region (so far without *Bootstrap*)."
   ]
  },
  {
   "cell_type": "code",
   "execution_count": 36,
   "id": "9b6a0daa-a666-4bc1-9262-2b10fac9f413",
   "metadata": {},
   "outputs": [],
   "source": [
    "# Computing profit for each region\n",
    "profit_0 = compute_profit(data=geo_data_0)\n",
    "profit_1 = compute_profit(data=geo_data_1)\n",
    "profit_2 = compute_profit(data=geo_data_2)"
   ]
  },
  {
   "cell_type": "markdown",
   "id": "e1ba3181-72e5-401e-a05f-a63380cce58b",
   "metadata": {},
   "source": [
    "Let's add the results to a new table."
   ]
  },
  {
   "cell_type": "code",
   "execution_count": 37,
   "id": "69113e36-9a56-4a5d-9789-616cfa611b76",
   "metadata": {},
   "outputs": [
    {
     "data": {
      "text/html": [
       "<style  type=\"text/css\" >\n",
       "</style><table id=\"T_914da_\" ><thead>    <tr>        <th class=\"blank level0\" ></th>        <th class=\"col_heading level0 col0\" >profit</th>    </tr></thead><tbody>\n",
       "                <tr>\n",
       "                        <th id=\"T_914da_level0_row0\" class=\"row_heading level0 row0\" >Region #1</th>\n",
       "                        <td id=\"T_914da_row0_col0\" class=\"data row0 col0\" >2,990,084,536</td>\n",
       "            </tr>\n",
       "            <tr>\n",
       "                        <th id=\"T_914da_level0_row1\" class=\"row_heading level0 row1\" >Region #2</th>\n",
       "                        <td id=\"T_914da_row1_col0\" class=\"data row1 col0\" >2,415,086,697</td>\n",
       "            </tr>\n",
       "            <tr>\n",
       "                        <th id=\"T_914da_level0_row2\" class=\"row_heading level0 row2\" >Region #3</th>\n",
       "                        <td id=\"T_914da_row2_col0\" class=\"data row2 col0\" >2,426,209,622</td>\n",
       "            </tr>\n",
       "    </tbody></table>"
      ],
      "text/plain": [
       "<pandas.io.formats.style.Styler at 0x2195a848460>"
      ]
     },
     "execution_count": 37,
     "metadata": {},
     "output_type": "execute_result"
    }
   ],
   "source": [
    "# Creating a table for profits\n",
    "cols = {\"profit\": [profit_0, profit_1, profit_2]}\n",
    "\n",
    "profit_df = pd.DataFrame(data=cols, index=[\"Region #1\", \"Region #2\", \"Region #3\"])\n",
    "profit_df[\"profit\"] = np.ceil(profit_df[\"profit\"]).astype(\"int64\")\n",
    "profit_df.style.format({\"profit\": \"{:,}\".format})"
   ]
  },
  {
   "cell_type": "markdown",
   "id": "401c2b02-a1ad-417d-a02a-0e4eb7786713",
   "metadata": {},
   "source": [
    "Now we see that from the point of view of models, Region #1 is the most promising investment, which is evident from the profit of about 3 billion rubles. In this case, we just took the top 200 wells according to the model and of course got quite large numbers. However, if we iteratively randomly selected samples of well production values, we could get different results, which will be done in the next step."
   ]
  },
  {
   "cell_type": "markdown",
   "id": "ad30133f-7b5b-4ae1-8a2d-5e054d8da052",
   "metadata": {},
   "source": [
    "**Conclusion**\n",
    "\n",
    "At this stage, we have calculated the profit for each Region for the top 200 wells that were selected by Linear Regression model. The results showed that Region #1 is a potentially profitable place to develop wells on the condition that we consider the top 200 wells."
   ]
  },
  {
   "cell_type": "markdown",
   "id": "35c69f38-39f0-4707-b61c-9eada5639164",
   "metadata": {},
   "source": [
    "## Computing profits and risks"
   ]
  },
  {
   "cell_type": "markdown",
   "id": "9c7be046-a372-4136-8c0e-976435a3c6f9",
   "metadata": {},
   "source": [
    "At this stage, we need to conduct a profit and risk analysis. To do this, we use the *Bootstrap* technique, where we consider 1000 samples, the number of which is defined in the constant `NUM_BOOTSTRAP_SAMPLES`. First, we will get collections of profit values for 1000 samples, and then we will calculate the average profit values."
   ]
  },
  {
   "cell_type": "code",
   "execution_count": 38,
   "id": "ac01a185-5966-4940-bfa3-77ef9e01d931",
   "metadata": {},
   "outputs": [],
   "source": [
    "# Computing profits for regions using Bootstrap\n",
    "profits_boot_0 = compute_profit(data=geo_data_0, bootstrap=True)\n",
    "profits_boot_1 = compute_profit(data=geo_data_1, bootstrap=True)\n",
    "profits_boot_2 = compute_profit(data=geo_data_2, bootstrap=True)\n",
    "\n",
    "# Computing average profits for regions\n",
    "profit_mean_0 = profits_boot_0.mean()\n",
    "profit_mean_1 = profits_boot_1.mean()\n",
    "profit_mean_2 = profits_boot_2.mean()"
   ]
  },
  {
   "cell_type": "markdown",
   "id": "9b4366cc-07b8-4988-b1ec-98b7cdad11bf",
   "metadata": {},
   "source": [
    "Now let's look at unprofitable wells with negative profits and calculate the percentage of wells for each region that are unprofitable."
   ]
  },
  {
   "cell_type": "code",
   "execution_count": 39,
   "id": "cc0ef2a7-f671-4ef0-a133-e04d9f65a5e9",
   "metadata": {},
   "outputs": [],
   "source": [
    "# Computing loss risk for each region\n",
    "loss_risk_0 = profits_boot_0[profits_boot_0 < 0].shape[0] / profits_boot_0.shape[0]\n",
    "loss_risk_1 = profits_boot_1[profits_boot_1 < 0].shape[0] / profits_boot_1.shape[0]\n",
    "loss_risk_2 = profits_boot_2[profits_boot_2 < 0].shape[0] / profits_boot_2.shape[0]"
   ]
  },
  {
   "cell_type": "markdown",
   "id": "fb6b2484-5f26-4183-ad42-268776d23bee",
   "metadata": {},
   "source": [
    "Let's move on to calculating the confidence interval. Note that we will use 95% as the confidence level, which is specified in the constant `CONFIDENCE_LEVEL`."
   ]
  },
  {
   "cell_type": "code",
   "execution_count": 40,
   "id": "5391c687-0992-4843-bdb3-94d459e27c43",
   "metadata": {},
   "outputs": [],
   "source": [
    "# Defining quantiles for computing interval bounds\n",
    "lower_point = (1 - CONFIDENCE_LEVEL) / 2\n",
    "upper_point = 1 - lower_point\n",
    "\n",
    "# Computing interval bounds\n",
    "lower_0, upper_0 = profits_boot_0.quantile(lower_point), profits_boot_0.quantile(\n",
    "    upper_point\n",
    ")\n",
    "lower_1, upper_1 = profits_boot_1.quantile(lower_point), profits_boot_1.quantile(\n",
    "    upper_point\n",
    ")\n",
    "lower_2, upper_2 = profits_boot_2.quantile(lower_point), profits_boot_2.quantile(\n",
    "    upper_point\n",
    ")"
   ]
  },
  {
   "cell_type": "markdown",
   "id": "49d8648a-95c8-484f-9481-a0a3b1721b49",
   "metadata": {},
   "source": [
    "Let's put all the results in the table."
   ]
  },
  {
   "cell_type": "code",
   "execution_count": 41,
   "id": "df1d854c-1c36-4f6e-855e-615af5fed29d",
   "metadata": {},
   "outputs": [
    {
     "data": {
      "text/html": [
       "<style  type=\"text/css\" >\n",
       "</style><table id=\"T_f04e2_\" ><thead>    <tr>        <th class=\"blank level0\" ></th>        <th class=\"col_heading level0 col0\" >profit_boot_mean</th>        <th class=\"col_heading level0 col1\" >lower</th>        <th class=\"col_heading level0 col2\" >upper</th>        <th class=\"col_heading level0 col3\" >loss_risk</th>    </tr></thead><tbody>\n",
       "                <tr>\n",
       "                        <th id=\"T_f04e2_level0_row0\" class=\"row_heading level0 row0\" >Region #1</th>\n",
       "                        <td id=\"T_f04e2_row0_col0\" class=\"data row0 col0\" >399,953,489</td>\n",
       "                        <td id=\"T_f04e2_row0_col1\" class=\"data row0 col1\" >-130,263,689</td>\n",
       "                        <td id=\"T_f04e2_row0_col2\" class=\"data row0 col2\" >916,732,139</td>\n",
       "                        <td id=\"T_f04e2_row0_col3\" class=\"data row0 col3\" >6.6%</td>\n",
       "            </tr>\n",
       "            <tr>\n",
       "                        <th id=\"T_f04e2_level0_row1\" class=\"row_heading level0 row1\" >Region #2</th>\n",
       "                        <td id=\"T_f04e2_row1_col0\" class=\"data row1 col0\" >441,524,244</td>\n",
       "                        <td id=\"T_f04e2_row1_col1\" class=\"data row1 col1\" >58,209,064</td>\n",
       "                        <td id=\"T_f04e2_row1_col2\" class=\"data row1 col2\" >838,801,421</td>\n",
       "                        <td id=\"T_f04e2_row1_col3\" class=\"data row1 col3\" >1.4%</td>\n",
       "            </tr>\n",
       "            <tr>\n",
       "                        <th id=\"T_f04e2_level0_row2\" class=\"row_heading level0 row2\" >Region #3</th>\n",
       "                        <td id=\"T_f04e2_row2_col0\" class=\"data row2 col0\" >303,793,869</td>\n",
       "                        <td id=\"T_f04e2_row2_col1\" class=\"data row2 col1\" >-226,395,997</td>\n",
       "                        <td id=\"T_f04e2_row2_col2\" class=\"data row2 col2\" >861,077,923</td>\n",
       "                        <td id=\"T_f04e2_row2_col3\" class=\"data row2 col3\" >12.3%</td>\n",
       "            </tr>\n",
       "    </tbody></table>"
      ],
      "text/plain": [
       "<pandas.io.formats.style.Styler at 0x2195b1fcb50>"
      ]
     },
     "execution_count": 41,
     "metadata": {},
     "output_type": "execute_result"
    }
   ],
   "source": [
    "# Creating a table with Bootstrap results\n",
    "cols = {\n",
    "    \"profit_boot_mean\": [profit_mean_0, profit_mean_1, profit_mean_2],\n",
    "    \"lower\": [lower_0, lower_1, lower_2],\n",
    "    \"upper\": [upper_0, upper_1, upper_2],\n",
    "    \"loss_risk\": [loss_risk_0, loss_risk_1, loss_risk_2],\n",
    "}\n",
    "df = pd.DataFrame(data=cols, index=[\"Region #1\", \"Region #2\", \"Region #3\"])\n",
    "\n",
    "# Types conversions\n",
    "df[\"profit_boot_mean\"] = np.ceil(df[\"profit_boot_mean\"]).astype(\"int64\")\n",
    "df[\"lower\"] = np.ceil(df[\"lower\"]).astype(\"int64\")\n",
    "df[\"upper\"] = np.ceil(df[\"upper\"]).astype(\"int64\")\n",
    "\n",
    "# Formating a table\n",
    "df.style.format(\n",
    "    {\n",
    "        \"profit_boot_mean\": \"{:,}\".format,\n",
    "        \"lower\": \"{:,}\".format,\n",
    "        \"upper\": \"{:,}\".format,\n",
    "        \"loss_risk\": \"{:.1%}\".format,\n",
    "    }\n",
    ")"
   ]
  },
  {
   "cell_type": "markdown",
   "id": "77655d7c-2b13-497e-a136-076717f98e86",
   "metadata": {},
   "source": [
    "Now, based on the established threshold value of the risk of losses, we will choose the most favorable regions for investment, and then among them we will choose the region with the highest average profit."
   ]
  },
  {
   "cell_type": "code",
   "execution_count": 42,
   "id": "be9ae4ce-f8dc-42c6-802f-0b16f8e150fc",
   "metadata": {},
   "outputs": [
    {
     "data": {
      "text/html": [
       "<style  type=\"text/css\" >\n",
       "</style><table id=\"T_94f73_\" ><thead>    <tr>        <th class=\"blank level0\" ></th>        <th class=\"col_heading level0 col0\" >profit_boot_mean</th>        <th class=\"col_heading level0 col1\" >lower</th>        <th class=\"col_heading level0 col2\" >upper</th>        <th class=\"col_heading level0 col3\" >loss_risk</th>    </tr></thead><tbody>\n",
       "                <tr>\n",
       "                        <th id=\"T_94f73_level0_row0\" class=\"row_heading level0 row0\" >Region #2</th>\n",
       "                        <td id=\"T_94f73_row0_col0\" class=\"data row0 col0\" >441,524,244</td>\n",
       "                        <td id=\"T_94f73_row0_col1\" class=\"data row0 col1\" >58,209,064</td>\n",
       "                        <td id=\"T_94f73_row0_col2\" class=\"data row0 col2\" >838,801,421</td>\n",
       "                        <td id=\"T_94f73_row0_col3\" class=\"data row0 col3\" >1.4%</td>\n",
       "            </tr>\n",
       "    </tbody></table>"
      ],
      "text/plain": [
       "<pandas.io.formats.style.Styler at 0x2195b245a90>"
      ]
     },
     "metadata": {},
     "output_type": "display_data"
    },
    {
     "name": "stdout",
     "output_type": "stream",
     "text": [
      "Region chosen: Region #2.\n"
     ]
    }
   ],
   "source": [
    "# Selecting regions by loss risk\n",
    "df_final = df[df[\"loss_risk\"] < LOSS_RISK_THRESHOLD]\n",
    "\n",
    "# Selecting the most favorable region\n",
    "df_final = df_final[\n",
    "    df_final[\"profit_boot_mean\"] == np.max(df_final[\"profit_boot_mean\"])\n",
    "]\n",
    "\n",
    "# Printing final results\n",
    "df_final = df_final.style.format(\n",
    "    {\n",
    "        \"profit_boot_mean\": \"{:,}\".format,\n",
    "        \"lower\": \"{:,}\".format,\n",
    "        \"upper\": \"{:,}\".format,\n",
    "        \"loss_risk\": \"{:.1%}\".format,\n",
    "    }\n",
    ")\n",
    "display(df_final)\n",
    "print(\"Region chosen: {}.\".format(df_final.index[0]))"
   ]
  },
  {
   "cell_type": "markdown",
   "id": "7776e66d-397e-4ef4-9233-02bf378f6f66",
   "metadata": {},
   "source": [
    "So, we see that even after choosing the regions with the lowest level of risk, we have only Region #2 left. Moreover, the average profit of this region is the highest among other regions, which allows us to make a choice."
   ]
  },
  {
   "cell_type": "markdown",
   "id": "1e173fd3-ce96-4419-a68c-f36badabf7b1",
   "metadata": {},
   "source": [
    "**Conclusion**\n",
    "\n",
    "At this stage, we have performed a profit and risk analysis using statistical data analysis and *Bootstrap* techniques. Based on the results of the analysis, we chose Region #2, which, in addition to the favorable value of the *RMSE* metric, has a low risk of losses, as well as the maximum value of average profit among others."
   ]
  },
  {
   "cell_type": "markdown",
   "id": "3bc8bf2e-887a-4f92-9455-c879a5618c49",
   "metadata": {},
   "source": [
    "## General conclusion"
   ]
  },
  {
   "cell_type": "markdown",
   "id": "be54c7b6-f0ce-4cc3-9058-ce2ce5c0dd30",
   "metadata": {},
   "source": [
    "This study aimed to select the most favorable region for the development of 200 wells. Having data on 3 regions and the corresponding wells, we have studied, preprocessed and prepared data for use in machine learning algorithms, which helped to make the choice of a potentially profitable place. After training Linear Regression model for all regions, we were able to calculate the profit, both without and with the *Bootstrap* technique, where we selected Region #2 as a place to develop new wells. In addition to the attractive values of the *RMSE* metric, this region is characterized by a fairly high profit, as well as a low loss rate of 1.4%.\n",
    "\n",
    "In the future, it is advisable that the datasets should be checked more carefully for the uniqueness of each object and their values without any duplications so that we can immediately focus on achieving the results of the study."
   ]
  }
 ],
 "metadata": {
  "kernelspec": {
   "display_name": "Python 3 (ipykernel)",
   "language": "python",
   "name": "python3"
  },
  "language_info": {
   "codemirror_mode": {
    "name": "ipython",
    "version": 3
   },
   "file_extension": ".py",
   "mimetype": "text/x-python",
   "name": "python",
   "nbconvert_exporter": "python",
   "pygments_lexer": "ipython3",
   "version": "3.9.13"
  }
 },
 "nbformat": 4,
 "nbformat_minor": 5
}
