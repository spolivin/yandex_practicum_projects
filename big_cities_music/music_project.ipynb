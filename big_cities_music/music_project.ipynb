{
 "cells": [
  {
   "cell_type": "markdown",
   "id": "1ea6ff3b",
   "metadata": {},
   "source": [
    "# Getting data"
   ]
  },
  {
   "cell_type": "code",
   "execution_count": 1,
   "id": "82065252",
   "metadata": {},
   "outputs": [],
   "source": [
    "from typing import Literal\n",
    "\n",
    "import matplotlib.pyplot as plt\n",
    "import numpy as np\n",
    "import pandas as pd\n",
    "import seaborn as sns\n",
    "from IPython.display import display\n",
    "\n",
    "from rearden.preprocessings import identify_missing_values, preprocess_duplicates\n",
    "\n",
    "RANDOM_STATE = 12345"
   ]
  },
  {
   "cell_type": "markdown",
   "id": "86ac416f-1eb5-442a-b1a6-f4c2b08f69e3",
   "metadata": {},
   "source": [
    "After importing necessary libraries, we can download the data and look at it."
   ]
  },
  {
   "cell_type": "code",
   "execution_count": 2,
   "id": "1d632dd8",
   "metadata": {},
   "outputs": [
    {
     "data": {
      "text/html": [
       "<div>\n",
       "<style scoped>\n",
       "    .dataframe tbody tr th:only-of-type {\n",
       "        vertical-align: middle;\n",
       "    }\n",
       "\n",
       "    .dataframe tbody tr th {\n",
       "        vertical-align: top;\n",
       "    }\n",
       "\n",
       "    .dataframe thead th {\n",
       "        text-align: right;\n",
       "    }\n",
       "</style>\n",
       "<table border=\"1\" class=\"dataframe\">\n",
       "  <thead>\n",
       "    <tr style=\"text-align: right;\">\n",
       "      <th></th>\n",
       "      <th>userID</th>\n",
       "      <th>Track</th>\n",
       "      <th>artist</th>\n",
       "      <th>genre</th>\n",
       "      <th>City</th>\n",
       "      <th>time</th>\n",
       "      <th>Day</th>\n",
       "    </tr>\n",
       "  </thead>\n",
       "  <tbody>\n",
       "    <tr>\n",
       "      <th>33917</th>\n",
       "      <td>A37C9C06</td>\n",
       "      <td>Little Death</td>\n",
       "      <td>I M U R</td>\n",
       "      <td>electronic</td>\n",
       "      <td>Moscow</td>\n",
       "      <td>13:46:11</td>\n",
       "      <td>Monday</td>\n",
       "    </tr>\n",
       "    <tr>\n",
       "      <th>32592</th>\n",
       "      <td>1DF57B3A</td>\n",
       "      <td>Studio n. 4</td>\n",
       "      <td>Eolo Taffi</td>\n",
       "      <td>classical</td>\n",
       "      <td>Moscow</td>\n",
       "      <td>13:51:33</td>\n",
       "      <td>Friday</td>\n",
       "    </tr>\n",
       "    <tr>\n",
       "      <th>27919</th>\n",
       "      <td>FAF416</td>\n",
       "      <td>Inondés de non-dits</td>\n",
       "      <td>NaN</td>\n",
       "      <td>pop</td>\n",
       "      <td>Saint-Petersburg</td>\n",
       "      <td>13:44:50</td>\n",
       "      <td>Friday</td>\n",
       "    </tr>\n",
       "    <tr>\n",
       "      <th>35525</th>\n",
       "      <td>4A7CC362</td>\n",
       "      <td>Golden Days</td>\n",
       "      <td>Kem</td>\n",
       "      <td>urban</td>\n",
       "      <td>Saint-Petersburg</td>\n",
       "      <td>14:03:55</td>\n",
       "      <td>Wednesday</td>\n",
       "    </tr>\n",
       "    <tr>\n",
       "      <th>6524</th>\n",
       "      <td>3360D38B</td>\n",
       "      <td>NaN</td>\n",
       "      <td>NaN</td>\n",
       "      <td>NaN</td>\n",
       "      <td>Saint-Petersburg</td>\n",
       "      <td>21:22:44</td>\n",
       "      <td>Monday</td>\n",
       "    </tr>\n",
       "    <tr>\n",
       "      <th>24999</th>\n",
       "      <td>C44C3EF9</td>\n",
       "      <td>Already Gone</td>\n",
       "      <td>Glitterbitch</td>\n",
       "      <td>pop</td>\n",
       "      <td>Saint-Petersburg</td>\n",
       "      <td>21:40:08</td>\n",
       "      <td>Monday</td>\n",
       "    </tr>\n",
       "    <tr>\n",
       "      <th>29516</th>\n",
       "      <td>37B4795F</td>\n",
       "      <td>Healing Sound of Nature</td>\n",
       "      <td>Henry Floyd</td>\n",
       "      <td>ambient</td>\n",
       "      <td>Saint-Petersburg</td>\n",
       "      <td>08:04:56</td>\n",
       "      <td>Monday</td>\n",
       "    </tr>\n",
       "    <tr>\n",
       "      <th>16037</th>\n",
       "      <td>1E337310</td>\n",
       "      <td>Empty Room</td>\n",
       "      <td>Celesty</td>\n",
       "      <td>rock</td>\n",
       "      <td>Saint-Petersburg</td>\n",
       "      <td>14:30:11</td>\n",
       "      <td>Monday</td>\n",
       "    </tr>\n",
       "    <tr>\n",
       "      <th>45763</th>\n",
       "      <td>BECFFF40</td>\n",
       "      <td>Su Preferido</td>\n",
       "      <td>J Angel</td>\n",
       "      <td>latin</td>\n",
       "      <td>Saint-Petersburg</td>\n",
       "      <td>08:11:27</td>\n",
       "      <td>Monday</td>\n",
       "    </tr>\n",
       "    <tr>\n",
       "      <th>17820</th>\n",
       "      <td>FD83C35E</td>\n",
       "      <td>Трава у дома - Live</td>\n",
       "      <td>Сергей Васильев</td>\n",
       "      <td>world</td>\n",
       "      <td>Moscow</td>\n",
       "      <td>09:30:53</td>\n",
       "      <td>Monday</td>\n",
       "    </tr>\n",
       "  </tbody>\n",
       "</table>\n",
       "</div>"
      ],
      "text/plain": [
       "         userID                    Track           artist       genre  \\\n",
       "33917  A37C9C06             Little Death          I M U R  electronic   \n",
       "32592  1DF57B3A              Studio n. 4       Eolo Taffi   classical   \n",
       "27919    FAF416      Inondés de non-dits              NaN         pop   \n",
       "35525  4A7CC362              Golden Days              Kem       urban   \n",
       "6524   3360D38B                      NaN              NaN         NaN   \n",
       "24999  C44C3EF9             Already Gone     Glitterbitch         pop   \n",
       "29516  37B4795F  Healing Sound of Nature      Henry Floyd     ambient   \n",
       "16037  1E337310               Empty Room          Celesty        rock   \n",
       "45763  BECFFF40             Su Preferido          J Angel       latin   \n",
       "17820  FD83C35E      Трава у дома - Live  Сергей Васильев       world   \n",
       "\n",
       "                 City        time        Day  \n",
       "33917            Moscow  13:46:11     Monday  \n",
       "32592            Moscow  13:51:33     Friday  \n",
       "27919  Saint-Petersburg  13:44:50     Friday  \n",
       "35525  Saint-Petersburg  14:03:55  Wednesday  \n",
       "6524   Saint-Petersburg  21:22:44     Monday  \n",
       "24999  Saint-Petersburg  21:40:08     Monday  \n",
       "29516  Saint-Petersburg  08:04:56     Monday  \n",
       "16037  Saint-Petersburg  14:30:11     Monday  \n",
       "45763  Saint-Petersburg  08:11:27     Monday  \n",
       "17820            Moscow  09:30:53     Monday  "
      ]
     },
     "execution_count": 2,
     "metadata": {},
     "output_type": "execute_result"
    }
   ],
   "source": [
    "music_data = pd.read_csv(\"datasets/yandex_music_project.csv\")\n",
    "music_data.sample(10, random_state=RANDOM_STATE)"
   ]
  },
  {
   "cell_type": "markdown",
   "id": "d8df1b3b-366a-4e4e-a38e-365ef1884d82",
   "metadata": {},
   "source": [
    "The data has been uploaded successfully and we can see from 10 randomly selected rows that we have information on plays of different musical tracks which are also characterized by artist, genre as well as some other user data. Now, we can consider the data in a bit more detail."
   ]
  },
  {
   "cell_type": "code",
   "execution_count": 3,
   "id": "6d886eea",
   "metadata": {},
   "outputs": [
    {
     "name": "stdout",
     "output_type": "stream",
     "text": [
      "<class 'pandas.core.frame.DataFrame'>\n",
      "RangeIndex: 65079 entries, 0 to 65078\n",
      "Data columns (total 7 columns):\n",
      " #   Column    Non-Null Count  Dtype \n",
      "---  ------    --------------  ----- \n",
      " 0     userID  65079 non-null  object\n",
      " 1   Track     63848 non-null  object\n",
      " 2   artist    57876 non-null  object\n",
      " 3   genre     63881 non-null  object\n",
      " 4     City    65079 non-null  object\n",
      " 5   time      65079 non-null  object\n",
      " 6   Day       65079 non-null  object\n",
      "dtypes: object(7)\n",
      "memory usage: 3.5+ MB\n"
     ]
    }
   ],
   "source": [
    "music_data.info()"
   ]
  },
  {
   "cell_type": "markdown",
   "id": "80fafa5e-473b-4e92-b5bc-7619af48dbb4",
   "metadata": {},
   "source": [
    "It can be seen that the data contains 7 columns of `object` data type which contain the following information:"
   ]
  },
  {
   "cell_type": "markdown",
   "id": "6c794bc7-b442-4ea1-b1ed-6bb2147d812b",
   "metadata": {},
   "source": [
    "<table>\n",
    "<thead>\n",
    "<tr><th>Columns</th><th>Description</th></tr>\n",
    "</thead>\n",
    "<tbody>\n",
    "<tr><td><code>userID</code></td><td><i>User identification number</i></td></tr>\n",
    "<tr><td><code>Track</code></td><td><i>Name of a music track</i></td></tr>\n",
    "<tr><td><code>artist</code></td><td><i>Name of an artist</i></td></tr>\n",
    "<tr><td><code>genre</code></td><td><i>Name of a music genre</i></td></tr>\n",
    "<tr><td><code>City</code></td><td><i>City where a song was played</i></td></tr>\n",
    "<tr><td><code>time</code></td><td><i>Time at which a user started listening to a song</i></td></tr>\n",
    "<tr><td><code>Day</code></td><td><i>Day of the week</i></td></tr>\n",
    "</tbody>\n",
    "</table>"
   ]
  },
  {
   "cell_type": "markdown",
   "id": "be557fc5",
   "metadata": {},
   "source": [
    "**Conclusion**\n",
    "\n",
    "Each row of the DataFrame contains information about different songs of a particular genre and of a particular artist, which users were listening to at a particular time and on a particular day of the week. In addition, we see that users are from different cities.\n",
    "\n",
    "There are three problems that are to be solved: \n",
    "    \n",
    "    1. Inadequate column names.\n",
    "    2. Missing values.\n",
    "    3. Potential presence of duplicates. \n",
    "    \n",
    "In order to test working hypotheses, information contained in columns `time`, `Day` and `City` will be especially useful. Furthermore, the data from `genre` column will allow determining the most popular genres. Now, we can get to preprocessing our data."
   ]
  },
  {
   "cell_type": "markdown",
   "id": "7378bbfa",
   "metadata": {},
   "source": [
    "# Data preprocessing"
   ]
  },
  {
   "cell_type": "markdown",
   "id": "8b4ee60b",
   "metadata": {},
   "source": [
    "## Headers style"
   ]
  },
  {
   "cell_type": "code",
   "execution_count": 4,
   "id": "4bd31101-c1fc-4d6d-93bb-ca8cb22222c3",
   "metadata": {},
   "outputs": [
    {
     "name": "stdout",
     "output_type": "stream",
     "text": [
      "Old column names: ['  userID', 'Track', 'artist', 'genre', '  City  ', 'time', 'Day']\n",
      "New column names: ['user_id', 'track', 'artist', 'genre', 'city', 'time', 'day']\n"
     ]
    }
   ],
   "source": [
    "print(f\"Old column names: {music_data.columns.to_list()}\")\n",
    "\n",
    "music_data.columns = music_data.columns.str.lower().str.replace(\" \", \"\")\n",
    "music_data = music_data.rename(columns={\"userid\": \"user_id\"})\n",
    "\n",
    "print(f\"New column names: {music_data.columns.to_list()}\")"
   ]
  },
  {
   "cell_type": "markdown",
   "id": "217c71a4",
   "metadata": {},
   "source": [
    "## Missing values"
   ]
  },
  {
   "cell_type": "markdown",
   "id": "fa1bb7d9",
   "metadata": {},
   "source": [
    "In order to check the data for missing values, let's use `identify_missing_values()` function from the `rearden` library we have developed."
   ]
  },
  {
   "cell_type": "code",
   "execution_count": 5,
   "id": "aaff4e98-66a9-4281-96c6-97615bc82969",
   "metadata": {},
   "outputs": [
    {
     "name": "stdout",
     "output_type": "stream",
     "text": [
      "Help on function identify_missing_values in module rearden.preprocessings:\n",
      "\n",
      "identify_missing_values(data: pandas.core.frame.DataFrame) -> Optional[pandas.core.frame.DataFrame]\n",
      "    Performs missing values computation.\n",
      "    \n",
      "    Computes a number and share of missing values\n",
      "    in DataFrame columns which have NaN-values present\n",
      "    and displays data types of such columns.\n",
      "    \n",
      "    Args:\n",
      "        data (pd.DataFrame): DataFrame which needs to\n",
      "            be checked for missing values.\n",
      "    \n",
      "    Returns:\n",
      "        Optional[pd.DataFrame]: DataFrame with column names, number of\n",
      "        missing values and shares of NaN-values in such columns.\n",
      "        In case there are not missing values present, an according\n",
      "        message is shown and nothing is returned. Additionally, columns\n",
      "        data type is shown.\n",
      "\n"
     ]
    }
   ],
   "source": [
    "help(identify_missing_values)"
   ]
  },
  {
   "cell_type": "code",
   "execution_count": 6,
   "id": "77fc436b",
   "metadata": {},
   "outputs": [
    {
     "data": {
      "text/html": [
       "<div>\n",
       "<style scoped>\n",
       "    .dataframe tbody tr th:only-of-type {\n",
       "        vertical-align: middle;\n",
       "    }\n",
       "\n",
       "    .dataframe tbody tr th {\n",
       "        vertical-align: top;\n",
       "    }\n",
       "\n",
       "    .dataframe thead th {\n",
       "        text-align: right;\n",
       "    }\n",
       "</style>\n",
       "<table border=\"1\" class=\"dataframe\">\n",
       "  <thead>\n",
       "    <tr style=\"text-align: right;\">\n",
       "      <th></th>\n",
       "      <th>dtype</th>\n",
       "      <th>missing_count</th>\n",
       "      <th>missing_fraction</th>\n",
       "    </tr>\n",
       "  </thead>\n",
       "  <tbody>\n",
       "    <tr>\n",
       "      <th>artist</th>\n",
       "      <td>object</td>\n",
       "      <td>7203</td>\n",
       "      <td>0.1107</td>\n",
       "    </tr>\n",
       "    <tr>\n",
       "      <th>track</th>\n",
       "      <td>object</td>\n",
       "      <td>1231</td>\n",
       "      <td>0.0189</td>\n",
       "    </tr>\n",
       "    <tr>\n",
       "      <th>genre</th>\n",
       "      <td>object</td>\n",
       "      <td>1198</td>\n",
       "      <td>0.0184</td>\n",
       "    </tr>\n",
       "  </tbody>\n",
       "</table>\n",
       "</div>"
      ],
      "text/plain": [
       "         dtype  missing_count  missing_fraction\n",
       "artist  object           7203            0.1107\n",
       "track   object           1231            0.0189\n",
       "genre   object           1198            0.0184"
      ]
     },
     "metadata": {},
     "output_type": "display_data"
    }
   ],
   "source": [
    "# Computing the number and percentage of missing values in the DataFrame\n",
    "miss_vals_df = identify_missing_values(data=music_data)\n",
    "display(miss_vals_df)"
   ]
  },
  {
   "cell_type": "markdown",
   "id": "c571b9d4",
   "metadata": {},
   "source": [
    "Missing values refer to the fact that we do not have all available information for some tracks. There can be a lot of different reasons for this: on the one hand, the artist of some song might not have been specified or, on the other hand, in a worse case scenario, there can be problems with data recording itself.\n",
    "\n",
    "Missing values in `track` and `artist` are not so important for the subsequent data analysis so we can just replace these values with some explicit notation. The information contained in `genre` column, however, is crucial and can complicate the comparison of musical tastes in Moscow and Saint-Petersburg. Thus, in this case we will have to also replace such values with some explicit notation and afterwards evaluate how much they will affect the analysis results."
   ]
  },
  {
   "cell_type": "markdown",
   "id": "dd21205c",
   "metadata": {},
   "source": [
    "To deal with such a problem, we can replace the missing values in columns `track`, `artist` and `genre` with some string placeholder value - `unknown`, for instance."
   ]
  },
  {
   "cell_type": "code",
   "execution_count": 7,
   "id": "67781be7",
   "metadata": {},
   "outputs": [
    {
     "name": "stdout",
     "output_type": "stream",
     "text": [
      "Missing values are not found.\n"
     ]
    }
   ],
   "source": [
    "columns_to_replace = miss_vals_df.index\n",
    "for column in columns_to_replace:\n",
    "    music_data[column] = music_data[column].fillna(\"unknown\")\n",
    "\n",
    "identify_missing_values(data=music_data)"
   ]
  },
  {
   "cell_type": "markdown",
   "id": "d20dfee9",
   "metadata": {},
   "source": [
    "## Duplicates"
   ]
  },
  {
   "cell_type": "markdown",
   "id": "1be9db51",
   "metadata": {},
   "source": [
    "Compute the number of explicit duplicates (in other words, fully identical DataFrame rows) using a `preprocess_duplicates()` function from `rearden.preprocessings` module. "
   ]
  },
  {
   "cell_type": "code",
   "execution_count": 8,
   "id": "e82c9e37-b18b-43a4-aa0a-3d3b45e4213c",
   "metadata": {},
   "outputs": [
    {
     "name": "stdout",
     "output_type": "stream",
     "text": [
      "Help on function preprocess_duplicates in module rearden.preprocessings:\n",
      "\n",
      "preprocess_duplicates(data: pandas.core.frame.DataFrame) -> Optional[pandas.core.frame.DataFrame]\n",
      "    Computes and deletes all duplicates in the DataFrame.\n",
      "    \n",
      "    Args:\n",
      "        data (pd.DataFrame): DataFrame which needs to\n",
      "            be checked for identical rows.\n",
      "\n"
     ]
    }
   ],
   "source": [
    "help(preprocess_duplicates)"
   ]
  },
  {
   "cell_type": "code",
   "execution_count": 9,
   "id": "eb7cdd3c",
   "metadata": {},
   "outputs": [
    {
     "name": "stdout",
     "output_type": "stream",
     "text": [
      "3,826 duplicates found and deleted.\n"
     ]
    }
   ],
   "source": [
    "preprocess_duplicates(data=music_data)"
   ]
  },
  {
   "cell_type": "markdown",
   "id": "e591110e",
   "metadata": {},
   "source": [
    "Now, we need to get rid of implicit duplicates. This can be the case, for instance, when the name of the same genre could have been written down in different ways. As a result, such mistakes can have an adverse impact upon results of the analysis.\n",
    "\n",
    "Let's start by displaying the unique genre names in the alphabetical order."
   ]
  },
  {
   "cell_type": "code",
   "execution_count": 10,
   "id": "87ce03d1",
   "metadata": {},
   "outputs": [
    {
     "name": "stdout",
     "output_type": "stream",
     "text": [
      "['acid' 'acoustic' 'action' 'adult' 'africa' 'afrikaans' 'alternative'\n",
      " 'alternativepunk' 'ambient' 'americana' 'animated' 'anime' 'arabesk'\n",
      " 'arabic' 'arena' 'argentinetango' 'art' 'audiobook' 'author' 'avantgarde'\n",
      " 'axé' 'baile' 'balkan' 'beats' 'bigroom' 'black' 'bluegrass' 'blues'\n",
      " 'bollywood' 'bossa' 'brazilian' 'breakbeat' 'breaks' 'broadway'\n",
      " 'cantautori' 'cantopop' 'canzone' 'caribbean' 'caucasian' 'celtic'\n",
      " 'chamber' 'chanson' 'children' 'chill' 'chinese' 'choral' 'christian'\n",
      " 'christmas' 'classical' 'classicmetal' 'club' 'colombian' 'comedy'\n",
      " 'conjazz' 'contemporary' 'country' 'cuban' 'dance' 'dancehall' 'dancepop'\n",
      " 'dark' 'death' 'deep' 'deutschrock' 'deutschspr' 'dirty' 'disco' 'dnb'\n",
      " 'documentary' 'downbeat' 'downtempo' 'drum' 'dub' 'dubstep' 'eastern'\n",
      " 'easy' 'electronic' 'electropop' 'emo' 'entehno' 'epicmetal' 'estrada'\n",
      " 'ethnic' 'eurofolk' 'european' 'experimental' 'extrememetal' 'fado'\n",
      " 'fairytail' 'film' 'fitness' 'flamenco' 'folk' 'folklore' 'folkmetal'\n",
      " 'folkrock' 'folktronica' 'forró' 'frankreich' 'französisch' 'french'\n",
      " 'funk' 'future' 'gangsta' 'garage' 'german' 'ghazal' 'gitarre' 'glitch'\n",
      " 'gospel' 'gothic' 'grime' 'grunge' 'gypsy' 'handsup' \"hard'n'heavy\"\n",
      " 'hardcore' 'hardstyle' 'hardtechno' 'hip' 'hip-hop' 'hiphop' 'historisch'\n",
      " 'holiday' 'hop' 'horror' 'house' 'hymn' 'idm' 'independent' 'indian'\n",
      " 'indie' 'indipop' 'industrial' 'inspirational' 'instrumental'\n",
      " 'international' 'irish' 'jam' 'japanese' 'jazz' 'jewish' 'jpop' 'jungle'\n",
      " 'k-pop' 'karadeniz' 'karaoke' 'kayokyoku' 'korean' 'laiko' 'latin'\n",
      " 'latino' 'leftfield' 'local' 'lounge' 'loungeelectronic' 'lovers'\n",
      " 'malaysian' 'mandopop' 'marschmusik' 'meditative' 'mediterranean'\n",
      " 'melodic' 'metal' 'metalcore' 'mexican' 'middle' 'minimal'\n",
      " 'miscellaneous' 'modern' 'mood' 'mpb' 'muslim' 'native' 'neoklassik'\n",
      " 'neue' 'new' 'newage' 'newwave' 'nu' 'nujazz' 'numetal' 'oceania' 'old'\n",
      " 'opera' 'orchestral' 'other' 'piano' 'podcasts' 'pop' 'popdance'\n",
      " 'popelectronic' 'popeurodance' 'poprussian' 'post' 'posthardcore'\n",
      " 'postrock' 'power' 'progmetal' 'progressive' 'psychedelic' 'punjabi'\n",
      " 'punk' 'quebecois' 'ragga' 'ram' 'rancheras' 'rap' 'rave' 'reggae'\n",
      " 'reggaeton' 'regional' 'relax' 'religious' 'retro' 'rhythm' 'rnb' 'rnr'\n",
      " 'rock' 'rockabilly' 'rockalternative' 'rockindie' 'rockother' 'romance'\n",
      " 'roots' 'ruspop' 'rusrap' 'rusrock' 'russian' 'salsa' 'samba' 'scenic'\n",
      " 'schlager' 'self' 'sertanejo' 'shanson' 'shoegazing' 'showtunes' 'singer'\n",
      " 'ska' 'skarock' 'slow' 'smooth' 'soft' 'soul' 'soulful' 'sound'\n",
      " 'soundtrack' 'southern' 'specialty' 'speech' 'spiritual' 'sport'\n",
      " 'stonerrock' 'surf' 'swing' 'synthpop' 'synthrock' 'sängerportrait'\n",
      " 'tango' 'tanzorchester' 'taraftar' 'tatar' 'tech' 'techno' 'teen'\n",
      " 'thrash' 'top' 'traditional' 'tradjazz' 'trance' 'tribal' 'trip'\n",
      " 'triphop' 'tropical' 'türk' 'türkçe' 'ukrrock' 'unknown' 'urban' 'uzbek'\n",
      " 'variété' 'vi' 'videogame' 'vocal' 'western' 'world' 'worldbeat' 'ïîï'\n",
      " 'электроника']\n"
     ]
    }
   ],
   "source": [
    "print(music_data[\"genre\"].sort_values().unique())"
   ]
  },
  {
   "cell_type": "markdown",
   "id": "2e031eb0",
   "metadata": {},
   "source": [
    "By skimming through the names of genres, it can be seen that we have the following implicit duplicates:\n",
    "\n",
    "* `hip`\n",
    "* `hop`\n",
    "* `hip-hop`\n",
    "\n",
    "We need to get rid of such duplicates by replacing the duplicated names with one common name `hiphop`:"
   ]
  },
  {
   "cell_type": "code",
   "execution_count": 11,
   "id": "06283c28",
   "metadata": {},
   "outputs": [],
   "source": [
    "music_data[\"genre\"] = music_data[\"genre\"].replace([\"hip\", \"hop\", \"hip-hop\"], \"hiphop\")"
   ]
  },
  {
   "cell_type": "markdown",
   "id": "a4a38126",
   "metadata": {},
   "source": [
    "Verify whether we correctly got rid of duplicates."
   ]
  },
  {
   "cell_type": "code",
   "execution_count": 12,
   "id": "fbf55ba5",
   "metadata": {},
   "outputs": [
    {
     "name": "stdout",
     "output_type": "stream",
     "text": [
      "['acid' 'acoustic' 'action' 'adult' 'africa' 'afrikaans' 'alternative'\n",
      " 'alternativepunk' 'ambient' 'americana' 'animated' 'anime' 'arabesk'\n",
      " 'arabic' 'arena' 'argentinetango' 'art' 'audiobook' 'author' 'avantgarde'\n",
      " 'axé' 'baile' 'balkan' 'beats' 'bigroom' 'black' 'bluegrass' 'blues'\n",
      " 'bollywood' 'bossa' 'brazilian' 'breakbeat' 'breaks' 'broadway'\n",
      " 'cantautori' 'cantopop' 'canzone' 'caribbean' 'caucasian' 'celtic'\n",
      " 'chamber' 'chanson' 'children' 'chill' 'chinese' 'choral' 'christian'\n",
      " 'christmas' 'classical' 'classicmetal' 'club' 'colombian' 'comedy'\n",
      " 'conjazz' 'contemporary' 'country' 'cuban' 'dance' 'dancehall' 'dancepop'\n",
      " 'dark' 'death' 'deep' 'deutschrock' 'deutschspr' 'dirty' 'disco' 'dnb'\n",
      " 'documentary' 'downbeat' 'downtempo' 'drum' 'dub' 'dubstep' 'eastern'\n",
      " 'easy' 'electronic' 'electropop' 'emo' 'entehno' 'epicmetal' 'estrada'\n",
      " 'ethnic' 'eurofolk' 'european' 'experimental' 'extrememetal' 'fado'\n",
      " 'fairytail' 'film' 'fitness' 'flamenco' 'folk' 'folklore' 'folkmetal'\n",
      " 'folkrock' 'folktronica' 'forró' 'frankreich' 'französisch' 'french'\n",
      " 'funk' 'future' 'gangsta' 'garage' 'german' 'ghazal' 'gitarre' 'glitch'\n",
      " 'gospel' 'gothic' 'grime' 'grunge' 'gypsy' 'handsup' \"hard'n'heavy\"\n",
      " 'hardcore' 'hardstyle' 'hardtechno' 'hiphop' 'historisch' 'holiday'\n",
      " 'horror' 'house' 'hymn' 'idm' 'independent' 'indian' 'indie' 'indipop'\n",
      " 'industrial' 'inspirational' 'instrumental' 'international' 'irish' 'jam'\n",
      " 'japanese' 'jazz' 'jewish' 'jpop' 'jungle' 'k-pop' 'karadeniz' 'karaoke'\n",
      " 'kayokyoku' 'korean' 'laiko' 'latin' 'latino' 'leftfield' 'local'\n",
      " 'lounge' 'loungeelectronic' 'lovers' 'malaysian' 'mandopop' 'marschmusik'\n",
      " 'meditative' 'mediterranean' 'melodic' 'metal' 'metalcore' 'mexican'\n",
      " 'middle' 'minimal' 'miscellaneous' 'modern' 'mood' 'mpb' 'muslim'\n",
      " 'native' 'neoklassik' 'neue' 'new' 'newage' 'newwave' 'nu' 'nujazz'\n",
      " 'numetal' 'oceania' 'old' 'opera' 'orchestral' 'other' 'piano' 'podcasts'\n",
      " 'pop' 'popdance' 'popelectronic' 'popeurodance' 'poprussian' 'post'\n",
      " 'posthardcore' 'postrock' 'power' 'progmetal' 'progressive' 'psychedelic'\n",
      " 'punjabi' 'punk' 'quebecois' 'ragga' 'ram' 'rancheras' 'rap' 'rave'\n",
      " 'reggae' 'reggaeton' 'regional' 'relax' 'religious' 'retro' 'rhythm'\n",
      " 'rnb' 'rnr' 'rock' 'rockabilly' 'rockalternative' 'rockindie' 'rockother'\n",
      " 'romance' 'roots' 'ruspop' 'rusrap' 'rusrock' 'russian' 'salsa' 'samba'\n",
      " 'scenic' 'schlager' 'self' 'sertanejo' 'shanson' 'shoegazing' 'showtunes'\n",
      " 'singer' 'ska' 'skarock' 'slow' 'smooth' 'soft' 'soul' 'soulful' 'sound'\n",
      " 'soundtrack' 'southern' 'specialty' 'speech' 'spiritual' 'sport'\n",
      " 'stonerrock' 'surf' 'swing' 'synthpop' 'synthrock' 'sängerportrait'\n",
      " 'tango' 'tanzorchester' 'taraftar' 'tatar' 'tech' 'techno' 'teen'\n",
      " 'thrash' 'top' 'traditional' 'tradjazz' 'trance' 'tribal' 'trip'\n",
      " 'triphop' 'tropical' 'türk' 'türkçe' 'ukrrock' 'unknown' 'urban' 'uzbek'\n",
      " 'variété' 'vi' 'videogame' 'vocal' 'western' 'world' 'worldbeat' 'ïîï'\n",
      " 'электроника']\n"
     ]
    }
   ],
   "source": [
    "print(music_data[\"genre\"].sort_values().unique())"
   ]
  },
  {
   "cell_type": "markdown",
   "id": "62d6334f",
   "metadata": {},
   "source": [
    "## Data cleaning results"
   ]
  },
  {
   "cell_type": "markdown",
   "id": "341252c3",
   "metadata": {},
   "source": [
    "Lastly, let's print a concise summary of the DataFrame again to make sure that we have correctly conducted data cleaning."
   ]
  },
  {
   "cell_type": "code",
   "execution_count": 13,
   "id": "f75f2303",
   "metadata": {},
   "outputs": [
    {
     "name": "stdout",
     "output_type": "stream",
     "text": [
      "<class 'pandas.core.frame.DataFrame'>\n",
      "Int64Index: 61253 entries, 0 to 65078\n",
      "Data columns (total 7 columns):\n",
      " #   Column   Non-Null Count  Dtype \n",
      "---  ------   --------------  ----- \n",
      " 0   user_id  61253 non-null  object\n",
      " 1   track    61253 non-null  object\n",
      " 2   artist   61253 non-null  object\n",
      " 3   genre    61253 non-null  object\n",
      " 4   city     61253 non-null  object\n",
      " 5   time     61253 non-null  object\n",
      " 6   day      61253 non-null  object\n",
      "dtypes: object(7)\n",
      "memory usage: 3.7+ MB\n"
     ]
    }
   ],
   "source": [
    "music_data.info()"
   ]
  },
  {
   "cell_type": "markdown",
   "id": "8ff51b6e",
   "metadata": {},
   "source": [
    "**Conclusion**\n",
    "\n",
    "Data preprocessing has identified 3 problems in data:\n",
    "\n",
    "* Inadequate headers style.\n",
    "* Missing values.\n",
    "* Duplicates - explicit and implicit.\n",
    "\n",
    "We have managed to simplify working with the DataFrame, thanks to which the results of the data analysis will be more accurate. The missing values in `genre`, `artist` and `track` columns have been replaced with `unknown` but there is still work to do to understand whether this will affect the results. \n",
    "\n",
    "Now, we can get to testing the main hypotheses."
   ]
  },
  {
   "cell_type": "markdown",
   "id": "7de1cf24",
   "metadata": {},
   "source": [
    "# Hypotheses testing"
   ]
  },
  {
   "cell_type": "markdown",
   "id": "6ab2d599",
   "metadata": {},
   "source": [
    "## H1: Do people really listen to music differently in different cities?"
   ]
  },
  {
   "cell_type": "markdown",
   "id": "3eccd6fa",
   "metadata": {},
   "source": [
    "The first hypothesis states that users listen to music differently in Moscow and Saint-Petersburg. We can test this hypothesis by making use of data on three weekdays: Monday, Wednesday and Friday. In order to accomplish that, we need to:\n",
    "\n",
    "* Divide users into two groups: (i) Moscow users and (ii) Saint-Peterburg users;\n",
    "* Compare the number of tracks listened to by each user group on each available weekday: Monday, Wednesday and Friday."
   ]
  },
  {
   "cell_type": "markdown",
   "id": "56f26847",
   "metadata": {},
   "source": [
    "To better understand the behavior of each user group, let's first estimate the activity of users in each city."
   ]
  },
  {
   "cell_type": "code",
   "execution_count": 14,
   "id": "eb6cfa80",
   "metadata": {},
   "outputs": [
    {
     "data": {
      "text/plain": [
       "city\n",
       "Moscow              42741\n",
       "Saint-Petersburg    18512\n",
       "Name: user_id, dtype: int64"
      ]
     },
     "execution_count": 14,
     "metadata": {},
     "output_type": "execute_result"
    }
   ],
   "source": [
    "music_data.groupby(\"city\")[\"user_id\"].count()"
   ]
  },
  {
   "cell_type": "markdown",
   "id": "5c8fe5ad",
   "metadata": {},
   "source": [
    "There are more track plays in Moscow than in Saint-Petersburg. However, it does not necessarily mean that Moscow users listen to music more often: there are just more users in Moscow."
   ]
  },
  {
   "cell_type": "markdown",
   "id": "aa12f543",
   "metadata": {},
   "source": [
    "Now, let's group data by weekday and compute numbers of track plays on Monday, Wednesday and Friday (the data contains information about track plays on these days only)."
   ]
  },
  {
   "cell_type": "code",
   "execution_count": 15,
   "id": "3253721d",
   "metadata": {},
   "outputs": [
    {
     "data": {
      "text/plain": [
       "day\n",
       "Friday       21840\n",
       "Monday       21354\n",
       "Wednesday    18059\n",
       "Name: user_id, dtype: int64"
      ]
     },
     "execution_count": 15,
     "metadata": {},
     "output_type": "execute_result"
    }
   ],
   "source": [
    "music_data.groupby(\"day\")[\"user_id\"].count()"
   ]
  },
  {
   "cell_type": "markdown",
   "id": "54825b49",
   "metadata": {},
   "source": [
    "On average, users from two cities are less active on Wednesday, but the results can change once we examine each city separately."
   ]
  },
  {
   "cell_type": "markdown",
   "id": "ee7a6b4a",
   "metadata": {},
   "source": [
    "In order to be able to distinguish between different cities and weekdays, we will use `number_tracks()` function that will combine the above calculations so that we could understand how often users from these two cities listen to music."
   ]
  },
  {
   "cell_type": "code",
   "execution_count": 16,
   "id": "2402fdd3-e7dd-49f9-958d-f82c8eddfea4",
   "metadata": {},
   "outputs": [],
   "source": [
    "def number_tracks(\n",
    "    data: pd.DataFrame,\n",
    "    day: Literal[\"Monday\", \"Wednesday\", \"Friday\"],\n",
    "    city: Literal[\"Moscow\", \"Saint-Petersburg\"],\n",
    ") -> int:\n",
    "    \"\"\"Computes day- and city-specific number of track plays.\n",
    "\n",
    "    Given the data with users' musical preferences, returns the number\n",
    "    of tracks played in a particular city on a particular day.\n",
    "\n",
    "    Args:\n",
    "        data (pd.DataFrame): DataFrame with information on musical preferences.\n",
    "        day (Literal[\"Monday\", \"Wednesday\", \"Friday\"]): Name of a weekday.\n",
    "        city (Literal[\"Moscow\", \"Saint-Petersburg\"]): Name of a city.\n",
    "\n",
    "    Returns:\n",
    "        int: Integer number of track plays in a given city on a given\n",
    "        day.\n",
    "    \"\"\"\n",
    "    track_list = data[data[\"day\"] == day]\n",
    "    track_list = track_list[track_list[\"city\"] == city]\n",
    "\n",
    "    track_list_count = track_list[\"user_id\"].count()\n",
    "\n",
    "    return track_list_count"
   ]
  },
  {
   "cell_type": "markdown",
   "id": "f1dff284",
   "metadata": {},
   "source": [
    "Specifically, we can now sequentially call `number_tracks()` function for each city and each weekday in order to obtain the information needed. We will initially store the results in a nested list in order to be able to use it to pass it later to `sns.heatmap()` function for better results representation."
   ]
  },
  {
   "cell_type": "code",
   "execution_count": 17,
   "id": "638cbeee",
   "metadata": {},
   "outputs": [],
   "source": [
    "# Defining unique cities and weekdays\n",
    "cities = np.sort(music_data[\"city\"].unique())\n",
    "days = np.sort(music_data[\"day\"].unique())\n",
    "\n",
    "# Filling in info about track plays for each city/weekday\n",
    "num_track_plays = np.empty([cities.size, days.size])\n",
    "for i, city in enumerate(cities):\n",
    "    for j, day in enumerate(days):\n",
    "        num_track_plays[i][j] = number_tracks(data=music_data, day=day, city=city)"
   ]
  },
  {
   "cell_type": "markdown",
   "id": "ee443d08",
   "metadata": {},
   "source": [
    "The resulting nested list contains the number of track plays in Moscow on each weekday in the first inner list, while the second one - the number of track plays in Saint-Petersburg on each weekday."
   ]
  },
  {
   "cell_type": "markdown",
   "id": "e34a4be5",
   "metadata": {},
   "source": [
    "Now, we can create a DataFrame, which we can then pass to `heatmap()` function of `seaborn` library in order to compile a color-encoded table to see the differences between cities and weekdays more clearly."
   ]
  },
  {
   "cell_type": "code",
   "execution_count": 18,
   "id": "f8fee3d5",
   "metadata": {},
   "outputs": [
    {
     "data": {
      "image/png": "[encoded data removed]",
      "text/plain": [
       "<Figure size 640x480 with 2 Axes>"
      ]
     },
     "metadata": {},
     "output_type": "display_data"
    }
   ],
   "source": [
    "# Building a heatmap\n",
    "sns.set_theme(style=\"darkgrid\")\n",
    "\n",
    "info = pd.DataFrame(data=num_track_plays, columns=days, index=cities)\n",
    "heatmap = sns.heatmap(data=info, annot=True, fmt=\".0f\", cmap=\"Oranges\")\n",
    "\n",
    "heatmap.set(title=\"Number of tracks played for each city and weekday\\n\")\n",
    "plt.yticks(rotation=0)\n",
    "plt.show()"
   ]
  },
  {
   "cell_type": "markdown",
   "id": "a9c0633f",
   "metadata": {},
   "source": [
    "**Conclusion (Hypothesis 1)**\n",
    "\n",
    "Data shows difference in user behavior:\n",
    "\n",
    "* Number of track plays in Moscow peaks on Monday and Friday, while it declines on Wednesday;\n",
    "* In Saint-Petersburg, conversely, users listen to music more frequently on Wednesday.\n",
    "\n",
    "Thus, the data confirms the first hypothesis: users from Moscow and Saint-Petersburg indeed listen to music differently."
   ]
  },
  {
   "cell_type": "markdown",
   "id": "757708e3",
   "metadata": {},
   "source": [
    "## H2: Monday morning and Friday evening - different music or the same?"
   ]
  },
  {
   "cell_type": "markdown",
   "id": "b599f4f8",
   "metadata": {},
   "source": [
    "According to the second hypothesis, users in Moscow and Saint-Petersburg differ in their music genre preferences on Monday morning. Likewise, genres differ on Friday evening as well - depending on the city."
   ]
  },
  {
   "cell_type": "markdown",
   "id": "245d2b2d",
   "metadata": {},
   "source": [
    "Let's create two variables and let them store two DataFrames, where each one will contain information about a specific city."
   ]
  },
  {
   "cell_type": "code",
   "execution_count": 19,
   "id": "c259be57",
   "metadata": {},
   "outputs": [],
   "source": [
    "moscow_general = music_data[music_data[\"city\"] == \"Moscow\"]\n",
    "spb_general = music_data[music_data[\"city\"] == \"Saint-Petersburg\"]"
   ]
  },
  {
   "cell_type": "markdown",
   "id": "2d301447",
   "metadata": {},
   "source": [
    "Now, in order to test the hypothesis, we need use a function called `genre_weekday()` which we define below. The function will return information about top-10 genres of tracks played on a particular day between two time points."
   ]
  },
  {
   "cell_type": "code",
   "execution_count": 20,
   "id": "cd4ddfea-1452-4271-8ee0-da61525c8722",
   "metadata": {},
   "outputs": [],
   "source": [
    "def genre_weekday(\n",
    "    data: pd.DataFrame,\n",
    "    day: Literal[\"Monday\", \"Friday\"],\n",
    "    time_start: str = \"00:00\",\n",
    "    time_end: str = \"23:59\",\n",
    "    include_bounds: Literal[\"neither\", \"both\", \"left\", \"right\"] = \"neither\",\n",
    ") -> pd.Series:\n",
    "    \"\"\"\n",
    "    Returns a rating of top-10 most popular genres\n",
    "    on a given day at a given time.\n",
    "\n",
    "    Args:\n",
    "        data (pd.DataFrame): DataFrame with information on\n",
    "            musical preferences.\n",
    "        day (Literal[\"Monday\", \"Friday\"]): Name of a weekday.\n",
    "        time_start (str, optional): Lower bound of a time period\n",
    "            in \"hh:mm\" format. Defaults to \"00:00\".\n",
    "        time_end (str, optional): Upper bound of a time period\n",
    "            in \"hh:mm\" format. Defaults to \"23:59\".\n",
    "        include_bounds (Literal[\"neither\", \"both\", \"left\", \"right\"], optional):\n",
    "            Indicator of inclusion of time interval bounds. Defaults\n",
    "            to \"neither\".\n",
    "\n",
    "    Returns:\n",
    "        pd.Series: Object mapping top-10 most popular music\n",
    "        genres to their corresponding track plays numbers.\n",
    "    \"\"\"\n",
    "    genre_df = data[data[\"day\"] == day]\n",
    "    genre_df = genre_df[\n",
    "        genre_df[\"time\"].between(time_start, time_end, inclusive=include_bounds)\n",
    "    ]\n",
    "\n",
    "    # Compiling a rating of the most popular genres\n",
    "    genre_df_top_10 = (\n",
    "        genre_df.groupby(\"genre\")[\"genre\"].count().sort_values(ascending=False)\n",
    "    ).head(10)\n",
    "\n",
    "    return genre_df_top_10"
   ]
  },
  {
   "cell_type": "markdown",
   "id": "1329f47a-db87-48cd-b1ff-fcf198b984fc",
   "metadata": {},
   "source": [
    "We can now call the function written above multiple times in order to later bring the results together for comparison."
   ]
  },
  {
   "cell_type": "code",
   "execution_count": 21,
   "id": "fefd95a9",
   "metadata": {},
   "outputs": [
    {
     "data": {
      "text/html": [
       "<div>\n",
       "<style scoped>\n",
       "    .dataframe tbody tr th:only-of-type {\n",
       "        vertical-align: middle;\n",
       "    }\n",
       "\n",
       "    .dataframe tbody tr th {\n",
       "        vertical-align: top;\n",
       "    }\n",
       "\n",
       "    .dataframe thead tr th {\n",
       "        text-align: left;\n",
       "    }\n",
       "\n",
       "    .dataframe thead tr:last-of-type th {\n",
       "        text-align: right;\n",
       "    }\n",
       "</style>\n",
       "<table border=\"1\" class=\"dataframe\">\n",
       "  <thead>\n",
       "    <tr>\n",
       "      <th>City</th>\n",
       "      <th colspan=\"2\" halign=\"left\">Moscow</th>\n",
       "      <th colspan=\"2\" halign=\"left\">Saint-Petersburg</th>\n",
       "    </tr>\n",
       "    <tr>\n",
       "      <th>Daytime</th>\n",
       "      <th>Morning</th>\n",
       "      <th>Evening</th>\n",
       "      <th>Morning</th>\n",
       "      <th>Evening</th>\n",
       "    </tr>\n",
       "    <tr>\n",
       "      <th>genre</th>\n",
       "      <th></th>\n",
       "      <th></th>\n",
       "      <th></th>\n",
       "      <th></th>\n",
       "    </tr>\n",
       "  </thead>\n",
       "  <tbody>\n",
       "    <tr>\n",
       "      <th>pop</th>\n",
       "      <td>781.0</td>\n",
       "      <td>713.0</td>\n",
       "      <td>218.0</td>\n",
       "      <td>256.0</td>\n",
       "    </tr>\n",
       "    <tr>\n",
       "      <th>dance</th>\n",
       "      <td>549.0</td>\n",
       "      <td>495.0</td>\n",
       "      <td>182.0</td>\n",
       "      <td>210.0</td>\n",
       "    </tr>\n",
       "    <tr>\n",
       "      <th>electronic</th>\n",
       "      <td>480.0</td>\n",
       "      <td>482.0</td>\n",
       "      <td>147.0</td>\n",
       "      <td>216.0</td>\n",
       "    </tr>\n",
       "    <tr>\n",
       "      <th>rock</th>\n",
       "      <td>474.0</td>\n",
       "      <td>517.0</td>\n",
       "      <td>162.0</td>\n",
       "      <td>216.0</td>\n",
       "    </tr>\n",
       "    <tr>\n",
       "      <th>hiphop</th>\n",
       "      <td>286.0</td>\n",
       "      <td>273.0</td>\n",
       "      <td>80.0</td>\n",
       "      <td>97.0</td>\n",
       "    </tr>\n",
       "    <tr>\n",
       "      <th>ruspop</th>\n",
       "      <td>186.0</td>\n",
       "      <td>170.0</td>\n",
       "      <td>64.0</td>\n",
       "      <td>-</td>\n",
       "    </tr>\n",
       "    <tr>\n",
       "      <th>world</th>\n",
       "      <td>181.0</td>\n",
       "      <td>208.0</td>\n",
       "      <td>-</td>\n",
       "      <td>54.0</td>\n",
       "    </tr>\n",
       "    <tr>\n",
       "      <th>rusrap</th>\n",
       "      <td>175.0</td>\n",
       "      <td>142.0</td>\n",
       "      <td>55.0</td>\n",
       "      <td>59.0</td>\n",
       "    </tr>\n",
       "    <tr>\n",
       "      <th>alternative</th>\n",
       "      <td>164.0</td>\n",
       "      <td>163.0</td>\n",
       "      <td>58.0</td>\n",
       "      <td>63.0</td>\n",
       "    </tr>\n",
       "    <tr>\n",
       "      <th>unknown</th>\n",
       "      <td>161.0</td>\n",
       "      <td>-</td>\n",
       "      <td>-</td>\n",
       "      <td>-</td>\n",
       "    </tr>\n",
       "    <tr>\n",
       "      <th>classical</th>\n",
       "      <td>-</td>\n",
       "      <td>163.0</td>\n",
       "      <td>40.0</td>\n",
       "      <td>60.0</td>\n",
       "    </tr>\n",
       "    <tr>\n",
       "      <th>jazz</th>\n",
       "      <td>-</td>\n",
       "      <td>-</td>\n",
       "      <td>44.0</td>\n",
       "      <td>61.0</td>\n",
       "    </tr>\n",
       "  </tbody>\n",
       "</table>\n",
       "</div>"
      ],
      "text/plain": [
       "City         Moscow         Saint-Petersburg        \n",
       "Daytime     Morning Evening          Morning Evening\n",
       "genre                                               \n",
       "pop           781.0   713.0            218.0   256.0\n",
       "dance         549.0   495.0            182.0   210.0\n",
       "electronic    480.0   482.0            147.0   216.0\n",
       "rock          474.0   517.0            162.0   216.0\n",
       "hiphop        286.0   273.0             80.0    97.0\n",
       "ruspop        186.0   170.0             64.0       -\n",
       "world         181.0   208.0                -    54.0\n",
       "rusrap        175.0   142.0             55.0    59.0\n",
       "alternative   164.0   163.0             58.0    63.0\n",
       "unknown       161.0       -                -       -\n",
       "classical         -   163.0             40.0    60.0\n",
       "jazz              -       -             44.0    61.0"
      ]
     },
     "metadata": {},
     "output_type": "display_data"
    }
   ],
   "source": [
    "# Computing top-10 genres\n",
    "moscow_monday_morning = genre_weekday(\n",
    "    data=moscow_general, day=\"Monday\", time_start=\"07:00\", time_end=\"11:00\"\n",
    ")\n",
    "moscow_friday_evening = genre_weekday(\n",
    "    data=moscow_general, day=\"Friday\", time_start=\"17:00\", time_end=\"23:00\"\n",
    ")\n",
    "spb_monday_morning = genre_weekday(\n",
    "    data=spb_general, day=\"Monday\", time_start=\"07:00\", time_end=\"11:00\"\n",
    ")\n",
    "spb_friday_evening = genre_weekday(\n",
    "    data=spb_general, day=\"Friday\", time_start=\"17:00\", time_end=\"23:00\"\n",
    ")\n",
    "\n",
    "# Concatenating results from different cities\n",
    "genre_comparison_df = pd.concat(\n",
    "    [\n",
    "        moscow_monday_morning,\n",
    "        moscow_friday_evening,\n",
    "        spb_monday_morning,\n",
    "        spb_friday_evening,\n",
    "    ],\n",
    "    axis=1,\n",
    ")\n",
    "# Tweaking visuals\n",
    "cities = [\"Moscow\", \"Saint-Petersburg\"]\n",
    "daytime = [\"Morning\", \"Evening\"]\n",
    "genre_comparison_df.columns = pd.MultiIndex.from_product(\n",
    "    [cities, daytime], names=[\"City\", \"Daytime\"]\n",
    ")\n",
    "genre_comparison_df = genre_comparison_df.fillna(\"-\")\n",
    "\n",
    "display(genre_comparison_df)"
   ]
  },
  {
   "cell_type": "markdown",
   "id": "20c4ad30",
   "metadata": {},
   "source": [
    "**Conclusion (Hypothesis 2)**\n",
    "\n",
    "By comparing the top-10 genres on Monday morning, the following conclusion can be drawn:\n",
    "\n",
    "* Users in Moscow and Saint-Petersburg listen to similar music. The only difference is that Moscow rating includes `world` genre, while that for Saint-Petersburg includes `jazz` and `classical` music genres.\n",
    "* In Moscow there are so many missing values that `unknown` genre took the 10th place in the rating of the most popular genres. Hence, missing values account for a substantial fraction of data and are highly likely to affect the results. \n",
    "* Friday evening does not change the results: some genres ascend and descend across the top-10 rating but in general rating stays the same. \n",
    "\n",
    "Thus, the second hypothesis has been partially confirmed:\n",
    "\n",
    "* Users listen to similar music at the beginning and the end of the week. \n",
    "* We were not able to detect a distinct difference between Moscow and Saint-Petersburg. Users in Moscow often listen to the russian popular music (`ruspop`), while users in Saint-Peterburg - jazz (`jazz`). \n",
    "\n",
    "However, missing values do not allow accurately confirming the above results. Moscow data has so many of them that it is likely that the top-10 rating could have looked differently should we have had all information."
   ]
  },
  {
   "cell_type": "markdown",
   "id": "87373774",
   "metadata": {},
   "source": [
    "## H3: Moscow and Saint-Petersburg - two different capitals with different music preferences?"
   ]
  },
  {
   "cell_type": "markdown",
   "id": "2e15f5c2",
   "metadata": {},
   "source": [
    "The third hypothesis states that Saint-Petersburg is a city where `rusrap` genre prevails, while Moscow is popular with `pop`."
   ]
  },
  {
   "cell_type": "markdown",
   "id": "91d3e7fc",
   "metadata": {},
   "source": [
    "We can start by grouping the table by genre and counting the number of tracks played in Moscow."
   ]
  },
  {
   "cell_type": "code",
   "execution_count": 22,
   "id": "9d4517c4",
   "metadata": {},
   "outputs": [
    {
     "data": {
      "text/html": [
       "<div>\n",
       "<style scoped>\n",
       "    .dataframe tbody tr th:only-of-type {\n",
       "        vertical-align: middle;\n",
       "    }\n",
       "\n",
       "    .dataframe tbody tr th {\n",
       "        vertical-align: top;\n",
       "    }\n",
       "\n",
       "    .dataframe thead th {\n",
       "        text-align: right;\n",
       "    }\n",
       "</style>\n",
       "<table border=\"1\" class=\"dataframe\">\n",
       "  <thead>\n",
       "    <tr style=\"text-align: right;\">\n",
       "      <th></th>\n",
       "      <th>Moscow</th>\n",
       "      <th>Saint-Petersburg</th>\n",
       "    </tr>\n",
       "    <tr>\n",
       "      <th>genre</th>\n",
       "      <th></th>\n",
       "      <th></th>\n",
       "    </tr>\n",
       "  </thead>\n",
       "  <tbody>\n",
       "    <tr>\n",
       "      <th>pop</th>\n",
       "      <td>5892</td>\n",
       "      <td>2431</td>\n",
       "    </tr>\n",
       "    <tr>\n",
       "      <th>dance</th>\n",
       "      <td>4435</td>\n",
       "      <td>1932</td>\n",
       "    </tr>\n",
       "    <tr>\n",
       "      <th>rock</th>\n",
       "      <td>3965</td>\n",
       "      <td>1879</td>\n",
       "    </tr>\n",
       "    <tr>\n",
       "      <th>electronic</th>\n",
       "      <td>3786</td>\n",
       "      <td>1736</td>\n",
       "    </tr>\n",
       "    <tr>\n",
       "      <th>hiphop</th>\n",
       "      <td>2096</td>\n",
       "      <td>960</td>\n",
       "    </tr>\n",
       "    <tr>\n",
       "      <th>classical</th>\n",
       "      <td>1616</td>\n",
       "      <td>646</td>\n",
       "    </tr>\n",
       "    <tr>\n",
       "      <th>world</th>\n",
       "      <td>1432</td>\n",
       "      <td>515</td>\n",
       "    </tr>\n",
       "    <tr>\n",
       "      <th>alternative</th>\n",
       "      <td>1379</td>\n",
       "      <td>649</td>\n",
       "    </tr>\n",
       "    <tr>\n",
       "      <th>ruspop</th>\n",
       "      <td>1372</td>\n",
       "      <td>538</td>\n",
       "    </tr>\n",
       "    <tr>\n",
       "      <th>rusrap</th>\n",
       "      <td>1161</td>\n",
       "      <td>564</td>\n",
       "    </tr>\n",
       "  </tbody>\n",
       "</table>\n",
       "</div>"
      ],
      "text/plain": [
       "             Moscow  Saint-Petersburg\n",
       "genre                                \n",
       "pop            5892              2431\n",
       "dance          4435              1932\n",
       "rock           3965              1879\n",
       "electronic     3786              1736\n",
       "hiphop         2096               960\n",
       "classical      1616               646\n",
       "world          1432               515\n",
       "alternative    1379               649\n",
       "ruspop         1372               538\n",
       "rusrap         1161               564"
      ]
     },
     "metadata": {},
     "output_type": "display_data"
    }
   ],
   "source": [
    "# Computing top-10 genres for cities\n",
    "moscow_genres = (\n",
    "    moscow_general.groupby(\"genre\")[\"genre\"]\n",
    "    .count()\n",
    "    .sort_values(ascending=False)\n",
    "    .head(10)\n",
    ")\n",
    "spb_genres = (\n",
    "    spb_general.groupby(\"genre\")[\"genre\"].count().sort_values(ascending=False).head(10)\n",
    ")\n",
    "\n",
    "# Combining results\n",
    "city_genres_comparison_df = pd.concat([moscow_genres, spb_genres], axis=1)\n",
    "city_genres_comparison_df.columns = [\"Moscow\", \"Saint-Petersburg\"]\n",
    "\n",
    "display(city_genres_comparison_df)"
   ]
  },
  {
   "cell_type": "markdown",
   "id": "7a76f829",
   "metadata": {},
   "source": [
    "**Conclusion (Hypothesis 3)**\n",
    "\n",
    "The third hypothesis has been partially confirmed:\n",
    "\n",
    "* Pop-music (`pop`) is the most popular genre in Moscow as the hypothesis stipulated. Besides, top-10 genres also include a closer music genre - russian pop music (`ruspop`).\n",
    "* Contrary to expectations, `rusrap` is as popular in Moscow as it is in Saint-Petersburg."
   ]
  },
  {
   "cell_type": "markdown",
   "id": "13687548",
   "metadata": {},
   "source": [
    "# General results"
   ]
  },
  {
   "cell_type": "markdown",
   "id": "30632fa0",
   "metadata": {},
   "source": [
    "We have managed to test the following working hypotheses:\n",
    "\n",
    "* There are differences in musical preferences in Moscow and Saint-Petersburg;\n",
    "* Top-10 rating of popular genres on Monday morning and Friday evening can be characterized by distinct differences;\n",
    "* Population of two cities prefers different music genres.\n",
    "\n",
    "**Key takeaways**\n",
    "\n",
    "    1. Moscow and Saint-Petersburg are similar in musical tastes: pop music is preferred everywhere. \n",
    "    2. Additionally, it is not contingent upon weekday: people always listen to what they like. \n",
    "    3. However, comparing by weekday, Moscow users listen to music more on Monday and Friday than Wednesday, while in Saint-Peterburg the reverse takes place: users play tracks more frequently on Wednesday relative to Monday and Friday.\n",
    "\n",
    "Thus, the first hypothesis has been confirmed and the other two - partially confirmed."
   ]
  }
 ],
 "metadata": {
  "kernelspec": {
   "display_name": "Python 3 (ipykernel)",
   "language": "python",
   "name": "python3"
  },
  "language_info": {
   "codemirror_mode": {
    "name": "ipython",
    "version": 3
   },
   "file_extension": ".py",
   "mimetype": "text/x-python",
   "name": "python",
   "nbconvert_exporter": "python",
   "pygments_lexer": "ipython3",
   "version": "3.9.13"
  },
  "toc": {
   "base_numbering": 1,
   "nav_menu": {
    "height": "203px",
    "width": "394px"
   },
   "number_sections": true,
   "sideBar": true,
   "skip_h1_title": true,
   "title_cell": "Table of Contents",
   "title_sidebar": "Contents",
   "toc_cell": true,
   "toc_position": {},
   "toc_section_display": true,
   "toc_window_display": false
  }
 },
 "nbformat": 4,
 "nbformat_minor": 5
}
