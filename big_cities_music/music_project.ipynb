{
 "cells": [
  {
   "cell_type": "markdown",
   "id": "1ea6ff3b",
   "metadata": {},
   "source": [
    "## Getting data"
   ]
  },
  {
   "cell_type": "markdown",
   "id": "02d99b6e",
   "metadata": {},
   "source": [
    "The first step is to examine the data provided by \"Yandex.Music\" service for the project. We can start by importing `pandas` library extremely useful for conducting data analysis."
   ]
  },
  {
   "cell_type": "code",
   "execution_count": 1,
   "id": "82065252",
   "metadata": {},
   "outputs": [],
   "source": [
    "import pandas as pd"
   ]
  },
  {
   "cell_type": "markdown",
   "id": "978a443e",
   "metadata": {},
   "source": [
    "Now that we have imported the library, we can read `yandex_music_project.csv` file containing the data we need into a DataFrame to be stored in a `df` variable."
   ]
  },
  {
   "cell_type": "code",
   "execution_count": 2,
   "id": "1d632dd8",
   "metadata": {},
   "outputs": [],
   "source": [
    "df = pd.read_csv(\"yandex_music_project.csv\")"
   ]
  },
  {
   "cell_type": "markdown",
   "id": "23ff0357",
   "metadata": {},
   "source": [
    "We start analyzing music data by initially printing the first ten rows of `df` DataFrame in order to take a look at what the data looks like."
   ]
  },
  {
   "cell_type": "code",
   "execution_count": 3,
   "id": "e1b10570",
   "metadata": {},
   "outputs": [
    {
     "data": {
      "text/html": [
       "<div>\n",
       "<style scoped>\n",
       "    .dataframe tbody tr th:only-of-type {\n",
       "        vertical-align: middle;\n",
       "    }\n",
       "\n",
       "    .dataframe tbody tr th {\n",
       "        vertical-align: top;\n",
       "    }\n",
       "\n",
       "    .dataframe thead th {\n",
       "        text-align: right;\n",
       "    }\n",
       "</style>\n",
       "<table border=\"1\" class=\"dataframe\">\n",
       "  <thead>\n",
       "    <tr style=\"text-align: right;\">\n",
       "      <th></th>\n",
       "      <th>userID</th>\n",
       "      <th>Track</th>\n",
       "      <th>artist</th>\n",
       "      <th>genre</th>\n",
       "      <th>City</th>\n",
       "      <th>time</th>\n",
       "      <th>Day</th>\n",
       "    </tr>\n",
       "  </thead>\n",
       "  <tbody>\n",
       "    <tr>\n",
       "      <th>0</th>\n",
       "      <td>FFB692EC</td>\n",
       "      <td>Kamigata To Boots</td>\n",
       "      <td>The Mass Missile</td>\n",
       "      <td>rock</td>\n",
       "      <td>Saint-Petersburg</td>\n",
       "      <td>20:28:33</td>\n",
       "      <td>Wednesday</td>\n",
       "    </tr>\n",
       "    <tr>\n",
       "      <th>1</th>\n",
       "      <td>55204538</td>\n",
       "      <td>Delayed Because of Accident</td>\n",
       "      <td>Andreas Rönnberg</td>\n",
       "      <td>rock</td>\n",
       "      <td>Moscow</td>\n",
       "      <td>14:07:09</td>\n",
       "      <td>Friday</td>\n",
       "    </tr>\n",
       "    <tr>\n",
       "      <th>2</th>\n",
       "      <td>20EC38</td>\n",
       "      <td>Funiculì funiculà</td>\n",
       "      <td>Mario Lanza</td>\n",
       "      <td>pop</td>\n",
       "      <td>Saint-Petersburg</td>\n",
       "      <td>20:58:07</td>\n",
       "      <td>Wednesday</td>\n",
       "    </tr>\n",
       "    <tr>\n",
       "      <th>3</th>\n",
       "      <td>A3DD03C9</td>\n",
       "      <td>Dragons in the Sunset</td>\n",
       "      <td>Fire + Ice</td>\n",
       "      <td>folk</td>\n",
       "      <td>Saint-Petersburg</td>\n",
       "      <td>08:37:09</td>\n",
       "      <td>Monday</td>\n",
       "    </tr>\n",
       "    <tr>\n",
       "      <th>4</th>\n",
       "      <td>E2DC1FAE</td>\n",
       "      <td>Soul People</td>\n",
       "      <td>Space Echo</td>\n",
       "      <td>dance</td>\n",
       "      <td>Moscow</td>\n",
       "      <td>08:34:34</td>\n",
       "      <td>Monday</td>\n",
       "    </tr>\n",
       "    <tr>\n",
       "      <th>5</th>\n",
       "      <td>842029A1</td>\n",
       "      <td>Преданная</td>\n",
       "      <td>IMPERVTOR</td>\n",
       "      <td>rusrap</td>\n",
       "      <td>Saint-Petersburg</td>\n",
       "      <td>13:09:41</td>\n",
       "      <td>Friday</td>\n",
       "    </tr>\n",
       "    <tr>\n",
       "      <th>6</th>\n",
       "      <td>4CB90AA5</td>\n",
       "      <td>True</td>\n",
       "      <td>Roman Messer</td>\n",
       "      <td>dance</td>\n",
       "      <td>Moscow</td>\n",
       "      <td>13:00:07</td>\n",
       "      <td>Wednesday</td>\n",
       "    </tr>\n",
       "    <tr>\n",
       "      <th>7</th>\n",
       "      <td>F03E1C1F</td>\n",
       "      <td>Feeling This Way</td>\n",
       "      <td>Polina Griffith</td>\n",
       "      <td>dance</td>\n",
       "      <td>Moscow</td>\n",
       "      <td>20:47:49</td>\n",
       "      <td>Wednesday</td>\n",
       "    </tr>\n",
       "    <tr>\n",
       "      <th>8</th>\n",
       "      <td>8FA1D3BE</td>\n",
       "      <td>И вновь продолжается бой</td>\n",
       "      <td>NaN</td>\n",
       "      <td>ruspop</td>\n",
       "      <td>Moscow</td>\n",
       "      <td>09:17:40</td>\n",
       "      <td>Friday</td>\n",
       "    </tr>\n",
       "    <tr>\n",
       "      <th>9</th>\n",
       "      <td>E772D5C0</td>\n",
       "      <td>Pessimist</td>\n",
       "      <td>NaN</td>\n",
       "      <td>dance</td>\n",
       "      <td>Saint-Petersburg</td>\n",
       "      <td>21:20:49</td>\n",
       "      <td>Wednesday</td>\n",
       "    </tr>\n",
       "  </tbody>\n",
       "</table>\n",
       "</div>"
      ],
      "text/plain": [
       "     userID                        Track            artist   genre  \\\n",
       "0  FFB692EC            Kamigata To Boots  The Mass Missile    rock   \n",
       "1  55204538  Delayed Because of Accident  Andreas Rönnberg    rock   \n",
       "2    20EC38            Funiculì funiculà       Mario Lanza     pop   \n",
       "3  A3DD03C9        Dragons in the Sunset        Fire + Ice    folk   \n",
       "4  E2DC1FAE                  Soul People        Space Echo   dance   \n",
       "5  842029A1                    Преданная         IMPERVTOR  rusrap   \n",
       "6  4CB90AA5                         True      Roman Messer   dance   \n",
       "7  F03E1C1F             Feeling This Way   Polina Griffith   dance   \n",
       "8  8FA1D3BE     И вновь продолжается бой               NaN  ruspop   \n",
       "9  E772D5C0                    Pessimist               NaN   dance   \n",
       "\n",
       "             City        time        Day  \n",
       "0  Saint-Petersburg  20:28:33  Wednesday  \n",
       "1            Moscow  14:07:09     Friday  \n",
       "2  Saint-Petersburg  20:58:07  Wednesday  \n",
       "3  Saint-Petersburg  08:37:09     Monday  \n",
       "4            Moscow  08:34:34     Monday  \n",
       "5  Saint-Petersburg  13:09:41     Friday  \n",
       "6            Moscow  13:00:07  Wednesday  \n",
       "7            Moscow  20:47:49  Wednesday  \n",
       "8            Moscow  09:17:40     Friday  \n",
       "9  Saint-Petersburg  21:20:49  Wednesday  "
      ]
     },
     "execution_count": 3,
     "metadata": {},
     "output_type": "execute_result"
    }
   ],
   "source": [
    "df.head(10)"
   ]
  },
  {
   "cell_type": "markdown",
   "id": "0aab49e5",
   "metadata": {},
   "source": [
    "We can also dig deeper into the DataFrame by printing a concise summary of it."
   ]
  },
  {
   "cell_type": "code",
   "execution_count": 4,
   "id": "6d886eea",
   "metadata": {},
   "outputs": [
    {
     "name": "stdout",
     "output_type": "stream",
     "text": [
      "<class 'pandas.core.frame.DataFrame'>\n",
      "RangeIndex: 65079 entries, 0 to 65078\n",
      "Data columns (total 7 columns):\n",
      " #   Column    Non-Null Count  Dtype \n",
      "---  ------    --------------  ----- \n",
      " 0     userID  65079 non-null  object\n",
      " 1   Track     63848 non-null  object\n",
      " 2   artist    57876 non-null  object\n",
      " 3   genre     63881 non-null  object\n",
      " 4     City    65079 non-null  object\n",
      " 5   time      65079 non-null  object\n",
      " 6   Day       65079 non-null  object\n",
      "dtypes: object(7)\n",
      "memory usage: 3.5+ MB\n"
     ]
    }
   ],
   "source": [
    "df.info()"
   ]
  },
  {
   "cell_type": "markdown",
   "id": "9d0795b5",
   "metadata": {},
   "source": [
    "Now, let's examine the information obtained in more detail:\n",
    "\n",
    "1. The DataFrame has seven columns of `object` data type.\n",
    "\n",
    "\n",
    "2. Columns of `df` contain the following information:\n",
    "\n",
    "* `userID` - user identification number;\n",
    "* `Track` - name of a music track;\n",
    "* `artist` - name of an artist;\n",
    "* `genre` - name of a genre;\n",
    "* `City` - city where a song was played;\n",
    "* `time` - time at which a user started listening to a song;\n",
    "* `Day` - day of the week.\n",
    "\n",
    "\n",
    "3. The number of values in columns differs, which signifies the fact that we are dealing with missing values in the data."
   ]
  },
  {
   "cell_type": "markdown",
   "id": "be557fc5",
   "metadata": {},
   "source": [
    "**Conclusion**\n",
    "\n",
    "Each row of the DataFrame contains information about different songs of a particular genre and of a particular artist, which users were listening to at a particular time and on a particular day of the week. \n",
    "\n",
    "There are three problems that are to be solved: inadequate column names, missing values and a potential presence of duplicates in data. In order to test working hypotheses, information contained in columns `time`, `Day` and `City` will be especially useful. Furthermore, the data from `genre` column will allow determining the most popular genres."
   ]
  },
  {
   "cell_type": "markdown",
   "id": "7378bbfa",
   "metadata": {},
   "source": [
    "## Data preprocessing"
   ]
  },
  {
   "cell_type": "markdown",
   "id": "d9a31931",
   "metadata": {},
   "source": [
    "In this section, we will rename the columns, get rid of missing values and verify the data for potential duplicates."
   ]
  },
  {
   "cell_type": "markdown",
   "id": "8b4ee60b",
   "metadata": {},
   "source": [
    "### Headers style"
   ]
  },
  {
   "cell_type": "markdown",
   "id": "6af6aea3",
   "metadata": {},
   "source": [
    "We can start by first obtaining the names of the columns in the DataFrame."
   ]
  },
  {
   "cell_type": "code",
   "execution_count": 5,
   "id": "31fec1fc",
   "metadata": {},
   "outputs": [
    {
     "data": {
      "text/plain": [
       "Index(['  userID', 'Track', 'artist', 'genre', '  City  ', 'time', 'Day'], dtype='object')"
      ]
     },
     "execution_count": 5,
     "metadata": {},
     "output_type": "execute_result"
    }
   ],
   "source": [
    "df.columns"
   ]
  },
  {
   "cell_type": "markdown",
   "id": "7d8e5290",
   "metadata": {},
   "source": [
    "It can be seen that there are problems with the way that the column are named:\n",
    "\n",
    "* Column names contain both lowercase and uppercase letters;\n",
    "* There are spaces in the column names;\n",
    "* Some column names do not have underscores.\n",
    "\n",
    "In order to simplify the subsequent data analysis, we should rename the columns in a correct and convenient way and verify the result afterwards. It can be achieved by applying `rename` function that we will use to deal with uppercase letters and spaces. By passing a dictionary containing incorrect column names as keys and correct column names as values to `columns` parameter as the argument of the function, we can easily rename the columns."
   ]
  },
  {
   "cell_type": "code",
   "execution_count": 6,
   "id": "4bd31101-c1fc-4d6d-93bb-ca8cb22222c3",
   "metadata": {},
   "outputs": [],
   "source": [
    "df = df.rename(\n",
    "    columns={\"  userID\": \"user_id\", \"Track\": \"track\", \"  City  \": \"city\", \"Day\": \"day\"}\n",
    ")"
   ]
  },
  {
   "cell_type": "code",
   "execution_count": 7,
   "id": "e1118cf8",
   "metadata": {},
   "outputs": [
    {
     "data": {
      "text/plain": [
       "Index(['user_id', 'track', 'artist', 'genre', 'city', 'time', 'day'], dtype='object')"
      ]
     },
     "execution_count": 7,
     "metadata": {},
     "output_type": "execute_result"
    }
   ],
   "source": [
    "df.columns"
   ]
  },
  {
   "cell_type": "markdown",
   "id": "a726635a-dd7b-42cf-a608-77106625aea5",
   "metadata": {},
   "source": [
    "Now that we have successfully dealt with incorrect column names, we can get to examining missing values problem."
   ]
  },
  {
   "cell_type": "markdown",
   "id": "217c71a4",
   "metadata": {},
   "source": [
    "### Missing values"
   ]
  },
  {
   "cell_type": "markdown",
   "id": "c555dd73",
   "metadata": {},
   "source": [
    "Let's compute the number of missing values in the DataFrame."
   ]
  },
  {
   "cell_type": "code",
   "execution_count": 8,
   "id": "77fc436b",
   "metadata": {},
   "outputs": [
    {
     "data": {
      "text/plain": [
       "user_id       0\n",
       "track      1231\n",
       "artist     7203\n",
       "genre      1198\n",
       "city          0\n",
       "time          0\n",
       "day           0\n",
       "dtype: int64"
      ]
     },
     "execution_count": 8,
     "metadata": {},
     "output_type": "execute_result"
    }
   ],
   "source": [
    "df.isna().sum()"
   ]
  },
  {
   "cell_type": "markdown",
   "id": "c571b9d4",
   "metadata": {},
   "source": [
    "Missing values refer to the fact that we do not have all available information for some tracks. There can be a lot of different reasons for this: on the one hand, the artist of some song might not have been specified or, on the other hand, in a worse case scenario, there can be problems with data recording itself.\n",
    "\n",
    "Missing values in `track` and `artist` are not so important for the subsequent data analysis so we can just replace these values with some explicit notation. The information contained in `genre` column, however, is crucial and can complicate the comparison of musical tastes in Moscow and Saint-Petersburg. Thus, in this case we will have to also replace such values with some explicit notation and afterwards evaluate how much they will affect the analysis results."
   ]
  },
  {
   "cell_type": "markdown",
   "id": "dd21205c",
   "metadata": {},
   "source": [
    "To deal with such a problem, we can replace the missing values in columns `track`, `artist` and `genre` with some string placeholder value - `'unknown'`."
   ]
  },
  {
   "cell_type": "code",
   "execution_count": 9,
   "id": "67781be7",
   "metadata": {},
   "outputs": [],
   "source": [
    "columns_to_replace = [\"track\", \"artist\", \"genre\"]\n",
    "for column in columns_to_replace:\n",
    "    df[column] = df[column].fillna(\"unknown\")"
   ]
  },
  {
   "cell_type": "markdown",
   "id": "5305198f",
   "metadata": {},
   "source": [
    "Before going further, verify whether there are any missing values left in the table."
   ]
  },
  {
   "cell_type": "code",
   "execution_count": 10,
   "id": "af818191",
   "metadata": {},
   "outputs": [
    {
     "data": {
      "text/plain": [
       "user_id    0\n",
       "track      0\n",
       "artist     0\n",
       "genre      0\n",
       "city       0\n",
       "time       0\n",
       "day        0\n",
       "dtype: int64"
      ]
     },
     "execution_count": 10,
     "metadata": {},
     "output_type": "execute_result"
    }
   ],
   "source": [
    "df.isna().sum()"
   ]
  },
  {
   "cell_type": "markdown",
   "id": "d20dfee9",
   "metadata": {},
   "source": [
    "### Duplicates"
   ]
  },
  {
   "cell_type": "markdown",
   "id": "1be9db51",
   "metadata": {},
   "source": [
    "Compute the number of explicit duplicates (in other words, fully identical DataFrame rows)."
   ]
  },
  {
   "cell_type": "code",
   "execution_count": 11,
   "id": "eb7cdd3c",
   "metadata": {},
   "outputs": [
    {
     "data": {
      "text/plain": [
       "3826"
      ]
     },
     "execution_count": 11,
     "metadata": {},
     "output_type": "execute_result"
    }
   ],
   "source": [
    "df.duplicated().sum()"
   ]
  },
  {
   "cell_type": "markdown",
   "id": "4151f6e5",
   "metadata": {},
   "source": [
    "We can easily get rid of such duplicates."
   ]
  },
  {
   "cell_type": "code",
   "execution_count": 12,
   "id": "8c176036",
   "metadata": {},
   "outputs": [],
   "source": [
    "df = df.drop_duplicates()"
   ]
  },
  {
   "cell_type": "markdown",
   "id": "4366cfb4",
   "metadata": {},
   "source": [
    "Compute the number of explicit duplicates again for verification purposes."
   ]
  },
  {
   "cell_type": "code",
   "execution_count": 13,
   "id": "45b0aeb4",
   "metadata": {},
   "outputs": [
    {
     "data": {
      "text/plain": [
       "0"
      ]
     },
     "execution_count": 13,
     "metadata": {},
     "output_type": "execute_result"
    }
   ],
   "source": [
    "df.duplicated().sum()"
   ]
  },
  {
   "cell_type": "markdown",
   "id": "e591110e",
   "metadata": {},
   "source": [
    "Now, we need to get rid of implicit duplicates. This can be the case, for instance, when the name of the same genre could have been written down in different ways. As a result, such mistakes can have an adverse impact upon results of the analysis.\n",
    "\n",
    "Let's start by displaying the unique genre names in the alphabetical order."
   ]
  },
  {
   "cell_type": "code",
   "execution_count": 14,
   "id": "87ce03d1",
   "metadata": {},
   "outputs": [
    {
     "name": "stdout",
     "output_type": "stream",
     "text": [
      "['acid' 'acoustic' 'action' 'adult' 'africa' 'afrikaans' 'alternative'\n",
      " 'alternativepunk' 'ambient' 'americana' 'animated' 'anime' 'arabesk'\n",
      " 'arabic' 'arena' 'argentinetango' 'art' 'audiobook' 'author' 'avantgarde'\n",
      " 'axé' 'baile' 'balkan' 'beats' 'bigroom' 'black' 'bluegrass' 'blues'\n",
      " 'bollywood' 'bossa' 'brazilian' 'breakbeat' 'breaks' 'broadway'\n",
      " 'cantautori' 'cantopop' 'canzone' 'caribbean' 'caucasian' 'celtic'\n",
      " 'chamber' 'chanson' 'children' 'chill' 'chinese' 'choral' 'christian'\n",
      " 'christmas' 'classical' 'classicmetal' 'club' 'colombian' 'comedy'\n",
      " 'conjazz' 'contemporary' 'country' 'cuban' 'dance' 'dancehall' 'dancepop'\n",
      " 'dark' 'death' 'deep' 'deutschrock' 'deutschspr' 'dirty' 'disco' 'dnb'\n",
      " 'documentary' 'downbeat' 'downtempo' 'drum' 'dub' 'dubstep' 'eastern'\n",
      " 'easy' 'electronic' 'electropop' 'emo' 'entehno' 'epicmetal' 'estrada'\n",
      " 'ethnic' 'eurofolk' 'european' 'experimental' 'extrememetal' 'fado'\n",
      " 'fairytail' 'film' 'fitness' 'flamenco' 'folk' 'folklore' 'folkmetal'\n",
      " 'folkrock' 'folktronica' 'forró' 'frankreich' 'französisch' 'french'\n",
      " 'funk' 'future' 'gangsta' 'garage' 'german' 'ghazal' 'gitarre' 'glitch'\n",
      " 'gospel' 'gothic' 'grime' 'grunge' 'gypsy' 'handsup' \"hard'n'heavy\"\n",
      " 'hardcore' 'hardstyle' 'hardtechno' 'hip' 'hip-hop' 'hiphop' 'historisch'\n",
      " 'holiday' 'hop' 'horror' 'house' 'hymn' 'idm' 'independent' 'indian'\n",
      " 'indie' 'indipop' 'industrial' 'inspirational' 'instrumental'\n",
      " 'international' 'irish' 'jam' 'japanese' 'jazz' 'jewish' 'jpop' 'jungle'\n",
      " 'k-pop' 'karadeniz' 'karaoke' 'kayokyoku' 'korean' 'laiko' 'latin'\n",
      " 'latino' 'leftfield' 'local' 'lounge' 'loungeelectronic' 'lovers'\n",
      " 'malaysian' 'mandopop' 'marschmusik' 'meditative' 'mediterranean'\n",
      " 'melodic' 'metal' 'metalcore' 'mexican' 'middle' 'minimal'\n",
      " 'miscellaneous' 'modern' 'mood' 'mpb' 'muslim' 'native' 'neoklassik'\n",
      " 'neue' 'new' 'newage' 'newwave' 'nu' 'nujazz' 'numetal' 'oceania' 'old'\n",
      " 'opera' 'orchestral' 'other' 'piano' 'podcasts' 'pop' 'popdance'\n",
      " 'popelectronic' 'popeurodance' 'poprussian' 'post' 'posthardcore'\n",
      " 'postrock' 'power' 'progmetal' 'progressive' 'psychedelic' 'punjabi'\n",
      " 'punk' 'quebecois' 'ragga' 'ram' 'rancheras' 'rap' 'rave' 'reggae'\n",
      " 'reggaeton' 'regional' 'relax' 'religious' 'retro' 'rhythm' 'rnb' 'rnr'\n",
      " 'rock' 'rockabilly' 'rockalternative' 'rockindie' 'rockother' 'romance'\n",
      " 'roots' 'ruspop' 'rusrap' 'rusrock' 'russian' 'salsa' 'samba' 'scenic'\n",
      " 'schlager' 'self' 'sertanejo' 'shanson' 'shoegazing' 'showtunes' 'singer'\n",
      " 'ska' 'skarock' 'slow' 'smooth' 'soft' 'soul' 'soulful' 'sound'\n",
      " 'soundtrack' 'southern' 'specialty' 'speech' 'spiritual' 'sport'\n",
      " 'stonerrock' 'surf' 'swing' 'synthpop' 'synthrock' 'sängerportrait'\n",
      " 'tango' 'tanzorchester' 'taraftar' 'tatar' 'tech' 'techno' 'teen'\n",
      " 'thrash' 'top' 'traditional' 'tradjazz' 'trance' 'tribal' 'trip'\n",
      " 'triphop' 'tropical' 'türk' 'türkçe' 'ukrrock' 'unknown' 'urban' 'uzbek'\n",
      " 'variété' 'vi' 'videogame' 'vocal' 'western' 'world' 'worldbeat' 'ïîï'\n",
      " 'электроника']\n"
     ]
    }
   ],
   "source": [
    "print(df[\"genre\"].sort_values().unique())"
   ]
  },
  {
   "cell_type": "markdown",
   "id": "2e031eb0",
   "metadata": {},
   "source": [
    "By skimming through the names of genres, it can be seen that we have the following implicit duplicates:\n",
    "\n",
    "* `hip`\n",
    "* `hop`\n",
    "* `hip-hop`\n",
    "\n",
    "We need to get rid of such duplicates by replacing the duplicated names with one common name `hiphop`:"
   ]
  },
  {
   "cell_type": "code",
   "execution_count": 15,
   "id": "06283c28",
   "metadata": {},
   "outputs": [],
   "source": [
    "df[\"genre\"] = df[\"genre\"].replace([\"hip\", \"hop\", \"hip-hop\"], \"hiphop\")"
   ]
  },
  {
   "cell_type": "markdown",
   "id": "a4a38126",
   "metadata": {},
   "source": [
    "Verify whether we correctly got rid of duplicates."
   ]
  },
  {
   "cell_type": "code",
   "execution_count": 16,
   "id": "fbf55ba5",
   "metadata": {},
   "outputs": [
    {
     "name": "stdout",
     "output_type": "stream",
     "text": [
      "['acid' 'acoustic' 'action' 'adult' 'africa' 'afrikaans' 'alternative'\n",
      " 'alternativepunk' 'ambient' 'americana' 'animated' 'anime' 'arabesk'\n",
      " 'arabic' 'arena' 'argentinetango' 'art' 'audiobook' 'author' 'avantgarde'\n",
      " 'axé' 'baile' 'balkan' 'beats' 'bigroom' 'black' 'bluegrass' 'blues'\n",
      " 'bollywood' 'bossa' 'brazilian' 'breakbeat' 'breaks' 'broadway'\n",
      " 'cantautori' 'cantopop' 'canzone' 'caribbean' 'caucasian' 'celtic'\n",
      " 'chamber' 'chanson' 'children' 'chill' 'chinese' 'choral' 'christian'\n",
      " 'christmas' 'classical' 'classicmetal' 'club' 'colombian' 'comedy'\n",
      " 'conjazz' 'contemporary' 'country' 'cuban' 'dance' 'dancehall' 'dancepop'\n",
      " 'dark' 'death' 'deep' 'deutschrock' 'deutschspr' 'dirty' 'disco' 'dnb'\n",
      " 'documentary' 'downbeat' 'downtempo' 'drum' 'dub' 'dubstep' 'eastern'\n",
      " 'easy' 'electronic' 'electropop' 'emo' 'entehno' 'epicmetal' 'estrada'\n",
      " 'ethnic' 'eurofolk' 'european' 'experimental' 'extrememetal' 'fado'\n",
      " 'fairytail' 'film' 'fitness' 'flamenco' 'folk' 'folklore' 'folkmetal'\n",
      " 'folkrock' 'folktronica' 'forró' 'frankreich' 'französisch' 'french'\n",
      " 'funk' 'future' 'gangsta' 'garage' 'german' 'ghazal' 'gitarre' 'glitch'\n",
      " 'gospel' 'gothic' 'grime' 'grunge' 'gypsy' 'handsup' \"hard'n'heavy\"\n",
      " 'hardcore' 'hardstyle' 'hardtechno' 'hiphop' 'historisch' 'holiday'\n",
      " 'horror' 'house' 'hymn' 'idm' 'independent' 'indian' 'indie' 'indipop'\n",
      " 'industrial' 'inspirational' 'instrumental' 'international' 'irish' 'jam'\n",
      " 'japanese' 'jazz' 'jewish' 'jpop' 'jungle' 'k-pop' 'karadeniz' 'karaoke'\n",
      " 'kayokyoku' 'korean' 'laiko' 'latin' 'latino' 'leftfield' 'local'\n",
      " 'lounge' 'loungeelectronic' 'lovers' 'malaysian' 'mandopop' 'marschmusik'\n",
      " 'meditative' 'mediterranean' 'melodic' 'metal' 'metalcore' 'mexican'\n",
      " 'middle' 'minimal' 'miscellaneous' 'modern' 'mood' 'mpb' 'muslim'\n",
      " 'native' 'neoklassik' 'neue' 'new' 'newage' 'newwave' 'nu' 'nujazz'\n",
      " 'numetal' 'oceania' 'old' 'opera' 'orchestral' 'other' 'piano' 'podcasts'\n",
      " 'pop' 'popdance' 'popelectronic' 'popeurodance' 'poprussian' 'post'\n",
      " 'posthardcore' 'postrock' 'power' 'progmetal' 'progressive' 'psychedelic'\n",
      " 'punjabi' 'punk' 'quebecois' 'ragga' 'ram' 'rancheras' 'rap' 'rave'\n",
      " 'reggae' 'reggaeton' 'regional' 'relax' 'religious' 'retro' 'rhythm'\n",
      " 'rnb' 'rnr' 'rock' 'rockabilly' 'rockalternative' 'rockindie' 'rockother'\n",
      " 'romance' 'roots' 'ruspop' 'rusrap' 'rusrock' 'russian' 'salsa' 'samba'\n",
      " 'scenic' 'schlager' 'self' 'sertanejo' 'shanson' 'shoegazing' 'showtunes'\n",
      " 'singer' 'ska' 'skarock' 'slow' 'smooth' 'soft' 'soul' 'soulful' 'sound'\n",
      " 'soundtrack' 'southern' 'specialty' 'speech' 'spiritual' 'sport'\n",
      " 'stonerrock' 'surf' 'swing' 'synthpop' 'synthrock' 'sängerportrait'\n",
      " 'tango' 'tanzorchester' 'taraftar' 'tatar' 'tech' 'techno' 'teen'\n",
      " 'thrash' 'top' 'traditional' 'tradjazz' 'trance' 'tribal' 'trip'\n",
      " 'triphop' 'tropical' 'türk' 'türkçe' 'ukrrock' 'unknown' 'urban' 'uzbek'\n",
      " 'variété' 'vi' 'videogame' 'vocal' 'western' 'world' 'worldbeat' 'ïîï'\n",
      " 'электроника']\n"
     ]
    }
   ],
   "source": [
    "print(df[\"genre\"].sort_values().unique())"
   ]
  },
  {
   "cell_type": "markdown",
   "id": "62d6334f",
   "metadata": {},
   "source": [
    "### Data cleaning results"
   ]
  },
  {
   "cell_type": "markdown",
   "id": "341252c3",
   "metadata": {},
   "source": [
    "Lastly, let's print a concise summary of the DataFrame again to make sure that we have correctly conducted data cleaning."
   ]
  },
  {
   "cell_type": "code",
   "execution_count": 17,
   "id": "f75f2303",
   "metadata": {},
   "outputs": [
    {
     "name": "stdout",
     "output_type": "stream",
     "text": [
      "<class 'pandas.core.frame.DataFrame'>\n",
      "Int64Index: 61253 entries, 0 to 65078\n",
      "Data columns (total 7 columns):\n",
      " #   Column   Non-Null Count  Dtype \n",
      "---  ------   --------------  ----- \n",
      " 0   user_id  61253 non-null  object\n",
      " 1   track    61253 non-null  object\n",
      " 2   artist   61253 non-null  object\n",
      " 3   genre    61253 non-null  object\n",
      " 4   city     61253 non-null  object\n",
      " 5   time     61253 non-null  object\n",
      " 6   day      61253 non-null  object\n",
      "dtypes: object(7)\n",
      "memory usage: 3.7+ MB\n"
     ]
    }
   ],
   "source": [
    "df.info()"
   ]
  },
  {
   "cell_type": "markdown",
   "id": "8ff51b6e",
   "metadata": {},
   "source": [
    "**Conclusion**\n",
    "\n",
    "Data preprocessing has identified 3 problems in data:\n",
    "\n",
    "* Inadequate headers style;\n",
    "* Missing values;\n",
    "* Duplicates - explicit and implicit.\n",
    "\n",
    "We have managed to simplify working with the DataFrame, thanks to which the results of the data analysis will be more accurate. The missing values in `genre` column have been replaced with `'unknown'` but there is still work to do to understand whether this will affect the results. \n",
    "\n",
    "Now, we can get to testing the main hypotheses."
   ]
  },
  {
   "cell_type": "markdown",
   "id": "7de1cf24",
   "metadata": {},
   "source": [
    "## Hypotheses testing"
   ]
  },
  {
   "cell_type": "markdown",
   "id": "6ab2d599",
   "metadata": {},
   "source": [
    "### H1: Do people really listen to music differently in different cities?"
   ]
  },
  {
   "cell_type": "markdown",
   "id": "3eccd6fa",
   "metadata": {},
   "source": [
    "The first hypothesis states that users listen to music differently in Moscow and Saint-Petersburg. We can test this hypothesis by making use of data on three weekdays: Monday, Wednesday and Friday. In order to accomplish that we need to:\n",
    "\n",
    "* Divide users into two groups: Moscow users and Saint-Peterburg users;\n",
    "* Compare the number of tracks listened to by each user group on each available weekday: Monday, Wednesday and Friday."
   ]
  },
  {
   "cell_type": "markdown",
   "id": "56f26847",
   "metadata": {},
   "source": [
    "To better understand the behavior of each user group, let's first estimate the activity of users in each city."
   ]
  },
  {
   "cell_type": "code",
   "execution_count": 18,
   "id": "eb6cfa80",
   "metadata": {},
   "outputs": [
    {
     "data": {
      "text/plain": [
       "city\n",
       "Moscow              42741\n",
       "Saint-Petersburg    18512\n",
       "Name: user_id, dtype: int64"
      ]
     },
     "execution_count": 18,
     "metadata": {},
     "output_type": "execute_result"
    }
   ],
   "source": [
    "df.groupby(\"city\")[\"user_id\"].count()"
   ]
  },
  {
   "cell_type": "markdown",
   "id": "5c8fe5ad",
   "metadata": {},
   "source": [
    "There are more track plays in Moscow than in Saint-Petersburg. However, it does not necessarily mean that Moscow users listen to music more often: there are just more users in Moscow."
   ]
  },
  {
   "cell_type": "markdown",
   "id": "aa12f543",
   "metadata": {},
   "source": [
    "Now, let's group data by weekday and compute numbers of track plays on Monday, Wednesday and Friday (the data contains information about track plays on these days only)."
   ]
  },
  {
   "cell_type": "code",
   "execution_count": 19,
   "id": "3253721d",
   "metadata": {},
   "outputs": [
    {
     "data": {
      "text/plain": [
       "day\n",
       "Friday       21840\n",
       "Monday       21354\n",
       "Wednesday    18059\n",
       "Name: user_id, dtype: int64"
      ]
     },
     "execution_count": 19,
     "metadata": {},
     "output_type": "execute_result"
    }
   ],
   "source": [
    "df.groupby(\"day\")[\"user_id\"].count()"
   ]
  },
  {
   "cell_type": "markdown",
   "id": "54825b49",
   "metadata": {},
   "source": [
    "On average, users from two cities are less active on Wednesday, but the results can change once we examine each city separately."
   ]
  },
  {
   "cell_type": "markdown",
   "id": "ee7a6b4a",
   "metadata": {},
   "source": [
    "In order to be able to distinguish between different cities and weekdays, let's create a function that will combine the above calculations so that we could understand how often users from these two cities listen to music.\n",
    "\n",
    "The function `number_tracks()` will take two parameters:\n",
    "\n",
    "* `day` - day of the week;\n",
    "* `city` - name of the city.\n",
    "\n",
    "It will return the number of tracks played by users in a particular city and on a particular day."
   ]
  },
  {
   "cell_type": "code",
   "execution_count": 20,
   "id": "195010f2",
   "metadata": {},
   "outputs": [],
   "source": [
    "def number_tracks(day: str, city: str, data: pd.DataFrame = df) -> int:\n",
    "    \"\"\"Compute the number of track plays for given weekday and city.\n",
    "\n",
    "    Arguments:\n",
    "    day (str) -- day of the week\n",
    "    city (str) -- name of the city\n",
    "\n",
    "    Keyword arguments:\n",
    "    data (pd.DataFrame) -- DataFrame with musical preferences (default df)\n",
    "    \"\"\"\n",
    "    track_list = data[data[\"day\"] == day]\n",
    "    track_list = track_list[track_list[\"city\"] == city]\n",
    "\n",
    "    track_list_count = track_list[\"user_id\"].count()\n",
    "\n",
    "    return track_list_count"
   ]
  },
  {
   "cell_type": "markdown",
   "id": "f1dff284",
   "metadata": {},
   "source": [
    "Now, we can sequentially call `number_tracks()` function for each city and each weekday in order to obtain the information needed."
   ]
  },
  {
   "cell_type": "code",
   "execution_count": 21,
   "id": "638cbeee",
   "metadata": {},
   "outputs": [],
   "source": [
    "cities = [\"Moscow\", \"Saint-Petersburg\"]\n",
    "days = [\"Monday\", \"Wednesday\", \"Friday\"]\n",
    "num_track_plays = [[], []]\n",
    "for i in range(0, len(cities)):\n",
    "    for j in range(0, len(days)):\n",
    "        num_track_plays[i].append(number_tracks(day=days[j], city=cities[i]))"
   ]
  },
  {
   "cell_type": "markdown",
   "id": "ee443d08",
   "metadata": {},
   "source": [
    "The resulting nested list contains the number of track plays in Moscow on each weekday in the first inner list, while the second one - the number of track plays in Saint-Petersburg on each weekday."
   ]
  },
  {
   "cell_type": "markdown",
   "id": "e34a4be5",
   "metadata": {},
   "source": [
    "Now, we can create a DataFrame for convenient results representation:"
   ]
  },
  {
   "cell_type": "code",
   "execution_count": 22,
   "id": "f8fee3d5",
   "metadata": {},
   "outputs": [
    {
     "data": {
      "text/html": [
       "<div>\n",
       "<style scoped>\n",
       "    .dataframe tbody tr th:only-of-type {\n",
       "        vertical-align: middle;\n",
       "    }\n",
       "\n",
       "    .dataframe tbody tr th {\n",
       "        vertical-align: top;\n",
       "    }\n",
       "\n",
       "    .dataframe thead th {\n",
       "        text-align: right;\n",
       "    }\n",
       "</style>\n",
       "<table border=\"1\" class=\"dataframe\">\n",
       "  <thead>\n",
       "    <tr style=\"text-align: right;\">\n",
       "      <th></th>\n",
       "      <th>Monday</th>\n",
       "      <th>Wednesday</th>\n",
       "      <th>Friday</th>\n",
       "    </tr>\n",
       "  </thead>\n",
       "  <tbody>\n",
       "    <tr>\n",
       "      <th>Moscow</th>\n",
       "      <td>15740</td>\n",
       "      <td>11056</td>\n",
       "      <td>15945</td>\n",
       "    </tr>\n",
       "    <tr>\n",
       "      <th>Saint-Petersburg</th>\n",
       "      <td>5614</td>\n",
       "      <td>7003</td>\n",
       "      <td>5895</td>\n",
       "    </tr>\n",
       "  </tbody>\n",
       "</table>\n",
       "</div>"
      ],
      "text/plain": [
       "                  Monday  Wednesday  Friday\n",
       "Moscow             15740      11056   15945\n",
       "Saint-Petersburg    5614       7003    5895"
      ]
     },
     "execution_count": 22,
     "metadata": {},
     "output_type": "execute_result"
    }
   ],
   "source": [
    "info = pd.DataFrame(data=num_track_plays, columns=days, index=cities)\n",
    "info"
   ]
  },
  {
   "cell_type": "markdown",
   "id": "a9c0633f",
   "metadata": {},
   "source": [
    "**Conlusion (Hypothesis 1)**\n",
    "\n",
    "Data shows difference in user behavior:\n",
    "\n",
    "* Number of track plays in Moscow peaks on Monday and Friday, while it declines on Wednesday;\n",
    "* In Saint-Petersburg, conversely, users listen to music more frequently on Wednesday.\n",
    "\n",
    "Thus, the data confirms the first hypothesis: users from Moscow and Saint-Petersburg indeed listen to music differently."
   ]
  },
  {
   "cell_type": "markdown",
   "id": "757708e3",
   "metadata": {},
   "source": [
    "### H2: Monday morning and Friday evening - different music or the same?"
   ]
  },
  {
   "cell_type": "markdown",
   "id": "b599f4f8",
   "metadata": {},
   "source": [
    "According to the second hypothesis, users in Moscow and Saint-Petersburg differ in their music genre preferences on Monday morning. Likewise, genres differ on Friday evening as well - depending on the city."
   ]
  },
  {
   "cell_type": "markdown",
   "id": "245d2b2d",
   "metadata": {},
   "source": [
    "Let's create two variables and let them store two DataFrames, where each one will contain information about a specific city."
   ]
  },
  {
   "cell_type": "code",
   "execution_count": 23,
   "id": "c259be57",
   "metadata": {},
   "outputs": [],
   "source": [
    "moscow_general = df[df[\"city\"] == \"Moscow\"]\n",
    "spb_general = df[df[\"city\"] == \"Saint-Petersburg\"]"
   ]
  },
  {
   "cell_type": "markdown",
   "id": "2d301447",
   "metadata": {},
   "source": [
    "Now, in order to test the hypothesis, we need to define a function called `genre_weekday()` with four parameters:\n",
    "\n",
    "* `df` - DataFrame with data;\n",
    "* `day` - day of the week;\n",
    "* `time1` - initial time stamp in 'hh:mm' format;\n",
    "* `time2` - last time stamp in 'hh:mm' format.\n",
    "\n",
    "The function will return information about top-10 genres of tracks played on a particular day between two time points."
   ]
  },
  {
   "cell_type": "code",
   "execution_count": 24,
   "id": "9e83b6b4",
   "metadata": {},
   "outputs": [],
   "source": [
    "def genre_weekday(data: pd.DataFrame, day: str, time1: str, time2: str) -> pd.Series:\n",
    "    \"\"\"Return information about top-10 most popular genres on a given day at a given time.\n",
    "\n",
    "    Arguments:\n",
    "    data (pd.DataFrame) -- DataFrame with musical preferences\n",
    "    day (str) -- day of the week\n",
    "    time1 (str) -- start of time period [hh:mm]\n",
    "    time2 (str) -- end of time period [hh:mm]\n",
    "    \"\"\"\n",
    "    genre_df = data[data[\"day\"] == day]\n",
    "    genre_df = genre_df[(genre_df[\"time\"] > time1) & (genre_df[\"time\"] < time2)]\n",
    "\n",
    "    # Compiling a rating of the most popular genres\n",
    "    genre_df_sorted = (\n",
    "        genre_df.groupby(\"genre\")[\"genre\"].count().sort_values(ascending=False)\n",
    "    )\n",
    "\n",
    "    return genre_df_sorted[:10]"
   ]
  },
  {
   "cell_type": "code",
   "execution_count": 25,
   "id": "083a7419",
   "metadata": {},
   "outputs": [
    {
     "data": {
      "text/plain": [
       "genre\n",
       "pop            781\n",
       "dance          549\n",
       "electronic     480\n",
       "rock           474\n",
       "hiphop         286\n",
       "ruspop         186\n",
       "world          181\n",
       "rusrap         175\n",
       "alternative    164\n",
       "unknown        161\n",
       "Name: genre, dtype: int64"
      ]
     },
     "execution_count": 25,
     "metadata": {},
     "output_type": "execute_result"
    }
   ],
   "source": [
    "# Computing the number of track plays in Moscow on Monday morning\n",
    "genre_weekday(data=moscow_general, day=\"Monday\", time1=\"07:00\", time2=\"11:00\")"
   ]
  },
  {
   "cell_type": "code",
   "execution_count": 26,
   "id": "677cb534",
   "metadata": {},
   "outputs": [
    {
     "data": {
      "text/plain": [
       "genre\n",
       "pop            218\n",
       "dance          182\n",
       "rock           162\n",
       "electronic     147\n",
       "hiphop          80\n",
       "ruspop          64\n",
       "alternative     58\n",
       "rusrap          55\n",
       "jazz            44\n",
       "classical       40\n",
       "Name: genre, dtype: int64"
      ]
     },
     "execution_count": 26,
     "metadata": {},
     "output_type": "execute_result"
    }
   ],
   "source": [
    "# Computing the number of track plays in Saint-Petersburg on Monday morning\n",
    "genre_weekday(data=spb_general, day=\"Monday\", time1=\"07:00\", time2=\"11:00\")"
   ]
  },
  {
   "cell_type": "code",
   "execution_count": 27,
   "id": "bff39527",
   "metadata": {},
   "outputs": [
    {
     "data": {
      "text/plain": [
       "genre\n",
       "pop            713\n",
       "rock           517\n",
       "dance          495\n",
       "electronic     482\n",
       "hiphop         273\n",
       "world          208\n",
       "ruspop         170\n",
       "alternative    163\n",
       "classical      163\n",
       "rusrap         142\n",
       "Name: genre, dtype: int64"
      ]
     },
     "execution_count": 27,
     "metadata": {},
     "output_type": "execute_result"
    }
   ],
   "source": [
    "# Computing the number of track plays in Moscow on Friday evening\n",
    "genre_weekday(data=moscow_general, day=\"Friday\", time1=\"17:00\", time2=\"23:00\")"
   ]
  },
  {
   "cell_type": "code",
   "execution_count": 28,
   "id": "beae53b6",
   "metadata": {},
   "outputs": [
    {
     "data": {
      "text/plain": [
       "genre\n",
       "pop            256\n",
       "electronic     216\n",
       "rock           216\n",
       "dance          210\n",
       "hiphop          97\n",
       "alternative     63\n",
       "jazz            61\n",
       "classical       60\n",
       "rusrap          59\n",
       "world           54\n",
       "Name: genre, dtype: int64"
      ]
     },
     "execution_count": 28,
     "metadata": {},
     "output_type": "execute_result"
    }
   ],
   "source": [
    "# Computing the number of track plays in Saint-Petersburg on Friday evening\n",
    "genre_weekday(data=spb_general, day=\"Friday\", time1=\"17:00\", time2=\"23:00\")"
   ]
  },
  {
   "cell_type": "markdown",
   "id": "20c4ad30",
   "metadata": {},
   "source": [
    "**Conclusion (Hypothesis 2)**\n",
    "\n",
    "By comparing the top-10 genres on Monday morning, the following conclusion can be drawn:\n",
    "\n",
    "* Users in Moscow and Saint-Petersburg listen to similar music. The only difference is that Moscow rating includes `world` genre, while that for Saint-Petersburg includes `jazz` and `classical` music genres.\n",
    "* In Moscow there are so many missing values that `unknown` genre took the 10th place in the rating of the most popular genres. Hence, missing values account for a substantial fraction of data and are highly likely to affect the results. \n",
    "* Friday evening does not change the results: some genres ascend and descend across the top-10 rating but in general rating stays the same. \n",
    "\n",
    "Thus, the second hypothesis has been partially confirmed:\n",
    "\n",
    "* Users listen to similar music at the beginning and the end of the week. \n",
    "* We were not able to detect a distinct difference between Moscow and Saint-Petersburg. Users in Moscow often listen to the russian popular music (`ruspop`), while users in Saint-Peterburg - jazz (`jazz`). \n",
    "\n",
    "However, missing values do not allow accurately confirming the above results. Moscow data has so many of them that it is likely that the top-10 rating could have looked differently should we have had all information."
   ]
  },
  {
   "cell_type": "markdown",
   "id": "87373774",
   "metadata": {},
   "source": [
    "### H3: Moscow and Saint-Petersburg - two different capitals with different music preferences?"
   ]
  },
  {
   "cell_type": "markdown",
   "id": "2e15f5c2",
   "metadata": {},
   "source": [
    "The third hypothesis states that Saint-Petersburg is a city where `rusrap` genre prevails, while Moscow is popular with `pop`."
   ]
  },
  {
   "cell_type": "markdown",
   "id": "91d3e7fc",
   "metadata": {},
   "source": [
    "We can start by grouping the table by genre and counting the number of tracks played in Moscow."
   ]
  },
  {
   "cell_type": "code",
   "execution_count": 29,
   "id": "2dc05240",
   "metadata": {},
   "outputs": [
    {
     "data": {
      "text/plain": [
       "genre\n",
       "pop            5892\n",
       "dance          4435\n",
       "rock           3965\n",
       "electronic     3786\n",
       "hiphop         2096\n",
       "classical      1616\n",
       "world          1432\n",
       "alternative    1379\n",
       "ruspop         1372\n",
       "rusrap         1161\n",
       "Name: genre, dtype: int64"
      ]
     },
     "execution_count": 29,
     "metadata": {},
     "output_type": "execute_result"
    }
   ],
   "source": [
    "moscow_general.groupby(\"genre\")[\"genre\"].count().sort_values(ascending=False).head(10)"
   ]
  },
  {
   "cell_type": "markdown",
   "id": "7d669f1f",
   "metadata": {},
   "source": [
    "We can do the same exercise for Saint-Peterburg."
   ]
  },
  {
   "cell_type": "code",
   "execution_count": 30,
   "id": "e263650a",
   "metadata": {},
   "outputs": [
    {
     "data": {
      "text/plain": [
       "genre\n",
       "pop            2431\n",
       "dance          1932\n",
       "rock           1879\n",
       "electronic     1736\n",
       "hiphop          960\n",
       "alternative     649\n",
       "classical       646\n",
       "rusrap          564\n",
       "ruspop          538\n",
       "world           515\n",
       "Name: genre, dtype: int64"
      ]
     },
     "execution_count": 30,
     "metadata": {},
     "output_type": "execute_result"
    }
   ],
   "source": [
    "spb_general.groupby(\"genre\")[\"genre\"].count().sort_values(ascending=False).head(10)"
   ]
  },
  {
   "cell_type": "markdown",
   "id": "7a76f829",
   "metadata": {},
   "source": [
    "**Conclusion (Hypothesis 3)**\n",
    "\n",
    "The third hypothesis has been partially confirmed:\n",
    "\n",
    "* Pop-music (`pop`) is the most popular genre in Moscow as the hypothesis stipulated. Besides, top-10 genres also include a closer music genre - russian pop music (`ruspop`).\n",
    "* Contrary to expectations, `rusrap` is as popular in Moscow as it is in Saint-Petersburg."
   ]
  },
  {
   "cell_type": "markdown",
   "id": "13687548",
   "metadata": {},
   "source": [
    "## General results"
   ]
  },
  {
   "cell_type": "markdown",
   "id": "30632fa0",
   "metadata": {},
   "source": [
    "We have managed to test the following working hypotheses:\n",
    "\n",
    "* There are differences in musical preferences in Moscow and Saint-Petersburg;\n",
    "* Top-10 rating of popular genres on Monday morning and Friday evening can be characterized by distinct differences;\n",
    "* Population of two cities prefers different music genres.\n",
    "\n",
    "**Key takeaways**\n",
    "\n",
    "Moscow and Saint-Petersburg are similar in musical tastes: pop music is preferred everywhere. Additionally, it is not contingent upon weekday: people always listen to what they like. However, comparing by weekday, Moscow users listen to music more on Monday and Friday than Wednesday, while in Saint-Peterburg the reverse takes place: users play tracks more frequently on Wednesday relative to Monday and Friday.\n",
    "\n",
    "Thus, the first hypothesis has been confirmed and the other two - partially confirmed."
   ]
  }
 ],
 "metadata": {
  "kernelspec": {
   "display_name": "Python 3 (ipykernel)",
   "language": "python",
   "name": "python3"
  },
  "language_info": {
   "codemirror_mode": {
    "name": "ipython",
    "version": 3
   },
   "file_extension": ".py",
   "mimetype": "text/x-python",
   "name": "python",
   "nbconvert_exporter": "python",
   "pygments_lexer": "ipython3",
   "version": "3.9.13"
  },
  "toc": {
   "base_numbering": 1,
   "nav_menu": {
    "height": "203px",
    "width": "394px"
   },
   "number_sections": true,
   "sideBar": true,
   "skip_h1_title": true,
   "title_cell": "Table of Contents",
   "title_sidebar": "Contents",
   "toc_cell": true,
   "toc_position": {},
   "toc_section_display": true,
   "toc_window_display": false
  }
 },
 "nbformat": 4,
 "nbformat_minor": 5
}
