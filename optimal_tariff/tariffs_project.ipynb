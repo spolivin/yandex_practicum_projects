{
 "cells": [
  {
   "cell_type": "markdown",
   "id": "d852e9a7-fb19-4398-8949-28ab5dea2ad5",
   "metadata": {},
   "source": [
    "## Exploring data"
   ]
  },
  {
   "cell_type": "markdown",
   "id": "57ae4b1d-815c-439b-a897-4cdc20095e91",
   "metadata": {},
   "source": [
    "The first step before actually delving into the data is to import all relevant modules that will be needed for conducting further data analysis."
   ]
  },
  {
   "cell_type": "code",
   "execution_count": 1,
   "id": "9112a3ab-b4f8-416b-bf8d-01d1a4b2fbb3",
   "metadata": {},
   "outputs": [],
   "source": [
    "import numpy as np\n",
    "import pandas as pd\n",
    "import matplotlib.pyplot as plt\n",
    "import seaborn as sns\n",
    "from scipy import stats as st"
   ]
  },
  {
   "cell_type": "markdown",
   "id": "0e863a96-8ba6-4658-bba8-e6c8ba3f46dd",
   "metadata": {},
   "source": [
    "Now, we can get to exploring the data that we currently have. Basically, the data to be subsequently used is contained in the following five csv-files:\n",
    "\n",
    "* `calls.csv` => data on users' calls;\n",
    "* `internet.csv` => data on users' internet-sessions;\n",
    "* `messages.csv` => data on users' messages;\n",
    "* `tariffs.csv` => data on tariffs available; \n",
    "* `users.csv` => data on company's users. "
   ]
  },
  {
   "cell_type": "markdown",
   "id": "1d0f6a85-5b89-440c-aba0-04dd911081b5",
   "metadata": {},
   "source": [
    "Consider each of the aforementioned datasets in detail."
   ]
  },
  {
   "cell_type": "markdown",
   "id": "35a4a825-58d9-4346-ab62-afadc193372d",
   "metadata": {},
   "source": [
    "### Calls"
   ]
  },
  {
   "cell_type": "markdown",
   "id": "f5128a74-18bb-4e47-966a-af85d48c5e92",
   "metadata": {},
   "source": [
    "Firstly, let's deal with data on calls made by users which is given in `calls.csv`. Read this dataset into a DataFrame `calls`."
   ]
  },
  {
   "cell_type": "code",
   "execution_count": 2,
   "id": "9952b873-3581-4d18-a6e9-54dc2259f9cd",
   "metadata": {},
   "outputs": [],
   "source": [
    "calls = pd.read_csv(\"calls.csv\")"
   ]
  },
  {
   "cell_type": "markdown",
   "id": "980b7b4d-bd2b-49c8-a0c3-63713a213848",
   "metadata": {},
   "source": [
    "It can be noticed in the datasets to be considered that columns called `Unnamed: 0` or `Unnamed: 0.1` are present. This is the result of uploading data by specifying the index (`df.to_csv(..., index=column)`). These columns are not needed in the analysis and therefore can be freely deleted. Hence, we can print the first five rows of the DataFrame while deleting unnecessary columns."
   ]
  },
  {
   "cell_type": "code",
   "execution_count": 3,
   "id": "d718e62a-883b-4648-b4c2-81bed5271358",
   "metadata": {},
   "outputs": [
    {
     "data": {
      "text/html": [
       "<div>\n",
       "<style scoped>\n",
       "    .dataframe tbody tr th:only-of-type {\n",
       "        vertical-align: middle;\n",
       "    }\n",
       "\n",
       "    .dataframe tbody tr th {\n",
       "        vertical-align: top;\n",
       "    }\n",
       "\n",
       "    .dataframe thead th {\n",
       "        text-align: right;\n",
       "    }\n",
       "</style>\n",
       "<table border=\"1\" class=\"dataframe\">\n",
       "  <thead>\n",
       "    <tr style=\"text-align: right;\">\n",
       "      <th></th>\n",
       "      <th>id</th>\n",
       "      <th>call_date</th>\n",
       "      <th>duration</th>\n",
       "      <th>user_id</th>\n",
       "    </tr>\n",
       "  </thead>\n",
       "  <tbody>\n",
       "    <tr>\n",
       "      <th>0</th>\n",
       "      <td>1000_0</td>\n",
       "      <td>2018-07-25</td>\n",
       "      <td>0.00</td>\n",
       "      <td>1000</td>\n",
       "    </tr>\n",
       "    <tr>\n",
       "      <th>1</th>\n",
       "      <td>1000_1</td>\n",
       "      <td>2018-08-17</td>\n",
       "      <td>0.00</td>\n",
       "      <td>1000</td>\n",
       "    </tr>\n",
       "    <tr>\n",
       "      <th>2</th>\n",
       "      <td>1000_2</td>\n",
       "      <td>2018-06-11</td>\n",
       "      <td>2.85</td>\n",
       "      <td>1000</td>\n",
       "    </tr>\n",
       "    <tr>\n",
       "      <th>3</th>\n",
       "      <td>1000_3</td>\n",
       "      <td>2018-09-21</td>\n",
       "      <td>13.80</td>\n",
       "      <td>1000</td>\n",
       "    </tr>\n",
       "    <tr>\n",
       "      <th>4</th>\n",
       "      <td>1000_4</td>\n",
       "      <td>2018-12-15</td>\n",
       "      <td>5.18</td>\n",
       "      <td>1000</td>\n",
       "    </tr>\n",
       "  </tbody>\n",
       "</table>\n",
       "</div>"
      ],
      "text/plain": [
       "       id   call_date  duration  user_id\n",
       "0  1000_0  2018-07-25      0.00     1000\n",
       "1  1000_1  2018-08-17      0.00     1000\n",
       "2  1000_2  2018-06-11      2.85     1000\n",
       "3  1000_3  2018-09-21     13.80     1000\n",
       "4  1000_4  2018-12-15      5.18     1000"
      ]
     },
     "execution_count": 3,
     "metadata": {},
     "output_type": "execute_result"
    }
   ],
   "source": [
    "calls = calls.drop([\"Unnamed: 0\"], axis=1)\n",
    "calls.head()"
   ]
  },
  {
   "cell_type": "markdown",
   "id": "969eb066-c3bb-4a99-8c36-2c4eb3b78e70",
   "metadata": {},
   "source": [
    "Next, consider a concise summary of this DataFrame by calling `info()` method."
   ]
  },
  {
   "cell_type": "code",
   "execution_count": 4,
   "id": "b78f43aa-e106-422f-8d32-f146d2029dcc",
   "metadata": {},
   "outputs": [
    {
     "name": "stdout",
     "output_type": "stream",
     "text": [
      "<class 'pandas.core.frame.DataFrame'>\n",
      "RangeIndex: 202607 entries, 0 to 202606\n",
      "Data columns (total 4 columns):\n",
      " #   Column     Non-Null Count   Dtype  \n",
      "---  ------     --------------   -----  \n",
      " 0   id         202607 non-null  object \n",
      " 1   call_date  202607 non-null  object \n",
      " 2   duration   202607 non-null  float64\n",
      " 3   user_id    202607 non-null  int64  \n",
      "dtypes: float64(1), int64(1), object(2)\n",
      "memory usage: 6.2+ MB\n"
     ]
    }
   ],
   "source": [
    "calls.info()"
   ]
  },
  {
   "attachments": {},
   "cell_type": "markdown",
   "id": "b7e49481-d5a1-476b-a62c-48478309bd72",
   "metadata": {},
   "source": [
    "We notice that this DataFrame has 4 columns which have different data types: `int64`, `float64` and `object`. There are the following columns:"
   ]
  },
  {
   "attachments": {},
   "cell_type": "markdown",
   "id": "93ccf50f",
   "metadata": {},
   "source": [
    "<table>\n",
    "<thead>\n",
    "<tr><th>Features</th><th>Description</th></tr>\n",
    "</thead>\n",
    "<tbody>\n",
    "<tr><td><code>id</code></td><td><i>Unique identification number of a call</i></td></tr>\n",
    "<tr><td><code>call_date</code></td><td><i>Date of a call</i></td></tr>\n",
    "<tr><td><code>duration</code></td><td><i>Duration of a call (minutes)</i></td></tr>\n",
    "<tr><td><code>user_id</code></td><td><i>Identifier of a user who made a call</i></td></tr>\n",
    "</tbody>\n",
    "</table>"
   ]
  },
  {
   "cell_type": "markdown",
   "id": "6535e491-c50d-45e5-af96-cb70fd6aee08",
   "metadata": {},
   "source": [
    "It can also be noticed that the number of non-null rows is equal to the total number of rows which means that we do not have any missing values."
   ]
  },
  {
   "cell_type": "markdown",
   "id": "4413a24e-dd82-4049-905d-2cec7534b0b4",
   "metadata": {},
   "source": [
    "Let's think about how the data on the duration of calls is distributed by printing its histogram."
   ]
  },
  {
   "cell_type": "code",
   "execution_count": 5,
   "id": "811f6da9-3095-410d-bc3e-51a7b032153f",
   "metadata": {},
   "outputs": [
    {
     "data": {
      "image/png": "[encoded data removed]",
      "text/plain": [
       "<Figure size 640x480 with 1 Axes>"
      ]
     },
     "metadata": {},
     "output_type": "display_data"
    }
   ],
   "source": [
    "# Plotting a histogram for 'duration' column\n",
    "calls.plot(\n",
    "    y=\"duration\",\n",
    "    kind=\"hist\",\n",
    "    edgecolor=\"k\",\n",
    "    color=\"dodgerblue\",\n",
    "    title=\"Duration of calls (minutes)\",\n",
    ")\n",
    "plt.show()"
   ]
  },
  {
   "cell_type": "markdown",
   "id": "5f974952-4269-4918-a5c9-030ffb5e14a0",
   "metadata": {},
   "source": [
    "We observe that the distribution of call duration is skewed in the positive direction, where there are a lot of calls that took place between 0 and 4 minutes."
   ]
  },
  {
   "cell_type": "markdown",
   "id": "2970037f-9cb4-4ac5-bde9-5fc2100e22f9",
   "metadata": {},
   "source": [
    "### Internet sessions"
   ]
  },
  {
   "cell_type": "markdown",
   "id": "47a6093a-1ae2-4f16-ae8e-0a2817bd2466",
   "metadata": {},
   "source": [
    "Next, do the exact same for all other remaining datasets. In this part, focus on the on internet sessions contained in `internet.csv`. Let's read it into `sessions` DataFrame."
   ]
  },
  {
   "cell_type": "code",
   "execution_count": 6,
   "id": "464dec1c-4ee8-4c80-a472-287a158566ca",
   "metadata": {},
   "outputs": [],
   "source": [
    "sessions = pd.read_csv(\"internet.csv\")"
   ]
  },
  {
   "cell_type": "markdown",
   "id": "d2fd1dc4-29e8-4208-b8ee-1089f5042474",
   "metadata": {},
   "source": [
    "Print the first five rows of the DataFrame to get the idea of what it looks like."
   ]
  },
  {
   "cell_type": "code",
   "execution_count": 7,
   "id": "9a8f2bec-da9f-4f56-95a1-907db15650e0",
   "metadata": {},
   "outputs": [
    {
     "data": {
      "text/html": [
       "<div>\n",
       "<style scoped>\n",
       "    .dataframe tbody tr th:only-of-type {\n",
       "        vertical-align: middle;\n",
       "    }\n",
       "\n",
       "    .dataframe tbody tr th {\n",
       "        vertical-align: top;\n",
       "    }\n",
       "\n",
       "    .dataframe thead th {\n",
       "        text-align: right;\n",
       "    }\n",
       "</style>\n",
       "<table border=\"1\" class=\"dataframe\">\n",
       "  <thead>\n",
       "    <tr style=\"text-align: right;\">\n",
       "      <th></th>\n",
       "      <th>id</th>\n",
       "      <th>mb_used</th>\n",
       "      <th>session_date</th>\n",
       "      <th>user_id</th>\n",
       "    </tr>\n",
       "  </thead>\n",
       "  <tbody>\n",
       "    <tr>\n",
       "      <th>0</th>\n",
       "      <td>1000_0</td>\n",
       "      <td>112.95</td>\n",
       "      <td>2018-11-25</td>\n",
       "      <td>1000</td>\n",
       "    </tr>\n",
       "    <tr>\n",
       "      <th>1</th>\n",
       "      <td>1000_1</td>\n",
       "      <td>1052.81</td>\n",
       "      <td>2018-09-07</td>\n",
       "      <td>1000</td>\n",
       "    </tr>\n",
       "    <tr>\n",
       "      <th>2</th>\n",
       "      <td>1000_2</td>\n",
       "      <td>1197.26</td>\n",
       "      <td>2018-06-25</td>\n",
       "      <td>1000</td>\n",
       "    </tr>\n",
       "    <tr>\n",
       "      <th>3</th>\n",
       "      <td>1000_3</td>\n",
       "      <td>550.27</td>\n",
       "      <td>2018-08-22</td>\n",
       "      <td>1000</td>\n",
       "    </tr>\n",
       "    <tr>\n",
       "      <th>4</th>\n",
       "      <td>1000_4</td>\n",
       "      <td>302.56</td>\n",
       "      <td>2018-09-24</td>\n",
       "      <td>1000</td>\n",
       "    </tr>\n",
       "  </tbody>\n",
       "</table>\n",
       "</div>"
      ],
      "text/plain": [
       "       id  mb_used session_date  user_id\n",
       "0  1000_0   112.95   2018-11-25     1000\n",
       "1  1000_1  1052.81   2018-09-07     1000\n",
       "2  1000_2  1197.26   2018-06-25     1000\n",
       "3  1000_3   550.27   2018-08-22     1000\n",
       "4  1000_4   302.56   2018-09-24     1000"
      ]
     },
     "execution_count": 7,
     "metadata": {},
     "output_type": "execute_result"
    }
   ],
   "source": [
    "sessions = sessions.drop([\"Unnamed: 0\", \"Unnamed: 0.1\"], axis=1)\n",
    "sessions.head()"
   ]
  },
  {
   "cell_type": "markdown",
   "id": "f398970f-2f39-4604-b7c0-988271eaf6b5",
   "metadata": {},
   "source": [
    "Consider a detailed summary of the DataFrame."
   ]
  },
  {
   "cell_type": "code",
   "execution_count": 8,
   "id": "60173cf2-72c0-4ab2-95b1-980f9a7f4081",
   "metadata": {},
   "outputs": [
    {
     "name": "stdout",
     "output_type": "stream",
     "text": [
      "<class 'pandas.core.frame.DataFrame'>\n",
      "RangeIndex: 149396 entries, 0 to 149395\n",
      "Data columns (total 4 columns):\n",
      " #   Column        Non-Null Count   Dtype  \n",
      "---  ------        --------------   -----  \n",
      " 0   id            149396 non-null  object \n",
      " 1   mb_used       149396 non-null  float64\n",
      " 2   session_date  149396 non-null  object \n",
      " 3   user_id       149396 non-null  int64  \n",
      "dtypes: float64(1), int64(1), object(2)\n",
      "memory usage: 4.6+ MB\n"
     ]
    }
   ],
   "source": [
    "sessions.info()"
   ]
  },
  {
   "attachments": {},
   "cell_type": "markdown",
   "id": "98b8ec5a-e01b-4157-9fa9-95c7a4251b50",
   "metadata": {},
   "source": [
    "There are 4 columns with `float64`, `int64` and `object` data types:"
   ]
  },
  {
   "attachments": {},
   "cell_type": "markdown",
   "id": "5e2e07b0",
   "metadata": {},
   "source": [
    "<table>\n",
    "<thead>\n",
    "<tr><th>Features</th><th>Description</th></tr>\n",
    "</thead>\n",
    "<tbody>\n",
    "<tr><td><code>id</code></td><td><i>Unique identification number of a session</i></td></tr>\n",
    "<tr><td><code>mb_used</code></td><td><i>Amount of internet traffic spent per session (megabytes, MB)</i></td></tr>\n",
    "<tr><td><code>session_date</code></td><td><i>Date of a session</i></td></tr>\n",
    "<tr><td><code>user_id</code></td><td><i>Identifier of a user</i></td></tr>\n",
    "</tbody>\n",
    "</table>"
   ]
  },
  {
   "cell_type": "markdown",
   "id": "d802fedf-d301-4eb0-94f8-78e556decd8d",
   "metadata": {},
   "source": [
    "Again, we observe the absence of missing values."
   ]
  },
  {
   "cell_type": "markdown",
   "id": "89a0df68-c403-4451-b088-5b630fc9e800",
   "metadata": {},
   "source": [
    "Now, let's plot a histogram for the amount of megabytes spent."
   ]
  },
  {
   "cell_type": "code",
   "execution_count": 9,
   "id": "ebb0266b-6f88-4836-8c9b-79270a71ab2e",
   "metadata": {},
   "outputs": [
    {
     "data": {
      "image/png": "[encoded data removed]",
      "text/plain": [
       "<Figure size 640x480 with 1 Axes>"
      ]
     },
     "metadata": {},
     "output_type": "display_data"
    }
   ],
   "source": [
    "# Plotting a histogram for 'mb_used' column\n",
    "sessions.plot(\n",
    "    y=\"mb_used\",\n",
    "    kind=\"hist\",\n",
    "    edgecolor=\"k\",\n",
    "    color=\"deepskyblue\",\n",
    "    title=\"Internet traffic spent (MB)\",\n",
    ")\n",
    "plt.show()"
   ]
  },
  {
   "cell_type": "markdown",
   "id": "8931c392-93ec-475d-afb3-4dcdc0bc913b",
   "metadata": {},
   "source": [
    "### Messages"
   ]
  },
  {
   "cell_type": "markdown",
   "id": "12339115-8639-4309-b207-55edf6bfad36",
   "metadata": {},
   "source": [
    "The next dataset to be considered is data on messages - `messages.csv`."
   ]
  },
  {
   "cell_type": "code",
   "execution_count": 10,
   "id": "90886daf-6810-4bd7-85eb-82d83c675fac",
   "metadata": {},
   "outputs": [],
   "source": [
    "messages = pd.read_csv(\"messages.csv\")"
   ]
  },
  {
   "cell_type": "markdown",
   "id": "f93c782c-7a28-4cf4-b282-2f685d7037d6",
   "metadata": {},
   "source": [
    "Print the first five rows of `messages` DataFrame."
   ]
  },
  {
   "cell_type": "code",
   "execution_count": 11,
   "id": "b155dddf-aec1-4b77-ba2b-f6446393729e",
   "metadata": {},
   "outputs": [
    {
     "data": {
      "text/html": [
       "<div>\n",
       "<style scoped>\n",
       "    .dataframe tbody tr th:only-of-type {\n",
       "        vertical-align: middle;\n",
       "    }\n",
       "\n",
       "    .dataframe tbody tr th {\n",
       "        vertical-align: top;\n",
       "    }\n",
       "\n",
       "    .dataframe thead th {\n",
       "        text-align: right;\n",
       "    }\n",
       "</style>\n",
       "<table border=\"1\" class=\"dataframe\">\n",
       "  <thead>\n",
       "    <tr style=\"text-align: right;\">\n",
       "      <th></th>\n",
       "      <th>id</th>\n",
       "      <th>message_date</th>\n",
       "      <th>user_id</th>\n",
       "    </tr>\n",
       "  </thead>\n",
       "  <tbody>\n",
       "    <tr>\n",
       "      <th>0</th>\n",
       "      <td>1000_0</td>\n",
       "      <td>2018-06-27</td>\n",
       "      <td>1000</td>\n",
       "    </tr>\n",
       "    <tr>\n",
       "      <th>1</th>\n",
       "      <td>1000_1</td>\n",
       "      <td>2018-10-08</td>\n",
       "      <td>1000</td>\n",
       "    </tr>\n",
       "    <tr>\n",
       "      <th>2</th>\n",
       "      <td>1000_2</td>\n",
       "      <td>2018-08-04</td>\n",
       "      <td>1000</td>\n",
       "    </tr>\n",
       "    <tr>\n",
       "      <th>3</th>\n",
       "      <td>1000_3</td>\n",
       "      <td>2018-06-16</td>\n",
       "      <td>1000</td>\n",
       "    </tr>\n",
       "    <tr>\n",
       "      <th>4</th>\n",
       "      <td>1000_4</td>\n",
       "      <td>2018-12-05</td>\n",
       "      <td>1000</td>\n",
       "    </tr>\n",
       "  </tbody>\n",
       "</table>\n",
       "</div>"
      ],
      "text/plain": [
       "       id message_date  user_id\n",
       "0  1000_0   2018-06-27     1000\n",
       "1  1000_1   2018-10-08     1000\n",
       "2  1000_2   2018-08-04     1000\n",
       "3  1000_3   2018-06-16     1000\n",
       "4  1000_4   2018-12-05     1000"
      ]
     },
     "execution_count": 11,
     "metadata": {},
     "output_type": "execute_result"
    }
   ],
   "source": [
    "messages = messages.drop([\"Unnamed: 0\"], axis=1)\n",
    "messages.head()"
   ]
  },
  {
   "cell_type": "markdown",
   "id": "52e2e60e-1157-4507-9345-bc40699e115e",
   "metadata": {},
   "source": [
    "Now, let's consider a concise summary of the data on messages."
   ]
  },
  {
   "cell_type": "code",
   "execution_count": 12,
   "id": "cd2a890a-c90e-485d-a639-7e332bf9f1c7",
   "metadata": {},
   "outputs": [
    {
     "name": "stdout",
     "output_type": "stream",
     "text": [
      "<class 'pandas.core.frame.DataFrame'>\n",
      "RangeIndex: 123036 entries, 0 to 123035\n",
      "Data columns (total 3 columns):\n",
      " #   Column        Non-Null Count   Dtype \n",
      "---  ------        --------------   ----- \n",
      " 0   id            123036 non-null  object\n",
      " 1   message_date  123036 non-null  object\n",
      " 2   user_id       123036 non-null  int64 \n",
      "dtypes: int64(1), object(2)\n",
      "memory usage: 2.8+ MB\n"
     ]
    }
   ],
   "source": [
    "messages.info()"
   ]
  },
  {
   "attachments": {},
   "cell_type": "markdown",
   "id": "aa48a222-8ecd-4942-93c4-e011eb73a08e",
   "metadata": {},
   "source": [
    "The DataFrame has only 3 columns of either `int64` or `object` data type. Columns include:"
   ]
  },
  {
   "attachments": {},
   "cell_type": "markdown",
   "id": "f80733fb",
   "metadata": {},
   "source": [
    "<table>\n",
    "<thead>\n",
    "<tr><th>Features</th><th>Description</th></tr>\n",
    "</thead>\n",
    "<tbody>\n",
    "<tr><td><code>id</code></td><td><i>Unique message number</i></td></tr>\n",
    "<tr><td><code>message_date</code></td><td><i>Date of a message</i></td></tr>\n",
    "<tr><td><code>user_id</code></td><td><i>Identifier of a user who sent a message</i></td></tr>\n",
    "</tbody>\n",
    "</table>"
   ]
  },
  {
   "cell_type": "markdown",
   "id": "15a8e973-d79d-4c85-afb0-d1498b040bd2",
   "metadata": {},
   "source": [
    "### Tariffs"
   ]
  },
  {
   "cell_type": "markdown",
   "id": "8e8858a7-811f-4f87-9b4a-33657b089571",
   "metadata": {},
   "source": [
    "Information about tariffs offered by the company can be consulted in `tariffs.csv` file. Let's convert it to a DataFrame and consider it in detail."
   ]
  },
  {
   "cell_type": "code",
   "execution_count": 13,
   "id": "3ce45856-9862-41dd-a5ba-21e3afc055e0",
   "metadata": {},
   "outputs": [],
   "source": [
    "tariffs = pd.read_csv(\"tariffs.csv\")"
   ]
  },
  {
   "cell_type": "code",
   "execution_count": 14,
   "id": "b225a2ad-d4a0-4252-aacb-0631f2310d71",
   "metadata": {},
   "outputs": [
    {
     "data": {
      "text/html": [
       "<div>\n",
       "<style scoped>\n",
       "    .dataframe tbody tr th:only-of-type {\n",
       "        vertical-align: middle;\n",
       "    }\n",
       "\n",
       "    .dataframe tbody tr th {\n",
       "        vertical-align: top;\n",
       "    }\n",
       "\n",
       "    .dataframe thead th {\n",
       "        text-align: right;\n",
       "    }\n",
       "</style>\n",
       "<table border=\"1\" class=\"dataframe\">\n",
       "  <thead>\n",
       "    <tr style=\"text-align: right;\">\n",
       "      <th></th>\n",
       "      <th>messages_included</th>\n",
       "      <th>mb_per_month_included</th>\n",
       "      <th>minutes_included</th>\n",
       "      <th>rub_monthly_fee</th>\n",
       "      <th>rub_per_gb</th>\n",
       "      <th>rub_per_message</th>\n",
       "      <th>rub_per_minute</th>\n",
       "      <th>tariff_name</th>\n",
       "    </tr>\n",
       "  </thead>\n",
       "  <tbody>\n",
       "    <tr>\n",
       "      <th>0</th>\n",
       "      <td>50</td>\n",
       "      <td>15360</td>\n",
       "      <td>500</td>\n",
       "      <td>550</td>\n",
       "      <td>200</td>\n",
       "      <td>3</td>\n",
       "      <td>3</td>\n",
       "      <td>smart</td>\n",
       "    </tr>\n",
       "    <tr>\n",
       "      <th>1</th>\n",
       "      <td>1000</td>\n",
       "      <td>30720</td>\n",
       "      <td>3000</td>\n",
       "      <td>1950</td>\n",
       "      <td>150</td>\n",
       "      <td>1</td>\n",
       "      <td>1</td>\n",
       "      <td>ultra</td>\n",
       "    </tr>\n",
       "  </tbody>\n",
       "</table>\n",
       "</div>"
      ],
      "text/plain": [
       "   messages_included  mb_per_month_included  minutes_included  \\\n",
       "0                 50                  15360               500   \n",
       "1               1000                  30720              3000   \n",
       "\n",
       "   rub_monthly_fee  rub_per_gb  rub_per_message  rub_per_minute tariff_name  \n",
       "0              550         200                3               3       smart  \n",
       "1             1950         150                1               1       ultra  "
      ]
     },
     "execution_count": 14,
     "metadata": {},
     "output_type": "execute_result"
    }
   ],
   "source": [
    "tariffs = tariffs.drop([\"Unnamed: 0\"], axis=1)\n",
    "tariffs.head()"
   ]
  },
  {
   "cell_type": "code",
   "execution_count": 15,
   "id": "4e3bbcd2-76a0-44b3-8150-8f0a021f602c",
   "metadata": {},
   "outputs": [
    {
     "name": "stdout",
     "output_type": "stream",
     "text": [
      "<class 'pandas.core.frame.DataFrame'>\n",
      "RangeIndex: 2 entries, 0 to 1\n",
      "Data columns (total 8 columns):\n",
      " #   Column                 Non-Null Count  Dtype \n",
      "---  ------                 --------------  ----- \n",
      " 0   messages_included      2 non-null      int64 \n",
      " 1   mb_per_month_included  2 non-null      int64 \n",
      " 2   minutes_included       2 non-null      int64 \n",
      " 3   rub_monthly_fee        2 non-null      int64 \n",
      " 4   rub_per_gb             2 non-null      int64 \n",
      " 5   rub_per_message        2 non-null      int64 \n",
      " 6   rub_per_minute         2 non-null      int64 \n",
      " 7   tariff_name            2 non-null      object\n",
      "dtypes: int64(7), object(1)\n",
      "memory usage: 256.0+ bytes\n"
     ]
    }
   ],
   "source": [
    "tariffs.info()"
   ]
  },
  {
   "attachments": {},
   "cell_type": "markdown",
   "id": "cb7c8cbb-6edb-4ae6-8775-d5308b536682",
   "metadata": {},
   "source": [
    "Basically, this DataFrame just includes detailed description of two tariffs offered by the company. These tariff features involve:"
   ]
  },
  {
   "attachments": {},
   "cell_type": "markdown",
   "id": "8234d230",
   "metadata": {},
   "source": [
    "<table>\n",
    "<thead>\n",
    "<tr><th>Features</th><th>Description</th></tr>\n",
    "</thead>\n",
    "<tbody>\n",
    "<tr><td><code>messages_included</code></td><td><i>Number of messages per month included in the subscription fee</i></td></tr>\n",
    "<tr><td><code>mb_per_month_included</code></td><td><i>Amount of internet traffic included in the subscription fee (megabytes)</i></td></tr>\n",
    "<tr><td><code>minutes_included</code></td><td><i>Number of minutes per month included in the subscription fee</i></td></tr>\n",
    "<tr><td><code>rub_monthly_fee</code></td><td><i>monthly subscription fee (rubles)</i></td></tr>\n",
    "<tr><td><code>rub_per_gb</code></td><td><i>cost of an additional gigabyte of internet traffic in excess of the tariff package (rubles)</i></td></tr>\n",
    "<tr><td><code>rub_per_message</code></td><td><i>cost of sending a message in excess of the tariff package (rubles)</i></td></tr>\n",
    "<tr><td><code>tariff_name</code></td><td><i>Name of a tariff</i></td></tr>\n",
    "</tbody>\n",
    "</table>"
   ]
  },
  {
   "cell_type": "markdown",
   "id": "6c8d5347-245e-431e-acbf-2bd04bb10c63",
   "metadata": {},
   "source": [
    "### Users"
   ]
  },
  {
   "cell_type": "markdown",
   "id": "840d2354-0949-4f67-8df3-6b9cc641002a",
   "metadata": {},
   "source": [
    "Lastly, consider information we have about the users."
   ]
  },
  {
   "cell_type": "code",
   "execution_count": 16,
   "id": "0df57df1-ddd6-432f-91b0-72a7d8f0d2f8",
   "metadata": {},
   "outputs": [],
   "source": [
    "users = pd.read_csv(\"users.csv\")"
   ]
  },
  {
   "cell_type": "code",
   "execution_count": 17,
   "id": "10ce3b9b-5099-4e15-b585-8ed3df3c154e",
   "metadata": {},
   "outputs": [
    {
     "data": {
      "text/html": [
       "<div>\n",
       "<style scoped>\n",
       "    .dataframe tbody tr th:only-of-type {\n",
       "        vertical-align: middle;\n",
       "    }\n",
       "\n",
       "    .dataframe tbody tr th {\n",
       "        vertical-align: top;\n",
       "    }\n",
       "\n",
       "    .dataframe thead th {\n",
       "        text-align: right;\n",
       "    }\n",
       "</style>\n",
       "<table border=\"1\" class=\"dataframe\">\n",
       "  <thead>\n",
       "    <tr style=\"text-align: right;\">\n",
       "      <th></th>\n",
       "      <th>user_id</th>\n",
       "      <th>age</th>\n",
       "      <th>churn_date</th>\n",
       "      <th>city</th>\n",
       "      <th>first_name</th>\n",
       "      <th>last_name</th>\n",
       "      <th>reg_date</th>\n",
       "      <th>tariff</th>\n",
       "    </tr>\n",
       "  </thead>\n",
       "  <tbody>\n",
       "    <tr>\n",
       "      <th>0</th>\n",
       "      <td>1000</td>\n",
       "      <td>52</td>\n",
       "      <td>NaN</td>\n",
       "      <td>Краснодар</td>\n",
       "      <td>Рафаил</td>\n",
       "      <td>Верещагин</td>\n",
       "      <td>2018-05-25</td>\n",
       "      <td>ultra</td>\n",
       "    </tr>\n",
       "    <tr>\n",
       "      <th>1</th>\n",
       "      <td>1001</td>\n",
       "      <td>41</td>\n",
       "      <td>NaN</td>\n",
       "      <td>Москва</td>\n",
       "      <td>Иван</td>\n",
       "      <td>Ежов</td>\n",
       "      <td>2018-11-01</td>\n",
       "      <td>smart</td>\n",
       "    </tr>\n",
       "    <tr>\n",
       "      <th>2</th>\n",
       "      <td>1002</td>\n",
       "      <td>59</td>\n",
       "      <td>NaN</td>\n",
       "      <td>Стерлитамак</td>\n",
       "      <td>Евгений</td>\n",
       "      <td>Абрамович</td>\n",
       "      <td>2018-06-17</td>\n",
       "      <td>smart</td>\n",
       "    </tr>\n",
       "    <tr>\n",
       "      <th>3</th>\n",
       "      <td>1003</td>\n",
       "      <td>23</td>\n",
       "      <td>NaN</td>\n",
       "      <td>Москва</td>\n",
       "      <td>Белла</td>\n",
       "      <td>Белякова</td>\n",
       "      <td>2018-08-17</td>\n",
       "      <td>ultra</td>\n",
       "    </tr>\n",
       "    <tr>\n",
       "      <th>4</th>\n",
       "      <td>1004</td>\n",
       "      <td>68</td>\n",
       "      <td>NaN</td>\n",
       "      <td>Новокузнецк</td>\n",
       "      <td>Татьяна</td>\n",
       "      <td>Авдеенко</td>\n",
       "      <td>2018-05-14</td>\n",
       "      <td>ultra</td>\n",
       "    </tr>\n",
       "  </tbody>\n",
       "</table>\n",
       "</div>"
      ],
      "text/plain": [
       "   user_id  age churn_date         city first_name  last_name    reg_date  \\\n",
       "0     1000   52        NaN    Краснодар     Рафаил  Верещагин  2018-05-25   \n",
       "1     1001   41        NaN       Москва       Иван       Ежов  2018-11-01   \n",
       "2     1002   59        NaN  Стерлитамак    Евгений  Абрамович  2018-06-17   \n",
       "3     1003   23        NaN       Москва      Белла   Белякова  2018-08-17   \n",
       "4     1004   68        NaN  Новокузнецк    Татьяна   Авдеенко  2018-05-14   \n",
       "\n",
       "  tariff  \n",
       "0  ultra  \n",
       "1  smart  \n",
       "2  smart  \n",
       "3  ultra  \n",
       "4  ultra  "
      ]
     },
     "execution_count": 17,
     "metadata": {},
     "output_type": "execute_result"
    }
   ],
   "source": [
    "users = users.drop([\"Unnamed: 0\"], axis=1)\n",
    "users.head()"
   ]
  },
  {
   "cell_type": "code",
   "execution_count": 18,
   "id": "def92f04-2f77-4ce1-9d66-0150507e7bc6",
   "metadata": {},
   "outputs": [
    {
     "name": "stdout",
     "output_type": "stream",
     "text": [
      "<class 'pandas.core.frame.DataFrame'>\n",
      "RangeIndex: 500 entries, 0 to 499\n",
      "Data columns (total 8 columns):\n",
      " #   Column      Non-Null Count  Dtype \n",
      "---  ------      --------------  ----- \n",
      " 0   user_id     500 non-null    int64 \n",
      " 1   age         500 non-null    int64 \n",
      " 2   churn_date  38 non-null     object\n",
      " 3   city        500 non-null    object\n",
      " 4   first_name  500 non-null    object\n",
      " 5   last_name   500 non-null    object\n",
      " 6   reg_date    500 non-null    object\n",
      " 7   tariff      500 non-null    object\n",
      "dtypes: int64(2), object(6)\n",
      "memory usage: 31.4+ KB\n"
     ]
    }
   ],
   "source": [
    "users.info()"
   ]
  },
  {
   "attachments": {},
   "cell_type": "markdown",
   "id": "c8476420-e052-4ff9-a212-486713cc9347",
   "metadata": {},
   "source": [
    "The data on 500 users consists of the following columns:"
   ]
  },
  {
   "attachments": {},
   "cell_type": "markdown",
   "id": "33967c37",
   "metadata": {},
   "source": [
    "<table>\n",
    "<thead>\n",
    "<tr><th>Features</th><th>Description</th></tr>\n",
    "</thead>\n",
    "<tbody>\n",
    "<tr><td><code>user_id</code></td><td><i>Unique user id</i></td></tr>\n",
    "<tr><td><code>age</code></td><td><i>User's age (years)</i></td></tr>\n",
    "<tr><td><code>churn_date</code></td><td><i>date of termination of use of the tariff (if the value is omitted, it means that the tariff was still valid at the time of data upload)</i></td></tr>\n",
    "<tr><td><code>city</code></td><td><i>City of user's residence</i></td></tr>\n",
    "<tr><td><code>first_name</code></td><td><i>User's first name</i></td></tr>\n",
    "<tr><td><code>last_name</code></td><td><i>User's last name</i></td></tr>\n",
    "<tr><td><code>reg_date</code></td><td><i>Tariff activation date (day, month, year)</i></td></tr>\n",
    "<tr><td><code>tariff</code></td><td><i>Name of a tariff plan</i></td></tr>\n",
    "</tbody>\n",
    "</table>"
   ]
  },
  {
   "cell_type": "markdown",
   "id": "09c21d99-c87a-4cbb-8045-af97dcbfe22b",
   "metadata": {},
   "source": [
    "**Conclusion**\n",
    "\n",
    "All in all, we have managed to get acquainted with five DataFrames that will be used to conduct data analysis. In general, the problem of missing values is not so serious here, most datasets have data entries complete with full information.  "
   ]
  },
  {
   "cell_type": "markdown",
   "id": "a2b721f7-1c61-4aea-a867-2cf5a5ecfc93",
   "metadata": {},
   "source": [
    "## Data preparation"
   ]
  },
  {
   "cell_type": "markdown",
   "id": "d5629202-dd22-4cb5-a8ae-2fae1f1e2e60",
   "metadata": {},
   "source": [
    "### Working with dates"
   ]
  },
  {
   "cell_type": "markdown",
   "id": "b5e05a5d-5e48-4566-97ff-46ed2a4c8f20",
   "metadata": {},
   "source": [
    "We have seen that almost all DataFrames have date variables which are actually of `object` data type. It is reasonable to convert their type to `datetime` by applying `to_datetime()` method."
   ]
  },
  {
   "cell_type": "code",
   "execution_count": 19,
   "id": "f0e77fbf-f138-4be4-bb81-0858ef7c491c",
   "metadata": {},
   "outputs": [],
   "source": [
    "# Conversion to datetime\n",
    "users[\"reg_date\"] = pd.to_datetime(users[\"reg_date\"], format=\"%Y-%m-%d\")\n",
    "users[\"churn_date\"] = pd.to_datetime(users[\"churn_date\"], format=\"%Y-%m-%d\")\n",
    "calls[\"call_date\"] = pd.to_datetime(calls[\"call_date\"], format=\"%Y-%m-%d\")\n",
    "messages[\"message_date\"] = pd.to_datetime(messages[\"message_date\"], format=\"%Y-%m-%d\")\n",
    "sessions[\"session_date\"] = pd.to_datetime(sessions[\"session_date\"], format=\"%Y-%m-%d\")"
   ]
  },
  {
   "cell_type": "markdown",
   "id": "db0ef5d7-3b51-43af-97de-340363663e4e",
   "metadata": {},
   "source": [
    "The histogram of `duration` column in `calls` DataFrame showed that there are actually quite a lot of calls that took place zero minutes. This is not a mistake: it refers to missed calls so they should not be deleted."
   ]
  },
  {
   "cell_type": "markdown",
   "id": "f43e8d33-4e70-4659-a65b-bee382af2f70",
   "metadata": {},
   "source": [
    "However, the values in this column are fractional. Thus, we need to round these values up by making use of `numpy.ceil()` method and then converting their type to `int64`."
   ]
  },
  {
   "cell_type": "code",
   "execution_count": 20,
   "id": "6937b7c6-fa1d-4b87-b093-6e9234f7a7ad",
   "metadata": {},
   "outputs": [],
   "source": [
    "# Rounding up and conversion to int64\n",
    "calls[\"duration\"] = (np.ceil(calls[\"duration\"])).astype(\"int64\")"
   ]
  },
  {
   "cell_type": "markdown",
   "id": "03bcb3de-4330-4e87-af4d-249072dc0b22",
   "metadata": {},
   "source": [
    "Next, let's retrieve the month numbers from the following date variables: `call_date`, `message_date`, `session_date`."
   ]
  },
  {
   "cell_type": "code",
   "execution_count": 21,
   "id": "9989d0e0-dc80-4680-80db-e73487b546da",
   "metadata": {},
   "outputs": [],
   "source": [
    "# Retrieving month numbers\n",
    "calls[\"month\"] = calls[\"call_date\"].dt.month\n",
    "messages[\"month\"] = messages[\"message_date\"].dt.month\n",
    "sessions[\"month\"] = sessions[\"session_date\"].dt.month"
   ]
  },
  {
   "cell_type": "markdown",
   "id": "357c3525-2cb2-40a7-bee4-481759f48564",
   "metadata": {},
   "source": [
    "### Grouping data"
   ]
  },
  {
   "cell_type": "markdown",
   "id": "87c42594-4601-4253-9b65-5abcf24f59ed",
   "metadata": {},
   "source": [
    "After getting data on dates in order, we can start to create different groupings for users for each month. We will compute four different groupings:\n",
    "\n",
    "* `calls_per_month` => number of calls made by each user in each available month;\n",
    "* `minutes_per_month` => amount of minutes spent by each user in each available month;\n",
    "* `messages_per_month` => number of messages sent by each user in each available month;\n",
    "* `sessions_per_month` => amount of internet traffic spent (megabytes) by each user in each available month.\n",
    "\n",
    "Afterwards, these data will be merged together for conducting a more in-depth analysis."
   ]
  },
  {
   "cell_type": "code",
   "execution_count": 22,
   "id": "df754db0-93dc-4437-bc20-6e28ac3be00a",
   "metadata": {},
   "outputs": [
    {
     "data": {
      "text/html": [
       "<div>\n",
       "<style scoped>\n",
       "    .dataframe tbody tr th:only-of-type {\n",
       "        vertical-align: middle;\n",
       "    }\n",
       "\n",
       "    .dataframe tbody tr th {\n",
       "        vertical-align: top;\n",
       "    }\n",
       "\n",
       "    .dataframe thead th {\n",
       "        text-align: right;\n",
       "    }\n",
       "</style>\n",
       "<table border=\"1\" class=\"dataframe\">\n",
       "  <thead>\n",
       "    <tr style=\"text-align: right;\">\n",
       "      <th></th>\n",
       "      <th></th>\n",
       "      <th>calls</th>\n",
       "    </tr>\n",
       "    <tr>\n",
       "      <th>user_id</th>\n",
       "      <th>month</th>\n",
       "      <th></th>\n",
       "    </tr>\n",
       "  </thead>\n",
       "  <tbody>\n",
       "    <tr>\n",
       "      <th rowspan=\"8\" valign=\"top\">1000</th>\n",
       "      <th>5</th>\n",
       "      <td>22</td>\n",
       "    </tr>\n",
       "    <tr>\n",
       "      <th>6</th>\n",
       "      <td>43</td>\n",
       "    </tr>\n",
       "    <tr>\n",
       "      <th>7</th>\n",
       "      <td>47</td>\n",
       "    </tr>\n",
       "    <tr>\n",
       "      <th>8</th>\n",
       "      <td>52</td>\n",
       "    </tr>\n",
       "    <tr>\n",
       "      <th>9</th>\n",
       "      <td>58</td>\n",
       "    </tr>\n",
       "    <tr>\n",
       "      <th>10</th>\n",
       "      <td>57</td>\n",
       "    </tr>\n",
       "    <tr>\n",
       "      <th>11</th>\n",
       "      <td>43</td>\n",
       "    </tr>\n",
       "    <tr>\n",
       "      <th>12</th>\n",
       "      <td>46</td>\n",
       "    </tr>\n",
       "    <tr>\n",
       "      <th rowspan=\"2\" valign=\"top\">1001</th>\n",
       "      <th>11</th>\n",
       "      <td>59</td>\n",
       "    </tr>\n",
       "    <tr>\n",
       "      <th>12</th>\n",
       "      <td>63</td>\n",
       "    </tr>\n",
       "    <tr>\n",
       "      <th rowspan=\"7\" valign=\"top\">1002</th>\n",
       "      <th>6</th>\n",
       "      <td>15</td>\n",
       "    </tr>\n",
       "    <tr>\n",
       "      <th>7</th>\n",
       "      <td>26</td>\n",
       "    </tr>\n",
       "    <tr>\n",
       "      <th>8</th>\n",
       "      <td>42</td>\n",
       "    </tr>\n",
       "    <tr>\n",
       "      <th>9</th>\n",
       "      <td>36</td>\n",
       "    </tr>\n",
       "    <tr>\n",
       "      <th>10</th>\n",
       "      <td>33</td>\n",
       "    </tr>\n",
       "    <tr>\n",
       "      <th>11</th>\n",
       "      <td>32</td>\n",
       "    </tr>\n",
       "    <tr>\n",
       "      <th>12</th>\n",
       "      <td>33</td>\n",
       "    </tr>\n",
       "    <tr>\n",
       "      <th rowspan=\"5\" valign=\"top\">1003</th>\n",
       "      <th>8</th>\n",
       "      <td>55</td>\n",
       "    </tr>\n",
       "    <tr>\n",
       "      <th>9</th>\n",
       "      <td>134</td>\n",
       "    </tr>\n",
       "    <tr>\n",
       "      <th>10</th>\n",
       "      <td>108</td>\n",
       "    </tr>\n",
       "    <tr>\n",
       "      <th>11</th>\n",
       "      <td>115</td>\n",
       "    </tr>\n",
       "    <tr>\n",
       "      <th>12</th>\n",
       "      <td>108</td>\n",
       "    </tr>\n",
       "    <tr>\n",
       "      <th rowspan=\"8\" valign=\"top\">1004</th>\n",
       "      <th>5</th>\n",
       "      <td>9</td>\n",
       "    </tr>\n",
       "    <tr>\n",
       "      <th>6</th>\n",
       "      <td>31</td>\n",
       "    </tr>\n",
       "    <tr>\n",
       "      <th>7</th>\n",
       "      <td>22</td>\n",
       "    </tr>\n",
       "    <tr>\n",
       "      <th>8</th>\n",
       "      <td>19</td>\n",
       "    </tr>\n",
       "    <tr>\n",
       "      <th>9</th>\n",
       "      <td>26</td>\n",
       "    </tr>\n",
       "    <tr>\n",
       "      <th>10</th>\n",
       "      <td>29</td>\n",
       "    </tr>\n",
       "    <tr>\n",
       "      <th>11</th>\n",
       "      <td>19</td>\n",
       "    </tr>\n",
       "    <tr>\n",
       "      <th>12</th>\n",
       "      <td>21</td>\n",
       "    </tr>\n",
       "  </tbody>\n",
       "</table>\n",
       "</div>"
      ],
      "text/plain": [
       "               calls\n",
       "user_id month       \n",
       "1000    5         22\n",
       "        6         43\n",
       "        7         47\n",
       "        8         52\n",
       "        9         58\n",
       "        10        57\n",
       "        11        43\n",
       "        12        46\n",
       "1001    11        59\n",
       "        12        63\n",
       "1002    6         15\n",
       "        7         26\n",
       "        8         42\n",
       "        9         36\n",
       "        10        33\n",
       "        11        32\n",
       "        12        33\n",
       "1003    8         55\n",
       "        9        134\n",
       "        10       108\n",
       "        11       115\n",
       "        12       108\n",
       "1004    5          9\n",
       "        6         31\n",
       "        7         22\n",
       "        8         19\n",
       "        9         26\n",
       "        10        29\n",
       "        11        19\n",
       "        12        21"
      ]
     },
     "execution_count": 22,
     "metadata": {},
     "output_type": "execute_result"
    }
   ],
   "source": [
    "# Calculating the number of calls made for each user by month\n",
    "calls_per_month = calls.groupby([\"user_id\", \"month\"]).agg(calls=(\"duration\", \"count\"))\n",
    "\n",
    "calls_per_month.head(30)"
   ]
  },
  {
   "cell_type": "code",
   "execution_count": 23,
   "id": "ee558e1a-17e9-4506-85bb-1b50b33bdddd",
   "metadata": {},
   "outputs": [
    {
     "data": {
      "text/html": [
       "<div>\n",
       "<style scoped>\n",
       "    .dataframe tbody tr th:only-of-type {\n",
       "        vertical-align: middle;\n",
       "    }\n",
       "\n",
       "    .dataframe tbody tr th {\n",
       "        vertical-align: top;\n",
       "    }\n",
       "\n",
       "    .dataframe thead th {\n",
       "        text-align: right;\n",
       "    }\n",
       "</style>\n",
       "<table border=\"1\" class=\"dataframe\">\n",
       "  <thead>\n",
       "    <tr style=\"text-align: right;\">\n",
       "      <th></th>\n",
       "      <th></th>\n",
       "      <th>minutes</th>\n",
       "    </tr>\n",
       "    <tr>\n",
       "      <th>user_id</th>\n",
       "      <th>month</th>\n",
       "      <th></th>\n",
       "    </tr>\n",
       "  </thead>\n",
       "  <tbody>\n",
       "    <tr>\n",
       "      <th rowspan=\"8\" valign=\"top\">1000</th>\n",
       "      <th>5</th>\n",
       "      <td>159</td>\n",
       "    </tr>\n",
       "    <tr>\n",
       "      <th>6</th>\n",
       "      <td>172</td>\n",
       "    </tr>\n",
       "    <tr>\n",
       "      <th>7</th>\n",
       "      <td>340</td>\n",
       "    </tr>\n",
       "    <tr>\n",
       "      <th>8</th>\n",
       "      <td>408</td>\n",
       "    </tr>\n",
       "    <tr>\n",
       "      <th>9</th>\n",
       "      <td>466</td>\n",
       "    </tr>\n",
       "    <tr>\n",
       "      <th>10</th>\n",
       "      <td>350</td>\n",
       "    </tr>\n",
       "    <tr>\n",
       "      <th>11</th>\n",
       "      <td>338</td>\n",
       "    </tr>\n",
       "    <tr>\n",
       "      <th>12</th>\n",
       "      <td>333</td>\n",
       "    </tr>\n",
       "    <tr>\n",
       "      <th rowspan=\"2\" valign=\"top\">1001</th>\n",
       "      <th>11</th>\n",
       "      <td>430</td>\n",
       "    </tr>\n",
       "    <tr>\n",
       "      <th>12</th>\n",
       "      <td>414</td>\n",
       "    </tr>\n",
       "    <tr>\n",
       "      <th rowspan=\"7\" valign=\"top\">1002</th>\n",
       "      <th>6</th>\n",
       "      <td>117</td>\n",
       "    </tr>\n",
       "    <tr>\n",
       "      <th>7</th>\n",
       "      <td>214</td>\n",
       "    </tr>\n",
       "    <tr>\n",
       "      <th>8</th>\n",
       "      <td>289</td>\n",
       "    </tr>\n",
       "    <tr>\n",
       "      <th>9</th>\n",
       "      <td>206</td>\n",
       "    </tr>\n",
       "    <tr>\n",
       "      <th>10</th>\n",
       "      <td>212</td>\n",
       "    </tr>\n",
       "    <tr>\n",
       "      <th>11</th>\n",
       "      <td>243</td>\n",
       "    </tr>\n",
       "    <tr>\n",
       "      <th>12</th>\n",
       "      <td>236</td>\n",
       "    </tr>\n",
       "    <tr>\n",
       "      <th rowspan=\"5\" valign=\"top\">1003</th>\n",
       "      <th>8</th>\n",
       "      <td>380</td>\n",
       "    </tr>\n",
       "    <tr>\n",
       "      <th>9</th>\n",
       "      <td>961</td>\n",
       "    </tr>\n",
       "    <tr>\n",
       "      <th>10</th>\n",
       "      <td>855</td>\n",
       "    </tr>\n",
       "    <tr>\n",
       "      <th>11</th>\n",
       "      <td>824</td>\n",
       "    </tr>\n",
       "    <tr>\n",
       "      <th>12</th>\n",
       "      <td>802</td>\n",
       "    </tr>\n",
       "    <tr>\n",
       "      <th rowspan=\"8\" valign=\"top\">1004</th>\n",
       "      <th>5</th>\n",
       "      <td>35</td>\n",
       "    </tr>\n",
       "    <tr>\n",
       "      <th>6</th>\n",
       "      <td>171</td>\n",
       "    </tr>\n",
       "    <tr>\n",
       "      <th>7</th>\n",
       "      <td>135</td>\n",
       "    </tr>\n",
       "    <tr>\n",
       "      <th>8</th>\n",
       "      <td>137</td>\n",
       "    </tr>\n",
       "    <tr>\n",
       "      <th>9</th>\n",
       "      <td>117</td>\n",
       "    </tr>\n",
       "    <tr>\n",
       "      <th>10</th>\n",
       "      <td>145</td>\n",
       "    </tr>\n",
       "    <tr>\n",
       "      <th>11</th>\n",
       "      <td>117</td>\n",
       "    </tr>\n",
       "    <tr>\n",
       "      <th>12</th>\n",
       "      <td>130</td>\n",
       "    </tr>\n",
       "  </tbody>\n",
       "</table>\n",
       "</div>"
      ],
      "text/plain": [
       "               minutes\n",
       "user_id month         \n",
       "1000    5          159\n",
       "        6          172\n",
       "        7          340\n",
       "        8          408\n",
       "        9          466\n",
       "        10         350\n",
       "        11         338\n",
       "        12         333\n",
       "1001    11         430\n",
       "        12         414\n",
       "1002    6          117\n",
       "        7          214\n",
       "        8          289\n",
       "        9          206\n",
       "        10         212\n",
       "        11         243\n",
       "        12         236\n",
       "1003    8          380\n",
       "        9          961\n",
       "        10         855\n",
       "        11         824\n",
       "        12         802\n",
       "1004    5           35\n",
       "        6          171\n",
       "        7          135\n",
       "        8          137\n",
       "        9          117\n",
       "        10         145\n",
       "        11         117\n",
       "        12         130"
      ]
     },
     "execution_count": 23,
     "metadata": {},
     "output_type": "execute_result"
    }
   ],
   "source": [
    "# Calculating the amount of minutes spent for each user by month\n",
    "minutes_per_month = calls.groupby([\"user_id\", \"month\"]).agg(minutes=(\"duration\", \"sum\"))\n",
    "\n",
    "minutes_per_month.head(30)"
   ]
  },
  {
   "cell_type": "code",
   "execution_count": 24,
   "id": "fa70905d-9b3d-4ec5-ad5e-90d3edf67c0a",
   "metadata": {},
   "outputs": [
    {
     "data": {
      "text/html": [
       "<div>\n",
       "<style scoped>\n",
       "    .dataframe tbody tr th:only-of-type {\n",
       "        vertical-align: middle;\n",
       "    }\n",
       "\n",
       "    .dataframe tbody tr th {\n",
       "        vertical-align: top;\n",
       "    }\n",
       "\n",
       "    .dataframe thead th {\n",
       "        text-align: right;\n",
       "    }\n",
       "</style>\n",
       "<table border=\"1\" class=\"dataframe\">\n",
       "  <thead>\n",
       "    <tr style=\"text-align: right;\">\n",
       "      <th></th>\n",
       "      <th></th>\n",
       "      <th>messages</th>\n",
       "    </tr>\n",
       "    <tr>\n",
       "      <th>user_id</th>\n",
       "      <th>month</th>\n",
       "      <th></th>\n",
       "    </tr>\n",
       "  </thead>\n",
       "  <tbody>\n",
       "    <tr>\n",
       "      <th rowspan=\"8\" valign=\"top\">1000</th>\n",
       "      <th>5</th>\n",
       "      <td>22</td>\n",
       "    </tr>\n",
       "    <tr>\n",
       "      <th>6</th>\n",
       "      <td>60</td>\n",
       "    </tr>\n",
       "    <tr>\n",
       "      <th>7</th>\n",
       "      <td>75</td>\n",
       "    </tr>\n",
       "    <tr>\n",
       "      <th>8</th>\n",
       "      <td>81</td>\n",
       "    </tr>\n",
       "    <tr>\n",
       "      <th>9</th>\n",
       "      <td>57</td>\n",
       "    </tr>\n",
       "    <tr>\n",
       "      <th>10</th>\n",
       "      <td>73</td>\n",
       "    </tr>\n",
       "    <tr>\n",
       "      <th>11</th>\n",
       "      <td>58</td>\n",
       "    </tr>\n",
       "    <tr>\n",
       "      <th>12</th>\n",
       "      <td>70</td>\n",
       "    </tr>\n",
       "    <tr>\n",
       "      <th rowspan=\"7\" valign=\"top\">1002</th>\n",
       "      <th>6</th>\n",
       "      <td>4</td>\n",
       "    </tr>\n",
       "    <tr>\n",
       "      <th>7</th>\n",
       "      <td>11</td>\n",
       "    </tr>\n",
       "    <tr>\n",
       "      <th>8</th>\n",
       "      <td>13</td>\n",
       "    </tr>\n",
       "    <tr>\n",
       "      <th>9</th>\n",
       "      <td>4</td>\n",
       "    </tr>\n",
       "    <tr>\n",
       "      <th>10</th>\n",
       "      <td>10</td>\n",
       "    </tr>\n",
       "    <tr>\n",
       "      <th>11</th>\n",
       "      <td>16</td>\n",
       "    </tr>\n",
       "    <tr>\n",
       "      <th>12</th>\n",
       "      <td>12</td>\n",
       "    </tr>\n",
       "    <tr>\n",
       "      <th rowspan=\"5\" valign=\"top\">1003</th>\n",
       "      <th>8</th>\n",
       "      <td>37</td>\n",
       "    </tr>\n",
       "    <tr>\n",
       "      <th>9</th>\n",
       "      <td>91</td>\n",
       "    </tr>\n",
       "    <tr>\n",
       "      <th>10</th>\n",
       "      <td>83</td>\n",
       "    </tr>\n",
       "    <tr>\n",
       "      <th>11</th>\n",
       "      <td>94</td>\n",
       "    </tr>\n",
       "    <tr>\n",
       "      <th>12</th>\n",
       "      <td>75</td>\n",
       "    </tr>\n",
       "    <tr>\n",
       "      <th rowspan=\"8\" valign=\"top\">1004</th>\n",
       "      <th>5</th>\n",
       "      <td>95</td>\n",
       "    </tr>\n",
       "    <tr>\n",
       "      <th>6</th>\n",
       "      <td>134</td>\n",
       "    </tr>\n",
       "    <tr>\n",
       "      <th>7</th>\n",
       "      <td>181</td>\n",
       "    </tr>\n",
       "    <tr>\n",
       "      <th>8</th>\n",
       "      <td>151</td>\n",
       "    </tr>\n",
       "    <tr>\n",
       "      <th>9</th>\n",
       "      <td>146</td>\n",
       "    </tr>\n",
       "    <tr>\n",
       "      <th>10</th>\n",
       "      <td>165</td>\n",
       "    </tr>\n",
       "    <tr>\n",
       "      <th>11</th>\n",
       "      <td>158</td>\n",
       "    </tr>\n",
       "    <tr>\n",
       "      <th>12</th>\n",
       "      <td>162</td>\n",
       "    </tr>\n",
       "    <tr>\n",
       "      <th rowspan=\"2\" valign=\"top\">1005</th>\n",
       "      <th>1</th>\n",
       "      <td>7</td>\n",
       "    </tr>\n",
       "    <tr>\n",
       "      <th>2</th>\n",
       "      <td>38</td>\n",
       "    </tr>\n",
       "  </tbody>\n",
       "</table>\n",
       "</div>"
      ],
      "text/plain": [
       "               messages\n",
       "user_id month          \n",
       "1000    5            22\n",
       "        6            60\n",
       "        7            75\n",
       "        8            81\n",
       "        9            57\n",
       "        10           73\n",
       "        11           58\n",
       "        12           70\n",
       "1002    6             4\n",
       "        7            11\n",
       "        8            13\n",
       "        9             4\n",
       "        10           10\n",
       "        11           16\n",
       "        12           12\n",
       "1003    8            37\n",
       "        9            91\n",
       "        10           83\n",
       "        11           94\n",
       "        12           75\n",
       "1004    5            95\n",
       "        6           134\n",
       "        7           181\n",
       "        8           151\n",
       "        9           146\n",
       "        10          165\n",
       "        11          158\n",
       "        12          162\n",
       "1005    1             7\n",
       "        2            38"
      ]
     },
     "execution_count": 24,
     "metadata": {},
     "output_type": "execute_result"
    }
   ],
   "source": [
    "# Calculating the number of messages sent for each user by month\n",
    "messages_per_month = messages.groupby([\"user_id\", \"month\"]).agg(\n",
    "    messages=(\"message_date\", \"count\")\n",
    ")\n",
    "\n",
    "messages_per_month.head(30)"
   ]
  },
  {
   "cell_type": "code",
   "execution_count": 25,
   "id": "3af4943c-7197-418d-8a91-9debb7183d63",
   "metadata": {},
   "outputs": [
    {
     "data": {
      "text/html": [
       "<div>\n",
       "<style scoped>\n",
       "    .dataframe tbody tr th:only-of-type {\n",
       "        vertical-align: middle;\n",
       "    }\n",
       "\n",
       "    .dataframe tbody tr th {\n",
       "        vertical-align: top;\n",
       "    }\n",
       "\n",
       "    .dataframe thead th {\n",
       "        text-align: right;\n",
       "    }\n",
       "</style>\n",
       "<table border=\"1\" class=\"dataframe\">\n",
       "  <thead>\n",
       "    <tr style=\"text-align: right;\">\n",
       "      <th></th>\n",
       "      <th></th>\n",
       "      <th>mb_used</th>\n",
       "    </tr>\n",
       "    <tr>\n",
       "      <th>user_id</th>\n",
       "      <th>month</th>\n",
       "      <th></th>\n",
       "    </tr>\n",
       "  </thead>\n",
       "  <tbody>\n",
       "    <tr>\n",
       "      <th rowspan=\"8\" valign=\"top\">1000</th>\n",
       "      <th>5</th>\n",
       "      <td>2253.49</td>\n",
       "    </tr>\n",
       "    <tr>\n",
       "      <th>6</th>\n",
       "      <td>23233.77</td>\n",
       "    </tr>\n",
       "    <tr>\n",
       "      <th>7</th>\n",
       "      <td>14003.64</td>\n",
       "    </tr>\n",
       "    <tr>\n",
       "      <th>8</th>\n",
       "      <td>14055.93</td>\n",
       "    </tr>\n",
       "    <tr>\n",
       "      <th>9</th>\n",
       "      <td>14568.91</td>\n",
       "    </tr>\n",
       "    <tr>\n",
       "      <th>10</th>\n",
       "      <td>14702.49</td>\n",
       "    </tr>\n",
       "    <tr>\n",
       "      <th>11</th>\n",
       "      <td>14756.47</td>\n",
       "    </tr>\n",
       "    <tr>\n",
       "      <th>12</th>\n",
       "      <td>9817.61</td>\n",
       "    </tr>\n",
       "    <tr>\n",
       "      <th rowspan=\"2\" valign=\"top\">1001</th>\n",
       "      <th>11</th>\n",
       "      <td>18429.34</td>\n",
       "    </tr>\n",
       "    <tr>\n",
       "      <th>12</th>\n",
       "      <td>14036.66</td>\n",
       "    </tr>\n",
       "    <tr>\n",
       "      <th rowspan=\"7\" valign=\"top\">1002</th>\n",
       "      <th>6</th>\n",
       "      <td>10856.82</td>\n",
       "    </tr>\n",
       "    <tr>\n",
       "      <th>7</th>\n",
       "      <td>17580.10</td>\n",
       "    </tr>\n",
       "    <tr>\n",
       "      <th>8</th>\n",
       "      <td>20319.26</td>\n",
       "    </tr>\n",
       "    <tr>\n",
       "      <th>9</th>\n",
       "      <td>16691.08</td>\n",
       "    </tr>\n",
       "    <tr>\n",
       "      <th>10</th>\n",
       "      <td>13888.25</td>\n",
       "    </tr>\n",
       "    <tr>\n",
       "      <th>11</th>\n",
       "      <td>18587.28</td>\n",
       "    </tr>\n",
       "    <tr>\n",
       "      <th>12</th>\n",
       "      <td>18113.73</td>\n",
       "    </tr>\n",
       "    <tr>\n",
       "      <th rowspan=\"5\" valign=\"top\">1003</th>\n",
       "      <th>8</th>\n",
       "      <td>8565.21</td>\n",
       "    </tr>\n",
       "    <tr>\n",
       "      <th>9</th>\n",
       "      <td>12468.87</td>\n",
       "    </tr>\n",
       "    <tr>\n",
       "      <th>10</th>\n",
       "      <td>14768.14</td>\n",
       "    </tr>\n",
       "    <tr>\n",
       "      <th>11</th>\n",
       "      <td>11356.89</td>\n",
       "    </tr>\n",
       "    <tr>\n",
       "      <th>12</th>\n",
       "      <td>10121.53</td>\n",
       "    </tr>\n",
       "    <tr>\n",
       "      <th rowspan=\"8\" valign=\"top\">1004</th>\n",
       "      <th>5</th>\n",
       "      <td>13403.98</td>\n",
       "    </tr>\n",
       "    <tr>\n",
       "      <th>6</th>\n",
       "      <td>17600.02</td>\n",
       "    </tr>\n",
       "    <tr>\n",
       "      <th>7</th>\n",
       "      <td>22229.58</td>\n",
       "    </tr>\n",
       "    <tr>\n",
       "      <th>8</th>\n",
       "      <td>28584.37</td>\n",
       "    </tr>\n",
       "    <tr>\n",
       "      <th>9</th>\n",
       "      <td>15109.03</td>\n",
       "    </tr>\n",
       "    <tr>\n",
       "      <th>10</th>\n",
       "      <td>18475.44</td>\n",
       "    </tr>\n",
       "    <tr>\n",
       "      <th>11</th>\n",
       "      <td>15616.02</td>\n",
       "    </tr>\n",
       "    <tr>\n",
       "      <th>12</th>\n",
       "      <td>18021.04</td>\n",
       "    </tr>\n",
       "  </tbody>\n",
       "</table>\n",
       "</div>"
      ],
      "text/plain": [
       "                mb_used\n",
       "user_id month          \n",
       "1000    5       2253.49\n",
       "        6      23233.77\n",
       "        7      14003.64\n",
       "        8      14055.93\n",
       "        9      14568.91\n",
       "        10     14702.49\n",
       "        11     14756.47\n",
       "        12      9817.61\n",
       "1001    11     18429.34\n",
       "        12     14036.66\n",
       "1002    6      10856.82\n",
       "        7      17580.10\n",
       "        8      20319.26\n",
       "        9      16691.08\n",
       "        10     13888.25\n",
       "        11     18587.28\n",
       "        12     18113.73\n",
       "1003    8       8565.21\n",
       "        9      12468.87\n",
       "        10     14768.14\n",
       "        11     11356.89\n",
       "        12     10121.53\n",
       "1004    5      13403.98\n",
       "        6      17600.02\n",
       "        7      22229.58\n",
       "        8      28584.37\n",
       "        9      15109.03\n",
       "        10     18475.44\n",
       "        11     15616.02\n",
       "        12     18021.04"
      ]
     },
     "execution_count": 25,
     "metadata": {},
     "output_type": "execute_result"
    }
   ],
   "source": [
    "# Calculating the amount of megabytes spent for each user by month\n",
    "sessions_per_month = sessions.groupby([\"user_id\", \"month\"]).agg({\"mb_used\": \"sum\"})\n",
    "\n",
    "sessions_per_month.head(30)"
   ]
  },
  {
   "cell_type": "markdown",
   "id": "6bedd31e-7fc2-4bec-827d-384f0e23993b",
   "metadata": {},
   "source": [
    "**Conclusion**\n",
    "\n",
    "At the stage of data preparation, columns containing dates have been worked out by data conversion and month number retrieval. This has allowed computing a few data grouping that will be necessary at the next stage of data analysis."
   ]
  },
  {
   "cell_type": "markdown",
   "id": "c08fe124-ad52-4409-9c9a-ce56905d0801",
   "metadata": {},
   "source": [
    "## Exploratory data analysis"
   ]
  },
  {
   "cell_type": "markdown",
   "id": "ce50fb63-d187-4607-a072-65794c2423ea",
   "metadata": {},
   "source": [
    "### Computing revenue"
   ]
  },
  {
   "cell_type": "markdown",
   "id": "0f6dfba8-c56d-49a6-a71c-a0c7a1944ac6",
   "metadata": {},
   "source": [
    "Since the main goal of the present analysis is to indentify the optimal tariff, let's compute revenues brought by each tariff. For that, first, we can add all grouping variables computed above to one DataFrame called `user_behavior` and merge the resulting DataFrame with `users` containing other infomation about a particular user. Hence, each \"user-month\" pair will contain information about the tariff, the number of calls, messages and megabytes spent."
   ]
  },
  {
   "cell_type": "code",
   "execution_count": 26,
   "id": "2569e3a3-4e42-4394-9cf6-34a691f1bb08",
   "metadata": {},
   "outputs": [
    {
     "data": {
      "text/html": [
       "<div>\n",
       "<style scoped>\n",
       "    .dataframe tbody tr th:only-of-type {\n",
       "        vertical-align: middle;\n",
       "    }\n",
       "\n",
       "    .dataframe tbody tr th {\n",
       "        vertical-align: top;\n",
       "    }\n",
       "\n",
       "    .dataframe thead th {\n",
       "        text-align: right;\n",
       "    }\n",
       "</style>\n",
       "<table border=\"1\" class=\"dataframe\">\n",
       "  <thead>\n",
       "    <tr style=\"text-align: right;\">\n",
       "      <th></th>\n",
       "      <th>user_id</th>\n",
       "      <th>month</th>\n",
       "      <th>calls</th>\n",
       "      <th>messages</th>\n",
       "      <th>mb_used</th>\n",
       "      <th>minutes</th>\n",
       "      <th>age</th>\n",
       "      <th>churn_date</th>\n",
       "      <th>city</th>\n",
       "      <th>first_name</th>\n",
       "      <th>last_name</th>\n",
       "      <th>reg_date</th>\n",
       "      <th>tariff</th>\n",
       "    </tr>\n",
       "  </thead>\n",
       "  <tbody>\n",
       "    <tr>\n",
       "      <th>0</th>\n",
       "      <td>1000</td>\n",
       "      <td>5</td>\n",
       "      <td>22.0</td>\n",
       "      <td>22.0</td>\n",
       "      <td>2253.49</td>\n",
       "      <td>159.0</td>\n",
       "      <td>52</td>\n",
       "      <td>NaT</td>\n",
       "      <td>Краснодар</td>\n",
       "      <td>Рафаил</td>\n",
       "      <td>Верещагин</td>\n",
       "      <td>2018-05-25</td>\n",
       "      <td>ultra</td>\n",
       "    </tr>\n",
       "    <tr>\n",
       "      <th>1</th>\n",
       "      <td>1000</td>\n",
       "      <td>6</td>\n",
       "      <td>43.0</td>\n",
       "      <td>60.0</td>\n",
       "      <td>23233.77</td>\n",
       "      <td>172.0</td>\n",
       "      <td>52</td>\n",
       "      <td>NaT</td>\n",
       "      <td>Краснодар</td>\n",
       "      <td>Рафаил</td>\n",
       "      <td>Верещагин</td>\n",
       "      <td>2018-05-25</td>\n",
       "      <td>ultra</td>\n",
       "    </tr>\n",
       "    <tr>\n",
       "      <th>2</th>\n",
       "      <td>1000</td>\n",
       "      <td>7</td>\n",
       "      <td>47.0</td>\n",
       "      <td>75.0</td>\n",
       "      <td>14003.64</td>\n",
       "      <td>340.0</td>\n",
       "      <td>52</td>\n",
       "      <td>NaT</td>\n",
       "      <td>Краснодар</td>\n",
       "      <td>Рафаил</td>\n",
       "      <td>Верещагин</td>\n",
       "      <td>2018-05-25</td>\n",
       "      <td>ultra</td>\n",
       "    </tr>\n",
       "    <tr>\n",
       "      <th>3</th>\n",
       "      <td>1000</td>\n",
       "      <td>8</td>\n",
       "      <td>52.0</td>\n",
       "      <td>81.0</td>\n",
       "      <td>14055.93</td>\n",
       "      <td>408.0</td>\n",
       "      <td>52</td>\n",
       "      <td>NaT</td>\n",
       "      <td>Краснодар</td>\n",
       "      <td>Рафаил</td>\n",
       "      <td>Верещагин</td>\n",
       "      <td>2018-05-25</td>\n",
       "      <td>ultra</td>\n",
       "    </tr>\n",
       "    <tr>\n",
       "      <th>4</th>\n",
       "      <td>1000</td>\n",
       "      <td>9</td>\n",
       "      <td>58.0</td>\n",
       "      <td>57.0</td>\n",
       "      <td>14568.91</td>\n",
       "      <td>466.0</td>\n",
       "      <td>52</td>\n",
       "      <td>NaT</td>\n",
       "      <td>Краснодар</td>\n",
       "      <td>Рафаил</td>\n",
       "      <td>Верещагин</td>\n",
       "      <td>2018-05-25</td>\n",
       "      <td>ultra</td>\n",
       "    </tr>\n",
       "  </tbody>\n",
       "</table>\n",
       "</div>"
      ],
      "text/plain": [
       "   user_id  month  calls  messages   mb_used  minutes  age churn_date  \\\n",
       "0     1000      5   22.0      22.0   2253.49    159.0   52        NaT   \n",
       "1     1000      6   43.0      60.0  23233.77    172.0   52        NaT   \n",
       "2     1000      7   47.0      75.0  14003.64    340.0   52        NaT   \n",
       "3     1000      8   52.0      81.0  14055.93    408.0   52        NaT   \n",
       "4     1000      9   58.0      57.0  14568.91    466.0   52        NaT   \n",
       "\n",
       "        city first_name  last_name   reg_date tariff  \n",
       "0  Краснодар     Рафаил  Верещагин 2018-05-25  ultra  \n",
       "1  Краснодар     Рафаил  Верещагин 2018-05-25  ultra  \n",
       "2  Краснодар     Рафаил  Верещагин 2018-05-25  ultra  \n",
       "3  Краснодар     Рафаил  Верещагин 2018-05-25  ultra  \n",
       "4  Краснодар     Рафаил  Верещагин 2018-05-25  ultra  "
      ]
     },
     "execution_count": 26,
     "metadata": {},
     "output_type": "execute_result"
    }
   ],
   "source": [
    "# Merging all DataFrames together\n",
    "user_behavior = (\n",
    "    calls_per_month.merge(\n",
    "        messages_per_month, left_index=True, right_index=True, how=\"outer\"\n",
    "    )\n",
    "    .merge(sessions_per_month, left_index=True, right_index=True, how=\"outer\")\n",
    "    .merge(minutes_per_month, left_index=True, right_index=True, how=\"outer\")\n",
    "    .reset_index()\n",
    "    .merge(users, how=\"left\", left_on=\"user_id\", right_on=\"user_id\")\n",
    ")\n",
    "user_behavior.head()"
   ]
  },
  {
   "cell_type": "markdown",
   "id": "ef8012f6-1435-4c2d-ba5d-33a23c0fce46",
   "metadata": {},
   "source": [
    "Let's check missing values in the merged DataFrame."
   ]
  },
  {
   "cell_type": "code",
   "execution_count": 27,
   "id": "18b57607-95eb-42ec-88d0-4910fcb8a059",
   "metadata": {},
   "outputs": [
    {
     "data": {
      "text/plain": [
       "user_id          0\n",
       "month            0\n",
       "calls           40\n",
       "messages       497\n",
       "mb_used         11\n",
       "minutes         40\n",
       "age              0\n",
       "churn_date    3027\n",
       "city             0\n",
       "first_name       0\n",
       "last_name        0\n",
       "reg_date         0\n",
       "tariff           0\n",
       "dtype: int64"
      ]
     },
     "execution_count": 27,
     "metadata": {},
     "output_type": "execute_result"
    }
   ],
   "source": [
    "user_behavior.isna().sum()"
   ]
  },
  {
   "cell_type": "markdown",
   "id": "6aaaf61a-be5c-4367-8eab-26fff37dc915",
   "metadata": {},
   "source": [
    "We can fill in the missing values in the data by just replacing `NaN` with zeros."
   ]
  },
  {
   "cell_type": "code",
   "execution_count": 28,
   "id": "5c80c7fe-731e-437d-88a9-0ff895d49107",
   "metadata": {},
   "outputs": [],
   "source": [
    "# Filling in missing values\n",
    "cols_to_fill_in = [\"calls\", \"minutes\", \"messages\", \"mb_used\"]\n",
    "for col in cols_to_fill_in:\n",
    "    user_behavior[col] = user_behavior[col].fillna(0)"
   ]
  },
  {
   "cell_type": "markdown",
   "id": "c4eda995-416d-4e28-8056-ccd4296ff258",
   "metadata": {},
   "source": [
    "Now, let's also add numeric information about tariffs to `user_behavior`. For that, first, rename the column in `tariffs` DataFrame."
   ]
  },
  {
   "cell_type": "code",
   "execution_count": 29,
   "id": "45b00dff-09a7-410f-8e22-9b288cdeb59b",
   "metadata": {},
   "outputs": [],
   "source": [
    "# Renaming a column\n",
    "tariffs = tariffs.rename(columns={\"tariff_name\": \"tariff\"})"
   ]
  },
  {
   "cell_type": "code",
   "execution_count": 30,
   "id": "89d758ac-450b-4a4b-b15e-afee5b2bb6d6",
   "metadata": {},
   "outputs": [],
   "source": [
    "# Adding tariff name to the merged DataFrame\n",
    "user_behavior = user_behavior.merge(tariffs, on=\"tariff\")"
   ]
  },
  {
   "cell_type": "markdown",
   "id": "2551f96d-8284-4046-9711-f0eae7b19fe2",
   "metadata": {},
   "source": [
    "Compute the number of minutes, messages and megabytes exceeding those included in the tariff."
   ]
  },
  {
   "cell_type": "code",
   "execution_count": 31,
   "id": "b7d4b082-f7d3-4ff4-bfba-45c24284cb53",
   "metadata": {},
   "outputs": [],
   "source": [
    "# Auxiliary calculations\n",
    "user_behavior[\"paid_minutes\"] = (\n",
    "    user_behavior[\"minutes\"] - user_behavior[\"minutes_included\"]\n",
    ")\n",
    "user_behavior[\"paid_messages\"] = (\n",
    "    user_behavior[\"messages\"] - user_behavior[\"messages_included\"]\n",
    ")\n",
    "user_behavior[\"paid_mb\"] = (\n",
    "    user_behavior[\"mb_used\"] - user_behavior[\"mb_per_month_included\"]\n",
    ")\n",
    "\n",
    "for col in [\"paid_messages\", \"paid_minutes\", \"paid_mb\"]:\n",
    "    user_behavior.loc[user_behavior[col] < 0, col] = 0"
   ]
  },
  {
   "cell_type": "markdown",
   "id": "a7b9ed16-212e-46d1-80f4-d4739543f814",
   "metadata": {},
   "source": [
    "Convert megabytes that exceed the tariff to gigabytes and save the result to a new column `paid_gb`."
   ]
  },
  {
   "cell_type": "code",
   "execution_count": 32,
   "id": "f3e2732f-9b7b-4508-9c15-30c0631063e8",
   "metadata": {},
   "outputs": [],
   "source": [
    "# Auxiliary calculations\n",
    "user_behavior[\"paid_gb\"] = np.ceil(user_behavior[\"paid_mb\"] / 1024).astype(int)"
   ]
  },
  {
   "cell_type": "markdown",
   "id": "c07f9627-def6-4bcb-93e4-f378ed926dc8",
   "metadata": {},
   "source": [
    "Compute revenue for minutes, messages and internet."
   ]
  },
  {
   "cell_type": "code",
   "execution_count": 33,
   "id": "dcc2cf48-ec06-46b3-86e4-16dde08af168",
   "metadata": {},
   "outputs": [],
   "source": [
    "# Computing revenues\n",
    "user_behavior[\"cost_minutes\"] = (\n",
    "    user_behavior[\"paid_minutes\"] * user_behavior[\"rub_per_minute\"]\n",
    ")\n",
    "user_behavior[\"cost_messages\"] = (\n",
    "    user_behavior[\"paid_messages\"] * user_behavior[\"rub_per_message\"]\n",
    ")\n",
    "user_behavior[\"cost_gb\"] = user_behavior[\"paid_gb\"] * user_behavior[\"rub_per_gb\"]"
   ]
  },
  {
   "cell_type": "markdown",
   "id": "97d8fc29-089e-4117-890c-388acf26f758",
   "metadata": {},
   "source": [
    "Finally, we can compute monthly revenue obtained from each user."
   ]
  },
  {
   "cell_type": "code",
   "execution_count": 34,
   "id": "6302a20a-ea63-4f63-b6c4-836467bb4b43",
   "metadata": {},
   "outputs": [],
   "source": [
    "# Calculating total monthly revenue by user\n",
    "user_behavior[\"total_cost\"] = (\n",
    "    user_behavior[\"rub_monthly_fee\"]\n",
    "    + user_behavior[\"cost_minutes\"]\n",
    "    + user_behavior[\"cost_messages\"]\n",
    "    + user_behavior[\"cost_gb\"]\n",
    ")"
   ]
  },
  {
   "cell_type": "markdown",
   "id": "ab979034-1126-4ab0-bad0-33c4314fa4de",
   "metadata": {},
   "source": [
    "### Visualization"
   ]
  },
  {
   "cell_type": "markdown",
   "id": "15e1ed40-da4e-4b31-a04b-ee82a535f6cb",
   "metadata": {},
   "source": [
    "The next step is to conduct some data visualizations to get more insights into the data and understand which tariff is more optimal. This will allow later formulating hypotheses to be tested. Start with building a pivot table that would store different statistical metrics (mean, standard deviation, median) for number of calls, minutes, messages and internet traffic. In this way, it will be possible to see how these data are distributed when broken down by month and tariff."
   ]
  },
  {
   "cell_type": "code",
   "execution_count": 35,
   "id": "dad58ad7-d1ca-4b1a-994a-77486f866add",
   "metadata": {},
   "outputs": [
    {
     "data": {
      "text/html": [
       "<div>\n",
       "<style scoped>\n",
       "    .dataframe tbody tr th:only-of-type {\n",
       "        vertical-align: middle;\n",
       "    }\n",
       "\n",
       "    .dataframe tbody tr th {\n",
       "        vertical-align: top;\n",
       "    }\n",
       "\n",
       "    .dataframe thead th {\n",
       "        text-align: right;\n",
       "    }\n",
       "</style>\n",
       "<table border=\"1\" class=\"dataframe\">\n",
       "  <thead>\n",
       "    <tr style=\"text-align: right;\">\n",
       "      <th></th>\n",
       "      <th>month</th>\n",
       "      <th>tariff</th>\n",
       "      <th>calls_mean</th>\n",
       "      <th>sessions_mean</th>\n",
       "      <th>messages_mean</th>\n",
       "      <th>minutes_mean</th>\n",
       "      <th>calls_std</th>\n",
       "      <th>sessions_std</th>\n",
       "      <th>messages_std</th>\n",
       "      <th>minutes_std</th>\n",
       "      <th>calls_median</th>\n",
       "      <th>sessions_median</th>\n",
       "      <th>messages_median</th>\n",
       "      <th>minutes_median</th>\n",
       "    </tr>\n",
       "  </thead>\n",
       "  <tbody>\n",
       "    <tr>\n",
       "      <th>0</th>\n",
       "      <td>1</td>\n",
       "      <td>smart</td>\n",
       "      <td>27.68</td>\n",
       "      <td>8513.72</td>\n",
       "      <td>18.24</td>\n",
       "      <td>203.85</td>\n",
       "      <td>20.81</td>\n",
       "      <td>6444.68</td>\n",
       "      <td>16.20</td>\n",
       "      <td>154.23</td>\n",
       "      <td>20.5</td>\n",
       "      <td>7096.18</td>\n",
       "      <td>15.0</td>\n",
       "      <td>162.5</td>\n",
       "    </tr>\n",
       "    <tr>\n",
       "      <th>1</th>\n",
       "      <td>1</td>\n",
       "      <td>ultra</td>\n",
       "      <td>59.44</td>\n",
       "      <td>13140.68</td>\n",
       "      <td>33.78</td>\n",
       "      <td>428.11</td>\n",
       "      <td>41.64</td>\n",
       "      <td>6865.35</td>\n",
       "      <td>30.67</td>\n",
       "      <td>269.76</td>\n",
       "      <td>51.0</td>\n",
       "      <td>14791.37</td>\n",
       "      <td>32.0</td>\n",
       "      <td>382.0</td>\n",
       "    </tr>\n",
       "    <tr>\n",
       "      <th>2</th>\n",
       "      <td>2</td>\n",
       "      <td>smart</td>\n",
       "      <td>40.19</td>\n",
       "      <td>11597.05</td>\n",
       "      <td>24.09</td>\n",
       "      <td>298.69</td>\n",
       "      <td>25.39</td>\n",
       "      <td>6247.35</td>\n",
       "      <td>21.75</td>\n",
       "      <td>190.82</td>\n",
       "      <td>38.5</td>\n",
       "      <td>12553.71</td>\n",
       "      <td>20.0</td>\n",
       "      <td>258.0</td>\n",
       "    </tr>\n",
       "    <tr>\n",
       "      <th>3</th>\n",
       "      <td>2</td>\n",
       "      <td>ultra</td>\n",
       "      <td>41.54</td>\n",
       "      <td>11775.94</td>\n",
       "      <td>21.96</td>\n",
       "      <td>297.12</td>\n",
       "      <td>40.97</td>\n",
       "      <td>10644.64</td>\n",
       "      <td>26.77</td>\n",
       "      <td>296.51</td>\n",
       "      <td>25.0</td>\n",
       "      <td>7327.12</td>\n",
       "      <td>5.5</td>\n",
       "      <td>168.0</td>\n",
       "    </tr>\n",
       "    <tr>\n",
       "      <th>4</th>\n",
       "      <td>3</td>\n",
       "      <td>smart</td>\n",
       "      <td>54.32</td>\n",
       "      <td>15104.16</td>\n",
       "      <td>31.86</td>\n",
       "      <td>390.05</td>\n",
       "      <td>25.54</td>\n",
       "      <td>5828.24</td>\n",
       "      <td>26.80</td>\n",
       "      <td>191.89</td>\n",
       "      <td>59.0</td>\n",
       "      <td>15670.25</td>\n",
       "      <td>23.0</td>\n",
       "      <td>409.0</td>\n",
       "    </tr>\n",
       "    <tr>\n",
       "      <th>5</th>\n",
       "      <td>3</td>\n",
       "      <td>ultra</td>\n",
       "      <td>67.68</td>\n",
       "      <td>17535.55</td>\n",
       "      <td>32.30</td>\n",
       "      <td>489.65</td>\n",
       "      <td>44.84</td>\n",
       "      <td>10951.79</td>\n",
       "      <td>41.62</td>\n",
       "      <td>333.74</td>\n",
       "      <td>57.0</td>\n",
       "      <td>17495.18</td>\n",
       "      <td>20.0</td>\n",
       "      <td>403.0</td>\n",
       "    </tr>\n",
       "    <tr>\n",
       "      <th>6</th>\n",
       "      <td>4</td>\n",
       "      <td>smart</td>\n",
       "      <td>51.31</td>\n",
       "      <td>13462.18</td>\n",
       "      <td>30.74</td>\n",
       "      <td>367.13</td>\n",
       "      <td>25.70</td>\n",
       "      <td>5698.25</td>\n",
       "      <td>24.54</td>\n",
       "      <td>186.49</td>\n",
       "      <td>52.0</td>\n",
       "      <td>14087.65</td>\n",
       "      <td>28.0</td>\n",
       "      <td>368.5</td>\n",
       "    </tr>\n",
       "    <tr>\n",
       "      <th>7</th>\n",
       "      <td>4</td>\n",
       "      <td>ultra</td>\n",
       "      <td>64.09</td>\n",
       "      <td>16828.13</td>\n",
       "      <td>31.56</td>\n",
       "      <td>458.02</td>\n",
       "      <td>36.27</td>\n",
       "      <td>9718.65</td>\n",
       "      <td>37.51</td>\n",
       "      <td>267.68</td>\n",
       "      <td>61.0</td>\n",
       "      <td>16645.78</td>\n",
       "      <td>17.0</td>\n",
       "      <td>453.0</td>\n",
       "    </tr>\n",
       "    <tr>\n",
       "      <th>8</th>\n",
       "      <td>5</td>\n",
       "      <td>smart</td>\n",
       "      <td>55.24</td>\n",
       "      <td>15805.18</td>\n",
       "      <td>33.77</td>\n",
       "      <td>387.36</td>\n",
       "      <td>25.38</td>\n",
       "      <td>5978.23</td>\n",
       "      <td>27.04</td>\n",
       "      <td>186.60</td>\n",
       "      <td>59.0</td>\n",
       "      <td>16323.94</td>\n",
       "      <td>30.0</td>\n",
       "      <td>433.0</td>\n",
       "    </tr>\n",
       "    <tr>\n",
       "      <th>9</th>\n",
       "      <td>5</td>\n",
       "      <td>ultra</td>\n",
       "      <td>72.51</td>\n",
       "      <td>19363.15</td>\n",
       "      <td>37.85</td>\n",
       "      <td>510.33</td>\n",
       "      <td>41.08</td>\n",
       "      <td>10046.11</td>\n",
       "      <td>40.31</td>\n",
       "      <td>289.60</td>\n",
       "      <td>75.0</td>\n",
       "      <td>18696.43</td>\n",
       "      <td>25.0</td>\n",
       "      <td>519.0</td>\n",
       "    </tr>\n",
       "  </tbody>\n",
       "</table>\n",
       "</div>"
      ],
      "text/plain": [
       "   month tariff  calls_mean  sessions_mean  messages_mean  minutes_mean  \\\n",
       "0      1  smart       27.68        8513.72          18.24        203.85   \n",
       "1      1  ultra       59.44       13140.68          33.78        428.11   \n",
       "2      2  smart       40.19       11597.05          24.09        298.69   \n",
       "3      2  ultra       41.54       11775.94          21.96        297.12   \n",
       "4      3  smart       54.32       15104.16          31.86        390.05   \n",
       "5      3  ultra       67.68       17535.55          32.30        489.65   \n",
       "6      4  smart       51.31       13462.18          30.74        367.13   \n",
       "7      4  ultra       64.09       16828.13          31.56        458.02   \n",
       "8      5  smart       55.24       15805.18          33.77        387.36   \n",
       "9      5  ultra       72.51       19363.15          37.85        510.33   \n",
       "\n",
       "   calls_std  sessions_std  messages_std  minutes_std  calls_median  \\\n",
       "0      20.81       6444.68         16.20       154.23          20.5   \n",
       "1      41.64       6865.35         30.67       269.76          51.0   \n",
       "2      25.39       6247.35         21.75       190.82          38.5   \n",
       "3      40.97      10644.64         26.77       296.51          25.0   \n",
       "4      25.54       5828.24         26.80       191.89          59.0   \n",
       "5      44.84      10951.79         41.62       333.74          57.0   \n",
       "6      25.70       5698.25         24.54       186.49          52.0   \n",
       "7      36.27       9718.65         37.51       267.68          61.0   \n",
       "8      25.38       5978.23         27.04       186.60          59.0   \n",
       "9      41.08      10046.11         40.31       289.60          75.0   \n",
       "\n",
       "   sessions_median  messages_median  minutes_median  \n",
       "0          7096.18             15.0           162.5  \n",
       "1         14791.37             32.0           382.0  \n",
       "2         12553.71             20.0           258.0  \n",
       "3          7327.12              5.5           168.0  \n",
       "4         15670.25             23.0           409.0  \n",
       "5         17495.18             20.0           403.0  \n",
       "6         14087.65             28.0           368.5  \n",
       "7         16645.78             17.0           453.0  \n",
       "8         16323.94             30.0           433.0  \n",
       "9         18696.43             25.0           519.0  "
      ]
     },
     "execution_count": 35,
     "metadata": {},
     "output_type": "execute_result"
    }
   ],
   "source": [
    "# Saving statistical metrics for each \"month-tariff\" pair (mean, standard deviation, median)\n",
    "stats_df = (\n",
    "    user_behavior.pivot_table(\n",
    "        index=[\"month\", \"tariff\"],\n",
    "        values=[\"calls\", \"minutes\", \"messages\", \"mb_used\"],\n",
    "        aggfunc=[\"mean\", \"std\", \"median\"],\n",
    "    )\n",
    "    .round(2)\n",
    "    .reset_index()\n",
    ")\n",
    "\n",
    "stats_df.columns = [\n",
    "    \"month\",\n",
    "    \"tariff\",\n",
    "    \"calls_mean\",\n",
    "    \"sessions_mean\",\n",
    "    \"messages_mean\",\n",
    "    \"minutes_mean\",\n",
    "    \"calls_std\",\n",
    "    \"sessions_std\",\n",
    "    \"messages_std\",\n",
    "    \"minutes_std\",\n",
    "    \"calls_median\",\n",
    "    \"sessions_median\",\n",
    "    \"messages_median\",\n",
    "    \"minutes_median\",\n",
    "]\n",
    "\n",
    "stats_df.head(10)"
   ]
  },
  {
   "cell_type": "markdown",
   "id": "45892a88-b3f9-4218-88b5-812b7be98613",
   "metadata": {},
   "source": [
    "#### Number of calls"
   ]
  },
  {
   "cell_type": "markdown",
   "id": "f59a13ae-b4c5-4211-8a87-2588eb7b4e09",
   "metadata": {},
   "source": [
    "We can start by plotting the distribution of the mean number of calls by each month and each tariff available."
   ]
  },
  {
   "cell_type": "code",
   "execution_count": 36,
   "id": "059bb34f-2a20-40b5-abf9-3e2b3199861d",
   "metadata": {},
   "outputs": [
    {
     "data": {
      "image/png": "[encoded data removed]",
      "text/plain": [
       "<Figure size 640x480 with 1 Axes>"
      ]
     },
     "metadata": {},
     "output_type": "display_data"
    }
   ],
   "source": [
    "# Plotting the distribution of number of calls\n",
    "ax = sns.barplot(\n",
    "    x=\"month\",\n",
    "    y=\"calls_mean\",\n",
    "    hue=\"tariff\",\n",
    "    data=stats_df,\n",
    "    palette=[\"lightblue\", \"blue\"],\n",
    ")\n",
    "\n",
    "ax.set_title(\"Number of calls by tariff and month\")\n",
    "ax.set(xlabel=\"Month number\", ylabel=\"Mean number of calls\")\n",
    "plt.show()"
   ]
  },
  {
   "cell_type": "code",
   "execution_count": 37,
   "id": "14d7057c-01c8-49c5-bf3d-102e39816f6b",
   "metadata": {},
   "outputs": [
    {
     "data": {
      "image/png": "[encoded data removed]",
      "text/plain": [
       "<Figure size 640x480 with 1 Axes>"
      ]
     },
     "metadata": {},
     "output_type": "display_data"
    }
   ],
   "source": [
    "# Plotting the histogram\n",
    "user_behavior.groupby(\"tariff\")[\"calls\"].plot(kind=\"hist\", bins=35, alpha=0.5)\n",
    "\n",
    "plt.legend([\"Smart\", \"Ultra\"])\n",
    "plt.xlabel(\"Number of calls\")\n",
    "plt.ylabel(\"Number of clients\")\n",
    "plt.title(\"Histogram of number of calls\")\n",
    "plt.show()"
   ]
  },
  {
   "cell_type": "markdown",
   "id": "ddcf3004-0e06-451d-8f82-e07ec851524d",
   "metadata": {},
   "source": [
    "It can be seen that users of \"Ultra\" tariff on average make more calls that those of \"Smart\" tariff throughout the year. Mean number of calls is increased for \"Smart\" tariff more or less steadily, while that for \"Ultra\" tariff users exhibits ups and downs but keeps moderately increasing."
   ]
  },
  {
   "cell_type": "markdown",
   "id": "3779bb53-b3f2-4380-8aa2-e4c41825a098",
   "metadata": {},
   "source": [
    "#### Duration of calls"
   ]
  },
  {
   "cell_type": "markdown",
   "id": "c17f3620-4ebc-42a1-98e5-39a73291e303",
   "metadata": {},
   "source": [
    "Next, consider call duration which can also be broken down into duration of calls by months and tariffs."
   ]
  },
  {
   "cell_type": "code",
   "execution_count": 38,
   "id": "1b44fbd8-2144-4ed5-b11a-5afe595b4132",
   "metadata": {},
   "outputs": [
    {
     "data": {
      "image/png": "[encoded data removed]",
      "text/plain": [
       "<Figure size 640x480 with 1 Axes>"
      ]
     },
     "metadata": {},
     "output_type": "display_data"
    }
   ],
   "source": [
    "# Plotting the distribution of the call duration\n",
    "ax = sns.barplot(\n",
    "    x=\"month\",\n",
    "    y=\"minutes_mean\",\n",
    "    hue=\"tariff\",\n",
    "    data=stats_df,\n",
    "    palette=[\"lightblue\", \"blue\"],\n",
    ")\n",
    "\n",
    "ax.set_title(\"Calls duration by tariff and month\")\n",
    "ax.set(xlabel=\"Month number\", ylabel=\"Mean calls duration\")\n",
    "plt.show()"
   ]
  },
  {
   "cell_type": "code",
   "execution_count": 39,
   "id": "317bdd8b-b849-472d-abbd-e18413b775bc",
   "metadata": {},
   "outputs": [
    {
     "data": {
      "image/png": "[encoded data removed]",
      "text/plain": [
       "<Figure size 640x480 with 1 Axes>"
      ]
     },
     "metadata": {},
     "output_type": "display_data"
    }
   ],
   "source": [
    "# Plotting the histogram\n",
    "user_behavior[user_behavior[\"tariff\"] == \"smart\"][\"minutes\"].hist(\n",
    "    bins=35, alpha=0.5, color=\"green\"\n",
    ")\n",
    "user_behavior[user_behavior[\"tariff\"] == \"ultra\"][\"minutes\"].hist(\n",
    "    bins=35, alpha=0.5, color=\"blue\"\n",
    ")\n",
    "\n",
    "plt.xlabel(\"Call duration (minutes)\")\n",
    "plt.ylabel(\"Number of clients\")\n",
    "plt.title(\"Histogram of call duration\")\n",
    "plt.legend([\"Smart\", \"Ultra\"])\n",
    "plt.show()"
   ]
  },
  {
   "cell_type": "markdown",
   "id": "c5948b26-6a58-47ef-894b-71d2a17c464b",
   "metadata": {},
   "source": [
    "The average duration of conversations for subscribers of the \"Ultra\" tariff is longer than that for subscribers of \"Smart\" tariff. During the year, users of both tariffs increase the average duration of their conversations. The growth of the average duration of conversations among subscribers of \"Smart\" tariff is uniform throughout the year, whilst users of \"Ultra\" tariff do not show such linear stability. It is worth noting that in February, subscribers of both tariff plans had the lowest rates."
   ]
  },
  {
   "cell_type": "markdown",
   "id": "bef45256-8064-4fa5-ba21-b5e1102e5c08",
   "metadata": {},
   "source": [
    "#### Number of messages"
   ]
  },
  {
   "cell_type": "code",
   "execution_count": 40,
   "id": "afa3e02e-74d8-48a0-93fa-c0ba4e735574",
   "metadata": {},
   "outputs": [
    {
     "data": {
      "image/png": "[encoded data removed]",
      "text/plain": [
       "<Figure size 640x480 with 1 Axes>"
      ]
     },
     "metadata": {},
     "output_type": "display_data"
    }
   ],
   "source": [
    "# Plotting\n",
    "ax = sns.barplot(\n",
    "    x=\"month\",\n",
    "    y=\"messages_mean\",\n",
    "    hue=\"tariff\",\n",
    "    data=stats_df,\n",
    "    palette=[\"lightblue\", \"blue\"],\n",
    ")\n",
    "\n",
    "ax.set_title(\"Number of messages by tariff and month\")\n",
    "ax.set(xlabel=\"Month number\", ylabel=\"Mean number of messages\")\n",
    "plt.show()"
   ]
  },
  {
   "cell_type": "code",
   "execution_count": 41,
   "id": "411e9501-1927-4b07-aadf-d9579fcda707",
   "metadata": {},
   "outputs": [
    {
     "data": {
      "image/png": "[encoded data removed]",
      "text/plain": [
       "<Figure size 640x480 with 1 Axes>"
      ]
     },
     "metadata": {},
     "output_type": "display_data"
    }
   ],
   "source": [
    "# Plotting the histogram\n",
    "user_behavior[user_behavior[\"tariff\"] == \"smart\"][\"messages\"].hist(\n",
    "    bins=35, alpha=0.5, color=\"green\"\n",
    ")\n",
    "user_behavior[user_behavior[\"tariff\"] == \"ultra\"][\"messages\"].hist(\n",
    "    bins=35, alpha=0.5, color=\"blue\"\n",
    ")\n",
    "\n",
    "plt.xlabel(\"Number of messages\")\n",
    "plt.ylabel(\"Number of clients\")\n",
    "plt.title(\"Histogram of number of messages\")\n",
    "plt.legend([\"Smart\", \"Ultra\"])\n",
    "plt.show()"
   ]
  },
  {
   "cell_type": "markdown",
   "id": "c3a87937-742e-451b-be4c-4378d34f5b21",
   "metadata": {},
   "source": [
    "On average, \"Ultra\" tariff users send more messages - almost 20 messages more than \"Smart\" tariff users. The number of messages during the year on both tariffs is growing. The dynamics of sending messages is similar to the trends in the duration of conversations: in February, the smallest number of messages for the year was noted and users of \"Ultra\" tariff also show a non-linear positive dynamics."
   ]
  },
  {
   "cell_type": "markdown",
   "id": "f3484715-6145-4f16-a1d4-ccc5e31918f7",
   "metadata": {},
   "source": [
    "#### Internet traffic spent"
   ]
  },
  {
   "cell_type": "code",
   "execution_count": 42,
   "id": "8afbd289-14a2-44c3-9844-6a1f37bcbb62",
   "metadata": {},
   "outputs": [
    {
     "data": {
      "image/png": "[encoded data removed]",
      "text/plain": [
       "<Figure size 640x480 with 1 Axes>"
      ]
     },
     "metadata": {},
     "output_type": "display_data"
    }
   ],
   "source": [
    "# Plotting\n",
    "ax = sns.barplot(\n",
    "    x=\"month\",\n",
    "    y=\"sessions_mean\",\n",
    "    hue=\"tariff\",\n",
    "    data=stats_df,\n",
    "    palette=[\"lightblue\", \"blue\"],\n",
    ")\n",
    "\n",
    "ax.set_title(\"Internet traffic spent (MB) by tariff and month\")\n",
    "ax.set(xlabel=\"Month number\", ylabel=\"Mean MB amount\")\n",
    "plt.show()"
   ]
  },
  {
   "cell_type": "code",
   "execution_count": 43,
   "id": "53064d68-7085-43be-8885-000bbeb02932",
   "metadata": {},
   "outputs": [
    {
     "data": {
      "image/png": "[encoded data removed]",
      "text/plain": [
       "<Figure size 640x480 with 1 Axes>"
      ]
     },
     "metadata": {},
     "output_type": "display_data"
    }
   ],
   "source": [
    "# Plotting\n",
    "user_behavior[user_behavior[\"tariff\"] == \"smart\"][\"mb_used\"].hist(\n",
    "    bins=35, alpha=0.5, color=\"green\"\n",
    ")\n",
    "user_behavior[user_behavior[\"tariff\"] == \"ultra\"][\"mb_used\"].hist(\n",
    "    bins=35, alpha=0.5, color=\"blue\"\n",
    ")\n",
    "\n",
    "plt.xlabel(\"MB spent\")\n",
    "plt.ylabel(\"Number of clients\")\n",
    "plt.title(\"Histogram of internet traffic spent\")\n",
    "plt.legend([\"Smart\", \"Ultra\"])\n",
    "plt.show()"
   ]
  },
  {
   "cell_type": "markdown",
   "id": "4dcf2b02-9e06-4663-b955-db7a8cd07fc0",
   "metadata": {},
   "source": [
    "The least amount of internet traffic spent by users can be seen in January, February and April. Most often, subscribers of \"Smart\" tariff spend 15-17 GB, and subscribers of \"Ultra\" tariff plan spend 19-21 GB."
   ]
  },
  {
   "cell_type": "markdown",
   "id": "96f90313-b4ef-4504-9665-e34d4b37a97c",
   "metadata": {},
   "source": [
    "**Conclusion**\n",
    "\n",
    "The results of data visualizations conducted imply that \"Ultra\" users are more profitable for the company than \"Smart\" users. On average, these users are more active in terms of usage of \"Ultra\" tariff plan. "
   ]
  },
  {
   "cell_type": "markdown",
   "id": "fbbb56b7-112e-4dcb-aee2-edd0830e0012",
   "metadata": {},
   "source": [
    "## Hypotheses testing"
   ]
  },
  {
   "cell_type": "markdown",
   "id": "5346c377-d687-41e3-8cbd-437b0e0c83c7",
   "metadata": {},
   "source": [
    "#### Test 1"
   ]
  },
  {
   "cell_type": "markdown",
   "id": "861bf1c0-bdd5-4069-84f0-196809a68018",
   "metadata": {},
   "source": [
    "After conducting data visualization, we have found out that on average \"Ultra\" users spend more internet, send more messages, make longer calls and a larger amount of calls. Thus, it seems logical to assume that revenue brought by these users will be higher than that from \"Smart\" users. We can test such a hypothesis statistically. We formulate the following null and alternative hypotheses at 5% significance level:"
   ]
  },
  {
   "cell_type": "markdown",
   "id": "290a1e78-2c42-423e-a3f1-1489c93d93e9",
   "metadata": {},
   "source": [
    "```\n",
    "H_0: Revenue (total_cost) of \"Ultra\" users = Revenue (total_cost) of \"Smart\" users\n",
    "H_1: Revenue (total_cost) of \"Ultra\" users ≠ Revenue (total_cost) of \"Smart\" users\n",
    "alpha = 0.05\n",
    "```"
   ]
  },
  {
   "cell_type": "code",
   "execution_count": 44,
   "id": "926672e7-0c4a-4154-b12b-82147be18cff",
   "metadata": {},
   "outputs": [
    {
     "name": "stdout",
     "output_type": "stream",
     "text": [
      "p-value: 4.2606313931076085e-250\n",
      "Test result: We reject the null.\n"
     ]
    }
   ],
   "source": [
    "# Conducting a statistical test 1\n",
    "results = st.ttest_ind(\n",
    "    user_behavior[user_behavior[\"tariff\"] == \"ultra\"][\"total_cost\"],\n",
    "    user_behavior[user_behavior[\"tariff\"] == \"smart\"][\"total_cost\"],\n",
    "    equal_var=False,\n",
    ")\n",
    "\n",
    "# Setting significance level\n",
    "alpha = 0.05\n",
    "\n",
    "# Printing p-value\n",
    "print(f\"p-value: {results.pvalue}\")\n",
    "\n",
    "# Outcome if accepting the null\n",
    "test_results_H0 = \"Test result: We cannot reject the null.\"\n",
    "\n",
    "# Outcome if rejecting the null\n",
    "test_results_H1 = \"Test result: We reject the null.\"\n",
    "\n",
    "# Determining the final outcome of the two-sided test\n",
    "test_results = test_results_H1 if results.pvalue < alpha else test_results_H0\n",
    "\n",
    "# Printing test results\n",
    "print(test_results)"
   ]
  },
  {
   "cell_type": "markdown",
   "id": "f14bd083-5697-4bdc-9244-aecca7840547",
   "metadata": {},
   "source": [
    "Thus, we have to reject the null hypothesis, which means that true average revenues of these two groups of users differ significantly. Hence, we can conduct another test, where we would test for average revenue of \"Ultra\" users being significantly higher than that for \"Smart\" users."
   ]
  },
  {
   "cell_type": "markdown",
   "id": "a9ea697c-6a75-4384-9e48-46e54878bed3",
   "metadata": {},
   "source": [
    "#### Test 2"
   ]
  },
  {
   "cell_type": "markdown",
   "id": "8a1a2207-d8fd-4f6d-a168-a7d56c48922f",
   "metadata": {},
   "source": [
    "```\n",
    "H_0: Revenue (total_cost) of \"Ultra\" users = Revenue (total_cost) of \"Smart\" users\n",
    "H_1: Revenue (total_cost) of \"Ultra\" users > Revenue (total_cost) of \"Smart\" users\n",
    "alpha = 0.05\n",
    "```"
   ]
  },
  {
   "cell_type": "code",
   "execution_count": 45,
   "id": "d07203f7-0caf-4ea0-bb9d-322a23b6a11b",
   "metadata": {},
   "outputs": [
    {
     "name": "stdout",
     "output_type": "stream",
     "text": [
      "p-value: 2.1303156965538042e-250\n",
      "Mean revenue from \"Ultra\" users: 2070.1522842639592\n",
      "Mean revenue from \"Smart\" users: 1289.9735307312696\n",
      "Test result: We reject the null.\n"
     ]
    }
   ],
   "source": [
    "# Conducting a statistical test 2\n",
    "results = st.ttest_ind(\n",
    "    user_behavior[user_behavior[\"tariff\"] == \"ultra\"][\"total_cost\"],\n",
    "    user_behavior[user_behavior[\"tariff\"] == \"smart\"][\"total_cost\"],\n",
    "    equal_var=False,\n",
    ")\n",
    "\n",
    "# Computing mean revenues\n",
    "ultra_revenue = user_behavior[user_behavior[\"tariff\"] == \"ultra\"][\"total_cost\"].mean()\n",
    "smart_revenue = user_behavior[user_behavior[\"tariff\"] == \"smart\"][\"total_cost\"].mean()\n",
    "\n",
    "# Printing p-value and mean revenues\n",
    "print(f\"p-value: {results.pvalue/2}\")\n",
    "print(f'Mean revenue from \"Ultra\" users: {ultra_revenue}')\n",
    "print(f'Mean revenue from \"Smart\" users: {smart_revenue}')\n",
    "\n",
    "# Determining the final outcome of the one-sided test\n",
    "test_results = (\n",
    "    test_results_H1\n",
    "    if ((results.pvalue / 2 < alpha) and (ultra_revenue > smart_revenue))\n",
    "    else test_results_H0\n",
    ")\n",
    "\n",
    "print(test_results)"
   ]
  },
  {
   "cell_type": "markdown",
   "id": "c906a99a-ef42-44de-9432-bbf03f206ac3",
   "metadata": {},
   "source": [
    "Thus, we reject the null hypothesis: mean revenue brought by \"Ultra\" users is higher than that from \"Smart\" tariff. Hence, we identified the optimal tariff plan for the company."
   ]
  },
  {
   "cell_type": "markdown",
   "id": "758ea200-05be-4199-85b8-bc0cebb8abc9",
   "metadata": {},
   "source": [
    "#### Test 3"
   ]
  },
  {
   "cell_type": "markdown",
   "id": "e98e049e-e4b3-4212-91ad-51d7f73280a7",
   "metadata": {},
   "source": [
    "Additionally, let's conduct another test and compare revenues from Moscow users and other users."
   ]
  },
  {
   "cell_type": "markdown",
   "id": "a4acd549-02f0-42bb-8f56-e427c4955cd8",
   "metadata": {},
   "source": [
    "```\n",
    "H_0: Revenue (total_cost) of Moscow users = Revenue (total_cost) of non-Moscow users\n",
    "H_1: Revenue (total_cost) of Moscow users ≠ Revenue (total_cost) of non-Moscow users\n",
    "alpha = 0.05\n",
    "```"
   ]
  },
  {
   "cell_type": "code",
   "execution_count": 46,
   "id": "154614b8-d3cc-4f95-ad3d-406315cbe27b",
   "metadata": {},
   "outputs": [
    {
     "name": "stdout",
     "output_type": "stream",
     "text": [
      "p-value: 0.5257376663729298\n",
      "Test result: We cannot reject the null.\n"
     ]
    }
   ],
   "source": [
    "# Conducting a statistical test 3\n",
    "results = st.ttest_ind(\n",
    "    user_behavior[user_behavior[\"city\"] == \"Москва\"][\"total_cost\"],\n",
    "    user_behavior[user_behavior[\"city\"] != \"Москва\"][\"total_cost\"],\n",
    "    equal_var=False,\n",
    ")\n",
    "\n",
    "print(f\"p-value: {results.pvalue}\")\n",
    "\n",
    "test_results = test_results_H1 if results.pvalue < alpha else test_results_H0\n",
    "\n",
    "print(test_results)"
   ]
  },
  {
   "cell_type": "markdown",
   "id": "49302474-057b-4487-830c-b521abdcd841",
   "metadata": {},
   "source": [
    "In other words, mean revenues of Moscow and non-Moscow users are not statistically different from each other."
   ]
  },
  {
   "cell_type": "markdown",
   "id": "ed8d8b5c-50c4-4876-9872-edbe686d74f8",
   "metadata": {},
   "source": [
    "**Conclusion**\n",
    "\n",
    "We have managed to identify a tariff that would be better for the company to focus on - \"Ultra\" tariff. Statistical tests confirm this point. "
   ]
  },
  {
   "cell_type": "markdown",
   "id": "b71378a0-1847-4ac1-b930-cbccb873102d",
   "metadata": {},
   "source": [
    "## General conclusion"
   ]
  },
  {
   "cell_type": "markdown",
   "id": "58ae0c2e-5f7d-4405-a982-f4acf9f92f4e",
   "metadata": {},
   "source": [
    "To recap, the data analysis of tariff plans offered by the company has been carried out. Initially having five different datasets, we have managed to aggregate information contained there to conduct data visualizations and statistical testing. The results of the present study indentified \"Ultra\" tariff as an optimal tariff plan that the company should invest in.  "
   ]
  }
 ],
 "metadata": {
  "kernelspec": {
   "display_name": "Python 3 (ipykernel)",
   "language": "python",
   "name": "python3"
  },
  "language_info": {
   "codemirror_mode": {
    "name": "ipython",
    "version": 3
   },
   "file_extension": ".py",
   "mimetype": "text/x-python",
   "name": "python",
   "nbconvert_exporter": "python",
   "pygments_lexer": "ipython3",
   "version": "3.9.13"
  },
  "vscode": {
   "interpreter": {
    "hash": "95a7f9257bb0e0e3a92afffa8ee737ea00ea12f69b6d84ec05c9c09bbf1e188b"
   }
  }
 },
 "nbformat": 4,
 "nbformat_minor": 5
}
