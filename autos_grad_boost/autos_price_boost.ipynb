{
 "cells": [
  {
   "cell_type": "markdown",
   "id": "5f4f65d8-29c3-411c-965a-c32babd60aa9",
   "metadata": {},
   "source": [
    "# Data preparation"
   ]
  },
  {
   "cell_type": "markdown",
   "id": "e0a95526-7f55-452b-b24d-4667de4b20d2",
   "metadata": {},
   "source": [
    "## Data loading"
   ]
  },
  {
   "cell_type": "code",
   "execution_count": 1,
   "id": "d35c9766-9293-48f6-9d91-16277a48a795",
   "metadata": {},
   "outputs": [],
   "source": [
    "import re\n",
    "import time\n",
    "import warnings\n",
    "from pprint import PrettyPrinter\n",
    "\n",
    "import matplotlib.pyplot as plt\n",
    "import numpy as np\n",
    "import pandas as pd\n",
    "import seaborn as sns\n",
    "from catboost import CatBoostRegressor\n",
    "from IPython.display import display\n",
    "from joblib import dump, load\n",
    "from lightgbm import LGBMRegressor\n",
    "from sklearn.compose import ColumnTransformer, make_column_selector\n",
    "from sklearn.dummy import DummyRegressor\n",
    "from sklearn.ensemble import RandomForestRegressor\n",
    "from sklearn.impute import SimpleImputer\n",
    "from sklearn.metrics import mean_squared_error\n",
    "from sklearn.model_selection import train_test_split, RandomizedSearchCV\n",
    "from sklearn.pipeline import Pipeline\n",
    "from sklearn.preprocessing import OneHotEncoder, OrdinalEncoder, StandardScaler\n",
    "from sklearn.tree import DecisionTreeRegressor\n",
    "from xgboost import XGBRegressor\n",
    "\n",
    "RANDOM_STATE = 12345\n",
    "RMSE_THRESHOLD = 2500\n",
    "TRAIN_SET_SIZE = 0.6\n",
    "TEST_SET_SIZE = 0.4\n",
    "CV_FOLDS = 10\n",
    "N_ITER = 10\n",
    "SCORER = \"neg_root_mean_squared_error\"\n",
    "\n",
    "warnings.filterwarnings(\"ignore\")"
   ]
  },
  {
   "cell_type": "code",
   "execution_count": 2,
   "id": "8c431a2d-ec22-42b9-870d-1dccddddaec2",
   "metadata": {},
   "outputs": [],
   "source": [
    "# Loading the data to a DataFrame\n",
    "autos_data = pd.read_csv(\"datasets/autos.csv\")"
   ]
  },
  {
   "cell_type": "markdown",
   "id": "f1f56534-7b8d-4bac-8553-6998d88d1ba7",
   "metadata": {},
   "source": [
    "Let's make sure that we have correctly loaded data into a DataFrame."
   ]
  },
  {
   "cell_type": "code",
   "execution_count": 3,
   "id": "9e67ba43-70e5-43e6-accc-ec902cca558a",
   "metadata": {},
   "outputs": [
    {
     "data": {
      "text/html": [
       "<div>\n",
       "<style scoped>\n",
       "    .dataframe tbody tr th:only-of-type {\n",
       "        vertical-align: middle;\n",
       "    }\n",
       "\n",
       "    .dataframe tbody tr th {\n",
       "        vertical-align: top;\n",
       "    }\n",
       "\n",
       "    .dataframe thead th {\n",
       "        text-align: right;\n",
       "    }\n",
       "</style>\n",
       "<table border=\"1\" class=\"dataframe\">\n",
       "  <thead>\n",
       "    <tr style=\"text-align: right;\">\n",
       "      <th></th>\n",
       "      <th>DateCrawled</th>\n",
       "      <th>Price</th>\n",
       "      <th>VehicleType</th>\n",
       "      <th>RegistrationYear</th>\n",
       "      <th>Gearbox</th>\n",
       "      <th>Power</th>\n",
       "      <th>Model</th>\n",
       "      <th>Kilometer</th>\n",
       "      <th>RegistrationMonth</th>\n",
       "      <th>FuelType</th>\n",
       "      <th>Brand</th>\n",
       "      <th>Repaired</th>\n",
       "      <th>DateCreated</th>\n",
       "      <th>NumberOfPictures</th>\n",
       "      <th>PostalCode</th>\n",
       "      <th>LastSeen</th>\n",
       "    </tr>\n",
       "  </thead>\n",
       "  <tbody>\n",
       "    <tr>\n",
       "      <th>18734</th>\n",
       "      <td>2016-04-04 13:36:58</td>\n",
       "      <td>16900</td>\n",
       "      <td>bus</td>\n",
       "      <td>2010</td>\n",
       "      <td>auto</td>\n",
       "      <td>150</td>\n",
       "      <td>viano</td>\n",
       "      <td>150000</td>\n",
       "      <td>4</td>\n",
       "      <td>gasoline</td>\n",
       "      <td>mercedes_benz</td>\n",
       "      <td>no</td>\n",
       "      <td>2016-04-04 00:00:00</td>\n",
       "      <td>0</td>\n",
       "      <td>60326</td>\n",
       "      <td>2016-04-05 12:18:31</td>\n",
       "    </tr>\n",
       "    <tr>\n",
       "      <th>141787</th>\n",
       "      <td>2016-03-07 17:57:08</td>\n",
       "      <td>15500</td>\n",
       "      <td>other</td>\n",
       "      <td>2011</td>\n",
       "      <td>manual</td>\n",
       "      <td>143</td>\n",
       "      <td>1er</td>\n",
       "      <td>40000</td>\n",
       "      <td>5</td>\n",
       "      <td>gasoline</td>\n",
       "      <td>bmw</td>\n",
       "      <td>no</td>\n",
       "      <td>2016-03-07 00:00:00</td>\n",
       "      <td>0</td>\n",
       "      <td>35083</td>\n",
       "      <td>2016-04-06 20:19:15</td>\n",
       "    </tr>\n",
       "    <tr>\n",
       "      <th>37523</th>\n",
       "      <td>2016-03-24 09:37:02</td>\n",
       "      <td>3600</td>\n",
       "      <td>sedan</td>\n",
       "      <td>2004</td>\n",
       "      <td>manual</td>\n",
       "      <td>125</td>\n",
       "      <td>astra</td>\n",
       "      <td>150000</td>\n",
       "      <td>12</td>\n",
       "      <td>petrol</td>\n",
       "      <td>opel</td>\n",
       "      <td>no</td>\n",
       "      <td>2016-03-24 00:00:00</td>\n",
       "      <td>0</td>\n",
       "      <td>13627</td>\n",
       "      <td>2016-03-24 10:38:57</td>\n",
       "    </tr>\n",
       "    <tr>\n",
       "      <th>194192</th>\n",
       "      <td>2016-03-15 09:49:03</td>\n",
       "      <td>8990</td>\n",
       "      <td>sedan</td>\n",
       "      <td>2007</td>\n",
       "      <td>auto</td>\n",
       "      <td>224</td>\n",
       "      <td>c_klasse</td>\n",
       "      <td>150000</td>\n",
       "      <td>9</td>\n",
       "      <td>gasoline</td>\n",
       "      <td>mercedes_benz</td>\n",
       "      <td>no</td>\n",
       "      <td>2016-03-15 00:00:00</td>\n",
       "      <td>0</td>\n",
       "      <td>58135</td>\n",
       "      <td>2016-03-18 02:17:06</td>\n",
       "    </tr>\n",
       "    <tr>\n",
       "      <th>110210</th>\n",
       "      <td>2016-03-29 23:43:52</td>\n",
       "      <td>2500</td>\n",
       "      <td>other</td>\n",
       "      <td>1994</td>\n",
       "      <td>manual</td>\n",
       "      <td>68</td>\n",
       "      <td>transporter</td>\n",
       "      <td>150000</td>\n",
       "      <td>9</td>\n",
       "      <td>gasoline</td>\n",
       "      <td>volkswagen</td>\n",
       "      <td>no</td>\n",
       "      <td>2016-03-29 00:00:00</td>\n",
       "      <td>0</td>\n",
       "      <td>24598</td>\n",
       "      <td>2016-04-02 12:45:46</td>\n",
       "    </tr>\n",
       "    <tr>\n",
       "      <th>63295</th>\n",
       "      <td>2016-03-07 12:55:48</td>\n",
       "      <td>11000</td>\n",
       "      <td>wagon</td>\n",
       "      <td>2010</td>\n",
       "      <td>auto</td>\n",
       "      <td>177</td>\n",
       "      <td>5er</td>\n",
       "      <td>150000</td>\n",
       "      <td>10</td>\n",
       "      <td>gasoline</td>\n",
       "      <td>bmw</td>\n",
       "      <td>no</td>\n",
       "      <td>2016-03-07 00:00:00</td>\n",
       "      <td>0</td>\n",
       "      <td>6237</td>\n",
       "      <td>2016-04-04 02:16:33</td>\n",
       "    </tr>\n",
       "    <tr>\n",
       "      <th>299143</th>\n",
       "      <td>2016-03-24 17:48:59</td>\n",
       "      <td>1200</td>\n",
       "      <td>small</td>\n",
       "      <td>2003</td>\n",
       "      <td>NaN</td>\n",
       "      <td>58</td>\n",
       "      <td>clio</td>\n",
       "      <td>150000</td>\n",
       "      <td>3</td>\n",
       "      <td>petrol</td>\n",
       "      <td>renault</td>\n",
       "      <td>no</td>\n",
       "      <td>2016-03-24 00:00:00</td>\n",
       "      <td>0</td>\n",
       "      <td>25551</td>\n",
       "      <td>2016-03-24 17:48:59</td>\n",
       "    </tr>\n",
       "  </tbody>\n",
       "</table>\n",
       "</div>"
      ],
      "text/plain": [
       "                DateCrawled  Price VehicleType  RegistrationYear Gearbox  \\\n",
       "18734   2016-04-04 13:36:58  16900         bus              2010    auto   \n",
       "141787  2016-03-07 17:57:08  15500       other              2011  manual   \n",
       "37523   2016-03-24 09:37:02   3600       sedan              2004  manual   \n",
       "194192  2016-03-15 09:49:03   8990       sedan              2007    auto   \n",
       "110210  2016-03-29 23:43:52   2500       other              1994  manual   \n",
       "63295   2016-03-07 12:55:48  11000       wagon              2010    auto   \n",
       "299143  2016-03-24 17:48:59   1200       small              2003     NaN   \n",
       "\n",
       "        Power        Model  Kilometer  RegistrationMonth  FuelType  \\\n",
       "18734     150        viano     150000                  4  gasoline   \n",
       "141787    143          1er      40000                  5  gasoline   \n",
       "37523     125        astra     150000                 12    petrol   \n",
       "194192    224     c_klasse     150000                  9  gasoline   \n",
       "110210     68  transporter     150000                  9  gasoline   \n",
       "63295     177          5er     150000                 10  gasoline   \n",
       "299143     58         clio     150000                  3    petrol   \n",
       "\n",
       "                Brand Repaired          DateCreated  NumberOfPictures  \\\n",
       "18734   mercedes_benz       no  2016-04-04 00:00:00                 0   \n",
       "141787            bmw       no  2016-03-07 00:00:00                 0   \n",
       "37523            opel       no  2016-03-24 00:00:00                 0   \n",
       "194192  mercedes_benz       no  2016-03-15 00:00:00                 0   \n",
       "110210     volkswagen       no  2016-03-29 00:00:00                 0   \n",
       "63295             bmw       no  2016-03-07 00:00:00                 0   \n",
       "299143        renault       no  2016-03-24 00:00:00                 0   \n",
       "\n",
       "        PostalCode             LastSeen  \n",
       "18734        60326  2016-04-05 12:18:31  \n",
       "141787       35083  2016-04-06 20:19:15  \n",
       "37523        13627  2016-03-24 10:38:57  \n",
       "194192       58135  2016-03-18 02:17:06  \n",
       "110210       24598  2016-04-02 12:45:46  \n",
       "63295         6237  2016-04-04 02:16:33  \n",
       "299143       25551  2016-03-24 17:48:59  "
      ]
     },
     "execution_count": 3,
     "metadata": {},
     "output_type": "execute_result"
    }
   ],
   "source": [
    "autos_data.sample(7, random_state=RANDOM_STATE)"
   ]
  },
  {
   "cell_type": "markdown",
   "id": "0f367bd4-cfc2-40cd-b951-a5195f1c6238",
   "metadata": {},
   "source": [
    "**Summary**\n",
    "\n",
    "At this stage, we have imported all required libraries with required functions and data structures and managed to successfully read the data and correctly load it into a separate DataFrame."
   ]
  },
  {
   "cell_type": "markdown",
   "id": "503f7b12-0138-4e83-b374-339de0f055eb",
   "metadata": {},
   "source": [
    "## Exploring data"
   ]
  },
  {
   "cell_type": "code",
   "execution_count": 4,
   "id": "d5f84711-cd66-4a66-914c-4a5d22eb0868",
   "metadata": {},
   "outputs": [
    {
     "name": "stdout",
     "output_type": "stream",
     "text": [
      "<class 'pandas.core.frame.DataFrame'>\n",
      "RangeIndex: 354369 entries, 0 to 354368\n",
      "Data columns (total 16 columns):\n",
      " #   Column             Non-Null Count   Dtype \n",
      "---  ------             --------------   ----- \n",
      " 0   DateCrawled        354369 non-null  object\n",
      " 1   Price              354369 non-null  int64 \n",
      " 2   VehicleType        316879 non-null  object\n",
      " 3   RegistrationYear   354369 non-null  int64 \n",
      " 4   Gearbox            334536 non-null  object\n",
      " 5   Power              354369 non-null  int64 \n",
      " 6   Model              334664 non-null  object\n",
      " 7   Kilometer          354369 non-null  int64 \n",
      " 8   RegistrationMonth  354369 non-null  int64 \n",
      " 9   FuelType           321474 non-null  object\n",
      " 10  Brand              354369 non-null  object\n",
      " 11  Repaired           283215 non-null  object\n",
      " 12  DateCreated        354369 non-null  object\n",
      " 13  NumberOfPictures   354369 non-null  int64 \n",
      " 14  PostalCode         354369 non-null  int64 \n",
      " 15  LastSeen           354369 non-null  object\n",
      "dtypes: int64(7), object(9)\n",
      "memory usage: 43.3+ MB\n"
     ]
    }
   ],
   "source": [
    "autos_data.info()"
   ]
  },
  {
   "cell_type": "markdown",
   "id": "25cb29c9-9562-4208-b714-dde3fecc23bb",
   "metadata": {},
   "source": [
    "We observe the following. We have data on 354,369 objects (vehicles) with various attributes and characteristics, which are of `int64` and `object` data types. We also see that the data contains information on the following 16 characteristics of automobiles:"
   ]
  },
  {
   "cell_type": "markdown",
   "id": "cb984d75-f8c0-4aac-9aca-a6afdf0943ec",
   "metadata": {},
   "source": [
    "<table>\n",
    "<thead>\n",
    "<tr><th>Features</th><th>Description</th></tr>\n",
    "</thead>\n",
    "<tbody>\n",
    "<tr><td><b>DateCrawled</b></td><td><i>Date when the data was downloaded from the database</i></td></tr>\n",
    "<tr><td><b>Price</b></td><td><i>Price of a vehicle (in euros)</i></td></tr>\n",
    "<tr><td><b>VehicleType</b></td><td><i>Car body type</i></td></tr>\n",
    "<tr><td><b>RegistrationYear</b></td><td><i>Year of vehicle registration</i></td></tr>\n",
    "<tr><td><b>Gearbox</b></td><td><i>Type of gearbox</i></td></tr>\n",
    "<tr><td><b>Power</b></td><td><i>Power of a vehicle (in hp)</i></td></tr>\n",
    "<tr><td><b>Model</b></td><td><i>Model of a vehicle</i></td></tr>\n",
    "<tr><td><b>Kilometer</b></td><td><i>Mileage of a vehicle (in km)</i></td></tr>\n",
    "<tr><td><b>RegistrationMonth</b></td><td><i>Month of vehicle registration</i></td></tr>\n",
    "<tr><td><b>FuelType</b></td><td><i>Type of fuel used by a vehicle</i></td></tr>\n",
    "<tr><td><b>Brand</b></td><td><i>Brand of a vehicle</i></td></tr>\n",
    "<tr><td><b>Repaired</b></td><td><i>Indicator of previously performed repairs</i></td></tr>\n",
    "<tr><td><b>DateCreated</b></td><td><i>Date when the data entry was created</i></td></tr>\n",
    "<tr><td><b>Number of Pictures</b></td><td><i>Number of photos of a vehicle available</i></td></tr>\n",
    "<tr><td><b>PostalCode</b></td><td><i>User's postal code</i></td></tr>\n",
    "<tr><td><b>LastSeen</b></td><td><i>Date of a user's last activity</i></td></tr>\n",
    "</tbody>\n",
    "</table>"
   ]
  },
  {
   "cell_type": "markdown",
   "id": "cf349636-aaea-44f6-b697-93b0e164e0d5",
   "metadata": {},
   "source": [
    "Furthermore, the presence of missing values in the data is clearly traced, which will have to be dealt with at the stage of data preprocessing. We also see that the column names do not correspond to the standard of column names, which can be handled efficiently and quickly, which will be shown in the preprocessing section."
   ]
  },
  {
   "cell_type": "code",
   "execution_count": 5,
   "id": "3c54c04d-0cbe-4425-8903-884b90c91feb",
   "metadata": {},
   "outputs": [
    {
     "data": {
      "image/png": "[encoded data removed]",
      "text/plain": [
       "<Figure size 1500x2000 with 9 Axes>"
      ]
     },
     "metadata": {},
     "output_type": "display_data"
    }
   ],
   "source": [
    "# Setting the style of plots\n",
    "sns.set_theme(style=\"darkgrid\")\n",
    "\n",
    "# Visualization of numeric columns\n",
    "autos_data.hist(bins=25, figsize=(15, 20))\n",
    "plt.show()"
   ]
  },
  {
   "cell_type": "code",
   "execution_count": 6,
   "id": "960b5800-31bc-49d1-857c-ad17fc23a6e2",
   "metadata": {},
   "outputs": [
    {
     "data": {
      "text/html": [
       "<div>\n",
       "<style scoped>\n",
       "    .dataframe tbody tr th:only-of-type {\n",
       "        vertical-align: middle;\n",
       "    }\n",
       "\n",
       "    .dataframe tbody tr th {\n",
       "        vertical-align: top;\n",
       "    }\n",
       "\n",
       "    .dataframe thead th {\n",
       "        text-align: right;\n",
       "    }\n",
       "</style>\n",
       "<table border=\"1\" class=\"dataframe\">\n",
       "  <thead>\n",
       "    <tr style=\"text-align: right;\">\n",
       "      <th></th>\n",
       "      <th>count</th>\n",
       "      <th>mean</th>\n",
       "      <th>std</th>\n",
       "      <th>min</th>\n",
       "      <th>25%</th>\n",
       "      <th>50%</th>\n",
       "      <th>75%</th>\n",
       "      <th>max</th>\n",
       "    </tr>\n",
       "  </thead>\n",
       "  <tbody>\n",
       "    <tr>\n",
       "      <th>Price</th>\n",
       "      <td>354369.0</td>\n",
       "      <td>4416.7</td>\n",
       "      <td>4514.2</td>\n",
       "      <td>0.0</td>\n",
       "      <td>1050.0</td>\n",
       "      <td>2700.0</td>\n",
       "      <td>6400.0</td>\n",
       "      <td>20000.0</td>\n",
       "    </tr>\n",
       "    <tr>\n",
       "      <th>RegistrationYear</th>\n",
       "      <td>354369.0</td>\n",
       "      <td>2004.2</td>\n",
       "      <td>90.2</td>\n",
       "      <td>1000.0</td>\n",
       "      <td>1999.0</td>\n",
       "      <td>2003.0</td>\n",
       "      <td>2008.0</td>\n",
       "      <td>9999.0</td>\n",
       "    </tr>\n",
       "    <tr>\n",
       "      <th>Power</th>\n",
       "      <td>354369.0</td>\n",
       "      <td>110.1</td>\n",
       "      <td>189.9</td>\n",
       "      <td>0.0</td>\n",
       "      <td>69.0</td>\n",
       "      <td>105.0</td>\n",
       "      <td>143.0</td>\n",
       "      <td>20000.0</td>\n",
       "    </tr>\n",
       "    <tr>\n",
       "      <th>Kilometer</th>\n",
       "      <td>354369.0</td>\n",
       "      <td>128211.2</td>\n",
       "      <td>37905.3</td>\n",
       "      <td>5000.0</td>\n",
       "      <td>125000.0</td>\n",
       "      <td>150000.0</td>\n",
       "      <td>150000.0</td>\n",
       "      <td>150000.0</td>\n",
       "    </tr>\n",
       "    <tr>\n",
       "      <th>RegistrationMonth</th>\n",
       "      <td>354369.0</td>\n",
       "      <td>5.7</td>\n",
       "      <td>3.7</td>\n",
       "      <td>0.0</td>\n",
       "      <td>3.0</td>\n",
       "      <td>6.0</td>\n",
       "      <td>9.0</td>\n",
       "      <td>12.0</td>\n",
       "    </tr>\n",
       "    <tr>\n",
       "      <th>NumberOfPictures</th>\n",
       "      <td>354369.0</td>\n",
       "      <td>0.0</td>\n",
       "      <td>0.0</td>\n",
       "      <td>0.0</td>\n",
       "      <td>0.0</td>\n",
       "      <td>0.0</td>\n",
       "      <td>0.0</td>\n",
       "      <td>0.0</td>\n",
       "    </tr>\n",
       "    <tr>\n",
       "      <th>PostalCode</th>\n",
       "      <td>354369.0</td>\n",
       "      <td>50508.7</td>\n",
       "      <td>25783.1</td>\n",
       "      <td>1067.0</td>\n",
       "      <td>30165.0</td>\n",
       "      <td>49413.0</td>\n",
       "      <td>71083.0</td>\n",
       "      <td>99998.0</td>\n",
       "    </tr>\n",
       "  </tbody>\n",
       "</table>\n",
       "</div>"
      ],
      "text/plain": [
       "                      count      mean      std     min       25%       50%  \\\n",
       "Price              354369.0    4416.7   4514.2     0.0    1050.0    2700.0   \n",
       "RegistrationYear   354369.0    2004.2     90.2  1000.0    1999.0    2003.0   \n",
       "Power              354369.0     110.1    189.9     0.0      69.0     105.0   \n",
       "Kilometer          354369.0  128211.2  37905.3  5000.0  125000.0  150000.0   \n",
       "RegistrationMonth  354369.0       5.7      3.7     0.0       3.0       6.0   \n",
       "NumberOfPictures   354369.0       0.0      0.0     0.0       0.0       0.0   \n",
       "PostalCode         354369.0   50508.7  25783.1  1067.0   30165.0   49413.0   \n",
       "\n",
       "                        75%       max  \n",
       "Price                6400.0   20000.0  \n",
       "RegistrationYear     2008.0    9999.0  \n",
       "Power                 143.0   20000.0  \n",
       "Kilometer          150000.0  150000.0  \n",
       "RegistrationMonth       9.0      12.0  \n",
       "NumberOfPictures        0.0       0.0  \n",
       "PostalCode          71083.0   99998.0  "
      ]
     },
     "metadata": {},
     "output_type": "display_data"
    }
   ],
   "source": [
    "display(autos_data.describe().round(1).T)"
   ]
  },
  {
   "cell_type": "markdown",
   "id": "fc3d037c-3969-4186-bafe-6ca91fbb5168",
   "metadata": {},
   "source": [
    "Perhaps the first thing that is quite visible is the presence of anomalies in the `RegistrationYear` column, since it contains the values of the registration year that are either too high or too low to be true. Anomalies are also visible in the `Price` column (a large number of zero prices), `RegistrationMonth` (presence of 13 months, instead of 12), as well as `Power` (zero power for most objects)."
   ]
  },
  {
   "cell_type": "code",
   "execution_count": 7,
   "id": "e01bdcd1-7ffc-4804-9ff8-48746ab8475c",
   "metadata": {},
   "outputs": [
    {
     "data": {
      "image/png": "[encoded data removed]",
      "text/plain": [
       "<Figure size 1200x1200 with 4 Axes>"
      ]
     },
     "metadata": {},
     "output_type": "display_data"
    }
   ],
   "source": [
    "# Selecting categorical columns with less than 10 unique values\n",
    "cat_cols = autos_data.select_dtypes(include=\"object\").columns.to_list()\n",
    "cat_cols_to_plot = [col for col in cat_cols if len(autos_data[col].unique()) < 10]\n",
    "\n",
    "# Visualization of categorical columns\n",
    "fig, axes = plt.subplots(2, 2, figsize=(12, 12))\n",
    "axes = axes.reshape(\n",
    "    4,\n",
    ")\n",
    "for col, ax in zip(cat_cols_to_plot, axes):\n",
    "    f = sns.countplot(data=autos_data, x=col, ax=ax)\n",
    "    f.set(xlabel=None, ylabel=None)\n",
    "    f.set_title(col, fontsize=13)\n",
    "plt.tight_layout()\n",
    "plt.show()"
   ]
  },
  {
   "cell_type": "code",
   "execution_count": 8,
   "id": "14ad7e60-2847-43b3-a931-6d852c257d45",
   "metadata": {},
   "outputs": [
    {
     "data": {
      "image/png": "[encoded data removed]",
      "text/plain": [
       "<Figure size 640x480 with 1 Axes>"
      ]
     },
     "metadata": {},
     "output_type": "display_data"
    }
   ],
   "source": [
    "# Visualization of \"Brand\" column\n",
    "fig = sns.countplot(data=autos_data, x=\"Brand\")\n",
    "fig.set(xlabel=None, ylabel=None)\n",
    "plt.title(\"Brand\")\n",
    "plt.xticks(rotation=90)\n",
    "plt.tight_layout()\n",
    "plt.show()"
   ]
  },
  {
   "cell_type": "markdown",
   "id": "a7677bf5-d25d-4c02-9408-43c8bae64053",
   "metadata": {},
   "source": [
    "**Summary**\n",
    "\n",
    "This stage was needed to conduct an initial review of the data, as a result of which we studied and visualized the data depending on the type of data in the DataFrame columns. We were also able to detect the presence of not only missing values, but also anomalies in some columns. We also saw that the column names can be changed for more convenient work with data."
   ]
  },
  {
   "cell_type": "markdown",
   "id": "d5a78ca0-ec0b-4ed0-8914-8bff090e5fa5",
   "metadata": {},
   "source": [
    "## Data preprocessing"
   ]
  },
  {
   "cell_type": "markdown",
   "id": "1dc9023c-aabf-4ebd-8989-b59349c6faf3",
   "metadata": {},
   "source": [
    "### Column names"
   ]
  },
  {
   "cell_type": "code",
   "execution_count": 9,
   "id": "4c6e9e65-f2f2-46a0-b65c-c83e99a003cf",
   "metadata": {},
   "outputs": [
    {
     "name": "stdout",
     "output_type": "stream",
     "text": [
      "Old column names: ['DateCrawled', 'Price', 'VehicleType', 'RegistrationYear', 'Gearbox', 'Power', 'Model', 'Kilometer', 'RegistrationMonth', 'FuelType', 'Brand', 'Repaired', 'DateCreated', 'NumberOfPictures', 'PostalCode', 'LastSeen']\n",
      "\n",
      "New column names: ['date_crawled', 'price', 'vehicle_type', 'registration_year', 'gearbox', 'power', 'model', 'kilometer', 'registration_month', 'fuel_type', 'brand', 'repaired', 'date_created', 'number_of_pictures', 'postal_code', 'last_seen']\n"
     ]
    }
   ],
   "source": [
    "print(f\"Old column names: {autos_data.columns.to_list()}\\n\")\n",
    "\n",
    "# Changing column names to a convenient format\n",
    "autos_data = autos_data.rename(\n",
    "    columns=lambda col_name: re.sub(\"(?<=[a-z])(?=[A-Z])\", \"_\", col_name).lower()\n",
    ")\n",
    "\n",
    "print(f\"New column names: {autos_data.columns.to_list()}\")"
   ]
  },
  {
   "cell_type": "markdown",
   "id": "c38af0da-217b-4419-9c42-ccad54cf026f",
   "metadata": {},
   "source": [
    "### Anomalies"
   ]
  },
  {
   "cell_type": "markdown",
   "id": "6d7557f0-c2da-41b4-b674-9847bf0c6885",
   "metadata": {},
   "source": [
    "In order to get rid of anomalous values we can write a function called `clean_data()` that will filter the DataFrame, hence deleting anomalies."
   ]
  },
  {
   "cell_type": "code",
   "execution_count": 10,
   "id": "fa9e84be-9342-42d0-a071-10adcc343939",
   "metadata": {},
   "outputs": [],
   "source": [
    "def clean_data(data, column, lower_val, upper_val):\n",
    "    \"\"\"Filters out values in a specific columns of a DataFrame.\n",
    "\n",
    "    Parameters\n",
    "    ----------\n",
    "    data : DataFrame\n",
    "        DataFrame with information on automobile vehicles.\n",
    "    column : str\n",
    "        DataFrame column by which filtering should be done.\n",
    "    lower_val : int\n",
    "        The lowest value of the filtering region.\n",
    "    upper_val : int\n",
    "        The highest value of the filtering region.\n",
    "\n",
    "    Returns\n",
    "    -------\n",
    "    DataFrame\n",
    "        Object with its values in a specific column filtered\n",
    "        out according to `lower_val` and `upper_val`.\n",
    "    \"\"\"\n",
    "    # Determining the indexes of rows without anomalies\n",
    "    filtering_indices = data[column].between(lower_val, upper_val)\n",
    "\n",
    "    # Removing anomalies from data\n",
    "    data_filtered = data[filtering_indices].reset_index(drop=True)\n",
    "\n",
    "    # Displaying the filtering result\n",
    "    data_size_new = data_filtered.shape[0]\n",
    "    data_size_old = data.shape[0]\n",
    "    anomalies_num = data_size_old - data_size_new\n",
    "    anomalies_percentage = anomalies_num / data_size_old\n",
    "    print(f\"DataFrame size (prior to filtering): {data_size_old:,}\")\n",
    "    print(f\"DataFrame size (after filtering): {data_size_new:,}\")\n",
    "    print(f\"Objects filtered out: {anomalies_num:,} ({anomalies_percentage:.1%})\")\n",
    "\n",
    "    return data_filtered"
   ]
  },
  {
   "cell_type": "markdown",
   "id": "a2af1635-3210-4e6f-a3f1-e52ae15e3856",
   "metadata": {},
   "source": [
    "#### Registration year"
   ]
  },
  {
   "cell_type": "markdown",
   "id": "ae313c35-360d-42d1-a5c2-b1dc40376602",
   "metadata": {},
   "source": [
    "Let's look at the values of the year of registration in order to try to locate potential anomalous values."
   ]
  },
  {
   "cell_type": "code",
   "execution_count": 11,
   "id": "4e7a6156-f744-4696-9b17-3a51c6d87e78",
   "metadata": {},
   "outputs": [
    {
     "name": "stdout",
     "output_type": "stream",
     "text": [
      "[1000 1001 1039 1111 1200 1234 1253 1255 1300 1400 1500 1600 1602 1688\n",
      " 1800 1910 1915 1919 1920 1923 1925 1927 1928 1929 1930 1931 1932 1933\n",
      " 1934 1935 1936 1937 1938 1940 1941 1942 1943 1944 1945 1946 1947 1948\n",
      " 1949 1950 1951 1952 1953 1954 1955 1956 1957 1958 1959 1960 1961 1962\n",
      " 1963 1964 1965 1966 1967 1968 1969 1970 1971 1972 1973 1974 1975 1976\n",
      " 1977 1978 1979 1980 1981 1982 1983 1984 1985 1986 1987 1988 1989 1990\n",
      " 1991 1992 1993 1994 1995 1996 1997 1998 1999 2000 2001 2002 2003 2004\n",
      " 2005 2006 2007 2008 2009 2010 2011 2012 2013 2014 2015 2016 2017 2018\n",
      " 2019 2066 2200 2222 2290 2500 2800 2900 3000 3200 3500 3700 3800 4000\n",
      " 4100 4500 4800 5000 5300 5555 5600 5900 5911 6000 6500 7000 7100 7500\n",
      " 7800 8000 8200 8455 8500 8888 9000 9229 9450 9996 9999]\n"
     ]
    }
   ],
   "source": [
    "reg_year_unique = autos_data[\"registration_year\"].sort_values().unique()\n",
    "print(reg_year_unique)"
   ]
  },
  {
   "cell_type": "markdown",
   "id": "6c97a201-b2e2-4173-a3ad-81736209b381",
   "metadata": {},
   "source": [
    "There are indeed some years that seem to be too far off the reasonable bounds of registration year values. We will need only relevant information for training and predictions so we will take year of 1970 as the lower bound and 2016 as upper bound (2016 is in fact the year when the information was donwloaded from the database, seen in `date_crawled` column)."
   ]
  },
  {
   "cell_type": "code",
   "execution_count": 12,
   "id": "fa715a05-8f11-44e0-a5c2-c8cca50071d4",
   "metadata": {},
   "outputs": [
    {
     "name": "stdout",
     "output_type": "stream",
     "text": [
      "Relevant period: 1970-2016\n"
     ]
    }
   ],
   "source": [
    "# Choosing reasonable time period\n",
    "year_upper = pd.to_datetime(\n",
    "    autos_data[\"date_crawled\"], format=\"%Y-%m-%d %H:%M:%S\"\n",
    ").dt.year.max()\n",
    "year_lower = 1970\n",
    "print(f\"Relevant period: {year_lower}-{year_upper}\")"
   ]
  },
  {
   "cell_type": "markdown",
   "id": "253f19f9-4138-4d53-aa9b-1a95894407e8",
   "metadata": {},
   "source": [
    "We should now get rid of data pertaining to anomalous registration years, which we will do using user-defined `clean_data()` function."
   ]
  },
  {
   "cell_type": "code",
   "execution_count": 13,
   "id": "ab2c7d6f-29e0-441f-a0e6-e507f290b48a",
   "metadata": {},
   "outputs": [
    {
     "name": "stdout",
     "output_type": "stream",
     "text": [
      "DataFrame size (prior to filtering): 354,369\n",
      "DataFrame size (after filtering): 338,501\n",
      "Objects filtered out: 15,868 (4.5%)\n"
     ]
    }
   ],
   "source": [
    "# Getting rid of anomalies in \"registration_year\" column\n",
    "autos_data = clean_data(\n",
    "    data=autos_data,\n",
    "    column=\"registration_year\",\n",
    "    lower_val=year_lower,\n",
    "    upper_val=year_upper,\n",
    ")"
   ]
  },
  {
   "cell_type": "code",
   "execution_count": 14,
   "id": "96e0fd51-eed9-411b-8652-ed01a3618de4",
   "metadata": {},
   "outputs": [
    {
     "data": {
      "text/plain": [
       "True"
      ]
     },
     "execution_count": 14,
     "metadata": {},
     "output_type": "execute_result"
    }
   ],
   "source": [
    "year_lower <= np.min(autos_data[\"registration_year\"]) <= year_upper"
   ]
  },
  {
   "cell_type": "code",
   "execution_count": 15,
   "id": "b0a28bcd-42d7-439b-b16a-88cca5175972",
   "metadata": {},
   "outputs": [
    {
     "data": {
      "text/plain": [
       "True"
      ]
     },
     "execution_count": 15,
     "metadata": {},
     "output_type": "execute_result"
    }
   ],
   "source": [
    "year_lower <= np.max(autos_data[\"registration_year\"]) <= year_upper"
   ]
  },
  {
   "cell_type": "markdown",
   "id": "1453581a-d4e9-45fb-a9ab-e091d5d7492a",
   "metadata": {},
   "source": [
    "#### Vehicle price"
   ]
  },
  {
   "cell_type": "markdown",
   "id": "dfa0d9c5-75d6-43fd-97ed-04944fb11662",
   "metadata": {},
   "source": [
    "Next, we can consider unique values of the target denoting prices of automobiles."
   ]
  },
  {
   "cell_type": "code",
   "execution_count": 16,
   "id": "50681f16-6f9e-47c9-9b12-8742898450c2",
   "metadata": {},
   "outputs": [
    {
     "name": "stdout",
     "output_type": "stream",
     "text": [
      "[    0     1     2 ... 19998 19999 20000]\n"
     ]
    }
   ],
   "source": [
    "print(autos_data[\"price\"].sort_values().unique())"
   ]
  },
  {
   "cell_type": "markdown",
   "id": "fa6dfd77-6023-4835-a87e-914c1e653f2c",
   "metadata": {},
   "source": [
    "There is a number of prices that seem absurd so we will leave only those objects in the data which have a price of at least 100 EUR."
   ]
  },
  {
   "cell_type": "code",
   "execution_count": 17,
   "id": "bc64dadb-03b7-49d1-9236-20bfe6f77cab",
   "metadata": {},
   "outputs": [
    {
     "name": "stdout",
     "output_type": "stream",
     "text": [
      "Price range: 100-20,000 EUR\n"
     ]
    }
   ],
   "source": [
    "# Choosing plausible prices\n",
    "price_upper = np.max(autos_data[\"price\"])\n",
    "price_lower = 100\n",
    "print(f\"Price range: {price_lower:,}-{price_upper:,} EUR\")"
   ]
  },
  {
   "cell_type": "code",
   "execution_count": 18,
   "id": "a13fc9ae-6d79-422b-84db-e8c4f2a432ca",
   "metadata": {},
   "outputs": [
    {
     "name": "stdout",
     "output_type": "stream",
     "text": [
      "DataFrame size (prior to filtering): 338,501\n",
      "DataFrame size (after filtering): 326,252\n",
      "Objects filtered out: 12,249 (3.6%)\n"
     ]
    }
   ],
   "source": [
    "# Getting rid of anomalous prices\n",
    "autos_data = clean_data(\n",
    "    data=autos_data,\n",
    "    column=\"price\",\n",
    "    lower_val=price_lower,\n",
    "    upper_val=price_upper,\n",
    ")"
   ]
  },
  {
   "cell_type": "code",
   "execution_count": 19,
   "id": "374bfb86-9ffa-4380-a9c1-e01a3e8eebd3",
   "metadata": {},
   "outputs": [
    {
     "data": {
      "text/plain": [
       "True"
      ]
     },
     "execution_count": 19,
     "metadata": {},
     "output_type": "execute_result"
    }
   ],
   "source": [
    "price_lower <= np.min(autos_data[\"price\"]) <= price_upper"
   ]
  },
  {
   "cell_type": "code",
   "execution_count": 20,
   "id": "635aac65-dae9-497b-a7de-4fea2a092bd6",
   "metadata": {},
   "outputs": [
    {
     "data": {
      "text/plain": [
       "True"
      ]
     },
     "execution_count": 20,
     "metadata": {},
     "output_type": "execute_result"
    }
   ],
   "source": [
    "price_lower <= np.max(autos_data[\"price\"]) <= price_upper"
   ]
  },
  {
   "cell_type": "markdown",
   "id": "2cff9cf6-18de-425d-b16a-198a0c81af24",
   "metadata": {},
   "source": [
    "#### Power"
   ]
  },
  {
   "cell_type": "markdown",
   "id": "e8876fe1-c02a-4f19-bff3-638164afdc73",
   "metadata": {},
   "source": [
    "During visualizations we also noticed some anomalies in `power` column."
   ]
  },
  {
   "cell_type": "code",
   "execution_count": 21,
   "id": "03d29d63-95b7-4324-a1fd-2f8c5988e59c",
   "metadata": {},
   "outputs": [
    {
     "name": "stdout",
     "output_type": "stream",
     "text": [
      "[    0     1     2     3     4     5     6     7     8     9    10    11\n",
      "    12    13    14    15    16    17    18    19    20    21    22    23\n",
      "    24    25    26    27    28    29    30    31    32    33    34    35\n",
      "    36    37    38    39    40    41    42    43    44    45    46    47\n",
      "    48    49    50    51    52    53    54    55    56    57    58    59\n",
      "    60    61    62    63    64    65    66    67    68    69    70    71\n",
      "    72    73    74    75    76    77    78    79    80    81    82    83\n",
      "    84    85    86    87    88    89    90    91    92    93    94    95\n",
      "    96    97    98    99   100   101   102   103   104   105   106   107\n",
      "   108   109   110   111   112   113   114   115   116   117   118   119\n",
      "   120   121   122   123   124   125   126   127   128   129   130   131\n",
      "   132   133   134   135   136   137   138   139   140   141   142   143\n",
      "   144   145   146   147   148   149   150   151   152   153   154   155\n",
      "   156   157   158   159   160   161   162   163   164   165   166   167\n",
      "   168   169   170   171   172   173   174   175   176   177   178   179\n",
      "   180   181   182   183   184   185   186   187   188   189   190   191\n",
      "   192   193   194   195   196   197   198   199   200   201   202   203\n",
      "   204   205   206   207   208   209   210   211   212   213   214   215\n",
      "   216   217   218   219   220   221   222   223   224   225   226   227\n",
      "   228   229   230   231   232   233   234   235   236   237   238   239\n",
      "   240   241   242   243   244   245   246   247   248   249   250   251\n",
      "   252   253   254   255   256   257   258   259   260   261   262   264\n",
      "   265   266   267   268   269   270   271   272   273   274   275   276\n",
      "   277   278   279   280   281   282   283   284   285   286   287   288\n",
      "   289   290   292   293   294   295   296   297   298   299   300   301\n",
      "   303   304   305   306   307   308   309   310   311   313   314   315\n",
      "   316   317   318   320   321   322   323   324   325   326   328   329\n",
      "   330   331   332   333   334   335   336   337   338   339   340   341\n",
      "   343   344   345   346   347   348   349   350   352   353   354   355\n",
      "   356   357   358   360   361   362   363   364   365   367   368   370\n",
      "   371   374   376   377   379   380   381   382   385   386   387   388\n",
      "   390   392   394   396   398   399   400   401   405   408   409   411\n",
      "   416   420   421   426   428   430   431   435   440   442   445   449\n",
      "   450   454   457   459   460   475   476   487   489   490   500   504\n",
      "   505   507   508   510   514   515   517   519   520   521   525   540\n",
      "   541   544   550   551   553   560   572   579   580   584   585   600\n",
      "   601   602   603   604   606   610   612   620   640   645   650   651\n",
      "   671   682   685   696   700   702   703   732   743   750   751   754\n",
      "   771   776   800   805   850   851   871   900   902   903   907   909\n",
      "   923   950   952   953   998   999  1000  1001  1002  1003  1004  1005\n",
      "  1011  1012  1016  1017  1021  1024  1054  1055  1056  1062  1079  1082\n",
      "  1090  1100  1103  1105  1115  1120  1149  1151  1158  1160  1162  1164\n",
      "  1199  1200  1202  1221  1223  1230  1239  1240  1241  1250  1256  1275\n",
      "  1288  1299  1300  1312  1317  1339  1360  1362  1363  1367  1390  1398\n",
      "  1399  1400  1401  1403  1405  1416  1432  1433  1436  1500  1501  1502\n",
      "  1503  1506  1521  1548  1595  1596  1597  1598  1600  1625  1631  1653\n",
      "  1659  1689  1700  1701  1703  1704  1707  1753  1771  1779  1780  1781\n",
      "  1783  1793  1796  1799  1800  1801  1870  1895  1896  1900  1920  1922\n",
      "  1933  1937  1968  1988  1992  1993  1995  1998  1999  2000  2004  2005\n",
      "  2007  2009  2016  2017  2018  2172  2331  2340  2389  2402  2461  2598\n",
      "  2729  2789  2792  2799  3199  3454  3500  3750  4400  4507  4700  5411\n",
      "  5420  5575  5809  5815  5867  6006  6010  6011  6012  6018  6045  6062\n",
      "  6226  6512  6920  7508  7511  7512  7515  7518  7529  7544  8259  8404\n",
      "  8500  9007  9012  9013 10000 10110 10218 10311 10520 10522 10710 10910\n",
      " 10912 11011 11025 11111 11509 11530 11635 12012 12510 12512 12684 13616\n",
      " 13636 14009 15001 15017 15020 15033 16311 16312 17011 17019 17410 17700\n",
      " 17932 19208 19211 19312 20000]\n"
     ]
    }
   ],
   "source": [
    "print(autos_data[\"power\"].sort_values().unique())"
   ]
  },
  {
   "cell_type": "code",
   "execution_count": 22,
   "id": "ee4882b7-5a27-4090-bed3-87c06af9fc31",
   "metadata": {},
   "outputs": [
    {
     "name": "stdout",
     "output_type": "stream",
     "text": [
      "Power range: 20-1,000 HP\n"
     ]
    }
   ],
   "source": [
    "# Choosing reasonable power bounds\n",
    "power_upper = 1000\n",
    "power_lower = 20\n",
    "print(f\"Power range: {power_lower:,}-{power_upper:,} HP\")"
   ]
  },
  {
   "cell_type": "code",
   "execution_count": 23,
   "id": "aa8ff7ab-066c-4450-9064-ce38b37c86cf",
   "metadata": {},
   "outputs": [
    {
     "name": "stdout",
     "output_type": "stream",
     "text": [
      "DataFrame size (prior to filtering): 326,252\n",
      "DataFrame size (after filtering): 294,409\n",
      "Objects filtered out: 31,843 (9.8%)\n"
     ]
    }
   ],
   "source": [
    "# Getting rid of anomalous power values\n",
    "autos_data = clean_data(\n",
    "    data=autos_data,\n",
    "    column=\"power\",\n",
    "    lower_val=power_lower,\n",
    "    upper_val=power_upper,\n",
    ")"
   ]
  },
  {
   "cell_type": "code",
   "execution_count": 24,
   "id": "8f364d12-3073-49bd-9efa-755aa1b67a54",
   "metadata": {},
   "outputs": [
    {
     "data": {
      "text/plain": [
       "True"
      ]
     },
     "execution_count": 24,
     "metadata": {},
     "output_type": "execute_result"
    }
   ],
   "source": [
    "power_lower <= np.min(autos_data[\"power\"]) <= power_upper"
   ]
  },
  {
   "cell_type": "code",
   "execution_count": 25,
   "id": "e14a9c9d-3493-44d1-af8a-9f77f5870cf5",
   "metadata": {},
   "outputs": [
    {
     "data": {
      "text/plain": [
       "True"
      ]
     },
     "execution_count": 25,
     "metadata": {},
     "output_type": "execute_result"
    }
   ],
   "source": [
    "power_lower <= np.max(autos_data[\"power\"]) <= power_upper"
   ]
  },
  {
   "cell_type": "markdown",
   "id": "c3bd3d7d-95bb-4d15-94be-9ab30f73c66c",
   "metadata": {},
   "source": [
    "We have managed to process anomalous values in the DataFrame so let's print out the range of values that we will henceforth consider."
   ]
  },
  {
   "cell_type": "code",
   "execution_count": 26,
   "id": "15b27db2-6afb-458f-88d7-a49dd6806b2a",
   "metadata": {},
   "outputs": [
    {
     "data": {
      "text/html": [
       "<div>\n",
       "<style scoped>\n",
       "    .dataframe tbody tr th:only-of-type {\n",
       "        vertical-align: middle;\n",
       "    }\n",
       "\n",
       "    .dataframe tbody tr th {\n",
       "        vertical-align: top;\n",
       "    }\n",
       "\n",
       "    .dataframe thead th {\n",
       "        text-align: right;\n",
       "    }\n",
       "</style>\n",
       "<table border=\"1\" class=\"dataframe\">\n",
       "  <thead>\n",
       "    <tr style=\"text-align: right;\">\n",
       "      <th></th>\n",
       "      <th>min</th>\n",
       "      <th>max</th>\n",
       "    </tr>\n",
       "  </thead>\n",
       "  <tbody>\n",
       "    <tr>\n",
       "      <th>price</th>\n",
       "      <td>100</td>\n",
       "      <td>20000</td>\n",
       "    </tr>\n",
       "    <tr>\n",
       "      <th>registration_year</th>\n",
       "      <td>1970</td>\n",
       "      <td>2016</td>\n",
       "    </tr>\n",
       "    <tr>\n",
       "      <th>power</th>\n",
       "      <td>20</td>\n",
       "      <td>1000</td>\n",
       "    </tr>\n",
       "    <tr>\n",
       "      <th>kilometer</th>\n",
       "      <td>5000</td>\n",
       "      <td>150000</td>\n",
       "    </tr>\n",
       "    <tr>\n",
       "      <th>registration_month</th>\n",
       "      <td>0</td>\n",
       "      <td>12</td>\n",
       "    </tr>\n",
       "    <tr>\n",
       "      <th>number_of_pictures</th>\n",
       "      <td>0</td>\n",
       "      <td>0</td>\n",
       "    </tr>\n",
       "    <tr>\n",
       "      <th>postal_code</th>\n",
       "      <td>1067</td>\n",
       "      <td>99998</td>\n",
       "    </tr>\n",
       "  </tbody>\n",
       "</table>\n",
       "</div>"
      ],
      "text/plain": [
       "                     min     max\n",
       "price                100   20000\n",
       "registration_year   1970    2016\n",
       "power                 20    1000\n",
       "kilometer           5000  150000\n",
       "registration_month     0      12\n",
       "number_of_pictures     0       0\n",
       "postal_code         1067   99998"
      ]
     },
     "metadata": {},
     "output_type": "display_data"
    }
   ],
   "source": [
    "display(autos_data.describe().loc[[\"min\", \"max\"]].astype(int).T)"
   ]
  },
  {
   "cell_type": "markdown",
   "id": "7904e4a2-8f86-41d2-ac98-3453d5265b78",
   "metadata": {},
   "source": [
    "### Deleting irrelevant infomation"
   ]
  },
  {
   "cell_type": "markdown",
   "id": "01fc7b3d-f10e-4520-b0fa-5fc1bf957af2",
   "metadata": {},
   "source": [
    "The data contains a certain number of columns that will not be particularly informative for solving the task at hand. Such columns include:\n",
    "\n",
    "* `date_crawled`\n",
    "* `registration_year`\n",
    "* `registration_month`\n",
    "* `date_created`\n",
    "* `number_of_pictures`\n",
    "* `postal code`\n",
    "* `last_seen`\n",
    "\n",
    "Let's get rid of these columns."
   ]
  },
  {
   "cell_type": "code",
   "execution_count": 27,
   "id": "18bff770-5c4f-42dd-a312-9098c24e0283",
   "metadata": {},
   "outputs": [
    {
     "data": {
      "text/html": [
       "<div>\n",
       "<style scoped>\n",
       "    .dataframe tbody tr th:only-of-type {\n",
       "        vertical-align: middle;\n",
       "    }\n",
       "\n",
       "    .dataframe tbody tr th {\n",
       "        vertical-align: top;\n",
       "    }\n",
       "\n",
       "    .dataframe thead th {\n",
       "        text-align: right;\n",
       "    }\n",
       "</style>\n",
       "<table border=\"1\" class=\"dataframe\">\n",
       "  <thead>\n",
       "    <tr style=\"text-align: right;\">\n",
       "      <th></th>\n",
       "      <th>price</th>\n",
       "      <th>vehicle_type</th>\n",
       "      <th>gearbox</th>\n",
       "      <th>power</th>\n",
       "      <th>model</th>\n",
       "      <th>kilometer</th>\n",
       "      <th>fuel_type</th>\n",
       "      <th>brand</th>\n",
       "      <th>repaired</th>\n",
       "    </tr>\n",
       "  </thead>\n",
       "  <tbody>\n",
       "    <tr>\n",
       "      <th>294404</th>\n",
       "      <td>5250</td>\n",
       "      <td>NaN</td>\n",
       "      <td>auto</td>\n",
       "      <td>150</td>\n",
       "      <td>159</td>\n",
       "      <td>150000</td>\n",
       "      <td>NaN</td>\n",
       "      <td>alfa_romeo</td>\n",
       "      <td>no</td>\n",
       "    </tr>\n",
       "    <tr>\n",
       "      <th>294405</th>\n",
       "      <td>3200</td>\n",
       "      <td>sedan</td>\n",
       "      <td>manual</td>\n",
       "      <td>225</td>\n",
       "      <td>leon</td>\n",
       "      <td>150000</td>\n",
       "      <td>petrol</td>\n",
       "      <td>seat</td>\n",
       "      <td>yes</td>\n",
       "    </tr>\n",
       "    <tr>\n",
       "      <th>294406</th>\n",
       "      <td>1199</td>\n",
       "      <td>convertible</td>\n",
       "      <td>auto</td>\n",
       "      <td>101</td>\n",
       "      <td>fortwo</td>\n",
       "      <td>125000</td>\n",
       "      <td>petrol</td>\n",
       "      <td>smart</td>\n",
       "      <td>no</td>\n",
       "    </tr>\n",
       "    <tr>\n",
       "      <th>294407</th>\n",
       "      <td>9200</td>\n",
       "      <td>bus</td>\n",
       "      <td>manual</td>\n",
       "      <td>102</td>\n",
       "      <td>transporter</td>\n",
       "      <td>150000</td>\n",
       "      <td>gasoline</td>\n",
       "      <td>volkswagen</td>\n",
       "      <td>no</td>\n",
       "    </tr>\n",
       "    <tr>\n",
       "      <th>294408</th>\n",
       "      <td>3400</td>\n",
       "      <td>wagon</td>\n",
       "      <td>manual</td>\n",
       "      <td>100</td>\n",
       "      <td>golf</td>\n",
       "      <td>150000</td>\n",
       "      <td>gasoline</td>\n",
       "      <td>volkswagen</td>\n",
       "      <td>NaN</td>\n",
       "    </tr>\n",
       "  </tbody>\n",
       "</table>\n",
       "</div>"
      ],
      "text/plain": [
       "        price vehicle_type gearbox  power        model  kilometer fuel_type  \\\n",
       "294404   5250          NaN    auto    150          159     150000       NaN   \n",
       "294405   3200        sedan  manual    225         leon     150000    petrol   \n",
       "294406   1199  convertible    auto    101       fortwo     125000    petrol   \n",
       "294407   9200          bus  manual    102  transporter     150000  gasoline   \n",
       "294408   3400        wagon  manual    100         golf     150000  gasoline   \n",
       "\n",
       "             brand repaired  \n",
       "294404  alfa_romeo       no  \n",
       "294405        seat      yes  \n",
       "294406       smart       no  \n",
       "294407  volkswagen       no  \n",
       "294408  volkswagen      NaN  "
      ]
     },
     "metadata": {},
     "output_type": "display_data"
    }
   ],
   "source": [
    "irrelevant_cols = [\n",
    "    \"date_crawled\",\n",
    "    \"registration_year\",\n",
    "    \"registration_month\",\n",
    "    \"date_created\",\n",
    "    \"number_of_pictures\",\n",
    "    \"postal_code\",\n",
    "    \"last_seen\",\n",
    "]\n",
    "autos_data.drop(columns=irrelevant_cols, axis=1, inplace=True)\n",
    "display(autos_data.tail())"
   ]
  },
  {
   "cell_type": "markdown",
   "id": "907c5052-f22c-45a6-bc6e-b5e585544405",
   "metadata": {},
   "source": [
    "### Missing values"
   ]
  },
  {
   "cell_type": "markdown",
   "id": "7fd5a92d-78e0-4695-816c-208d6bfe3938",
   "metadata": {},
   "source": [
    "In order to compute missing values in the DataFrame, we will write a function called `identify_missing_values()` for calculating the number and share of `NaN` values in the data."
   ]
  },
  {
   "cell_type": "code",
   "execution_count": 28,
   "id": "ebf31333-d367-452a-aa5e-dcb60e8d0e12",
   "metadata": {},
   "outputs": [],
   "source": [
    "def identify_missing_values(data):\n",
    "    \"\"\"Performs missing values computation.\n",
    "\n",
    "    Function computes a number and share of missing values\n",
    "    in DataFrame columns which have NaN-values present\n",
    "    and displays data types of such columns.\n",
    "\n",
    "    Parameters\n",
    "    ----------\n",
    "    data : DataFrame\n",
    "        DataFrame which needs to be checked for missing values.\n",
    "\n",
    "    Returns\n",
    "    -------\n",
    "    DataFrame or None\n",
    "        DataFrame with column names/their data types, number of\n",
    "        missing values and shares of NaN-values in such columns,\n",
    "        or None if no missing values have been found.\n",
    "    \"\"\"\n",
    "    # Verifying the presence of missing values\n",
    "    miss_vals_num = data.isnull().sum()[data.isnull().sum() > 0]\n",
    "    if miss_vals_num.empty:\n",
    "        return None\n",
    "\n",
    "    # Creating a table with numbers of missing values\n",
    "    cols = {\"missing_count\": miss_vals_num.values}\n",
    "    nans_df = pd.DataFrame(data=cols, index=miss_vals_num.index).sort_values(\n",
    "        by=\"missing_count\", ascending=False\n",
    "    )\n",
    "\n",
    "    # Adding shares of missing values\n",
    "    nans_df[\"missing_fraction\"] = nans_df[\"missing_count\"] / data.shape[0]\n",
    "    nans_df[\"missing_fraction\"] = nans_df[\"missing_fraction\"].round(4)\n",
    "\n",
    "    # Adding data types\n",
    "    nans_df[\"dtype\"] = data[nans_df.index].dtypes\n",
    "    nans_df = nans_df[[\"dtype\", \"missing_count\", \"missing_fraction\"]]\n",
    "\n",
    "    return nans_df"
   ]
  },
  {
   "cell_type": "code",
   "execution_count": 29,
   "id": "073c6d9d-19c0-48ee-b599-2c642fb0c8d6",
   "metadata": {},
   "outputs": [
    {
     "data": {
      "text/html": [
       "<div>\n",
       "<style scoped>\n",
       "    .dataframe tbody tr th:only-of-type {\n",
       "        vertical-align: middle;\n",
       "    }\n",
       "\n",
       "    .dataframe tbody tr th {\n",
       "        vertical-align: top;\n",
       "    }\n",
       "\n",
       "    .dataframe thead th {\n",
       "        text-align: right;\n",
       "    }\n",
       "</style>\n",
       "<table border=\"1\" class=\"dataframe\">\n",
       "  <thead>\n",
       "    <tr style=\"text-align: right;\">\n",
       "      <th></th>\n",
       "      <th>dtype</th>\n",
       "      <th>missing_count</th>\n",
       "      <th>missing_fraction</th>\n",
       "    </tr>\n",
       "  </thead>\n",
       "  <tbody>\n",
       "    <tr>\n",
       "      <th>repaired</th>\n",
       "      <td>object</td>\n",
       "      <td>42304</td>\n",
       "      <td>0.1437</td>\n",
       "    </tr>\n",
       "    <tr>\n",
       "      <th>fuel_type</th>\n",
       "      <td>object</td>\n",
       "      <td>15270</td>\n",
       "      <td>0.0519</td>\n",
       "    </tr>\n",
       "    <tr>\n",
       "      <th>vehicle_type</th>\n",
       "      <td>object</td>\n",
       "      <td>10792</td>\n",
       "      <td>0.0367</td>\n",
       "    </tr>\n",
       "    <tr>\n",
       "      <th>model</th>\n",
       "      <td>object</td>\n",
       "      <td>10706</td>\n",
       "      <td>0.0364</td>\n",
       "    </tr>\n",
       "    <tr>\n",
       "      <th>gearbox</th>\n",
       "      <td>object</td>\n",
       "      <td>5215</td>\n",
       "      <td>0.0177</td>\n",
       "    </tr>\n",
       "  </tbody>\n",
       "</table>\n",
       "</div>"
      ],
      "text/plain": [
       "               dtype  missing_count  missing_fraction\n",
       "repaired      object          42304            0.1437\n",
       "fuel_type     object          15270            0.0519\n",
       "vehicle_type  object          10792            0.0367\n",
       "model         object          10706            0.0364\n",
       "gearbox       object           5215            0.0177"
      ]
     },
     "execution_count": 29,
     "metadata": {},
     "output_type": "execute_result"
    }
   ],
   "source": [
    "identify_missing_values(data=autos_data)"
   ]
  },
  {
   "cell_type": "markdown",
   "id": "21d63524-943f-4f3c-b56c-eb85547f5911",
   "metadata": {},
   "source": [
    "We see that only 5 columns have at least 1 missing value and those columns are all categorical. For solving the problem, we will resort to filling in missing values in `object` columns with the most frequent category in the data which will be done later when specifying preprocessing pipelines."
   ]
  },
  {
   "cell_type": "markdown",
   "id": "a82f565d-2a7c-46a6-8422-0cbc27ca966b",
   "metadata": {},
   "source": [
    "### Removing duplicates"
   ]
  },
  {
   "cell_type": "markdown",
   "id": "2b40fab6-67da-482d-8055-a0d639597c29",
   "metadata": {},
   "source": [
    "After having removed irrelevant columns from the DataFrame, we have created an opportunity for us to verify the data for the presence of identical rows. Let's test this assumption and delete such rows from the data."
   ]
  },
  {
   "cell_type": "code",
   "execution_count": 30,
   "id": "ce73d131-0345-41fc-b6ac-bd26c154e258",
   "metadata": {},
   "outputs": [
    {
     "name": "stdout",
     "output_type": "stream",
     "text": [
      "DataFrame size (before duplicates deletion): 294,409\n",
      "DataFrame size (after duplicates deletion): 230,770\n",
      "Duplicates removed: 63,639 (21.6%)\n"
     ]
    }
   ],
   "source": [
    "print(f\"DataFrame size (before duplicates deletion): {autos_data.shape[0]:,}\")\n",
    "\n",
    "# Checking and deleting identical rows\n",
    "duplicates_num = autos_data.duplicated().sum()\n",
    "duplicates_share = duplicates_num / autos_data.shape[0]\n",
    "autos_data.drop_duplicates(inplace=True)\n",
    "\n",
    "print(f\"DataFrame size (after duplicates deletion): {autos_data.shape[0]:,}\")\n",
    "print(f\"Duplicates removed: {duplicates_num:,} ({duplicates_share:.1%})\")"
   ]
  },
  {
   "cell_type": "markdown",
   "id": "949e6200-3bd0-41b6-90ed-342e9d830bff",
   "metadata": {},
   "source": [
    "### Splitting data"
   ]
  },
  {
   "cell_type": "markdown",
   "id": "de3322b9-a557-4737-a7bc-fcc557c8c604",
   "metadata": {},
   "source": [
    "Now, we will single out a target column from the rest of the features and then carry out data split into training and test sets."
   ]
  },
  {
   "cell_type": "code",
   "execution_count": 31,
   "id": "3c949df7-d13f-4ce8-9601-4c77f815405e",
   "metadata": {},
   "outputs": [],
   "source": [
    "# Separating features from target\n",
    "features = autos_data.drop([\"price\"], axis=1)\n",
    "target = autos_data[\"price\"]"
   ]
  },
  {
   "cell_type": "code",
   "execution_count": 32,
   "id": "9c3df5b3-d337-41a2-b26d-c5bf6cffc6e9",
   "metadata": {},
   "outputs": [],
   "source": [
    "# Splitting data into training and test sets\n",
    "features_train, features_test, target_train, target_test = train_test_split(\n",
    "    features,\n",
    "    target,\n",
    "    test_size=TEST_SET_SIZE,\n",
    "    random_state=RANDOM_STATE,\n",
    ")"
   ]
  },
  {
   "cell_type": "markdown",
   "id": "7294a2db-1cbd-4764-a3f8-05a656be30c7",
   "metadata": {},
   "source": [
    "Let's now check if we have managed to preserve the correct proportions when we have split the data into sets."
   ]
  },
  {
   "cell_type": "code",
   "execution_count": 33,
   "id": "01fe1d29-6513-4c26-82fa-e5e830a6f0a2",
   "metadata": {},
   "outputs": [],
   "source": [
    "# Computing shares of training set\n",
    "features_train_share = np.round(features_train.shape[0] / autos_data.shape[0], 2)\n",
    "target_train_share = np.round(target_train.shape[0] / autos_data.shape[0], 2)\n",
    "\n",
    "# Computing shares of test set\n",
    "features_test_share = np.round(features_test.shape[0] / autos_data.shape[0], 2)\n",
    "target_test_share = np.round(target_test.shape[0] / autos_data.shape[0], 2)\n",
    "\n",
    "# Running checks\n",
    "assert (\n",
    "    features_train_share == target_train_share == TRAIN_SET_SIZE\n",
    "), \"Train set share inconsistency\"\n",
    "assert (\n",
    "    features_test_share == target_test_share == TEST_SET_SIZE\n",
    "), \"Test set share inconsistency\""
   ]
  },
  {
   "cell_type": "markdown",
   "id": "75ac047e-51e1-4d0c-9d62-782cb4b3918f",
   "metadata": {},
   "source": [
    "As can be seen, we have managed to correctly separate the data into training and test sets in accordance with required proportions."
   ]
  },
  {
   "cell_type": "markdown",
   "id": "0e07e5ec-8d7a-4e56-bbea-0756fcee2910",
   "metadata": {},
   "source": [
    "### Preprocessing pipelines"
   ]
  },
  {
   "cell_type": "markdown",
   "id": "f582a593-f18b-4425-9c3c-1ae543a1d613",
   "metadata": {},
   "source": [
    "In this section we will define pipelines and column transformers for the final preprocessing and preparation of the data for machine learning algorithms. \n",
    "\n",
    "Firstly, we will write three pipelines:\n",
    "\n",
    "* `numeric_transformer` => preprocessing numeric columns;\n",
    "* `onehot_transformer` => preprocessing categorical columns with `OneHotEncoder()` as underlying estimator;\n",
    "* `ordinal_transformer` => preprocessing categorical columns with `OrdinalEncoder()` as underlying estimator."
   ]
  },
  {
   "cell_type": "code",
   "execution_count": 34,
   "id": "84328d70-e1dc-4042-8184-a3b9fe5ab6b2",
   "metadata": {},
   "outputs": [],
   "source": [
    "# Pipeline for numeric columns\n",
    "numeric_transformer = Pipeline(\n",
    "    steps=[\n",
    "        (\"simple_imputer\", SimpleImputer(strategy=\"median\")),\n",
    "        (\"standard_scaler\", StandardScaler()),\n",
    "    ]\n",
    ")\n",
    "# Pipeline for categorical columns (OHE-encoding)\n",
    "onehot_transformer = Pipeline(\n",
    "    steps=[\n",
    "        (\"simple_imputer\", SimpleImputer(strategy=\"most_frequent\")),\n",
    "        (\"onehot_encoder\", OneHotEncoder(drop=\"first\", handle_unknown=\"ignore\")),\n",
    "    ]\n",
    ")\n",
    "# Pipeline for categorical columns (Ordinal encoding)\n",
    "ordinal_transformer = Pipeline(\n",
    "    steps=[\n",
    "        (\"simple_imputer\", SimpleImputer(strategy=\"most_frequent\")),\n",
    "        (\n",
    "            \"ordinal_encoder\",\n",
    "            OrdinalEncoder(handle_unknown=\"use_encoded_value\", unknown_value=-1),\n",
    "        ),\n",
    "    ]\n",
    ")"
   ]
  },
  {
   "cell_type": "markdown",
   "id": "696005ee-62af-4e0d-932d-a8695301d530",
   "metadata": {},
   "source": [
    "Here, we have separately defined transformers for categorical columns with different encoding methods. This is done because in case encoding categorical features via *One-Hot Encoding* in tree-based models (*Decision Tree* and *Random Forest*), we will have a huge amount of such features and as a result it will take much longer for a model to find an optimal split. Hence, in this case we have introduced *Ordinal Encoding* which should speed up the work of tree-based algorithms.\n",
    "\n",
    "Now, we can pass the transformers to two column transformers: \n",
    "\n",
    "* `preprocessor_boost` => preprocessing data for gradient boosting models;\n",
    "* `preprocessor_tree` => preprocessing data for tree-based models."
   ]
  },
  {
   "cell_type": "code",
   "execution_count": 35,
   "id": "9543d87b-6706-43c2-a3a8-e43add6a34c1",
   "metadata": {},
   "outputs": [],
   "source": [
    "# Preprocessor for data (gradient boosting models)\n",
    "preprocessor_boost = ColumnTransformer(\n",
    "    transformers=[\n",
    "        (\n",
    "            \"numeric_transformer\",\n",
    "            numeric_transformer,\n",
    "            make_column_selector(dtype_exclude=\"object\"),\n",
    "        ),\n",
    "        (\n",
    "            \"onehot_transformer\",\n",
    "            onehot_transformer,\n",
    "            make_column_selector(dtype_include=\"object\"),\n",
    "        ),\n",
    "    ],\n",
    "    verbose_feature_names_out=False,\n",
    ")\n",
    "# Preprocessor for data (tree-based models)\n",
    "preprocessor_tree = ColumnTransformer(\n",
    "    transformers=[\n",
    "        (\n",
    "            \"numeric_transformer\",\n",
    "            numeric_transformer,\n",
    "            make_column_selector(dtype_exclude=\"object\"),\n",
    "        ),\n",
    "        (\n",
    "            \"ordinal_transformer\",\n",
    "            ordinal_transformer,\n",
    "            make_column_selector(dtype_include=\"object\"),\n",
    "        ),\n",
    "    ],\n",
    "    verbose_feature_names_out=False,\n",
    ")"
   ]
  },
  {
   "cell_type": "markdown",
   "id": "fd448535-3daa-44c7-82e1-fb93ff905803",
   "metadata": {},
   "source": [
    "**Summary**\n",
    "\n",
    "At this stage, we have preprocessed the data. We were able to deal with the problems found in the previous section: we changed the column names to more convenient ones, got rid of abnormal values, removed uninformative columns that would not be important for price prediction, and also removed duplicated rows and missing values. Next, we prepared data for machine learning algorithms: we divided the data into training and test sets and created data preprocessors using pipelines and column transformers for missing values imputation, encoding and scaling data."
   ]
  },
  {
   "cell_type": "markdown",
   "id": "9b0b8578-1082-4cba-bc96-c261c171afcc",
   "metadata": {},
   "source": [
    "# Training models"
   ]
  },
  {
   "cell_type": "markdown",
   "id": "832af9b3-eb0f-4f37-a259-4e4ec9c6f825",
   "metadata": {},
   "source": [
    "Now that we have managed to find a way to preprocess the data, we can get to training machine learning models. We will consider two classes of models:\n",
    "\n",
    "1. **Tree-based models**\n",
    "    * `DecisionTreeRegressor()`\n",
    "    * `RandomForestRegressor()`\n",
    "2. **Gradient boosting models**\n",
    "    * `CatBoostRegressor()`\n",
    "    * `XGBRegressor()`\n",
    "    * `LGBMRegressor()`\n",
    "    \n",
    "For each model we will conduct hyperparameter tuning using a wrapper we will write on `RandomizedSearchCV()`. It will be called `RandomizedHyperoptRegression()` which will make use of some additional functionality and custom defaults for running regressions during grid search. \n",
    "\n",
    "Firstly, we will define a grid of hyperparameters which we are going to vary for each model. Secondly, we will concatenate preprocessors obtained in the previous sections with final estimators. Lastly, hyperparameter tuning will be conducted."
   ]
  },
  {
   "cell_type": "markdown",
   "id": "93af7d07-ecbe-49ca-9ec8-885c518833a5",
   "metadata": {},
   "source": [
    "## Hyperparameter grid"
   ]
  },
  {
   "cell_type": "code",
   "execution_count": 36,
   "id": "76872a4d-f826-43c1-b82f-13e71c9fced1",
   "metadata": {},
   "outputs": [],
   "source": [
    "pp = PrettyPrinter(depth=4)"
   ]
  },
  {
   "cell_type": "code",
   "execution_count": 37,
   "id": "97ead9b9-e732-48ed-86b3-312b23ec54ea",
   "metadata": {},
   "outputs": [
    {
     "name": "stdout",
     "output_type": "stream",
     "text": [
      "{'model__max_depth': array([ 1,  2,  3,  4,  5,  6,  7,  8,  9, 10])}\n"
     ]
    }
   ],
   "source": [
    "# Hyperparameter grid (DecisionTreeRegressor)\n",
    "decision_tree_params_grid = {\n",
    "    \"model__max_depth\": np.arange(1, N_ITER + 1),\n",
    "}\n",
    "pp.pprint(decision_tree_params_grid)"
   ]
  },
  {
   "cell_type": "code",
   "execution_count": 38,
   "id": "bfb1b6d0-a74f-43ee-8fbc-95ad7a015a06",
   "metadata": {},
   "outputs": [
    {
     "name": "stdout",
     "output_type": "stream",
     "text": [
      "{'model__max_depth': array([1, 2, 3, 4, 5]),\n",
      " 'model__n_estimators': array([10, 20, 30, 40])}\n"
     ]
    }
   ],
   "source": [
    "# Hyperparameter grid (RandomForestRegressor)\n",
    "random_forest_params_grid = {\n",
    "    \"model__max_depth\": np.arange(1, 6),\n",
    "    \"model__n_estimators\": np.arange(10, 50, step=10),\n",
    "}\n",
    "pp.pprint(random_forest_params_grid)"
   ]
  },
  {
   "cell_type": "code",
   "execution_count": 39,
   "id": "6d59662d-c9a3-42ca-a171-43cb620e5a08",
   "metadata": {},
   "outputs": [
    {
     "name": "stdout",
     "output_type": "stream",
     "text": [
      "{'model__learning_rate': array([0.01, 0.02, 0.03, 0.04, 0.05, 0.06, 0.07, 0.08, 0.09, 0.1 , 0.11,\n",
      "       0.12, 0.13, 0.14, 0.15, 0.16, 0.17, 0.18, 0.19, 0.2 , 0.21, 0.22,\n",
      "       0.23, 0.24, 0.25, 0.26, 0.27, 0.28, 0.29, 0.3 , 0.31, 0.32, 0.33,\n",
      "       0.34, 0.35, 0.36, 0.37, 0.38, 0.39, 0.4 , 0.41, 0.42, 0.43, 0.44,\n",
      "       0.45, 0.46, 0.47, 0.48, 0.49, 0.5 , 0.51, 0.52, 0.53, 0.54, 0.55,\n",
      "       0.56, 0.57, 0.58, 0.59, 0.6 , 0.61, 0.62, 0.63, 0.64, 0.65, 0.66,\n",
      "       0.67, 0.68, 0.69, 0.7 , 0.71, 0.72, 0.73, 0.74, 0.75, 0.76, 0.77,\n",
      "       0.78, 0.79, 0.8 , 0.81, 0.82, 0.83, 0.84, 0.85, 0.86, 0.87, 0.88,\n",
      "       0.89, 0.9 , 0.91, 0.92, 0.93, 0.94, 0.95, 0.96, 0.97, 0.98, 0.99,\n",
      "       1.  ]),\n",
      " 'model__max_depth': array([1, 2, 3, 4, 5, 6, 7]),\n",
      " 'model__n_estimators': array([10, 20, 30, 40, 50, 60, 70, 80, 90])}\n"
     ]
    }
   ],
   "source": [
    "# Hyperparameter grid (CatBoostRegressor)\n",
    "catboost_params_grid = {\n",
    "    \"model__max_depth\": np.arange(1, 8),\n",
    "    \"model__n_estimators\": np.arange(10, 100, step=10),\n",
    "    \"model__learning_rate\": np.arange(0.01, 1.01, step=0.01),\n",
    "}\n",
    "pp.pprint(catboost_params_grid)"
   ]
  },
  {
   "cell_type": "code",
   "execution_count": 40,
   "id": "e9c43590-1e50-4644-812f-0bb4df963850",
   "metadata": {},
   "outputs": [
    {
     "name": "stdout",
     "output_type": "stream",
     "text": [
      "{'model__learning_rate': array([0.01, 0.02, 0.03, 0.04, 0.05, 0.06, 0.07, 0.08, 0.09, 0.1 , 0.11,\n",
      "       0.12, 0.13, 0.14, 0.15, 0.16, 0.17, 0.18, 0.19, 0.2 , 0.21, 0.22,\n",
      "       0.23, 0.24, 0.25, 0.26, 0.27, 0.28, 0.29, 0.3 , 0.31, 0.32, 0.33,\n",
      "       0.34, 0.35, 0.36, 0.37, 0.38, 0.39, 0.4 , 0.41, 0.42, 0.43, 0.44,\n",
      "       0.45, 0.46, 0.47, 0.48, 0.49, 0.5 , 0.51, 0.52, 0.53, 0.54, 0.55,\n",
      "       0.56, 0.57, 0.58, 0.59, 0.6 , 0.61, 0.62, 0.63, 0.64, 0.65, 0.66,\n",
      "       0.67, 0.68, 0.69, 0.7 , 0.71, 0.72, 0.73, 0.74, 0.75, 0.76, 0.77,\n",
      "       0.78, 0.79, 0.8 , 0.81, 0.82, 0.83, 0.84, 0.85, 0.86, 0.87, 0.88,\n",
      "       0.89, 0.9 , 0.91, 0.92, 0.93, 0.94, 0.95, 0.96, 0.97, 0.98, 0.99,\n",
      "       1.  ]),\n",
      " 'model__max_depth': array([1, 2, 3, 4, 5, 6, 7]),\n",
      " 'model__n_estimators': array([10, 20, 30, 40, 50, 60, 70, 80, 90])}\n"
     ]
    }
   ],
   "source": [
    "# Hyperparameter grid (XGBRegressor)\n",
    "xgb_params_grid = {\n",
    "    \"model__max_depth\": np.arange(1, 8),\n",
    "    \"model__n_estimators\": np.arange(10, 100, step=10),\n",
    "    \"model__learning_rate\": np.arange(0.01, 1.01, step=0.01),\n",
    "}\n",
    "pp.pprint(xgb_params_grid)"
   ]
  },
  {
   "cell_type": "code",
   "execution_count": 41,
   "id": "0f880a25-f1ee-48eb-964f-b58259335c24",
   "metadata": {},
   "outputs": [
    {
     "name": "stdout",
     "output_type": "stream",
     "text": [
      "{'model__learning_rate': array([0.01, 0.02, 0.03, 0.04, 0.05, 0.06, 0.07, 0.08, 0.09, 0.1 , 0.11,\n",
      "       0.12, 0.13, 0.14, 0.15, 0.16, 0.17, 0.18, 0.19, 0.2 , 0.21, 0.22,\n",
      "       0.23, 0.24, 0.25, 0.26, 0.27, 0.28, 0.29, 0.3 , 0.31, 0.32, 0.33,\n",
      "       0.34, 0.35, 0.36, 0.37, 0.38, 0.39, 0.4 , 0.41, 0.42, 0.43, 0.44,\n",
      "       0.45, 0.46, 0.47, 0.48, 0.49, 0.5 , 0.51, 0.52, 0.53, 0.54, 0.55,\n",
      "       0.56, 0.57, 0.58, 0.59, 0.6 , 0.61, 0.62, 0.63, 0.64, 0.65, 0.66,\n",
      "       0.67, 0.68, 0.69, 0.7 , 0.71, 0.72, 0.73, 0.74, 0.75, 0.76, 0.77,\n",
      "       0.78, 0.79, 0.8 , 0.81, 0.82, 0.83, 0.84, 0.85, 0.86, 0.87, 0.88,\n",
      "       0.89, 0.9 , 0.91, 0.92, 0.93, 0.94, 0.95, 0.96, 0.97, 0.98, 0.99,\n",
      "       1.  ]),\n",
      " 'model__max_depth': array([1, 2, 3, 4, 5, 6, 7]),\n",
      " 'model__n_estimators': array([10, 20, 30, 40, 50, 60, 70, 80, 90])}\n"
     ]
    }
   ],
   "source": [
    "# Hyperparameter grid (LGBMRegressor)\n",
    "lgbm_params_grid = {\n",
    "    \"model__max_depth\": np.arange(1, 8),\n",
    "    \"model__n_estimators\": np.arange(10, 100, step=10),\n",
    "    \"model__learning_rate\": np.arange(0.01, 1.01, step=0.01),\n",
    "}\n",
    "pp.pprint(lgbm_params_grid)"
   ]
  },
  {
   "cell_type": "markdown",
   "id": "645179b3-1fe5-43fe-8fcd-769e8de45540",
   "metadata": {},
   "source": [
    "## Estimators"
   ]
  },
  {
   "cell_type": "code",
   "execution_count": 42,
   "id": "6eefa9a4-5ed5-4ad5-8b80-91f0068059e3",
   "metadata": {},
   "outputs": [],
   "source": [
    "# Adding final estimator (DecisionTreeRegressor)\n",
    "decision_tree_model = DecisionTreeRegressor(random_state=RANDOM_STATE)\n",
    "decision_tree_pipeline = Pipeline(\n",
    "    steps=[(\"preprocessor\", preprocessor_tree), (\"model\", decision_tree_model)]\n",
    ")"
   ]
  },
  {
   "cell_type": "code",
   "execution_count": 43,
   "id": "faec844c-446d-4d42-8a18-abc8721d2899",
   "metadata": {},
   "outputs": [],
   "source": [
    "# Adding final estimator (RandomForestRegressor)\n",
    "random_forest_model = RandomForestRegressor(random_state=RANDOM_STATE)\n",
    "random_forest_pipeline = Pipeline(\n",
    "    steps=[(\"preprocessor\", preprocessor_tree), (\"model\", random_forest_model)]\n",
    ")"
   ]
  },
  {
   "cell_type": "code",
   "execution_count": 44,
   "id": "b6ef55d3-d281-4f6b-aa64-4d3fefdba871",
   "metadata": {},
   "outputs": [],
   "source": [
    "# Adding final estimator (CatBoostRegressor)\n",
    "catboost_model = CatBoostRegressor(verbose=0)\n",
    "catboost_pipeline = Pipeline(\n",
    "    steps=[(\"preprocessor\", preprocessor_boost), (\"model\", catboost_model)]\n",
    ")"
   ]
  },
  {
   "cell_type": "code",
   "execution_count": 45,
   "id": "67ddef3e-e1ef-4efa-8efb-2214d8ac084a",
   "metadata": {},
   "outputs": [],
   "source": [
    "# Adding final estimator (XGBRegressor)\n",
    "xgb_model = XGBRegressor()\n",
    "xgb_pipeline = Pipeline(\n",
    "    steps=[(\"preprocessor\", preprocessor_boost), (\"model\", xgb_model)]\n",
    ")"
   ]
  },
  {
   "cell_type": "code",
   "execution_count": 46,
   "id": "a91c92e4-b99f-4878-9038-76985d3e1955",
   "metadata": {},
   "outputs": [],
   "source": [
    "# Adding final estimator (LGBMRegressor)\n",
    "lgbm_model = LGBMRegressor()\n",
    "lgbm_pipeline = Pipeline(\n",
    "    steps=[(\"preprocessor\", preprocessor_boost), (\"model\", lgbm_model)]\n",
    ")"
   ]
  },
  {
   "cell_type": "markdown",
   "id": "7573a724-bb25-44e4-a317-338a1e7e3b0e",
   "metadata": {},
   "source": [
    "## Hyperparameter tuning"
   ]
  },
  {
   "cell_type": "markdown",
   "id": "d138b8c3-d68c-49c5-a7b9-4a7057a9b644",
   "metadata": {},
   "source": [
    "### Tree-based models"
   ]
  },
  {
   "cell_type": "markdown",
   "id": "dc617196-4201-4e14-a775-d62791e05343",
   "metadata": {},
   "source": [
    "#### `DecisionTree`"
   ]
  },
  {
   "cell_type": "code",
   "execution_count": 47,
   "id": "f6263b83-5f2f-4724-ac10-2986e1fecd54",
   "metadata": {},
   "outputs": [
    {
     "name": "stdout",
     "output_type": "stream",
     "text": [
      "Fitting 10 folds for each of 10 candidates, totalling 100 fits\n",
      "RMSE (Decision tree): 2725.61\n",
      "CPU times: total: 11.4 s\n",
      "Wall time: 23.7 s\n"
     ]
    }
   ],
   "source": [
    "%%time\n",
    "\n",
    "# Instantiating RSCV object (Decision tree)\n",
    "decision_tree_grid_search = RandomizedSearchCV(\n",
    "    estimator=decision_tree_pipeline,\n",
    "    param_distributions=decision_tree_params_grid,\n",
    "    n_iter=N_ITER,\n",
    "    cv=CV_FOLDS,\n",
    "    random_state=RANDOM_STATE,\n",
    "    scoring=SCORER,\n",
    "    verbose=1,\n",
    "    n_jobs=-1,\n",
    ")\n",
    "\n",
    "# Launching randomized grid search\n",
    "decision_tree_grid_search.fit(features_train, target_train)\n",
    "\n",
    "# Displaying the best score\n",
    "print(f\"RMSE (Decision tree): {-decision_tree_grid_search.best_score_:.2f}\")"
   ]
  },
  {
   "cell_type": "code",
   "execution_count": 48,
   "id": "4dc2df53-a3fe-4582-94c6-6c297df7f335",
   "metadata": {},
   "outputs": [
    {
     "data": {
      "text/plain": [
       "{'model__max_depth': 10}"
      ]
     },
     "metadata": {},
     "output_type": "display_data"
    }
   ],
   "source": [
    "# Displaying optimal hyperparameters\n",
    "display(decision_tree_grid_search.best_params_)"
   ]
  },
  {
   "cell_type": "markdown",
   "id": "bb2625f5-3b95-4e0c-8301-939762932c52",
   "metadata": {},
   "source": [
    "#### `RandomForest`"
   ]
  },
  {
   "cell_type": "code",
   "execution_count": 49,
   "id": "cba100cc-2b25-44b4-add0-b11aefc2cf15",
   "metadata": {},
   "outputs": [
    {
     "name": "stdout",
     "output_type": "stream",
     "text": [
      "Fitting 10 folds for each of 10 candidates, totalling 100 fits\n",
      "RMSE (Random forest): 3074.05\n",
      "CPU times: total: 15.1 s\n",
      "Wall time: 1min 9s\n"
     ]
    }
   ],
   "source": [
    "%%time\n",
    "\n",
    "# Instantiating RSCV object (Random forest)\n",
    "random_forest_grid_search = RandomizedSearchCV(\n",
    "    estimator=random_forest_pipeline,\n",
    "    param_distributions=random_forest_params_grid,\n",
    "    n_iter=N_ITER,\n",
    "    cv=CV_FOLDS,\n",
    "    random_state=RANDOM_STATE,\n",
    "    scoring=SCORER,\n",
    "    verbose=1,\n",
    "    n_jobs=-1,\n",
    ")\n",
    "\n",
    "# Lauching randomized grid search\n",
    "random_forest_grid_search.fit(features_train, target_train)\n",
    "\n",
    "# Displaying the best score\n",
    "print(f\"RMSE (Random forest): {-random_forest_grid_search.best_score_:.2f}\")"
   ]
  },
  {
   "cell_type": "code",
   "execution_count": 50,
   "id": "bad70d06-94ea-4592-8d80-4780a7d93a52",
   "metadata": {},
   "outputs": [
    {
     "data": {
      "text/plain": [
       "{'model__n_estimators': 10, 'model__max_depth': 5}"
      ]
     },
     "metadata": {},
     "output_type": "display_data"
    }
   ],
   "source": [
    "# Displaying optimal hyperparameters\n",
    "display(random_forest_grid_search.best_params_)"
   ]
  },
  {
   "cell_type": "markdown",
   "id": "716c5426-7571-4be9-ac13-b0be9ea30e9f",
   "metadata": {},
   "source": [
    "### Gradient boosting models"
   ]
  },
  {
   "cell_type": "code",
   "execution_count": 51,
   "id": "f5d9b236-4d29-4734-93a4-74d719d353fe",
   "metadata": {},
   "outputs": [],
   "source": [
    "state = np.random.RandomState(RANDOM_STATE)"
   ]
  },
  {
   "cell_type": "markdown",
   "id": "bf8a4ea9-ae7f-4be3-bafc-ad6e179b8d78",
   "metadata": {},
   "source": [
    "#### `CatBoost`"
   ]
  },
  {
   "cell_type": "code",
   "execution_count": 52,
   "id": "3182d238-07a9-4de9-9939-b460f6914afd",
   "metadata": {},
   "outputs": [
    {
     "name": "stdout",
     "output_type": "stream",
     "text": [
      "Fitting 10 folds for each of 10 candidates, totalling 100 fits\n",
      "RMSE (Catboost): 2389.02\n",
      "CPU times: total: 25.8 s\n",
      "Wall time: 1min 40s\n"
     ]
    }
   ],
   "source": [
    "%%time\n",
    "\n",
    "# Instantiating RSCV object (Catboost)\n",
    "catboost_grid_search = RandomizedSearchCV(\n",
    "    estimator=catboost_pipeline,\n",
    "    param_distributions=catboost_params_grid,\n",
    "    random_state=state,\n",
    "    n_iter=N_ITER,\n",
    "    cv=CV_FOLDS,\n",
    "    scoring=SCORER,\n",
    "    verbose=1,\n",
    "    n_jobs=-1,\n",
    ")\n",
    "\n",
    "# Launching randomized grid search\n",
    "catboost_grid_search.fit(features_train, target_train)\n",
    "\n",
    "# Displaying the best score\n",
    "print(f\"RMSE (Catboost): {-catboost_grid_search.best_score_:.2f}\")"
   ]
  },
  {
   "cell_type": "code",
   "execution_count": 53,
   "id": "f1f8485a-4760-4861-96fc-53314bafe9bc",
   "metadata": {},
   "outputs": [
    {
     "data": {
      "text/plain": [
       "{'model__n_estimators': 90,\n",
       " 'model__max_depth': 7,\n",
       " 'model__learning_rate': 0.65}"
      ]
     },
     "metadata": {},
     "output_type": "display_data"
    }
   ],
   "source": [
    "# Displaying optimal hyperparameters\n",
    "display(catboost_grid_search.best_params_)"
   ]
  },
  {
   "cell_type": "markdown",
   "id": "4e8c13af-20c1-499e-8bf0-226a6c54c87e",
   "metadata": {},
   "source": [
    "#### `XGBoost`"
   ]
  },
  {
   "cell_type": "code",
   "execution_count": 54,
   "id": "4b74306b-866c-4894-b23b-7739943b8c68",
   "metadata": {},
   "outputs": [
    {
     "name": "stdout",
     "output_type": "stream",
     "text": [
      "Fitting 10 folds for each of 10 candidates, totalling 100 fits\n",
      "RMSE (XGBoost): 2546.57\n",
      "CPU times: total: 22.4 s\n",
      "Wall time: 1min 5s\n"
     ]
    }
   ],
   "source": [
    "%%time\n",
    "\n",
    "# Instantiating RSCV object (XGBoost)\n",
    "xgb_grid_search = RandomizedSearchCV(\n",
    "    estimator=xgb_pipeline,\n",
    "    param_distributions=xgb_params_grid,\n",
    "    random_state=state,\n",
    "    n_iter=N_ITER,\n",
    "    cv=CV_FOLDS,\n",
    "    scoring=SCORER,\n",
    "    verbose=1,\n",
    "    n_jobs=-1,\n",
    ")\n",
    "\n",
    "# Lauching randomized grid search\n",
    "xgb_grid_search.fit(features_train, target_train)\n",
    "\n",
    "# Displaying the best score\n",
    "print(f\"RMSE (XGBoost): {-xgb_grid_search.best_score_:.2f}\")"
   ]
  },
  {
   "cell_type": "code",
   "execution_count": 55,
   "id": "de012b0d-021f-4863-839b-2c12ae1d9628",
   "metadata": {},
   "outputs": [
    {
     "data": {
      "text/plain": [
       "{'model__n_estimators': 40,\n",
       " 'model__max_depth': 5,\n",
       " 'model__learning_rate': 0.55}"
      ]
     },
     "metadata": {},
     "output_type": "display_data"
    }
   ],
   "source": [
    "# Displaying optimal hyperparameters\n",
    "display(xgb_grid_search.best_params_)"
   ]
  },
  {
   "cell_type": "markdown",
   "id": "e32b1957-b11c-463f-86b7-2ec90c3c98b5",
   "metadata": {},
   "source": [
    "#### `LightGBM`"
   ]
  },
  {
   "cell_type": "code",
   "execution_count": 56,
   "id": "f7e9e08e-30c2-4261-b8cc-d7a2cb2d395f",
   "metadata": {},
   "outputs": [
    {
     "name": "stdout",
     "output_type": "stream",
     "text": [
      "Fitting 10 folds for each of 10 candidates, totalling 100 fits\n",
      "RMSE (LightGBM): 2387.48\n",
      "CPU times: total: 16.1 s\n",
      "Wall time: 35.3 s\n"
     ]
    }
   ],
   "source": [
    "%%time\n",
    "\n",
    "# Instantiating RSCV object (LightGBM)\n",
    "lgbm_grid_search = RandomizedSearchCV(\n",
    "    estimator=lgbm_pipeline,\n",
    "    param_distributions=lgbm_params_grid,\n",
    "    random_state=state,\n",
    "    n_iter=N_ITER,\n",
    "    cv=CV_FOLDS,\n",
    "    scoring=SCORER,\n",
    "    verbose=1,\n",
    "    n_jobs=-1,\n",
    ")\n",
    "\n",
    "# Launching randomized grid search\n",
    "lgbm_grid_search.fit(features_train, target_train)\n",
    "\n",
    "# Displaying the best score\n",
    "print(f\"RMSE (LightGBM): {-lgbm_grid_search.best_score_:.2f}\")"
   ]
  },
  {
   "cell_type": "code",
   "execution_count": 57,
   "id": "7ce6b66e-8d52-4aff-8973-873c6f4da0d7",
   "metadata": {},
   "outputs": [
    {
     "data": {
      "text/plain": [
       "{'model__n_estimators': 90,\n",
       " 'model__max_depth': 5,\n",
       " 'model__learning_rate': 0.66}"
      ]
     },
     "metadata": {},
     "output_type": "display_data"
    }
   ],
   "source": [
    "# Displaying optimal hyperparameters\n",
    "display(lgbm_grid_search.best_params_)"
   ]
  },
  {
   "cell_type": "markdown",
   "id": "4da7b143-fcc3-458a-bacd-19c2cb01955f",
   "metadata": {},
   "source": [
    "**Summary**\n",
    "\n",
    "At this stage, a series of hyperparameter tunings was carried out as a result of which we have managed to find optimal combinations of hyperparameters in each of the models considered."
   ]
  },
  {
   "cell_type": "markdown",
   "id": "9f445a72-9e3a-4cbd-a83b-9d9f5c9dbc73",
   "metadata": {},
   "source": [
    "# Models analysis"
   ]
  },
  {
   "cell_type": "markdown",
   "id": "2d144bdb-df8e-42c9-af55-eac4cb3978f5",
   "metadata": {},
   "source": [
    "Grid search enabled us to find a range of optimal models, among which we will have to choose one that adheres to the requirements. Firstly, let's compute the time of training and predicting the models chosen during hyperparameter tuning."
   ]
  },
  {
   "cell_type": "code",
   "execution_count": 58,
   "id": "3585e410-de6f-44a1-a33a-09e8224b7c09",
   "metadata": {},
   "outputs": [],
   "source": [
    "# Retrieving the training time\n",
    "training_time = [\n",
    "    decision_tree_grid_search.refit_time_,\n",
    "    random_forest_grid_search.refit_time_,\n",
    "    catboost_grid_search.refit_time_,\n",
    "    xgb_grid_search.refit_time_,\n",
    "    lgbm_grid_search.refit_time_,\n",
    "]"
   ]
  },
  {
   "cell_type": "code",
   "execution_count": 59,
   "id": "752bf270-af80-4cd2-9e58-a0582b478130",
   "metadata": {},
   "outputs": [],
   "source": [
    "# Best models\n",
    "models = (\n",
    "    decision_tree_grid_search.best_estimator_,\n",
    "    random_forest_grid_search.best_estimator_,\n",
    "    catboost_grid_search.best_estimator_,\n",
    "    xgb_grid_search.best_estimator_,\n",
    "    lgbm_grid_search.best_estimator_,\n",
    ")\n",
    "\n",
    "# Computing prediction time\n",
    "prediction_time = []\n",
    "\n",
    "for model in models:\n",
    "    start = time.time()\n",
    "    model.predict(features_test)\n",
    "    end = time.time() - start\n",
    "    prediction_time.append(end)"
   ]
  },
  {
   "cell_type": "markdown",
   "id": "9dbb6ed2-8062-4c8d-b9db-16eabb14fa41",
   "metadata": {},
   "source": [
    "Now, we can create a summary table that will store information about different models along with their *RMSE* values as well as training/prediction time (in seconds)."
   ]
  },
  {
   "cell_type": "code",
   "execution_count": 60,
   "id": "ab29caeb-c1f1-485a-9973-9ceec13b42a2",
   "metadata": {},
   "outputs": [
    {
     "data": {
      "text/html": [
       "<div>\n",
       "<style scoped>\n",
       "    .dataframe tbody tr th:only-of-type {\n",
       "        vertical-align: middle;\n",
       "    }\n",
       "\n",
       "    .dataframe tbody tr th {\n",
       "        vertical-align: top;\n",
       "    }\n",
       "\n",
       "    .dataframe thead th {\n",
       "        text-align: right;\n",
       "    }\n",
       "</style>\n",
       "<table border=\"1\" class=\"dataframe\">\n",
       "  <thead>\n",
       "    <tr style=\"text-align: right;\">\n",
       "      <th></th>\n",
       "      <th>max_depth</th>\n",
       "      <th>n_estimators</th>\n",
       "      <th>learning_rate</th>\n",
       "      <th>RMSE</th>\n",
       "      <th>training_time</th>\n",
       "      <th>prediction_time</th>\n",
       "    </tr>\n",
       "  </thead>\n",
       "  <tbody>\n",
       "    <tr>\n",
       "      <th>LGBMRegressor</th>\n",
       "      <td>5</td>\n",
       "      <td>90.0</td>\n",
       "      <td>0.66</td>\n",
       "      <td>2387.48</td>\n",
       "      <td>1.52</td>\n",
       "      <td>0.53</td>\n",
       "    </tr>\n",
       "    <tr>\n",
       "      <th>CatBoostRegressor</th>\n",
       "      <td>7</td>\n",
       "      <td>90.0</td>\n",
       "      <td>0.65</td>\n",
       "      <td>2389.02</td>\n",
       "      <td>3.23</td>\n",
       "      <td>0.69</td>\n",
       "    </tr>\n",
       "    <tr>\n",
       "      <th>XGBRegressor</th>\n",
       "      <td>5</td>\n",
       "      <td>40.0</td>\n",
       "      <td>0.55</td>\n",
       "      <td>2546.57</td>\n",
       "      <td>2.13</td>\n",
       "      <td>0.59</td>\n",
       "    </tr>\n",
       "    <tr>\n",
       "      <th>DecisionTreeRegressor</th>\n",
       "      <td>10</td>\n",
       "      <td>-</td>\n",
       "      <td>-</td>\n",
       "      <td>2725.61</td>\n",
       "      <td>0.99</td>\n",
       "      <td>0.35</td>\n",
       "    </tr>\n",
       "    <tr>\n",
       "      <th>RandomForestRegressor</th>\n",
       "      <td>5</td>\n",
       "      <td>10.0</td>\n",
       "      <td>-</td>\n",
       "      <td>3074.05</td>\n",
       "      <td>2.16</td>\n",
       "      <td>0.52</td>\n",
       "    </tr>\n",
       "  </tbody>\n",
       "</table>\n",
       "</div>"
      ],
      "text/plain": [
       "                       max_depth n_estimators learning_rate     RMSE  \\\n",
       "LGBMRegressor                  5         90.0          0.66  2387.48   \n",
       "CatBoostRegressor              7         90.0          0.65  2389.02   \n",
       "XGBRegressor                   5         40.0          0.55  2546.57   \n",
       "DecisionTreeRegressor         10            -             -  2725.61   \n",
       "RandomForestRegressor          5         10.0             -  3074.05   \n",
       "\n",
       "                       training_time  prediction_time  \n",
       "LGBMRegressor                   1.52             0.53  \n",
       "CatBoostRegressor               3.23             0.69  \n",
       "XGBRegressor                    2.13             0.59  \n",
       "DecisionTreeRegressor           0.99             0.35  \n",
       "RandomForestRegressor           2.16             0.52  "
      ]
     },
     "metadata": {},
     "output_type": "display_data"
    }
   ],
   "source": [
    "# Model names\n",
    "model_names = [\n",
    "    decision_tree_grid_search.best_estimator_[\"model\"].__class__.__name__,\n",
    "    random_forest_grid_search.best_estimator_[\"model\"].__class__.__name__,\n",
    "    catboost_grid_search.best_estimator_[\"model\"].__class__.__name__,\n",
    "    xgb_grid_search.best_estimator_[\"model\"].__class__.__name__,\n",
    "    lgbm_grid_search.best_estimator_[\"model\"].__class__.__name__,\n",
    "]\n",
    "\n",
    "# Best hyperparameters\n",
    "hyperparameters = [\n",
    "    decision_tree_grid_search.best_params_,\n",
    "    random_forest_grid_search.best_params_,\n",
    "    catboost_grid_search.best_params_,\n",
    "    xgb_grid_search.best_params_,\n",
    "    lgbm_grid_search.best_params_,\n",
    "]\n",
    "\n",
    "# Joining the info via a DataFrame\n",
    "final_comparison_df = pd.DataFrame(data=hyperparameters, index=model_names)\n",
    "\n",
    "# Adding RMSE\n",
    "final_comparison_df[\"RMSE\"] = [\n",
    "    -decision_tree_grid_search.best_score_,\n",
    "    -random_forest_grid_search.best_score_,\n",
    "    -catboost_grid_search.best_score_,\n",
    "    -xgb_grid_search.best_score_,\n",
    "    -lgbm_grid_search.best_score_,\n",
    "]\n",
    "\n",
    "# Adding training time\n",
    "final_comparison_df[\"training_time\"] = training_time\n",
    "\n",
    "# Adding prediction time\n",
    "final_comparison_df[\"prediction_time\"] = prediction_time\n",
    "\n",
    "# Additional style tweaks\n",
    "final_comparison_df.columns = final_comparison_df.columns.str.replace(\"model__\", \"\")\n",
    "final_comparison_df = final_comparison_df.round(2)\n",
    "final_comparison_df = final_comparison_df.fillna(\"-\")\n",
    "\n",
    "# Displaying the resulting table\n",
    "display(final_comparison_df.sort_values(by=\"RMSE\"))"
   ]
  },
  {
   "cell_type": "markdown",
   "id": "0ff92810-7875-44f4-b309-983a91db8961",
   "metadata": {},
   "source": [
    "The key metric that we will use for selecting the optimal model will be *RMSE* so let's now determine the model that we will ultimately choose."
   ]
  },
  {
   "cell_type": "code",
   "execution_count": 61,
   "id": "f0455839-d752-4103-b266-f24f8ddbc34a",
   "metadata": {},
   "outputs": [],
   "source": [
    "# Selecting the final model for testing\n",
    "final_model = lgbm_grid_search.best_estimator_"
   ]
  },
  {
   "cell_type": "markdown",
   "id": "d81a104e-3081-4423-bccf-5d2d8f519f80",
   "metadata": {},
   "source": [
    "**Summary**\n",
    "\n",
    "After comparing the models, we choose *LGBMRegressor* for predicting prices."
   ]
  },
  {
   "cell_type": "markdown",
   "id": "6d9b43c5-c840-45d5-9caf-f8e6e73134c9",
   "metadata": {},
   "source": [
    "# Feature importances"
   ]
  },
  {
   "cell_type": "markdown",
   "id": "d6788eea-720f-47da-b42c-5423d8e38fe6",
   "metadata": {},
   "source": [
    "Let's now consider the features which made a particular contribution to the model and plot their respective importances."
   ]
  },
  {
   "cell_type": "code",
   "execution_count": 62,
   "id": "0284ce46-214a-4295-8542-0b6e7f01fd6f",
   "metadata": {},
   "outputs": [
    {
     "data": {
      "image/png": "[encoded data removed]",
      "text/plain": [
       "<Figure size 640x480 with 1 Axes>"
      ]
     },
     "metadata": {},
     "output_type": "display_data"
    }
   ],
   "source": [
    "# Plotting feature importances\n",
    "feature_importances = pd.Series(\n",
    "    final_model[\"model\"].feature_importances_,\n",
    "    index=final_model[\"preprocessor\"].get_feature_names_out(),\n",
    ").sort_values()\n",
    "\n",
    "feature_importances.tail().plot(kind=\"barh\", color=\"orange\")\n",
    "\n",
    "plt.title(f\"Top-5 feature importances (LightGBM)\")\n",
    "plt.ylabel(\"Features\")\n",
    "plt.xlabel(\"Score\")\n",
    "plt.tight_layout()\n",
    "plt.show()"
   ]
  },
  {
   "cell_type": "markdown",
   "id": "f8f9b6ae-1d21-4ae5-9897-4735fe57d5da",
   "metadata": {},
   "source": [
    "**Summary**\n",
    "\n",
    "In this small section we have seen that `kilometer` and `power` features are particularly important when predicting car prices."
   ]
  },
  {
   "cell_type": "markdown",
   "id": "c40cc007-7b00-4a24-9f9c-d58e300e9084",
   "metadata": {},
   "source": [
    "# Testing"
   ]
  },
  {
   "cell_type": "markdown",
   "id": "295c5ac6-9799-449b-885a-cbb2a6fbe3a0",
   "metadata": {},
   "source": [
    "Let's check the model for predictive quality and adequacy on the test set."
   ]
  },
  {
   "cell_type": "code",
   "execution_count": 63,
   "id": "187df00b-1321-4d42-83ac-6d98f579b060",
   "metadata": {},
   "outputs": [
    {
     "name": "stdout",
     "output_type": "stream",
     "text": [
      "Test RMSE: 2372.71\n"
     ]
    }
   ],
   "source": [
    "# Testing the final model\n",
    "preds = final_model.predict(features_test)\n",
    "rmse_test = mean_squared_error(target_test, preds, squared=False)\n",
    "assert rmse_test < RMSE_THRESHOLD, \"Model quality is insufficient\"\n",
    "\n",
    "print(f\"Test RMSE: {rmse_test:.2f}\")"
   ]
  },
  {
   "cell_type": "code",
   "execution_count": 64,
   "id": "052c7e95-4a97-4953-9674-50252b84e1e5",
   "metadata": {},
   "outputs": [
    {
     "name": "stdout",
     "output_type": "stream",
     "text": [
      "Dummy test RMSE (median): 4997.23\n"
     ]
    }
   ],
   "source": [
    "# Comparing with dummy model\n",
    "dummy_model = DummyRegressor(strategy=\"median\")\n",
    "dummy_model.fit(features_train, target_train)\n",
    "predictions_dummy = dummy_model.predict(features_test)\n",
    "rmse_dummy = mean_squared_error(predictions_dummy, target_test, squared=False)\n",
    "\n",
    "assert rmse_test < rmse_dummy, \"Model is inadequate\"\n",
    "\n",
    "print(f\"Dummy test RMSE (median): {rmse_dummy:.2f}\")"
   ]
  },
  {
   "cell_type": "markdown",
   "id": "d4b6e112-a3ad-4723-a5c3-bfd0d551b996",
   "metadata": {},
   "source": [
    "The model passed all checks so we can now save the trained model in a file."
   ]
  },
  {
   "cell_type": "code",
   "execution_count": 65,
   "id": "736b8277-16c1-4afa-8332-40c4b4b5f109",
   "metadata": {},
   "outputs": [
    {
     "data": {
      "text/plain": [
       "['car_price_prediction_model.joblib']"
      ]
     },
     "execution_count": 65,
     "metadata": {},
     "output_type": "execute_result"
    }
   ],
   "source": [
    "# Saving the final model\n",
    "dump(final_model, \"car_price_prediction_model.joblib\")"
   ]
  },
  {
   "cell_type": "markdown",
   "id": "68199d76-e8bd-4ad6-a467-567879d68448",
   "metadata": {},
   "source": [
    "# Predicting new data"
   ]
  },
  {
   "cell_type": "markdown",
   "id": "b40bb615-d36f-439f-8272-30b6f89d22af",
   "metadata": {},
   "source": [
    "We can now use the saved model for making predictions on the new data. For that, let's first load the model."
   ]
  },
  {
   "cell_type": "code",
   "execution_count": 66,
   "id": "13017cdc-7977-44df-8750-94f17736a590",
   "metadata": {},
   "outputs": [],
   "source": [
    "# Loading the model\n",
    "model = load(\"car_price_prediction_model.joblib\")"
   ]
  },
  {
   "cell_type": "markdown",
   "id": "06d8a34f-baa8-4a99-bea5-bf4a8a91774b",
   "metadata": {},
   "source": [
    "Next, we will define some features of a hypothetical car, the price of which we would like to determine."
   ]
  },
  {
   "cell_type": "code",
   "execution_count": 67,
   "id": "b9b877d2-967d-41c1-864e-3775cf62ddcc",
   "metadata": {},
   "outputs": [
    {
     "data": {
      "text/html": [
       "<div>\n",
       "<style scoped>\n",
       "    .dataframe tbody tr th:only-of-type {\n",
       "        vertical-align: middle;\n",
       "    }\n",
       "\n",
       "    .dataframe tbody tr th {\n",
       "        vertical-align: top;\n",
       "    }\n",
       "\n",
       "    .dataframe thead th {\n",
       "        text-align: right;\n",
       "    }\n",
       "</style>\n",
       "<table border=\"1\" class=\"dataframe\">\n",
       "  <thead>\n",
       "    <tr style=\"text-align: right;\">\n",
       "      <th></th>\n",
       "      <th>vehicle_type</th>\n",
       "      <th>gearbox</th>\n",
       "      <th>power</th>\n",
       "      <th>model</th>\n",
       "      <th>kilometer</th>\n",
       "      <th>fuel_type</th>\n",
       "      <th>brand</th>\n",
       "      <th>repaired</th>\n",
       "    </tr>\n",
       "  </thead>\n",
       "  <tbody>\n",
       "    <tr>\n",
       "      <th>0</th>\n",
       "      <td>sedan</td>\n",
       "      <td>auto</td>\n",
       "      <td>200</td>\n",
       "      <td>3er</td>\n",
       "      <td>100000</td>\n",
       "      <td>petrol</td>\n",
       "      <td>bmw</td>\n",
       "      <td>yes</td>\n",
       "    </tr>\n",
       "  </tbody>\n",
       "</table>\n",
       "</div>"
      ],
      "text/plain": [
       "  vehicle_type gearbox  power model  kilometer fuel_type brand repaired\n",
       "0        sedan    auto    200   3er     100000    petrol   bmw      yes"
      ]
     },
     "metadata": {},
     "output_type": "display_data"
    }
   ],
   "source": [
    "# Defining new data for prediction\n",
    "new_data = pd.DataFrame(\n",
    "    data={\n",
    "        \"vehicle_type\": \"sedan\",\n",
    "        \"gearbox\": \"auto\",\n",
    "        \"power\": 200,\n",
    "        \"model\": \"3er\",\n",
    "        \"kilometer\": 100000,\n",
    "        \"fuel_type\": \"petrol\",\n",
    "        \"brand\": \"bmw\",\n",
    "        \"repaired\": \"yes\",\n",
    "    },\n",
    "    index=[0],\n",
    ")\n",
    "\n",
    "display(new_data)"
   ]
  },
  {
   "cell_type": "code",
   "execution_count": 68,
   "id": "ae98fd53-2669-4507-bd87-4f2c5445c694",
   "metadata": {},
   "outputs": [
    {
     "name": "stdout",
     "output_type": "stream",
     "text": [
      "Price of the car: 8896.58 EUR\n"
     ]
    }
   ],
   "source": [
    "# Displaying the prediction made\n",
    "car_price_predicted = model.predict(new_data)\n",
    "print(f\"Price of the car: {car_price_predicted[0]:.2f} EUR\")"
   ]
  },
  {
   "cell_type": "markdown",
   "id": "a2b2ae9a-ea07-4b2e-9b03-b5f703a02376",
   "metadata": {},
   "source": [
    "# Final conclusion"
   ]
  },
  {
   "cell_type": "markdown",
   "id": "db5fe751-1ba5-43aa-b540-7ad34440569a",
   "metadata": {},
   "source": [
    "This study was devoted to building and selecting the optimal model for determining the cost of the car. The data was uploaded, analyzed and visualized, as well as preprocessed. Moreover, the data was appropriately prepared using transformers and pipelines for machine learning algorithms and hyperparameter selection, as a result of which we were able to identify the optimal model that meets the customer's requirements.\n",
    "\n",
    "In the process of searching for a model, two classes of models were considered: conventional machine learning models and gradient boosting models. Based on the results of a random search for optimal combinations of hyperparameters, the choice fell on the *LightGBM* model from the `lightgbm` library, which not only was able to pass the test for compliance with proper quality and sanity, but also showed good results in terms of speed and training time/predictions."
   ]
  }
 ],
 "metadata": {
  "kernelspec": {
   "display_name": "Python 3 (ipykernel)",
   "language": "python",
   "name": "python3"
  },
  "language_info": {
   "codemirror_mode": {
    "name": "ipython",
    "version": 3
   },
   "file_extension": ".py",
   "mimetype": "text/x-python",
   "name": "python",
   "nbconvert_exporter": "python",
   "pygments_lexer": "ipython3",
   "version": "3.9.13"
  },
  "toc": {
   "base_numbering": 1,
   "nav_menu": {},
   "number_sections": true,
   "sideBar": true,
   "skip_h1_title": true,
   "title_cell": "Table of Contents",
   "title_sidebar": "Contents",
   "toc_cell": true,
   "toc_position": {},
   "toc_section_display": true,
   "toc_window_display": false
  }
 },
 "nbformat": 4,
 "nbformat_minor": 5
}
