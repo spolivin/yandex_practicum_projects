{
 "cells": [
  {
   "cell_type": "markdown",
   "id": "5f4f65d8-29c3-411c-965a-c32babd60aa9",
   "metadata": {},
   "source": [
    "## Data preparation"
   ]
  },
  {
   "cell_type": "markdown",
   "id": "e0a95526-7f55-452b-b24d-4667de4b20d2",
   "metadata": {},
   "source": [
    "### Data loading"
   ]
  },
  {
   "cell_type": "code",
   "execution_count": 1,
   "id": "d35c9766-9293-48f6-9d91-16277a48a795",
   "metadata": {},
   "outputs": [],
   "source": [
    "from typing import Any, Dict, Iterable, Optional, Sequence, Tuple\n",
    "from re import sub\n",
    "from warnings import filterwarnings\n",
    "from sys import getsizeof\n",
    "from pprint import PrettyPrinter\n",
    "from time import time\n",
    "\n",
    "import numpy as np\n",
    "import pandas as pd\n",
    "import matplotlib.pyplot as plt\n",
    "import seaborn as sns\n",
    "from sklearn.model_selection import train_test_split, RandomizedSearchCV\n",
    "from sklearn.pipeline import Pipeline\n",
    "from sklearn.impute import SimpleImputer\n",
    "from sklearn.compose import ColumnTransformer, make_column_selector\n",
    "from sklearn.preprocessing import StandardScaler, OneHotEncoder, OrdinalEncoder\n",
    "from sklearn.tree import DecisionTreeRegressor\n",
    "from sklearn.ensemble import RandomForestRegressor\n",
    "from sklearn.metrics import mean_squared_error\n",
    "from sklearn.dummy import DummyRegressor\n",
    "from sklearn.exceptions import NotFittedError\n",
    "from catboost import CatBoostRegressor\n",
    "from xgboost import XGBRegressor\n",
    "from lightgbm import LGBMRegressor\n",
    "from joblib import dump\n",
    "\n",
    "RANDOM_STATE = 12345\n",
    "RMSE_THRESHOLD = 2500\n",
    "TRAIN_SET_SIZE = 0.6\n",
    "CV_FOLDS = 2\n",
    "N_ITER = 8\n",
    "SCORER = \"neg_root_mean_squared_error\"\n",
    "\n",
    "filterwarnings(\"ignore\")"
   ]
  },
  {
   "cell_type": "code",
   "execution_count": 2,
   "id": "8c431a2d-ec22-42b9-870d-1dccddddaec2",
   "metadata": {},
   "outputs": [],
   "source": [
    "autos_data = pd.read_csv(\"autos.csv\")"
   ]
  },
  {
   "cell_type": "markdown",
   "id": "f1f56534-7b8d-4bac-8553-6998d88d1ba7",
   "metadata": {},
   "source": [
    "Let's make sure that we have correctly loaded data into a DataFrame."
   ]
  },
  {
   "cell_type": "code",
   "execution_count": 3,
   "id": "9e67ba43-70e5-43e6-accc-ec902cca558a",
   "metadata": {},
   "outputs": [
    {
     "data": {
      "text/html": [
       "<div>\n",
       "<style scoped>\n",
       "    .dataframe tbody tr th:only-of-type {\n",
       "        vertical-align: middle;\n",
       "    }\n",
       "\n",
       "    .dataframe tbody tr th {\n",
       "        vertical-align: top;\n",
       "    }\n",
       "\n",
       "    .dataframe thead th {\n",
       "        text-align: right;\n",
       "    }\n",
       "</style>\n",
       "<table border=\"1\" class=\"dataframe\">\n",
       "  <thead>\n",
       "    <tr style=\"text-align: right;\">\n",
       "      <th></th>\n",
       "      <th>DateCrawled</th>\n",
       "      <th>Price</th>\n",
       "      <th>VehicleType</th>\n",
       "      <th>RegistrationYear</th>\n",
       "      <th>Gearbox</th>\n",
       "      <th>Power</th>\n",
       "      <th>Model</th>\n",
       "      <th>Kilometer</th>\n",
       "      <th>RegistrationMonth</th>\n",
       "      <th>FuelType</th>\n",
       "      <th>Brand</th>\n",
       "      <th>Repaired</th>\n",
       "      <th>DateCreated</th>\n",
       "      <th>NumberOfPictures</th>\n",
       "      <th>PostalCode</th>\n",
       "      <th>LastSeen</th>\n",
       "    </tr>\n",
       "  </thead>\n",
       "  <tbody>\n",
       "    <tr>\n",
       "      <th>18734</th>\n",
       "      <td>2016-04-04 13:36:58</td>\n",
       "      <td>16900</td>\n",
       "      <td>bus</td>\n",
       "      <td>2010</td>\n",
       "      <td>auto</td>\n",
       "      <td>150</td>\n",
       "      <td>viano</td>\n",
       "      <td>150000</td>\n",
       "      <td>4</td>\n",
       "      <td>gasoline</td>\n",
       "      <td>mercedes_benz</td>\n",
       "      <td>no</td>\n",
       "      <td>2016-04-04 00:00:00</td>\n",
       "      <td>0</td>\n",
       "      <td>60326</td>\n",
       "      <td>2016-04-05 12:18:31</td>\n",
       "    </tr>\n",
       "    <tr>\n",
       "      <th>141787</th>\n",
       "      <td>2016-03-07 17:57:08</td>\n",
       "      <td>15500</td>\n",
       "      <td>other</td>\n",
       "      <td>2011</td>\n",
       "      <td>manual</td>\n",
       "      <td>143</td>\n",
       "      <td>1er</td>\n",
       "      <td>40000</td>\n",
       "      <td>5</td>\n",
       "      <td>gasoline</td>\n",
       "      <td>bmw</td>\n",
       "      <td>no</td>\n",
       "      <td>2016-03-07 00:00:00</td>\n",
       "      <td>0</td>\n",
       "      <td>35083</td>\n",
       "      <td>2016-04-06 20:19:15</td>\n",
       "    </tr>\n",
       "    <tr>\n",
       "      <th>37523</th>\n",
       "      <td>2016-03-24 09:37:02</td>\n",
       "      <td>3600</td>\n",
       "      <td>sedan</td>\n",
       "      <td>2004</td>\n",
       "      <td>manual</td>\n",
       "      <td>125</td>\n",
       "      <td>astra</td>\n",
       "      <td>150000</td>\n",
       "      <td>12</td>\n",
       "      <td>petrol</td>\n",
       "      <td>opel</td>\n",
       "      <td>no</td>\n",
       "      <td>2016-03-24 00:00:00</td>\n",
       "      <td>0</td>\n",
       "      <td>13627</td>\n",
       "      <td>2016-03-24 10:38:57</td>\n",
       "    </tr>\n",
       "    <tr>\n",
       "      <th>194192</th>\n",
       "      <td>2016-03-15 09:49:03</td>\n",
       "      <td>8990</td>\n",
       "      <td>sedan</td>\n",
       "      <td>2007</td>\n",
       "      <td>auto</td>\n",
       "      <td>224</td>\n",
       "      <td>c_klasse</td>\n",
       "      <td>150000</td>\n",
       "      <td>9</td>\n",
       "      <td>gasoline</td>\n",
       "      <td>mercedes_benz</td>\n",
       "      <td>no</td>\n",
       "      <td>2016-03-15 00:00:00</td>\n",
       "      <td>0</td>\n",
       "      <td>58135</td>\n",
       "      <td>2016-03-18 02:17:06</td>\n",
       "    </tr>\n",
       "    <tr>\n",
       "      <th>110210</th>\n",
       "      <td>2016-03-29 23:43:52</td>\n",
       "      <td>2500</td>\n",
       "      <td>other</td>\n",
       "      <td>1994</td>\n",
       "      <td>manual</td>\n",
       "      <td>68</td>\n",
       "      <td>transporter</td>\n",
       "      <td>150000</td>\n",
       "      <td>9</td>\n",
       "      <td>gasoline</td>\n",
       "      <td>volkswagen</td>\n",
       "      <td>no</td>\n",
       "      <td>2016-03-29 00:00:00</td>\n",
       "      <td>0</td>\n",
       "      <td>24598</td>\n",
       "      <td>2016-04-02 12:45:46</td>\n",
       "    </tr>\n",
       "    <tr>\n",
       "      <th>63295</th>\n",
       "      <td>2016-03-07 12:55:48</td>\n",
       "      <td>11000</td>\n",
       "      <td>wagon</td>\n",
       "      <td>2010</td>\n",
       "      <td>auto</td>\n",
       "      <td>177</td>\n",
       "      <td>5er</td>\n",
       "      <td>150000</td>\n",
       "      <td>10</td>\n",
       "      <td>gasoline</td>\n",
       "      <td>bmw</td>\n",
       "      <td>no</td>\n",
       "      <td>2016-03-07 00:00:00</td>\n",
       "      <td>0</td>\n",
       "      <td>6237</td>\n",
       "      <td>2016-04-04 02:16:33</td>\n",
       "    </tr>\n",
       "    <tr>\n",
       "      <th>299143</th>\n",
       "      <td>2016-03-24 17:48:59</td>\n",
       "      <td>1200</td>\n",
       "      <td>small</td>\n",
       "      <td>2003</td>\n",
       "      <td>NaN</td>\n",
       "      <td>58</td>\n",
       "      <td>clio</td>\n",
       "      <td>150000</td>\n",
       "      <td>3</td>\n",
       "      <td>petrol</td>\n",
       "      <td>renault</td>\n",
       "      <td>no</td>\n",
       "      <td>2016-03-24 00:00:00</td>\n",
       "      <td>0</td>\n",
       "      <td>25551</td>\n",
       "      <td>2016-03-24 17:48:59</td>\n",
       "    </tr>\n",
       "  </tbody>\n",
       "</table>\n",
       "</div>"
      ],
      "text/plain": [
       "                DateCrawled  Price VehicleType  RegistrationYear Gearbox  \\\n",
       "18734   2016-04-04 13:36:58  16900         bus              2010    auto   \n",
       "141787  2016-03-07 17:57:08  15500       other              2011  manual   \n",
       "37523   2016-03-24 09:37:02   3600       sedan              2004  manual   \n",
       "194192  2016-03-15 09:49:03   8990       sedan              2007    auto   \n",
       "110210  2016-03-29 23:43:52   2500       other              1994  manual   \n",
       "63295   2016-03-07 12:55:48  11000       wagon              2010    auto   \n",
       "299143  2016-03-24 17:48:59   1200       small              2003     NaN   \n",
       "\n",
       "        Power        Model  Kilometer  RegistrationMonth  FuelType  \\\n",
       "18734     150        viano     150000                  4  gasoline   \n",
       "141787    143          1er      40000                  5  gasoline   \n",
       "37523     125        astra     150000                 12    petrol   \n",
       "194192    224     c_klasse     150000                  9  gasoline   \n",
       "110210     68  transporter     150000                  9  gasoline   \n",
       "63295     177          5er     150000                 10  gasoline   \n",
       "299143     58         clio     150000                  3    petrol   \n",
       "\n",
       "                Brand Repaired          DateCreated  NumberOfPictures  \\\n",
       "18734   mercedes_benz       no  2016-04-04 00:00:00                 0   \n",
       "141787            bmw       no  2016-03-07 00:00:00                 0   \n",
       "37523            opel       no  2016-03-24 00:00:00                 0   \n",
       "194192  mercedes_benz       no  2016-03-15 00:00:00                 0   \n",
       "110210     volkswagen       no  2016-03-29 00:00:00                 0   \n",
       "63295             bmw       no  2016-03-07 00:00:00                 0   \n",
       "299143        renault       no  2016-03-24 00:00:00                 0   \n",
       "\n",
       "        PostalCode             LastSeen  \n",
       "18734        60326  2016-04-05 12:18:31  \n",
       "141787       35083  2016-04-06 20:19:15  \n",
       "37523        13627  2016-03-24 10:38:57  \n",
       "194192       58135  2016-03-18 02:17:06  \n",
       "110210       24598  2016-04-02 12:45:46  \n",
       "63295         6237  2016-04-04 02:16:33  \n",
       "299143       25551  2016-03-24 17:48:59  "
      ]
     },
     "execution_count": 3,
     "metadata": {},
     "output_type": "execute_result"
    }
   ],
   "source": [
    "autos_data.sample(7, random_state=RANDOM_STATE)"
   ]
  },
  {
   "cell_type": "markdown",
   "id": "0f367bd4-cfc2-40cd-b951-a5195f1c6238",
   "metadata": {},
   "source": [
    "**Summary**\n",
    "\n",
    "At this stage, we have imported all required libraries with required functions and data structures and managed to successfully read the data and correctly load it into a separate DataFrame."
   ]
  },
  {
   "cell_type": "markdown",
   "id": "503f7b12-0138-4e83-b374-339de0f055eb",
   "metadata": {},
   "source": [
    "### Exploring data"
   ]
  },
  {
   "cell_type": "code",
   "execution_count": 4,
   "id": "d5f84711-cd66-4a66-914c-4a5d22eb0868",
   "metadata": {},
   "outputs": [
    {
     "name": "stdout",
     "output_type": "stream",
     "text": [
      "<class 'pandas.core.frame.DataFrame'>\n",
      "RangeIndex: 354369 entries, 0 to 354368\n",
      "Data columns (total 16 columns):\n",
      " #   Column             Non-Null Count   Dtype \n",
      "---  ------             --------------   ----- \n",
      " 0   DateCrawled        354369 non-null  object\n",
      " 1   Price              354369 non-null  int64 \n",
      " 2   VehicleType        316879 non-null  object\n",
      " 3   RegistrationYear   354369 non-null  int64 \n",
      " 4   Gearbox            334536 non-null  object\n",
      " 5   Power              354369 non-null  int64 \n",
      " 6   Model              334664 non-null  object\n",
      " 7   Kilometer          354369 non-null  int64 \n",
      " 8   RegistrationMonth  354369 non-null  int64 \n",
      " 9   FuelType           321474 non-null  object\n",
      " 10  Brand              354369 non-null  object\n",
      " 11  Repaired           283215 non-null  object\n",
      " 12  DateCreated        354369 non-null  object\n",
      " 13  NumberOfPictures   354369 non-null  int64 \n",
      " 14  PostalCode         354369 non-null  int64 \n",
      " 15  LastSeen           354369 non-null  object\n",
      "dtypes: int64(7), object(9)\n",
      "memory usage: 43.3+ MB\n"
     ]
    }
   ],
   "source": [
    "autos_data.info()"
   ]
  },
  {
   "cell_type": "markdown",
   "id": "25cb29c9-9562-4208-b714-dde3fecc23bb",
   "metadata": {},
   "source": [
    "We observe the following. We have data on 354,369 objects (vehicles) with various attributes and characteristics, which are of `int64` and `object` data types. We also see that the data contains information on the following 16 characteristics of automobiles:"
   ]
  },
  {
   "cell_type": "markdown",
   "id": "cb984d75-f8c0-4aac-9aca-a6afdf0943ec",
   "metadata": {},
   "source": [
    "<table>\n",
    "<thead>\n",
    "<tr><th>Features</th><th>Description</th></tr>\n",
    "</thead>\n",
    "<tbody>\n",
    "<tr><td><b>DateCrawled</b></td><td><i>Date when the data was downloaded from the database</i></td></tr>\n",
    "<tr><td><b>Price</b></td><td><i>Price of a vehicle (in euros)</i></td></tr>\n",
    "<tr><td><b>VehicleType</b></td><td><i>Car body type</i></td></tr>\n",
    "<tr><td><b>RegistrationYear</b></td><td><i>Year of vehicle registration</i></td></tr>\n",
    "<tr><td><b>Gearbox</b></td><td><i>Type of gearbox</i></td></tr>\n",
    "<tr><td><b>Power</b></td><td><i>Power of a vehicle (in hp)</i></td></tr>\n",
    "<tr><td><b>Model</b></td><td><i>Model of a vehicle</i></td></tr>\n",
    "<tr><td><b>Kilometer</b></td><td><i>Mileage of a vehicle (in km)</i></td></tr>\n",
    "<tr><td><b>RegistrationMonth</b></td><td><i>Month of vehicle registration</i></td></tr>\n",
    "<tr><td><b>FuelType</b></td><td><i>Type of fuel used by a vehicle</i></td></tr>\n",
    "<tr><td><b>Brand</b></td><td><i>Brand of a vehicle</i></td></tr>\n",
    "<tr><td><b>Repaired</b></td><td><i>Indicator of previously performed repairs</i></td></tr>\n",
    "<tr><td><b>DateCreated</b></td><td><i>Date when the data entry was created</i></td></tr>\n",
    "<tr><td><b>Number of Pictures</b></td><td><i>Number of photos of a vehicle available</i></td></tr>\n",
    "<tr><td><b>PostalCode</b></td><td><i>User's postal code</i></td></tr>\n",
    "<tr><td><b>LastSeen</b></td><td><i>Date of a user's last activity</i></td></tr>\n",
    "</tbody>\n",
    "</table>"
   ]
  },
  {
   "cell_type": "markdown",
   "id": "cf349636-aaea-44f6-b697-93b0e164e0d5",
   "metadata": {},
   "source": [
    "Furthermore, the presence of missing values in the data is clearly traced, which will have to be dealt with at the stage of data preprocessing. We also see that the column names do not correspond to the standard of column names, which can be handled efficiently and quickly, which will be shown in the preprocessing section."
   ]
  },
  {
   "cell_type": "code",
   "execution_count": 5,
   "id": "3c54c04d-0cbe-4425-8903-884b90c91feb",
   "metadata": {},
   "outputs": [
    {
     "data": {
      "image/png": "[encoded data removed]",
      "text/plain": [
       "<Figure size 1500x2000 with 9 Axes>"
      ]
     },
     "metadata": {},
     "output_type": "display_data"
    }
   ],
   "source": [
    "# Visualization of numeric columns\n",
    "sns.set_theme(style=\"darkgrid\")\n",
    "autos_data.hist(figsize=(15, 20))\n",
    "plt.show()"
   ]
  },
  {
   "cell_type": "code",
   "execution_count": 6,
   "id": "960b5800-31bc-49d1-857c-ad17fc23a6e2",
   "metadata": {},
   "outputs": [
    {
     "data": {
      "text/html": [
       "<div>\n",
       "<style scoped>\n",
       "    .dataframe tbody tr th:only-of-type {\n",
       "        vertical-align: middle;\n",
       "    }\n",
       "\n",
       "    .dataframe tbody tr th {\n",
       "        vertical-align: top;\n",
       "    }\n",
       "\n",
       "    .dataframe thead th {\n",
       "        text-align: right;\n",
       "    }\n",
       "</style>\n",
       "<table border=\"1\" class=\"dataframe\">\n",
       "  <thead>\n",
       "    <tr style=\"text-align: right;\">\n",
       "      <th></th>\n",
       "      <th>count</th>\n",
       "      <th>mean</th>\n",
       "      <th>std</th>\n",
       "      <th>min</th>\n",
       "      <th>25%</th>\n",
       "      <th>50%</th>\n",
       "      <th>75%</th>\n",
       "      <th>max</th>\n",
       "    </tr>\n",
       "  </thead>\n",
       "  <tbody>\n",
       "    <tr>\n",
       "      <th>Price</th>\n",
       "      <td>354369.0</td>\n",
       "      <td>4416.7</td>\n",
       "      <td>4514.2</td>\n",
       "      <td>0.0</td>\n",
       "      <td>1050.0</td>\n",
       "      <td>2700.0</td>\n",
       "      <td>6400.0</td>\n",
       "      <td>20000.0</td>\n",
       "    </tr>\n",
       "    <tr>\n",
       "      <th>RegistrationYear</th>\n",
       "      <td>354369.0</td>\n",
       "      <td>2004.2</td>\n",
       "      <td>90.2</td>\n",
       "      <td>1000.0</td>\n",
       "      <td>1999.0</td>\n",
       "      <td>2003.0</td>\n",
       "      <td>2008.0</td>\n",
       "      <td>9999.0</td>\n",
       "    </tr>\n",
       "    <tr>\n",
       "      <th>Power</th>\n",
       "      <td>354369.0</td>\n",
       "      <td>110.1</td>\n",
       "      <td>189.9</td>\n",
       "      <td>0.0</td>\n",
       "      <td>69.0</td>\n",
       "      <td>105.0</td>\n",
       "      <td>143.0</td>\n",
       "      <td>20000.0</td>\n",
       "    </tr>\n",
       "    <tr>\n",
       "      <th>Kilometer</th>\n",
       "      <td>354369.0</td>\n",
       "      <td>128211.2</td>\n",
       "      <td>37905.3</td>\n",
       "      <td>5000.0</td>\n",
       "      <td>125000.0</td>\n",
       "      <td>150000.0</td>\n",
       "      <td>150000.0</td>\n",
       "      <td>150000.0</td>\n",
       "    </tr>\n",
       "    <tr>\n",
       "      <th>RegistrationMonth</th>\n",
       "      <td>354369.0</td>\n",
       "      <td>5.7</td>\n",
       "      <td>3.7</td>\n",
       "      <td>0.0</td>\n",
       "      <td>3.0</td>\n",
       "      <td>6.0</td>\n",
       "      <td>9.0</td>\n",
       "      <td>12.0</td>\n",
       "    </tr>\n",
       "    <tr>\n",
       "      <th>NumberOfPictures</th>\n",
       "      <td>354369.0</td>\n",
       "      <td>0.0</td>\n",
       "      <td>0.0</td>\n",
       "      <td>0.0</td>\n",
       "      <td>0.0</td>\n",
       "      <td>0.0</td>\n",
       "      <td>0.0</td>\n",
       "      <td>0.0</td>\n",
       "    </tr>\n",
       "    <tr>\n",
       "      <th>PostalCode</th>\n",
       "      <td>354369.0</td>\n",
       "      <td>50508.7</td>\n",
       "      <td>25783.1</td>\n",
       "      <td>1067.0</td>\n",
       "      <td>30165.0</td>\n",
       "      <td>49413.0</td>\n",
       "      <td>71083.0</td>\n",
       "      <td>99998.0</td>\n",
       "    </tr>\n",
       "  </tbody>\n",
       "</table>\n",
       "</div>"
      ],
      "text/plain": [
       "                      count      mean      std     min       25%       50%  \\\n",
       "Price              354369.0    4416.7   4514.2     0.0    1050.0    2700.0   \n",
       "RegistrationYear   354369.0    2004.2     90.2  1000.0    1999.0    2003.0   \n",
       "Power              354369.0     110.1    189.9     0.0      69.0     105.0   \n",
       "Kilometer          354369.0  128211.2  37905.3  5000.0  125000.0  150000.0   \n",
       "RegistrationMonth  354369.0       5.7      3.7     0.0       3.0       6.0   \n",
       "NumberOfPictures   354369.0       0.0      0.0     0.0       0.0       0.0   \n",
       "PostalCode         354369.0   50508.7  25783.1  1067.0   30165.0   49413.0   \n",
       "\n",
       "                        75%       max  \n",
       "Price                6400.0   20000.0  \n",
       "RegistrationYear     2008.0    9999.0  \n",
       "Power                 143.0   20000.0  \n",
       "Kilometer          150000.0  150000.0  \n",
       "RegistrationMonth       9.0      12.0  \n",
       "NumberOfPictures        0.0       0.0  \n",
       "PostalCode          71083.0   99998.0  "
      ]
     },
     "execution_count": 6,
     "metadata": {},
     "output_type": "execute_result"
    }
   ],
   "source": [
    "autos_data.describe().round(1).T"
   ]
  },
  {
   "cell_type": "markdown",
   "id": "fc3d037c-3969-4186-bafe-6ca91fbb5168",
   "metadata": {},
   "source": [
    "Perhaps the first thing that is quite visible is the presence of anomalies in the `RegistrationYear` column, since it contains the values of the registration year that are either too high or too low to be true. Anomalies are also visible in the `Price` column (a large number of zero prices), `RegistrationMonth` (presence of 13 months, instead of 12), as well as `Power` (zero power for most objects)."
   ]
  },
  {
   "cell_type": "code",
   "execution_count": 7,
   "id": "e01bdcd1-7ffc-4804-9ff8-48746ab8475c",
   "metadata": {},
   "outputs": [
    {
     "data": {
      "image/png": "[encoded data removed]",
      "text/plain": [
       "<Figure size 1200x1200 with 4 Axes>"
      ]
     },
     "metadata": {},
     "output_type": "display_data"
    }
   ],
   "source": [
    "# Selecting categorical columns with less than 10 unique values\n",
    "cat_cols = autos_data.select_dtypes(include=\"object\").columns.to_list()\n",
    "cat_cols_to_plot = [col for col in cat_cols if len(autos_data[col].unique()) < 10]\n",
    "\n",
    "# Visualization of categorical columns\n",
    "fig, axes = plt.subplots(2, 2, figsize=(12, 12))\n",
    "axes = axes.reshape(\n",
    "    4,\n",
    ")\n",
    "for col, ax in zip(cat_cols_to_plot, axes):\n",
    "    f = sns.countplot(data=autos_data, x=col, ax=ax)\n",
    "    f.set(xlabel=None, ylabel=None)\n",
    "    f.set_title(col, fontsize=13)\n",
    "plt.tight_layout()\n",
    "plt.show()"
   ]
  },
  {
   "cell_type": "code",
   "execution_count": 8,
   "id": "14ad7e60-2847-43b3-a931-6d852c257d45",
   "metadata": {},
   "outputs": [
    {
     "data": {
      "image/png": "[encoded data removed]",
      "text/plain": [
       "<Figure size 640x480 with 1 Axes>"
      ]
     },
     "metadata": {},
     "output_type": "display_data"
    }
   ],
   "source": [
    "# Visualization of \"Brand\" column\n",
    "fig = sns.countplot(data=autos_data, x=\"Brand\")\n",
    "fig.set(xlabel=None, ylabel=None)\n",
    "plt.title(\"Brand\")\n",
    "plt.xticks(rotation=90)\n",
    "plt.tight_layout()\n",
    "plt.show()"
   ]
  },
  {
   "cell_type": "markdown",
   "id": "a7677bf5-d25d-4c02-9408-43c8bae64053",
   "metadata": {},
   "source": [
    "**Summary**\n",
    "\n",
    "This stage was needed to conduct an initial review of the data, as a result of which we studied and visualized the data depending on the type of data in the DataFrame columns. We were also able to detect the presence of not only missing values, but also anomalies in some columns. We also saw that the column names can be changed for more convenient work with data."
   ]
  },
  {
   "cell_type": "markdown",
   "id": "d5a78ca0-ec0b-4ed0-8914-8bff090e5fa5",
   "metadata": {},
   "source": [
    "### Data preprocessing"
   ]
  },
  {
   "cell_type": "markdown",
   "id": "1dc9023c-aabf-4ebd-8989-b59349c6faf3",
   "metadata": {},
   "source": [
    "#### Column names"
   ]
  },
  {
   "cell_type": "code",
   "execution_count": 9,
   "id": "4c6e9e65-f2f2-46a0-b65c-c83e99a003cf",
   "metadata": {},
   "outputs": [
    {
     "name": "stdout",
     "output_type": "stream",
     "text": [
      "Old column names: ['DateCrawled', 'Price', 'VehicleType', 'RegistrationYear', 'Gearbox', 'Power', 'Model', 'Kilometer', 'RegistrationMonth', 'FuelType', 'Brand', 'Repaired', 'DateCreated', 'NumberOfPictures', 'PostalCode', 'LastSeen']\n",
      "\n",
      "New column names: ['date_crawled', 'price', 'vehicle_type', 'registration_year', 'gearbox', 'power', 'model', 'kilometer', 'registration_month', 'fuel_type', 'brand', 'repaired', 'date_created', 'number_of_pictures', 'postal_code', 'last_seen']\n"
     ]
    }
   ],
   "source": [
    "print(f\"Old column names: {autos_data.columns.to_list()}\\n\")\n",
    "\n",
    "# Changing column names to a convenient format\n",
    "autos_data = autos_data.rename(\n",
    "    columns=lambda col_name: sub(\"(?<=[a-z])(?=[A-Z])\", \"_\", col_name).lower()\n",
    ")\n",
    "\n",
    "print(f\"New column names: {autos_data.columns.to_list()}\")"
   ]
  },
  {
   "cell_type": "markdown",
   "id": "c38af0da-217b-4419-9c42-ccad54cf026f",
   "metadata": {},
   "source": [
    "#### Anomalies"
   ]
  },
  {
   "cell_type": "markdown",
   "id": "6d7557f0-c2da-41b4-b674-9847bf0c6885",
   "metadata": {},
   "source": [
    "In order to get rid of anomalous values we can write a function called `clean_data()` that will filter the DataFrame, hence deleting anomalies."
   ]
  },
  {
   "cell_type": "code",
   "execution_count": 10,
   "id": "fa9e84be-9342-42d0-a071-10adcc343939",
   "metadata": {},
   "outputs": [],
   "source": [
    "def clean_data(\n",
    "    data: pd.DataFrame,\n",
    "    column: str,\n",
    "    lower_val: int,\n",
    "    upper_val: int,\n",
    "    display_changes: bool = False,\n",
    ") -> pd.DataFrame:\n",
    "    \"\"\"\n",
    "    Filters out values in a specific columns\n",
    "    of a DataFrame.\n",
    "\n",
    "    Args:\n",
    "        data:\n",
    "            DataFrame with information on\n",
    "            automobile vehicles.\n",
    "        column:\n",
    "            DataFrame column by which filtering\n",
    "            should be done.\n",
    "        lower_val:\n",
    "            The lowest value of the filtering\n",
    "            region.\n",
    "        upper_val:\n",
    "            The highest value of the filtering\n",
    "            region\n",
    "        display_changes:\n",
    "            Boolean indicating displaying changes\n",
    "            made to the data.\n",
    "\n",
    "    Returns:\n",
    "        pd.DataFrame object with its values in a\n",
    "        specific column filtered out according to\n",
    "        lower_val and upper_val.\n",
    "    \"\"\"\n",
    "    filtering_indices = data[column].between(lower_val, upper_val)\n",
    "    data_filtered = data[filtering_indices].reset_index(drop=True)\n",
    "    if display_changes:\n",
    "        data_size_new = data_filtered.shape[0]\n",
    "        data_size_old = data.shape[0]\n",
    "        anomalies_num = data_size_old - data_size_new\n",
    "        anomalies_percentage = anomalies_num / data_size_old\n",
    "        print(f\"DataFrame size (prior to filtering): {data_size_old:,}\")\n",
    "        print(f\"DataFrame size (after filtering): {data_size_new:,}\")\n",
    "        print(f\"Objects filtered out: {anomalies_num:,} ({anomalies_percentage:.1%})\")\n",
    "\n",
    "    return data_filtered"
   ]
  },
  {
   "cell_type": "markdown",
   "id": "a2af1635-3210-4e6f-a3f1-e52ae15e3856",
   "metadata": {},
   "source": [
    "##### Registration year"
   ]
  },
  {
   "cell_type": "markdown",
   "id": "ae313c35-360d-42d1-a5c2-b1dc40376602",
   "metadata": {},
   "source": [
    "Let's look at the values of the year of registration in order to try to locate potential anomalous values."
   ]
  },
  {
   "cell_type": "code",
   "execution_count": 11,
   "id": "4e7a6156-f744-4696-9b17-3a51c6d87e78",
   "metadata": {},
   "outputs": [
    {
     "name": "stdout",
     "output_type": "stream",
     "text": [
      "[1000 1001 1039 1111 1200 1234 1253 1255 1300 1400 1500 1600 1602 1688\n",
      " 1800 1910 1915 1919 1920 1923 1925 1927 1928 1929 1930 1931 1932 1933\n",
      " 1934 1935 1936 1937 1938 1940 1941 1942 1943 1944 1945 1946 1947 1948\n",
      " 1949 1950 1951 1952 1953 1954 1955 1956 1957 1958 1959 1960 1961 1962\n",
      " 1963 1964 1965 1966 1967 1968 1969 1970 1971 1972 1973 1974 1975 1976\n",
      " 1977 1978 1979 1980 1981 1982 1983 1984 1985 1986 1987 1988 1989 1990\n",
      " 1991 1992 1993 1994 1995 1996 1997 1998 1999 2000 2001 2002 2003 2004\n",
      " 2005 2006 2007 2008 2009 2010 2011 2012 2013 2014 2015 2016 2017 2018\n",
      " 2019 2066 2200 2222 2290 2500 2800 2900 3000 3200 3500 3700 3800 4000\n",
      " 4100 4500 4800 5000 5300 5555 5600 5900 5911 6000 6500 7000 7100 7500\n",
      " 7800 8000 8200 8455 8500 8888 9000 9229 9450 9996 9999]\n"
     ]
    }
   ],
   "source": [
    "reg_year_unique = autos_data[\"registration_year\"].sort_values().unique()\n",
    "print(reg_year_unique)"
   ]
  },
  {
   "cell_type": "markdown",
   "id": "6c97a201-b2e2-4173-a3ad-81736209b381",
   "metadata": {},
   "source": [
    "There are indeed some years that seem to be too far off the reasonable bounds of registration year values. We will need only relevant information for training and predictions so we will take year of 1970 as the lower bound and 2016 as upper bound (2016 is in fact the year when the information was donwloaded from the database, seen in `date_crawled` column)."
   ]
  },
  {
   "cell_type": "code",
   "execution_count": 12,
   "id": "fa715a05-8f11-44e0-a5c2-c8cca50071d4",
   "metadata": {},
   "outputs": [
    {
     "name": "stdout",
     "output_type": "stream",
     "text": [
      "Relevant period: 1970-2016\n"
     ]
    }
   ],
   "source": [
    "# Choosing reasonable time period\n",
    "year_upper = pd.to_datetime(\n",
    "    autos_data[\"date_crawled\"], format=\"%Y-%m-%d %H:%M:%S\"\n",
    ").dt.year.max()\n",
    "year_lower = 1970\n",
    "print(f\"Relevant period: {year_lower}-{year_upper}\")"
   ]
  },
  {
   "cell_type": "markdown",
   "id": "253f19f9-4138-4d53-aa9b-1a95894407e8",
   "metadata": {},
   "source": [
    "We should now get rid of data pertaining to anomalous registration years, which we will do using user-defined `clean_data()` function."
   ]
  },
  {
   "cell_type": "code",
   "execution_count": 13,
   "id": "ab2c7d6f-29e0-441f-a0e6-e507f290b48a",
   "metadata": {},
   "outputs": [
    {
     "name": "stdout",
     "output_type": "stream",
     "text": [
      "DataFrame size (prior to filtering): 354,369\n",
      "DataFrame size (after filtering): 338,501\n",
      "Objects filtered out: 15,868 (4.5%)\n"
     ]
    }
   ],
   "source": [
    "# Getting rid of anomalies in \"registration_year\" column\n",
    "autos_data = clean_data(\n",
    "    data=autos_data,\n",
    "    column=\"registration_year\",\n",
    "    lower_val=year_lower,\n",
    "    upper_val=year_upper,\n",
    "    display_changes=True,\n",
    ")"
   ]
  },
  {
   "cell_type": "code",
   "execution_count": 14,
   "id": "96e0fd51-eed9-411b-8652-ed01a3618de4",
   "metadata": {},
   "outputs": [
    {
     "data": {
      "text/plain": [
       "True"
      ]
     },
     "execution_count": 14,
     "metadata": {},
     "output_type": "execute_result"
    }
   ],
   "source": [
    "year_lower <= np.min(autos_data[\"registration_year\"]) <= year_upper"
   ]
  },
  {
   "cell_type": "code",
   "execution_count": 15,
   "id": "b0a28bcd-42d7-439b-b16a-88cca5175972",
   "metadata": {},
   "outputs": [
    {
     "data": {
      "text/plain": [
       "True"
      ]
     },
     "execution_count": 15,
     "metadata": {},
     "output_type": "execute_result"
    }
   ],
   "source": [
    "year_lower <= np.max(autos_data[\"registration_year\"]) <= year_upper"
   ]
  },
  {
   "cell_type": "markdown",
   "id": "1453581a-d4e9-45fb-a9ab-e091d5d7492a",
   "metadata": {},
   "source": [
    "##### Vehicle price"
   ]
  },
  {
   "cell_type": "markdown",
   "id": "dfa0d9c5-75d6-43fd-97ed-04944fb11662",
   "metadata": {},
   "source": [
    "Next, we can consider unique values of the target denoting prices of automobiles."
   ]
  },
  {
   "cell_type": "code",
   "execution_count": 16,
   "id": "50681f16-6f9e-47c9-9b12-8742898450c2",
   "metadata": {},
   "outputs": [
    {
     "name": "stdout",
     "output_type": "stream",
     "text": [
      "[    0     1     2 ... 19998 19999 20000]\n"
     ]
    }
   ],
   "source": [
    "print(autos_data[\"price\"].sort_values().unique())"
   ]
  },
  {
   "cell_type": "markdown",
   "id": "fa6dfd77-6023-4835-a87e-914c1e653f2c",
   "metadata": {},
   "source": [
    "There is a number of prices that seem absurd so we will leave only those objects in the data which have a price of at least 100 EUR."
   ]
  },
  {
   "cell_type": "code",
   "execution_count": 17,
   "id": "bc64dadb-03b7-49d1-9236-20bfe6f77cab",
   "metadata": {},
   "outputs": [
    {
     "name": "stdout",
     "output_type": "stream",
     "text": [
      "Price range: 100-20,000 EUR\n"
     ]
    }
   ],
   "source": [
    "# Choosing plausible prices\n",
    "price_upper = np.max(autos_data[\"price\"])\n",
    "price_lower = 100\n",
    "print(f\"Price range: {price_lower:,}-{price_upper:,} EUR\")"
   ]
  },
  {
   "cell_type": "code",
   "execution_count": 18,
   "id": "a13fc9ae-6d79-422b-84db-e8c4f2a432ca",
   "metadata": {},
   "outputs": [
    {
     "name": "stdout",
     "output_type": "stream",
     "text": [
      "DataFrame size (prior to filtering): 338,501\n",
      "DataFrame size (after filtering): 326,252\n",
      "Objects filtered out: 12,249 (3.6%)\n"
     ]
    }
   ],
   "source": [
    "# Getting rid of anomalous prices\n",
    "autos_data = clean_data(\n",
    "    data=autos_data,\n",
    "    column=\"price\",\n",
    "    lower_val=price_lower,\n",
    "    upper_val=price_upper,\n",
    "    display_changes=True,\n",
    ")"
   ]
  },
  {
   "cell_type": "code",
   "execution_count": 19,
   "id": "374bfb86-9ffa-4380-a9c1-e01a3e8eebd3",
   "metadata": {},
   "outputs": [
    {
     "data": {
      "text/plain": [
       "True"
      ]
     },
     "execution_count": 19,
     "metadata": {},
     "output_type": "execute_result"
    }
   ],
   "source": [
    "price_lower <= np.min(autos_data[\"price\"]) <= price_upper"
   ]
  },
  {
   "cell_type": "code",
   "execution_count": 20,
   "id": "635aac65-dae9-497b-a7de-4fea2a092bd6",
   "metadata": {},
   "outputs": [
    {
     "data": {
      "text/plain": [
       "True"
      ]
     },
     "execution_count": 20,
     "metadata": {},
     "output_type": "execute_result"
    }
   ],
   "source": [
    "price_lower <= np.max(autos_data[\"price\"]) <= price_upper"
   ]
  },
  {
   "cell_type": "markdown",
   "id": "2cff9cf6-18de-425d-b16a-198a0c81af24",
   "metadata": {},
   "source": [
    "##### Power"
   ]
  },
  {
   "cell_type": "markdown",
   "id": "e8876fe1-c02a-4f19-bff3-638164afdc73",
   "metadata": {},
   "source": [
    "During visualizations we also noticed some anomalies in `power` column."
   ]
  },
  {
   "cell_type": "code",
   "execution_count": 21,
   "id": "03d29d63-95b7-4324-a1fd-2f8c5988e59c",
   "metadata": {},
   "outputs": [
    {
     "name": "stdout",
     "output_type": "stream",
     "text": [
      "[    0     1     2     3     4     5     6     7     8     9    10    11\n",
      "    12    13    14    15    16    17    18    19    20    21    22    23\n",
      "    24    25    26    27    28    29    30    31    32    33    34    35\n",
      "    36    37    38    39    40    41    42    43    44    45    46    47\n",
      "    48    49    50    51    52    53    54    55    56    57    58    59\n",
      "    60    61    62    63    64    65    66    67    68    69    70    71\n",
      "    72    73    74    75    76    77    78    79    80    81    82    83\n",
      "    84    85    86    87    88    89    90    91    92    93    94    95\n",
      "    96    97    98    99   100   101   102   103   104   105   106   107\n",
      "   108   109   110   111   112   113   114   115   116   117   118   119\n",
      "   120   121   122   123   124   125   126   127   128   129   130   131\n",
      "   132   133   134   135   136   137   138   139   140   141   142   143\n",
      "   144   145   146   147   148   149   150   151   152   153   154   155\n",
      "   156   157   158   159   160   161   162   163   164   165   166   167\n",
      "   168   169   170   171   172   173   174   175   176   177   178   179\n",
      "   180   181   182   183   184   185   186   187   188   189   190   191\n",
      "   192   193   194   195   196   197   198   199   200   201   202   203\n",
      "   204   205   206   207   208   209   210   211   212   213   214   215\n",
      "   216   217   218   219   220   221   222   223   224   225   226   227\n",
      "   228   229   230   231   232   233   234   235   236   237   238   239\n",
      "   240   241   242   243   244   245   246   247   248   249   250   251\n",
      "   252   253   254   255   256   257   258   259   260   261   262   264\n",
      "   265   266   267   268   269   270   271   272   273   274   275   276\n",
      "   277   278   279   280   281   282   283   284   285   286   287   288\n",
      "   289   290   292   293   294   295   296   297   298   299   300   301\n",
      "   303   304   305   306   307   308   309   310   311   313   314   315\n",
      "   316   317   318   320   321   322   323   324   325   326   328   329\n",
      "   330   331   332   333   334   335   336   337   338   339   340   341\n",
      "   343   344   345   346   347   348   349   350   352   353   354   355\n",
      "   356   357   358   360   361   362   363   364   365   367   368   370\n",
      "   371   374   376   377   379   380   381   382   385   386   387   388\n",
      "   390   392   394   396   398   399   400   401   405   408   409   411\n",
      "   416   420   421   426   428   430   431   435   440   442   445   449\n",
      "   450   454   457   459   460   475   476   487   489   490   500   504\n",
      "   505   507   508   510   514   515   517   519   520   521   525   540\n",
      "   541   544   550   551   553   560   572   579   580   584   585   600\n",
      "   601   602   603   604   606   610   612   620   640   645   650   651\n",
      "   671   682   685   696   700   702   703   732   743   750   751   754\n",
      "   771   776   800   805   850   851   871   900   902   903   907   909\n",
      "   923   950   952   953   998   999  1000  1001  1002  1003  1004  1005\n",
      "  1011  1012  1016  1017  1021  1024  1054  1055  1056  1062  1079  1082\n",
      "  1090  1100  1103  1105  1115  1120  1149  1151  1158  1160  1162  1164\n",
      "  1199  1200  1202  1221  1223  1230  1239  1240  1241  1250  1256  1275\n",
      "  1288  1299  1300  1312  1317  1339  1360  1362  1363  1367  1390  1398\n",
      "  1399  1400  1401  1403  1405  1416  1432  1433  1436  1500  1501  1502\n",
      "  1503  1506  1521  1548  1595  1596  1597  1598  1600  1625  1631  1653\n",
      "  1659  1689  1700  1701  1703  1704  1707  1753  1771  1779  1780  1781\n",
      "  1783  1793  1796  1799  1800  1801  1870  1895  1896  1900  1920  1922\n",
      "  1933  1937  1968  1988  1992  1993  1995  1998  1999  2000  2004  2005\n",
      "  2007  2009  2016  2017  2018  2172  2331  2340  2389  2402  2461  2598\n",
      "  2729  2789  2792  2799  3199  3454  3500  3750  4400  4507  4700  5411\n",
      "  5420  5575  5809  5815  5867  6006  6010  6011  6012  6018  6045  6062\n",
      "  6226  6512  6920  7508  7511  7512  7515  7518  7529  7544  8259  8404\n",
      "  8500  9007  9012  9013 10000 10110 10218 10311 10520 10522 10710 10910\n",
      " 10912 11011 11025 11111 11509 11530 11635 12012 12510 12512 12684 13616\n",
      " 13636 14009 15001 15017 15020 15033 16311 16312 17011 17019 17410 17700\n",
      " 17932 19208 19211 19312 20000]\n"
     ]
    }
   ],
   "source": [
    "print(autos_data[\"power\"].sort_values().unique())"
   ]
  },
  {
   "cell_type": "code",
   "execution_count": 22,
   "id": "ee4882b7-5a27-4090-bed3-87c06af9fc31",
   "metadata": {},
   "outputs": [
    {
     "name": "stdout",
     "output_type": "stream",
     "text": [
      "Power range: 20-1,000 HP\n"
     ]
    }
   ],
   "source": [
    "# Choosing reasonable power bounds\n",
    "power_upper = 1000\n",
    "power_lower = 20\n",
    "print(f\"Power range: {power_lower:,}-{power_upper:,} HP\")"
   ]
  },
  {
   "cell_type": "code",
   "execution_count": 23,
   "id": "aa8ff7ab-066c-4450-9064-ce38b37c86cf",
   "metadata": {},
   "outputs": [
    {
     "name": "stdout",
     "output_type": "stream",
     "text": [
      "DataFrame size (prior to filtering): 326,252\n",
      "DataFrame size (after filtering): 294,409\n",
      "Objects filtered out: 31,843 (9.8%)\n"
     ]
    }
   ],
   "source": [
    "# Getting rid of anomalous power values\n",
    "autos_data = clean_data(\n",
    "    data=autos_data,\n",
    "    column=\"power\",\n",
    "    lower_val=power_lower,\n",
    "    upper_val=power_upper,\n",
    "    display_changes=True,\n",
    ")"
   ]
  },
  {
   "cell_type": "code",
   "execution_count": 24,
   "id": "8f364d12-3073-49bd-9efa-755aa1b67a54",
   "metadata": {},
   "outputs": [
    {
     "data": {
      "text/plain": [
       "True"
      ]
     },
     "execution_count": 24,
     "metadata": {},
     "output_type": "execute_result"
    }
   ],
   "source": [
    "power_lower <= np.min(autos_data[\"power\"]) <= power_upper"
   ]
  },
  {
   "cell_type": "code",
   "execution_count": 25,
   "id": "e14a9c9d-3493-44d1-af8a-9f77f5870cf5",
   "metadata": {},
   "outputs": [
    {
     "data": {
      "text/plain": [
       "True"
      ]
     },
     "execution_count": 25,
     "metadata": {},
     "output_type": "execute_result"
    }
   ],
   "source": [
    "power_lower <= np.max(autos_data[\"power\"]) <= power_upper"
   ]
  },
  {
   "cell_type": "markdown",
   "id": "c3bd3d7d-95bb-4d15-94be-9ab30f73c66c",
   "metadata": {},
   "source": [
    "We have managed to process anomalous values in the DataFrame so let's print out the range of values that we will henceforth consider."
   ]
  },
  {
   "cell_type": "code",
   "execution_count": 26,
   "id": "15b27db2-6afb-458f-88d7-a49dd6806b2a",
   "metadata": {},
   "outputs": [
    {
     "data": {
      "text/html": [
       "<div>\n",
       "<style scoped>\n",
       "    .dataframe tbody tr th:only-of-type {\n",
       "        vertical-align: middle;\n",
       "    }\n",
       "\n",
       "    .dataframe tbody tr th {\n",
       "        vertical-align: top;\n",
       "    }\n",
       "\n",
       "    .dataframe thead th {\n",
       "        text-align: right;\n",
       "    }\n",
       "</style>\n",
       "<table border=\"1\" class=\"dataframe\">\n",
       "  <thead>\n",
       "    <tr style=\"text-align: right;\">\n",
       "      <th></th>\n",
       "      <th>min</th>\n",
       "      <th>max</th>\n",
       "    </tr>\n",
       "  </thead>\n",
       "  <tbody>\n",
       "    <tr>\n",
       "      <th>price</th>\n",
       "      <td>100</td>\n",
       "      <td>20000</td>\n",
       "    </tr>\n",
       "    <tr>\n",
       "      <th>registration_year</th>\n",
       "      <td>1970</td>\n",
       "      <td>2016</td>\n",
       "    </tr>\n",
       "    <tr>\n",
       "      <th>power</th>\n",
       "      <td>20</td>\n",
       "      <td>1000</td>\n",
       "    </tr>\n",
       "    <tr>\n",
       "      <th>kilometer</th>\n",
       "      <td>5000</td>\n",
       "      <td>150000</td>\n",
       "    </tr>\n",
       "    <tr>\n",
       "      <th>registration_month</th>\n",
       "      <td>0</td>\n",
       "      <td>12</td>\n",
       "    </tr>\n",
       "    <tr>\n",
       "      <th>number_of_pictures</th>\n",
       "      <td>0</td>\n",
       "      <td>0</td>\n",
       "    </tr>\n",
       "    <tr>\n",
       "      <th>postal_code</th>\n",
       "      <td>1067</td>\n",
       "      <td>99998</td>\n",
       "    </tr>\n",
       "  </tbody>\n",
       "</table>\n",
       "</div>"
      ],
      "text/plain": [
       "                     min     max\n",
       "price                100   20000\n",
       "registration_year   1970    2016\n",
       "power                 20    1000\n",
       "kilometer           5000  150000\n",
       "registration_month     0      12\n",
       "number_of_pictures     0       0\n",
       "postal_code         1067   99998"
      ]
     },
     "execution_count": 26,
     "metadata": {},
     "output_type": "execute_result"
    }
   ],
   "source": [
    "autos_data.describe().loc[[\"min\", \"max\"]].astype(int).T"
   ]
  },
  {
   "cell_type": "markdown",
   "id": "7904e4a2-8f86-41d2-ac98-3453d5265b78",
   "metadata": {},
   "source": [
    "#### Deleting irrelevant infomation"
   ]
  },
  {
   "cell_type": "markdown",
   "id": "01fc7b3d-f10e-4520-b0fa-5fc1bf957af2",
   "metadata": {},
   "source": [
    "The data contains a certain number of columns that will not be particularly informative for solving the task at hand. Such columns include:\n",
    "\n",
    "* `date_crawled`\n",
    "* `registration_year`\n",
    "* `registration_month`\n",
    "* `date_created`\n",
    "* `number_of_pictures`\n",
    "* `postal code`\n",
    "* `last_seen`\n",
    "\n",
    "Let's get rid of these columns."
   ]
  },
  {
   "cell_type": "code",
   "execution_count": 27,
   "id": "18bff770-5c4f-42dd-a312-9098c24e0283",
   "metadata": {},
   "outputs": [
    {
     "data": {
      "text/html": [
       "<div>\n",
       "<style scoped>\n",
       "    .dataframe tbody tr th:only-of-type {\n",
       "        vertical-align: middle;\n",
       "    }\n",
       "\n",
       "    .dataframe tbody tr th {\n",
       "        vertical-align: top;\n",
       "    }\n",
       "\n",
       "    .dataframe thead th {\n",
       "        text-align: right;\n",
       "    }\n",
       "</style>\n",
       "<table border=\"1\" class=\"dataframe\">\n",
       "  <thead>\n",
       "    <tr style=\"text-align: right;\">\n",
       "      <th></th>\n",
       "      <th>price</th>\n",
       "      <th>vehicle_type</th>\n",
       "      <th>gearbox</th>\n",
       "      <th>power</th>\n",
       "      <th>model</th>\n",
       "      <th>kilometer</th>\n",
       "      <th>fuel_type</th>\n",
       "      <th>brand</th>\n",
       "      <th>repaired</th>\n",
       "    </tr>\n",
       "  </thead>\n",
       "  <tbody>\n",
       "    <tr>\n",
       "      <th>294404</th>\n",
       "      <td>5250</td>\n",
       "      <td>NaN</td>\n",
       "      <td>auto</td>\n",
       "      <td>150</td>\n",
       "      <td>159</td>\n",
       "      <td>150000</td>\n",
       "      <td>NaN</td>\n",
       "      <td>alfa_romeo</td>\n",
       "      <td>no</td>\n",
       "    </tr>\n",
       "    <tr>\n",
       "      <th>294405</th>\n",
       "      <td>3200</td>\n",
       "      <td>sedan</td>\n",
       "      <td>manual</td>\n",
       "      <td>225</td>\n",
       "      <td>leon</td>\n",
       "      <td>150000</td>\n",
       "      <td>petrol</td>\n",
       "      <td>seat</td>\n",
       "      <td>yes</td>\n",
       "    </tr>\n",
       "    <tr>\n",
       "      <th>294406</th>\n",
       "      <td>1199</td>\n",
       "      <td>convertible</td>\n",
       "      <td>auto</td>\n",
       "      <td>101</td>\n",
       "      <td>fortwo</td>\n",
       "      <td>125000</td>\n",
       "      <td>petrol</td>\n",
       "      <td>smart</td>\n",
       "      <td>no</td>\n",
       "    </tr>\n",
       "    <tr>\n",
       "      <th>294407</th>\n",
       "      <td>9200</td>\n",
       "      <td>bus</td>\n",
       "      <td>manual</td>\n",
       "      <td>102</td>\n",
       "      <td>transporter</td>\n",
       "      <td>150000</td>\n",
       "      <td>gasoline</td>\n",
       "      <td>volkswagen</td>\n",
       "      <td>no</td>\n",
       "    </tr>\n",
       "    <tr>\n",
       "      <th>294408</th>\n",
       "      <td>3400</td>\n",
       "      <td>wagon</td>\n",
       "      <td>manual</td>\n",
       "      <td>100</td>\n",
       "      <td>golf</td>\n",
       "      <td>150000</td>\n",
       "      <td>gasoline</td>\n",
       "      <td>volkswagen</td>\n",
       "      <td>NaN</td>\n",
       "    </tr>\n",
       "  </tbody>\n",
       "</table>\n",
       "</div>"
      ],
      "text/plain": [
       "        price vehicle_type gearbox  power        model  kilometer fuel_type  \\\n",
       "294404   5250          NaN    auto    150          159     150000       NaN   \n",
       "294405   3200        sedan  manual    225         leon     150000    petrol   \n",
       "294406   1199  convertible    auto    101       fortwo     125000    petrol   \n",
       "294407   9200          bus  manual    102  transporter     150000  gasoline   \n",
       "294408   3400        wagon  manual    100         golf     150000  gasoline   \n",
       "\n",
       "             brand repaired  \n",
       "294404  alfa_romeo       no  \n",
       "294405        seat      yes  \n",
       "294406       smart       no  \n",
       "294407  volkswagen       no  \n",
       "294408  volkswagen      NaN  "
      ]
     },
     "execution_count": 27,
     "metadata": {},
     "output_type": "execute_result"
    }
   ],
   "source": [
    "irrelevant_cols = [\n",
    "    \"date_crawled\",\n",
    "    \"registration_year\",\n",
    "    \"registration_month\",\n",
    "    \"date_created\",\n",
    "    \"number_of_pictures\",\n",
    "    \"postal_code\",\n",
    "    \"last_seen\",\n",
    "]\n",
    "autos_data.drop(columns=irrelevant_cols, axis=1, inplace=True)\n",
    "autos_data.tail()"
   ]
  },
  {
   "cell_type": "markdown",
   "id": "24983f57-e8ea-4997-83ea-16642d275ab8",
   "metadata": {},
   "source": [
    "#### Changing data type"
   ]
  },
  {
   "cell_type": "markdown",
   "id": "33756f33-81ec-4f9f-9c52-0f984d02fe30",
   "metadata": {},
   "source": [
    "During the process of hyperparameter tuning, speed will be important to us, otherwise the tuning process may take a long time. When modeling and selecting hyperparameters, we will use cross-validation, so it is extremely important for us to make this process as fast as possible. Therefore, we can try to optimize the code here and save memory by using categorical columns.\n",
    "\n",
    "First, we can compute memory that each column and entire DataFrame take up (before type conversion). "
   ]
  },
  {
   "cell_type": "code",
   "execution_count": 28,
   "id": "d56ae5c0-edd6-4948-8326-a6911cd7c189",
   "metadata": {},
   "outputs": [],
   "source": [
    "# Memory usage of DataFrame by column (MB)\n",
    "memory_usage_object = autos_data.memory_usage(index=False, deep=True) / 1_000_000\n",
    "\n",
    "# DataFrame total memory usage\n",
    "total_memory_usage_object = getsizeof(autos_data) / 1_000_000"
   ]
  },
  {
   "cell_type": "code",
   "execution_count": 29,
   "id": "e763f646-a8df-415e-b8e5-dafdec281f1a",
   "metadata": {},
   "outputs": [
    {
     "name": "stdout",
     "output_type": "stream",
     "text": [
      "15.5 ms ± 1.44 ms per loop (mean ± std. dev. of 10 runs, 10 loops each)\n"
     ]
    }
   ],
   "source": [
    "# Testing execution time of a simple operation\n",
    "%timeit -n 10 -r 10 autos_data[\"brand\"] == \"volkswagen\""
   ]
  },
  {
   "cell_type": "markdown",
   "id": "82602f90-266b-4ad8-a16e-2a44b055c426",
   "metadata": {},
   "source": [
    "Now, let's do the same but after converting the type of `object` columns to `category` type."
   ]
  },
  {
   "cell_type": "code",
   "execution_count": 30,
   "id": "37f09d92-eba7-4a3a-a95e-e68867b743d5",
   "metadata": {},
   "outputs": [],
   "source": [
    "# Converting \"object\" columns to \"category\" columns\n",
    "cat_cols = autos_data.select_dtypes(include=\"object\").columns.to_list()\n",
    "for col in cat_cols:\n",
    "    autos_data[col] = autos_data[col].astype(\"category\")"
   ]
  },
  {
   "cell_type": "code",
   "execution_count": 31,
   "id": "c066ba98-ec3a-48af-a046-d3fed20a258f",
   "metadata": {},
   "outputs": [],
   "source": [
    "memory_usage_category = autos_data.memory_usage(index=False, deep=True) / 1_000_000\n",
    "\n",
    "total_memory_usage_category = getsizeof(autos_data) / 1_000_000"
   ]
  },
  {
   "cell_type": "code",
   "execution_count": 32,
   "id": "e235c57f-6308-49f0-a1a6-2c83b3a9645d",
   "metadata": {},
   "outputs": [
    {
     "name": "stdout",
     "output_type": "stream",
     "text": [
      "255 µs ± 93.8 µs per loop (mean ± std. dev. of 10 runs, 10 loops each)\n"
     ]
    }
   ],
   "source": [
    "%timeit -n 10 -r 10 autos_data[\"brand\"] == \"volkswagen\""
   ]
  },
  {
   "cell_type": "markdown",
   "id": "62a7d4e5-7130-49cb-8a39-4d313ad3d4eb",
   "metadata": {},
   "source": [
    "We can notice that a simple operation executed on the DataFrame is now conducted much faster than when we had `object` columns. Let's now consider by how much the memory usage of each column has changed."
   ]
  },
  {
   "cell_type": "code",
   "execution_count": 33,
   "id": "b9b36b42-ee62-4837-ae7d-1d1d6ba22818",
   "metadata": {},
   "outputs": [
    {
     "data": {
      "text/html": [
       "<style  type=\"text/css\" >\n",
       "</style><table id=\"T_50588_\" ><thead>    <tr>        <th class=\"blank level0\" ></th>        <th class=\"col_heading level0 col0\" >memory_usage_object</th>        <th class=\"col_heading level0 col1\" >memory_usage_category</th>        <th class=\"col_heading level0 col2\" >memory_usage_change</th>    </tr></thead><tbody>\n",
       "                <tr>\n",
       "                        <th id=\"T_50588_level0_row0\" class=\"row_heading level0 row0\" >price</th>\n",
       "                        <td id=\"T_50588_row0_col0\" class=\"data row0 col0\" >2.36</td>\n",
       "                        <td id=\"T_50588_row0_col1\" class=\"data row0 col1\" >2.36</td>\n",
       "                        <td id=\"T_50588_row0_col2\" class=\"data row0 col2\" >0.0%</td>\n",
       "            </tr>\n",
       "            <tr>\n",
       "                        <th id=\"T_50588_level0_row1\" class=\"row_heading level0 row1\" >vehicle_type</th>\n",
       "                        <td id=\"T_50588_row1_col0\" class=\"data row1 col0\" >17.97</td>\n",
       "                        <td id=\"T_50588_row1_col1\" class=\"data row1 col1\" >0.30</td>\n",
       "                        <td id=\"T_50588_row1_col2\" class=\"data row1 col2\" >-98.4%</td>\n",
       "            </tr>\n",
       "            <tr>\n",
       "                        <th id=\"T_50588_level0_row2\" class=\"row_heading level0 row2\" >gearbox</th>\n",
       "                        <td id=\"T_50588_row2_col0\" class=\"data row2 col0\" >18.27</td>\n",
       "                        <td id=\"T_50588_row2_col1\" class=\"data row2 col1\" >0.29</td>\n",
       "                        <td id=\"T_50588_row2_col2\" class=\"data row2 col2\" >-98.4%</td>\n",
       "            </tr>\n",
       "            <tr>\n",
       "                        <th id=\"T_50588_level0_row3\" class=\"row_heading level0 row3\" >power</th>\n",
       "                        <td id=\"T_50588_row3_col0\" class=\"data row3 col0\" >2.36</td>\n",
       "                        <td id=\"T_50588_row3_col1\" class=\"data row3 col1\" >2.36</td>\n",
       "                        <td id=\"T_50588_row3_col2\" class=\"data row3 col2\" >0.0%</td>\n",
       "            </tr>\n",
       "            <tr>\n",
       "                        <th id=\"T_50588_level0_row4\" class=\"row_heading level0 row4\" >model</th>\n",
       "                        <td id=\"T_50588_row4_col0\" class=\"data row4 col0\" >17.92</td>\n",
       "                        <td id=\"T_50588_row4_col1\" class=\"data row4 col1\" >0.61</td>\n",
       "                        <td id=\"T_50588_row4_col2\" class=\"data row4 col2\" >-96.6%</td>\n",
       "            </tr>\n",
       "            <tr>\n",
       "                        <th id=\"T_50588_level0_row5\" class=\"row_heading level0 row5\" >kilometer</th>\n",
       "                        <td id=\"T_50588_row5_col0\" class=\"data row5 col0\" >2.36</td>\n",
       "                        <td id=\"T_50588_row5_col1\" class=\"data row5 col1\" >2.36</td>\n",
       "                        <td id=\"T_50588_row5_col2\" class=\"data row5 col2\" >0.0%</td>\n",
       "            </tr>\n",
       "            <tr>\n",
       "                        <th id=\"T_50588_level0_row6\" class=\"row_heading level0 row6\" >fuel_type</th>\n",
       "                        <td id=\"T_50588_row6_col0\" class=\"data row6 col0\" >18.23</td>\n",
       "                        <td id=\"T_50588_row6_col1\" class=\"data row6 col1\" >0.30</td>\n",
       "                        <td id=\"T_50588_row6_col2\" class=\"data row6 col2\" >-98.4%</td>\n",
       "            </tr>\n",
       "            <tr>\n",
       "                        <th id=\"T_50588_level0_row7\" class=\"row_heading level0 row7\" >brand</th>\n",
       "                        <td id=\"T_50588_row7_col0\" class=\"data row7 col0\" >18.75</td>\n",
       "                        <td id=\"T_50588_row7_col1\" class=\"data row7 col1\" >0.30</td>\n",
       "                        <td id=\"T_50588_row7_col2\" class=\"data row7 col2\" >-98.4%</td>\n",
       "            </tr>\n",
       "            <tr>\n",
       "                        <th id=\"T_50588_level0_row8\" class=\"row_heading level0 row8\" >repaired</th>\n",
       "                        <td id=\"T_50588_row8_col0\" class=\"data row8 col0\" >16.26</td>\n",
       "                        <td id=\"T_50588_row8_col1\" class=\"data row8 col1\" >0.29</td>\n",
       "                        <td id=\"T_50588_row8_col2\" class=\"data row8 col2\" >-98.2%</td>\n",
       "            </tr>\n",
       "    </tbody></table>"
      ],
      "text/plain": [
       "<pandas.io.formats.style.Styler at 0x1c611b048e0>"
      ]
     },
     "execution_count": 33,
     "metadata": {},
     "output_type": "execute_result"
    }
   ],
   "source": [
    "# Comparing memory usage before and after type conversion by column (MB)\n",
    "memory_usage_df = pd.concat([memory_usage_object, memory_usage_category], axis=1)\n",
    "\n",
    "memory_usage_df.columns = [\"memory_usage_object\", \"memory_usage_category\"]\n",
    "\n",
    "memory_usage_df[\"memory_usage_change\"] = (\n",
    "    memory_usage_df[\"memory_usage_category\"] - memory_usage_df[\"memory_usage_object\"]\n",
    ") / memory_usage_df[\"memory_usage_object\"]\n",
    "\n",
    "memory_usage_df.style.format(\n",
    "    {\n",
    "        \"memory_usage_object\": \"{:.2f}\".format,\n",
    "        \"memory_usage_category\": \"{:.2f}\".format,\n",
    "        \"memory_usage_change\": \"{:.1%}\".format,\n",
    "    }\n",
    ")"
   ]
  },
  {
   "cell_type": "code",
   "execution_count": 34,
   "id": "66cf8cce-dbd4-4701-9dfe-aa18e0158fb0",
   "metadata": {},
   "outputs": [
    {
     "name": "stdout",
     "output_type": "stream",
     "text": [
      "DataFrame memory usage (object): 114.5 MB\n",
      "DataFrame memory usage (category): 9.2 MB\n",
      "Memory usage optimization: -92.0%\n"
     ]
    }
   ],
   "source": [
    "print(f\"DataFrame memory usage (object): {total_memory_usage_object:.1f} MB\")\n",
    "print(f\"DataFrame memory usage (category): {total_memory_usage_category:.1f} MB\")\n",
    "print(\n",
    "    f\"Memory usage optimization: {(total_memory_usage_category - total_memory_usage_object) / total_memory_usage_object:.1%}\"\n",
    ")"
   ]
  },
  {
   "cell_type": "markdown",
   "id": "b1a36e25-c98c-455c-a5ae-e1ac5327b478",
   "metadata": {},
   "source": [
    "We can now see that we have achieved an impressive memory usage optimization as a result of using `category` columns which will be useful during hyperparameter tuning."
   ]
  },
  {
   "cell_type": "markdown",
   "id": "907c5052-f22c-45a6-bc6e-b5e585544405",
   "metadata": {},
   "source": [
    "#### Missing values"
   ]
  },
  {
   "cell_type": "markdown",
   "id": "7fd5a92d-78e0-4695-816c-208d6bfe3938",
   "metadata": {},
   "source": [
    "In order to compute missing values in the DataFrame, we will write a function called `compute_missing()` for calculating the number and share of `NaN` values in the data."
   ]
  },
  {
   "cell_type": "code",
   "execution_count": 35,
   "id": "4092bb6b-42d8-4ff5-9e02-b7689adcc8a9",
   "metadata": {},
   "outputs": [],
   "source": [
    "def compute_missing(data: pd.DataFrame, display_dtypes: bool = False) -> pd.DataFrame:\n",
    "    \"\"\"Displays the number and share of nan-values as a DataFrame.\n",
    "\n",
    "    Args:\n",
    "        data:\n",
    "            DataFrame with information on\n",
    "            automobile vehicles.\n",
    "        display_dtypes:\n",
    "            Boolean indicator of displaying\n",
    "            data types of columns with missing\n",
    "            values.\n",
    "\n",
    "    Returns:\n",
    "        pd.DataFrame object with the computed number\n",
    "        and share of missing values (and optionally\n",
    "        column data types) in a DataFrame.\n",
    "    \"\"\"\n",
    "    miss_vals_num = data.isnull().sum()[data.isnull().sum() > 0]\n",
    "    miss_vals_perc = miss_vals_num / data.shape[0]\n",
    "\n",
    "    miss_vals_df = pd.concat([miss_vals_num, miss_vals_perc], axis=1)\n",
    "    miss_vals_df.columns = [\"nan_count\", \"nan_share\"]\n",
    "\n",
    "    if display_dtypes:\n",
    "        miss_vals_df[\"dtype\"] = data[miss_vals_df.index].dtypes\n",
    "        miss_vals_df = miss_vals_df[[\"dtype\", \"nan_count\", \"nan_share\"]]\n",
    "\n",
    "    nans_df = miss_vals_df.sort_values(by=\"nan_share\", ascending=False).round(4)\n",
    "\n",
    "    return nans_df"
   ]
  },
  {
   "cell_type": "code",
   "execution_count": 36,
   "id": "073c6d9d-19c0-48ee-b599-2c642fb0c8d6",
   "metadata": {},
   "outputs": [
    {
     "data": {
      "text/html": [
       "<div>\n",
       "<style scoped>\n",
       "    .dataframe tbody tr th:only-of-type {\n",
       "        vertical-align: middle;\n",
       "    }\n",
       "\n",
       "    .dataframe tbody tr th {\n",
       "        vertical-align: top;\n",
       "    }\n",
       "\n",
       "    .dataframe thead th {\n",
       "        text-align: right;\n",
       "    }\n",
       "</style>\n",
       "<table border=\"1\" class=\"dataframe\">\n",
       "  <thead>\n",
       "    <tr style=\"text-align: right;\">\n",
       "      <th></th>\n",
       "      <th>dtype</th>\n",
       "      <th>nan_count</th>\n",
       "      <th>nan_share</th>\n",
       "    </tr>\n",
       "  </thead>\n",
       "  <tbody>\n",
       "    <tr>\n",
       "      <th>repaired</th>\n",
       "      <td>category</td>\n",
       "      <td>42304</td>\n",
       "      <td>0.1437</td>\n",
       "    </tr>\n",
       "    <tr>\n",
       "      <th>fuel_type</th>\n",
       "      <td>category</td>\n",
       "      <td>15270</td>\n",
       "      <td>0.0519</td>\n",
       "    </tr>\n",
       "    <tr>\n",
       "      <th>vehicle_type</th>\n",
       "      <td>category</td>\n",
       "      <td>10792</td>\n",
       "      <td>0.0367</td>\n",
       "    </tr>\n",
       "    <tr>\n",
       "      <th>model</th>\n",
       "      <td>category</td>\n",
       "      <td>10706</td>\n",
       "      <td>0.0364</td>\n",
       "    </tr>\n",
       "    <tr>\n",
       "      <th>gearbox</th>\n",
       "      <td>category</td>\n",
       "      <td>5215</td>\n",
       "      <td>0.0177</td>\n",
       "    </tr>\n",
       "  </tbody>\n",
       "</table>\n",
       "</div>"
      ],
      "text/plain": [
       "                 dtype  nan_count  nan_share\n",
       "repaired      category      42304     0.1437\n",
       "fuel_type     category      15270     0.0519\n",
       "vehicle_type  category      10792     0.0367\n",
       "model         category      10706     0.0364\n",
       "gearbox       category       5215     0.0177"
      ]
     },
     "execution_count": 36,
     "metadata": {},
     "output_type": "execute_result"
    }
   ],
   "source": [
    "compute_missing(data=autos_data, display_dtypes=True)"
   ]
  },
  {
   "cell_type": "markdown",
   "id": "21d63524-943f-4f3c-b56c-eb85547f5911",
   "metadata": {},
   "source": [
    "We see that only 5 columns have at least 1 missing value and those columns are all categorical. For solving the problem, we will resort to filling in missing values in `category` columns with the most frequent category in the data which will be done later when specifying preprocessing pipelines."
   ]
  },
  {
   "cell_type": "markdown",
   "id": "a82f565d-2a7c-46a6-8422-0cbc27ca966b",
   "metadata": {},
   "source": [
    "#### Removing duplicates"
   ]
  },
  {
   "cell_type": "markdown",
   "id": "2b40fab6-67da-482d-8055-a0d639597c29",
   "metadata": {},
   "source": [
    "After having removed irrelevant columns from the DataFrame, we have created an opportunity for us to verify the data for the presence of identical rows. Let's test this assumption and delete such rows from the data."
   ]
  },
  {
   "cell_type": "code",
   "execution_count": 37,
   "id": "ce73d131-0345-41fc-b6ac-bd26c154e258",
   "metadata": {},
   "outputs": [
    {
     "name": "stdout",
     "output_type": "stream",
     "text": [
      "DataFrame size (before duplicates deletion): 294,409\n",
      "DataFrame size (after duplicates deletion): 230,770\n",
      "Duplicates removed: 63,639 (21.6%)\n"
     ]
    }
   ],
   "source": [
    "print(f\"DataFrame size (before duplicates deletion): {autos_data.shape[0]:,}\")\n",
    "\n",
    "# Checking and deleting identical rows\n",
    "duplicates_num = autos_data.duplicated().sum()\n",
    "duplicates_share = duplicates_num / autos_data.shape[0]\n",
    "autos_data.drop_duplicates(inplace=True)\n",
    "\n",
    "print(f\"DataFrame size (after duplicates deletion): {autos_data.shape[0]:,}\")\n",
    "print(f\"Duplicates removed: {duplicates_num:,} ({duplicates_share:.1%})\")"
   ]
  },
  {
   "cell_type": "markdown",
   "id": "949e6200-3bd0-41b6-90ed-342e9d830bff",
   "metadata": {},
   "source": [
    "#### Splitting data"
   ]
  },
  {
   "cell_type": "code",
   "execution_count": 38,
   "id": "e67b186e-793c-40b0-a56b-402e1fd94096",
   "metadata": {},
   "outputs": [],
   "source": [
    "features = autos_data.drop([\"price\"], axis=1)\n",
    "target = autos_data[\"price\"]"
   ]
  },
  {
   "cell_type": "code",
   "execution_count": 39,
   "id": "9c3df5b3-d337-41a2-b26d-c5bf6cffc6e9",
   "metadata": {},
   "outputs": [],
   "source": [
    "features_train, features_test, target_train, target_test = train_test_split(\n",
    "    features, target, train_size=TRAIN_SET_SIZE, random_state=RANDOM_STATE\n",
    ")"
   ]
  },
  {
   "cell_type": "code",
   "execution_count": 40,
   "id": "01fe1d29-6513-4c26-82fa-e5e830a6f0a2",
   "metadata": {},
   "outputs": [
    {
     "data": {
      "text/html": [
       "<style  type=\"text/css\" >\n",
       "</style><table id=\"T_919b4_\" ><thead>    <tr>        <th class=\"blank level0\" ></th>        <th class=\"col_heading level0 col0\" >set_size</th>        <th class=\"col_heading level0 col1\" >set_share</th>    </tr></thead><tbody>\n",
       "                <tr>\n",
       "                        <th id=\"T_919b4_level0_row0\" class=\"row_heading level0 row0\" >Training set</th>\n",
       "                        <td id=\"T_919b4_row0_col0\" class=\"data row0 col0\" >138,462</td>\n",
       "                        <td id=\"T_919b4_row0_col1\" class=\"data row0 col1\" >0.60</td>\n",
       "            </tr>\n",
       "            <tr>\n",
       "                        <th id=\"T_919b4_level0_row1\" class=\"row_heading level0 row1\" >Test set</th>\n",
       "                        <td id=\"T_919b4_row1_col0\" class=\"data row1 col0\" >92,308</td>\n",
       "                        <td id=\"T_919b4_row1_col1\" class=\"data row1 col1\" >0.40</td>\n",
       "            </tr>\n",
       "    </tbody></table>"
      ],
      "text/plain": [
       "<pandas.io.formats.style.Styler at 0x1c610fef6a0>"
      ]
     },
     "execution_count": 40,
     "metadata": {},
     "output_type": "execute_result"
    }
   ],
   "source": [
    "df_columns = {\n",
    "    \"set_size\": [\n",
    "        features_train.shape[0],\n",
    "        features_test.shape[0],\n",
    "    ],\n",
    "    \"set_share\": [\n",
    "        features_train.shape[0] / features.shape[0],\n",
    "        features_test.shape[0] / features.shape[0],\n",
    "    ],\n",
    "}\n",
    "\n",
    "sets_info = pd.DataFrame(\n",
    "    data=df_columns,\n",
    "    index=[\"Training set\", \"Test set\"],\n",
    ")\n",
    "\n",
    "sets_info.style.format({\"set_size\": \"{:,}\".format, \"set_share\": \"{:.2f}\".format})"
   ]
  },
  {
   "cell_type": "markdown",
   "id": "75ac047e-51e1-4d0c-9d62-782cb4b3918f",
   "metadata": {},
   "source": [
    "As can be seen, we have managed to correctly separate the data into training and test sets in accordance with required proportions."
   ]
  },
  {
   "cell_type": "markdown",
   "id": "0e07e5ec-8d7a-4e56-bbea-0756fcee2910",
   "metadata": {},
   "source": [
    "#### Preprocessing pipelines"
   ]
  },
  {
   "cell_type": "markdown",
   "id": "f582a593-f18b-4425-9c3c-1ae543a1d613",
   "metadata": {},
   "source": [
    "In this section we will define pipelines and column transformers for the final preprocessing and preparation of the data for machine learning algorithms. \n",
    "\n",
    "Firstly, we will write three pipelines:\n",
    "\n",
    "* `numeric_transformer` => preprocessing numeric columns;\n",
    "* `onehot_transformer` => preprocessing categorical columns with `OneHotEncoder()` as underlying estimator;\n",
    "* `ordinal_transformer` => preprocessing categorical columns with `OrdinalEncoder()` as underlying estimator."
   ]
  },
  {
   "cell_type": "code",
   "execution_count": 41,
   "id": "84328d70-e1dc-4042-8184-a3b9fe5ab6b2",
   "metadata": {},
   "outputs": [],
   "source": [
    "# Pipeline for numeric columns\n",
    "numeric_transformer = Pipeline(\n",
    "    steps=[\n",
    "        (\"simple_imputer\", SimpleImputer(strategy=\"median\")),\n",
    "        (\"standard_scaler\", StandardScaler()),\n",
    "    ]\n",
    ")\n",
    "# Pipeline for categorical columns (OHE-encoding)\n",
    "onehot_transformer = Pipeline(\n",
    "    steps=[\n",
    "        (\"simple_imputer\", SimpleImputer(strategy=\"most_frequent\")),\n",
    "        (\"onehot_encoder\", OneHotEncoder(drop=\"first\", handle_unknown=\"ignore\")),\n",
    "    ]\n",
    ")\n",
    "# Pipeline for categorical columns (Ordinal encoding)\n",
    "ordinal_transformer = Pipeline(\n",
    "    steps=[\n",
    "        (\"simple_imputer\", SimpleImputer(strategy=\"most_frequent\")),\n",
    "        (\n",
    "            \"ordinal_encoder\",\n",
    "            OrdinalEncoder(handle_unknown=\"use_encoded_value\", unknown_value=-1),\n",
    "        ),\n",
    "    ]\n",
    ")"
   ]
  },
  {
   "cell_type": "markdown",
   "id": "696005ee-62af-4e0d-932d-a8695301d530",
   "metadata": {},
   "source": [
    "Here, we have separately defined transformers for categorical columns with different encoding methods. This is done because in case encoding categorical features via *One-Hot Encoding* in tree-based models (*Decision Tree* and *Random Forest*), we will have a huge amount of such features and as a result it will take much longer for a model to find an optimal split. Hence, in this case we have introduced *Ordinal Encoding* which should speed up the work of tree-based algorithms.\n",
    "\n",
    "Now, we can pass the transformers to two column transformers: \n",
    "\n",
    "* `preprocessor_boost` => preprocessing data for gradient boosting models;\n",
    "* `preprocessor_tree` => preprocessing data for tree-based models."
   ]
  },
  {
   "cell_type": "code",
   "execution_count": 42,
   "id": "9543d87b-6706-43c2-a3a8-e43add6a34c1",
   "metadata": {},
   "outputs": [],
   "source": [
    "# Preprocessor for data (gradient boosting models)\n",
    "preprocessor_boost = ColumnTransformer(\n",
    "    transformers=[\n",
    "        (\n",
    "            \"numeric_transformer\",\n",
    "            numeric_transformer,\n",
    "            make_column_selector(dtype_exclude=\"category\"),\n",
    "        ),\n",
    "        (\n",
    "            \"onehot_transformer\",\n",
    "            onehot_transformer,\n",
    "            make_column_selector(dtype_include=\"category\"),\n",
    "        ),\n",
    "    ],\n",
    "    verbose_feature_names_out=False,\n",
    ")\n",
    "# Preprocessor for data (tree-based models)\n",
    "preprocessor_tree = ColumnTransformer(\n",
    "    transformers=[\n",
    "        (\n",
    "            \"numeric_transformer\",\n",
    "            numeric_transformer,\n",
    "            make_column_selector(dtype_exclude=\"category\"),\n",
    "        ),\n",
    "        (\n",
    "            \"ordinal_transformer\",\n",
    "            ordinal_transformer,\n",
    "            make_column_selector(dtype_include=\"category\"),\n",
    "        ),\n",
    "    ],\n",
    "    verbose_feature_names_out=False,\n",
    ")"
   ]
  },
  {
   "cell_type": "markdown",
   "id": "fd448535-3daa-44c7-82e1-fb93ff905803",
   "metadata": {},
   "source": [
    "**Summary**\n",
    "\n",
    "At this stage, we have preprocessed the data. We were able to deal with the problems found in the previous section: we changed the column names to more convenient ones, got rid of abnormal values, removed uninformative columns that would not be important for price prediction, and also removed duplicated rows and missing values. Next, we prepared data for machine learning algorithms: we divided the data into training and test sets and created data preprocessors using pipelines and column transformers for missing values imputation, encoding and scaling data."
   ]
  },
  {
   "cell_type": "markdown",
   "id": "9b0b8578-1082-4cba-bc96-c261c171afcc",
   "metadata": {},
   "source": [
    "## Training models"
   ]
  },
  {
   "cell_type": "markdown",
   "id": "832af9b3-eb0f-4f37-a259-4e4ec9c6f825",
   "metadata": {},
   "source": [
    "Now that we have managed to find a way to preprocess the data, we can get to training machine learning models. We will consider two classes of models:\n",
    "\n",
    "1. **Tree-based models**\n",
    "    * `DecisionTreeRegressor()`\n",
    "    * `RandomForestRegressor()`\n",
    "2. **Gradient boosting models**\n",
    "    * `CatBoostRegressor()`\n",
    "    * `XGBRegressor()`\n",
    "    * `LGBMRegressor()`\n",
    "    \n",
    "For each model we will conduct hyperparameter tuning using `RandomizedSearchCV()`. Firstly, we will define a grid of hyperparameters which we are going to vary for each model. Secondly, we will concatenate preprocessors obtained in the previous sections with final estimators. Lastly, hyperparameter tuning will be conducted."
   ]
  },
  {
   "cell_type": "markdown",
   "id": "93af7d07-ecbe-49ca-9ec8-885c518833a5",
   "metadata": {},
   "source": [
    "### Hyperparameter grid"
   ]
  },
  {
   "cell_type": "code",
   "execution_count": 43,
   "id": "76872a4d-f826-43c1-b82f-13e71c9fced1",
   "metadata": {},
   "outputs": [],
   "source": [
    "pp = PrettyPrinter(depth=4)"
   ]
  },
  {
   "cell_type": "code",
   "execution_count": 44,
   "id": "97ead9b9-e732-48ed-86b3-312b23ec54ea",
   "metadata": {},
   "outputs": [
    {
     "name": "stdout",
     "output_type": "stream",
     "text": [
      "{'model__max_depth': array([1, 2, 3, 4, 5, 6, 7, 8])}\n"
     ]
    }
   ],
   "source": [
    "# Hyperparameter grid (DecisionTreeRegressor)\n",
    "decision_tree_params_grid = {\n",
    "    \"model__max_depth\": np.arange(1, 9),\n",
    "}\n",
    "pp.pprint(decision_tree_params_grid)"
   ]
  },
  {
   "cell_type": "code",
   "execution_count": 45,
   "id": "bfb1b6d0-a74f-43ee-8fbc-95ad7a015a06",
   "metadata": {},
   "outputs": [
    {
     "name": "stdout",
     "output_type": "stream",
     "text": [
      "{'model__max_depth': array([1, 2, 3, 4, 5]),\n",
      " 'model__n_estimators': array([10, 20, 30, 40])}\n"
     ]
    }
   ],
   "source": [
    "# Hyperparameter grid (RandomForestRegressor)\n",
    "random_forest_params_grid = {\n",
    "    \"model__max_depth\": np.arange(1, 6),\n",
    "    \"model__n_estimators\": np.arange(10, 50, step=10),\n",
    "}\n",
    "pp.pprint(random_forest_params_grid)"
   ]
  },
  {
   "cell_type": "code",
   "execution_count": 46,
   "id": "6d59662d-c9a3-42ca-a171-43cb620e5a08",
   "metadata": {},
   "outputs": [
    {
     "name": "stdout",
     "output_type": "stream",
     "text": [
      "{'model__learning_rate': array([0.01, 0.02, 0.03, 0.04, 0.05, 0.06, 0.07, 0.08, 0.09, 0.1 , 0.11,\n",
      "       0.12, 0.13, 0.14, 0.15, 0.16, 0.17, 0.18, 0.19, 0.2 , 0.21, 0.22,\n",
      "       0.23, 0.24, 0.25, 0.26, 0.27, 0.28, 0.29, 0.3 , 0.31, 0.32, 0.33,\n",
      "       0.34, 0.35, 0.36, 0.37, 0.38, 0.39, 0.4 , 0.41, 0.42, 0.43, 0.44,\n",
      "       0.45, 0.46, 0.47, 0.48, 0.49, 0.5 , 0.51, 0.52, 0.53, 0.54, 0.55,\n",
      "       0.56, 0.57, 0.58, 0.59, 0.6 , 0.61, 0.62, 0.63, 0.64, 0.65, 0.66,\n",
      "       0.67, 0.68, 0.69, 0.7 , 0.71, 0.72, 0.73, 0.74, 0.75, 0.76, 0.77,\n",
      "       0.78, 0.79, 0.8 , 0.81, 0.82, 0.83, 0.84, 0.85, 0.86, 0.87, 0.88,\n",
      "       0.89, 0.9 , 0.91, 0.92, 0.93, 0.94, 0.95, 0.96, 0.97, 0.98, 0.99,\n",
      "       1.  ]),\n",
      " 'model__max_depth': array([1, 2, 3, 4, 5, 6, 7]),\n",
      " 'model__n_estimators': array([10, 20, 30, 40, 50, 60, 70, 80, 90])}\n"
     ]
    }
   ],
   "source": [
    "# Hyperparameter grid (CatBoostRegressor)\n",
    "catboost_params_grid = {\n",
    "    \"model__max_depth\": np.arange(1, 8),\n",
    "    \"model__n_estimators\": np.arange(10, 100, step=10),\n",
    "    \"model__learning_rate\": np.arange(0.01, 1.01, step=0.01),\n",
    "}\n",
    "pp.pprint(catboost_params_grid)"
   ]
  },
  {
   "cell_type": "code",
   "execution_count": 47,
   "id": "e9c43590-1e50-4644-812f-0bb4df963850",
   "metadata": {},
   "outputs": [
    {
     "name": "stdout",
     "output_type": "stream",
     "text": [
      "{'model__learning_rate': array([0.01, 0.02, 0.03, 0.04, 0.05, 0.06, 0.07, 0.08, 0.09, 0.1 , 0.11,\n",
      "       0.12, 0.13, 0.14, 0.15, 0.16, 0.17, 0.18, 0.19, 0.2 , 0.21, 0.22,\n",
      "       0.23, 0.24, 0.25, 0.26, 0.27, 0.28, 0.29, 0.3 , 0.31, 0.32, 0.33,\n",
      "       0.34, 0.35, 0.36, 0.37, 0.38, 0.39, 0.4 , 0.41, 0.42, 0.43, 0.44,\n",
      "       0.45, 0.46, 0.47, 0.48, 0.49, 0.5 , 0.51, 0.52, 0.53, 0.54, 0.55,\n",
      "       0.56, 0.57, 0.58, 0.59, 0.6 , 0.61, 0.62, 0.63, 0.64, 0.65, 0.66,\n",
      "       0.67, 0.68, 0.69, 0.7 , 0.71, 0.72, 0.73, 0.74, 0.75, 0.76, 0.77,\n",
      "       0.78, 0.79, 0.8 , 0.81, 0.82, 0.83, 0.84, 0.85, 0.86, 0.87, 0.88,\n",
      "       0.89, 0.9 , 0.91, 0.92, 0.93, 0.94, 0.95, 0.96, 0.97, 0.98, 0.99,\n",
      "       1.  ]),\n",
      " 'model__max_depth': array([1, 2, 3, 4, 5, 6, 7]),\n",
      " 'model__n_estimators': array([10, 20, 30, 40, 50, 60, 70, 80, 90])}\n"
     ]
    }
   ],
   "source": [
    "# Hyperparameter grid (XGBRegressor)\n",
    "xgb_params_grid = {\n",
    "    \"model__max_depth\": np.arange(1, 8),\n",
    "    \"model__n_estimators\": np.arange(10, 100, step=10),\n",
    "    \"model__learning_rate\": np.arange(0.01, 1.01, step=0.01),\n",
    "}\n",
    "pp.pprint(xgb_params_grid)"
   ]
  },
  {
   "cell_type": "code",
   "execution_count": 48,
   "id": "0f880a25-f1ee-48eb-964f-b58259335c24",
   "metadata": {},
   "outputs": [
    {
     "name": "stdout",
     "output_type": "stream",
     "text": [
      "{'model__learning_rate': array([0.01, 0.02, 0.03, 0.04, 0.05, 0.06, 0.07, 0.08, 0.09, 0.1 , 0.11,\n",
      "       0.12, 0.13, 0.14, 0.15, 0.16, 0.17, 0.18, 0.19, 0.2 , 0.21, 0.22,\n",
      "       0.23, 0.24, 0.25, 0.26, 0.27, 0.28, 0.29, 0.3 , 0.31, 0.32, 0.33,\n",
      "       0.34, 0.35, 0.36, 0.37, 0.38, 0.39, 0.4 , 0.41, 0.42, 0.43, 0.44,\n",
      "       0.45, 0.46, 0.47, 0.48, 0.49, 0.5 , 0.51, 0.52, 0.53, 0.54, 0.55,\n",
      "       0.56, 0.57, 0.58, 0.59, 0.6 , 0.61, 0.62, 0.63, 0.64, 0.65, 0.66,\n",
      "       0.67, 0.68, 0.69, 0.7 , 0.71, 0.72, 0.73, 0.74, 0.75, 0.76, 0.77,\n",
      "       0.78, 0.79, 0.8 , 0.81, 0.82, 0.83, 0.84, 0.85, 0.86, 0.87, 0.88,\n",
      "       0.89, 0.9 , 0.91, 0.92, 0.93, 0.94, 0.95, 0.96, 0.97, 0.98, 0.99,\n",
      "       1.  ]),\n",
      " 'model__max_depth': array([1, 2, 3, 4, 5, 6, 7]),\n",
      " 'model__n_estimators': array([10, 20, 30, 40, 50, 60, 70, 80, 90])}\n"
     ]
    }
   ],
   "source": [
    "# Hyperparameter grid (LGBMRegressor)\n",
    "lgbm_params_grid = {\n",
    "    \"model__max_depth\": np.arange(1, 8),\n",
    "    \"model__n_estimators\": np.arange(10, 100, step=10),\n",
    "    \"model__learning_rate\": np.arange(0.01, 1.01, step=0.01),\n",
    "}\n",
    "pp.pprint(lgbm_params_grid)"
   ]
  },
  {
   "cell_type": "markdown",
   "id": "645179b3-1fe5-43fe-8fcd-769e8de45540",
   "metadata": {},
   "source": [
    "### Estimators"
   ]
  },
  {
   "cell_type": "code",
   "execution_count": 49,
   "id": "6eefa9a4-5ed5-4ad5-8b80-91f0068059e3",
   "metadata": {},
   "outputs": [],
   "source": [
    "# Adding final estimator (DecisionTreeRegressor)\n",
    "decision_tree_model = DecisionTreeRegressor(random_state=RANDOM_STATE)\n",
    "decision_tree_pipeline = Pipeline(\n",
    "    steps=[(\"preprocessor\", preprocessor_tree), (\"model\", decision_tree_model)]\n",
    ")"
   ]
  },
  {
   "cell_type": "code",
   "execution_count": 50,
   "id": "faec844c-446d-4d42-8a18-abc8721d2899",
   "metadata": {},
   "outputs": [],
   "source": [
    "# Adding final estimator (RandomForestRegressor)\n",
    "random_forest_model = RandomForestRegressor(random_state=RANDOM_STATE)\n",
    "random_forest_pipeline = Pipeline(\n",
    "    steps=[(\"preprocessor\", preprocessor_tree), (\"model\", random_forest_model)]\n",
    ")"
   ]
  },
  {
   "cell_type": "code",
   "execution_count": 51,
   "id": "b6ef55d3-d281-4f6b-aa64-4d3fefdba871",
   "metadata": {},
   "outputs": [],
   "source": [
    "# Adding final estimator (CatBoostRegressor)\n",
    "catboost_model = CatBoostRegressor(verbose=0)\n",
    "catboost_pipeline = Pipeline(\n",
    "    steps=[(\"preprocessor\", preprocessor_boost), (\"model\", catboost_model)]\n",
    ")"
   ]
  },
  {
   "cell_type": "code",
   "execution_count": 52,
   "id": "67ddef3e-e1ef-4efa-8efb-2214d8ac084a",
   "metadata": {},
   "outputs": [],
   "source": [
    "# Adding final estimator (XGBRegressor)\n",
    "xgb_model = XGBRegressor()\n",
    "xgb_pipeline = Pipeline(\n",
    "    steps=[(\"preprocessor\", preprocessor_boost), (\"model\", xgb_model)]\n",
    ")"
   ]
  },
  {
   "cell_type": "code",
   "execution_count": 53,
   "id": "a91c92e4-b99f-4878-9038-76985d3e1955",
   "metadata": {},
   "outputs": [],
   "source": [
    "# Adding final estimator (LGBMRegressor)\n",
    "lgbm_model = LGBMRegressor()\n",
    "lgbm_pipeline = Pipeline(\n",
    "    steps=[(\"preprocessor\", preprocessor_boost), (\"model\", lgbm_model)]\n",
    ")"
   ]
  },
  {
   "cell_type": "markdown",
   "id": "7573a724-bb25-44e4-a317-338a1e7e3b0e",
   "metadata": {},
   "source": [
    "### Hyperparameter tuning"
   ]
  },
  {
   "cell_type": "code",
   "execution_count": 54,
   "id": "0f260db2-c74f-4f46-802b-083cb53997f9",
   "metadata": {},
   "outputs": [],
   "source": [
    "# Defining new types\n",
    "SklearnPipeline = Pipeline\n",
    "HyperparamsGrid = Dict[str, Sequence[Any]]\n",
    "TrainDataset = Tuple[Any, Any]\n",
    "TestDataset = Tuple[Any, Any]"
   ]
  },
  {
   "cell_type": "code",
   "execution_count": 55,
   "id": "0270bebe-d791-4688-9b26-ba72fb248878",
   "metadata": {},
   "outputs": [],
   "source": [
    "class HyperoptRegression(RandomizedSearchCV):\n",
    "    \"\"\"\n",
    "    Wrapper for RandomizedSearchCV with custom defaults\n",
    "    and additional functionality.\n",
    "    \"\"\"\n",
    "\n",
    "    def __init__(\n",
    "        self,\n",
    "        model: SklearnPipeline,\n",
    "        hyperparams_grid: HyperparamsGrid,\n",
    "        train_dataset: TrainDataset,\n",
    "        eval_dataset: TestDataset,\n",
    "        cv: int = CV_FOLDS,\n",
    "        random_state: int = RANDOM_STATE,\n",
    "        scoring: str = SCORER,\n",
    "        n_iter: int = N_ITER,\n",
    "        return_train_score: bool = True,\n",
    "    ) -> None:\n",
    "        super().__init__(\n",
    "            estimator=model,\n",
    "            param_distributions=hyperparams_grid,\n",
    "            cv=cv,\n",
    "            random_state=random_state,\n",
    "            scoring=scoring,\n",
    "            n_iter=n_iter,\n",
    "            return_train_score=return_train_score,\n",
    "        )\n",
    "        self.train_dataset = train_dataset\n",
    "        self.eval_dataset = eval_dataset\n",
    "        self.train_features, self.train_target = self.train_dataset\n",
    "        self.eval_features, self.eval_target = self.eval_dataset\n",
    "\n",
    "    def train_crossvalidate(self) -> Any:\n",
    "        \"\"\"Launches grid search with cross-validation.\"\"\"\n",
    "        start = time()\n",
    "        self.fit(self.train_features, self.train_target)\n",
    "        end = time() - start\n",
    "\n",
    "        model_name = type(self.estimator[\"model\"]).__name__\n",
    "        print(f\"Grid search for {model_name} completed.\")\n",
    "        print(f\"Time elasped:{end: .1f} s\")\n",
    "\n",
    "    def display_tuning_process(self, best_iter: bool = False) -> pd.DataFrame:\n",
    "        \"\"\"\n",
    "        Displays the tuning process as a DataFrame.\n",
    "\n",
    "        Columns include hyperparameters varied as well\n",
    "        as train/test metrics.\n",
    "\n",
    "        Args:\n",
    "            best_iter: Boolean indicator of displaying\n",
    "                only the best iteration.\n",
    "        \"\"\"\n",
    "        try:\n",
    "            cv_results_df = pd.DataFrame(self.cv_results_)\n",
    "        except AttributeError:\n",
    "            not_fitted_error_msg = (\n",
    "                f\"The {type(self).__name__} instance has not been fitted yet.\\n\"\n",
    "                \"Call 'train_crossvalidate' before using this method.\"\n",
    "            )\n",
    "            print(not_fitted_error_msg)\n",
    "        else:\n",
    "            # Selecting varied hyperparameters and train/test metric values\n",
    "            relevant_columns = (\n",
    "                list(cv_results_df.columns[cv_results_df.columns.str.startswith(\"param_\")])\n",
    "                + [\"mean_train_score\"]\n",
    "                + [\"mean_test_score\"]\n",
    "            )\n",
    "            # Filtering out irrelevant columns\n",
    "            cv_results_df = cv_results_df[relevant_columns]\n",
    "    \n",
    "            cv_results_df[\"mean_train_score\"] = -cv_results_df[\"mean_train_score\"]\n",
    "            cv_results_df[\"mean_test_score\"] = -cv_results_df[\"mean_test_score\"]\n",
    "    \n",
    "            # Fixing column names and precision\n",
    "            cv_results_df.columns = cv_results_df.columns.str.replace(\"param_model__\", \"\")\n",
    "            cv_results_df = cv_results_df.round(4)\n",
    "    \n",
    "            if best_iter:\n",
    "                cv_results_df = cv_results_df.iloc[self.best_index_].rename(\n",
    "                    type(self.best_estimator_[\"model\"]).__name__\n",
    "                )\n",
    "    \n",
    "            return cv_results_df\n",
    "\n",
    "    def compute_regression_stats(self, metric: str) -> Optional[float]:\n",
    "        \"\"\"\n",
    "        Calculates the value of the metric for test dataset passed.\n",
    "\n",
    "        Currently, the method includes only RMSE.\n",
    "\n",
    "        Args:\n",
    "            metric: Name of the test metric to calculate.\n",
    "\n",
    "        Raises:\n",
    "            ValueError: An error caused by an incorrectly\n",
    "                specified metric name.\n",
    "        \"\"\"\n",
    "        try:\n",
    "            self.eval_predictions = self.predict(self.eval_features)\n",
    "        except NotFittedError:\n",
    "            not_fitted_error_msg = (\n",
    "                f\"The {type(self).__name__} instance has not been fitted yet.\\n\"\n",
    "                \"Call 'train_crossvalidate' before using this method.\"\n",
    "            )\n",
    "            print(not_fitted_error_msg)\n",
    "        # Proceed if exception has not been raised\n",
    "        else:\n",
    "            if metric == \"rmse\":\n",
    "                rmse = mean_squared_error(\n",
    "                    self.eval_target, self.eval_predictions, squared=False\n",
    "                )\n",
    "                return rmse\n",
    "            else:\n",
    "                raise ValueError(\"Incorrect metric name specified\")"
   ]
  },
  {
   "cell_type": "markdown",
   "id": "d138b8c3-d68c-49c5-a7b9-4a7057a9b644",
   "metadata": {},
   "source": [
    "#### Tree-based models"
   ]
  },
  {
   "cell_type": "markdown",
   "id": "dc617196-4201-4e14-a775-d62791e05343",
   "metadata": {},
   "source": [
    "##### *DecisionTreeRegressor*"
   ]
  },
  {
   "cell_type": "code",
   "execution_count": 56,
   "id": "f6263b83-5f2f-4724-ac10-2986e1fecd54",
   "metadata": {},
   "outputs": [
    {
     "name": "stdout",
     "output_type": "stream",
     "text": [
      "Grid search for DecisionTreeRegressor completed.\n",
      "Time elasped: 7.8 s\n"
     ]
    }
   ],
   "source": [
    "# Hyperparameter tuning (DecisionTreeRegressor)\n",
    "decision_tree_grid_search = HyperoptRegression(\n",
    "    model=decision_tree_pipeline,\n",
    "    hyperparams_grid=decision_tree_params_grid,\n",
    "    train_dataset=(features_train, target_train),\n",
    "    eval_dataset=(features_test, target_test),\n",
    ")\n",
    "decision_tree_grid_search.train_crossvalidate()"
   ]
  },
  {
   "cell_type": "code",
   "execution_count": 57,
   "id": "4dc2df53-a3fe-4582-94c6-6c297df7f335",
   "metadata": {},
   "outputs": [
    {
     "data": {
      "text/html": [
       "<div>\n",
       "<style scoped>\n",
       "    .dataframe tbody tr th:only-of-type {\n",
       "        vertical-align: middle;\n",
       "    }\n",
       "\n",
       "    .dataframe tbody tr th {\n",
       "        vertical-align: top;\n",
       "    }\n",
       "\n",
       "    .dataframe thead th {\n",
       "        text-align: right;\n",
       "    }\n",
       "</style>\n",
       "<table border=\"1\" class=\"dataframe\">\n",
       "  <thead>\n",
       "    <tr style=\"text-align: right;\">\n",
       "      <th></th>\n",
       "      <th>max_depth</th>\n",
       "      <th>mean_train_score</th>\n",
       "      <th>mean_test_score</th>\n",
       "    </tr>\n",
       "  </thead>\n",
       "  <tbody>\n",
       "    <tr>\n",
       "      <th>0</th>\n",
       "      <td>1</td>\n",
       "      <td>4275.1262</td>\n",
       "      <td>4275.1595</td>\n",
       "    </tr>\n",
       "    <tr>\n",
       "      <th>1</th>\n",
       "      <td>2</td>\n",
       "      <td>3775.2305</td>\n",
       "      <td>3776.5621</td>\n",
       "    </tr>\n",
       "    <tr>\n",
       "      <th>2</th>\n",
       "      <td>3</td>\n",
       "      <td>3499.9040</td>\n",
       "      <td>3502.8453</td>\n",
       "    </tr>\n",
       "    <tr>\n",
       "      <th>3</th>\n",
       "      <td>4</td>\n",
       "      <td>3283.0829</td>\n",
       "      <td>3289.7290</td>\n",
       "    </tr>\n",
       "    <tr>\n",
       "      <th>4</th>\n",
       "      <td>5</td>\n",
       "      <td>3100.8117</td>\n",
       "      <td>3110.0470</td>\n",
       "    </tr>\n",
       "    <tr>\n",
       "      <th>5</th>\n",
       "      <td>6</td>\n",
       "      <td>2987.9068</td>\n",
       "      <td>3004.9485</td>\n",
       "    </tr>\n",
       "    <tr>\n",
       "      <th>6</th>\n",
       "      <td>7</td>\n",
       "      <td>2893.6202</td>\n",
       "      <td>2935.4085</td>\n",
       "    </tr>\n",
       "    <tr>\n",
       "      <th>7</th>\n",
       "      <td>8</td>\n",
       "      <td>2804.9855</td>\n",
       "      <td>2875.3165</td>\n",
       "    </tr>\n",
       "  </tbody>\n",
       "</table>\n",
       "</div>"
      ],
      "text/plain": [
       "  max_depth  mean_train_score  mean_test_score\n",
       "0         1         4275.1262        4275.1595\n",
       "1         2         3775.2305        3776.5621\n",
       "2         3         3499.9040        3502.8453\n",
       "3         4         3283.0829        3289.7290\n",
       "4         5         3100.8117        3110.0470\n",
       "5         6         2987.9068        3004.9485\n",
       "6         7         2893.6202        2935.4085\n",
       "7         8         2804.9855        2875.3165"
      ]
     },
     "execution_count": 57,
     "metadata": {},
     "output_type": "execute_result"
    }
   ],
   "source": [
    "# Displaying tuning results\n",
    "decision_tree_grid_search.display_tuning_process()"
   ]
  },
  {
   "cell_type": "code",
   "execution_count": 58,
   "id": "55baa7f1-39a7-4077-9f70-980cdc9bdec3",
   "metadata": {},
   "outputs": [
    {
     "data": {
      "text/plain": [
       "max_depth                   8\n",
       "mean_train_score    2804.9855\n",
       "mean_test_score     2875.3165\n",
       "Name: DecisionTreeRegressor, dtype: object"
      ]
     },
     "execution_count": 58,
     "metadata": {},
     "output_type": "execute_result"
    }
   ],
   "source": [
    "decision_tree_grid_search.display_tuning_process(best_iter=True)"
   ]
  },
  {
   "cell_type": "markdown",
   "id": "bb2625f5-3b95-4e0c-8301-939762932c52",
   "metadata": {},
   "source": [
    "##### *RandomForestRegressor*"
   ]
  },
  {
   "cell_type": "code",
   "execution_count": 59,
   "id": "cba100cc-2b25-44b4-add0-b11aefc2cf15",
   "metadata": {},
   "outputs": [
    {
     "name": "stdout",
     "output_type": "stream",
     "text": [
      "Grid search for RandomForestRegressor completed.\n",
      "Time elasped: 17.3 s\n"
     ]
    }
   ],
   "source": [
    "# Hyperparameter tuning (RandomForestRegressor)\n",
    "random_forest_grid_search = HyperoptRegression(\n",
    "    model=random_forest_pipeline,\n",
    "    hyperparams_grid=random_forest_params_grid,\n",
    "    train_dataset=(features_train, target_train),\n",
    "    eval_dataset=(features_test, target_test),\n",
    ")\n",
    "random_forest_grid_search.train_crossvalidate()"
   ]
  },
  {
   "cell_type": "code",
   "execution_count": 60,
   "id": "bad70d06-94ea-4592-8d80-4780a7d93a52",
   "metadata": {},
   "outputs": [
    {
     "data": {
      "text/html": [
       "<div>\n",
       "<style scoped>\n",
       "    .dataframe tbody tr th:only-of-type {\n",
       "        vertical-align: middle;\n",
       "    }\n",
       "\n",
       "    .dataframe tbody tr th {\n",
       "        vertical-align: top;\n",
       "    }\n",
       "\n",
       "    .dataframe thead th {\n",
       "        text-align: right;\n",
       "    }\n",
       "</style>\n",
       "<table border=\"1\" class=\"dataframe\">\n",
       "  <thead>\n",
       "    <tr style=\"text-align: right;\">\n",
       "      <th></th>\n",
       "      <th>n_estimators</th>\n",
       "      <th>max_depth</th>\n",
       "      <th>mean_train_score</th>\n",
       "      <th>mean_test_score</th>\n",
       "    </tr>\n",
       "  </thead>\n",
       "  <tbody>\n",
       "    <tr>\n",
       "      <th>0</th>\n",
       "      <td>20</td>\n",
       "      <td>4</td>\n",
       "      <td>3226.8656</td>\n",
       "      <td>3231.6930</td>\n",
       "    </tr>\n",
       "    <tr>\n",
       "      <th>1</th>\n",
       "      <td>10</td>\n",
       "      <td>3</td>\n",
       "      <td>3460.1706</td>\n",
       "      <td>3464.4145</td>\n",
       "    </tr>\n",
       "    <tr>\n",
       "      <th>2</th>\n",
       "      <td>10</td>\n",
       "      <td>5</td>\n",
       "      <td>3058.3701</td>\n",
       "      <td>3067.6362</td>\n",
       "    </tr>\n",
       "    <tr>\n",
       "      <th>3</th>\n",
       "      <td>40</td>\n",
       "      <td>1</td>\n",
       "      <td>4275.1271</td>\n",
       "      <td>4275.1642</td>\n",
       "    </tr>\n",
       "    <tr>\n",
       "      <th>4</th>\n",
       "      <td>40</td>\n",
       "      <td>4</td>\n",
       "      <td>3228.5277</td>\n",
       "      <td>3233.6611</td>\n",
       "    </tr>\n",
       "    <tr>\n",
       "      <th>5</th>\n",
       "      <td>10</td>\n",
       "      <td>4</td>\n",
       "      <td>3230.2958</td>\n",
       "      <td>3235.8525</td>\n",
       "    </tr>\n",
       "    <tr>\n",
       "      <th>6</th>\n",
       "      <td>10</td>\n",
       "      <td>1</td>\n",
       "      <td>4275.1282</td>\n",
       "      <td>4275.1762</td>\n",
       "    </tr>\n",
       "    <tr>\n",
       "      <th>7</th>\n",
       "      <td>30</td>\n",
       "      <td>3</td>\n",
       "      <td>3458.6921</td>\n",
       "      <td>3462.4249</td>\n",
       "    </tr>\n",
       "  </tbody>\n",
       "</table>\n",
       "</div>"
      ],
      "text/plain": [
       "  n_estimators max_depth  mean_train_score  mean_test_score\n",
       "0           20         4         3226.8656        3231.6930\n",
       "1           10         3         3460.1706        3464.4145\n",
       "2           10         5         3058.3701        3067.6362\n",
       "3           40         1         4275.1271        4275.1642\n",
       "4           40         4         3228.5277        3233.6611\n",
       "5           10         4         3230.2958        3235.8525\n",
       "6           10         1         4275.1282        4275.1762\n",
       "7           30         3         3458.6921        3462.4249"
      ]
     },
     "execution_count": 60,
     "metadata": {},
     "output_type": "execute_result"
    }
   ],
   "source": [
    "random_forest_grid_search.display_tuning_process()"
   ]
  },
  {
   "cell_type": "code",
   "execution_count": 61,
   "id": "171a89c7-45ba-43d6-9314-283077dfb753",
   "metadata": {},
   "outputs": [
    {
     "data": {
      "text/plain": [
       "n_estimators               10\n",
       "max_depth                   5\n",
       "mean_train_score    3058.3701\n",
       "mean_test_score     3067.6362\n",
       "Name: RandomForestRegressor, dtype: object"
      ]
     },
     "execution_count": 61,
     "metadata": {},
     "output_type": "execute_result"
    }
   ],
   "source": [
    "random_forest_grid_search.display_tuning_process(best_iter=True)"
   ]
  },
  {
   "cell_type": "markdown",
   "id": "716c5426-7571-4be9-ac13-b0be9ea30e9f",
   "metadata": {},
   "source": [
    "#### Gradient boosting models"
   ]
  },
  {
   "cell_type": "code",
   "execution_count": 62,
   "id": "f5d9b236-4d29-4734-93a4-74d719d353fe",
   "metadata": {},
   "outputs": [],
   "source": [
    "state = np.random.RandomState(RANDOM_STATE)"
   ]
  },
  {
   "cell_type": "markdown",
   "id": "bf8a4ea9-ae7f-4be3-bafc-ad6e179b8d78",
   "metadata": {},
   "source": [
    "##### *CatBoostRegressor*"
   ]
  },
  {
   "cell_type": "code",
   "execution_count": 63,
   "id": "3182d238-07a9-4de9-9939-b460f6914afd",
   "metadata": {},
   "outputs": [
    {
     "name": "stdout",
     "output_type": "stream",
     "text": [
      "Grid search for CatBoostRegressor completed.\n",
      "Time elasped: 19.6 s\n"
     ]
    }
   ],
   "source": [
    "# Hyperparameter tuning (CatBoostRegressor)\n",
    "catboost_grid_search = HyperoptRegression(\n",
    "    model=catboost_pipeline,\n",
    "    hyperparams_grid=catboost_params_grid,\n",
    "    train_dataset=(features_train, target_train),\n",
    "    eval_dataset=(features_test, target_test),\n",
    "    random_state=state,\n",
    ")\n",
    "catboost_grid_search.train_crossvalidate()"
   ]
  },
  {
   "cell_type": "code",
   "execution_count": 64,
   "id": "f1f8485a-4760-4861-96fc-53314bafe9bc",
   "metadata": {},
   "outputs": [
    {
     "data": {
      "text/html": [
       "<div>\n",
       "<style scoped>\n",
       "    .dataframe tbody tr th:only-of-type {\n",
       "        vertical-align: middle;\n",
       "    }\n",
       "\n",
       "    .dataframe tbody tr th {\n",
       "        vertical-align: top;\n",
       "    }\n",
       "\n",
       "    .dataframe thead th {\n",
       "        text-align: right;\n",
       "    }\n",
       "</style>\n",
       "<table border=\"1\" class=\"dataframe\">\n",
       "  <thead>\n",
       "    <tr style=\"text-align: right;\">\n",
       "      <th></th>\n",
       "      <th>n_estimators</th>\n",
       "      <th>max_depth</th>\n",
       "      <th>learning_rate</th>\n",
       "      <th>mean_train_score</th>\n",
       "      <th>mean_test_score</th>\n",
       "    </tr>\n",
       "  </thead>\n",
       "  <tbody>\n",
       "    <tr>\n",
       "      <th>0</th>\n",
       "      <td>70</td>\n",
       "      <td>5</td>\n",
       "      <td>0.73</td>\n",
       "      <td>2475.6443</td>\n",
       "      <td>2541.2695</td>\n",
       "    </tr>\n",
       "    <tr>\n",
       "      <th>1</th>\n",
       "      <td>30</td>\n",
       "      <td>4</td>\n",
       "      <td>0.57</td>\n",
       "      <td>2715.7954</td>\n",
       "      <td>2732.9882</td>\n",
       "    </tr>\n",
       "    <tr>\n",
       "      <th>2</th>\n",
       "      <td>90</td>\n",
       "      <td>4</td>\n",
       "      <td>0.35</td>\n",
       "      <td>2593.3500</td>\n",
       "      <td>2622.2030</td>\n",
       "    </tr>\n",
       "    <tr>\n",
       "      <th>3</th>\n",
       "      <td>10</td>\n",
       "      <td>4</td>\n",
       "      <td>0.56</td>\n",
       "      <td>2878.6649</td>\n",
       "      <td>2889.5269</td>\n",
       "    </tr>\n",
       "    <tr>\n",
       "      <th>4</th>\n",
       "      <td>60</td>\n",
       "      <td>4</td>\n",
       "      <td>0.56</td>\n",
       "      <td>2595.7025</td>\n",
       "      <td>2627.3568</td>\n",
       "    </tr>\n",
       "    <tr>\n",
       "      <th>5</th>\n",
       "      <td>90</td>\n",
       "      <td>7</td>\n",
       "      <td>0.65</td>\n",
       "      <td>2310.0512</td>\n",
       "      <td>2417.7496</td>\n",
       "    </tr>\n",
       "    <tr>\n",
       "      <th>6</th>\n",
       "      <td>60</td>\n",
       "      <td>1</td>\n",
       "      <td>0.72</td>\n",
       "      <td>2979.5846</td>\n",
       "      <td>2985.4573</td>\n",
       "    </tr>\n",
       "    <tr>\n",
       "      <th>7</th>\n",
       "      <td>10</td>\n",
       "      <td>4</td>\n",
       "      <td>0.55</td>\n",
       "      <td>2893.9523</td>\n",
       "      <td>2904.0631</td>\n",
       "    </tr>\n",
       "  </tbody>\n",
       "</table>\n",
       "</div>"
      ],
      "text/plain": [
       "  n_estimators max_depth learning_rate  mean_train_score  mean_test_score\n",
       "0           70         5          0.73         2475.6443        2541.2695\n",
       "1           30         4          0.57         2715.7954        2732.9882\n",
       "2           90         4          0.35         2593.3500        2622.2030\n",
       "3           10         4          0.56         2878.6649        2889.5269\n",
       "4           60         4          0.56         2595.7025        2627.3568\n",
       "5           90         7          0.65         2310.0512        2417.7496\n",
       "6           60         1          0.72         2979.5846        2985.4573\n",
       "7           10         4          0.55         2893.9523        2904.0631"
      ]
     },
     "execution_count": 64,
     "metadata": {},
     "output_type": "execute_result"
    }
   ],
   "source": [
    "catboost_grid_search.display_tuning_process()"
   ]
  },
  {
   "cell_type": "code",
   "execution_count": 65,
   "id": "384082c5-a975-448a-943f-f01ca976098c",
   "metadata": {},
   "outputs": [
    {
     "data": {
      "text/plain": [
       "n_estimators               90\n",
       "max_depth                   7\n",
       "learning_rate            0.65\n",
       "mean_train_score    2310.0512\n",
       "mean_test_score     2417.7496\n",
       "Name: CatBoostRegressor, dtype: object"
      ]
     },
     "execution_count": 65,
     "metadata": {},
     "output_type": "execute_result"
    }
   ],
   "source": [
    "catboost_grid_search.display_tuning_process(best_iter=True)"
   ]
  },
  {
   "cell_type": "markdown",
   "id": "4e8c13af-20c1-499e-8bf0-226a6c54c87e",
   "metadata": {},
   "source": [
    "##### *XGBRegressor*"
   ]
  },
  {
   "cell_type": "code",
   "execution_count": 66,
   "id": "4b74306b-866c-4894-b23b-7739943b8c68",
   "metadata": {},
   "outputs": [
    {
     "name": "stdout",
     "output_type": "stream",
     "text": [
      "Grid search for XGBRegressor completed.\n",
      "Time elasped: 15.8 s\n"
     ]
    }
   ],
   "source": [
    "# Hyperparameter tuning (XGBRegressor)\n",
    "xgb_grid_search = HyperoptRegression(\n",
    "    model=xgb_pipeline,\n",
    "    hyperparams_grid=xgb_params_grid,\n",
    "    train_dataset=(features_train, target_train),\n",
    "    eval_dataset=(features_test, target_test),\n",
    "    random_state=state,\n",
    ")\n",
    "xgb_grid_search.train_crossvalidate()"
   ]
  },
  {
   "cell_type": "code",
   "execution_count": 67,
   "id": "de012b0d-021f-4863-839b-2c12ae1d9628",
   "metadata": {},
   "outputs": [
    {
     "data": {
      "text/html": [
       "<div>\n",
       "<style scoped>\n",
       "    .dataframe tbody tr th:only-of-type {\n",
       "        vertical-align: middle;\n",
       "    }\n",
       "\n",
       "    .dataframe tbody tr th {\n",
       "        vertical-align: top;\n",
       "    }\n",
       "\n",
       "    .dataframe thead th {\n",
       "        text-align: right;\n",
       "    }\n",
       "</style>\n",
       "<table border=\"1\" class=\"dataframe\">\n",
       "  <thead>\n",
       "    <tr style=\"text-align: right;\">\n",
       "      <th></th>\n",
       "      <th>n_estimators</th>\n",
       "      <th>max_depth</th>\n",
       "      <th>learning_rate</th>\n",
       "      <th>mean_train_score</th>\n",
       "      <th>mean_test_score</th>\n",
       "    </tr>\n",
       "  </thead>\n",
       "  <tbody>\n",
       "    <tr>\n",
       "      <th>0</th>\n",
       "      <td>70</td>\n",
       "      <td>5</td>\n",
       "      <td>0.09</td>\n",
       "      <td>2657.8027</td>\n",
       "      <td>2692.3162</td>\n",
       "    </tr>\n",
       "    <tr>\n",
       "      <th>1</th>\n",
       "      <td>50</td>\n",
       "      <td>5</td>\n",
       "      <td>0.51</td>\n",
       "      <td>2437.1316</td>\n",
       "      <td>2527.4695</td>\n",
       "    </tr>\n",
       "    <tr>\n",
       "      <th>2</th>\n",
       "      <td>40</td>\n",
       "      <td>5</td>\n",
       "      <td>0.55</td>\n",
       "      <td>2484.3138</td>\n",
       "      <td>2560.8011</td>\n",
       "    </tr>\n",
       "    <tr>\n",
       "      <th>3</th>\n",
       "      <td>40</td>\n",
       "      <td>2</td>\n",
       "      <td>1.0</td>\n",
       "      <td>2792.7224</td>\n",
       "      <td>2818.0225</td>\n",
       "    </tr>\n",
       "    <tr>\n",
       "      <th>4</th>\n",
       "      <td>50</td>\n",
       "      <td>2</td>\n",
       "      <td>0.51</td>\n",
       "      <td>2770.0589</td>\n",
       "      <td>2788.1673</td>\n",
       "    </tr>\n",
       "    <tr>\n",
       "      <th>5</th>\n",
       "      <td>50</td>\n",
       "      <td>2</td>\n",
       "      <td>0.88</td>\n",
       "      <td>2761.0384</td>\n",
       "      <td>2780.1011</td>\n",
       "    </tr>\n",
       "    <tr>\n",
       "      <th>6</th>\n",
       "      <td>10</td>\n",
       "      <td>1</td>\n",
       "      <td>0.15</td>\n",
       "      <td>4123.1123</td>\n",
       "      <td>4123.6458</td>\n",
       "    </tr>\n",
       "    <tr>\n",
       "      <th>7</th>\n",
       "      <td>40</td>\n",
       "      <td>3</td>\n",
       "      <td>0.77</td>\n",
       "      <td>2700.0710</td>\n",
       "      <td>2737.3422</td>\n",
       "    </tr>\n",
       "  </tbody>\n",
       "</table>\n",
       "</div>"
      ],
      "text/plain": [
       "  n_estimators max_depth learning_rate  mean_train_score  mean_test_score\n",
       "0           70         5          0.09         2657.8027        2692.3162\n",
       "1           50         5          0.51         2437.1316        2527.4695\n",
       "2           40         5          0.55         2484.3138        2560.8011\n",
       "3           40         2           1.0         2792.7224        2818.0225\n",
       "4           50         2          0.51         2770.0589        2788.1673\n",
       "5           50         2          0.88         2761.0384        2780.1011\n",
       "6           10         1          0.15         4123.1123        4123.6458\n",
       "7           40         3          0.77         2700.0710        2737.3422"
      ]
     },
     "execution_count": 67,
     "metadata": {},
     "output_type": "execute_result"
    }
   ],
   "source": [
    "xgb_grid_search.display_tuning_process()"
   ]
  },
  {
   "cell_type": "code",
   "execution_count": 68,
   "id": "666b2149-44f7-4284-ace5-5a33a39196a0",
   "metadata": {},
   "outputs": [
    {
     "data": {
      "text/plain": [
       "n_estimators               50\n",
       "max_depth                   5\n",
       "learning_rate            0.51\n",
       "mean_train_score    2437.1316\n",
       "mean_test_score     2527.4695\n",
       "Name: XGBRegressor, dtype: object"
      ]
     },
     "execution_count": 68,
     "metadata": {},
     "output_type": "execute_result"
    }
   ],
   "source": [
    "xgb_grid_search.display_tuning_process(best_iter=True)"
   ]
  },
  {
   "cell_type": "markdown",
   "id": "e32b1957-b11c-463f-86b7-2ec90c3c98b5",
   "metadata": {},
   "source": [
    "##### *LGBMRegressor*"
   ]
  },
  {
   "cell_type": "code",
   "execution_count": 69,
   "id": "f7e9e08e-30c2-4261-b8cc-d7a2cb2d395f",
   "metadata": {},
   "outputs": [
    {
     "name": "stdout",
     "output_type": "stream",
     "text": [
      "Grid search for LGBMRegressor completed.\n",
      "Time elasped: 11.5 s\n"
     ]
    }
   ],
   "source": [
    "# Hyperparameter tuning (LGBMRegressor)\n",
    "lgbm_grid_search = HyperoptRegression(\n",
    "    model=lgbm_pipeline,\n",
    "    hyperparams_grid=lgbm_params_grid,\n",
    "    train_dataset=(features_train, target_train),\n",
    "    eval_dataset=(features_test, target_test),\n",
    "    random_state=state,\n",
    ")\n",
    "lgbm_grid_search.train_crossvalidate()"
   ]
  },
  {
   "cell_type": "code",
   "execution_count": 70,
   "id": "7ce6b66e-8d52-4aff-8973-873c6f4da0d7",
   "metadata": {},
   "outputs": [
    {
     "data": {
      "text/html": [
       "<div>\n",
       "<style scoped>\n",
       "    .dataframe tbody tr th:only-of-type {\n",
       "        vertical-align: middle;\n",
       "    }\n",
       "\n",
       "    .dataframe tbody tr th {\n",
       "        vertical-align: top;\n",
       "    }\n",
       "\n",
       "    .dataframe thead th {\n",
       "        text-align: right;\n",
       "    }\n",
       "</style>\n",
       "<table border=\"1\" class=\"dataframe\">\n",
       "  <thead>\n",
       "    <tr style=\"text-align: right;\">\n",
       "      <th></th>\n",
       "      <th>n_estimators</th>\n",
       "      <th>max_depth</th>\n",
       "      <th>learning_rate</th>\n",
       "      <th>mean_train_score</th>\n",
       "      <th>mean_test_score</th>\n",
       "    </tr>\n",
       "  </thead>\n",
       "  <tbody>\n",
       "    <tr>\n",
       "      <th>0</th>\n",
       "      <td>80</td>\n",
       "      <td>2</td>\n",
       "      <td>0.7</td>\n",
       "      <td>2708.0233</td>\n",
       "      <td>2733.6691</td>\n",
       "    </tr>\n",
       "    <tr>\n",
       "      <th>1</th>\n",
       "      <td>10</td>\n",
       "      <td>5</td>\n",
       "      <td>0.27</td>\n",
       "      <td>2810.0819</td>\n",
       "      <td>2827.7416</td>\n",
       "    </tr>\n",
       "    <tr>\n",
       "      <th>2</th>\n",
       "      <td>20</td>\n",
       "      <td>3</td>\n",
       "      <td>0.67</td>\n",
       "      <td>2824.9482</td>\n",
       "      <td>2839.5653</td>\n",
       "    </tr>\n",
       "    <tr>\n",
       "      <th>3</th>\n",
       "      <td>20</td>\n",
       "      <td>6</td>\n",
       "      <td>0.93</td>\n",
       "      <td>2540.9856</td>\n",
       "      <td>2607.6100</td>\n",
       "    </tr>\n",
       "    <tr>\n",
       "      <th>4</th>\n",
       "      <td>90</td>\n",
       "      <td>5</td>\n",
       "      <td>0.66</td>\n",
       "      <td>2320.2009</td>\n",
       "      <td>2432.7069</td>\n",
       "    </tr>\n",
       "    <tr>\n",
       "      <th>5</th>\n",
       "      <td>70</td>\n",
       "      <td>5</td>\n",
       "      <td>0.04</td>\n",
       "      <td>2817.4354</td>\n",
       "      <td>2835.6559</td>\n",
       "    </tr>\n",
       "    <tr>\n",
       "      <th>6</th>\n",
       "      <td>60</td>\n",
       "      <td>3</td>\n",
       "      <td>0.01</td>\n",
       "      <td>3852.4793</td>\n",
       "      <td>3853.7224</td>\n",
       "    </tr>\n",
       "    <tr>\n",
       "      <th>7</th>\n",
       "      <td>10</td>\n",
       "      <td>6</td>\n",
       "      <td>0.17</td>\n",
       "      <td>2930.1829</td>\n",
       "      <td>2941.5130</td>\n",
       "    </tr>\n",
       "  </tbody>\n",
       "</table>\n",
       "</div>"
      ],
      "text/plain": [
       "  n_estimators max_depth learning_rate  mean_train_score  mean_test_score\n",
       "0           80         2           0.7         2708.0233        2733.6691\n",
       "1           10         5          0.27         2810.0819        2827.7416\n",
       "2           20         3          0.67         2824.9482        2839.5653\n",
       "3           20         6          0.93         2540.9856        2607.6100\n",
       "4           90         5          0.66         2320.2009        2432.7069\n",
       "5           70         5          0.04         2817.4354        2835.6559\n",
       "6           60         3          0.01         3852.4793        3853.7224\n",
       "7           10         6          0.17         2930.1829        2941.5130"
      ]
     },
     "execution_count": 70,
     "metadata": {},
     "output_type": "execute_result"
    }
   ],
   "source": [
    "lgbm_grid_search.display_tuning_process()"
   ]
  },
  {
   "cell_type": "code",
   "execution_count": 71,
   "id": "31a230e1-fa89-43a9-bb94-8258ae45008a",
   "metadata": {},
   "outputs": [
    {
     "data": {
      "text/plain": [
       "n_estimators               90\n",
       "max_depth                   5\n",
       "learning_rate            0.66\n",
       "mean_train_score    2320.2009\n",
       "mean_test_score     2432.7069\n",
       "Name: LGBMRegressor, dtype: object"
      ]
     },
     "execution_count": 71,
     "metadata": {},
     "output_type": "execute_result"
    }
   ],
   "source": [
    "lgbm_grid_search.display_tuning_process(best_iter=True)"
   ]
  },
  {
   "cell_type": "markdown",
   "id": "4da7b143-fcc3-458a-bacd-19c2cb01955f",
   "metadata": {},
   "source": [
    "**Summary**\n",
    "\n",
    "At this stage, a series of hyperparameter tunings was carried out as a result of which we have managed to find optimal combinations of hyperparameters in each of the models considered."
   ]
  },
  {
   "cell_type": "markdown",
   "id": "9f445a72-9e3a-4cbd-a83b-9d9f5c9dbc73",
   "metadata": {},
   "source": [
    "## Models analysis"
   ]
  },
  {
   "cell_type": "markdown",
   "id": "2d144bdb-df8e-42c9-af55-eac4cb3978f5",
   "metadata": {},
   "source": [
    "Grid search enabled us to find a range of optimal models, among which we will have to choose one that adheres to the requirements. Firstly, let's compute the time of training and predicting the models chosen during hyperparameter tuning."
   ]
  },
  {
   "cell_type": "code",
   "execution_count": 72,
   "id": "752bf270-af80-4cd2-9e58-a0582b478130",
   "metadata": {},
   "outputs": [],
   "source": [
    "# Best models\n",
    "models = (\n",
    "    decision_tree_grid_search.best_estimator_,\n",
    "    random_forest_grid_search.best_estimator_,\n",
    "    catboost_grid_search.best_estimator_,\n",
    "    xgb_grid_search.best_estimator_,\n",
    "    lgbm_grid_search.best_estimator_,\n",
    ")\n",
    "\n",
    "# Computing training time and prediction time\n",
    "training_time = []\n",
    "prediction_time = []\n",
    "\n",
    "for model in models:\n",
    "    # Calculating training time\n",
    "    start = time()\n",
    "    model.fit(features_train, target_train)\n",
    "    end = time() - start\n",
    "    training_time.append(end)\n",
    "\n",
    "    # Calculating prediction time\n",
    "    start = time()\n",
    "    model.predict(features_test)\n",
    "    end = time() - start\n",
    "    prediction_time.append(end)"
   ]
  },
  {
   "cell_type": "markdown",
   "id": "9dbb6ed2-8062-4c8d-b9db-16eabb14fa41",
   "metadata": {},
   "source": [
    "Now, we can create a summary table that will store information about different models along with their *RMSE* values as well as training/prediction time (in seconds)."
   ]
  },
  {
   "cell_type": "code",
   "execution_count": 73,
   "id": "ab29caeb-c1f1-485a-9973-9ceec13b42a2",
   "metadata": {},
   "outputs": [
    {
     "data": {
      "text/html": [
       "<div>\n",
       "<style scoped>\n",
       "    .dataframe tbody tr th:only-of-type {\n",
       "        vertical-align: middle;\n",
       "    }\n",
       "\n",
       "    .dataframe tbody tr th {\n",
       "        vertical-align: top;\n",
       "    }\n",
       "\n",
       "    .dataframe thead th {\n",
       "        text-align: right;\n",
       "    }\n",
       "</style>\n",
       "<table border=\"1\" class=\"dataframe\">\n",
       "  <thead>\n",
       "    <tr style=\"text-align: right;\">\n",
       "      <th></th>\n",
       "      <th>max_depth</th>\n",
       "      <th>n_estimators</th>\n",
       "      <th>learning_rate</th>\n",
       "      <th>rmse</th>\n",
       "      <th>training_time</th>\n",
       "      <th>prediction_time</th>\n",
       "    </tr>\n",
       "  </thead>\n",
       "  <tbody>\n",
       "    <tr>\n",
       "      <th>CatBoostRegressor</th>\n",
       "      <td>7</td>\n",
       "      <td>90.0</td>\n",
       "      <td>0.65</td>\n",
       "      <td>2417.75</td>\n",
       "      <td>1.69</td>\n",
       "      <td>0.29</td>\n",
       "    </tr>\n",
       "    <tr>\n",
       "      <th>LGBMRegressor</th>\n",
       "      <td>5</td>\n",
       "      <td>90.0</td>\n",
       "      <td>0.66</td>\n",
       "      <td>2432.71</td>\n",
       "      <td>0.75</td>\n",
       "      <td>0.29</td>\n",
       "    </tr>\n",
       "    <tr>\n",
       "      <th>XGBRegressor</th>\n",
       "      <td>5</td>\n",
       "      <td>50.0</td>\n",
       "      <td>0.51</td>\n",
       "      <td>2527.47</td>\n",
       "      <td>1.34</td>\n",
       "      <td>0.23</td>\n",
       "    </tr>\n",
       "    <tr>\n",
       "      <th>DecisionTreeRegressor</th>\n",
       "      <td>8</td>\n",
       "      <td>NaN</td>\n",
       "      <td>NaN</td>\n",
       "      <td>2875.32</td>\n",
       "      <td>0.56</td>\n",
       "      <td>0.12</td>\n",
       "    </tr>\n",
       "    <tr>\n",
       "      <th>RandomForestRegressor</th>\n",
       "      <td>5</td>\n",
       "      <td>10.0</td>\n",
       "      <td>NaN</td>\n",
       "      <td>3067.64</td>\n",
       "      <td>1.25</td>\n",
       "      <td>0.17</td>\n",
       "    </tr>\n",
       "  </tbody>\n",
       "</table>\n",
       "</div>"
      ],
      "text/plain": [
       "                       max_depth  n_estimators  learning_rate     rmse  \\\n",
       "CatBoostRegressor              7          90.0           0.65  2417.75   \n",
       "LGBMRegressor                  5          90.0           0.66  2432.71   \n",
       "XGBRegressor                   5          50.0           0.51  2527.47   \n",
       "DecisionTreeRegressor          8           NaN            NaN  2875.32   \n",
       "RandomForestRegressor          5          10.0            NaN  3067.64   \n",
       "\n",
       "                       training_time  prediction_time  \n",
       "CatBoostRegressor               1.69             0.29  \n",
       "LGBMRegressor                   0.75             0.29  \n",
       "XGBRegressor                    1.34             0.23  \n",
       "DecisionTreeRegressor           0.56             0.12  \n",
       "RandomForestRegressor           1.25             0.17  "
      ]
     },
     "execution_count": 73,
     "metadata": {},
     "output_type": "execute_result"
    }
   ],
   "source": [
    "# Model names\n",
    "model_names = [\n",
    "    type(decision_tree_grid_search.best_estimator_[\"model\"]).__name__,\n",
    "    type(random_forest_grid_search.best_estimator_[\"model\"]).__name__,\n",
    "    type(catboost_grid_search.best_estimator_[\"model\"]).__name__,\n",
    "    type(xgb_grid_search.best_estimator_[\"model\"]).__name__,\n",
    "    type(lgbm_grid_search.best_estimator_[\"model\"]).__name__,\n",
    "]\n",
    "\n",
    "# Best hyperparameters\n",
    "hyperparameters = [\n",
    "    decision_tree_grid_search.best_params_,\n",
    "    random_forest_grid_search.best_params_,\n",
    "    catboost_grid_search.best_params_,\n",
    "    xgb_grid_search.best_params_,\n",
    "    lgbm_grid_search.best_params_,\n",
    "]\n",
    "\n",
    "final_comparison_df = pd.DataFrame(data=hyperparameters, index=model_names)\n",
    "\n",
    "# Adding new data\n",
    "final_comparison_df[\"rmse\"] = [\n",
    "    -decision_tree_grid_search.best_score_,\n",
    "    -random_forest_grid_search.best_score_,\n",
    "    -catboost_grid_search.best_score_,\n",
    "    -xgb_grid_search.best_score_,\n",
    "    -lgbm_grid_search.best_score_,\n",
    "]\n",
    "final_comparison_df[\"training_time\"] = training_time\n",
    "final_comparison_df[\"prediction_time\"] = prediction_time\n",
    "\n",
    "final_comparison_df.columns = final_comparison_df.columns.str.replace(\"model__\", \"\")\n",
    "final_comparison_df = final_comparison_df.round(2)\n",
    "final_comparison_df.sort_values(by=\"rmse\")"
   ]
  },
  {
   "cell_type": "markdown",
   "id": "0ff92810-7875-44f4-b309-983a91db8961",
   "metadata": {},
   "source": [
    "The key metric that we will use for selecting the optimal model will be *RMSE* so let's now determine the model that we will ultimately choose."
   ]
  },
  {
   "cell_type": "code",
   "execution_count": 74,
   "id": "f0455839-d752-4103-b266-f24f8ddbc34a",
   "metadata": {},
   "outputs": [
    {
     "data": {
      "text/plain": [
       "max_depth             7.00\n",
       "n_estimators         90.00\n",
       "learning_rate         0.65\n",
       "rmse               2417.75\n",
       "training_time         1.69\n",
       "prediction_time       0.29\n",
       "Name: CatBoostRegressor, dtype: float64"
      ]
     },
     "execution_count": 74,
     "metadata": {},
     "output_type": "execute_result"
    }
   ],
   "source": [
    "# Grids\n",
    "grids = (\n",
    "    decision_tree_grid_search,\n",
    "    random_forest_grid_search,\n",
    "    catboost_grid_search,\n",
    "    xgb_grid_search,\n",
    "    lgbm_grid_search,\n",
    ")\n",
    "\n",
    "# Selecting the final model\n",
    "final_score = np.Inf\n",
    "final_grid = None\n",
    "for grid in grids:\n",
    "    score = -grid.best_score_\n",
    "    if score < final_score:\n",
    "        final_score = score\n",
    "        final_grid = grid\n",
    "\n",
    "# Displaying the final model\n",
    "final_model = final_grid.best_estimator_\n",
    "final_comparison_df.loc[type(final_model[\"model\"]).__name__]"
   ]
  },
  {
   "cell_type": "markdown",
   "id": "d81a104e-3081-4423-bccf-5d2d8f519f80",
   "metadata": {},
   "source": [
    "**Summary**\n",
    "\n",
    "After comparing the models, we choose *XGBRegressor* for predicting prices."
   ]
  },
  {
   "cell_type": "markdown",
   "id": "6d9b43c5-c840-45d5-9caf-f8e6e73134c9",
   "metadata": {},
   "source": [
    "## Feature importances"
   ]
  },
  {
   "cell_type": "markdown",
   "id": "d6788eea-720f-47da-b42c-5423d8e38fe6",
   "metadata": {},
   "source": [
    "Let's now consider the features which made a particular contribution to the model and plot their respective importances."
   ]
  },
  {
   "cell_type": "code",
   "execution_count": 75,
   "id": "0284ce46-214a-4295-8542-0b6e7f01fd6f",
   "metadata": {},
   "outputs": [
    {
     "data": {
      "image/png": "[encoded data removed]",
      "text/plain": [
       "<Figure size 640x480 with 1 Axes>"
      ]
     },
     "metadata": {},
     "output_type": "display_data"
    }
   ],
   "source": [
    "# Plotting feature importances\n",
    "feature_importances = pd.Series(\n",
    "    final_model[\"model\"].feature_importances_,\n",
    "    index=final_model[\"preprocessor\"].get_feature_names_out(),\n",
    ").sort_values()\n",
    "\n",
    "feature_importances.tail().plot(kind=\"barh\", color=\"orange\")\n",
    "\n",
    "plt.title(\"Top-5 feature importances\")\n",
    "plt.ylabel(\"Features\")\n",
    "plt.xlabel(\"Score\")\n",
    "plt.tight_layout()\n",
    "plt.show()"
   ]
  },
  {
   "cell_type": "markdown",
   "id": "f8f9b6ae-1d21-4ae5-9897-4735fe57d5da",
   "metadata": {},
   "source": [
    "**Summary**\n",
    "\n",
    "In this small section we have seen that `kilometer` and `power` features are particularly important when predicting car prices."
   ]
  },
  {
   "cell_type": "markdown",
   "id": "c40cc007-7b00-4a24-9f9c-d58e300e9084",
   "metadata": {},
   "source": [
    "## Testing"
   ]
  },
  {
   "cell_type": "markdown",
   "id": "295c5ac6-9799-449b-885a-cbb2a6fbe3a0",
   "metadata": {},
   "source": [
    "Let's check the model for predictive quality and adequacy on the test set."
   ]
  },
  {
   "cell_type": "code",
   "execution_count": 76,
   "id": "187df00b-1321-4d42-83ac-6d98f579b060",
   "metadata": {},
   "outputs": [
    {
     "name": "stdout",
     "output_type": "stream",
     "text": [
      "Test score: 2369.1868\n"
     ]
    }
   ],
   "source": [
    "# Testing the final model\n",
    "rmse_test = final_grid.compute_regression_stats(metric=\"rmse\")\n",
    "assert rmse_test < RMSE_THRESHOLD, \"Model quality is insufficient\"\n",
    "\n",
    "print(f\"Test score: {rmse_test:.4f}\")"
   ]
  },
  {
   "cell_type": "code",
   "execution_count": 77,
   "id": "052c7e95-4a97-4953-9674-50252b84e1e5",
   "metadata": {},
   "outputs": [
    {
     "name": "stdout",
     "output_type": "stream",
     "text": [
      "Model is adequate\n"
     ]
    }
   ],
   "source": [
    "# Comparing with dummy model\n",
    "dummy_model = DummyRegressor(strategy=\"median\")\n",
    "dummy_model.fit(features_train, target_train)\n",
    "predictions_dummy = dummy_model.predict(features_test)\n",
    "rmse_dummy = mean_squared_error(predictions_dummy, target_test, squared=False)\n",
    "\n",
    "assert rmse_test < rmse_dummy, \"Model is inadequate\"\n",
    "\n",
    "print(\"Model is adequate\")"
   ]
  },
  {
   "cell_type": "markdown",
   "id": "d4b6e112-a3ad-4723-a5c3-bfd0d551b996",
   "metadata": {},
   "source": [
    "The model passed all checks so we can now save the trained model in a file."
   ]
  },
  {
   "cell_type": "code",
   "execution_count": 78,
   "id": "736b8277-16c1-4afa-8332-40c4b4b5f109",
   "metadata": {},
   "outputs": [
    {
     "data": {
      "text/plain": [
       "['final_model_trained.joblib']"
      ]
     },
     "execution_count": 78,
     "metadata": {},
     "output_type": "execute_result"
    }
   ],
   "source": [
    "# Saving the final model\n",
    "dump(final_model, \"final_model_trained.joblib\")"
   ]
  },
  {
   "cell_type": "markdown",
   "id": "a2b2ae9a-ea07-4b2e-9b03-b5f703a02376",
   "metadata": {},
   "source": [
    "## Final conclusion"
   ]
  },
  {
   "cell_type": "markdown",
   "id": "db5fe751-1ba5-43aa-b540-7ad34440569a",
   "metadata": {},
   "source": [
    "This study was devoted to building and selecting the optimal model for determining the cost of the car. The data was uploaded, analyzed and visualized, as well as preprocessed. Moreover, the data was appropriately prepared using transformers and pipelines for machine learning algorithms and hyperparameter selection, as a result of which we were able to identify the optimal model that meets the customer's requirements.\n",
    "\n",
    "In the process of searching for a model, two classes of models were considered: conventional machine learning models and gradient boosting models. Based on the results of a random search for optimal combinations of hyperparameters, the choice fell on the *CatBoostRegressor* model from the `catboost` library, which not only was able to pass the test for compliance with proper quality and sanity, but also showed good results in terms of speed and training time/predictions."
   ]
  }
 ],
 "metadata": {
  "kernelspec": {
   "display_name": "Python 3 (ipykernel)",
   "language": "python",
   "name": "python3"
  },
  "language_info": {
   "codemirror_mode": {
    "name": "ipython",
    "version": 3
   },
   "file_extension": ".py",
   "mimetype": "text/x-python",
   "name": "python",
   "nbconvert_exporter": "python",
   "pygments_lexer": "ipython3",
   "version": "3.9.13"
  },
  "toc": {
   "base_numbering": 1,
   "nav_menu": {},
   "number_sections": true,
   "sideBar": true,
   "skip_h1_title": true,
   "title_cell": "Table of Contents",
   "title_sidebar": "Contents",
   "toc_cell": true,
   "toc_position": {},
   "toc_section_display": true,
   "toc_window_display": false
  }
 },
 "nbformat": 4,
 "nbformat_minor": 5
}
