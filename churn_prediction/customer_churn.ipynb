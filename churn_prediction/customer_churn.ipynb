{
 "cells": [
  {
   "cell_type": "markdown",
   "id": "843a7c44-f85b-4403-9956-828a970df4a7",
   "metadata": {},
   "source": [
    "# Data preparation"
   ]
  },
  {
   "cell_type": "markdown",
   "id": "55594083-9a60-4f67-936b-7a5e88818ae3",
   "metadata": {},
   "source": [
    "In order to start running machine learning algorithms, we will need to prepare data accordingly. Hence, we will have to go through the following data preparation stages:\n",
    "\n",
    "* **Data overview**\n",
    "* **Data preprocessing**\n",
    "* **Data splitting**\n",
    "* **Data encoding**\n",
    "* **Data scaling**"
   ]
  },
  {
   "cell_type": "markdown",
   "id": "40efb402-aeb1-4654-aab2-0d2fa975ae45",
   "metadata": {},
   "source": [
    "## Data overview"
   ]
  },
  {
   "cell_type": "markdown",
   "id": "cf721c66-0d3b-4fb6-a9af-bbd31d610411",
   "metadata": {},
   "source": [
    "Before proceeding to exploring the data, we will need to upload all the necessary libraries, as well as import the data structures and functions that will be needed to conduct the study. Additionally, we will predefine some constants that will be used throughout the study, in particular, sizes of training, validation and test sets."
   ]
  },
  {
   "cell_type": "code",
   "execution_count": 1,
   "id": "faedf338-1690-4d7e-92ff-a44c48504d08",
   "metadata": {},
   "outputs": [],
   "source": [
    "import itertools\n",
    "import re\n",
    "from pprint import PrettyPrinter\n",
    "from typing import Any, Callable, Mapping, Optional, Sequence, Tuple, Union\n",
    "\n",
    "import matplotlib.pyplot as plt\n",
    "import numpy as np\n",
    "import pandas as pd\n",
    "import seaborn as sns\n",
    "from imblearn.over_sampling import SMOTE\n",
    "from imblearn.under_sampling import RandomUnderSampler\n",
    "from IPython.display import display\n",
    "from sklearn.base import BaseEstimator, clone\n",
    "from sklearn.dummy import DummyClassifier\n",
    "from sklearn.ensemble import RandomForestClassifier\n",
    "from sklearn.linear_model import LogisticRegression\n",
    "from sklearn.metrics import (\n",
    "    ConfusionMatrixDisplay,\n",
    "    f1_score,\n",
    "    recall_score,\n",
    "    roc_auc_score,\n",
    ")\n",
    "from sklearn.model_selection import train_test_split\n",
    "from sklearn.preprocessing import OneHotEncoder, StandardScaler\n",
    "from sklearn.tree import DecisionTreeClassifier\n",
    "\n",
    "TRAIN_SET_SIZE = 0.6\n",
    "VALID_SET_SIZE = 0.2\n",
    "TEST_SET_SIZE = 0.2\n",
    "RANDOM_STATE = 12345\n",
    "F1_SCORE_THRESHOLD = 0.59\n",
    "AUC_ROC_THRESHOLD = 0.5"
   ]
  },
  {
   "cell_type": "markdown",
   "id": "457011fc-2cb9-4bd6-b06f-402b9564ef3c",
   "metadata": {},
   "source": [
    "Now that we have access to the `pandas` library, we can read and study the data that has been provided to us."
   ]
  },
  {
   "cell_type": "code",
   "execution_count": 2,
   "id": "8dfff85f-90f2-471e-a241-6d1cc5d5bbf5",
   "metadata": {},
   "outputs": [],
   "source": [
    "# Reading the data\n",
    "clients_data = pd.read_csv(\"datasets/Churn.csv\")"
   ]
  },
  {
   "cell_type": "markdown",
   "id": "4e8f4497-3104-434a-88d3-c04418243aeb",
   "metadata": {},
   "source": [
    "Now, using the `sample()` method, we will display 10 randomly selected rows of the `clients_data` DataFrame in order to see what the data looks like. Additionally, we will configure the random number generator as `random_state=RANDOM_STATE` to ensure reproducibility of the output result."
   ]
  },
  {
   "cell_type": "code",
   "execution_count": 3,
   "id": "cc9141c5-590c-4bff-a692-24da06112d13",
   "metadata": {},
   "outputs": [
    {
     "data": {
      "text/html": [
       "<div>\n",
       "<style scoped>\n",
       "    .dataframe tbody tr th:only-of-type {\n",
       "        vertical-align: middle;\n",
       "    }\n",
       "\n",
       "    .dataframe tbody tr th {\n",
       "        vertical-align: top;\n",
       "    }\n",
       "\n",
       "    .dataframe thead th {\n",
       "        text-align: right;\n",
       "    }\n",
       "</style>\n",
       "<table border=\"1\" class=\"dataframe\">\n",
       "  <thead>\n",
       "    <tr style=\"text-align: right;\">\n",
       "      <th></th>\n",
       "      <th>RowNumber</th>\n",
       "      <th>CustomerId</th>\n",
       "      <th>Surname</th>\n",
       "      <th>CreditScore</th>\n",
       "      <th>Geography</th>\n",
       "      <th>Gender</th>\n",
       "      <th>Age</th>\n",
       "      <th>Tenure</th>\n",
       "      <th>Balance</th>\n",
       "      <th>NumOfProducts</th>\n",
       "      <th>HasCrCard</th>\n",
       "      <th>IsActiveMember</th>\n",
       "      <th>EstimatedSalary</th>\n",
       "      <th>Exited</th>\n",
       "    </tr>\n",
       "  </thead>\n",
       "  <tbody>\n",
       "    <tr>\n",
       "      <th>7867</th>\n",
       "      <td>7868</td>\n",
       "      <td>15697201</td>\n",
       "      <td>Yocum</td>\n",
       "      <td>640</td>\n",
       "      <td>Spain</td>\n",
       "      <td>Female</td>\n",
       "      <td>46</td>\n",
       "      <td>3.0</td>\n",
       "      <td>0.00</td>\n",
       "      <td>1</td>\n",
       "      <td>1</td>\n",
       "      <td>1</td>\n",
       "      <td>156260.08</td>\n",
       "      <td>0</td>\n",
       "    </tr>\n",
       "    <tr>\n",
       "      <th>1402</th>\n",
       "      <td>1403</td>\n",
       "      <td>15613282</td>\n",
       "      <td>Vorobyova</td>\n",
       "      <td>757</td>\n",
       "      <td>France</td>\n",
       "      <td>Male</td>\n",
       "      <td>29</td>\n",
       "      <td>8.0</td>\n",
       "      <td>130306.49</td>\n",
       "      <td>1</td>\n",
       "      <td>1</td>\n",
       "      <td>0</td>\n",
       "      <td>77469.38</td>\n",
       "      <td>0</td>\n",
       "    </tr>\n",
       "    <tr>\n",
       "      <th>8606</th>\n",
       "      <td>8607</td>\n",
       "      <td>15694581</td>\n",
       "      <td>Rawlings</td>\n",
       "      <td>807</td>\n",
       "      <td>Spain</td>\n",
       "      <td>Male</td>\n",
       "      <td>42</td>\n",
       "      <td>5.0</td>\n",
       "      <td>0.00</td>\n",
       "      <td>2</td>\n",
       "      <td>1</td>\n",
       "      <td>1</td>\n",
       "      <td>74900.90</td>\n",
       "      <td>0</td>\n",
       "    </tr>\n",
       "    <tr>\n",
       "      <th>8885</th>\n",
       "      <td>8886</td>\n",
       "      <td>15815125</td>\n",
       "      <td>Michael</td>\n",
       "      <td>668</td>\n",
       "      <td>Spain</td>\n",
       "      <td>Male</td>\n",
       "      <td>45</td>\n",
       "      <td>4.0</td>\n",
       "      <td>102486.21</td>\n",
       "      <td>2</td>\n",
       "      <td>1</td>\n",
       "      <td>1</td>\n",
       "      <td>158379.25</td>\n",
       "      <td>0</td>\n",
       "    </tr>\n",
       "    <tr>\n",
       "      <th>6494</th>\n",
       "      <td>6495</td>\n",
       "      <td>15752846</td>\n",
       "      <td>Pinto</td>\n",
       "      <td>699</td>\n",
       "      <td>France</td>\n",
       "      <td>Male</td>\n",
       "      <td>28</td>\n",
       "      <td>7.0</td>\n",
       "      <td>0.00</td>\n",
       "      <td>2</td>\n",
       "      <td>1</td>\n",
       "      <td>1</td>\n",
       "      <td>22684.78</td>\n",
       "      <td>0</td>\n",
       "    </tr>\n",
       "    <tr>\n",
       "      <th>9628</th>\n",
       "      <td>9629</td>\n",
       "      <td>15596624</td>\n",
       "      <td>Topp</td>\n",
       "      <td>662</td>\n",
       "      <td>France</td>\n",
       "      <td>Female</td>\n",
       "      <td>22</td>\n",
       "      <td>9.0</td>\n",
       "      <td>0.00</td>\n",
       "      <td>2</td>\n",
       "      <td>1</td>\n",
       "      <td>1</td>\n",
       "      <td>44377.65</td>\n",
       "      <td>0</td>\n",
       "    </tr>\n",
       "    <tr>\n",
       "      <th>7459</th>\n",
       "      <td>7460</td>\n",
       "      <td>15583724</td>\n",
       "      <td>Raymond</td>\n",
       "      <td>645</td>\n",
       "      <td>Spain</td>\n",
       "      <td>Female</td>\n",
       "      <td>29</td>\n",
       "      <td>4.0</td>\n",
       "      <td>0.00</td>\n",
       "      <td>2</td>\n",
       "      <td>1</td>\n",
       "      <td>1</td>\n",
       "      <td>74346.11</td>\n",
       "      <td>0</td>\n",
       "    </tr>\n",
       "    <tr>\n",
       "      <th>3964</th>\n",
       "      <td>3965</td>\n",
       "      <td>15714981</td>\n",
       "      <td>Sabbatini</td>\n",
       "      <td>476</td>\n",
       "      <td>France</td>\n",
       "      <td>Male</td>\n",
       "      <td>37</td>\n",
       "      <td>4.0</td>\n",
       "      <td>0.00</td>\n",
       "      <td>1</td>\n",
       "      <td>1</td>\n",
       "      <td>1</td>\n",
       "      <td>55775.84</td>\n",
       "      <td>1</td>\n",
       "    </tr>\n",
       "    <tr>\n",
       "      <th>7000</th>\n",
       "      <td>7001</td>\n",
       "      <td>15739548</td>\n",
       "      <td>Johnson</td>\n",
       "      <td>775</td>\n",
       "      <td>France</td>\n",
       "      <td>Male</td>\n",
       "      <td>28</td>\n",
       "      <td>9.0</td>\n",
       "      <td>111167.70</td>\n",
       "      <td>1</td>\n",
       "      <td>1</td>\n",
       "      <td>0</td>\n",
       "      <td>149331.01</td>\n",
       "      <td>0</td>\n",
       "    </tr>\n",
       "    <tr>\n",
       "      <th>4470</th>\n",
       "      <td>4471</td>\n",
       "      <td>15593795</td>\n",
       "      <td>Linton</td>\n",
       "      <td>516</td>\n",
       "      <td>Germany</td>\n",
       "      <td>Female</td>\n",
       "      <td>53</td>\n",
       "      <td>NaN</td>\n",
       "      <td>156674.20</td>\n",
       "      <td>1</td>\n",
       "      <td>1</td>\n",
       "      <td>0</td>\n",
       "      <td>118502.34</td>\n",
       "      <td>1</td>\n",
       "    </tr>\n",
       "  </tbody>\n",
       "</table>\n",
       "</div>"
      ],
      "text/plain": [
       "      RowNumber  CustomerId    Surname  CreditScore Geography  Gender  Age  \\\n",
       "7867       7868    15697201      Yocum          640     Spain  Female   46   \n",
       "1402       1403    15613282  Vorobyova          757    France    Male   29   \n",
       "8606       8607    15694581   Rawlings          807     Spain    Male   42   \n",
       "8885       8886    15815125    Michael          668     Spain    Male   45   \n",
       "6494       6495    15752846      Pinto          699    France    Male   28   \n",
       "9628       9629    15596624       Topp          662    France  Female   22   \n",
       "7459       7460    15583724    Raymond          645     Spain  Female   29   \n",
       "3964       3965    15714981  Sabbatini          476    France    Male   37   \n",
       "7000       7001    15739548    Johnson          775    France    Male   28   \n",
       "4470       4471    15593795     Linton          516   Germany  Female   53   \n",
       "\n",
       "      Tenure    Balance  NumOfProducts  HasCrCard  IsActiveMember  \\\n",
       "7867     3.0       0.00              1          1               1   \n",
       "1402     8.0  130306.49              1          1               0   \n",
       "8606     5.0       0.00              2          1               1   \n",
       "8885     4.0  102486.21              2          1               1   \n",
       "6494     7.0       0.00              2          1               1   \n",
       "9628     9.0       0.00              2          1               1   \n",
       "7459     4.0       0.00              2          1               1   \n",
       "3964     4.0       0.00              1          1               1   \n",
       "7000     9.0  111167.70              1          1               0   \n",
       "4470     NaN  156674.20              1          1               0   \n",
       "\n",
       "      EstimatedSalary  Exited  \n",
       "7867        156260.08       0  \n",
       "1402         77469.38       0  \n",
       "8606         74900.90       0  \n",
       "8885        158379.25       0  \n",
       "6494         22684.78       0  \n",
       "9628         44377.65       0  \n",
       "7459         74346.11       0  \n",
       "3964         55775.84       1  \n",
       "7000        149331.01       0  \n",
       "4470        118502.34       1  "
      ]
     },
     "metadata": {},
     "output_type": "display_data"
    }
   ],
   "source": [
    "# Displaying 10 randomly selected rows\n",
    "display(clients_data.sample(10, random_state=RANDOM_STATE))"
   ]
  },
  {
   "cell_type": "markdown",
   "id": "6d85976e-a810-4fca-b523-e510c5c0d7dd",
   "metadata": {},
   "source": [
    "So, at first glance, we see quite a large number of features, not all of which we will need in the modeling process. We also see the target variable `Exited`, the behavior of which we will be interested in during this study. Obviously, in this case we will solve the problem of binary classification: the target is made up of zeros and ones (binary target) so, at first glance, the target has been encoded correctly. However, we cannot state anything with certainty about the data by looking at 10 rows of the DataFrame. Let's look deeper into the data and output general information about it using the `info()` method."
   ]
  },
  {
   "cell_type": "code",
   "execution_count": 4,
   "id": "051ae424-79a2-4d45-8d3f-af0c99ffce42",
   "metadata": {},
   "outputs": [
    {
     "name": "stdout",
     "output_type": "stream",
     "text": [
      "<class 'pandas.core.frame.DataFrame'>\n",
      "RangeIndex: 10000 entries, 0 to 9999\n",
      "Data columns (total 14 columns):\n",
      " #   Column           Non-Null Count  Dtype  \n",
      "---  ------           --------------  -----  \n",
      " 0   RowNumber        10000 non-null  int64  \n",
      " 1   CustomerId       10000 non-null  int64  \n",
      " 2   Surname          10000 non-null  object \n",
      " 3   CreditScore      10000 non-null  int64  \n",
      " 4   Geography        10000 non-null  object \n",
      " 5   Gender           10000 non-null  object \n",
      " 6   Age              10000 non-null  int64  \n",
      " 7   Tenure           9091 non-null   float64\n",
      " 8   Balance          10000 non-null  float64\n",
      " 9   NumOfProducts    10000 non-null  int64  \n",
      " 10  HasCrCard        10000 non-null  int64  \n",
      " 11  IsActiveMember   10000 non-null  int64  \n",
      " 12  EstimatedSalary  10000 non-null  float64\n",
      " 13  Exited           10000 non-null  int64  \n",
      "dtypes: float64(3), int64(8), object(3)\n",
      "memory usage: 1.1+ MB\n"
     ]
    }
   ],
   "source": [
    "clients_data.info()"
   ]
  },
  {
   "cell_type": "markdown",
   "id": "55afca73-ebfa-4336-9dcb-7068d0641aea",
   "metadata": {},
   "source": [
    "We observe the following. The DataFrame contains data on 10,000 clients of \"Beta Bank\", which are characterized by 14 columns: 13 features and one target variable. As we can see, the data is expressed by different data types: `float64`, `int64` and `object`. Let's see in more detail what columns the DataFrame contains and what information they include:"
   ]
  },
  {
   "cell_type": "markdown",
   "id": "2176a994-2c0b-4a21-aa9c-37c5d193c523",
   "metadata": {},
   "source": [
    "<table>\n",
    "<thead>\n",
    "<tr><th>Features</th><th>Description</th></tr>\n",
    "</thead>\n",
    "<tbody>\n",
    "<tr><td><code>RowNumber</code></td><td><i>Index of a row in the data</i></td></tr>\n",
    "<tr><td><code>CustomerID</code></td><td><i>Unique identifier of a customer</i></td></tr>\n",
    "<tr><td><code>Surname</code></td><td><i>Client's last name</i></td></tr>\n",
    "<tr><td><code>CreditScore</code></td><td><i>Client's credit rating</i></td></tr>\n",
    "<tr><td><code>Geography</code></td><td><i>Client's country of residence</i></td></tr>\n",
    "<tr><td><code>Gender</code></td><td><i>Gender of a client</i></td></tr>\n",
    "<tr><td><code>Age</code></td><td><i>Age of a client</i></td></tr>\n",
    "<tr><td><code>Tenure</code></td><td><i>Duration of the bank's client status (years)</i></td></tr>\n",
    "<tr><td><code>NumOfProducts</code></td><td><i>Number of bank products used by a client</i></td></tr>\n",
    "<tr><td><code>HasCrCard</code></td><td><i>Credit card availability indicator</i></td></tr>\n",
    "<tr><td><code>IsActiveMember</code></td><td><i>Client activity indicator</i></td></tr>\n",
    "<tr><td><code>EstimatedSalary</code></td><td><i>Estimated salary of a client</i></td></tr>\n",
    "<tr><td><code>Exited</code></td><td><i>Indicator of whether a client has churned</i></td></tr>\n",
    "</tbody>\n",
    "</table>"
   ]
  },
  {
   "cell_type": "markdown",
   "id": "a1cb5361-9749-46bc-ae0a-d0ccce166ce7",
   "metadata": {},
   "source": [
    "Next, we see that the number of `non-null` values is equal to the total number of objects in the dataset from column to column, with the exception of one column - `Tenure`. Moreover, this column should be characterized by an integer, not a floating data type (years cannot be fractional). Finally, the column names do not correspond to the standard of column names."
   ]
  },
  {
   "cell_type": "markdown",
   "id": "20c421e3-3bb4-4483-97e0-a2e578e94dca",
   "metadata": {},
   "source": [
    "To conclude data overview step, let's build some histograms for the DataFrame we have."
   ]
  },
  {
   "cell_type": "code",
   "execution_count": 5,
   "id": "fc684f9e-b4b3-47be-9a4b-72b2d3d041c3",
   "metadata": {},
   "outputs": [
    {
     "data": {
      "image/png": "[encoded data removed]",
      "text/plain": [
       "<Figure size 1500x2000 with 12 Axes>"
      ]
     },
     "metadata": {},
     "output_type": "display_data"
    }
   ],
   "source": [
    "# Plotting histograms for all numeric columns\n",
    "sns.set_theme(style=\"darkgrid\")\n",
    "clients_data.hist(figsize=(15, 20))\n",
    "plt.show()"
   ]
  },
  {
   "cell_type": "markdown",
   "id": "f01482ba-4a4f-489e-9257-9421c5d16951",
   "metadata": {},
   "source": [
    "The `RowNumber` and `CustomerID` columns are not of interest to us, unlike the others. We see that the `Credit Score` and `Age` columns have a distribution close to normal, but with some skew. The columns `Tenure`, `Balance` and `EstimatedSalary` have distributions of a different form. The remaining variables have a limited number of values that they can take, which can be seen on the histograms. As for the target variable, we see that approximately 2,000 of the bank's customers have terminated their contracts and left, whilst the remaining 8,000 of them are still considered bank customers. Thus, the classes are unbalanced, which has to be dealt with after data preparation."
   ]
  },
  {
   "cell_type": "markdown",
   "id": "405fe2a8-2298-4a56-b901-5128393c983f",
   "metadata": {},
   "source": [
    "## Data preprocessing"
   ]
  },
  {
   "cell_type": "markdown",
   "id": "be6a5e28-e812-4080-988a-e66c9f3273c2",
   "metadata": {},
   "source": [
    "Now it is necessary to perform data preprocessing. We don't need to do a large number of conversions: we just need to process the missing values and perform a type conversion in the `Tenure` column, as well as change the column names to those that will be easier to work with. Additionally, we will count the number of explicit duplicates, that is, identical rows."
   ]
  },
  {
   "cell_type": "markdown",
   "id": "9ed83e24-356a-4e11-becf-9db622e456e2",
   "metadata": {},
   "source": [
    "### Renaming columns"
   ]
  },
  {
   "cell_type": "markdown",
   "id": "ea37a9e2-ae2d-4d8d-ac47-86ac3f631c20",
   "metadata": {},
   "source": [
    "Let's start by changing the column names. In this case, we essentially need to put underscores between individual words (distinguishable by the uppercase letter) in the column names, and then make all uppercase letters lowercase. Here we can proceed, for example, in two ways:\n",
    "\n",
    "1. On the one hand, we can do this directly: we can pass to the `columns` parameter of the `rename()` function a dictionary with old names (keys) and new names (values) as an argument. This is a working method, but filling in such a dictionary manually will take some time (we will need to manually type in 14 keys and 14 values). \n",
    "\n",
    "2. On the other hand, it is possible to use the functionality of regular expressions from the `re` library."
   ]
  },
  {
   "cell_type": "code",
   "execution_count": 6,
   "id": "b0ae8316-8305-4580-9ce5-7e09fec0ddfb",
   "metadata": {},
   "outputs": [],
   "source": [
    "# Changing column names using regexes\n",
    "clients_data = clients_data.rename(\n",
    "    columns=lambda col_name: re.sub(\"(?<=[a-z])(?=[A-Z])\", \"_\", col_name).lower()\n",
    ")"
   ]
  },
  {
   "cell_type": "markdown",
   "id": "d8055687-a761-4aff-b2d5-0692c6d54673",
   "metadata": {},
   "source": [
    "Let's explain exactly how we replaced the column names. Firstly, using the `rename()` function, we pass to its `columns` parameter not a dictionary, but an anonymous lambda function, which essentially returns the result of performing some operation on the column names of the `clients_data` DataFrame. We change the column name using the `sub()` function from the regular expressions library `re`. The function takes in 3 parameters: \n",
    "\n",
    "* Certain pattern to be found inside the row (in this case, the row is the name of the column);\n",
    "* What we need to replace a certain place in the row with; \n",
    "* The row itself where we need to look for matches. \n",
    "\n",
    "The last two arguments are clear, but let's explain how we made up the pattern. As mentioned before, we need to put underscores before each capital letter (except for the capital letter at the beginning of the column name). This is exactly what is done by the pattern `\"(?<=[a-z])(?=[A-Z])\"`, which finds all the places in the string between any lowercase letter and any subsequent uppercase letter. The function then places underscores in such places. Finally, we convert the column name to lowercase to get the result. \n",
    "\n",
    "Let's see if it was possible to correctly replace the column names by displaying the last five rows of the DataFrame."
   ]
  },
  {
   "cell_type": "code",
   "execution_count": 7,
   "id": "a3d48bf0-defe-43d5-b23b-3357c37a3181",
   "metadata": {},
   "outputs": [
    {
     "data": {
      "text/html": [
       "<div>\n",
       "<style scoped>\n",
       "    .dataframe tbody tr th:only-of-type {\n",
       "        vertical-align: middle;\n",
       "    }\n",
       "\n",
       "    .dataframe tbody tr th {\n",
       "        vertical-align: top;\n",
       "    }\n",
       "\n",
       "    .dataframe thead th {\n",
       "        text-align: right;\n",
       "    }\n",
       "</style>\n",
       "<table border=\"1\" class=\"dataframe\">\n",
       "  <thead>\n",
       "    <tr style=\"text-align: right;\">\n",
       "      <th></th>\n",
       "      <th>row_number</th>\n",
       "      <th>customer_id</th>\n",
       "      <th>surname</th>\n",
       "      <th>credit_score</th>\n",
       "      <th>geography</th>\n",
       "      <th>gender</th>\n",
       "      <th>age</th>\n",
       "      <th>tenure</th>\n",
       "      <th>balance</th>\n",
       "      <th>num_of_products</th>\n",
       "      <th>has_cr_card</th>\n",
       "      <th>is_active_member</th>\n",
       "      <th>estimated_salary</th>\n",
       "      <th>exited</th>\n",
       "    </tr>\n",
       "  </thead>\n",
       "  <tbody>\n",
       "    <tr>\n",
       "      <th>9995</th>\n",
       "      <td>9996</td>\n",
       "      <td>15606229</td>\n",
       "      <td>Obijiaku</td>\n",
       "      <td>771</td>\n",
       "      <td>France</td>\n",
       "      <td>Male</td>\n",
       "      <td>39</td>\n",
       "      <td>5.0</td>\n",
       "      <td>0.00</td>\n",
       "      <td>2</td>\n",
       "      <td>1</td>\n",
       "      <td>0</td>\n",
       "      <td>96270.64</td>\n",
       "      <td>0</td>\n",
       "    </tr>\n",
       "    <tr>\n",
       "      <th>9996</th>\n",
       "      <td>9997</td>\n",
       "      <td>15569892</td>\n",
       "      <td>Johnstone</td>\n",
       "      <td>516</td>\n",
       "      <td>France</td>\n",
       "      <td>Male</td>\n",
       "      <td>35</td>\n",
       "      <td>10.0</td>\n",
       "      <td>57369.61</td>\n",
       "      <td>1</td>\n",
       "      <td>1</td>\n",
       "      <td>1</td>\n",
       "      <td>101699.77</td>\n",
       "      <td>0</td>\n",
       "    </tr>\n",
       "    <tr>\n",
       "      <th>9997</th>\n",
       "      <td>9998</td>\n",
       "      <td>15584532</td>\n",
       "      <td>Liu</td>\n",
       "      <td>709</td>\n",
       "      <td>France</td>\n",
       "      <td>Female</td>\n",
       "      <td>36</td>\n",
       "      <td>7.0</td>\n",
       "      <td>0.00</td>\n",
       "      <td>1</td>\n",
       "      <td>0</td>\n",
       "      <td>1</td>\n",
       "      <td>42085.58</td>\n",
       "      <td>1</td>\n",
       "    </tr>\n",
       "    <tr>\n",
       "      <th>9998</th>\n",
       "      <td>9999</td>\n",
       "      <td>15682355</td>\n",
       "      <td>Sabbatini</td>\n",
       "      <td>772</td>\n",
       "      <td>Germany</td>\n",
       "      <td>Male</td>\n",
       "      <td>42</td>\n",
       "      <td>3.0</td>\n",
       "      <td>75075.31</td>\n",
       "      <td>2</td>\n",
       "      <td>1</td>\n",
       "      <td>0</td>\n",
       "      <td>92888.52</td>\n",
       "      <td>1</td>\n",
       "    </tr>\n",
       "    <tr>\n",
       "      <th>9999</th>\n",
       "      <td>10000</td>\n",
       "      <td>15628319</td>\n",
       "      <td>Walker</td>\n",
       "      <td>792</td>\n",
       "      <td>France</td>\n",
       "      <td>Female</td>\n",
       "      <td>28</td>\n",
       "      <td>NaN</td>\n",
       "      <td>130142.79</td>\n",
       "      <td>1</td>\n",
       "      <td>1</td>\n",
       "      <td>0</td>\n",
       "      <td>38190.78</td>\n",
       "      <td>0</td>\n",
       "    </tr>\n",
       "  </tbody>\n",
       "</table>\n",
       "</div>"
      ],
      "text/plain": [
       "      row_number  customer_id    surname  credit_score geography  gender  age  \\\n",
       "9995        9996     15606229   Obijiaku           771    France    Male   39   \n",
       "9996        9997     15569892  Johnstone           516    France    Male   35   \n",
       "9997        9998     15584532        Liu           709    France  Female   36   \n",
       "9998        9999     15682355  Sabbatini           772   Germany    Male   42   \n",
       "9999       10000     15628319     Walker           792    France  Female   28   \n",
       "\n",
       "      tenure    balance  num_of_products  has_cr_card  is_active_member  \\\n",
       "9995     5.0       0.00                2            1                 0   \n",
       "9996    10.0   57369.61                1            1                 1   \n",
       "9997     7.0       0.00                1            0                 1   \n",
       "9998     3.0   75075.31                2            1                 0   \n",
       "9999     NaN  130142.79                1            1                 0   \n",
       "\n",
       "      estimated_salary  exited  \n",
       "9995          96270.64       0  \n",
       "9996         101699.77       0  \n",
       "9997          42085.58       1  \n",
       "9998          92888.52       1  \n",
       "9999          38190.78       0  "
      ]
     },
     "metadata": {},
     "output_type": "display_data"
    }
   ],
   "source": [
    "display(clients_data.tail())"
   ]
  },
  {
   "cell_type": "markdown",
   "id": "cb9e28ed-19da-40a9-88ed-49811e823202",
   "metadata": {},
   "source": [
    "### Missing values"
   ]
  },
  {
   "cell_type": "markdown",
   "id": "f6f850bf-314d-45b2-ab0b-10ea7a216f04",
   "metadata": {},
   "source": [
    "Let's look at the missing values. To do this, lets' create a function `identify_missing_values()`, which will count the number and proportion of missing values in those columns where there are `NaN` values present."
   ]
  },
  {
   "cell_type": "code",
   "execution_count": 8,
   "id": "2e56f666-a4f0-4543-b0f9-c869f9c87fdb",
   "metadata": {},
   "outputs": [],
   "source": [
    "def identify_missing_values(data: pd.DataFrame) -> Optional[pd.DataFrame]:\n",
    "    \"\"\"Performs missing values computation.\n",
    "\n",
    "    Computes a number and share of missing values\n",
    "    in DataFrame columns which have NaN-values present\n",
    "    and displays data types of such columns.\n",
    "\n",
    "    Args:\n",
    "        data (pd.DataFrame): DataFrame which needs to\n",
    "            be checked for missing values.\n",
    "\n",
    "    Returns:\n",
    "        Optional[pd.DataFrame]: DataFrame with column names, number of\n",
    "        missing values and shares of NaN-values in such columns.\n",
    "        In case there are not missing values present, an according\n",
    "        message is shown and nothing is returned. Additionally, columns\n",
    "        data type is shown.\n",
    "    \"\"\"\n",
    "    # Verifying missing values\n",
    "    miss_vals_num = data.isnull().sum()[data.isnull().sum() > 0]\n",
    "    if miss_vals_num.empty:\n",
    "        print(\"Missing values are not found.\")\n",
    "        return\n",
    "    # Creating a table with numbers of missing values\n",
    "    cols = {\"missing_count\": miss_vals_num.values}\n",
    "    nans_df = pd.DataFrame(data=cols, index=miss_vals_num.index).sort_values(\n",
    "        by=\"missing_count\", ascending=False\n",
    "    )\n",
    "    # Adding shares of missing values\n",
    "    nans_df[\"missing_fraction\"] = nans_df[\"missing_count\"] / data.shape[0]\n",
    "    nans_df[\"missing_fraction\"] = nans_df[\"missing_fraction\"].round(4)\n",
    "    # Adding data types\n",
    "    nans_df[\"dtype\"] = data[nans_df.index].dtypes\n",
    "    nans_df = nans_df[[\"dtype\", \"missing_count\", \"missing_fraction\"]]\n",
    "\n",
    "    return nans_df"
   ]
  },
  {
   "cell_type": "code",
   "execution_count": 9,
   "id": "8a3c9773-f94b-4dc0-b1eb-06bfa5a54a34",
   "metadata": {},
   "outputs": [
    {
     "data": {
      "text/html": [
       "<div>\n",
       "<style scoped>\n",
       "    .dataframe tbody tr th:only-of-type {\n",
       "        vertical-align: middle;\n",
       "    }\n",
       "\n",
       "    .dataframe tbody tr th {\n",
       "        vertical-align: top;\n",
       "    }\n",
       "\n",
       "    .dataframe thead th {\n",
       "        text-align: right;\n",
       "    }\n",
       "</style>\n",
       "<table border=\"1\" class=\"dataframe\">\n",
       "  <thead>\n",
       "    <tr style=\"text-align: right;\">\n",
       "      <th></th>\n",
       "      <th>dtype</th>\n",
       "      <th>missing_count</th>\n",
       "      <th>missing_fraction</th>\n",
       "    </tr>\n",
       "  </thead>\n",
       "  <tbody>\n",
       "    <tr>\n",
       "      <th>tenure</th>\n",
       "      <td>float64</td>\n",
       "      <td>909</td>\n",
       "      <td>0.0909</td>\n",
       "    </tr>\n",
       "  </tbody>\n",
       "</table>\n",
       "</div>"
      ],
      "text/plain": [
       "          dtype  missing_count  missing_fraction\n",
       "tenure  float64            909            0.0909"
      ]
     },
     "metadata": {},
     "output_type": "display_data"
    }
   ],
   "source": [
    "nans_df = identify_missing_values(data=clients_data)\n",
    "display(nans_df)"
   ]
  },
  {
   "cell_type": "markdown",
   "id": "8bc5cd91-12ca-49ca-865f-40c3ac59b869",
   "metadata": {},
   "source": [
    "As we saw earlier, we have missing values in only one column - `tenure`. The omissions account for only 9% of the data, so we will delete such rows with missing values to save time."
   ]
  },
  {
   "cell_type": "code",
   "execution_count": 10,
   "id": "041a7a2c-5529-4750-a7af-5dc0cfc4e690",
   "metadata": {},
   "outputs": [],
   "source": [
    "# Deleting rows with NaN-values (share < 10%)\n",
    "clients_data = clients_data.dropna(\n",
    "    subset=nans_df[nans_df[\"missing_fraction\"] < 0.1].index\n",
    ").reset_index(drop=True)"
   ]
  },
  {
   "cell_type": "code",
   "execution_count": 11,
   "id": "6ff23dae-3117-4582-ac32-5aa8de017039",
   "metadata": {},
   "outputs": [],
   "source": [
    "# Verification of all missing values deletion\n",
    "nans_num = clients_data.isnull().sum()\n",
    "assert nans_num.sum() == 0, f\"{nans_num.sum()} missing values are left unprocessed.\""
   ]
  },
  {
   "cell_type": "markdown",
   "id": "7264763a-ca23-4be0-81fd-d33603e25624",
   "metadata": {},
   "source": [
    "As we can see, we have managed to deal with all missing values."
   ]
  },
  {
   "cell_type": "markdown",
   "id": "870cf85e-876e-414b-9461-47b2bd57a8f5",
   "metadata": {},
   "source": [
    "### Data type conversions"
   ]
  },
  {
   "cell_type": "markdown",
   "id": "11c4bf7f-6288-4f60-9fc2-f80b475585a8",
   "metadata": {},
   "source": [
    "Let's consider the general information about the data again."
   ]
  },
  {
   "cell_type": "code",
   "execution_count": 12,
   "id": "b1b721ec-e6b5-41c2-8b11-5e8fa376e99b",
   "metadata": {},
   "outputs": [
    {
     "name": "stdout",
     "output_type": "stream",
     "text": [
      "<class 'pandas.core.frame.DataFrame'>\n",
      "RangeIndex: 9091 entries, 0 to 9090\n",
      "Data columns (total 14 columns):\n",
      " #   Column            Non-Null Count  Dtype  \n",
      "---  ------            --------------  -----  \n",
      " 0   row_number        9091 non-null   int64  \n",
      " 1   customer_id       9091 non-null   int64  \n",
      " 2   surname           9091 non-null   object \n",
      " 3   credit_score      9091 non-null   int64  \n",
      " 4   geography         9091 non-null   object \n",
      " 5   gender            9091 non-null   object \n",
      " 6   age               9091 non-null   int64  \n",
      " 7   tenure            9091 non-null   float64\n",
      " 8   balance           9091 non-null   float64\n",
      " 9   num_of_products   9091 non-null   int64  \n",
      " 10  has_cr_card       9091 non-null   int64  \n",
      " 11  is_active_member  9091 non-null   int64  \n",
      " 12  estimated_salary  9091 non-null   float64\n",
      " 13  exited            9091 non-null   int64  \n",
      "dtypes: float64(3), int64(8), object(3)\n",
      "memory usage: 994.5+ KB\n"
     ]
    }
   ],
   "source": [
    "clients_data.info()"
   ]
  },
  {
   "cell_type": "markdown",
   "id": "ab4d36a6-e467-430a-9e64-86301e272c44",
   "metadata": {},
   "source": [
    "We see that only `tenure` column requires data type conversion. Hence, let's convert its type to `int64`. "
   ]
  },
  {
   "cell_type": "code",
   "execution_count": 13,
   "id": "1c5ce185-1691-4e78-a321-de5caafb1421",
   "metadata": {},
   "outputs": [
    {
     "data": {
      "text/plain": [
       "0        2\n",
       "1        1\n",
       "2        8\n",
       "3        1\n",
       "4        2\n",
       "        ..\n",
       "9086     2\n",
       "9087     5\n",
       "9088    10\n",
       "9089     7\n",
       "9090     3\n",
       "Name: tenure, Length: 9091, dtype: int64"
      ]
     },
     "metadata": {},
     "output_type": "display_data"
    }
   ],
   "source": [
    "# Conversion to int64\n",
    "clients_data[\"tenure\"] = clients_data[\"tenure\"].astype(\"int64\")\n",
    "display(clients_data[\"tenure\"])"
   ]
  },
  {
   "cell_type": "markdown",
   "id": "97ff22d7-b604-4246-903d-6d90b2c7134f",
   "metadata": {},
   "source": [
    "We see that data type has been successfully converted."
   ]
  },
  {
   "cell_type": "markdown",
   "id": "1f569d4d-b97b-44ac-9627-9b26e41335ca",
   "metadata": {},
   "source": [
    "### Identical rows"
   ]
  },
  {
   "cell_type": "markdown",
   "id": "9b8e129b-f570-4f8b-bf30-d3116382a2b4",
   "metadata": {},
   "source": [
    "Lastly, let's check if the DataFrame has identical rows and if it does, we will delete them."
   ]
  },
  {
   "cell_type": "code",
   "execution_count": 14,
   "id": "fc799ab5-48b2-4488-b55c-7dd1eb6162f0",
   "metadata": {},
   "outputs": [
    {
     "name": "stdout",
     "output_type": "stream",
     "text": [
      "Duplicates have not been found.\n"
     ]
    }
   ],
   "source": [
    "# Verification of identical rows being present\n",
    "duplicates_num = clients_data.duplicated().sum()\n",
    "if duplicates_num == 0:\n",
    "    print(\"Duplicates have not been found.\")\n",
    "else:\n",
    "    clients_data = clients_data.drop_duplicates().reset_index(drop=True)\n",
    "    print(f\"{duplicated_num} duplicates have been found and deleted.\")"
   ]
  },
  {
   "cell_type": "markdown",
   "id": "9cb494ab-d9f6-4d6a-920f-014da1d364fc",
   "metadata": {},
   "source": [
    "## Data splitting"
   ]
  },
  {
   "cell_type": "markdown",
   "id": "f00528f3-d3fe-4aea-87c6-c7d01c4b0f4e",
   "metadata": {},
   "source": [
    "Now that we have preprocessed the data, we can move on to preparing the data for machine learning algorithms. To begin with, we will delete the columns that we will not need during the training of models. In this case, these are the columns `row_number`, `customer_id` and `surname`, since they will not carry any relevance regarding the client's choice to stay or terminate the contract with the bank. The first two columns contain purely technical information, and the client's last name cannot in any way influence the client's decision to churn from the bank."
   ]
  },
  {
   "cell_type": "code",
   "execution_count": 15,
   "id": "5f2c0821-5065-4f0f-85c7-d66736d79e1f",
   "metadata": {},
   "outputs": [
    {
     "data": {
      "text/html": [
       "<div>\n",
       "<style scoped>\n",
       "    .dataframe tbody tr th:only-of-type {\n",
       "        vertical-align: middle;\n",
       "    }\n",
       "\n",
       "    .dataframe tbody tr th {\n",
       "        vertical-align: top;\n",
       "    }\n",
       "\n",
       "    .dataframe thead th {\n",
       "        text-align: right;\n",
       "    }\n",
       "</style>\n",
       "<table border=\"1\" class=\"dataframe\">\n",
       "  <thead>\n",
       "    <tr style=\"text-align: right;\">\n",
       "      <th></th>\n",
       "      <th>credit_score</th>\n",
       "      <th>geography</th>\n",
       "      <th>gender</th>\n",
       "      <th>age</th>\n",
       "      <th>tenure</th>\n",
       "      <th>balance</th>\n",
       "      <th>num_of_products</th>\n",
       "      <th>has_cr_card</th>\n",
       "      <th>is_active_member</th>\n",
       "      <th>estimated_salary</th>\n",
       "      <th>exited</th>\n",
       "    </tr>\n",
       "  </thead>\n",
       "  <tbody>\n",
       "    <tr>\n",
       "      <th>0</th>\n",
       "      <td>619</td>\n",
       "      <td>France</td>\n",
       "      <td>Female</td>\n",
       "      <td>42</td>\n",
       "      <td>2</td>\n",
       "      <td>0.00</td>\n",
       "      <td>1</td>\n",
       "      <td>1</td>\n",
       "      <td>1</td>\n",
       "      <td>101348.88</td>\n",
       "      <td>1</td>\n",
       "    </tr>\n",
       "    <tr>\n",
       "      <th>1</th>\n",
       "      <td>608</td>\n",
       "      <td>Spain</td>\n",
       "      <td>Female</td>\n",
       "      <td>41</td>\n",
       "      <td>1</td>\n",
       "      <td>83807.86</td>\n",
       "      <td>1</td>\n",
       "      <td>0</td>\n",
       "      <td>1</td>\n",
       "      <td>112542.58</td>\n",
       "      <td>0</td>\n",
       "    </tr>\n",
       "    <tr>\n",
       "      <th>2</th>\n",
       "      <td>502</td>\n",
       "      <td>France</td>\n",
       "      <td>Female</td>\n",
       "      <td>42</td>\n",
       "      <td>8</td>\n",
       "      <td>159660.80</td>\n",
       "      <td>3</td>\n",
       "      <td>1</td>\n",
       "      <td>0</td>\n",
       "      <td>113931.57</td>\n",
       "      <td>1</td>\n",
       "    </tr>\n",
       "    <tr>\n",
       "      <th>3</th>\n",
       "      <td>699</td>\n",
       "      <td>France</td>\n",
       "      <td>Female</td>\n",
       "      <td>39</td>\n",
       "      <td>1</td>\n",
       "      <td>0.00</td>\n",
       "      <td>2</td>\n",
       "      <td>0</td>\n",
       "      <td>0</td>\n",
       "      <td>93826.63</td>\n",
       "      <td>0</td>\n",
       "    </tr>\n",
       "    <tr>\n",
       "      <th>4</th>\n",
       "      <td>850</td>\n",
       "      <td>Spain</td>\n",
       "      <td>Female</td>\n",
       "      <td>43</td>\n",
       "      <td>2</td>\n",
       "      <td>125510.82</td>\n",
       "      <td>1</td>\n",
       "      <td>1</td>\n",
       "      <td>1</td>\n",
       "      <td>79084.10</td>\n",
       "      <td>0</td>\n",
       "    </tr>\n",
       "  </tbody>\n",
       "</table>\n",
       "</div>"
      ],
      "text/plain": [
       "   credit_score geography  gender  age  tenure    balance  num_of_products  \\\n",
       "0           619    France  Female   42       2       0.00                1   \n",
       "1           608     Spain  Female   41       1   83807.86                1   \n",
       "2           502    France  Female   42       8  159660.80                3   \n",
       "3           699    France  Female   39       1       0.00                2   \n",
       "4           850     Spain  Female   43       2  125510.82                1   \n",
       "\n",
       "   has_cr_card  is_active_member  estimated_salary  exited  \n",
       "0            1                 1         101348.88       1  \n",
       "1            0                 1         112542.58       0  \n",
       "2            1                 0         113931.57       1  \n",
       "3            0                 0          93826.63       0  \n",
       "4            1                 1          79084.10       0  "
      ]
     },
     "execution_count": 15,
     "metadata": {},
     "output_type": "execute_result"
    }
   ],
   "source": [
    "clients_data = clients_data[clients_data.columns[3:]]\n",
    "clients_data.head()"
   ]
  },
  {
   "cell_type": "markdown",
   "id": "e597cc85-d750-4f84-a750-ac989cbc350a",
   "metadata": {},
   "source": [
    "After that we see that we now have all the information that will help us to use classification algorithms. Before splitting the data, let's separate features from target."
   ]
  },
  {
   "cell_type": "code",
   "execution_count": 16,
   "id": "ba689fab-501b-4a9c-bd14-4a029790a182",
   "metadata": {},
   "outputs": [],
   "source": [
    "TrainValidTest = Tuple[\n",
    "    pd.DataFrame, pd.Series, pd.DataFrame, pd.Series, pd.DataFrame, pd.Series\n",
    "]\n",
    "TrainTest = Tuple[pd.DataFrame, pd.Series, pd.DataFrame, pd.Series]"
   ]
  },
  {
   "cell_type": "code",
   "execution_count": 17,
   "id": "a8088fc1-f4d5-4c00-8c7e-f77d79943ebe",
   "metadata": {},
   "outputs": [],
   "source": [
    "def prepare_sets(\n",
    "    data: pd.DataFrame,\n",
    "    target_name: str,\n",
    "    train_share: float,\n",
    "    test_share: float,\n",
    "    valid_share: Optional[float] = None,\n",
    "    random_state: Optional[int] = None,\n",
    ") -> Union[TrainValidTest, TrainTest]:\n",
    "    \"\"\"\n",
    "    Conducts data split into sets.\n",
    "\n",
    "    Depending on the value passed to `valid_share`,\n",
    "    splits the data either into training, validation\n",
    "    and test sets or into training and test sets.\n",
    "\n",
    "    Args:\n",
    "        data (pd.DataFrame): DataFrame which needs to be\n",
    "            split into sets.\n",
    "        target_name (str): Name of the target variable.\n",
    "        train_share (float): Share of the training set.\n",
    "        test_share (float): Share of the test set.\n",
    "        valid_share (Optional[float], optional): Share of\n",
    "            the validation set. Defaults to None.\n",
    "        random_state (Optional[int], optional): Random seed.\n",
    "            Defaults to None.\n",
    "\n",
    "    Returns:\n",
    "        Union[TrainValidTest, TrainTest]: Tuple of training,\n",
    "        validation and test sets or Tuple of training and\n",
    "        test sets.\n",
    "\n",
    "    Raises:\n",
    "        ValueError: Exception raised in case proportions\n",
    "        of sets are inconsistent.\n",
    "    \"\"\"\n",
    "    # Separating features from target\n",
    "    features = data.drop([target_name], axis=1)\n",
    "    target = data[target_name]\n",
    "\n",
    "    # Data split into sets with a validation set\n",
    "    if valid_share is not None:\n",
    "        # Checking consistency of set shares\n",
    "        if np.sum([train_share, valid_share, test_share]) != 1.0:\n",
    "            raise ValueError(\"Incorrect sets proportions specified\")\n",
    "\n",
    "        # Determining cutoffs\n",
    "        split_1 = 1 - train_share\n",
    "        split_2 = test_share / np.sum([valid_share, test_share])\n",
    "\n",
    "        # Splitting into training set and a combination of validation/test sets\n",
    "        (\n",
    "            features_train,\n",
    "            features_valid_test,\n",
    "            target_train,\n",
    "            target_valid_test,\n",
    "        ) = train_test_split(\n",
    "            features, target, test_size=split_1, random_state=random_state\n",
    "        )\n",
    "\n",
    "        # Separating validation set from test set\n",
    "        features_valid, features_test, target_valid, target_test = train_test_split(\n",
    "            features_valid_test,\n",
    "            target_valid_test,\n",
    "            test_size=split_2,\n",
    "            random_state=random_state,\n",
    "        )\n",
    "\n",
    "        return (\n",
    "            features_train,\n",
    "            target_train,\n",
    "            features_valid,\n",
    "            target_valid,\n",
    "            features_test,\n",
    "            target_test,\n",
    "        )\n",
    "\n",
    "    # Data split into sets without a validation set\n",
    "    if np.sum([train_share, test_share]) != 1.0:\n",
    "        raise ValueError(\"Incorrect sets proportions specified\")\n",
    "\n",
    "    features_train, features_test, target_train, target_test = train_test_split(\n",
    "        features, target, test_size=test_share, random_state=random_state\n",
    "    )\n",
    "\n",
    "    return features_train, target_train, features_test, target_test"
   ]
  },
  {
   "cell_type": "code",
   "execution_count": 18,
   "id": "f53803d4-4811-4ead-aef5-843a99435580",
   "metadata": {},
   "outputs": [],
   "source": [
    "(\n",
    "    features_train,\n",
    "    target_train,\n",
    "    features_valid,\n",
    "    target_valid,\n",
    "    features_test,\n",
    "    target_test,\n",
    ") = prepare_sets(\n",
    "    data=clients_data,\n",
    "    target_name=\"exited\",\n",
    "    train_share=TRAIN_SET_SIZE,\n",
    "    valid_share=VALID_SET_SIZE,\n",
    "    test_share=TEST_SET_SIZE,\n",
    "    random_state=RANDOM_STATE,\n",
    ")"
   ]
  },
  {
   "cell_type": "code",
   "execution_count": 19,
   "id": "5791bb9b-3442-421e-aca9-4986b0bd794e",
   "metadata": {},
   "outputs": [],
   "source": [
    "features_train_share = np.round(features_train.shape[0] / clients_data.shape[0], 2)\n",
    "target_train_share = np.round(target_train.shape[0] / clients_data.shape[0], 2)\n",
    "\n",
    "features_valid_share = np.round(features_valid.shape[0] / clients_data.shape[0], 2)\n",
    "target_valid_share = np.round(target_valid.shape[0] / clients_data.shape[0], 2)\n",
    "\n",
    "features_test_share = np.round(features_test.shape[0] / clients_data.shape[0], 2)\n",
    "target_test_share = np.round(target_test.shape[0] / clients_data.shape[0], 2)\n",
    "\n",
    "assert features_train_share == target_train_share == TRAIN_SET_SIZE\n",
    "assert features_valid_share == target_valid_share == VALID_SET_SIZE\n",
    "assert features_test_share == target_test_share == TEST_SET_SIZE"
   ]
  },
  {
   "cell_type": "markdown",
   "id": "63dbf28e-d3ba-4b2b-94d3-4ac02156c1df",
   "metadata": {},
   "source": [
    "We see that we have managed to correctly split the data."
   ]
  },
  {
   "cell_type": "markdown",
   "id": "39aa4a57-aeeb-42e3-b4ad-602ae1c55536",
   "metadata": {},
   "source": [
    "## Data encoding"
   ]
  },
  {
   "cell_type": "markdown",
   "id": "2046124d-1f05-4e9a-a6d4-20ff0426da9d",
   "metadata": {},
   "source": [
    "We will conduct data encoding using `OneHotEncoder()`. For that, let's first define which categorical columns we will encode. These will be columns belonging to `object` data type."
   ]
  },
  {
   "cell_type": "code",
   "execution_count": 20,
   "id": "36d752a8-2eca-475f-8574-0ed3335dafa1",
   "metadata": {},
   "outputs": [
    {
     "name": "stdout",
     "output_type": "stream",
     "text": [
      "Categorical columns to encode: ['geography', 'gender']\n"
     ]
    }
   ],
   "source": [
    "# Choosing categorical columns to encode (\"object\" type)\n",
    "cat_cols_to_encode = features_train.select_dtypes(include=\"object\").columns.to_list()\n",
    "print(f\"Categorical columns to encode: {cat_cols_to_encode}\")"
   ]
  },
  {
   "cell_type": "markdown",
   "id": "91b27328-a4ab-4d60-8258-ca68987cf4ed",
   "metadata": {},
   "source": [
    "Now we can apply the encoder to these columns in the training set. Basically, by specifying `drop=\"first\"` we will create *k-1* binary variables for each categorical column having *k* categories, thus dropping the first category of each column. Any unknown categories will be encoded as zeros as specified by `handle_unknown=\"ignore\"`."
   ]
  },
  {
   "cell_type": "code",
   "execution_count": 21,
   "id": "2cd2ff51-8c95-400c-95a8-ca01c4c392e7",
   "metadata": {},
   "outputs": [
    {
     "data": {
      "text/html": [
       "<div>\n",
       "<style scoped>\n",
       "    .dataframe tbody tr th:only-of-type {\n",
       "        vertical-align: middle;\n",
       "    }\n",
       "\n",
       "    .dataframe tbody tr th {\n",
       "        vertical-align: top;\n",
       "    }\n",
       "\n",
       "    .dataframe thead th {\n",
       "        text-align: right;\n",
       "    }\n",
       "</style>\n",
       "<table border=\"1\" class=\"dataframe\">\n",
       "  <thead>\n",
       "    <tr style=\"text-align: right;\">\n",
       "      <th></th>\n",
       "      <th>credit_score</th>\n",
       "      <th>age</th>\n",
       "      <th>tenure</th>\n",
       "      <th>balance</th>\n",
       "      <th>num_of_products</th>\n",
       "      <th>has_cr_card</th>\n",
       "      <th>is_active_member</th>\n",
       "      <th>estimated_salary</th>\n",
       "      <th>geography_Germany</th>\n",
       "      <th>geography_Spain</th>\n",
       "      <th>gender_Male</th>\n",
       "    </tr>\n",
       "  </thead>\n",
       "  <tbody>\n",
       "    <tr>\n",
       "      <th>8483</th>\n",
       "      <td>727</td>\n",
       "      <td>28</td>\n",
       "      <td>2</td>\n",
       "      <td>110997.76</td>\n",
       "      <td>1</td>\n",
       "      <td>1</td>\n",
       "      <td>0</td>\n",
       "      <td>101433.76</td>\n",
       "      <td>0.0</td>\n",
       "      <td>0.0</td>\n",
       "      <td>0.0</td>\n",
       "    </tr>\n",
       "    <tr>\n",
       "      <th>3431</th>\n",
       "      <td>537</td>\n",
       "      <td>26</td>\n",
       "      <td>7</td>\n",
       "      <td>106397.75</td>\n",
       "      <td>1</td>\n",
       "      <td>0</td>\n",
       "      <td>0</td>\n",
       "      <td>103563.23</td>\n",
       "      <td>0.0</td>\n",
       "      <td>0.0</td>\n",
       "      <td>1.0</td>\n",
       "    </tr>\n",
       "    <tr>\n",
       "      <th>6770</th>\n",
       "      <td>610</td>\n",
       "      <td>40</td>\n",
       "      <td>9</td>\n",
       "      <td>0.00</td>\n",
       "      <td>1</td>\n",
       "      <td>1</td>\n",
       "      <td>1</td>\n",
       "      <td>149602.54</td>\n",
       "      <td>0.0</td>\n",
       "      <td>0.0</td>\n",
       "      <td>1.0</td>\n",
       "    </tr>\n",
       "    <tr>\n",
       "      <th>1350</th>\n",
       "      <td>576</td>\n",
       "      <td>36</td>\n",
       "      <td>6</td>\n",
       "      <td>0.00</td>\n",
       "      <td>2</td>\n",
       "      <td>1</td>\n",
       "      <td>1</td>\n",
       "      <td>48314.00</td>\n",
       "      <td>0.0</td>\n",
       "      <td>0.0</td>\n",
       "      <td>1.0</td>\n",
       "    </tr>\n",
       "    <tr>\n",
       "      <th>4047</th>\n",
       "      <td>549</td>\n",
       "      <td>31</td>\n",
       "      <td>4</td>\n",
       "      <td>0.00</td>\n",
       "      <td>2</td>\n",
       "      <td>0</td>\n",
       "      <td>1</td>\n",
       "      <td>25684.85</td>\n",
       "      <td>0.0</td>\n",
       "      <td>0.0</td>\n",
       "      <td>1.0</td>\n",
       "    </tr>\n",
       "  </tbody>\n",
       "</table>\n",
       "</div>"
      ],
      "text/plain": [
       "      credit_score  age  tenure    balance  num_of_products  has_cr_card  \\\n",
       "8483           727   28       2  110997.76                1            1   \n",
       "3431           537   26       7  106397.75                1            0   \n",
       "6770           610   40       9       0.00                1            1   \n",
       "1350           576   36       6       0.00                2            1   \n",
       "4047           549   31       4       0.00                2            0   \n",
       "\n",
       "      is_active_member  estimated_salary  geography_Germany  geography_Spain  \\\n",
       "8483                 0         101433.76                0.0              0.0   \n",
       "3431                 0         103563.23                0.0              0.0   \n",
       "6770                 1         149602.54                0.0              0.0   \n",
       "1350                 1          48314.00                0.0              0.0   \n",
       "4047                 1          25684.85                0.0              0.0   \n",
       "\n",
       "      gender_Male  \n",
       "8483          0.0  \n",
       "3431          1.0  \n",
       "6770          1.0  \n",
       "1350          1.0  \n",
       "4047          1.0  "
      ]
     },
     "metadata": {},
     "output_type": "display_data"
    }
   ],
   "source": [
    "# Training the encoder\n",
    "encoder_ohe = OneHotEncoder(drop=\"first\", handle_unknown=\"ignore\", sparse=False)\n",
    "encoder_ohe.fit(features_train[cat_cols_to_encode])\n",
    "\n",
    "# Encoding the training set\n",
    "features_train_ohe = features_train.copy()\n",
    "features_train_ohe[encoder_ohe.get_feature_names_out()] = encoder_ohe.transform(\n",
    "    features_train[cat_cols_to_encode]\n",
    ")\n",
    "features_train_ohe = features_train_ohe.drop(cat_cols_to_encode, axis=1)\n",
    "display(features_train_ohe.head())"
   ]
  },
  {
   "cell_type": "markdown",
   "id": "12869271-d4da-4d0e-8d55-5686f09f3b82",
   "metadata": {},
   "source": [
    "Accordingly, we can make similar transformations to the validation and test sets."
   ]
  },
  {
   "cell_type": "code",
   "execution_count": 22,
   "id": "2f21a7dc-a31c-4cfc-88a1-66daa3f02a18",
   "metadata": {},
   "outputs": [
    {
     "data": {
      "text/html": [
       "<div>\n",
       "<style scoped>\n",
       "    .dataframe tbody tr th:only-of-type {\n",
       "        vertical-align: middle;\n",
       "    }\n",
       "\n",
       "    .dataframe tbody tr th {\n",
       "        vertical-align: top;\n",
       "    }\n",
       "\n",
       "    .dataframe thead th {\n",
       "        text-align: right;\n",
       "    }\n",
       "</style>\n",
       "<table border=\"1\" class=\"dataframe\">\n",
       "  <thead>\n",
       "    <tr style=\"text-align: right;\">\n",
       "      <th></th>\n",
       "      <th>credit_score</th>\n",
       "      <th>age</th>\n",
       "      <th>tenure</th>\n",
       "      <th>balance</th>\n",
       "      <th>num_of_products</th>\n",
       "      <th>has_cr_card</th>\n",
       "      <th>is_active_member</th>\n",
       "      <th>estimated_salary</th>\n",
       "      <th>geography_Germany</th>\n",
       "      <th>geography_Spain</th>\n",
       "      <th>gender_Male</th>\n",
       "    </tr>\n",
       "  </thead>\n",
       "  <tbody>\n",
       "    <tr>\n",
       "      <th>6754</th>\n",
       "      <td>516</td>\n",
       "      <td>45</td>\n",
       "      <td>4</td>\n",
       "      <td>0.00</td>\n",
       "      <td>1</td>\n",
       "      <td>1</td>\n",
       "      <td>0</td>\n",
       "      <td>95273.73</td>\n",
       "      <td>0.0</td>\n",
       "      <td>0.0</td>\n",
       "      <td>0.0</td>\n",
       "    </tr>\n",
       "    <tr>\n",
       "      <th>7828</th>\n",
       "      <td>768</td>\n",
       "      <td>40</td>\n",
       "      <td>8</td>\n",
       "      <td>0.00</td>\n",
       "      <td>2</td>\n",
       "      <td>0</td>\n",
       "      <td>1</td>\n",
       "      <td>69080.46</td>\n",
       "      <td>0.0</td>\n",
       "      <td>0.0</td>\n",
       "      <td>0.0</td>\n",
       "    </tr>\n",
       "    <tr>\n",
       "      <th>1545</th>\n",
       "      <td>730</td>\n",
       "      <td>45</td>\n",
       "      <td>6</td>\n",
       "      <td>152880.97</td>\n",
       "      <td>1</td>\n",
       "      <td>0</td>\n",
       "      <td>0</td>\n",
       "      <td>162478.11</td>\n",
       "      <td>1.0</td>\n",
       "      <td>0.0</td>\n",
       "      <td>1.0</td>\n",
       "    </tr>\n",
       "    <tr>\n",
       "      <th>4935</th>\n",
       "      <td>751</td>\n",
       "      <td>29</td>\n",
       "      <td>1</td>\n",
       "      <td>135536.50</td>\n",
       "      <td>1</td>\n",
       "      <td>1</td>\n",
       "      <td>0</td>\n",
       "      <td>66825.33</td>\n",
       "      <td>0.0</td>\n",
       "      <td>0.0</td>\n",
       "      <td>1.0</td>\n",
       "    </tr>\n",
       "    <tr>\n",
       "      <th>8176</th>\n",
       "      <td>688</td>\n",
       "      <td>32</td>\n",
       "      <td>6</td>\n",
       "      <td>124179.30</td>\n",
       "      <td>1</td>\n",
       "      <td>1</td>\n",
       "      <td>1</td>\n",
       "      <td>138759.15</td>\n",
       "      <td>0.0</td>\n",
       "      <td>1.0</td>\n",
       "      <td>1.0</td>\n",
       "    </tr>\n",
       "  </tbody>\n",
       "</table>\n",
       "</div>"
      ],
      "text/plain": [
       "      credit_score  age  tenure    balance  num_of_products  has_cr_card  \\\n",
       "6754           516   45       4       0.00                1            1   \n",
       "7828           768   40       8       0.00                2            0   \n",
       "1545           730   45       6  152880.97                1            0   \n",
       "4935           751   29       1  135536.50                1            1   \n",
       "8176           688   32       6  124179.30                1            1   \n",
       "\n",
       "      is_active_member  estimated_salary  geography_Germany  geography_Spain  \\\n",
       "6754                 0          95273.73                0.0              0.0   \n",
       "7828                 1          69080.46                0.0              0.0   \n",
       "1545                 0         162478.11                1.0              0.0   \n",
       "4935                 0          66825.33                0.0              0.0   \n",
       "8176                 1         138759.15                0.0              1.0   \n",
       "\n",
       "      gender_Male  \n",
       "6754          0.0  \n",
       "7828          0.0  \n",
       "1545          1.0  \n",
       "4935          1.0  \n",
       "8176          1.0  "
      ]
     },
     "metadata": {},
     "output_type": "display_data"
    }
   ],
   "source": [
    "# Encoding the validation set\n",
    "features_valid_ohe = features_valid.copy()\n",
    "features_valid_ohe[encoder_ohe.get_feature_names_out()] = encoder_ohe.transform(\n",
    "    features_valid[cat_cols_to_encode]\n",
    ")\n",
    "features_valid_ohe = features_valid_ohe.drop(cat_cols_to_encode, axis=1)\n",
    "display(features_valid_ohe.head())"
   ]
  },
  {
   "cell_type": "code",
   "execution_count": 23,
   "id": "c0bf1ad0-2b38-4745-9739-8193ec64e2a0",
   "metadata": {},
   "outputs": [
    {
     "data": {
      "text/html": [
       "<div>\n",
       "<style scoped>\n",
       "    .dataframe tbody tr th:only-of-type {\n",
       "        vertical-align: middle;\n",
       "    }\n",
       "\n",
       "    .dataframe tbody tr th {\n",
       "        vertical-align: top;\n",
       "    }\n",
       "\n",
       "    .dataframe thead th {\n",
       "        text-align: right;\n",
       "    }\n",
       "</style>\n",
       "<table border=\"1\" class=\"dataframe\">\n",
       "  <thead>\n",
       "    <tr style=\"text-align: right;\">\n",
       "      <th></th>\n",
       "      <th>credit_score</th>\n",
       "      <th>age</th>\n",
       "      <th>tenure</th>\n",
       "      <th>balance</th>\n",
       "      <th>num_of_products</th>\n",
       "      <th>has_cr_card</th>\n",
       "      <th>is_active_member</th>\n",
       "      <th>estimated_salary</th>\n",
       "      <th>geography_Germany</th>\n",
       "      <th>geography_Spain</th>\n",
       "      <th>gender_Male</th>\n",
       "    </tr>\n",
       "  </thead>\n",
       "  <tbody>\n",
       "    <tr>\n",
       "      <th>4684</th>\n",
       "      <td>814</td>\n",
       "      <td>31</td>\n",
       "      <td>4</td>\n",
       "      <td>0.00</td>\n",
       "      <td>2</td>\n",
       "      <td>1</td>\n",
       "      <td>1</td>\n",
       "      <td>142029.17</td>\n",
       "      <td>0.0</td>\n",
       "      <td>0.0</td>\n",
       "      <td>0.0</td>\n",
       "    </tr>\n",
       "    <tr>\n",
       "      <th>3773</th>\n",
       "      <td>607</td>\n",
       "      <td>36</td>\n",
       "      <td>10</td>\n",
       "      <td>106702.94</td>\n",
       "      <td>2</td>\n",
       "      <td>0</td>\n",
       "      <td>0</td>\n",
       "      <td>198313.69</td>\n",
       "      <td>1.0</td>\n",
       "      <td>0.0</td>\n",
       "      <td>1.0</td>\n",
       "    </tr>\n",
       "    <tr>\n",
       "      <th>6665</th>\n",
       "      <td>632</td>\n",
       "      <td>42</td>\n",
       "      <td>6</td>\n",
       "      <td>59972.26</td>\n",
       "      <td>2</td>\n",
       "      <td>0</td>\n",
       "      <td>1</td>\n",
       "      <td>148172.94</td>\n",
       "      <td>1.0</td>\n",
       "      <td>0.0</td>\n",
       "      <td>1.0</td>\n",
       "    </tr>\n",
       "    <tr>\n",
       "      <th>6777</th>\n",
       "      <td>686</td>\n",
       "      <td>35</td>\n",
       "      <td>8</td>\n",
       "      <td>105419.73</td>\n",
       "      <td>1</td>\n",
       "      <td>1</td>\n",
       "      <td>0</td>\n",
       "      <td>35356.46</td>\n",
       "      <td>0.0</td>\n",
       "      <td>0.0</td>\n",
       "      <td>0.0</td>\n",
       "    </tr>\n",
       "    <tr>\n",
       "      <th>3143</th>\n",
       "      <td>538</td>\n",
       "      <td>42</td>\n",
       "      <td>1</td>\n",
       "      <td>98548.62</td>\n",
       "      <td>2</td>\n",
       "      <td>0</td>\n",
       "      <td>1</td>\n",
       "      <td>94047.75</td>\n",
       "      <td>1.0</td>\n",
       "      <td>0.0</td>\n",
       "      <td>0.0</td>\n",
       "    </tr>\n",
       "  </tbody>\n",
       "</table>\n",
       "</div>"
      ],
      "text/plain": [
       "      credit_score  age  tenure    balance  num_of_products  has_cr_card  \\\n",
       "4684           814   31       4       0.00                2            1   \n",
       "3773           607   36      10  106702.94                2            0   \n",
       "6665           632   42       6   59972.26                2            0   \n",
       "6777           686   35       8  105419.73                1            1   \n",
       "3143           538   42       1   98548.62                2            0   \n",
       "\n",
       "      is_active_member  estimated_salary  geography_Germany  geography_Spain  \\\n",
       "4684                 1         142029.17                0.0              0.0   \n",
       "3773                 0         198313.69                1.0              0.0   \n",
       "6665                 1         148172.94                1.0              0.0   \n",
       "6777                 0          35356.46                0.0              0.0   \n",
       "3143                 1          94047.75                1.0              0.0   \n",
       "\n",
       "      gender_Male  \n",
       "4684          0.0  \n",
       "3773          1.0  \n",
       "6665          1.0  \n",
       "6777          0.0  \n",
       "3143          0.0  "
      ]
     },
     "metadata": {},
     "output_type": "display_data"
    }
   ],
   "source": [
    "# Encoding the test set\n",
    "features_test_ohe = features_test.copy()\n",
    "features_test_ohe[encoder_ohe.get_feature_names_out()] = encoder_ohe.transform(\n",
    "    features_test[cat_cols_to_encode]\n",
    ")\n",
    "features_test_ohe = features_test_ohe.drop(cat_cols_to_encode, axis=1)\n",
    "display(features_test_ohe.head())"
   ]
  },
  {
   "cell_type": "markdown",
   "id": "9710f7d8-aad8-42fd-9238-4fbb28d9ec94",
   "metadata": {},
   "source": [
    "## Data scaling"
   ]
  },
  {
   "cell_type": "markdown",
   "id": "39f50938-aaf5-4768-816a-448e11df261e",
   "metadata": {},
   "source": [
    "Before proceeding to scaling the data, we need to define which columns we will scale. It should be noted that we will not apply a scaler to already encoded categorical columns with less than 5 categories. Other columns will be transformed."
   ]
  },
  {
   "cell_type": "code",
   "execution_count": 24,
   "id": "e7eeb016-5b30-4659-951d-737406074262",
   "metadata": {},
   "outputs": [
    {
     "name": "stdout",
     "output_type": "stream",
     "text": [
      "Numeric columns to scale: ['credit_score', 'age', 'tenure', 'balance', 'estimated_salary']\n",
      "Numeric columns intact: ['num_of_products', 'has_cr_card', 'is_active_member']\n"
     ]
    }
   ],
   "source": [
    "# Choosing numeric columns to scale\n",
    "num_cols = features_train.select_dtypes(exclude=\"object\").columns.to_list()\n",
    "num_cols_to_scale = []\n",
    "num_cols_intact = []\n",
    "for col in num_cols:\n",
    "    if len(features_train[col].unique()) < 5:\n",
    "        num_cols_intact.append(col)\n",
    "    else:\n",
    "        num_cols_to_scale.append(col)\n",
    "print(f\"Numeric columns to scale: {num_cols_to_scale}\")\n",
    "print(f\"Numeric columns intact: {num_cols_intact}\")"
   ]
  },
  {
   "cell_type": "markdown",
   "id": "ab39f98d-12dd-4074-afb9-552b8c595eb7",
   "metadata": {},
   "source": [
    "Now we are ready to apply `StandardScaler()` and train it on the training set."
   ]
  },
  {
   "cell_type": "code",
   "execution_count": 25,
   "id": "175e1b03-f345-4a06-a55d-6c522b596e5f",
   "metadata": {},
   "outputs": [
    {
     "data": {
      "text/html": [
       "<div>\n",
       "<style scoped>\n",
       "    .dataframe tbody tr th:only-of-type {\n",
       "        vertical-align: middle;\n",
       "    }\n",
       "\n",
       "    .dataframe tbody tr th {\n",
       "        vertical-align: top;\n",
       "    }\n",
       "\n",
       "    .dataframe thead th {\n",
       "        text-align: right;\n",
       "    }\n",
       "</style>\n",
       "<table border=\"1\" class=\"dataframe\">\n",
       "  <thead>\n",
       "    <tr style=\"text-align: right;\">\n",
       "      <th></th>\n",
       "      <th>credit_score</th>\n",
       "      <th>age</th>\n",
       "      <th>tenure</th>\n",
       "      <th>balance</th>\n",
       "      <th>num_of_products</th>\n",
       "      <th>has_cr_card</th>\n",
       "      <th>is_active_member</th>\n",
       "      <th>estimated_salary</th>\n",
       "      <th>geography_Germany</th>\n",
       "      <th>geography_Spain</th>\n",
       "      <th>gender_Male</th>\n",
       "    </tr>\n",
       "  </thead>\n",
       "  <tbody>\n",
       "    <tr>\n",
       "      <th>8483</th>\n",
       "      <td>0.809075</td>\n",
       "      <td>-1.039327</td>\n",
       "      <td>-1.025995</td>\n",
       "      <td>0.554904</td>\n",
       "      <td>1</td>\n",
       "      <td>1</td>\n",
       "      <td>0</td>\n",
       "      <td>0.019508</td>\n",
       "      <td>0.0</td>\n",
       "      <td>0.0</td>\n",
       "      <td>0.0</td>\n",
       "    </tr>\n",
       "    <tr>\n",
       "      <th>3431</th>\n",
       "      <td>-1.152518</td>\n",
       "      <td>-1.227561</td>\n",
       "      <td>0.696524</td>\n",
       "      <td>0.480609</td>\n",
       "      <td>1</td>\n",
       "      <td>0</td>\n",
       "      <td>0</td>\n",
       "      <td>0.056167</td>\n",
       "      <td>0.0</td>\n",
       "      <td>0.0</td>\n",
       "      <td>1.0</td>\n",
       "    </tr>\n",
       "    <tr>\n",
       "      <th>6770</th>\n",
       "      <td>-0.398853</td>\n",
       "      <td>0.090079</td>\n",
       "      <td>1.385532</td>\n",
       "      <td>-1.237830</td>\n",
       "      <td>1</td>\n",
       "      <td>1</td>\n",
       "      <td>1</td>\n",
       "      <td>0.848738</td>\n",
       "      <td>0.0</td>\n",
       "      <td>0.0</td>\n",
       "      <td>1.0</td>\n",
       "    </tr>\n",
       "    <tr>\n",
       "      <th>1350</th>\n",
       "      <td>-0.749875</td>\n",
       "      <td>-0.286389</td>\n",
       "      <td>0.352020</td>\n",
       "      <td>-1.237830</td>\n",
       "      <td>2</td>\n",
       "      <td>1</td>\n",
       "      <td>1</td>\n",
       "      <td>-0.894953</td>\n",
       "      <td>0.0</td>\n",
       "      <td>0.0</td>\n",
       "      <td>1.0</td>\n",
       "    </tr>\n",
       "    <tr>\n",
       "      <th>4047</th>\n",
       "      <td>-1.028628</td>\n",
       "      <td>-0.756975</td>\n",
       "      <td>-0.336987</td>\n",
       "      <td>-1.237830</td>\n",
       "      <td>2</td>\n",
       "      <td>0</td>\n",
       "      <td>1</td>\n",
       "      <td>-1.284516</td>\n",
       "      <td>0.0</td>\n",
       "      <td>0.0</td>\n",
       "      <td>1.0</td>\n",
       "    </tr>\n",
       "  </tbody>\n",
       "</table>\n",
       "</div>"
      ],
      "text/plain": [
       "      credit_score       age    tenure   balance  num_of_products  \\\n",
       "8483      0.809075 -1.039327 -1.025995  0.554904                1   \n",
       "3431     -1.152518 -1.227561  0.696524  0.480609                1   \n",
       "6770     -0.398853  0.090079  1.385532 -1.237830                1   \n",
       "1350     -0.749875 -0.286389  0.352020 -1.237830                2   \n",
       "4047     -1.028628 -0.756975 -0.336987 -1.237830                2   \n",
       "\n",
       "      has_cr_card  is_active_member  estimated_salary  geography_Germany  \\\n",
       "8483            1                 0          0.019508                0.0   \n",
       "3431            0                 0          0.056167                0.0   \n",
       "6770            1                 1          0.848738                0.0   \n",
       "1350            1                 1         -0.894953                0.0   \n",
       "4047            0                 1         -1.284516                0.0   \n",
       "\n",
       "      geography_Spain  gender_Male  \n",
       "8483              0.0          0.0  \n",
       "3431              0.0          1.0  \n",
       "6770              0.0          1.0  \n",
       "1350              0.0          1.0  \n",
       "4047              0.0          1.0  "
      ]
     },
     "metadata": {},
     "output_type": "display_data"
    }
   ],
   "source": [
    "# Training the scaler and scaling the training set\n",
    "scaler = StandardScaler()\n",
    "features_train_scaled = features_train_ohe.copy()\n",
    "features_train_scaled[num_cols_to_scale] = scaler.fit_transform(\n",
    "    features_train_scaled[num_cols_to_scale]\n",
    ")\n",
    "display(features_train_scaled.head())"
   ]
  },
  {
   "cell_type": "markdown",
   "id": "c7ff9fdb-e1f3-4af7-adbe-e8a31714a98f",
   "metadata": {},
   "source": [
    "We do the same thing on the validation and test sets."
   ]
  },
  {
   "cell_type": "code",
   "execution_count": 26,
   "id": "4b70e523-77c0-431f-9cb1-4660209c0fe5",
   "metadata": {},
   "outputs": [
    {
     "data": {
      "text/html": [
       "<div>\n",
       "<style scoped>\n",
       "    .dataframe tbody tr th:only-of-type {\n",
       "        vertical-align: middle;\n",
       "    }\n",
       "\n",
       "    .dataframe tbody tr th {\n",
       "        vertical-align: top;\n",
       "    }\n",
       "\n",
       "    .dataframe thead th {\n",
       "        text-align: right;\n",
       "    }\n",
       "</style>\n",
       "<table border=\"1\" class=\"dataframe\">\n",
       "  <thead>\n",
       "    <tr style=\"text-align: right;\">\n",
       "      <th></th>\n",
       "      <th>credit_score</th>\n",
       "      <th>age</th>\n",
       "      <th>tenure</th>\n",
       "      <th>balance</th>\n",
       "      <th>num_of_products</th>\n",
       "      <th>has_cr_card</th>\n",
       "      <th>is_active_member</th>\n",
       "      <th>estimated_salary</th>\n",
       "      <th>geography_Germany</th>\n",
       "      <th>geography_Spain</th>\n",
       "      <th>gender_Male</th>\n",
       "    </tr>\n",
       "  </thead>\n",
       "  <tbody>\n",
       "    <tr>\n",
       "      <th>6754</th>\n",
       "      <td>-1.369326</td>\n",
       "      <td>0.560665</td>\n",
       "      <td>-0.336987</td>\n",
       "      <td>-1.237830</td>\n",
       "      <td>1</td>\n",
       "      <td>1</td>\n",
       "      <td>0</td>\n",
       "      <td>-0.086537</td>\n",
       "      <td>0.0</td>\n",
       "      <td>0.0</td>\n",
       "      <td>0.0</td>\n",
       "    </tr>\n",
       "    <tr>\n",
       "      <th>7828</th>\n",
       "      <td>1.232367</td>\n",
       "      <td>0.090079</td>\n",
       "      <td>1.041028</td>\n",
       "      <td>-1.237830</td>\n",
       "      <td>2</td>\n",
       "      <td>0</td>\n",
       "      <td>1</td>\n",
       "      <td>-0.537457</td>\n",
       "      <td>0.0</td>\n",
       "      <td>0.0</td>\n",
       "      <td>0.0</td>\n",
       "    </tr>\n",
       "    <tr>\n",
       "      <th>1545</th>\n",
       "      <td>0.840048</td>\n",
       "      <td>0.560665</td>\n",
       "      <td>0.352020</td>\n",
       "      <td>1.231363</td>\n",
       "      <td>1</td>\n",
       "      <td>0</td>\n",
       "      <td>0</td>\n",
       "      <td>1.070393</td>\n",
       "      <td>1.0</td>\n",
       "      <td>0.0</td>\n",
       "      <td>1.0</td>\n",
       "    </tr>\n",
       "    <tr>\n",
       "      <th>4935</th>\n",
       "      <td>1.056856</td>\n",
       "      <td>-0.945210</td>\n",
       "      <td>-1.370498</td>\n",
       "      <td>0.951231</td>\n",
       "      <td>1</td>\n",
       "      <td>1</td>\n",
       "      <td>0</td>\n",
       "      <td>-0.576279</td>\n",
       "      <td>0.0</td>\n",
       "      <td>0.0</td>\n",
       "      <td>1.0</td>\n",
       "    </tr>\n",
       "    <tr>\n",
       "      <th>8176</th>\n",
       "      <td>0.406433</td>\n",
       "      <td>-0.662858</td>\n",
       "      <td>0.352020</td>\n",
       "      <td>0.767800</td>\n",
       "      <td>1</td>\n",
       "      <td>1</td>\n",
       "      <td>1</td>\n",
       "      <td>0.662068</td>\n",
       "      <td>0.0</td>\n",
       "      <td>1.0</td>\n",
       "      <td>1.0</td>\n",
       "    </tr>\n",
       "  </tbody>\n",
       "</table>\n",
       "</div>"
      ],
      "text/plain": [
       "      credit_score       age    tenure   balance  num_of_products  \\\n",
       "6754     -1.369326  0.560665 -0.336987 -1.237830                1   \n",
       "7828      1.232367  0.090079  1.041028 -1.237830                2   \n",
       "1545      0.840048  0.560665  0.352020  1.231363                1   \n",
       "4935      1.056856 -0.945210 -1.370498  0.951231                1   \n",
       "8176      0.406433 -0.662858  0.352020  0.767800                1   \n",
       "\n",
       "      has_cr_card  is_active_member  estimated_salary  geography_Germany  \\\n",
       "6754            1                 0         -0.086537                0.0   \n",
       "7828            0                 1         -0.537457                0.0   \n",
       "1545            0                 0          1.070393                1.0   \n",
       "4935            1                 0         -0.576279                0.0   \n",
       "8176            1                 1          0.662068                0.0   \n",
       "\n",
       "      geography_Spain  gender_Male  \n",
       "6754              0.0          0.0  \n",
       "7828              0.0          0.0  \n",
       "1545              0.0          1.0  \n",
       "4935              0.0          1.0  \n",
       "8176              1.0          1.0  "
      ]
     },
     "metadata": {},
     "output_type": "display_data"
    }
   ],
   "source": [
    "# Scaling the validation set\n",
    "features_valid_scaled = features_valid_ohe.copy()\n",
    "features_valid_scaled[num_cols_to_scale] = scaler.transform(\n",
    "    features_valid_scaled[num_cols_to_scale]\n",
    ")\n",
    "display(features_valid_scaled.head())"
   ]
  },
  {
   "cell_type": "code",
   "execution_count": 27,
   "id": "4ef3be22-d9a2-4e7f-9a67-338df9e5b95a",
   "metadata": {},
   "outputs": [
    {
     "data": {
      "text/html": [
       "<div>\n",
       "<style scoped>\n",
       "    .dataframe tbody tr th:only-of-type {\n",
       "        vertical-align: middle;\n",
       "    }\n",
       "\n",
       "    .dataframe tbody tr th {\n",
       "        vertical-align: top;\n",
       "    }\n",
       "\n",
       "    .dataframe thead th {\n",
       "        text-align: right;\n",
       "    }\n",
       "</style>\n",
       "<table border=\"1\" class=\"dataframe\">\n",
       "  <thead>\n",
       "    <tr style=\"text-align: right;\">\n",
       "      <th></th>\n",
       "      <th>credit_score</th>\n",
       "      <th>age</th>\n",
       "      <th>tenure</th>\n",
       "      <th>balance</th>\n",
       "      <th>num_of_products</th>\n",
       "      <th>has_cr_card</th>\n",
       "      <th>is_active_member</th>\n",
       "      <th>estimated_salary</th>\n",
       "      <th>geography_Germany</th>\n",
       "      <th>geography_Spain</th>\n",
       "      <th>gender_Male</th>\n",
       "    </tr>\n",
       "  </thead>\n",
       "  <tbody>\n",
       "    <tr>\n",
       "      <th>4684</th>\n",
       "      <td>1.707279</td>\n",
       "      <td>-0.756975</td>\n",
       "      <td>-0.336987</td>\n",
       "      <td>-1.237830</td>\n",
       "      <td>2</td>\n",
       "      <td>1</td>\n",
       "      <td>1</td>\n",
       "      <td>0.718362</td>\n",
       "      <td>0.0</td>\n",
       "      <td>0.0</td>\n",
       "      <td>0.0</td>\n",
       "    </tr>\n",
       "    <tr>\n",
       "      <th>3773</th>\n",
       "      <td>-0.429826</td>\n",
       "      <td>-0.286389</td>\n",
       "      <td>1.730036</td>\n",
       "      <td>0.485538</td>\n",
       "      <td>2</td>\n",
       "      <td>0</td>\n",
       "      <td>0</td>\n",
       "      <td>1.687305</td>\n",
       "      <td>1.0</td>\n",
       "      <td>0.0</td>\n",
       "      <td>1.0</td>\n",
       "    </tr>\n",
       "    <tr>\n",
       "      <th>6665</th>\n",
       "      <td>-0.171721</td>\n",
       "      <td>0.278313</td>\n",
       "      <td>0.352020</td>\n",
       "      <td>-0.269213</td>\n",
       "      <td>2</td>\n",
       "      <td>0</td>\n",
       "      <td>1</td>\n",
       "      <td>0.824128</td>\n",
       "      <td>1.0</td>\n",
       "      <td>0.0</td>\n",
       "      <td>1.0</td>\n",
       "    </tr>\n",
       "    <tr>\n",
       "      <th>6777</th>\n",
       "      <td>0.385784</td>\n",
       "      <td>-0.380507</td>\n",
       "      <td>1.041028</td>\n",
       "      <td>0.464813</td>\n",
       "      <td>1</td>\n",
       "      <td>1</td>\n",
       "      <td>0</td>\n",
       "      <td>-1.118018</td>\n",
       "      <td>0.0</td>\n",
       "      <td>0.0</td>\n",
       "      <td>0.0</td>\n",
       "    </tr>\n",
       "    <tr>\n",
       "      <th>3143</th>\n",
       "      <td>-1.142194</td>\n",
       "      <td>0.278313</td>\n",
       "      <td>-1.370498</td>\n",
       "      <td>0.353837</td>\n",
       "      <td>2</td>\n",
       "      <td>0</td>\n",
       "      <td>1</td>\n",
       "      <td>-0.107642</td>\n",
       "      <td>1.0</td>\n",
       "      <td>0.0</td>\n",
       "      <td>0.0</td>\n",
       "    </tr>\n",
       "  </tbody>\n",
       "</table>\n",
       "</div>"
      ],
      "text/plain": [
       "      credit_score       age    tenure   balance  num_of_products  \\\n",
       "4684      1.707279 -0.756975 -0.336987 -1.237830                2   \n",
       "3773     -0.429826 -0.286389  1.730036  0.485538                2   \n",
       "6665     -0.171721  0.278313  0.352020 -0.269213                2   \n",
       "6777      0.385784 -0.380507  1.041028  0.464813                1   \n",
       "3143     -1.142194  0.278313 -1.370498  0.353837                2   \n",
       "\n",
       "      has_cr_card  is_active_member  estimated_salary  geography_Germany  \\\n",
       "4684            1                 1          0.718362                0.0   \n",
       "3773            0                 0          1.687305                1.0   \n",
       "6665            0                 1          0.824128                1.0   \n",
       "6777            1                 0         -1.118018                0.0   \n",
       "3143            0                 1         -0.107642                1.0   \n",
       "\n",
       "      geography_Spain  gender_Male  \n",
       "4684              0.0          0.0  \n",
       "3773              0.0          1.0  \n",
       "6665              0.0          1.0  \n",
       "6777              0.0          0.0  \n",
       "3143              0.0          0.0  "
      ]
     },
     "metadata": {},
     "output_type": "display_data"
    }
   ],
   "source": [
    "# Scaling the test set\n",
    "features_test_scaled = features_test_ohe.copy()\n",
    "features_test_scaled[num_cols_to_scale] = scaler.transform(\n",
    "    features_test_scaled[num_cols_to_scale]\n",
    ")\n",
    "display(features_test_scaled.head())"
   ]
  },
  {
   "cell_type": "markdown",
   "id": "e5690e9f-7694-429f-a64d-90bb8e6fceed",
   "metadata": {},
   "source": [
    "**Conclusion**\n",
    "\n",
    "At this stage, the data was carefully studied and a few problems were identified (missing values, incorrect data type and incorrect column names), which were corrected as a result of data preprocessing. Further, the data was brought to the proper form by applying data partitioning into training, validation and test sets as well as using One-Hot Encoding and Standard Scaling for preparing the data for machine learning algorithms."
   ]
  },
  {
   "cell_type": "markdown",
   "id": "b692291a-1052-4dbe-b5cc-761c69a1e451",
   "metadata": {},
   "source": [
    "# Ignoring imbalance"
   ]
  },
  {
   "cell_type": "markdown",
   "id": "0d2cef51-525d-49ea-bf7a-f0019783d936",
   "metadata": {},
   "source": [
    "## Classes balance analysis"
   ]
  },
  {
   "cell_type": "markdown",
   "id": "903c32cf-0dc2-48a3-82d6-b6ec58ad7198",
   "metadata": {},
   "source": [
    "Now let's move on to studying the class balance. To do this, we will build a bar chart, where we will indicate what the percentage of the observations in the target variable for the training sample belongs to each class. We are interested in the training sample, because it is important to us to understand whether the algorithms will learn from balanced or unbalanced data. Since we will consider the structure of the target variable multiple times, let's write a function called `show_class_struct()` that will show a plot with the class structure of the target variable."
   ]
  },
  {
   "cell_type": "code",
   "execution_count": 28,
   "id": "e1674c36-72ea-4012-94c9-d70934c5490a",
   "metadata": {},
   "outputs": [],
   "source": [
    "def plot_class_structure(\n",
    "    target_var: pd.Series,\n",
    "    xlabel_name: str = \"xlabel_name\",\n",
    "    ylabel_name: str = \"ylabel_name\",\n",
    "    title_name: str = \"title_name\",\n",
    ") -> Any:\n",
    "    \"\"\"Plots the structure of the target variable.\n",
    "\n",
    "    Args:\n",
    "        target_var (pd.Series): Target vector.\n",
    "        xlabel_name (str, optional): Name of the xlabel on the plot.\n",
    "            Defaults to \"xlabel_name\".\n",
    "        ylabel_name (str, optional): Name of the ylabel on the plot.\n",
    "            Defaults to \"ylabel_name\".\n",
    "        title_name (str, optional): Title of the plot.\n",
    "            Defaults to \"title_name\".\n",
    "    \"\"\"\n",
    "    target_var.value_counts(normalize=True).plot(\n",
    "        kind=\"bar\",\n",
    "        xlabel=xlabel_name,\n",
    "        ylabel=ylabel_name,\n",
    "        title=title_name,\n",
    "    )\n",
    "    plt.xticks(rotation=0)\n",
    "    plt.show()"
   ]
  },
  {
   "cell_type": "markdown",
   "id": "fd775009-eb20-4c9a-953e-7c0f17bcec5b",
   "metadata": {},
   "source": [
    "Now we can call this function and understand whether class imbalance is present in our data."
   ]
  },
  {
   "cell_type": "code",
   "execution_count": 29,
   "id": "16e7935a-8b37-4a97-9e95-2f07b9cfb9b2",
   "metadata": {},
   "outputs": [
    {
     "data": {
      "image/png": "[encoded data removed]",
      "text/plain": [
       "<Figure size 640x480 with 1 Axes>"
      ]
     },
     "metadata": {},
     "output_type": "display_data"
    }
   ],
   "source": [
    "plot_class_structure(\n",
    "    target_var=target_train,\n",
    "    xlabel_name=\"Classes (exited)\",\n",
    "    ylabel_name=\"Share\",\n",
    "    title_name=\"Target variable structure\",\n",
    ")"
   ]
  },
  {
   "cell_type": "markdown",
   "id": "df16ade9-8885-4c96-ae91-c10a2fee7923",
   "metadata": {},
   "source": [
    "We can see that approximately 80% of all objects are accounted for by those who stayed with the bank (class \"0\"), while the remaining 20% are gone. Thus, we are dealing with an unbalanced classification, in which models usually show poor learning performance."
   ]
  },
  {
   "cell_type": "markdown",
   "id": "0ecc5f53-7e49-4cd6-8c93-7614fc3979d4",
   "metadata": {},
   "source": [
    "## Hyperparameter tuning"
   ]
  },
  {
   "cell_type": "markdown",
   "id": "8e702123-3c24-4a37-80c1-ad4c814fac0a",
   "metadata": {},
   "source": [
    "In this section, we will consider models, provided that the class imbalance is ignored. We will conduct a series of hyperparameter tunings for the following three classification models:\n",
    "\n",
    "* *Decision Tree Classifier*\n",
    "* *Random Forest Classifier*\n",
    "* *Logistic Regression*\n",
    "\n",
    "We will focus on the value of the *F1* metric computed on the validation set. Additionally, we will calculate the *AUC-ROC* metric for each of the three best models.\n",
    "\n",
    "We will write a simple algorithm of grid search without crossvalidation and with a predetermined validation set. It will be represented as a function called `run_grid_search()`."
   ]
  },
  {
   "cell_type": "code",
   "execution_count": 30,
   "id": "5815947f-1323-48fd-be03-fc090fe1ee49",
   "metadata": {},
   "outputs": [],
   "source": [
    "def run_grid_search(\n",
    "    model: BaseEstimator,\n",
    "    param_grid: Union[Sequence[Mapping], Mapping],\n",
    "    training_dataset: Tuple[Any, Any],\n",
    "    valid_dataset: Tuple[Any, Any],\n",
    "    scoring_function: Callable[..., float],\n",
    "    display_search: bool = False,\n",
    "    higher_better: bool = True,\n",
    ") -> Tuple[BaseEstimator, float]:\n",
    "    \"\"\"\n",
    "    Runs a simple grid search algorithm.\n",
    "\n",
    "    Args:\n",
    "        model (BaseEstimator): Estimator.\n",
    "        param_grid (Union[Sequence[Mapping], Mapping]):\n",
    "            Grid of hyperparameter values to be varied.\n",
    "        training_dataset (Tuple[Any, Any]): Tuple of\n",
    "            training features and train target-vector.\n",
    "        valid_dataset (Tuple[Any, Any]): Tuple of\n",
    "            validation features and validation\n",
    "            target-vector.\n",
    "        scoring_function (Callable[..., float]): Metric\n",
    "            for model evaluation and comparison.\n",
    "        display_search (bool, optional): Boolean indicating printing\n",
    "            the process of grid search. Defaults to False.\n",
    "        higher_better (bool, optional): Boolean indicating\n",
    "            in which direction to look for the best model.\n",
    "            Defaults to True.\n",
    "\n",
    "    Returns:\n",
    "        Tuple[BaseEstimator, float]: Best model chosen\n",
    "        during grid search and validation as well as\n",
    "        the best metric value.\n",
    "    \"\"\"\n",
    "    # Separating the tuples\n",
    "    features_train, target_train = training_dataset\n",
    "    features_valid, target_valid = valid_dataset\n",
    "\n",
    "    # Recovering all combinations of hyperparameters\n",
    "    keys, values = zip(*param_grid.items())\n",
    "    config_list = [dict(zip(keys, v)) for v in itertools.product(*values)]\n",
    "\n",
    "    # Initial values\n",
    "    best_model = None\n",
    "    best_result = 0 if higher_better else np.Inf\n",
    "\n",
    "    # Grid search\n",
    "    for config in config_list:\n",
    "        # Reinitializing the model\n",
    "        model = clone(model)\n",
    "        model.set_params(**config)\n",
    "\n",
    "        # Training the model\n",
    "        model.fit(features_train, target_train)\n",
    "\n",
    "        # Computing predictions for training and validation sets\n",
    "        predictions_train = model.predict(features_train)\n",
    "        predictions_valid = model.predict(features_valid)\n",
    "\n",
    "        # Computing metric for training and validation sets\n",
    "        metric_score_train = scoring_function(target_train, predictions_train)\n",
    "        metric_score_valid = scoring_function(target_valid, predictions_valid)\n",
    "\n",
    "        if display_search:\n",
    "            print(\n",
    "                f\"{config}: {scoring_function.__name__}=(train={metric_score_train:.4f}, valid={metric_score_valid:.4f})\"\n",
    "            )\n",
    "\n",
    "        # Making a decision about the best model\n",
    "        if higher_better:\n",
    "            if metric_score_valid > best_result:\n",
    "                best_model = model\n",
    "                best_result = metric_score_valid\n",
    "        else:\n",
    "            if metric_score_valid < best_result:\n",
    "                best_model = model\n",
    "                best_result = metric_score_valid\n",
    "\n",
    "    return best_model, best_result"
   ]
  },
  {
   "cell_type": "code",
   "execution_count": 31,
   "id": "62fd0726-d36f-48be-8e70-a807c33bea45",
   "metadata": {},
   "outputs": [],
   "source": [
    "pp = PrettyPrinter(depth=4)"
   ]
  },
  {
   "cell_type": "markdown",
   "id": "a16ec155-8ae5-4085-87e8-2e161781a6ae",
   "metadata": {},
   "source": [
    "### Decision Tree"
   ]
  },
  {
   "cell_type": "code",
   "execution_count": 32,
   "id": "93f4aec5-b356-47aa-9693-ce0309520db1",
   "metadata": {},
   "outputs": [
    {
     "data": {
      "text/plain": [
       "{'ccp_alpha': 0.0,\n",
       " 'class_weight': None,\n",
       " 'criterion': 'gini',\n",
       " 'max_depth': None,\n",
       " 'max_features': None,\n",
       " 'max_leaf_nodes': None,\n",
       " 'min_impurity_decrease': 0.0,\n",
       " 'min_samples_leaf': 1,\n",
       " 'min_samples_split': 2,\n",
       " 'min_weight_fraction_leaf': 0.0,\n",
       " 'random_state': 12345,\n",
       " 'splitter': 'best'}"
      ]
     },
     "execution_count": 32,
     "metadata": {},
     "output_type": "execute_result"
    }
   ],
   "source": [
    "dtc_model = DecisionTreeClassifier(random_state=RANDOM_STATE)\n",
    "dtc_model.get_params()"
   ]
  },
  {
   "cell_type": "code",
   "execution_count": 33,
   "id": "ac0c3819-bd9c-4f41-9560-0564ace23a7f",
   "metadata": {},
   "outputs": [
    {
     "name": "stdout",
     "output_type": "stream",
     "text": [
      "{'max_depth': array([ 1,  2,  3,  4,  5,  6,  7,  8,  9, 10, 11])}\n"
     ]
    }
   ],
   "source": [
    "param_grid_dtc = {\"max_depth\": np.arange(1, 12)}\n",
    "pp.pprint(param_grid_dtc)"
   ]
  },
  {
   "cell_type": "code",
   "execution_count": 34,
   "id": "793ee79d-42d5-4a56-8b65-3ebf923beb26",
   "metadata": {},
   "outputs": [],
   "source": [
    "best_model_dtc, best_result_dtc = run_grid_search(\n",
    "    model=dtc_model,\n",
    "    param_grid=param_grid_dtc,\n",
    "    training_dataset=(features_train_scaled, target_train),\n",
    "    valid_dataset=(features_valid_scaled, target_valid),\n",
    "    scoring_function=f1_score,\n",
    ")"
   ]
  },
  {
   "cell_type": "code",
   "execution_count": 35,
   "id": "f943af9a-0ec4-4e3e-8f6a-4626147ed3f8",
   "metadata": {},
   "outputs": [
    {
     "name": "stdout",
     "output_type": "stream",
     "text": [
      "Best model: DecisionTreeClassifier(max_depth=7, random_state=12345)\n",
      "Best F1-Score: 0.5764\n"
     ]
    }
   ],
   "source": [
    "print(f\"Best model: {best_model_dtc}\")\n",
    "print(f\"Best F1-Score: {best_result_dtc:.4f}\")"
   ]
  },
  {
   "cell_type": "code",
   "execution_count": 36,
   "id": "72f3d186-5e51-4644-bd0a-358bf5d682b3",
   "metadata": {},
   "outputs": [
    {
     "name": "stdout",
     "output_type": "stream",
     "text": [
      "AUC-ROC: 0.8346\n"
     ]
    }
   ],
   "source": [
    "probabilities_valid = best_model_dtc.predict_proba(features_valid_scaled)\n",
    "probabilities_one_valid = probabilities_valid[:, 1]\n",
    "\n",
    "auc_roc_dtc = roc_auc_score(target_valid, probabilities_one_valid)\n",
    "print(f\"AUC-ROC: {auc_roc_dtc:.4f}\")"
   ]
  },
  {
   "cell_type": "markdown",
   "id": "72bfa24c-65a2-4b94-8501-9d53c4976b83",
   "metadata": {},
   "source": [
    "The selection of the hyperparameter showed that the best model of the Decision Tree is a model with a depth of 7. It can be seen that for higher depths the model begins to overfit, which manifests itself in a large difference between the values of the metric *F1* for training and validation sets. We also see that the final model is quite different from the random one, which can be seen from the high value of the *AUC-ROC* metric."
   ]
  },
  {
   "cell_type": "markdown",
   "id": "dff8e11e-340c-47b8-939e-1e229c7c9e40",
   "metadata": {},
   "source": [
    "### Random Forest"
   ]
  },
  {
   "cell_type": "markdown",
   "id": "89d914f4-2a67-4c9e-ba07-edc0c98d8157",
   "metadata": {},
   "source": [
    "Now let's consider a Random Forest model, where we will vary the number of trees (20, 40, 60, 80, 100), and also the depth of trees from 1 to 11."
   ]
  },
  {
   "cell_type": "code",
   "execution_count": 37,
   "id": "e968e9e0-785d-4e20-823f-9eece5a27fdb",
   "metadata": {},
   "outputs": [
    {
     "data": {
      "text/plain": [
       "{'bootstrap': True,\n",
       " 'ccp_alpha': 0.0,\n",
       " 'class_weight': None,\n",
       " 'criterion': 'gini',\n",
       " 'max_depth': None,\n",
       " 'max_features': 'sqrt',\n",
       " 'max_leaf_nodes': None,\n",
       " 'max_samples': None,\n",
       " 'min_impurity_decrease': 0.0,\n",
       " 'min_samples_leaf': 1,\n",
       " 'min_samples_split': 2,\n",
       " 'min_weight_fraction_leaf': 0.0,\n",
       " 'n_estimators': 100,\n",
       " 'n_jobs': None,\n",
       " 'oob_score': False,\n",
       " 'random_state': 12345,\n",
       " 'verbose': 0,\n",
       " 'warm_start': False}"
      ]
     },
     "execution_count": 37,
     "metadata": {},
     "output_type": "execute_result"
    }
   ],
   "source": [
    "rfc_model = RandomForestClassifier(random_state=RANDOM_STATE)\n",
    "rfc_model.get_params()"
   ]
  },
  {
   "cell_type": "code",
   "execution_count": 38,
   "id": "caba3b28-9e3a-4dbb-8695-4e1d78293245",
   "metadata": {},
   "outputs": [
    {
     "name": "stdout",
     "output_type": "stream",
     "text": [
      "{'max_depth': array([ 1,  2,  3,  4,  5,  6,  7,  8,  9, 10, 11]),\n",
      " 'n_estimators': array([ 20,  40,  60,  80, 100])}\n"
     ]
    }
   ],
   "source": [
    "param_grid_rfc = {\"max_depth\": np.arange(1, 12), \"n_estimators\": np.arange(20, 120, 20)}\n",
    "pp.pprint(param_grid_rfc)"
   ]
  },
  {
   "cell_type": "code",
   "execution_count": 39,
   "id": "18b6c1c6-0de2-4723-a364-eeb357026fbf",
   "metadata": {},
   "outputs": [],
   "source": [
    "best_model_rfc, best_result_rfc = run_grid_search(\n",
    "    model=rfc_model,\n",
    "    param_grid=param_grid_rfc,\n",
    "    training_dataset=(features_train_scaled, target_train),\n",
    "    valid_dataset=(features_valid_scaled, target_valid),\n",
    "    scoring_function=f1_score,\n",
    ")"
   ]
  },
  {
   "cell_type": "code",
   "execution_count": 40,
   "id": "f69021ab-d184-4d9d-a330-f75508d0c93d",
   "metadata": {},
   "outputs": [
    {
     "name": "stdout",
     "output_type": "stream",
     "text": [
      "Best model: RandomForestClassifier(max_depth=11, n_estimators=40, random_state=12345)\n",
      "Best F1-Score: 0.5797\n"
     ]
    }
   ],
   "source": [
    "print(f\"Best model: {best_model_rfc}\")\n",
    "print(f\"Best F1-Score: {best_result_rfc:.4f}\")"
   ]
  },
  {
   "cell_type": "code",
   "execution_count": 41,
   "id": "dc2825be-0ba2-40b0-9b14-44ea2f07fbb1",
   "metadata": {},
   "outputs": [
    {
     "name": "stdout",
     "output_type": "stream",
     "text": [
      "AUC-ROC: 0.8677\n"
     ]
    }
   ],
   "source": [
    "probabilities_valid = best_model_rfc.predict_proba(features_valid_scaled)\n",
    "probabilities_one_valid = probabilities_valid[:, 1]\n",
    "\n",
    "auc_roc_rfc = roc_auc_score(target_valid, probabilities_one_valid)\n",
    "print(f\"AUC-ROC: {auc_roc_rfc:.4f}\")"
   ]
  },
  {
   "cell_type": "markdown",
   "id": "9956e85d-521e-4fa9-a3cb-147544177aa1",
   "metadata": {},
   "source": [
    "For this model, we see that the best model turned out to be a Random Forest with 40 trees with a depth of 11 each. The metric *F1* is 0.5797, and *AUC-ROC* is characterized by a fairly high value."
   ]
  },
  {
   "cell_type": "markdown",
   "id": "98afe768-ab3e-4354-951c-d12c7f20aa6b",
   "metadata": {},
   "source": [
    "### Logistic Regression"
   ]
  },
  {
   "cell_type": "markdown",
   "id": "dc2593a5-4fbb-40da-aad9-658542b9dcbb",
   "metadata": {},
   "source": [
    "Finally, let's consider Logistic Regression, where we will vary the parameter `C` responsible for the degree of regularization."
   ]
  },
  {
   "cell_type": "code",
   "execution_count": 42,
   "id": "0d714e2b-e88f-4ce8-b6b4-0fdacf918f0f",
   "metadata": {},
   "outputs": [
    {
     "data": {
      "text/plain": [
       "{'C': 1.0,\n",
       " 'class_weight': None,\n",
       " 'dual': False,\n",
       " 'fit_intercept': True,\n",
       " 'intercept_scaling': 1,\n",
       " 'l1_ratio': None,\n",
       " 'max_iter': 1000,\n",
       " 'multi_class': 'auto',\n",
       " 'n_jobs': None,\n",
       " 'penalty': 'l2',\n",
       " 'random_state': 12345,\n",
       " 'solver': 'liblinear',\n",
       " 'tol': 0.0001,\n",
       " 'verbose': 0,\n",
       " 'warm_start': False}"
      ]
     },
     "execution_count": 42,
     "metadata": {},
     "output_type": "execute_result"
    }
   ],
   "source": [
    "log_model = LogisticRegression(\n",
    "    random_state=RANDOM_STATE, solver=\"liblinear\", max_iter=1000\n",
    ")\n",
    "log_model.get_params()"
   ]
  },
  {
   "cell_type": "code",
   "execution_count": 43,
   "id": "e036e341-a330-40a9-92d1-bbee85b1b89b",
   "metadata": {},
   "outputs": [
    {
     "name": "stdout",
     "output_type": "stream",
     "text": [
      "{'C': [1.0, 3.0, 10.0, 30.0, 100.0, 300.0, 1000.0, 3000.0, 10000.0]}\n"
     ]
    }
   ],
   "source": [
    "param_grid_log = {\"C\": [1.0, 3.0, 10.0, 30.0, 100.0, 300.0, 1000.0, 3000.0, 10000.0]}\n",
    "pp.pprint(param_grid_log)"
   ]
  },
  {
   "cell_type": "code",
   "execution_count": 44,
   "id": "5579944f-c77c-4132-8d92-aff2a357a41e",
   "metadata": {},
   "outputs": [],
   "source": [
    "best_model_log, best_result_log = run_grid_search(\n",
    "    model=log_model,\n",
    "    param_grid=param_grid_log,\n",
    "    training_dataset=(features_train_scaled, target_train),\n",
    "    valid_dataset=(features_valid_scaled, target_valid),\n",
    "    scoring_function=f1_score,\n",
    ")"
   ]
  },
  {
   "cell_type": "code",
   "execution_count": 45,
   "id": "76d083ee-38e0-46c9-8da9-ade299ae936b",
   "metadata": {},
   "outputs": [
    {
     "name": "stdout",
     "output_type": "stream",
     "text": [
      "Best model: LogisticRegression(max_iter=1000, random_state=12345, solver='liblinear')\n",
      "Best F1-Score: 0.3040\n"
     ]
    }
   ],
   "source": [
    "print(f\"Best model: {best_model_log}\")\n",
    "print(f\"Best F1-Score: {best_result_log:.4f}\")"
   ]
  },
  {
   "cell_type": "code",
   "execution_count": 46,
   "id": "52beb017-1940-4cbc-aeba-a96380ad425b",
   "metadata": {},
   "outputs": [
    {
     "name": "stdout",
     "output_type": "stream",
     "text": [
      "AUC-ROC: 0.7735\n"
     ]
    }
   ],
   "source": [
    "probabilities_valid = best_model_log.predict_proba(features_valid_scaled)\n",
    "probabilities_one_valid = probabilities_valid[:, 1]\n",
    "\n",
    "auc_roc_log = roc_auc_score(target_valid, probabilities_one_valid)\n",
    "print(f\"AUC-ROC: {auc_roc_log:.4f}\")"
   ]
  },
  {
   "cell_type": "markdown",
   "id": "31719178-2792-428d-bae0-fd40321fae1e",
   "metadata": {},
   "source": [
    "The model showed worse results than previous models, which is evident from both metrics."
   ]
  },
  {
   "cell_type": "markdown",
   "id": "3b733d7e-5fa4-41b6-94f4-d92514d41353",
   "metadata": {},
   "source": [
    "## Model comparison"
   ]
  },
  {
   "cell_type": "markdown",
   "id": "5e37a98b-c671-46be-80cf-13e41b927bc3",
   "metadata": {},
   "source": [
    "Now let's compare the results of selecting hyperparameters for three models and display them on the screen to determine the best model for the case of ignoring the class imbalance."
   ]
  },
  {
   "cell_type": "code",
   "execution_count": 47,
   "id": "969005d9-6094-447f-9827-975bfcb6946f",
   "metadata": {},
   "outputs": [],
   "source": [
    "def plot_model_comparison(\n",
    "    results: Sequence[Tuple[str, float]],\n",
    "    metric_name: str = \"metric_name\",\n",
    "    title_name: str = \"title_name\",\n",
    "    dot_size: int = 150,\n",
    "    figure_dims: Tuple[int] = (15, 7),\n",
    "    xticks_fontsize: int = 15,\n",
    "    yticks_fontsize: int = 12,\n",
    "    title_fontsize: int = 20,\n",
    "    ylabel_fontsize: int = 15,\n",
    ") -> Any:\n",
    "    \"\"\"Provides models performance vizualization.\n",
    "\n",
    "    Generates a scatterplot with model names and their\n",
    "    respective metric values for comparison.\n",
    "\n",
    "    Args:\n",
    "        results (Sequence[Tuple[str, float]]): Sequence of Tuples with\n",
    "            model names and metric values.\n",
    "        metric_name (str, optional): Name of the metric.\n",
    "            Defaults to \"metric_name\".\n",
    "        title_name (str, optional): Title of the plot.\n",
    "            Defaults to \"title_name\".\n",
    "        dot_size (int, optional): Size of scatterplot dots. Defaults to 150.\n",
    "        figure_dims (Tuple[int], optional): Dimensions of the figure.\n",
    "            Defaults to (15, 7).\n",
    "        xticks_fontsize (int, optional): Size of xticks on the plot.\n",
    "            Defaults to 15.\n",
    "        yticks_fontsize (int, optional): Size of yticks on the plot.\n",
    "            Defaults to 12.\n",
    "        title_fontsize (int, optional): Size of the title of the plot.\n",
    "            Defaults to 20.\n",
    "        ylabel_fontsize (int, optional): Size of the Y-label. Defaults to 15.\n",
    "    \"\"\"\n",
    "    # Separating scores from a sequence of tuples passed\n",
    "    _, scores = zip(*results)\n",
    "    # Joining model names with scores\n",
    "    names_with_scores = [\"%s\\n%.4f\" % (name, loss) for name, loss in results]\n",
    "\n",
    "    # Making a plot\n",
    "    plt.figure(figsize=figure_dims)\n",
    "\n",
    "    plt.scatter(range(len(results)), scores, s=dot_size)\n",
    "\n",
    "    plt.xticks(range(len(results)), names_with_scores, fontsize=xticks_fontsize)\n",
    "    plt.yticks(fontsize=yticks_fontsize)\n",
    "\n",
    "    plt.title(title_name, fontsize=title_fontsize)\n",
    "    plt.ylabel(metric_name, fontsize=ylabel_fontsize)\n",
    "\n",
    "    plt.tight_layout()\n",
    "    plt.show()"
   ]
  },
  {
   "cell_type": "code",
   "execution_count": 48,
   "id": "0f73f46b-5a7a-4242-b81e-b25707a1e824",
   "metadata": {},
   "outputs": [
    {
     "data": {
      "image/png": "[encoded data removed]",
      "text/plain": [
       "<Figure size 1500x700 with 1 Axes>"
      ]
     },
     "metadata": {},
     "output_type": "display_data"
    }
   ],
   "source": [
    "results = [\n",
    "    (\"Decision Tree\", best_result_dtc),\n",
    "    (\"Random Forest\", best_result_rfc),\n",
    "    (\"Logistic Regression\", best_result_log),\n",
    "]\n",
    "plot_model_comparison(\n",
    "    results,\n",
    "    metric_name=\"F1-score\",\n",
    "    title_name=\"Grid search results (ignoring imbalance)\",\n",
    ")"
   ]
  },
  {
   "cell_type": "code",
   "execution_count": 49,
   "id": "3688caa7-ca72-4c1b-8473-52e8bac264a1",
   "metadata": {},
   "outputs": [
    {
     "data": {
      "image/png": "[encoded data removed]",
      "text/plain": [
       "<Figure size 1500x700 with 1 Axes>"
      ]
     },
     "metadata": {},
     "output_type": "display_data"
    }
   ],
   "source": [
    "results = [\n",
    "    (\"Decision Tree\", auc_roc_dtc),\n",
    "    (\"Random Forest\", auc_roc_rfc),\n",
    "    (\"Logistic Regression\", auc_roc_log),\n",
    "]\n",
    "plot_model_comparison(\n",
    "    results,\n",
    "    metric_name=\"AUC-ROC\",\n",
    "    title_name=\"Grid search results (ignoring imbalance)\",\n",
    ")"
   ]
  },
  {
   "cell_type": "code",
   "execution_count": 50,
   "id": "8d69058c-d214-43c4-8486-f7207c9e68b7",
   "metadata": {},
   "outputs": [
    {
     "name": "stdout",
     "output_type": "stream",
     "text": [
      "Best model: RandomForestClassifier(max_depth=11, n_estimators=40, random_state=12345)\n",
      "Best F1-Score: 0.5797\n",
      "Best AUC-ROC: 0.8677\n"
     ]
    }
   ],
   "source": [
    "best_model_unbalanced = best_model_rfc\n",
    "best_f1_unbalanced = best_result_rfc\n",
    "best_auc_roc_unbalanced = auc_roc_rfc\n",
    "\n",
    "print(f\"Best model: {best_model_unbalanced}\")\n",
    "print(f\"Best F1-Score: {best_f1_unbalanced:.4f}\")\n",
    "print(f\"Best AUC-ROC: {best_auc_roc_unbalanced:.4f}\")"
   ]
  },
  {
   "cell_type": "markdown",
   "id": "828759e8-b0fa-43de-9486-30558345aef9",
   "metadata": {},
   "source": [
    "So, we see that the best model based on *F1* metric is the model of the Random Forest with 40 trees and a depth of 11."
   ]
  },
  {
   "cell_type": "markdown",
   "id": "7cd6ddb5-2972-41fa-a69b-72a58c941389",
   "metadata": {},
   "source": [
    "**Conclusion**\n",
    "\n",
    "In this section, an analysis of the balance of classes was carried out and a series of hyperparameters tunings were carried out for three selected classification models. The fact of the presence of an imbalance in the data was revealed, where it is expressed in proportions of 80-20. As a result of training models, the best model according to the *F1* metric is the model of the Random Forest with 40 trees and a depth of 11. In addition, the models were also tested for their differences from the random model using the *AUC-ROC* metric, as a result of which all models passed such a test, where the models of the Random Forest and the Decision Tree showed particularly good results."
   ]
  },
  {
   "cell_type": "markdown",
   "id": "72ac37ed-7d43-4beb-9f71-e5603737832f",
   "metadata": {},
   "source": [
    "# Accounting for class imbalance"
   ]
  },
  {
   "cell_type": "markdown",
   "id": "768cbd77-bb07-4430-9649-b1d52f24347b",
   "metadata": {},
   "source": [
    "Now we are starting to apply various methods to combat the imbalance in the data. We will carry out a similar series of hyperparameter tunings for the above models, simultaneously applying the following three ways to solve the problem of class imbalance:\n",
    "\n",
    "* *Weighing classes*\n",
    "* *Increasing sample size (Upsampling)*\n",
    "* *Decreasing sample size (Downsampling)*"
   ]
  },
  {
   "cell_type": "markdown",
   "id": "5eba86e1-3f04-482b-88dd-79d3efded99d",
   "metadata": {},
   "source": [
    "## Weighing classes"
   ]
  },
  {
   "cell_type": "markdown",
   "id": "55288bd8-7ced-413f-9872-0a70c2e0fa0c",
   "metadata": {},
   "source": [
    "In order to apply this method, we do not need to radically change the code, but only specify `class_weight=\"balanced\"` when defining the model."
   ]
  },
  {
   "cell_type": "markdown",
   "id": "2b36b2ee-f480-412a-90d0-5136b824c8ba",
   "metadata": {},
   "source": [
    "### Decision Tree"
   ]
  },
  {
   "cell_type": "code",
   "execution_count": 51,
   "id": "df630e82-46b1-49aa-918b-a0a31f082b25",
   "metadata": {},
   "outputs": [
    {
     "data": {
      "text/plain": [
       "{'ccp_alpha': 0.0,\n",
       " 'class_weight': 'balanced',\n",
       " 'criterion': 'gini',\n",
       " 'max_depth': None,\n",
       " 'max_features': None,\n",
       " 'max_leaf_nodes': None,\n",
       " 'min_impurity_decrease': 0.0,\n",
       " 'min_samples_leaf': 1,\n",
       " 'min_samples_split': 2,\n",
       " 'min_weight_fraction_leaf': 0.0,\n",
       " 'random_state': 12345,\n",
       " 'splitter': 'best'}"
      ]
     },
     "execution_count": 51,
     "metadata": {},
     "output_type": "execute_result"
    }
   ],
   "source": [
    "dtc_weighted_model = DecisionTreeClassifier(\n",
    "    class_weight=\"balanced\", random_state=RANDOM_STATE\n",
    ")\n",
    "dtc_weighted_model.get_params()"
   ]
  },
  {
   "cell_type": "code",
   "execution_count": 52,
   "id": "3d3d8154-5de2-42d0-83c4-46f1002bab8d",
   "metadata": {},
   "outputs": [],
   "source": [
    "best_model_dtc, best_result_dtc = run_grid_search(\n",
    "    model=dtc_weighted_model,\n",
    "    param_grid=param_grid_dtc,\n",
    "    training_dataset=(features_train_scaled, target_train),\n",
    "    valid_dataset=(features_valid_scaled, target_valid),\n",
    "    scoring_function=f1_score,\n",
    ")"
   ]
  },
  {
   "cell_type": "code",
   "execution_count": 53,
   "id": "2ad8b34e-c484-4ffe-b044-2db2abbea6d4",
   "metadata": {},
   "outputs": [
    {
     "name": "stdout",
     "output_type": "stream",
     "text": [
      "Best model: DecisionTreeClassifier(class_weight='balanced', max_depth=5, random_state=12345)\n",
      "Best F1-Score: 0.5735\n"
     ]
    }
   ],
   "source": [
    "print(f\"Best model: {best_model_dtc}\")\n",
    "print(f\"Best F1-Score: {best_result_dtc:.4f}\")"
   ]
  },
  {
   "cell_type": "code",
   "execution_count": 54,
   "id": "e5409320-d526-4d84-a5cd-815db0ef929c",
   "metadata": {},
   "outputs": [
    {
     "name": "stdout",
     "output_type": "stream",
     "text": [
      "AUC-ROC: 0.8397\n"
     ]
    }
   ],
   "source": [
    "probabilities_valid = best_model_dtc.predict_proba(features_valid_scaled)\n",
    "probabilities_one_valid = probabilities_valid[:, 1]\n",
    "\n",
    "auc_roc_dtc = roc_auc_score(target_valid, probabilities_one_valid)\n",
    "print(f\"AUC-ROC: {auc_roc_dtc:.4f}\")"
   ]
  },
  {
   "cell_type": "markdown",
   "id": "74933fc5-cb81-4db3-b725-e6da7e8a4b9c",
   "metadata": {},
   "source": [
    "### Random Forest"
   ]
  },
  {
   "cell_type": "code",
   "execution_count": 55,
   "id": "9998a96e-76e6-4410-92b0-bd65cfe745cc",
   "metadata": {},
   "outputs": [
    {
     "data": {
      "text/plain": [
       "{'bootstrap': True,\n",
       " 'ccp_alpha': 0.0,\n",
       " 'class_weight': 'balanced',\n",
       " 'criterion': 'gini',\n",
       " 'max_depth': None,\n",
       " 'max_features': 'sqrt',\n",
       " 'max_leaf_nodes': None,\n",
       " 'max_samples': None,\n",
       " 'min_impurity_decrease': 0.0,\n",
       " 'min_samples_leaf': 1,\n",
       " 'min_samples_split': 2,\n",
       " 'min_weight_fraction_leaf': 0.0,\n",
       " 'n_estimators': 100,\n",
       " 'n_jobs': None,\n",
       " 'oob_score': False,\n",
       " 'random_state': 12345,\n",
       " 'verbose': 0,\n",
       " 'warm_start': False}"
      ]
     },
     "execution_count": 55,
     "metadata": {},
     "output_type": "execute_result"
    }
   ],
   "source": [
    "rfc_weighted_model = RandomForestClassifier(\n",
    "    class_weight=\"balanced\", random_state=RANDOM_STATE\n",
    ")\n",
    "rfc_weighted_model.get_params()"
   ]
  },
  {
   "cell_type": "code",
   "execution_count": 56,
   "id": "c23c4698-8ad8-42d1-9e23-2a0e25d5544d",
   "metadata": {},
   "outputs": [],
   "source": [
    "best_model_rfc, best_result_rfc = run_grid_search(\n",
    "    model=rfc_weighted_model,\n",
    "    param_grid=param_grid_rfc,\n",
    "    training_dataset=(features_train_scaled, target_train),\n",
    "    valid_dataset=(features_valid_scaled, target_valid),\n",
    "    scoring_function=f1_score,\n",
    ")"
   ]
  },
  {
   "cell_type": "code",
   "execution_count": 57,
   "id": "673fe3e0-b30a-428b-8d5a-a37bfb2ca097",
   "metadata": {},
   "outputs": [
    {
     "name": "stdout",
     "output_type": "stream",
     "text": [
      "Best model: RandomForestClassifier(class_weight='balanced', max_depth=9, n_estimators=60,\n",
      "                       random_state=12345)\n",
      "Best F1-Score: 0.6409\n"
     ]
    }
   ],
   "source": [
    "print(f\"Best model: {best_model_rfc}\")\n",
    "print(f\"Best F1-Score: {best_result_rfc:.4f}\")"
   ]
  },
  {
   "cell_type": "code",
   "execution_count": 58,
   "id": "6fec0464-78c8-4307-b4bd-94c1abacdc05",
   "metadata": {},
   "outputs": [
    {
     "name": "stdout",
     "output_type": "stream",
     "text": [
      "AUC-ROC: 0.8670\n"
     ]
    }
   ],
   "source": [
    "probabilities_valid = best_model_rfc.predict_proba(features_valid_scaled)\n",
    "probabilities_one_valid = probabilities_valid[:, 1]\n",
    "\n",
    "auc_roc_rfc = roc_auc_score(target_valid, probabilities_one_valid)\n",
    "print(f\"AUC-ROC: {auc_roc_rfc:.4f}\")"
   ]
  },
  {
   "cell_type": "markdown",
   "id": "b2258476-a362-4772-9888-b913bb15a1b9",
   "metadata": {},
   "source": [
    "### Logistic Regression"
   ]
  },
  {
   "cell_type": "code",
   "execution_count": 59,
   "id": "3d593097-055b-412f-abdf-8db3d08d2649",
   "metadata": {},
   "outputs": [
    {
     "data": {
      "text/plain": [
       "{'C': 1.0,\n",
       " 'class_weight': 'balanced',\n",
       " 'dual': False,\n",
       " 'fit_intercept': True,\n",
       " 'intercept_scaling': 1,\n",
       " 'l1_ratio': None,\n",
       " 'max_iter': 1000,\n",
       " 'multi_class': 'auto',\n",
       " 'n_jobs': None,\n",
       " 'penalty': 'l2',\n",
       " 'random_state': 12345,\n",
       " 'solver': 'liblinear',\n",
       " 'tol': 0.0001,\n",
       " 'verbose': 0,\n",
       " 'warm_start': False}"
      ]
     },
     "execution_count": 59,
     "metadata": {},
     "output_type": "execute_result"
    }
   ],
   "source": [
    "log_weighted_model = LogisticRegression(\n",
    "    random_state=RANDOM_STATE,\n",
    "    solver=\"liblinear\",\n",
    "    class_weight=\"balanced\",\n",
    "    max_iter=1000,\n",
    ")\n",
    "log_weighted_model.get_params()"
   ]
  },
  {
   "cell_type": "code",
   "execution_count": 60,
   "id": "0cc3a16d-6b63-4879-b853-d2e7216c0240",
   "metadata": {},
   "outputs": [],
   "source": [
    "best_model_log, best_result_log = run_grid_search(\n",
    "    model=log_weighted_model,\n",
    "    param_grid=param_grid_log,\n",
    "    training_dataset=(features_train_scaled, target_train),\n",
    "    valid_dataset=(features_valid_scaled, target_valid),\n",
    "    scoring_function=f1_score,\n",
    ")"
   ]
  },
  {
   "cell_type": "code",
   "execution_count": 61,
   "id": "9e04b847-ad36-4c94-b71f-78babfcac196",
   "metadata": {},
   "outputs": [
    {
     "name": "stdout",
     "output_type": "stream",
     "text": [
      "Best model: LogisticRegression(class_weight='balanced', max_iter=1000, random_state=12345,\n",
      "                   solver='liblinear')\n",
      "Best F1-Score: 0.5097\n"
     ]
    }
   ],
   "source": [
    "print(f\"Best model: {best_model_log}\")\n",
    "print(f\"Best F1-Score: {best_result_log:.4f}\")"
   ]
  },
  {
   "cell_type": "code",
   "execution_count": 62,
   "id": "f8d400a4-8a04-4303-909b-8914adda8667",
   "metadata": {},
   "outputs": [
    {
     "name": "stdout",
     "output_type": "stream",
     "text": [
      "AUC-ROC: 0.7778\n"
     ]
    }
   ],
   "source": [
    "probabilities_valid = best_model_log.predict_proba(features_valid_scaled)\n",
    "probabilities_one_valid = probabilities_valid[:, 1]\n",
    "\n",
    "auc_roc_log = roc_auc_score(target_valid, probabilities_one_valid)\n",
    "print(f\"AUC-ROC: {auc_roc_log:.4f}\")"
   ]
  },
  {
   "cell_type": "markdown",
   "id": "2c5a2b7f-aa41-49da-ba2b-e707d0e484be",
   "metadata": {},
   "source": [
    "### Model comparison"
   ]
  },
  {
   "cell_type": "code",
   "execution_count": 63,
   "id": "346122c7-df26-4e2a-97cd-a1f3a20aa9eb",
   "metadata": {},
   "outputs": [
    {
     "data": {
      "image/png": "[encoded data removed]",
      "text/plain": [
       "<Figure size 1500x700 with 1 Axes>"
      ]
     },
     "metadata": {},
     "output_type": "display_data"
    }
   ],
   "source": [
    "results = [\n",
    "    (\"Decision Tree\", best_result_dtc),\n",
    "    (\"Random Forest\", best_result_rfc),\n",
    "    (\"Logistic Regression\", best_result_log),\n",
    "]\n",
    "plot_model_comparison(\n",
    "    results,\n",
    "    metric_name=\"F1-score\",\n",
    "    title_name=\"Grid search results (balanced)\",\n",
    ")"
   ]
  },
  {
   "cell_type": "code",
   "execution_count": 64,
   "id": "0d6f63a8-b1be-464d-aaa3-663ac7ece6b8",
   "metadata": {},
   "outputs": [
    {
     "data": {
      "image/png": "[encoded data removed]",
      "text/plain": [
       "<Figure size 1500x700 with 1 Axes>"
      ]
     },
     "metadata": {},
     "output_type": "display_data"
    }
   ],
   "source": [
    "results = [\n",
    "    (\"Decision Tree\", auc_roc_dtc),\n",
    "    (\"Random Forest\", auc_roc_rfc),\n",
    "    (\"Logistic Regression\", auc_roc_log),\n",
    "]\n",
    "plot_model_comparison(\n",
    "    results,\n",
    "    metric_name=\"AUC-ROC\",\n",
    "    title_name=\"Grid search results (ignoring imbalance)\",\n",
    ")"
   ]
  },
  {
   "cell_type": "code",
   "execution_count": 65,
   "id": "a9cb808f-7bd3-499d-8df0-988b454f9a9b",
   "metadata": {},
   "outputs": [
    {
     "name": "stdout",
     "output_type": "stream",
     "text": [
      "Best model: RandomForestClassifier(class_weight='balanced', max_depth=9, n_estimators=60,\n",
      "                       random_state=12345)\n",
      "Best F1-Score: 0.6409\n",
      "Best AUC-ROC: 0.8670\n"
     ]
    }
   ],
   "source": [
    "best_model_weighted = best_model_rfc\n",
    "best_f1_weighted = best_result_rfc\n",
    "best_auc_roc_weighted = auc_roc_rfc\n",
    "\n",
    "print(f\"Best model: {best_model_weighted}\")\n",
    "print(f\"Best F1-Score: {best_f1_weighted:.4f}\")\n",
    "print(f\"Best AUC-ROC: {best_auc_roc_weighted:.4f}\")"
   ]
  },
  {
   "cell_type": "markdown",
   "id": "6f9117bc-fcaf-45cf-8e26-22c4555a2ae5",
   "metadata": {},
   "source": [
    "Now we can see that after weighting classes, the best model proved to be a Random Forest with 60 trees and a depth of 9. Notably, the value of *F1* metric increased pretty drastically in comparison with the case of ignoring classes imbalance."
   ]
  },
  {
   "cell_type": "markdown",
   "id": "e724db2a-b0ad-46fc-ae80-a18c7b07450b",
   "metadata": {},
   "source": [
    "## Increasing sample size"
   ]
  },
  {
   "cell_type": "markdown",
   "id": "42367cff-675d-4a78-ae27-3c5e25e7eed9",
   "metadata": {},
   "source": [
    "The next technique we will use is called upsampling, where we increase our sample size with the same data to achieve classes balance. This can be done by making use of `SMOTE` from `over_sampling` module of `imblearn` library for dealing with imbalanced data. We will apply this on the training set only, since this the data the models are training on."
   ]
  },
  {
   "cell_type": "code",
   "execution_count": 66,
   "id": "3ebaa758-b80a-4528-8d72-56e54e06eeb6",
   "metadata": {},
   "outputs": [],
   "source": [
    "# Upsampling the training data\n",
    "oversample = SMOTE(random_state=RANDOM_STATE)\n",
    "features_train_upsampled, target_train_upsampled = oversample.fit_resample(\n",
    "    features_train_scaled, target_train\n",
    ")"
   ]
  },
  {
   "cell_type": "code",
   "execution_count": 67,
   "id": "70639ea5-16f3-43b5-9744-bb28584df65b",
   "metadata": {},
   "outputs": [
    {
     "data": {
      "image/png": "[encoded data removed]",
      "text/plain": [
       "<Figure size 640x480 with 1 Axes>"
      ]
     },
     "metadata": {},
     "output_type": "display_data"
    }
   ],
   "source": [
    "plot_class_structure(\n",
    "    target_var=target_train_upsampled,\n",
    "    xlabel_name=\"Classes (exited)\",\n",
    "    ylabel_name=\"Share\",\n",
    "    title_name=\"Target variable structure (upsampled)\",\n",
    ")"
   ]
  },
  {
   "cell_type": "markdown",
   "id": "57fcef5c-382f-4423-9ae7-7644d0106085",
   "metadata": {},
   "source": [
    "We can see that now we have managed to achieve class balance by supplying our data with the same data to attain equilibrium of classes."
   ]
  },
  {
   "cell_type": "markdown",
   "id": "e92c330b-d936-4ec8-a836-c79a98b241e1",
   "metadata": {},
   "source": [
    "### Decision Tree"
   ]
  },
  {
   "cell_type": "code",
   "execution_count": 68,
   "id": "a3f58931-214d-49df-b16a-bbfb0a12592d",
   "metadata": {},
   "outputs": [],
   "source": [
    "best_model_dtc, best_result_dtc = run_grid_search(\n",
    "    model=dtc_model,\n",
    "    param_grid=param_grid_dtc,\n",
    "    training_dataset=(features_train_upsampled, target_train_upsampled),\n",
    "    valid_dataset=(features_valid_scaled, target_valid),\n",
    "    scoring_function=f1_score,\n",
    ")"
   ]
  },
  {
   "cell_type": "code",
   "execution_count": 69,
   "id": "5fb1d264-49a1-4e33-b85c-d32fa69c43b8",
   "metadata": {},
   "outputs": [
    {
     "name": "stdout",
     "output_type": "stream",
     "text": [
      "Best model: DecisionTreeClassifier(max_depth=7, random_state=12345)\n",
      "Best F1-Score: 0.6037\n"
     ]
    }
   ],
   "source": [
    "print(f\"Best model: {best_model_dtc}\")\n",
    "print(f\"Best F1-Score: {best_result_dtc:.4f}\")"
   ]
  },
  {
   "cell_type": "code",
   "execution_count": 70,
   "id": "62bfeec8-9055-4e2e-9719-679cdaa9a49f",
   "metadata": {},
   "outputs": [
    {
     "name": "stdout",
     "output_type": "stream",
     "text": [
      "AUC-ROC: 0.8185\n"
     ]
    }
   ],
   "source": [
    "probabilities_valid = best_model_dtc.predict_proba(features_valid_scaled)\n",
    "probabilities_one_valid = probabilities_valid[:, 1]\n",
    "\n",
    "auc_roc_dtc = roc_auc_score(target_valid, probabilities_one_valid)\n",
    "print(f\"AUC-ROC: {auc_roc_dtc:.4f}\")"
   ]
  },
  {
   "cell_type": "markdown",
   "id": "4d5775e0-77ea-4c02-ad68-b880a3d84c2f",
   "metadata": {},
   "source": [
    "### Random Forest"
   ]
  },
  {
   "cell_type": "code",
   "execution_count": 71,
   "id": "34450aaa-5b51-4fa4-9332-fece4a520e77",
   "metadata": {},
   "outputs": [],
   "source": [
    "best_model_rfc, best_result_rfc = run_grid_search(\n",
    "    model=rfc_model,\n",
    "    param_grid=param_grid_rfc,\n",
    "    training_dataset=(features_train_upsampled, target_train_upsampled),\n",
    "    valid_dataset=(features_valid_scaled, target_valid),\n",
    "    scoring_function=f1_score,\n",
    ")"
   ]
  },
  {
   "cell_type": "code",
   "execution_count": 72,
   "id": "7ebdcc17-45f2-415e-abe2-3019f5bc69f2",
   "metadata": {},
   "outputs": [
    {
     "name": "stdout",
     "output_type": "stream",
     "text": [
      "Best model: RandomForestClassifier(max_depth=9, n_estimators=60, random_state=12345)\n",
      "Best F1-Score: 0.6456\n"
     ]
    }
   ],
   "source": [
    "print(f\"Best model: {best_model_rfc}\")\n",
    "print(f\"Best F1-Score: {best_result_rfc:.4f}\")"
   ]
  },
  {
   "cell_type": "code",
   "execution_count": 73,
   "id": "40c76134-b992-4b9a-9129-8ed85040fe85",
   "metadata": {},
   "outputs": [
    {
     "name": "stdout",
     "output_type": "stream",
     "text": [
      "AUC-ROC: 0.8686\n"
     ]
    }
   ],
   "source": [
    "probabilities_valid = best_model_rfc.predict_proba(features_valid_scaled)\n",
    "probabilities_one_valid = probabilities_valid[:, 1]\n",
    "\n",
    "auc_roc_rfc = roc_auc_score(target_valid, probabilities_one_valid)\n",
    "print(f\"AUC-ROC: {auc_roc_rfc:.4f}\")"
   ]
  },
  {
   "cell_type": "markdown",
   "id": "dcd39da8-cf23-4f94-a44e-d791bcf9473a",
   "metadata": {},
   "source": [
    "### Logistic Regression"
   ]
  },
  {
   "cell_type": "code",
   "execution_count": 74,
   "id": "ef791e67-51e4-446a-bd1a-8860406a84de",
   "metadata": {},
   "outputs": [],
   "source": [
    "best_model_log, best_result_log = run_grid_search(\n",
    "    model=log_model,\n",
    "    param_grid=param_grid_log,\n",
    "    training_dataset=(features_train_upsampled, target_train_upsampled),\n",
    "    valid_dataset=(features_valid_scaled, target_valid),\n",
    "    scoring_function=f1_score,\n",
    ")"
   ]
  },
  {
   "cell_type": "code",
   "execution_count": 75,
   "id": "1d4bb631-49da-412a-9b64-b791429307ab",
   "metadata": {},
   "outputs": [
    {
     "name": "stdout",
     "output_type": "stream",
     "text": [
      "Best model: LogisticRegression(max_iter=1000, random_state=12345, solver='liblinear')\n",
      "Best F1-Score: 0.4995\n"
     ]
    }
   ],
   "source": [
    "print(f\"Best model: {best_model_log}\")\n",
    "print(f\"Best F1-Score: {best_result_log:.4f}\")"
   ]
  },
  {
   "cell_type": "code",
   "execution_count": 76,
   "id": "957db44d-6cdf-4ea7-be26-de102026dc11",
   "metadata": {},
   "outputs": [
    {
     "name": "stdout",
     "output_type": "stream",
     "text": [
      "AUC-ROC: 0.7659\n"
     ]
    }
   ],
   "source": [
    "probabilities_valid = best_model_log.predict_proba(features_valid_scaled)\n",
    "probabilities_one_valid = probabilities_valid[:, 1]\n",
    "\n",
    "auc_roc_log = roc_auc_score(target_valid, probabilities_one_valid)\n",
    "print(f\"AUC-ROC: {auc_roc_log:.4f}\")"
   ]
  },
  {
   "cell_type": "markdown",
   "id": "42d7f4a0-0c50-4ec2-aec5-b483b6d2fbc5",
   "metadata": {},
   "source": [
    "### Model comparison"
   ]
  },
  {
   "cell_type": "code",
   "execution_count": 77,
   "id": "ebe65cbd-dd11-44dc-9c5b-b5b0506afb4e",
   "metadata": {},
   "outputs": [
    {
     "data": {
      "image/png": "[encoded data removed]",
      "text/plain": [
       "<Figure size 1500x700 with 1 Axes>"
      ]
     },
     "metadata": {},
     "output_type": "display_data"
    }
   ],
   "source": [
    "results = [\n",
    "    (\"Decision Tree\", best_result_dtc),\n",
    "    (\"Random Forest\", best_result_rfc),\n",
    "    (\"Logistic Regression\", best_result_log),\n",
    "]\n",
    "plot_model_comparison(\n",
    "    results,\n",
    "    metric_name=\"F1-score\",\n",
    "    title_name=\"Grid search results (upsampled)\",\n",
    ")"
   ]
  },
  {
   "cell_type": "code",
   "execution_count": 78,
   "id": "d36b7e92-e2e4-4b23-9068-2b76954af24a",
   "metadata": {},
   "outputs": [
    {
     "data": {
      "image/png": "[encoded data removed]",
      "text/plain": [
       "<Figure size 1500x700 with 1 Axes>"
      ]
     },
     "metadata": {},
     "output_type": "display_data"
    }
   ],
   "source": [
    "results = [\n",
    "    (\"Decision Tree\", auc_roc_dtc),\n",
    "    (\"Random Forest\", auc_roc_rfc),\n",
    "    (\"Logistic Regression\", auc_roc_log),\n",
    "]\n",
    "plot_model_comparison(\n",
    "    results,\n",
    "    metric_name=\"AUC-ROC\",\n",
    "    title_name=\"Grid search results (ignoring upsampled)\",\n",
    ")"
   ]
  },
  {
   "cell_type": "code",
   "execution_count": 79,
   "id": "1f7639bb-39b7-4c9c-b6e3-5cca925af016",
   "metadata": {},
   "outputs": [
    {
     "name": "stdout",
     "output_type": "stream",
     "text": [
      "Best model: RandomForestClassifier(max_depth=9, n_estimators=60, random_state=12345)\n",
      "Best F1-Score: 0.6456\n",
      "Best AUC-ROC: 0.8686\n"
     ]
    }
   ],
   "source": [
    "best_model_upsampled = best_model_rfc\n",
    "best_f1_upsampled = best_result_rfc\n",
    "best_auc_roc_upsampled = auc_roc_rfc\n",
    "\n",
    "print(f\"Best model: {best_model_upsampled}\")\n",
    "print(f\"Best F1-Score: {best_f1_upsampled:.4f}\")\n",
    "print(f\"Best AUC-ROC: {best_auc_roc_upsampled:.4f}\")"
   ]
  },
  {
   "cell_type": "markdown",
   "id": "36afbbcf-4bc3-4d6e-acd3-6c29802df16e",
   "metadata": {},
   "source": [
    "The best model for the case of upsampling is a Random Forest with 60 trees, each with a depth of 9."
   ]
  },
  {
   "cell_type": "markdown",
   "id": "45d90bcc-af3a-4aaf-ac1d-81c2c1cffc30",
   "metadata": {},
   "source": [
    "## Decreasing sample size"
   ]
  },
  {
   "cell_type": "markdown",
   "id": "8ba892ba-4aaf-44a5-921d-0c4f009dd710",
   "metadata": {},
   "source": [
    "The last technique we will consider is downsampling, which is the opposite of upsampling: we decrease sample size to achieve class balance. This can also be done using `imblearn` library, where we will make use of `RandomUnderSampler()` from `under_sampling` module."
   ]
  },
  {
   "cell_type": "code",
   "execution_count": 80,
   "id": "07816873-fd63-4862-832f-744c57b8d2d9",
   "metadata": {},
   "outputs": [],
   "source": [
    "# Downsampling the training set\n",
    "undersample = RandomUnderSampler(random_state=RANDOM_STATE)\n",
    "features_train_downsampled, target_train_downsampled = undersample.fit_resample(\n",
    "    features_train_scaled, target_train\n",
    ")"
   ]
  },
  {
   "cell_type": "code",
   "execution_count": 81,
   "id": "1df296ec-f74e-4dfd-89fb-955afe6b21ad",
   "metadata": {},
   "outputs": [
    {
     "data": {
      "image/png": "[encoded data removed]",
      "text/plain": [
       "<Figure size 640x480 with 1 Axes>"
      ]
     },
     "metadata": {},
     "output_type": "display_data"
    }
   ],
   "source": [
    "plot_class_structure(\n",
    "    target_var=target_train_downsampled,\n",
    "    xlabel_name=\"Classes (exited)\",\n",
    "    ylabel_name=\"Share\",\n",
    "    title_name=\"Target variable structure (downsampled)\",\n",
    ")"
   ]
  },
  {
   "cell_type": "markdown",
   "id": "5a975ed3-4885-4b62-9be5-feb398ddfdc2",
   "metadata": {},
   "source": [
    "### Decision Tree"
   ]
  },
  {
   "cell_type": "code",
   "execution_count": 82,
   "id": "5e2e95a9-4cef-43f8-838c-0b21dba6738c",
   "metadata": {},
   "outputs": [],
   "source": [
    "best_model_dtc, best_result_dtc = run_grid_search(\n",
    "    model=dtc_model,\n",
    "    param_grid=param_grid_dtc,\n",
    "    training_dataset=(features_train_downsampled, target_train_downsampled),\n",
    "    valid_dataset=(features_valid_scaled, target_valid),\n",
    "    scoring_function=f1_score,\n",
    ")"
   ]
  },
  {
   "cell_type": "code",
   "execution_count": 83,
   "id": "eddb57e1-658f-4133-a608-7b363c861954",
   "metadata": {},
   "outputs": [
    {
     "name": "stdout",
     "output_type": "stream",
     "text": [
      "Best model: DecisionTreeClassifier(max_depth=8, random_state=12345)\n",
      "Best F1-Score: 0.5694\n"
     ]
    }
   ],
   "source": [
    "print(f\"Best model: {best_model_dtc}\")\n",
    "print(f\"Best F1-Score: {best_result_dtc:.4f}\")"
   ]
  },
  {
   "cell_type": "code",
   "execution_count": 84,
   "id": "05ce96e4-ce01-460f-8392-6ed8e461feea",
   "metadata": {},
   "outputs": [
    {
     "name": "stdout",
     "output_type": "stream",
     "text": [
      "AUC-ROC: 0.8060\n"
     ]
    }
   ],
   "source": [
    "probabilities_valid = best_model_dtc.predict_proba(features_valid_scaled)\n",
    "probabilities_one_valid = probabilities_valid[:, 1]\n",
    "\n",
    "auc_roc_dtc = roc_auc_score(target_valid, probabilities_one_valid)\n",
    "print(f\"AUC-ROC: {auc_roc_dtc:.4f}\")"
   ]
  },
  {
   "cell_type": "markdown",
   "id": "83d68ea6-4574-47e1-a40e-9ea1c11c5f51",
   "metadata": {},
   "source": [
    "### Random Forest"
   ]
  },
  {
   "cell_type": "code",
   "execution_count": 85,
   "id": "d981f52e-bada-45bf-8619-be1cd1cdc73f",
   "metadata": {},
   "outputs": [],
   "source": [
    "best_model_rfc, best_result_rfc = run_grid_search(\n",
    "    model=rfc_model,\n",
    "    param_grid=param_grid_rfc,\n",
    "    training_dataset=(features_train_downsampled, target_train_downsampled),\n",
    "    valid_dataset=(features_valid_scaled, target_valid),\n",
    "    scoring_function=f1_score,\n",
    ")"
   ]
  },
  {
   "cell_type": "code",
   "execution_count": 86,
   "id": "d7ee2da4-ec98-4db5-8c1d-789273367560",
   "metadata": {},
   "outputs": [
    {
     "name": "stdout",
     "output_type": "stream",
     "text": [
      "Best model: RandomForestClassifier(max_depth=9, n_estimators=80, random_state=12345)\n",
      "Best F1-Score: 0.6020\n"
     ]
    }
   ],
   "source": [
    "print(f\"Best model: {best_model_rfc}\")\n",
    "print(f\"Best F1-Score: {best_result_rfc:.4f}\")"
   ]
  },
  {
   "cell_type": "code",
   "execution_count": 87,
   "id": "bd40031f-f081-4c42-aa96-69f6d8b2dfa3",
   "metadata": {},
   "outputs": [
    {
     "name": "stdout",
     "output_type": "stream",
     "text": [
      "AUC-ROC: 0.8686\n"
     ]
    }
   ],
   "source": [
    "probabilities_valid = best_model_rfc.predict_proba(features_valid_scaled)\n",
    "probabilities_one_valid = probabilities_valid[:, 1]\n",
    "\n",
    "auc_roc_rfc = roc_auc_score(target_valid, probabilities_one_valid)\n",
    "print(f\"AUC-ROC: {auc_roc_rfc:.4f}\")"
   ]
  },
  {
   "cell_type": "markdown",
   "id": "c4e4b47e-2f4f-4b07-8015-4c97f990d45e",
   "metadata": {},
   "source": [
    "### Logistic Regression"
   ]
  },
  {
   "cell_type": "code",
   "execution_count": 88,
   "id": "37649308-a04f-4379-bfc0-4d4eabe351f5",
   "metadata": {},
   "outputs": [],
   "source": [
    "best_model_log, best_result_log = run_grid_search(\n",
    "    model=log_model,\n",
    "    param_grid=param_grid_log,\n",
    "    training_dataset=(features_train_downsampled, target_train_downsampled),\n",
    "    valid_dataset=(features_valid_scaled, target_valid),\n",
    "    scoring_function=f1_score,\n",
    ")"
   ]
  },
  {
   "cell_type": "code",
   "execution_count": 89,
   "id": "881beb99-2f5a-420b-be6b-6228be2c47b5",
   "metadata": {},
   "outputs": [
    {
     "name": "stdout",
     "output_type": "stream",
     "text": [
      "Best model: LogisticRegression(max_iter=1000, random_state=12345, solver='liblinear')\n",
      "Best F1-Score: 0.5041\n"
     ]
    }
   ],
   "source": [
    "print(f\"Best model: {best_model_log}\")\n",
    "print(f\"Best F1-Score: {best_result_log:.4f}\")"
   ]
  },
  {
   "cell_type": "code",
   "execution_count": 90,
   "id": "68971d45-d70f-4558-a3d7-a02682c440db",
   "metadata": {},
   "outputs": [
    {
     "name": "stdout",
     "output_type": "stream",
     "text": [
      "AUC-ROC: 0.7758\n"
     ]
    }
   ],
   "source": [
    "probabilities_valid = best_model_log.predict_proba(features_valid_scaled)\n",
    "probabilities_one_valid = probabilities_valid[:, 1]\n",
    "\n",
    "auc_roc_log = roc_auc_score(target_valid, probabilities_one_valid)\n",
    "print(f\"AUC-ROC: {auc_roc_log:.4f}\")"
   ]
  },
  {
   "cell_type": "markdown",
   "id": "a0a7b939-da37-4c3d-a618-d742fa811b3c",
   "metadata": {},
   "source": [
    "### Model comparison"
   ]
  },
  {
   "cell_type": "code",
   "execution_count": 91,
   "id": "e58a3cc7-b26b-4752-976e-709cefcd6807",
   "metadata": {},
   "outputs": [
    {
     "data": {
      "image/png": "[encoded data removed]",
      "text/plain": [
       "<Figure size 1500x700 with 1 Axes>"
      ]
     },
     "metadata": {},
     "output_type": "display_data"
    }
   ],
   "source": [
    "results = [\n",
    "    (\"Decision Tree\", best_result_dtc),\n",
    "    (\"Random Forest\", best_result_rfc),\n",
    "    (\"Logistic Regression\", best_result_log),\n",
    "]\n",
    "plot_model_comparison(\n",
    "    results,\n",
    "    metric_name=\"F1-score\",\n",
    "    title_name=\"Grid search results (downsampled)\",\n",
    ")"
   ]
  },
  {
   "cell_type": "code",
   "execution_count": 92,
   "id": "bc4748e2-d49e-4d0c-a479-5472779df812",
   "metadata": {},
   "outputs": [
    {
     "data": {
      "image/png": "[encoded data removed]",
      "text/plain": [
       "<Figure size 1500x700 with 1 Axes>"
      ]
     },
     "metadata": {},
     "output_type": "display_data"
    }
   ],
   "source": [
    "results = [\n",
    "    (\"Decision Tree\", auc_roc_dtc),\n",
    "    (\"Random Forest\", auc_roc_rfc),\n",
    "    (\"Logistic Regression\", auc_roc_log),\n",
    "]\n",
    "plot_model_comparison(\n",
    "    results,\n",
    "    metric_name=\"AUC-ROC\",\n",
    "    title_name=\"Grid search results (downsampled)\",\n",
    ")"
   ]
  },
  {
   "cell_type": "code",
   "execution_count": 93,
   "id": "107d8e84-26e7-418a-b146-8cab1727aa06",
   "metadata": {},
   "outputs": [
    {
     "name": "stdout",
     "output_type": "stream",
     "text": [
      "Best model: RandomForestClassifier(max_depth=9, n_estimators=80, random_state=12345)\n",
      "Best F1-Score: 0.6020\n",
      "Best AUC-ROC: 0.8686\n"
     ]
    }
   ],
   "source": [
    "best_model_downsampled = best_model_rfc\n",
    "best_f1_downsampled = best_result_rfc\n",
    "best_auc_roc_downsampled = auc_roc_rfc\n",
    "\n",
    "print(f\"Best model: {best_model_downsampled}\")\n",
    "print(f\"Best F1-Score: {best_f1_downsampled:.4f}\")\n",
    "print(f\"Best AUC-ROC: {best_auc_roc_downsampled:.4f}\")"
   ]
  },
  {
   "cell_type": "markdown",
   "id": "399f48ce-270b-454b-8d17-91da3b72030a",
   "metadata": {},
   "source": [
    "The best model here is again a Random Forest with 80 trees and a depth of 9."
   ]
  },
  {
   "cell_type": "markdown",
   "id": "62302265-971b-4836-8c6e-3780473ba004",
   "metadata": {},
   "source": [
    "**Conclusion**\n",
    "\n",
    "This section was devoted to applying techniques to combat class imbalance. We have managed to implement weighting classes, upsampling and downsampling in a series of hyperparameter tunings. All best models that have been detected within a particular method showed that the best-performing one is a Random Forest with *F1* scores larger than that in case of class imbalance being present."
   ]
  },
  {
   "cell_type": "markdown",
   "id": "82b6c7a4-ff06-48ec-8fd5-daa0deaede45",
   "metadata": {},
   "source": [
    "# Final comparison"
   ]
  },
  {
   "cell_type": "markdown",
   "id": "39079e0c-dc55-475d-9b6e-4cd46c679044",
   "metadata": {},
   "source": [
    "Now we are ready to compare the models. Let's create a table that will show which model we will end up testing."
   ]
  },
  {
   "cell_type": "code",
   "execution_count": 94,
   "id": "cb330679-af1a-4f2a-bd20-c112ee6ad03e",
   "metadata": {},
   "outputs": [
    {
     "data": {
      "image/png": "[encoded data removed]",
      "text/plain": [
       "<Figure size 1500x700 with 1 Axes>"
      ]
     },
     "metadata": {},
     "output_type": "display_data"
    }
   ],
   "source": [
    "results = [\n",
    "    (\"Unbalanced\", best_f1_unbalanced),\n",
    "    (\"Weighted\", best_f1_weighted),\n",
    "    (\"Upsampled\", best_f1_upsampled),\n",
    "    (\"Downsampled\", best_f1_downsampled),\n",
    "]\n",
    "plot_model_comparison(\n",
    "    results,\n",
    "    metric_name=\"F1-score\",\n",
    "    title_name=\"Grid search results (Choosing final model)\",\n",
    ")"
   ]
  },
  {
   "cell_type": "code",
   "execution_count": 95,
   "id": "270c0e2e-8eb6-4054-9d9b-62350600c89d",
   "metadata": {},
   "outputs": [
    {
     "data": {
      "image/png": "[encoded data removed]",
      "text/plain": [
       "<Figure size 1500x700 with 1 Axes>"
      ]
     },
     "metadata": {},
     "output_type": "display_data"
    }
   ],
   "source": [
    "results = [\n",
    "    (\"Unbalanced\", best_auc_roc_unbalanced),\n",
    "    (\"Weighted\", best_auc_roc_weighted),\n",
    "    (\"Upsampled\", best_auc_roc_upsampled),\n",
    "    (\"Downsampled\", best_auc_roc_downsampled),\n",
    "]\n",
    "plot_model_comparison(\n",
    "    results,\n",
    "    metric_name=\"AUC-ROC\",\n",
    "    title_name=\"Grid search results (Choosing final model)\",\n",
    ")"
   ]
  },
  {
   "cell_type": "code",
   "execution_count": 96,
   "id": "d685954b-f74b-4993-ba32-0d895630ca78",
   "metadata": {},
   "outputs": [
    {
     "name": "stdout",
     "output_type": "stream",
     "text": [
      "Best model: RandomForestClassifier(max_depth=9, n_estimators=60, random_state=12345)\n",
      "Best F1-Score: 0.6456\n",
      "Best AUC-ROC: 0.8686\n"
     ]
    }
   ],
   "source": [
    "best_model = best_model_upsampled\n",
    "best_f1 = best_f1_upsampled\n",
    "best_auc_roc = best_auc_roc_upsampled\n",
    "\n",
    "print(f\"Best model: {best_model}\")\n",
    "print(f\"Best F1-Score: {best_f1:.4f}\")\n",
    "print(f\"Best AUC-ROC: {best_auc_roc:.4f}\")"
   ]
  },
  {
   "cell_type": "markdown",
   "id": "348885d4-c6be-4a35-a48e-eeff03b5406a",
   "metadata": {},
   "source": [
    "We see that the best model which outperforms others in terms of *F1* metric computed on the validation set proves to be a Random Forest model with 60 trees and a depth of 9 that resulted from applying upsampling method."
   ]
  },
  {
   "cell_type": "markdown",
   "id": "b04048ad-5c9d-4351-be34-2c8a1b6a97c7",
   "metadata": {},
   "source": [
    "**Conclusion**\n",
    "\n",
    "This short section showcased the model which we will eventually use for testing. The most preferrable method in our case is upsampling method."
   ]
  },
  {
   "cell_type": "markdown",
   "id": "59b12307-ea0c-4e0d-a4d6-3e89fa5ffd2d",
   "metadata": {},
   "source": [
    "# Testing "
   ]
  },
  {
   "cell_type": "markdown",
   "id": "c4aca0c2-7c63-4be5-8e48-7b4e504785c1",
   "metadata": {},
   "source": [
    "Lastly, let's test the model and determine whether it passed all tests we have predefined."
   ]
  },
  {
   "cell_type": "code",
   "execution_count": 97,
   "id": "741c7c63-39f4-4422-9357-91f374969a2b",
   "metadata": {},
   "outputs": [
    {
     "name": "stdout",
     "output_type": "stream",
     "text": [
      "Tested model: RandomForestClassifier(max_depth=9, n_estimators=60, random_state=12345)\n",
      "Test F1-Score: 0.6094\n",
      "Test AUC-ROC: 0.8633\n",
      "\n",
      "The model correctly detects 68.7% of churned clients.\n"
     ]
    }
   ],
   "source": [
    "# Testing the best model\n",
    "best_model.fit(features_train_upsampled, target_train_upsampled)\n",
    "predictions_test = best_model.predict(features_test_scaled)\n",
    "f1_test = f1_score(target_test, predictions_test)\n",
    "print(f\"Tested model: {best_model}\")\n",
    "print(f\"Test F1-Score: {f1_test:.4f}\")\n",
    "\n",
    "# Computing AUC-ROC\n",
    "probabilities_valid = best_model.predict_proba(features_test_scaled)\n",
    "probabilities_one_valid = probabilities_valid[:, 1]\n",
    "auc_roc_test = roc_auc_score(target_test, probabilities_one_valid)\n",
    "print(f\"Test AUC-ROC: {auc_roc_test:.4f}\")\n",
    "\n",
    "# Running a dummy model\n",
    "dummy_model = DummyClassifier(strategy=\"constant\", constant=1)\n",
    "dummy_model.fit(features_train_scaled, target_train)\n",
    "dummy_predictions = dummy_model.predict(features_test_scaled)\n",
    "f1_test_dummy = f1_score(target_test, dummy_predictions)\n",
    "\n",
    "# Verifying model performance\n",
    "assert f1_test >= F1_SCORE_THRESHOLD, \"The model performance is unsatisfactory\"\n",
    "# Sanity check\n",
    "assert (auc_roc_test > AUC_ROC_THRESHOLD) & (\n",
    "    f1_test > f1_test_dummy\n",
    "), \"The model is inadequate\"\n",
    "\n",
    "# Summarizing the results in case the model passed the tests\n",
    "recall_test = recall_score(target_test, predictions_test)\n",
    "print(f\"\\nThe model correctly detects {recall_test:.1%} of churned clients.\")"
   ]
  },
  {
   "cell_type": "markdown",
   "id": "1b419333-fab4-438a-8c1b-70a2d0998be7",
   "metadata": {},
   "source": [
    "Lastly, let's look at the model's results by plotting a confusion matrix."
   ]
  },
  {
   "cell_type": "code",
   "execution_count": 98,
   "id": "f74d9b3f-cb0d-408c-8807-62a93a8c6934",
   "metadata": {},
   "outputs": [
    {
     "data": {
      "image/png": "[encoded data removed]",
      "text/plain": [
       "<Figure size 640x480 with 2 Axes>"
      ]
     },
     "metadata": {},
     "output_type": "display_data"
    }
   ],
   "source": [
    "# Plotting confusion matrix\n",
    "sns.reset_defaults()\n",
    "\n",
    "cm = ConfusionMatrixDisplay.from_predictions(\n",
    "    target_test,\n",
    "    predictions_test,\n",
    "    cmap=plt.cm.Blues,\n",
    "    display_labels=[\"Not churned\", \"Churned\"],\n",
    ")\n",
    "\n",
    "model_name = type(best_model).__name__\n",
    "plt.title(f\"Confusion matrix ({model_name})\")\n",
    "plt.tight_layout()\n",
    "plt.show()"
   ]
  },
  {
   "cell_type": "code",
   "execution_count": 99,
   "id": "ba876efb-f0f0-401f-9d82-e5ac3a46fd9d",
   "metadata": {},
   "outputs": [
    {
     "data": {
      "text/plain": [
       "Not churned    1468\n",
       "Churned         351\n",
       "Name: exited, dtype: int64"
      ]
     },
     "metadata": {},
     "output_type": "display_data"
    }
   ],
   "source": [
    "test_class_struct = target_test.value_counts()\n",
    "test_class_struct.index = [\"Not churned\", \"Churned\"]\n",
    "display(test_class_struct)"
   ]
  },
  {
   "cell_type": "markdown",
   "id": "a3582f01-64e0-4530-af77-15816e72a124",
   "metadata": {},
   "source": [
    "# General conclusion"
   ]
  },
  {
   "cell_type": "markdown",
   "id": "6c3971e4-7a88-4bab-97d8-ecc26e015908",
   "metadata": {},
   "source": [
    "In this study, the data of \"Beta Bank\" customers were analyzed and an optimal model for predicting the clients churn from the bank was selected, which takes into account the features of the data, the most striking of which is the revealed fact of the presence of an imbalance of classes. The data has been thoroughly analyzed, preprocessed and prepared for their use in machine learning algorithms. \n",
    "\n",
    "The main part of the work consisted in carrying out several series of hyperparameter selections for the case of ignoring the imbalance and three cases of dealing with class imbalance, which include weighing classes, upsampling and downsampling. According to the results of the study, it turned out that, in comparison with ignoring the imbalance, the mentioned methods of dealing with the imbalance outperform the imbalanced model in terms of both *F1* and *AUC-ROC* metrics. The final model, which was chosen at the final stage, is a Random Forest with 60 trees, where each of them has a depth of 9. It is worth mentioning that it was the method of upsampling that allowed us to obtain such results. In the test sample, the model showed values of the metric *F1* at 0.6094, which is higher than the set threshold of 0.59. The model differs from the random one, which is manifested in a rather high value of the metric *AUC-ROC*."
   ]
  }
 ],
 "metadata": {
  "kernelspec": {
   "display_name": "Python 3 (ipykernel)",
   "language": "python",
   "name": "python3"
  },
  "language_info": {
   "codemirror_mode": {
    "name": "ipython",
    "version": 3
   },
   "file_extension": ".py",
   "mimetype": "text/x-python",
   "name": "python",
   "nbconvert_exporter": "python",
   "pygments_lexer": "ipython3",
   "version": "3.9.13"
  }
 },
 "nbformat": 4,
 "nbformat_minor": 5
}
