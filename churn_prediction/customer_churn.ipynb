{
 "cells": [
  {
   "cell_type": "markdown",
   "id": "843a7c44-f85b-4403-9956-828a970df4a7",
   "metadata": {},
   "source": [
    "# Data preparation"
   ]
  },
  {
   "cell_type": "markdown",
   "id": "40efb402-aeb1-4654-aab2-0d2fa975ae45",
   "metadata": {},
   "source": [
    "## Data overview"
   ]
  },
  {
   "cell_type": "code",
   "execution_count": 1,
   "id": "e791be4b-9e1a-45f6-a617-80c12f1d4e2e",
   "metadata": {},
   "outputs": [],
   "source": [
    "import re\n",
    "from collections import Counter, OrderedDict\n",
    "from copy import deepcopy\n",
    "\n",
    "import matplotlib.pyplot as plt\n",
    "import numpy as np\n",
    "import pandas as pd\n",
    "import seaborn as sns\n",
    "from imblearn.over_sampling import SMOTE\n",
    "from imblearn.pipeline import make_pipeline as make_imb_pipeline\n",
    "from imblearn.under_sampling import RandomUnderSampler\n",
    "from IPython.display import display\n",
    "from joblib import dump, load\n",
    "from scipy import stats\n",
    "from sklearn.compose import make_column_transformer\n",
    "from sklearn.dummy import DummyClassifier\n",
    "from sklearn.ensemble import RandomForestClassifier\n",
    "from sklearn.impute import SimpleImputer\n",
    "from sklearn.linear_model import LogisticRegression\n",
    "from sklearn.metrics import (\n",
    "    ConfusionMatrixDisplay,\n",
    "    PrecisionRecallDisplay,\n",
    "    RocCurveDisplay,\n",
    "    auc,\n",
    "    average_precision_score,\n",
    "    classification_report,\n",
    "    confusion_matrix,\n",
    "    f1_score,\n",
    "    precision_recall_curve,\n",
    "    precision_score,\n",
    "    recall_score,\n",
    "    roc_auc_score,\n",
    "    roc_curve,\n",
    ")\n",
    "from sklearn.model_selection import RandomizedSearchCV, train_test_split\n",
    "from sklearn.pipeline import make_pipeline\n",
    "from sklearn.preprocessing import OneHotEncoder, OrdinalEncoder, StandardScaler\n",
    "from sklearn.tree import DecisionTreeClassifier\n",
    "\n",
    "AUC_ROC_THRESHOLD = 0.5\n",
    "CV_FOLDS = 10\n",
    "F1_SCORE_THRESHOLD = 0.59\n",
    "N_ITER = 30\n",
    "RANDOM_STATE = 12345\n",
    "SCORER = \"f1\"\n",
    "TEST_SET_SHARE = 0.25\n",
    "TRAIN_SET_SHARE = 0.75"
   ]
  },
  {
   "cell_type": "markdown",
   "id": "457011fc-2cb9-4bd6-b06f-402b9564ef3c",
   "metadata": {},
   "source": [
    "Now that we have access to the `pandas` library, we can load the data to a DataFrame and study the data that has been provided to us."
   ]
  },
  {
   "cell_type": "code",
   "execution_count": 2,
   "id": "8dfff85f-90f2-471e-a241-6d1cc5d5bbf5",
   "metadata": {},
   "outputs": [],
   "source": [
    "# Reading the data\n",
    "clients_data = pd.read_csv(\"datasets/Churn.csv\")"
   ]
  },
  {
   "cell_type": "markdown",
   "id": "4e8f4497-3104-434a-88d3-c04418243aeb",
   "metadata": {},
   "source": [
    "Now, using the `sample()` method, we will display 10 randomly selected rows of the `clients_data` DataFrame in order to see what the data looks like. Additionally, we will configure the random number generator as `random_state=RANDOM_STATE` to ensure reproducibility of the output result."
   ]
  },
  {
   "cell_type": "code",
   "execution_count": 3,
   "id": "cc9141c5-590c-4bff-a692-24da06112d13",
   "metadata": {},
   "outputs": [
    {
     "data": {
      "text/html": [
       "<div>\n",
       "<style scoped>\n",
       "    .dataframe tbody tr th:only-of-type {\n",
       "        vertical-align: middle;\n",
       "    }\n",
       "\n",
       "    .dataframe tbody tr th {\n",
       "        vertical-align: top;\n",
       "    }\n",
       "\n",
       "    .dataframe thead th {\n",
       "        text-align: right;\n",
       "    }\n",
       "</style>\n",
       "<table border=\"1\" class=\"dataframe\">\n",
       "  <thead>\n",
       "    <tr style=\"text-align: right;\">\n",
       "      <th></th>\n",
       "      <th>RowNumber</th>\n",
       "      <th>CustomerId</th>\n",
       "      <th>Surname</th>\n",
       "      <th>CreditScore</th>\n",
       "      <th>Geography</th>\n",
       "      <th>Gender</th>\n",
       "      <th>Age</th>\n",
       "      <th>Tenure</th>\n",
       "      <th>Balance</th>\n",
       "      <th>NumOfProducts</th>\n",
       "      <th>HasCrCard</th>\n",
       "      <th>IsActiveMember</th>\n",
       "      <th>EstimatedSalary</th>\n",
       "      <th>Exited</th>\n",
       "    </tr>\n",
       "  </thead>\n",
       "  <tbody>\n",
       "    <tr>\n",
       "      <th>7867</th>\n",
       "      <td>7868</td>\n",
       "      <td>15697201</td>\n",
       "      <td>Yocum</td>\n",
       "      <td>640</td>\n",
       "      <td>Spain</td>\n",
       "      <td>Female</td>\n",
       "      <td>46</td>\n",
       "      <td>3.0</td>\n",
       "      <td>0.00</td>\n",
       "      <td>1</td>\n",
       "      <td>1</td>\n",
       "      <td>1</td>\n",
       "      <td>156260.08</td>\n",
       "      <td>0</td>\n",
       "    </tr>\n",
       "    <tr>\n",
       "      <th>1402</th>\n",
       "      <td>1403</td>\n",
       "      <td>15613282</td>\n",
       "      <td>Vorobyova</td>\n",
       "      <td>757</td>\n",
       "      <td>France</td>\n",
       "      <td>Male</td>\n",
       "      <td>29</td>\n",
       "      <td>8.0</td>\n",
       "      <td>130306.49</td>\n",
       "      <td>1</td>\n",
       "      <td>1</td>\n",
       "      <td>0</td>\n",
       "      <td>77469.38</td>\n",
       "      <td>0</td>\n",
       "    </tr>\n",
       "    <tr>\n",
       "      <th>8606</th>\n",
       "      <td>8607</td>\n",
       "      <td>15694581</td>\n",
       "      <td>Rawlings</td>\n",
       "      <td>807</td>\n",
       "      <td>Spain</td>\n",
       "      <td>Male</td>\n",
       "      <td>42</td>\n",
       "      <td>5.0</td>\n",
       "      <td>0.00</td>\n",
       "      <td>2</td>\n",
       "      <td>1</td>\n",
       "      <td>1</td>\n",
       "      <td>74900.90</td>\n",
       "      <td>0</td>\n",
       "    </tr>\n",
       "    <tr>\n",
       "      <th>8885</th>\n",
       "      <td>8886</td>\n",
       "      <td>15815125</td>\n",
       "      <td>Michael</td>\n",
       "      <td>668</td>\n",
       "      <td>Spain</td>\n",
       "      <td>Male</td>\n",
       "      <td>45</td>\n",
       "      <td>4.0</td>\n",
       "      <td>102486.21</td>\n",
       "      <td>2</td>\n",
       "      <td>1</td>\n",
       "      <td>1</td>\n",
       "      <td>158379.25</td>\n",
       "      <td>0</td>\n",
       "    </tr>\n",
       "    <tr>\n",
       "      <th>6494</th>\n",
       "      <td>6495</td>\n",
       "      <td>15752846</td>\n",
       "      <td>Pinto</td>\n",
       "      <td>699</td>\n",
       "      <td>France</td>\n",
       "      <td>Male</td>\n",
       "      <td>28</td>\n",
       "      <td>7.0</td>\n",
       "      <td>0.00</td>\n",
       "      <td>2</td>\n",
       "      <td>1</td>\n",
       "      <td>1</td>\n",
       "      <td>22684.78</td>\n",
       "      <td>0</td>\n",
       "    </tr>\n",
       "    <tr>\n",
       "      <th>9628</th>\n",
       "      <td>9629</td>\n",
       "      <td>15596624</td>\n",
       "      <td>Topp</td>\n",
       "      <td>662</td>\n",
       "      <td>France</td>\n",
       "      <td>Female</td>\n",
       "      <td>22</td>\n",
       "      <td>9.0</td>\n",
       "      <td>0.00</td>\n",
       "      <td>2</td>\n",
       "      <td>1</td>\n",
       "      <td>1</td>\n",
       "      <td>44377.65</td>\n",
       "      <td>0</td>\n",
       "    </tr>\n",
       "    <tr>\n",
       "      <th>7459</th>\n",
       "      <td>7460</td>\n",
       "      <td>15583724</td>\n",
       "      <td>Raymond</td>\n",
       "      <td>645</td>\n",
       "      <td>Spain</td>\n",
       "      <td>Female</td>\n",
       "      <td>29</td>\n",
       "      <td>4.0</td>\n",
       "      <td>0.00</td>\n",
       "      <td>2</td>\n",
       "      <td>1</td>\n",
       "      <td>1</td>\n",
       "      <td>74346.11</td>\n",
       "      <td>0</td>\n",
       "    </tr>\n",
       "    <tr>\n",
       "      <th>3964</th>\n",
       "      <td>3965</td>\n",
       "      <td>15714981</td>\n",
       "      <td>Sabbatini</td>\n",
       "      <td>476</td>\n",
       "      <td>France</td>\n",
       "      <td>Male</td>\n",
       "      <td>37</td>\n",
       "      <td>4.0</td>\n",
       "      <td>0.00</td>\n",
       "      <td>1</td>\n",
       "      <td>1</td>\n",
       "      <td>1</td>\n",
       "      <td>55775.84</td>\n",
       "      <td>1</td>\n",
       "    </tr>\n",
       "    <tr>\n",
       "      <th>7000</th>\n",
       "      <td>7001</td>\n",
       "      <td>15739548</td>\n",
       "      <td>Johnson</td>\n",
       "      <td>775</td>\n",
       "      <td>France</td>\n",
       "      <td>Male</td>\n",
       "      <td>28</td>\n",
       "      <td>9.0</td>\n",
       "      <td>111167.70</td>\n",
       "      <td>1</td>\n",
       "      <td>1</td>\n",
       "      <td>0</td>\n",
       "      <td>149331.01</td>\n",
       "      <td>0</td>\n",
       "    </tr>\n",
       "    <tr>\n",
       "      <th>4470</th>\n",
       "      <td>4471</td>\n",
       "      <td>15593795</td>\n",
       "      <td>Linton</td>\n",
       "      <td>516</td>\n",
       "      <td>Germany</td>\n",
       "      <td>Female</td>\n",
       "      <td>53</td>\n",
       "      <td>NaN</td>\n",
       "      <td>156674.20</td>\n",
       "      <td>1</td>\n",
       "      <td>1</td>\n",
       "      <td>0</td>\n",
       "      <td>118502.34</td>\n",
       "      <td>1</td>\n",
       "    </tr>\n",
       "  </tbody>\n",
       "</table>\n",
       "</div>"
      ],
      "text/plain": [
       "      RowNumber  CustomerId    Surname  CreditScore Geography  Gender  Age  \\\n",
       "7867       7868    15697201      Yocum          640     Spain  Female   46   \n",
       "1402       1403    15613282  Vorobyova          757    France    Male   29   \n",
       "8606       8607    15694581   Rawlings          807     Spain    Male   42   \n",
       "8885       8886    15815125    Michael          668     Spain    Male   45   \n",
       "6494       6495    15752846      Pinto          699    France    Male   28   \n",
       "9628       9629    15596624       Topp          662    France  Female   22   \n",
       "7459       7460    15583724    Raymond          645     Spain  Female   29   \n",
       "3964       3965    15714981  Sabbatini          476    France    Male   37   \n",
       "7000       7001    15739548    Johnson          775    France    Male   28   \n",
       "4470       4471    15593795     Linton          516   Germany  Female   53   \n",
       "\n",
       "      Tenure    Balance  NumOfProducts  HasCrCard  IsActiveMember  \\\n",
       "7867     3.0       0.00              1          1               1   \n",
       "1402     8.0  130306.49              1          1               0   \n",
       "8606     5.0       0.00              2          1               1   \n",
       "8885     4.0  102486.21              2          1               1   \n",
       "6494     7.0       0.00              2          1               1   \n",
       "9628     9.0       0.00              2          1               1   \n",
       "7459     4.0       0.00              2          1               1   \n",
       "3964     4.0       0.00              1          1               1   \n",
       "7000     9.0  111167.70              1          1               0   \n",
       "4470     NaN  156674.20              1          1               0   \n",
       "\n",
       "      EstimatedSalary  Exited  \n",
       "7867        156260.08       0  \n",
       "1402         77469.38       0  \n",
       "8606         74900.90       0  \n",
       "8885        158379.25       0  \n",
       "6494         22684.78       0  \n",
       "9628         44377.65       0  \n",
       "7459         74346.11       0  \n",
       "3964         55775.84       1  \n",
       "7000        149331.01       0  \n",
       "4470        118502.34       1  "
      ]
     },
     "metadata": {},
     "output_type": "display_data"
    }
   ],
   "source": [
    "# Displaying 10 randomly selected rows\n",
    "display(clients_data.sample(10, random_state=RANDOM_STATE))"
   ]
  },
  {
   "cell_type": "code",
   "execution_count": 4,
   "id": "c0a54b0d-db5c-4c97-9e73-c3a037dbc0dc",
   "metadata": {},
   "outputs": [
    {
     "data": {
      "text/plain": [
       "Counter({1: 2037, 0: 7963})"
      ]
     },
     "execution_count": 4,
     "metadata": {},
     "output_type": "execute_result"
    }
   ],
   "source": [
    "# Computing the number of unique values in target\n",
    "Counter(clients_data[\"Exited\"].ravel())"
   ]
  },
  {
   "cell_type": "markdown",
   "id": "6d85976e-a810-4fca-b523-e510c5c0d7dd",
   "metadata": {},
   "source": [
    "So, at first glance, we see quite a large number of features, not all of which we will need in the modeling process. We also see the target variable `Exited`, the behavior of which we will be interested in during this study. Obviously, in this case we will solve the problem of binary classification: the target is made up of zeros and ones (binary target) so, at first glance, the target has been encoded correctly. However, we cannot state anything with certainty about the data by looking at 10 rows of the DataFrame. Let's look deeper into the data and output general information about it using the `info()` method."
   ]
  },
  {
   "cell_type": "code",
   "execution_count": 5,
   "id": "051ae424-79a2-4d45-8d3f-af0c99ffce42",
   "metadata": {},
   "outputs": [
    {
     "name": "stdout",
     "output_type": "stream",
     "text": [
      "<class 'pandas.core.frame.DataFrame'>\n",
      "RangeIndex: 10000 entries, 0 to 9999\n",
      "Data columns (total 14 columns):\n",
      " #   Column           Non-Null Count  Dtype  \n",
      "---  ------           --------------  -----  \n",
      " 0   RowNumber        10000 non-null  int64  \n",
      " 1   CustomerId       10000 non-null  int64  \n",
      " 2   Surname          10000 non-null  object \n",
      " 3   CreditScore      10000 non-null  int64  \n",
      " 4   Geography        10000 non-null  object \n",
      " 5   Gender           10000 non-null  object \n",
      " 6   Age              10000 non-null  int64  \n",
      " 7   Tenure           9091 non-null   float64\n",
      " 8   Balance          10000 non-null  float64\n",
      " 9   NumOfProducts    10000 non-null  int64  \n",
      " 10  HasCrCard        10000 non-null  int64  \n",
      " 11  IsActiveMember   10000 non-null  int64  \n",
      " 12  EstimatedSalary  10000 non-null  float64\n",
      " 13  Exited           10000 non-null  int64  \n",
      "dtypes: float64(3), int64(8), object(3)\n",
      "memory usage: 1.1+ MB\n"
     ]
    }
   ],
   "source": [
    "clients_data.info()"
   ]
  },
  {
   "cell_type": "markdown",
   "id": "55afca73-ebfa-4336-9dcb-7068d0641aea",
   "metadata": {},
   "source": [
    "We observe the following. The DataFrame contains data on 10,000 clients of \"Beta Bank\", which are characterized by 14 columns: 13 features and one target variable. As we can see, the data is expressed by different data types: `float64`, `int64` and `object`. Let's see in more detail what columns the DataFrame contains and what information they include:"
   ]
  },
  {
   "cell_type": "markdown",
   "id": "2176a994-2c0b-4a21-aa9c-37c5d193c523",
   "metadata": {},
   "source": [
    "<table>\n",
    "<thead>\n",
    "<tr><th>Features</th><th>Description</th></tr>\n",
    "</thead>\n",
    "<tbody>\n",
    "<tr><td><code>RowNumber</code></td><td><i>Index of a row in the data</i></td></tr>\n",
    "<tr><td><code>CustomerID</code></td><td><i>Unique identifier of a customer</i></td></tr>\n",
    "<tr><td><code>Surname</code></td><td><i>Client's last name</i></td></tr>\n",
    "<tr><td><code>CreditScore</code></td><td><i>Client's credit rating</i></td></tr>\n",
    "<tr><td><code>Geography</code></td><td><i>Client's country of residence</i></td></tr>\n",
    "<tr><td><code>Gender</code></td><td><i>Gender of a client</i></td></tr>\n",
    "<tr><td><code>Age</code></td><td><i>Age of a client</i></td></tr>\n",
    "<tr><td><code>Tenure</code></td><td><i>Duration of the bank's client status (years)</i></td></tr>\n",
    "<tr><td><code>Balance</code></td><td><i>Amount on the balance of a client</i></td></tr>\n",
    "<tr><td><code>NumOfProducts</code></td><td><i>Number of bank products used by a client</i></td></tr>\n",
    "<tr><td><code>HasCrCard</code></td><td><i>Credit card availability indicator</i></td></tr>\n",
    "<tr><td><code>IsActiveMember</code></td><td><i>Client activity indicator</i></td></tr>\n",
    "<tr><td><code>EstimatedSalary</code></td><td><i>Estimated salary of a client</i></td></tr>\n",
    "<tr><td><code>Exited</code></td><td><i>Indicator of whether a client has churned</i></td></tr>\n",
    "</tbody>\n",
    "</table>"
   ]
  },
  {
   "cell_type": "markdown",
   "id": "a1cb5361-9749-46bc-ae0a-d0ccce166ce7",
   "metadata": {},
   "source": [
    "Next, we see that the number of `non-null` values is equal to the total number of objects in the dataset from column to column, with the exception of one column - `Tenure`. Moreover, this column should be characterized by an integer, not a floating data type (years cannot be fractional). Finally, the column names do not correspond to the standard of column names."
   ]
  },
  {
   "cell_type": "markdown",
   "id": "20c421e3-3bb4-4483-97e0-a2e578e94dca",
   "metadata": {},
   "source": [
    "To conclude data overview step, let's build some histograms for the DataFrame we have."
   ]
  },
  {
   "cell_type": "code",
   "execution_count": 6,
   "id": "fc684f9e-b4b3-47be-9a4b-72b2d3d041c3",
   "metadata": {},
   "outputs": [
    {
     "data": {
      "image/png": "[encoded data removed]",
      "text/plain": [
       "<Figure size 1500x2000 with 12 Axes>"
      ]
     },
     "metadata": {},
     "output_type": "display_data"
    }
   ],
   "source": [
    "# Setting the style of the plots\n",
    "sns.set_theme(style=\"darkgrid\")\n",
    "\n",
    "# Plotting histograms for all numeric columns\n",
    "clients_data.hist(figsize=(15, 20))\n",
    "plt.show()"
   ]
  },
  {
   "cell_type": "markdown",
   "id": "f01482ba-4a4f-489e-9257-9421c5d16951",
   "metadata": {},
   "source": [
    "The `RowNumber` and `CustomerID` columns are not of interest to us, unlike the others. We see that the `Credit Score` and `Age` columns have a distribution close to normal, but with some skew. The columns `Tenure`, `Balance` and `EstimatedSalary` have distributions of a different form. The remaining variables have a limited number of values that they can take, which can be seen on the histograms. As for the target variable, we see that approximately 2,000 of the bank's customers have terminated their contracts and left, whilst the remaining 8,000 of them are still considered bank customers. Thus, the classes are unbalanced, which has to be dealt with after data preparation."
   ]
  },
  {
   "cell_type": "markdown",
   "id": "405fe2a8-2298-4a56-b901-5128393c983f",
   "metadata": {},
   "source": [
    "## Data preprocessing"
   ]
  },
  {
   "cell_type": "markdown",
   "id": "be6a5e28-e812-4080-988a-e66c9f3273c2",
   "metadata": {},
   "source": [
    "Now it is necessary to perform data preprocessing. We don't need to do a large number of conversions: we just need to process the missing values and perform a type conversion in the `Tenure` column, as well as change the column names to those that will be easier to work with. Additionally, we will count the number of explicit duplicates, that is, identical rows."
   ]
  },
  {
   "cell_type": "markdown",
   "id": "9ed83e24-356a-4e11-becf-9db622e456e2",
   "metadata": {},
   "source": [
    "### Renaming columns"
   ]
  },
  {
   "cell_type": "markdown",
   "id": "ea37a9e2-ae2d-4d8d-ac47-86ac3f631c20",
   "metadata": {},
   "source": [
    "Let's start by changing the column names. In this case, we essentially need to put underscores between individual words (distinguishable by the uppercase letter) in the column names, and then make all uppercase letters lowercase. Here we can proceed, for example, in two ways:\n",
    "\n",
    "1. On the one hand, we can do this directly: we can pass to the `columns` parameter of the `rename()` function a dictionary with old names (keys) and new names (values) as an argument. This is a working method, but filling in such a dictionary manually will take some time (we will need to manually type in 14 keys and 14 values). \n",
    "\n",
    "2. On the other hand, it is possible to use the functionality of regular expressions from the `re` library."
   ]
  },
  {
   "cell_type": "code",
   "execution_count": 7,
   "id": "b0ae8316-8305-4580-9ce5-7e09fec0ddfb",
   "metadata": {},
   "outputs": [],
   "source": [
    "# Changing column names using regular expressions\n",
    "clients_data = clients_data.rename(\n",
    "    columns=lambda col_name: re.sub(\"(?<=[a-z])(?=[A-Z])\", \"_\", col_name).lower()\n",
    ")"
   ]
  },
  {
   "cell_type": "markdown",
   "id": "d8055687-a761-4aff-b2d5-0692c6d54673",
   "metadata": {},
   "source": [
    "Let's explain exactly how we replaced the column names. Firstly, using the `rename()` function, we pass to its `columns` parameter not a dictionary, but an anonymous lambda function, which essentially returns the result of performing some operation on the column names of the `clients_data` DataFrame. We change the column name using the `sub()` function from the regular expressions library `re`. The function takes in 3 parameters: \n",
    "\n",
    "* Certain pattern to be found inside the row (in this case, the row is the name of the column);\n",
    "* What we need to replace a certain place in the row with; \n",
    "* The row itself where we need to look for matches. \n",
    "\n",
    "The last two arguments are clear, but let's explain how we made up the pattern. As mentioned before, we need to put underscores before each capital letter (except for the capital letter at the beginning of the column name). This is exactly what is done by the pattern `\"(?<=[a-z])(?=[A-Z])\"`, which finds all the places in the string between any lowercase letter and any subsequent uppercase letter. The function then places underscores in such places. Finally, we convert the column name to lowercase to get the result. \n",
    "\n",
    "Let's see if it was possible to correctly replace the column names by displaying the last five rows of the DataFrame."
   ]
  },
  {
   "cell_type": "code",
   "execution_count": 8,
   "id": "a3d48bf0-defe-43d5-b23b-3357c37a3181",
   "metadata": {},
   "outputs": [
    {
     "data": {
      "text/html": [
       "<div>\n",
       "<style scoped>\n",
       "    .dataframe tbody tr th:only-of-type {\n",
       "        vertical-align: middle;\n",
       "    }\n",
       "\n",
       "    .dataframe tbody tr th {\n",
       "        vertical-align: top;\n",
       "    }\n",
       "\n",
       "    .dataframe thead th {\n",
       "        text-align: right;\n",
       "    }\n",
       "</style>\n",
       "<table border=\"1\" class=\"dataframe\">\n",
       "  <thead>\n",
       "    <tr style=\"text-align: right;\">\n",
       "      <th></th>\n",
       "      <th>row_number</th>\n",
       "      <th>customer_id</th>\n",
       "      <th>surname</th>\n",
       "      <th>credit_score</th>\n",
       "      <th>geography</th>\n",
       "      <th>gender</th>\n",
       "      <th>age</th>\n",
       "      <th>tenure</th>\n",
       "      <th>balance</th>\n",
       "      <th>num_of_products</th>\n",
       "      <th>has_cr_card</th>\n",
       "      <th>is_active_member</th>\n",
       "      <th>estimated_salary</th>\n",
       "      <th>exited</th>\n",
       "    </tr>\n",
       "  </thead>\n",
       "  <tbody>\n",
       "    <tr>\n",
       "      <th>9995</th>\n",
       "      <td>9996</td>\n",
       "      <td>15606229</td>\n",
       "      <td>Obijiaku</td>\n",
       "      <td>771</td>\n",
       "      <td>France</td>\n",
       "      <td>Male</td>\n",
       "      <td>39</td>\n",
       "      <td>5.0</td>\n",
       "      <td>0.00</td>\n",
       "      <td>2</td>\n",
       "      <td>1</td>\n",
       "      <td>0</td>\n",
       "      <td>96270.64</td>\n",
       "      <td>0</td>\n",
       "    </tr>\n",
       "    <tr>\n",
       "      <th>9996</th>\n",
       "      <td>9997</td>\n",
       "      <td>15569892</td>\n",
       "      <td>Johnstone</td>\n",
       "      <td>516</td>\n",
       "      <td>France</td>\n",
       "      <td>Male</td>\n",
       "      <td>35</td>\n",
       "      <td>10.0</td>\n",
       "      <td>57369.61</td>\n",
       "      <td>1</td>\n",
       "      <td>1</td>\n",
       "      <td>1</td>\n",
       "      <td>101699.77</td>\n",
       "      <td>0</td>\n",
       "    </tr>\n",
       "    <tr>\n",
       "      <th>9997</th>\n",
       "      <td>9998</td>\n",
       "      <td>15584532</td>\n",
       "      <td>Liu</td>\n",
       "      <td>709</td>\n",
       "      <td>France</td>\n",
       "      <td>Female</td>\n",
       "      <td>36</td>\n",
       "      <td>7.0</td>\n",
       "      <td>0.00</td>\n",
       "      <td>1</td>\n",
       "      <td>0</td>\n",
       "      <td>1</td>\n",
       "      <td>42085.58</td>\n",
       "      <td>1</td>\n",
       "    </tr>\n",
       "    <tr>\n",
       "      <th>9998</th>\n",
       "      <td>9999</td>\n",
       "      <td>15682355</td>\n",
       "      <td>Sabbatini</td>\n",
       "      <td>772</td>\n",
       "      <td>Germany</td>\n",
       "      <td>Male</td>\n",
       "      <td>42</td>\n",
       "      <td>3.0</td>\n",
       "      <td>75075.31</td>\n",
       "      <td>2</td>\n",
       "      <td>1</td>\n",
       "      <td>0</td>\n",
       "      <td>92888.52</td>\n",
       "      <td>1</td>\n",
       "    </tr>\n",
       "    <tr>\n",
       "      <th>9999</th>\n",
       "      <td>10000</td>\n",
       "      <td>15628319</td>\n",
       "      <td>Walker</td>\n",
       "      <td>792</td>\n",
       "      <td>France</td>\n",
       "      <td>Female</td>\n",
       "      <td>28</td>\n",
       "      <td>NaN</td>\n",
       "      <td>130142.79</td>\n",
       "      <td>1</td>\n",
       "      <td>1</td>\n",
       "      <td>0</td>\n",
       "      <td>38190.78</td>\n",
       "      <td>0</td>\n",
       "    </tr>\n",
       "  </tbody>\n",
       "</table>\n",
       "</div>"
      ],
      "text/plain": [
       "      row_number  customer_id    surname  credit_score geography  gender  age  \\\n",
       "9995        9996     15606229   Obijiaku           771    France    Male   39   \n",
       "9996        9997     15569892  Johnstone           516    France    Male   35   \n",
       "9997        9998     15584532        Liu           709    France  Female   36   \n",
       "9998        9999     15682355  Sabbatini           772   Germany    Male   42   \n",
       "9999       10000     15628319     Walker           792    France  Female   28   \n",
       "\n",
       "      tenure    balance  num_of_products  has_cr_card  is_active_member  \\\n",
       "9995     5.0       0.00                2            1                 0   \n",
       "9996    10.0   57369.61                1            1                 1   \n",
       "9997     7.0       0.00                1            0                 1   \n",
       "9998     3.0   75075.31                2            1                 0   \n",
       "9999     NaN  130142.79                1            1                 0   \n",
       "\n",
       "      estimated_salary  exited  \n",
       "9995          96270.64       0  \n",
       "9996         101699.77       0  \n",
       "9997          42085.58       1  \n",
       "9998          92888.52       1  \n",
       "9999          38190.78       0  "
      ]
     },
     "metadata": {},
     "output_type": "display_data"
    }
   ],
   "source": [
    "display(clients_data.tail())"
   ]
  },
  {
   "cell_type": "markdown",
   "id": "cb9e28ed-19da-40a9-88ed-49811e823202",
   "metadata": {},
   "source": [
    "### Missing values"
   ]
  },
  {
   "cell_type": "markdown",
   "id": "f6f850bf-314d-45b2-ab0b-10ea7a216f04",
   "metadata": {},
   "source": [
    "Let's look at the missing values. To do this, let's write a function called `identify_missing_values` which will count the number and proportion of missing values in those columns where there are `NaN` values present."
   ]
  },
  {
   "cell_type": "code",
   "execution_count": 9,
   "id": "07b6a18e-d543-48f0-8297-d1ab53a8f260",
   "metadata": {},
   "outputs": [],
   "source": [
    "def identify_missing_values(data):\n",
    "    \"\"\"Performs missing values computation.\n",
    "\n",
    "    Function computes a number and share of missing values\n",
    "    in DataFrame columns which have NaN-values present\n",
    "    and displays data types of such columns.\n",
    "\n",
    "    Parameters\n",
    "    ----------\n",
    "    data : DataFrame\n",
    "        DataFrame which needs to be checked for missing values.\n",
    "\n",
    "    Returns\n",
    "    -------\n",
    "    DataFrame or None\n",
    "        DataFrame with column names/their data types, number of\n",
    "        missing values and shares of NaN-values in such columns,\n",
    "        or None if no missing values have been found.\n",
    "    \"\"\"\n",
    "    # Verifying the presence of missing values\n",
    "    miss_vals_num = data.isnull().sum()[data.isnull().sum() > 0]\n",
    "    if miss_vals_num.empty:\n",
    "        return None\n",
    "\n",
    "    # Creating a table with numbers of missing values\n",
    "    cols = {\"missing_count\": miss_vals_num.values}\n",
    "    nans_df = pd.DataFrame(data=cols, index=miss_vals_num.index).sort_values(\n",
    "        by=\"missing_count\", ascending=False\n",
    "    )\n",
    "\n",
    "    # Adding shares of missing values\n",
    "    nans_df[\"missing_fraction\"] = nans_df[\"missing_count\"] / data.shape[0]\n",
    "    nans_df[\"missing_fraction\"] = nans_df[\"missing_fraction\"].round(4)\n",
    "\n",
    "    # Adding data types\n",
    "    nans_df[\"dtype\"] = data[nans_df.index].dtypes\n",
    "    nans_df = nans_df[[\"dtype\", \"missing_count\", \"missing_fraction\"]]\n",
    "\n",
    "    return nans_df"
   ]
  },
  {
   "cell_type": "code",
   "execution_count": 10,
   "id": "8a3c9773-f94b-4dc0-b1eb-06bfa5a54a34",
   "metadata": {},
   "outputs": [
    {
     "data": {
      "text/html": [
       "<div>\n",
       "<style scoped>\n",
       "    .dataframe tbody tr th:only-of-type {\n",
       "        vertical-align: middle;\n",
       "    }\n",
       "\n",
       "    .dataframe tbody tr th {\n",
       "        vertical-align: top;\n",
       "    }\n",
       "\n",
       "    .dataframe thead th {\n",
       "        text-align: right;\n",
       "    }\n",
       "</style>\n",
       "<table border=\"1\" class=\"dataframe\">\n",
       "  <thead>\n",
       "    <tr style=\"text-align: right;\">\n",
       "      <th></th>\n",
       "      <th>dtype</th>\n",
       "      <th>missing_count</th>\n",
       "      <th>missing_fraction</th>\n",
       "    </tr>\n",
       "  </thead>\n",
       "  <tbody>\n",
       "    <tr>\n",
       "      <th>tenure</th>\n",
       "      <td>float64</td>\n",
       "      <td>909</td>\n",
       "      <td>0.0909</td>\n",
       "    </tr>\n",
       "  </tbody>\n",
       "</table>\n",
       "</div>"
      ],
      "text/plain": [
       "          dtype  missing_count  missing_fraction\n",
       "tenure  float64            909            0.0909"
      ]
     },
     "metadata": {},
     "output_type": "display_data"
    }
   ],
   "source": [
    "# Computing the number and share of missing values\n",
    "nans_df = identify_missing_values(data=clients_data)\n",
    "display(nans_df)"
   ]
  },
  {
   "cell_type": "markdown",
   "id": "8bc5cd91-12ca-49ca-865f-40c3ac59b869",
   "metadata": {},
   "source": [
    "As we saw earlier, we have missing values in only one column - `tenure`. The omissions account for only 9% of the data, so we will delete such rows with missing values to save time."
   ]
  },
  {
   "cell_type": "code",
   "execution_count": 11,
   "id": "041a7a2c-5529-4750-a7af-5dc0cfc4e690",
   "metadata": {},
   "outputs": [],
   "source": [
    "# Deleting rows with NaN-values (share < 10%)\n",
    "clients_data = clients_data.dropna(\n",
    "    subset=nans_df[nans_df[\"missing_fraction\"] < 0.1].index\n",
    ").reset_index(drop=True)"
   ]
  },
  {
   "cell_type": "code",
   "execution_count": 12,
   "id": "6ff23dae-3117-4582-ac32-5aa8de017039",
   "metadata": {},
   "outputs": [],
   "source": [
    "# Verification of all missing values deletion\n",
    "identify_missing_values(data=clients_data)"
   ]
  },
  {
   "cell_type": "markdown",
   "id": "7264763a-ca23-4be0-81fd-d33603e25624",
   "metadata": {},
   "source": [
    "As we can see, we have managed to deal with all missing values."
   ]
  },
  {
   "cell_type": "markdown",
   "id": "870cf85e-876e-414b-9461-47b2bd57a8f5",
   "metadata": {},
   "source": [
    "### Data type conversions"
   ]
  },
  {
   "cell_type": "markdown",
   "id": "11c4bf7f-6288-4f60-9fc2-f80b475585a8",
   "metadata": {},
   "source": [
    "Let's consider the general information about the data again."
   ]
  },
  {
   "cell_type": "code",
   "execution_count": 13,
   "id": "b1b721ec-e6b5-41c2-8b11-5e8fa376e99b",
   "metadata": {},
   "outputs": [
    {
     "name": "stdout",
     "output_type": "stream",
     "text": [
      "<class 'pandas.core.frame.DataFrame'>\n",
      "RangeIndex: 9091 entries, 0 to 9090\n",
      "Data columns (total 14 columns):\n",
      " #   Column            Non-Null Count  Dtype  \n",
      "---  ------            --------------  -----  \n",
      " 0   row_number        9091 non-null   int64  \n",
      " 1   customer_id       9091 non-null   int64  \n",
      " 2   surname           9091 non-null   object \n",
      " 3   credit_score      9091 non-null   int64  \n",
      " 4   geography         9091 non-null   object \n",
      " 5   gender            9091 non-null   object \n",
      " 6   age               9091 non-null   int64  \n",
      " 7   tenure            9091 non-null   float64\n",
      " 8   balance           9091 non-null   float64\n",
      " 9   num_of_products   9091 non-null   int64  \n",
      " 10  has_cr_card       9091 non-null   int64  \n",
      " 11  is_active_member  9091 non-null   int64  \n",
      " 12  estimated_salary  9091 non-null   float64\n",
      " 13  exited            9091 non-null   int64  \n",
      "dtypes: float64(3), int64(8), object(3)\n",
      "memory usage: 994.5+ KB\n"
     ]
    }
   ],
   "source": [
    "clients_data.info()"
   ]
  },
  {
   "cell_type": "markdown",
   "id": "ab4d36a6-e467-430a-9e64-86301e272c44",
   "metadata": {},
   "source": [
    "We see that only `tenure` column requires data type conversion. Hence, let's convert its type to `int64`. "
   ]
  },
  {
   "cell_type": "code",
   "execution_count": 14,
   "id": "1c5ce185-1691-4e78-a321-de5caafb1421",
   "metadata": {},
   "outputs": [
    {
     "data": {
      "text/plain": [
       "0        2\n",
       "1        1\n",
       "2        8\n",
       "3        1\n",
       "4        2\n",
       "        ..\n",
       "9086     2\n",
       "9087     5\n",
       "9088    10\n",
       "9089     7\n",
       "9090     3\n",
       "Name: tenure, Length: 9091, dtype: int64"
      ]
     },
     "metadata": {},
     "output_type": "display_data"
    }
   ],
   "source": [
    "# Conversion to int64\n",
    "clients_data[\"tenure\"] = clients_data[\"tenure\"].astype(\"int64\")\n",
    "display(clients_data[\"tenure\"])"
   ]
  },
  {
   "cell_type": "markdown",
   "id": "97ff22d7-b604-4246-903d-6d90b2c7134f",
   "metadata": {},
   "source": [
    "We see that data type has been successfully converted."
   ]
  },
  {
   "cell_type": "markdown",
   "id": "1f569d4d-b97b-44ac-9627-9b26e41335ca",
   "metadata": {},
   "source": [
    "### Identical rows"
   ]
  },
  {
   "cell_type": "markdown",
   "id": "9b8e129b-f570-4f8b-bf30-d3116382a2b4",
   "metadata": {},
   "source": [
    "Lastly, let's check if the DataFrame has identical rows and if it does, we will delete them."
   ]
  },
  {
   "cell_type": "code",
   "execution_count": 15,
   "id": "4e548f4b-b062-42ed-8259-81505e366d4c",
   "metadata": {},
   "outputs": [],
   "source": [
    "def preprocess_duplicates(data):\n",
    "    \"\"\"Deletes duplicates from a DataFrame.\"\"\"\n",
    "    # Computing the number of duplicates in DataFrame\n",
    "    num_duplicates = data.duplicated().sum()\n",
    "    # Checking the number of duplicates for nullity\n",
    "    if num_duplicates != 0:\n",
    "        # Deleting duplicates\n",
    "        data.drop_duplicates(inplace=True)\n",
    "        # Displaying a message attesting the deletion\n",
    "        print(f\"{num_duplicates:,} duplicates found and deleted.\")\n",
    "        return None\n",
    "    return None"
   ]
  },
  {
   "cell_type": "code",
   "execution_count": 16,
   "id": "fc799ab5-48b2-4488-b55c-7dd1eb6162f0",
   "metadata": {},
   "outputs": [],
   "source": [
    "# Verification of identical rows being present\n",
    "preprocess_duplicates(data=clients_data)"
   ]
  },
  {
   "cell_type": "markdown",
   "id": "9cb494ab-d9f6-4d6a-920f-014da1d364fc",
   "metadata": {},
   "source": [
    "## Data splitting"
   ]
  },
  {
   "cell_type": "markdown",
   "id": "f00528f3-d3fe-4aea-87c6-c7d01c4b0f4e",
   "metadata": {},
   "source": [
    "Now that we have preprocessed the data, we can move on to preparing the data for machine learning algorithms. To begin with, we will delete the columns that we will not need during the training of models. In this case, these are the columns `row_number`, `customer_id` and `surname`, since they will not carry any relevance regarding the client's choice to stay or terminate the contract with the bank. The first two columns contain purely technical information, and the client's last name cannot in any way influence the client's decision to churn from the bank."
   ]
  },
  {
   "cell_type": "code",
   "execution_count": 17,
   "id": "5f2c0821-5065-4f0f-85c7-d66736d79e1f",
   "metadata": {},
   "outputs": [
    {
     "data": {
      "text/html": [
       "<div>\n",
       "<style scoped>\n",
       "    .dataframe tbody tr th:only-of-type {\n",
       "        vertical-align: middle;\n",
       "    }\n",
       "\n",
       "    .dataframe tbody tr th {\n",
       "        vertical-align: top;\n",
       "    }\n",
       "\n",
       "    .dataframe thead th {\n",
       "        text-align: right;\n",
       "    }\n",
       "</style>\n",
       "<table border=\"1\" class=\"dataframe\">\n",
       "  <thead>\n",
       "    <tr style=\"text-align: right;\">\n",
       "      <th></th>\n",
       "      <th>credit_score</th>\n",
       "      <th>geography</th>\n",
       "      <th>gender</th>\n",
       "      <th>age</th>\n",
       "      <th>tenure</th>\n",
       "      <th>balance</th>\n",
       "      <th>num_of_products</th>\n",
       "      <th>has_cr_card</th>\n",
       "      <th>is_active_member</th>\n",
       "      <th>estimated_salary</th>\n",
       "      <th>exited</th>\n",
       "    </tr>\n",
       "  </thead>\n",
       "  <tbody>\n",
       "    <tr>\n",
       "      <th>0</th>\n",
       "      <td>619</td>\n",
       "      <td>France</td>\n",
       "      <td>Female</td>\n",
       "      <td>42</td>\n",
       "      <td>2</td>\n",
       "      <td>0.00</td>\n",
       "      <td>1</td>\n",
       "      <td>1</td>\n",
       "      <td>1</td>\n",
       "      <td>101348.88</td>\n",
       "      <td>1</td>\n",
       "    </tr>\n",
       "    <tr>\n",
       "      <th>1</th>\n",
       "      <td>608</td>\n",
       "      <td>Spain</td>\n",
       "      <td>Female</td>\n",
       "      <td>41</td>\n",
       "      <td>1</td>\n",
       "      <td>83807.86</td>\n",
       "      <td>1</td>\n",
       "      <td>0</td>\n",
       "      <td>1</td>\n",
       "      <td>112542.58</td>\n",
       "      <td>0</td>\n",
       "    </tr>\n",
       "    <tr>\n",
       "      <th>2</th>\n",
       "      <td>502</td>\n",
       "      <td>France</td>\n",
       "      <td>Female</td>\n",
       "      <td>42</td>\n",
       "      <td>8</td>\n",
       "      <td>159660.80</td>\n",
       "      <td>3</td>\n",
       "      <td>1</td>\n",
       "      <td>0</td>\n",
       "      <td>113931.57</td>\n",
       "      <td>1</td>\n",
       "    </tr>\n",
       "    <tr>\n",
       "      <th>3</th>\n",
       "      <td>699</td>\n",
       "      <td>France</td>\n",
       "      <td>Female</td>\n",
       "      <td>39</td>\n",
       "      <td>1</td>\n",
       "      <td>0.00</td>\n",
       "      <td>2</td>\n",
       "      <td>0</td>\n",
       "      <td>0</td>\n",
       "      <td>93826.63</td>\n",
       "      <td>0</td>\n",
       "    </tr>\n",
       "    <tr>\n",
       "      <th>4</th>\n",
       "      <td>850</td>\n",
       "      <td>Spain</td>\n",
       "      <td>Female</td>\n",
       "      <td>43</td>\n",
       "      <td>2</td>\n",
       "      <td>125510.82</td>\n",
       "      <td>1</td>\n",
       "      <td>1</td>\n",
       "      <td>1</td>\n",
       "      <td>79084.10</td>\n",
       "      <td>0</td>\n",
       "    </tr>\n",
       "  </tbody>\n",
       "</table>\n",
       "</div>"
      ],
      "text/plain": [
       "   credit_score geography  gender  age  tenure    balance  num_of_products  \\\n",
       "0           619    France  Female   42       2       0.00                1   \n",
       "1           608     Spain  Female   41       1   83807.86                1   \n",
       "2           502    France  Female   42       8  159660.80                3   \n",
       "3           699    France  Female   39       1       0.00                2   \n",
       "4           850     Spain  Female   43       2  125510.82                1   \n",
       "\n",
       "   has_cr_card  is_active_member  estimated_salary  exited  \n",
       "0            1                 1         101348.88       1  \n",
       "1            0                 1         112542.58       0  \n",
       "2            1                 0         113931.57       1  \n",
       "3            0                 0          93826.63       0  \n",
       "4            1                 1          79084.10       0  "
      ]
     },
     "execution_count": 17,
     "metadata": {},
     "output_type": "execute_result"
    }
   ],
   "source": [
    "# Deleting irrelevant columns\n",
    "clients_data = clients_data[clients_data.columns[3:]]\n",
    "clients_data.head()"
   ]
  },
  {
   "cell_type": "markdown",
   "id": "e597cc85-d750-4f84-a750-ac989cbc350a",
   "metadata": {},
   "source": [
    "After that we see that we now have all the information that will help us to use classification algorithms. Before splitting the data, let's separate features from target."
   ]
  },
  {
   "cell_type": "code",
   "execution_count": 18,
   "id": "f53803d4-4811-4ead-aef5-843a99435580",
   "metadata": {},
   "outputs": [],
   "source": [
    "# Retrieving features\n",
    "features = clients_data.drop([\"exited\"], axis=1)\n",
    "\n",
    "# Singling out a target vector\n",
    "target = clients_data[\"exited\"]"
   ]
  },
  {
   "cell_type": "markdown",
   "id": "a48b7a95-b079-4a47-8685-384e08fc1ed3",
   "metadata": {},
   "source": [
    "Now, we can use `train_test_split` to separate the data into training and test sets."
   ]
  },
  {
   "cell_type": "code",
   "execution_count": 19,
   "id": "40e4cc74-57aa-4b7d-953f-52ea921905b6",
   "metadata": {},
   "outputs": [],
   "source": [
    "# Splitting data into training and test sets\n",
    "features_train, features_test, target_train, target_test = train_test_split(\n",
    "    features,\n",
    "    target,\n",
    "    test_size=TEST_SET_SHARE,\n",
    "    stratify=target,\n",
    "    random_state=RANDOM_STATE,\n",
    ")"
   ]
  },
  {
   "cell_type": "markdown",
   "id": "ef9348b6-9043-4460-87eb-4283e2ff6a70",
   "metadata": {},
   "source": [
    "By passing `target` as argument to `stratify` we make sure that the proportions of the classes in `target` will be preserved in the splits. Let's manually verify that fact."
   ]
  },
  {
   "cell_type": "code",
   "execution_count": 20,
   "id": "ce296541-d141-4845-8035-8dd50c2d6b95",
   "metadata": {},
   "outputs": [
    {
     "data": {
      "text/plain": [
       "0    0.796062\n",
       "1    0.203938\n",
       "Name: exited, dtype: float64"
      ]
     },
     "execution_count": 20,
     "metadata": {},
     "output_type": "execute_result"
    }
   ],
   "source": [
    "# Shares of classes in full target\n",
    "target.value_counts(normalize=True)"
   ]
  },
  {
   "cell_type": "code",
   "execution_count": 21,
   "id": "c59656f8-a0e3-43b0-b544-78e0c08cec1c",
   "metadata": {},
   "outputs": [
    {
     "data": {
      "text/plain": [
       "0    0.796128\n",
       "1    0.203872\n",
       "Name: exited, dtype: float64"
      ]
     },
     "execution_count": 21,
     "metadata": {},
     "output_type": "execute_result"
    }
   ],
   "source": [
    "# Shares of classes in training target\n",
    "target_train.value_counts(normalize=True)"
   ]
  },
  {
   "cell_type": "code",
   "execution_count": 22,
   "id": "c211624d-5913-4077-a76f-196598ef05b4",
   "metadata": {},
   "outputs": [
    {
     "data": {
      "text/plain": [
       "0    0.795864\n",
       "1    0.204136\n",
       "Name: exited, dtype: float64"
      ]
     },
     "execution_count": 22,
     "metadata": {},
     "output_type": "execute_result"
    }
   ],
   "source": [
    "# Shares of classes in testing target\n",
    "target_test.value_counts(normalize=True)"
   ]
  },
  {
   "cell_type": "markdown",
   "id": "f15c1dbe-df6c-42a4-a2d5-47e9867238fc",
   "metadata": {},
   "source": [
    "Hence, we see that the class proportions are preserved across sets. Lastly, let's check if the data was split according to the correct proportions."
   ]
  },
  {
   "cell_type": "code",
   "execution_count": 23,
   "id": "5791bb9b-3442-421e-aca9-4986b0bd794e",
   "metadata": {},
   "outputs": [],
   "source": [
    "# Computing shares of training features and training target\n",
    "features_train_share = np.round(features_train.shape[0] / clients_data.shape[0], 2)\n",
    "target_train_share = np.round(target_train.shape[0] / clients_data.shape[0], 2)\n",
    "\n",
    "# Computing shares of testing features and testing target\n",
    "features_test_share = np.round(features_test.shape[0] / clients_data.shape[0], 2)\n",
    "target_test_share = np.round(target_test.shape[0] / clients_data.shape[0], 2)\n",
    "\n",
    "# Verifying the consistency of set shares\n",
    "assert features_train_share == target_train_share == TRAIN_SET_SHARE\n",
    "assert features_test_share == target_test_share == TEST_SET_SHARE"
   ]
  },
  {
   "cell_type": "markdown",
   "id": "39aa4a57-aeeb-42e3-b4ad-602ae1c55536",
   "metadata": {},
   "source": [
    "## Preprocessing pipelines"
   ]
  },
  {
   "cell_type": "markdown",
   "id": "2046124d-1f05-4e9a-a6d4-20ff0426da9d",
   "metadata": {},
   "source": [
    "In this section, we will define some pipelines for conducting data preprocessing during models training. Firstly, we need to define which columns of the DataFrame will be transformed and how."
   ]
  },
  {
   "cell_type": "markdown",
   "id": "05ef7354-0264-447d-b4a3-14122c7e1fb5",
   "metadata": {},
   "source": [
    "We will start with the categorical columns."
   ]
  },
  {
   "cell_type": "code",
   "execution_count": 24,
   "id": "36d752a8-2eca-475f-8574-0ed3335dafa1",
   "metadata": {},
   "outputs": [
    {
     "name": "stdout",
     "output_type": "stream",
     "text": [
      "Categorical columns to encode: ['geography', 'gender']\n"
     ]
    }
   ],
   "source": [
    "# Choosing categorical columns to encode (\"object\" type)\n",
    "cat_cols_to_encode = features_train.select_dtypes(include=\"object\").columns.to_list()\n",
    "print(f\"Categorical columns to encode: {cat_cols_to_encode}\")"
   ]
  },
  {
   "cell_type": "markdown",
   "id": "7c3a56fd-0737-40f2-b915-7e579f10746c",
   "metadata": {},
   "source": [
    "There are only two columns of `object` data type that will need to be encoded. Next, let's consider which numeric columns we will scale. We will make the assumption that numeric features that have less than 5 categories will not require feature scaling and will therefore be left intact."
   ]
  },
  {
   "cell_type": "code",
   "execution_count": 25,
   "id": "e7eeb016-5b30-4659-951d-737406074262",
   "metadata": {},
   "outputs": [
    {
     "name": "stdout",
     "output_type": "stream",
     "text": [
      "Numeric columns to scale: ['credit_score', 'age', 'tenure', 'balance', 'estimated_salary']\n",
      "Numeric columns intact: ['num_of_products', 'has_cr_card', 'is_active_member']\n"
     ]
    }
   ],
   "source": [
    "# Selecting columns with data type other than \"object\"\n",
    "num_cols = features_train.select_dtypes(exclude=\"object\").columns.to_list()\n",
    "\n",
    "# Separating columns into appropriate groups\n",
    "num_cols_to_scale = []\n",
    "num_cols_intact = []\n",
    "for col in num_cols:\n",
    "    if len(features_train[col].unique()) < 5:\n",
    "        num_cols_intact.append(col)\n",
    "    else:\n",
    "        num_cols_to_scale.append(col)\n",
    "\n",
    "# Displaying the result\n",
    "print(f\"Numeric columns to scale: {num_cols_to_scale}\")\n",
    "print(f\"Numeric columns intact: {num_cols_intact}\")"
   ]
  },
  {
   "cell_type": "markdown",
   "id": "f4eee9ca-e32d-45ed-a973-4203935fb6dc",
   "metadata": {},
   "source": [
    "We can now get to defining the preprocessing pipelines. Firstly, we create a specific pipeline for each kind of features:\n",
    "\n",
    "* `num_transformer` => Pipeline for numeric columns;\n",
    "* `one_hot_transformer` => Pipeline for categorical columns;\n",
    "* `ordinal_transformer` => Pipeline for categorical columns (tree-based models)."
   ]
  },
  {
   "cell_type": "code",
   "execution_count": 26,
   "id": "7ebf6e3e-c70f-4613-b51e-b34fd0f10779",
   "metadata": {},
   "outputs": [],
   "source": [
    "# Instantiating SimpleImputer for numeric columns\n",
    "simple_imputer_num = SimpleImputer(strategy=\"median\")\n",
    "\n",
    "# Instantiating StandardScaler\n",
    "scaler = StandardScaler()\n",
    "\n",
    "# Creating a pipeline for numeric columns\n",
    "num_transformer = make_pipeline(simple_imputer_num, scaler)"
   ]
  },
  {
   "cell_type": "markdown",
   "id": "facf59f2-440d-4541-9d23-901bab25c691",
   "metadata": {},
   "source": [
    "Pipeline for numeric columns consists of two steps:\n",
    "\n",
    "1. `SimpleImputer(strategy=\"median\")` => Missing values imputer where such values are filled in with median;\n",
    "2. `StandardScaler` => Features scaler."
   ]
  },
  {
   "cell_type": "code",
   "execution_count": 27,
   "id": "5cf96bb8-6a5c-4841-874a-4b62be6ee1cd",
   "metadata": {},
   "outputs": [],
   "source": [
    "# Instantiating SimpleImputer for categorical columnss\n",
    "simple_imputer_cat = SimpleImputer(strategy=\"most_frequent\")\n",
    "\n",
    "# Instantiating OneHotEncoder\n",
    "one_hot_encoder = OneHotEncoder(drop=\"first\", handle_unknown=\"ignore\")\n",
    "\n",
    "# Creating a pipeline for categorical columns\n",
    "one_hot_transformer = make_pipeline(simple_imputer_cat, one_hot_encoder)"
   ]
  },
  {
   "cell_type": "markdown",
   "id": "f361db76-36df-47fa-b082-4b14dc17719b",
   "metadata": {},
   "source": [
    "Categorical columns pipeline is characterized by the following steps:\n",
    "\n",
    "1. `SimpleImputer(strategy=\"most_frequent\")` => Missing values imputer where such values in categorical columns are replaced with the most frequently met value;\n",
    "2. `OneHotEncoder(drop=\"first\", handle_unknown=\"ignore\")` => Encoder of categorical features by *One-Hot Encoding* method where we drop the first category to avoid multicollinearity and choose to ignore unknown categories if, for instance, some value is present in test set but not in the training one."
   ]
  },
  {
   "cell_type": "code",
   "execution_count": 28,
   "id": "d583bb3b-c3e3-40cc-b69d-8eab2df15568",
   "metadata": {},
   "outputs": [],
   "source": [
    "# Instantiating OrdinalEncoder\n",
    "ordinal_encoder = OrdinalEncoder(handle_unknown=\"use_encoded_value\", unknown_value=-1)\n",
    "\n",
    "# Creating a pipeline for categorical columns (tree-based models)\n",
    "ordinal_transformer = make_pipeline(simple_imputer_cat, ordinal_encoder)"
   ]
  },
  {
   "cell_type": "markdown",
   "id": "0da44bf4-d4df-4c57-a9ab-461b0558698e",
   "metadata": {},
   "source": [
    "Here, we define another pipeline for tree-based models, since in case encoding categorical features via *One-Hot Encoding* in tree-based models (*Decision Tree* and *Random Forest*), we will have a huge amount of such features and as a result it will take much longer for a model to find an optimal split. Hence, in this case we have introduced *Ordinal Encoding* which should speed up the work of tree-based algorithms.\n",
    "\n",
    "This pipeline will also make use of the imputer for categorical features but also will have `OrdinalEncoder` as the underlying estimator, rather than `OneHotEncoder`."
   ]
  },
  {
   "cell_type": "markdown",
   "id": "ae355bb3-bf04-4ff8-88ec-9c7582c07cd6",
   "metadata": {},
   "source": [
    "Finally, we will combine these pipelines together in the appropriate way:\n",
    "\n",
    "* `preprocessor_all` => Preprocessor for any model with numeric features scaling and *One-Hot encoding*;\n",
    "* `preprocessor_tree` => Preprocessor for tree-based models with numeric features scaling and *Ordinal Encoding*."
   ]
  },
  {
   "cell_type": "code",
   "execution_count": 29,
   "id": "a9dd1494-06a0-4546-ae6c-988c63c96412",
   "metadata": {},
   "outputs": [],
   "source": [
    "# Chaining pipelines (all models)\n",
    "preprocessor_all = make_column_transformer(\n",
    "    (num_transformer, num_cols_to_scale),\n",
    "    (one_hot_transformer, cat_cols_to_encode),\n",
    "    remainder=\"passthrough\",\n",
    "    verbose_feature_names_out=False,\n",
    ")\n",
    "\n",
    "# Chaining pipelines (tree-based models)\n",
    "preprocessor_tree = make_column_transformer(\n",
    "    (num_transformer, num_cols_to_scale),\n",
    "    (ordinal_transformer, cat_cols_to_encode),\n",
    "    remainder=\"passthrough\",\n",
    "    verbose_feature_names_out=False,\n",
    ")"
   ]
  },
  {
   "cell_type": "markdown",
   "id": "f4298745-aea2-4550-85f0-554e2a58b88a",
   "metadata": {},
   "source": [
    "Notably, we have left some columns intact by setting `remainder=\"passthrough\"` for columns with already encoded categories which do not really need any operations performed on them."
   ]
  },
  {
   "cell_type": "markdown",
   "id": "e5690e9f-7694-429f-a64d-90bb8e6fceed",
   "metadata": {},
   "source": [
    "**Conclusion**\n",
    "\n",
    "At this stage, the data was carefully studied and a few problems were identified (missing values, incorrect data type and incorrect column names), which were corrected as a result of data preprocessing. Furthermore, the data was brought to the proper form by applying data partitioning into training and test sets. We have also prepared appropriate preprocessing pipelines that will be useful later when training machine learning models."
   ]
  },
  {
   "cell_type": "markdown",
   "id": "0d2cef51-525d-49ea-bf7a-f0019783d936",
   "metadata": {},
   "source": [
    "# Classes balance analysis"
   ]
  },
  {
   "cell_type": "markdown",
   "id": "903c32cf-0dc2-48a3-82d6-b6ec58ad7198",
   "metadata": {},
   "source": [
    "Now let's move on to studying the class balance. To do this, we will build a bar chart, where we will indicate what percentage of the observations in the target variable for the training set belongs to each class. We are interested in the training set, because it is important to us to understand whether the algorithms will learn from balanced or unbalanced data."
   ]
  },
  {
   "cell_type": "code",
   "execution_count": 30,
   "id": "b7c31876-5596-44c8-801e-ddb48dc905f8",
   "metadata": {},
   "outputs": [
    {
     "data": {
      "image/png": "[encoded data removed]",
      "text/plain": [
       "<Figure size 640x480 with 1 Axes>"
      ]
     },
     "metadata": {},
     "output_type": "display_data"
    }
   ],
   "source": [
    "# Plotting a histogram for a target\n",
    "target_train.value_counts(normalize=True).plot(\n",
    "    kind=\"bar\",\n",
    "    xlabel=\"Client status\",\n",
    "    ylabel=\"Shares of clients\",\n",
    ")\n",
    "plt.xticks(ticks=[0, 1], labels=[\"Not churned\", \"Churned\"], rotation=0)\n",
    "plt.title(\"Class structure of the target (exited)\", fontsize=15)\n",
    "plt.tight_layout()\n",
    "plt.show()"
   ]
  },
  {
   "cell_type": "markdown",
   "id": "df16ade9-8885-4c96-ae91-c10a2fee7923",
   "metadata": {},
   "source": [
    "We can see that approximately 80% of all objects are accounted for by those who stayed with the bank (class \"0\"), while the remaining 20% are gone. Thus, we are dealing with an unbalanced classification, in which models usually show poor learning performance."
   ]
  },
  {
   "cell_type": "markdown",
   "id": "b1b61a90-7687-409c-a6f1-3c0811d423d5",
   "metadata": {},
   "source": [
    "# Setting class weights"
   ]
  },
  {
   "cell_type": "markdown",
   "id": "8e702123-3c24-4a37-80c1-ad4c814fac0a",
   "metadata": {},
   "source": [
    "In this section, we will consider models provided that the class imbalance is either ignored or accounted for by `class_weight` hyperparameter. We will thus include this hyperparameter in the parameter grid which will help us understand whether applying class weighting stategy is conducive to improvements in models predictive performance. \n",
    "\n",
    "We will conduct a series of hyperparameter tunings for the following three classification models:\n",
    "\n",
    "* *Decision Tree Classifier*\n",
    "* *Random Forest Classifier*\n",
    "* *Logistic Regression*\n",
    "\n",
    "We will focus on the value of the *F1* metric on the validation set."
   ]
  },
  {
   "cell_type": "markdown",
   "id": "82ab8bfc-171c-41b7-90a5-f2f5ecbffeb9",
   "metadata": {},
   "source": [
    "## Decision Tree"
   ]
  },
  {
   "cell_type": "code",
   "execution_count": 31,
   "id": "a1637e4d-cf9e-43b9-89bf-8bb0e29b186e",
   "metadata": {},
   "outputs": [],
   "source": [
    "# Defining a Decision Tree model\n",
    "dt_model = DecisionTreeClassifier(random_state=RANDOM_STATE)\n",
    "\n",
    "# Joining the preprocessor for tree-based models with DTC\n",
    "dt_pipeline = make_pipeline(preprocessor_tree, dt_model)"
   ]
  },
  {
   "cell_type": "code",
   "execution_count": 32,
   "id": "6e00b2ff-db07-4eb8-b0bd-18bb7e61f9e0",
   "metadata": {},
   "outputs": [
    {
     "name": "stdout",
     "output_type": "stream",
     "text": [
      "F1 score (Decision Tree): 0.555\n",
      "\n",
      "CPU times: total: 1.64 s\n",
      "Wall time: 7.74 s\n"
     ]
    }
   ],
   "source": [
    "%%time\n",
    "\n",
    "# Setting a hyperparameter grid\n",
    "dt_params_grid = {\n",
    "    \"decisiontreeclassifier__max_depth\": [1, 2, 3, 4, 5, 6, 7, 8, 9, None],\n",
    "    \"decisiontreeclassifier__criterion\": [\"gini\", \"entropy\", \"log_loss\"],\n",
    "    \"decisiontreeclassifier__class_weight\": [None, \"balanced\"],\n",
    "}\n",
    "\n",
    "# Instantiating RSCV object\n",
    "dt_grid_search = RandomizedSearchCV(\n",
    "    estimator=dt_pipeline,\n",
    "    param_distributions=dt_params_grid,\n",
    "    scoring=SCORER,\n",
    "    cv=CV_FOLDS,\n",
    "    n_iter=N_ITER,\n",
    "    random_state=RANDOM_STATE,\n",
    "    n_jobs=-1,\n",
    ")\n",
    "\n",
    "# Launching randomized grid search algorithm \n",
    "dt_grid_search.fit(features_train, target_train)\n",
    "\n",
    "# Displaying the best CV F1-score\n",
    "print(f\"{SCORER.capitalize()} score (Decision Tree): {dt_grid_search.best_score_:.3f}\\n\")"
   ]
  },
  {
   "cell_type": "code",
   "execution_count": 33,
   "id": "4883e266-7419-4d89-acd1-55148865f613",
   "metadata": {},
   "outputs": [
    {
     "data": {
      "text/plain": [
       "{'decisiontreeclassifier__max_depth': 5,\n",
       " 'decisiontreeclassifier__criterion': 'entropy',\n",
       " 'decisiontreeclassifier__class_weight': 'balanced'}"
      ]
     },
     "execution_count": 33,
     "metadata": {},
     "output_type": "execute_result"
    }
   ],
   "source": [
    "# Displaying hyperparameters of the best model\n",
    "dt_grid_search.best_params_"
   ]
  },
  {
   "cell_type": "markdown",
   "id": "a07c7da8-ee1f-4397-96e9-7caf3f5d437c",
   "metadata": {},
   "source": [
    "## Random Forest"
   ]
  },
  {
   "cell_type": "code",
   "execution_count": 34,
   "id": "9d0429f5-8572-4f69-a994-e2c77a4ee2d1",
   "metadata": {},
   "outputs": [],
   "source": [
    "# Defining a Random Forest model\n",
    "rf_model = RandomForestClassifier(random_state=RANDOM_STATE)\n",
    "\n",
    "# Joining pipeline for tree-based models with RFC\n",
    "rf_pipeline = make_pipeline(preprocessor_tree, rf_model)"
   ]
  },
  {
   "cell_type": "code",
   "execution_count": 35,
   "id": "66b7133e-a8aa-4cdb-8fdb-40a555fc99d9",
   "metadata": {},
   "outputs": [
    {
     "name": "stdout",
     "output_type": "stream",
     "text": [
      "F1 score (Random Forest): 0.590\n",
      "\n",
      "CPU times: total: 5.72 s\n",
      "Wall time: 1min 21s\n"
     ]
    }
   ],
   "source": [
    "%%time\n",
    "\n",
    "# Setting a hyperparameter grid\n",
    "rf_params_grid = {\n",
    "    \"randomforestclassifier__max_depth\": [1, 2, 3, 4, 5, 6, None],\n",
    "    \"randomforestclassifier__n_estimators\": np.arange(10, 210, 10),\n",
    "    \"randomforestclassifier__class_weight\": [None, \"balanced\"],\n",
    "}\n",
    "\n",
    "# Instantiating RSCV object\n",
    "rf_grid_search = RandomizedSearchCV(\n",
    "    estimator=rf_pipeline,\n",
    "    param_distributions=rf_params_grid,\n",
    "    scoring=SCORER,\n",
    "    cv=CV_FOLDS,\n",
    "    n_iter=N_ITER,\n",
    "    random_state=RANDOM_STATE,\n",
    "    n_jobs=-1,\n",
    ")\n",
    "\n",
    "# Launching randomized grid search algorithm \n",
    "rf_grid_search.fit(features_train, target_train)\n",
    "\n",
    "# Displaying the best CV F1-score\n",
    "print(f\"{SCORER.capitalize()} score (Random Forest): {rf_grid_search.best_score_:.3f}\\n\")"
   ]
  },
  {
   "cell_type": "code",
   "execution_count": 36,
   "id": "cc93305d-f71e-46cc-b4ec-845fcbe3e3ed",
   "metadata": {},
   "outputs": [
    {
     "data": {
      "text/plain": [
       "{'randomforestclassifier__n_estimators': 160,\n",
       " 'randomforestclassifier__max_depth': 6,\n",
       " 'randomforestclassifier__class_weight': 'balanced'}"
      ]
     },
     "execution_count": 36,
     "metadata": {},
     "output_type": "execute_result"
    }
   ],
   "source": [
    "# Displaying hyperparameters of the best model\n",
    "rf_grid_search.best_params_"
   ]
  },
  {
   "cell_type": "markdown",
   "id": "6282c1d4-df25-4611-95df-91f228d3844a",
   "metadata": {},
   "source": [
    "## Logistic Regression"
   ]
  },
  {
   "cell_type": "code",
   "execution_count": 37,
   "id": "9c89670f-841b-44d2-bbac-a74d39968e15",
   "metadata": {},
   "outputs": [],
   "source": [
    "# Defining a Logistic Regression model\n",
    "lr_model = LogisticRegression(random_state=RANDOM_STATE)\n",
    "\n",
    "# Joining the pipeline with LR\n",
    "lr_pipeline = make_pipeline(preprocessor_all, lr_model)"
   ]
  },
  {
   "cell_type": "code",
   "execution_count": 38,
   "id": "3df17160-7002-4947-9632-668bc819ec6e",
   "metadata": {},
   "outputs": [
    {
     "name": "stdout",
     "output_type": "stream",
     "text": [
      "F1 score (Logistic Regression): 0.505\n",
      "\n",
      "CPU times: total: 2.19 s\n",
      "Wall time: 5.52 s\n"
     ]
    }
   ],
   "source": [
    "%%time\n",
    "\n",
    "# Setting a hyperparameter grid\n",
    "lr_params_grid = {\n",
    "    \"logisticregression__C\": stats.loguniform(0.0001, 1000.0),\n",
    "    \"logisticregression__max_iter\": [100, 1000, 10000, 100000],\n",
    "    \"logisticregression__class_weight\": [None, \"balanced\"],\n",
    "}\n",
    "\n",
    "# Instantiating RSCV object\n",
    "lr_grid_search = RandomizedSearchCV(\n",
    "    estimator=lr_pipeline,\n",
    "    param_distributions=lr_params_grid,\n",
    "    scoring=SCORER,\n",
    "    cv=CV_FOLDS,\n",
    "    n_iter=N_ITER,\n",
    "    random_state=RANDOM_STATE,\n",
    "    n_jobs=-1,\n",
    ")\n",
    "\n",
    "# Launching randomized grid search algorithm \n",
    "lr_grid_search.fit(features_train, target_train)\n",
    "\n",
    "# Displaying the best CV F1-score\n",
    "print(f\"{SCORER.capitalize()} score (Logistic Regression): {lr_grid_search.best_score_:.3f}\\n\")"
   ]
  },
  {
   "cell_type": "code",
   "execution_count": 39,
   "id": "9c94dea8-aed7-4565-ae8e-4b7e7e8e3816",
   "metadata": {},
   "outputs": [
    {
     "data": {
      "text/plain": [
       "{'logisticregression__C': 0.003409182936980809,\n",
       " 'logisticregression__class_weight': 'balanced',\n",
       " 'logisticregression__max_iter': 100000}"
      ]
     },
     "execution_count": 39,
     "metadata": {},
     "output_type": "execute_result"
    }
   ],
   "source": [
    "# Displaying the hyperparameters of the best model\n",
    "lr_grid_search.best_params_"
   ]
  },
  {
   "cell_type": "markdown",
   "id": "1a61462d-7411-473b-af94-acb2e6b6ea6f",
   "metadata": {},
   "source": [
    "It can be seen that in all subsections grid search algorithm highlighted the importance of `class_weight=\"balanced\"` setting."
   ]
  },
  {
   "cell_type": "markdown",
   "id": "7481ef64-e825-4d9d-be0c-bdbf281ccea6",
   "metadata": {},
   "source": [
    "## Model comparison"
   ]
  },
  {
   "cell_type": "markdown",
   "id": "d642a5ef-926e-407c-a519-a68a22e412a2",
   "metadata": {},
   "source": [
    "Now, we will combine all results in one data structure which we will plot for choosing the best model within this method of combating class imbalance."
   ]
  },
  {
   "cell_type": "code",
   "execution_count": 40,
   "id": "246c0c3c-2380-4caf-98a5-5905389e20c4",
   "metadata": {},
   "outputs": [
    {
     "data": {
      "image/png": "[encoded data removed]",
      "text/plain": [
       "<Figure size 640x480 with 1 Axes>"
      ]
     },
     "metadata": {},
     "output_type": "display_data"
    }
   ],
   "source": [
    "# Combining the results of grid search by model\n",
    "cv_results_cw = OrderedDict()\n",
    "cv_results_cw[\"Decision Tree\"] = dt_grid_search.best_score_\n",
    "cv_results_cw[\"Random Forest\"] = rf_grid_search.best_score_\n",
    "cv_results_cw[\"Logistic Regression\"] = lr_grid_search.best_score_\n",
    "\n",
    "# Transforming the dict to Series object\n",
    "cv_results_cw = pd.Series(cv_results_cw).sort_values()\n",
    "\n",
    "# Plotting grid search results\n",
    "cv_results_cw.plot(kind=\"barh\", color=\"green\")\n",
    "plt.xlabel(\"CV F1-score\")\n",
    "plt.title(\"Grid search results (class weight)\", fontsize=15)\n",
    "plt.tight_layout()\n",
    "plt.show()"
   ]
  },
  {
   "cell_type": "markdown",
   "id": "828759e8-b0fa-43de-9486-30558345aef9",
   "metadata": {},
   "source": [
    "So, we see that the best model based on *F1* metric is the model of the Random Forest."
   ]
  },
  {
   "cell_type": "code",
   "execution_count": 41,
   "id": "7b1ad9b9-557c-46ad-af95-fab8ad577c3f",
   "metadata": {},
   "outputs": [],
   "source": [
    "# Choosing the best model inside the grid (class weight)\n",
    "best_grid_cw = deepcopy(rf_grid_search)"
   ]
  },
  {
   "cell_type": "markdown",
   "id": "7cd6ddb5-2972-41fa-a69b-72a58c941389",
   "metadata": {},
   "source": [
    "**Conclusion**\n",
    "\n",
    "In this section, an analysis of the balance of classes was carried out and a series of hyperparameters tunings were carried out for three selected classification models. The fact of the presence of an imbalance in the data was revealed, where it is expressed in proportions of 80-20. As a result of training models, the best model according to the *F1* metric is the model of the Random Forest."
   ]
  },
  {
   "cell_type": "markdown",
   "id": "e724db2a-b0ad-46fc-ae80-a18c7b07450b",
   "metadata": {},
   "source": [
    "# Upsampling"
   ]
  },
  {
   "cell_type": "markdown",
   "id": "42367cff-675d-4a78-ae27-3c5e25e7eed9",
   "metadata": {},
   "source": [
    "The next technique we will use is called upsampling, where we increase our sample size with the same data to achieve classes balance. This can be done by making use of `SMOTE` from `over_sampling` module of `imblearn` library for dealing with imbalanced data. In order to be able to use it inside the pipeline we will have to redefine our preprocessors using another specific function which we imported - `make_imb_pipeline` (alias for `make_pipeline` from `imblearn.over_sampling`)."
   ]
  },
  {
   "cell_type": "code",
   "execution_count": 42,
   "id": "8cfb4b44-610c-42ec-af21-112d1f2b6618",
   "metadata": {},
   "outputs": [],
   "source": [
    "# Creating a pipeline for numeric columns\n",
    "num_transformer_imb = make_imb_pipeline(simple_imputer_num, scaler)\n",
    "\n",
    "# Creating a pipeline for categorical columns\n",
    "one_hot_transformer_imb = make_imb_pipeline(simple_imputer_cat, one_hot_encoder)\n",
    "\n",
    "# Creating a pipeline for categorical columns (tree-based models)\n",
    "ordinal_transformer_imb = make_imb_pipeline(simple_imputer_cat, ordinal_encoder)"
   ]
  },
  {
   "cell_type": "markdown",
   "id": "b1d034c0-9dea-4d6d-b3bb-2bb655f56894",
   "metadata": {},
   "source": [
    "Firstly, we again chained different estimators again but now using a special function from `imblearn`."
   ]
  },
  {
   "cell_type": "code",
   "execution_count": 43,
   "id": "13da3225-8862-4aca-a858-750291bc08b6",
   "metadata": {},
   "outputs": [],
   "source": [
    "# Chaining pipelines (all models)\n",
    "preprocessor_all_imb = make_column_transformer(\n",
    "    (num_transformer_imb, num_cols_to_scale),\n",
    "    (one_hot_transformer_imb, cat_cols_to_encode),\n",
    "    remainder=\"passthrough\",\n",
    "    verbose_feature_names_out=False,\n",
    ")\n",
    "\n",
    "# Chaining pipelines (tree-based models)\n",
    "preprocessor_tree_imb = make_column_transformer(\n",
    "    (num_transformer_imb, num_cols_to_scale),\n",
    "    (ordinal_transformer_imb, cat_cols_to_encode),\n",
    "    remainder=\"passthrough\",\n",
    "    verbose_feature_names_out=False,\n",
    ")"
   ]
  },
  {
   "cell_type": "markdown",
   "id": "386c737f-3c56-41d8-91bc-ef0b50f2d131",
   "metadata": {},
   "source": [
    "Secondly, we define new preprocessors that will now make use of `make_imb_pipeline` function."
   ]
  },
  {
   "cell_type": "code",
   "execution_count": 44,
   "id": "f11a96bf-097e-4a44-8de7-f629b7b79c01",
   "metadata": {},
   "outputs": [],
   "source": [
    "# Instantiating SMOTE object\n",
    "oversampler = SMOTE(random_state=RANDOM_STATE)"
   ]
  },
  {
   "cell_type": "markdown",
   "id": "c108e2f4-f34e-4d51-bdd4-3ef44acda7e8",
   "metadata": {},
   "source": [
    "Lastly, we simply define `SMOTE` object that we will add to the created preprocessors."
   ]
  },
  {
   "cell_type": "markdown",
   "id": "e92c330b-d936-4ec8-a836-c79a98b241e1",
   "metadata": {},
   "source": [
    "## Decision Tree"
   ]
  },
  {
   "cell_type": "code",
   "execution_count": 45,
   "id": "1105714f-8873-45b4-90d6-5ef28fea3f3e",
   "metadata": {},
   "outputs": [],
   "source": [
    "# Joining the preprocessor for tree-based models with SMOTE and DTC\n",
    "dt_pipeline_oversample = make_imb_pipeline(preprocessor_tree_imb, oversampler, dt_model)"
   ]
  },
  {
   "cell_type": "code",
   "execution_count": 46,
   "id": "69aae5ef-9329-4e84-9c5d-676bb9e6c3f0",
   "metadata": {},
   "outputs": [
    {
     "name": "stdout",
     "output_type": "stream",
     "text": [
      "F1 score (Decision Tree, upsampling): 0.574\n",
      "\n",
      "CPU times: total: 3.03 s\n",
      "Wall time: 14.4 s\n"
     ]
    }
   ],
   "source": [
    "%%time\n",
    "\n",
    "# Setting a hyperparameter grid\n",
    "dt_params_grid = {\n",
    "    \"decisiontreeclassifier__max_depth\": [1, 2, 3, 4, 5, 6, 7, 8, 9, None],\n",
    "    \"decisiontreeclassifier__criterion\": [\"gini\", \"entropy\", \"log_loss\"],\n",
    "}\n",
    "\n",
    "# Instantiating RSCV object\n",
    "dt_grid_search = RandomizedSearchCV(\n",
    "    estimator=dt_pipeline_oversample,\n",
    "    param_distributions=dt_params_grid,\n",
    "    scoring=SCORER,\n",
    "    cv=CV_FOLDS,\n",
    "    n_iter=N_ITER,\n",
    "    random_state=RANDOM_STATE,\n",
    "    n_jobs=-1,\n",
    ")\n",
    "\n",
    "# Launching randomized grid search algorithm \n",
    "dt_grid_search.fit(features_train, target_train)\n",
    "\n",
    "# Displaying the best CV F1-score\n",
    "print(f\"{SCORER.capitalize()} score (Decision Tree, upsampling): {dt_grid_search.best_score_:.3f}\\n\")"
   ]
  },
  {
   "cell_type": "code",
   "execution_count": 47,
   "id": "57f015c1-33ab-4a94-95d9-494f81efafb7",
   "metadata": {},
   "outputs": [
    {
     "data": {
      "text/plain": [
       "{'decisiontreeclassifier__max_depth': 8,\n",
       " 'decisiontreeclassifier__criterion': 'entropy'}"
      ]
     },
     "execution_count": 47,
     "metadata": {},
     "output_type": "execute_result"
    }
   ],
   "source": [
    "# Displaying hyperparameters of the best model\n",
    "dt_grid_search.best_params_"
   ]
  },
  {
   "cell_type": "markdown",
   "id": "9adfdd42-6c19-4662-afd5-65c0fb6f77b7",
   "metadata": {},
   "source": [
    "## Random Forest"
   ]
  },
  {
   "cell_type": "code",
   "execution_count": 48,
   "id": "5bce5b5b-dafb-4ec5-b25f-1aacb325891b",
   "metadata": {},
   "outputs": [],
   "source": [
    "# Joining the preprocessor for tree-based models with SMOTE and RFC\n",
    "rf_pipeline_oversample = make_imb_pipeline(preprocessor_tree_imb, oversampler, rf_model)"
   ]
  },
  {
   "cell_type": "code",
   "execution_count": 49,
   "id": "8696dc07-4823-4306-9d47-92210a4393ee",
   "metadata": {},
   "outputs": [
    {
     "name": "stdout",
     "output_type": "stream",
     "text": [
      "F1 score (Random Forest, upsampling): 0.599\n",
      "\n",
      "CPU times: total: 5.2 s\n",
      "Wall time: 2min 13s\n"
     ]
    }
   ],
   "source": [
    "%%time\n",
    "\n",
    "# Setting a hyperparameter grid\n",
    "rf_params_grid = {\n",
    "    \"randomforestclassifier__max_depth\": [1, 2, 3, 4, 5, 6, None],\n",
    "    \"randomforestclassifier__n_estimators\": np.arange(10, 210, 10),\n",
    "}\n",
    "\n",
    "# Instantiating RSCV object\n",
    "rf_grid_search = RandomizedSearchCV(\n",
    "    estimator=rf_pipeline_oversample,\n",
    "    param_distributions=rf_params_grid,\n",
    "    scoring=SCORER,\n",
    "    cv=CV_FOLDS,\n",
    "    n_iter=N_ITER,\n",
    "    random_state=RANDOM_STATE,\n",
    "    n_jobs=-1,\n",
    ")\n",
    "\n",
    "# Launching randomized grid search algorithm \n",
    "rf_grid_search.fit(features_train, target_train)\n",
    "\n",
    "# Displaying the best CV F1-score\n",
    "print(f\"{SCORER.capitalize()} score (Random Forest, upsampling): {rf_grid_search.best_score_:.3f}\\n\")"
   ]
  },
  {
   "cell_type": "code",
   "execution_count": 50,
   "id": "b3e3192c-6be1-45cf-babc-40969f508e07",
   "metadata": {},
   "outputs": [
    {
     "data": {
      "text/plain": [
       "{'randomforestclassifier__n_estimators': 50,\n",
       " 'randomforestclassifier__max_depth': 6}"
      ]
     },
     "execution_count": 50,
     "metadata": {},
     "output_type": "execute_result"
    }
   ],
   "source": [
    "# Displaying hyperparameters of the best model\n",
    "rf_grid_search.best_params_"
   ]
  },
  {
   "cell_type": "markdown",
   "id": "c67cd7c0-7d24-42d0-80be-b320000c499c",
   "metadata": {},
   "source": [
    "## Logistic Regression"
   ]
  },
  {
   "cell_type": "code",
   "execution_count": 51,
   "id": "b5724a1f-11e3-4cb1-b763-a57b86509e13",
   "metadata": {},
   "outputs": [],
   "source": [
    "# Joining the preprocessor with SMOTE and LR\n",
    "lr_pipeline_oversample = make_imb_pipeline(preprocessor_all_imb, oversampler, lr_model)"
   ]
  },
  {
   "cell_type": "code",
   "execution_count": 52,
   "id": "5fdac9db-c81a-483f-b9d2-427621227be6",
   "metadata": {},
   "outputs": [
    {
     "name": "stdout",
     "output_type": "stream",
     "text": [
      "F1 score (Logistic Regression, upsampling): 0.505\n",
      "\n",
      "CPU times: total: 3.45 s\n",
      "Wall time: 9.64 s\n"
     ]
    }
   ],
   "source": [
    "%%time\n",
    "\n",
    "# Setting a hyperparameter grid\n",
    "lr_params_grid = {\n",
    "    \"logisticregression__C\": stats.loguniform(0.0001, 1000.0),\n",
    "    \"logisticregression__max_iter\": [100, 1000, 10000, 100000],\n",
    "}\n",
    "\n",
    "# Instantiating RSCV object\n",
    "lr_grid_search = RandomizedSearchCV(\n",
    "    estimator=lr_pipeline_oversample,\n",
    "    param_distributions=lr_params_grid,\n",
    "    scoring=SCORER,\n",
    "    cv=CV_FOLDS,\n",
    "    n_iter=N_ITER,\n",
    "    random_state=RANDOM_STATE,\n",
    "    n_jobs=-1,\n",
    ")\n",
    "\n",
    "# Launching randomized grid search algorithm \n",
    "lr_grid_search.fit(features_train, target_train)\n",
    "\n",
    "# Displaying the best CV F1-score\n",
    "print(f\"{SCORER.capitalize()} score (Logistic Regression, upsampling): {lr_grid_search.best_score_:.3f}\\n\")"
   ]
  },
  {
   "cell_type": "code",
   "execution_count": 53,
   "id": "0a9fed17-c9a8-413a-b448-890076f8ae3e",
   "metadata": {},
   "outputs": [
    {
     "data": {
      "text/plain": [
       "{'logisticregression__C': 0.000822150008909207,\n",
       " 'logisticregression__max_iter': 1000}"
      ]
     },
     "execution_count": 53,
     "metadata": {},
     "output_type": "execute_result"
    }
   ],
   "source": [
    "# Displaying hyperparameters of the best model\n",
    "lr_grid_search.best_params_"
   ]
  },
  {
   "cell_type": "markdown",
   "id": "fe721423-b0c9-4c20-a8ab-7442dda59a53",
   "metadata": {},
   "source": [
    "## Model selection"
   ]
  },
  {
   "cell_type": "code",
   "execution_count": 54,
   "id": "1eee276c-d371-43ad-8dd2-933360316827",
   "metadata": {},
   "outputs": [
    {
     "data": {
      "image/png": "[encoded data removed]",
      "text/plain": [
       "<Figure size 640x480 with 1 Axes>"
      ]
     },
     "metadata": {},
     "output_type": "display_data"
    }
   ],
   "source": [
    "# Combining the results of grid search by model\n",
    "cv_results_upsample = OrderedDict()\n",
    "cv_results_upsample[\"Decision Tree\"] = dt_grid_search.best_score_\n",
    "cv_results_upsample[\"Random Forest\"] = rf_grid_search.best_score_\n",
    "cv_results_upsample[\"Logistic Regression\"] = lr_grid_search.best_score_\n",
    "\n",
    "# Transforming the dict to Series object\n",
    "cv_results_upsample = pd.Series(cv_results_upsample).sort_values()\n",
    "\n",
    "# Plotting grid search results\n",
    "cv_results_upsample.plot(kind=\"barh\", color=\"orange\")\n",
    "plt.xlabel(\"CV F1-score\")\n",
    "plt.title(\"Grid search results (upsampled)\", fontsize=15)\n",
    "plt.tight_layout()\n",
    "plt.show()"
   ]
  },
  {
   "cell_type": "code",
   "execution_count": 55,
   "id": "a025636a-3b26-4c5a-add8-2edd43089544",
   "metadata": {},
   "outputs": [],
   "source": [
    "# Choosing the best model inside the grid (upsampling)\n",
    "best_grid_upsample = deepcopy(rf_grid_search)"
   ]
  },
  {
   "cell_type": "markdown",
   "id": "36afbbcf-4bc3-4d6e-acd3-6c29802df16e",
   "metadata": {},
   "source": [
    "The best model for the case of upsampling is a Random Forest with 50 trees, each with a depth of 6."
   ]
  },
  {
   "cell_type": "markdown",
   "id": "45d90bcc-af3a-4aaf-ac1d-81c2c1cffc30",
   "metadata": {},
   "source": [
    "# Downsampling"
   ]
  },
  {
   "cell_type": "markdown",
   "id": "8ba892ba-4aaf-44a5-921d-0c4f009dd710",
   "metadata": {},
   "source": [
    "The last technique we will consider is downsampling, which is the opposite of upsampling: we decrease sample size to achieve class balance. This can also be done using `imblearn` library, where we will make use of `RandomUnderSampler()` from `under_sampling` module."
   ]
  },
  {
   "cell_type": "code",
   "execution_count": 56,
   "id": "2ace201f-c3b2-45fd-8bd8-99de3fed8fb7",
   "metadata": {},
   "outputs": [],
   "source": [
    "# Instantiating RandomUnderSampler object\n",
    "undersampler = RandomUnderSampler(random_state=RANDOM_STATE)"
   ]
  },
  {
   "cell_type": "markdown",
   "id": "700a4b48-50d9-4cb5-b4e3-6648957c0010",
   "metadata": {},
   "source": [
    "## Decision Tree"
   ]
  },
  {
   "cell_type": "code",
   "execution_count": 57,
   "id": "e6cb9ca7-b7f3-4cb3-bd52-55dbd0418814",
   "metadata": {},
   "outputs": [],
   "source": [
    "# Joining the preprocessor for tree-based models with RandomUnderSampler and DTC\n",
    "dt_pipeline_undersample = make_imb_pipeline(\n",
    "    preprocessor_tree_imb, undersampler, dt_model\n",
    ")"
   ]
  },
  {
   "cell_type": "code",
   "execution_count": 58,
   "id": "544126b8-c31d-40ed-8a48-1f93ec1fd938",
   "metadata": {},
   "outputs": [
    {
     "name": "stdout",
     "output_type": "stream",
     "text": [
      "F1 score (Decision Tree, undersampling): 0.548\n",
      "\n",
      "CPU times: total: 2.45 s\n",
      "Wall time: 5.53 s\n"
     ]
    }
   ],
   "source": [
    "%%time\n",
    "\n",
    "# Setting a hyperparameter grid\n",
    "dt_params_grid = {\n",
    "    \"decisiontreeclassifier__max_depth\": [1, 2, 3, 4, 5, 6, 7, 8, 9, None],\n",
    "    \"decisiontreeclassifier__criterion\": [\"gini\", \"entropy\", \"log_loss\"],\n",
    "}\n",
    "\n",
    "# Instantiating RSCV object\n",
    "dt_grid_search = RandomizedSearchCV(\n",
    "    estimator=dt_pipeline_undersample,\n",
    "    param_distributions=dt_params_grid,\n",
    "    scoring=SCORER,\n",
    "    cv=CV_FOLDS,\n",
    "    n_iter=N_ITER,\n",
    "    random_state=RANDOM_STATE,\n",
    "    n_jobs=-1,\n",
    ")\n",
    "\n",
    "# Launching randomized grid search algorithm \n",
    "dt_grid_search.fit(features_train, target_train)\n",
    "\n",
    "# Displaying the best CV F1-score\n",
    "print(f\"{SCORER.capitalize()} score (Decision Tree, undersampling): {dt_grid_search.best_score_:.3f}\\n\")"
   ]
  },
  {
   "cell_type": "code",
   "execution_count": 59,
   "id": "5f8d0db1-120a-4461-9c3b-3f4ae3b13161",
   "metadata": {},
   "outputs": [
    {
     "data": {
      "text/plain": [
       "{'decisiontreeclassifier__max_depth': 6,\n",
       " 'decisiontreeclassifier__criterion': 'entropy'}"
      ]
     },
     "execution_count": 59,
     "metadata": {},
     "output_type": "execute_result"
    }
   ],
   "source": [
    "# Displaying hyperparameters of the best model\n",
    "dt_grid_search.best_params_"
   ]
  },
  {
   "cell_type": "markdown",
   "id": "872b8f07-5ce1-4b08-a13c-c58a6b8df024",
   "metadata": {},
   "source": [
    "## Random Forest"
   ]
  },
  {
   "cell_type": "code",
   "execution_count": 60,
   "id": "8664816b-5ad3-43f4-b842-cbdeaea35252",
   "metadata": {},
   "outputs": [],
   "source": [
    "# Joining the preprocessor for tree-based models with RandomUnderSampler and RFC\n",
    "rf_pipeline_undersample = make_imb_pipeline(\n",
    "    preprocessor_tree_imb, undersampler, rf_model\n",
    ")"
   ]
  },
  {
   "cell_type": "code",
   "execution_count": 61,
   "id": "2ff2f606-81f6-4e79-945a-118a962e6119",
   "metadata": {},
   "outputs": [
    {
     "name": "stdout",
     "output_type": "stream",
     "text": [
      "F1 score (Random Forest, undersampling): 0.587\n",
      "\n",
      "CPU times: total: 3.91 s\n",
      "Wall time: 44.5 s\n"
     ]
    }
   ],
   "source": [
    "%%time\n",
    "\n",
    "# Setting a hyperparameter grid\n",
    "rf_params_grid = {\n",
    "    \"randomforestclassifier__max_depth\": [1, 2, 3, 4, 5, 6, None],\n",
    "    \"randomforestclassifier__n_estimators\": np.arange(10, 210, 10),\n",
    "}\n",
    "\n",
    "# Instantiating RSCV object\n",
    "rf_grid_search = RandomizedSearchCV(\n",
    "    estimator=rf_pipeline_undersample,\n",
    "    param_distributions=rf_params_grid,\n",
    "    scoring=SCORER,\n",
    "    cv=CV_FOLDS,\n",
    "    n_iter=N_ITER,\n",
    "    random_state=RANDOM_STATE,\n",
    "    n_jobs=-1,\n",
    ")\n",
    "\n",
    "# Launching randomized grid search algorithm \n",
    "rf_grid_search.fit(features_train, target_train)\n",
    "\n",
    "# Displaying the best CV F1-score\n",
    "print(f\"{SCORER.capitalize()} score (Random Forest, undersampling): {rf_grid_search.best_score_:.3f}\\n\")"
   ]
  },
  {
   "cell_type": "code",
   "execution_count": 62,
   "id": "16067a36-6030-4902-80db-b8d58c0eb524",
   "metadata": {},
   "outputs": [
    {
     "data": {
      "text/plain": [
       "{'randomforestclassifier__n_estimators': 90,\n",
       " 'randomforestclassifier__max_depth': 6}"
      ]
     },
     "execution_count": 62,
     "metadata": {},
     "output_type": "execute_result"
    }
   ],
   "source": [
    "# Displaying hyperparameters of the best model\n",
    "rf_grid_search.best_params_"
   ]
  },
  {
   "cell_type": "markdown",
   "id": "ec05b829-2a39-4c16-8dc8-c4cf4680d98e",
   "metadata": {},
   "source": [
    "## Logistic Regression"
   ]
  },
  {
   "cell_type": "code",
   "execution_count": 63,
   "id": "978c630f-7436-44ec-9b92-cef1c5835b47",
   "metadata": {},
   "outputs": [],
   "source": [
    "# Joining the preprocessor with RandomUnderSampler and LR\n",
    "lr_pipeline_undersample = make_imb_pipeline(\n",
    "    preprocessor_all_imb, undersampler, lr_model\n",
    ")"
   ]
  },
  {
   "cell_type": "code",
   "execution_count": 64,
   "id": "c55c84c2-fe83-40d6-8c22-a1d47ec41bd8",
   "metadata": {},
   "outputs": [
    {
     "name": "stdout",
     "output_type": "stream",
     "text": [
      "F1 score (Logistic Regression, upsampling): 0.508\n",
      "\n",
      "CPU times: total: 2.56 s\n",
      "Wall time: 5.26 s\n"
     ]
    }
   ],
   "source": [
    "%%time\n",
    "\n",
    "# Setting a hyperparameter grid\n",
    "lr_params_grid = {\n",
    "    \"logisticregression__C\": stats.loguniform(0.0001, 1000.0),\n",
    "    \"logisticregression__max_iter\": [100, 1000, 10000, 100000],\n",
    "}\n",
    "\n",
    "# Instantiating RSCV object\n",
    "lr_grid_search = RandomizedSearchCV(\n",
    "    estimator=lr_pipeline_undersample,\n",
    "    param_distributions=lr_params_grid,\n",
    "    scoring=SCORER,\n",
    "    cv=CV_FOLDS,\n",
    "    n_iter=N_ITER,\n",
    "    random_state=RANDOM_STATE,\n",
    "    n_jobs=-1,\n",
    ")\n",
    "\n",
    "# Launching randomized grid search algorithm \n",
    "lr_grid_search.fit(features_train, target_train)\n",
    "\n",
    "# Displaying the best CV F1-score\n",
    "print(f\"{SCORER.capitalize()} score (Logistic Regression, upsampling): {lr_grid_search.best_score_:.3f}\\n\")"
   ]
  },
  {
   "cell_type": "code",
   "execution_count": 65,
   "id": "5816d810-feb0-4cdf-8d16-32697fadccc1",
   "metadata": {},
   "outputs": [
    {
     "data": {
      "text/plain": [
       "{'logisticregression__C': 0.002703472460317347,\n",
       " 'logisticregression__max_iter': 1000}"
      ]
     },
     "execution_count": 65,
     "metadata": {},
     "output_type": "execute_result"
    }
   ],
   "source": [
    "# Displaying hyperparameters of the best model\n",
    "lr_grid_search.best_params_"
   ]
  },
  {
   "cell_type": "markdown",
   "id": "36e22a25-c0e3-4ec0-bf55-97a728bf8b0c",
   "metadata": {},
   "source": [
    "## Model selection"
   ]
  },
  {
   "cell_type": "code",
   "execution_count": 66,
   "id": "1218d9c5-0bc1-4e1a-98a3-73d1e0b39b35",
   "metadata": {},
   "outputs": [
    {
     "data": {
      "image/png": "[encoded data removed]",
      "text/plain": [
       "<Figure size 640x480 with 1 Axes>"
      ]
     },
     "metadata": {},
     "output_type": "display_data"
    }
   ],
   "source": [
    "# Combining the results of grid search by model\n",
    "cv_results_downsample = OrderedDict()\n",
    "cv_results_downsample[\"Decision Tree\"] = dt_grid_search.best_score_\n",
    "cv_results_downsample[\"Random Forest\"] = rf_grid_search.best_score_\n",
    "cv_results_downsample[\"Logistic Regression\"] = lr_grid_search.best_score_\n",
    "\n",
    "# Transforming the dict to Series object\n",
    "cv_results_downsample = pd.Series(cv_results_downsample).sort_values()\n",
    "\n",
    "# Plotting grid search results\n",
    "cv_results_downsample.plot(kind=\"barh\", color=\"purple\")\n",
    "plt.xlabel(\"CV F1-score\")\n",
    "plt.title(\"Grid search results (downsampled)\", fontsize=15)\n",
    "plt.tight_layout()\n",
    "plt.show()"
   ]
  },
  {
   "cell_type": "code",
   "execution_count": 67,
   "id": "02c788b3-4f91-4fd9-910e-d7fb5ee2f658",
   "metadata": {},
   "outputs": [],
   "source": [
    "# Choosing the best model inside the grid (upsampling)\n",
    "best_grid_downsample = deepcopy(rf_grid_search)"
   ]
  },
  {
   "cell_type": "markdown",
   "id": "399f48ce-270b-454b-8d17-91da3b72030a",
   "metadata": {},
   "source": [
    "The best model here is again a Random Forest with 90 trees and a depth of 6."
   ]
  },
  {
   "cell_type": "markdown",
   "id": "82b6c7a4-ff06-48ec-8fd5-daa0deaede45",
   "metadata": {},
   "source": [
    "# Final comparison"
   ]
  },
  {
   "cell_type": "markdown",
   "id": "39079e0c-dc55-475d-9b6e-4cd46c679044",
   "metadata": {},
   "source": [
    "Now we are ready to compare the models. Let's create a table that will show which model we will end up testing."
   ]
  },
  {
   "cell_type": "code",
   "execution_count": 68,
   "id": "01cd50bf-2300-4e9b-9bf8-97d13c86bfa2",
   "metadata": {},
   "outputs": [
    {
     "data": {
      "image/png": "[encoded data removed]",
      "text/plain": [
       "<Figure size 640x480 with 1 Axes>"
      ]
     },
     "metadata": {},
     "output_type": "display_data"
    }
   ],
   "source": [
    "# Combining the results of grid search by model\n",
    "cv_results_final = OrderedDict()\n",
    "cv_results_final[\"Class weight\"] = best_grid_cw.best_score_\n",
    "cv_results_final[\"Upsampling\"] = best_grid_upsample.best_score_\n",
    "cv_results_final[\"Downsampling\"] = best_grid_downsample.best_score_\n",
    "\n",
    "# Transforming the dict to Series object\n",
    "cv_results_final = pd.Series(cv_results_final).sort_values()\n",
    "\n",
    "# Plotting grid search results\n",
    "cv_results_final.plot(kind=\"barh\")\n",
    "plt.xlabel(\"CV F1-score\")\n",
    "plt.title(\"Final comparison (Random Forest)\", fontsize=15)\n",
    "plt.tight_layout()\n",
    "plt.show()"
   ]
  },
  {
   "cell_type": "markdown",
   "id": "348885d4-c6be-4a35-a48e-eeff03b5406a",
   "metadata": {},
   "source": [
    "We see that the best model which outperforms others in terms of *F1* metric computed on the validation set proves to be a Random Forest model with 60 trees and a depth of 9 that resulted from applying upsampling method."
   ]
  },
  {
   "cell_type": "code",
   "execution_count": 69,
   "id": "3c8b1db5-3f0c-43b2-9f83-9d33ade40585",
   "metadata": {},
   "outputs": [],
   "source": [
    "# Retrieving the best model (the most optimal one)\n",
    "best_model = best_grid_upsample.best_estimator_"
   ]
  },
  {
   "cell_type": "code",
   "execution_count": 70,
   "id": "70945d44-865d-478d-b6e2-d6f0375a8e95",
   "metadata": {},
   "outputs": [
    {
     "name": "stdout",
     "output_type": "stream",
     "text": [
      "{'randomforestclassifier__n_estimators': 50, 'randomforestclassifier__max_depth': 6}\n"
     ]
    }
   ],
   "source": [
    "# Displaying the best hyperparameter values\n",
    "best_model_params = best_grid_upsample.best_params_\n",
    "print(best_model_params)"
   ]
  },
  {
   "cell_type": "markdown",
   "id": "b04048ad-5c9d-4351-be34-2c8a1b6a97c7",
   "metadata": {},
   "source": [
    "**Conclusion**\n",
    "\n",
    "This short section showcased the model which we will eventually use for testing. The most preferrable method in our case is upsampling method."
   ]
  },
  {
   "cell_type": "markdown",
   "id": "59b12307-ea0c-4e0d-a4d6-3e89fa5ffd2d",
   "metadata": {},
   "source": [
    "# Testing "
   ]
  },
  {
   "cell_type": "markdown",
   "id": "c4aca0c2-7c63-4be5-8e48-7b4e504785c1",
   "metadata": {},
   "source": [
    "Lastly, let's test the model and determine whether it passed all tests we have predefined."
   ]
  },
  {
   "cell_type": "code",
   "execution_count": 71,
   "id": "741c7c63-39f4-4422-9357-91f374969a2b",
   "metadata": {},
   "outputs": [
    {
     "name": "stdout",
     "output_type": "stream",
     "text": [
      "Test F1-Score: 0.618\n",
      "Test AUC-ROC: 0.863\n"
     ]
    }
   ],
   "source": [
    "# Testing the best model\n",
    "predictions_test = best_model.predict(features_test)\n",
    "f1_test = f1_score(y_true=target_test, y_pred=predictions_test)\n",
    "print(f\"Test F1-Score: {f1_test:.3f}\")\n",
    "\n",
    "# Computing AUC-ROC\n",
    "class_probs = best_model.predict_proba(features_test)\n",
    "pos_class_probs = class_probs[:, 1]\n",
    "auc_roc_test = roc_auc_score(y_true=target_test, y_score=pos_class_probs)\n",
    "print(f\"Test AUC-ROC: {auc_roc_test:.3f}\")"
   ]
  },
  {
   "cell_type": "markdown",
   "id": "0e60b3e2-c28f-4b47-9da0-7d73211ca166",
   "metadata": {},
   "source": [
    "Now we will train a dummy model which will always predict a positive class so in this case the model will classify all clients as those who will churn. After training we will compute its *F1-score*."
   ]
  },
  {
   "cell_type": "code",
   "execution_count": 72,
   "id": "73971797-7ef1-4fff-ad1e-d2e880c2a659",
   "metadata": {},
   "outputs": [],
   "source": [
    "# Instantiating a dummy model\n",
    "dummy_model = DummyClassifier(strategy=\"constant\", constant=1)\n",
    "\n",
    "# Training a dummy model\n",
    "dummy_model.fit(features_train, target_train)\n",
    "\n",
    "# Computing dummy predictions\n",
    "dummy_predictions = dummy_model.predict(features_test)\n",
    "\n",
    "# Computing F1-score on test set\n",
    "f1_test_dummy = f1_score(y_true=target_test, y_pred=dummy_predictions)"
   ]
  },
  {
   "cell_type": "markdown",
   "id": "9f61ae80-1223-4db7-b4bb-569b7f281820",
   "metadata": {},
   "source": [
    "We can now run some checks on whether:\n",
    "\n",
    "* The model satisfies the minimal requirements of *F1-score*;\n",
    "* The model is adequate and thus surpasses a dummy model;\n",
    "* The model is better than a random one."
   ]
  },
  {
   "cell_type": "code",
   "execution_count": 73,
   "id": "b5a7c5f4-2442-4836-a1df-dd20ff1bebd6",
   "metadata": {},
   "outputs": [
    {
     "name": "stdout",
     "output_type": "stream",
     "text": [
      "Recall: \n",
      "The model correctly detects that 69.0% of churned clients - churned ones.\n",
      "\n",
      "Precision: \n",
      "The model correctly detects that 56.0% of clients - churned ones.\n"
     ]
    }
   ],
   "source": [
    "# Verifying model performance\n",
    "assert (\n",
    "    f1_test >= F1_SCORE_THRESHOLD\n",
    "), f\"Value of test F1 score is less than {F1_SCORE_THRESHOLD}\"\n",
    "\n",
    "# Sanity check #1\n",
    "assert f1_test > f1_test_dummy, f\"Model is inadequate\"\n",
    "\n",
    "# Sanity check #2\n",
    "assert (\n",
    "    auc_roc_test > AUC_ROC_THRESHOLD\n",
    "), f\"Value of test AUC_ROC score is less than {AUC_ROC_THRESHOLD}\"\n",
    "\n",
    "# Summarizing the results in case the model passed the tests\n",
    "recall_test = recall_score(y_true=target_test, y_pred=predictions_test)\n",
    "precision_test = precision_score(y_true=target_test, y_pred=predictions_test)\n",
    "\n",
    "print(\n",
    "    f\"Recall: \\nThe model correctly detects that {recall_test:.1%} of churned clients - churned ones.\\n\"\n",
    ")\n",
    "print(\n",
    "    f\"Precision: \\nThe model correctly detects that {precision_test:.1%} of clients - churned ones.\"\n",
    ")"
   ]
  },
  {
   "cell_type": "markdown",
   "id": "27a1ce79-78c6-4f56-b59f-60135e153fb1",
   "metadata": {},
   "source": [
    "# Final model analysis"
   ]
  },
  {
   "cell_type": "markdown",
   "id": "6d134d54-10dd-4e6b-aedb-b06c990a1593",
   "metadata": {},
   "source": [
    "## Feature importances"
   ]
  },
  {
   "cell_type": "markdown",
   "id": "2c1c4ad9-3772-4363-b572-b41323445d5d",
   "metadata": {},
   "source": [
    "`RandomForestClassifier` enables us to compute importances scores that each feature seen during training contributes to the final predictions. Using a random forest, we can measure the feature importance as the averaged impurity decrease computed from all decision trees in the forest, without making any assumptions about whether our data is linearly separable or not."
   ]
  },
  {
   "cell_type": "code",
   "execution_count": 74,
   "id": "d57c0506-4bc4-48ec-9ecf-b6a4e5752b50",
   "metadata": {},
   "outputs": [
    {
     "data": {
      "image/png": "[encoded data removed]",
      "text/plain": [
       "<Figure size 640x480 with 1 Axes>"
      ]
     },
     "metadata": {},
     "output_type": "display_data"
    }
   ],
   "source": [
    "# Retrieving feature importance scores with feature names\n",
    "feature_importances = pd.Series(\n",
    "    best_model[\"randomforestclassifier\"].feature_importances_,\n",
    "    index=best_model[\"columntransformer\"].get_feature_names_out(),\n",
    ").sort_values()\n",
    "\n",
    "# Plotting feature importances\n",
    "feature_importances.plot(kind=\"barh\", color=\"orange\")\n",
    "\n",
    "plt.xlabel(\"Score\")\n",
    "plt.ylabel(\"Features\")\n",
    "plt.title(\"Feature importances\", fontsize=15)\n",
    "plt.tight_layout()\n",
    "plt.show()"
   ]
  },
  {
   "cell_type": "markdown",
   "id": "b00d470f-98c7-4e9c-abd8-3fa2a17bddf1",
   "metadata": {},
   "source": [
    "It turns out that `age`, `num_of_products` and `is_active_member` prove to be the most important features that affect the client's decision to churn."
   ]
  },
  {
   "cell_type": "markdown",
   "id": "e79459ba-7426-444f-878e-4e5889a9464b",
   "metadata": {},
   "source": [
    "## Classification metrics"
   ]
  },
  {
   "cell_type": "markdown",
   "id": "a47a7e22-b184-4159-bef9-a2a0805a69f1",
   "metadata": {},
   "source": [
    "More of classification metrics can be computed via `classification_report` function."
   ]
  },
  {
   "cell_type": "code",
   "execution_count": 75,
   "id": "c1452156-6958-4c21-b28b-8a3630e86321",
   "metadata": {},
   "outputs": [
    {
     "name": "stdout",
     "output_type": "stream",
     "text": [
      "              precision    recall  f1-score   support\n",
      "\n",
      "   Unchurned       0.92      0.86      0.89      1809\n",
      "     Churned       0.56      0.69      0.62       464\n",
      "\n",
      "    accuracy                           0.83      2273\n",
      "   macro avg       0.74      0.78      0.75      2273\n",
      "weighted avg       0.84      0.83      0.83      2273\n",
      "\n"
     ]
    }
   ],
   "source": [
    "# Names of classes to be printed in the report\n",
    "target_names = [\"Unchurned\", \"Churned\"]\n",
    "\n",
    "# Printing the classification metrics table\n",
    "print(\n",
    "    classification_report(\n",
    "        y_true=target_test, y_pred=predictions_test, target_names=target_names\n",
    "    )\n",
    ")"
   ]
  },
  {
   "cell_type": "markdown",
   "id": "1b419333-fab4-438a-8c1b-70a2d0998be7",
   "metadata": {},
   "source": [
    "We can see that we get the same values of precision, recall and F1 scores that we obtained in the previous section."
   ]
  },
  {
   "cell_type": "markdown",
   "id": "c0fdf343-c5d5-4ef7-88fb-1568c4bfe724",
   "metadata": {},
   "source": [
    "## ROC Curve/PR Curve"
   ]
  },
  {
   "cell_type": "markdown",
   "id": "75f84a67-a9db-4305-b76e-e029ff2dad07",
   "metadata": {},
   "source": [
    "In this section we will plot two kinds of classification curves:\n",
    "\n",
    "* ROC Curve;\n",
    "* Precision-Recall Curve (PR Curve)."
   ]
  },
  {
   "cell_type": "code",
   "execution_count": 76,
   "id": "11f68ed3-098e-45af-b2ad-5a5474a3f818",
   "metadata": {},
   "outputs": [],
   "source": [
    "# Computing False Positive Rates (FPR) and True Positive Rates (TPR)\n",
    "fpr, tpr, _ = roc_curve(y_true=target_test, y_score=pos_class_probs)\n",
    "\n",
    "# Computing AUC for ROC\n",
    "roc_auc = auc(x=fpr, y=tpr)\n",
    "\n",
    "# Instantiating RCD object\n",
    "roc_curve_display = RocCurveDisplay(\n",
    "    fpr=fpr,\n",
    "    tpr=tpr,\n",
    "    pos_label=best_model.classes_[1],\n",
    "    roc_auc=roc_auc,\n",
    "    estimator_name=\"Random Forest\",\n",
    ")"
   ]
  },
  {
   "cell_type": "code",
   "execution_count": 77,
   "id": "93c0e33f-6229-4114-9584-8dfe1b034bbc",
   "metadata": {},
   "outputs": [],
   "source": [
    "# Computing precision and recall scores\n",
    "precision, recall, _ = precision_recall_curve(\n",
    "    y_true=target_test, probas_pred=pos_class_probs\n",
    ")\n",
    "\n",
    "# Computing average precision score\n",
    "average_precision = average_precision_score(y_true=target_test, y_score=pos_class_probs)\n",
    "\n",
    "# Computing positive label prevalence\n",
    "prevalence_pos_label = Counter(target_test.ravel())[1] / target_test.size\n",
    "\n",
    "# Computing average\n",
    "pr_curve_display = PrecisionRecallDisplay(\n",
    "    precision=precision,\n",
    "    recall=recall,\n",
    "    pos_label=best_model.classes_[1],\n",
    "    average_precision=average_precision,\n",
    "    prevalence_pos_label=prevalence_pos_label,\n",
    "    estimator_name=\"Random Forest\",\n",
    ")"
   ]
  },
  {
   "cell_type": "code",
   "execution_count": 78,
   "id": "d6e966d2-3509-4a1e-8e83-0d295d432f8c",
   "metadata": {},
   "outputs": [
    {
     "data": {
      "image/png": "[encoded data removed]",
      "text/plain": [
       "<Figure size 1300x500 with 2 Axes>"
      ]
     },
     "metadata": {},
     "output_type": "display_data"
    }
   ],
   "source": [
    "# Plotting AUC-ROC and PR Curves as subplots\n",
    "fig, (ax1, ax2) = plt.subplots(1, 2, figsize=(13, 5))\n",
    "\n",
    "roc_curve_display.plot(ax=ax1, plot_chance_level=True)\n",
    "pr_curve_display.plot(ax=ax2, plot_chance_level=True)\n",
    "\n",
    "ax1.set_title(\"ROC Curve\")\n",
    "ax2.set_title(\"Precision-Recall Curve\")\n",
    "plt.suptitle(\"Final model performance\")\n",
    "plt.show()"
   ]
  },
  {
   "cell_type": "markdown",
   "id": "a2923ec4-279a-4f7d-894f-a8d69fb069b8",
   "metadata": {},
   "source": [
    "## Confusion matrix"
   ]
  },
  {
   "cell_type": "code",
   "execution_count": 79,
   "id": "f74d9b3f-cb0d-408c-8807-62a93a8c6934",
   "metadata": {},
   "outputs": [
    {
     "data": {
      "image/png": "[encoded data removed]",
      "text/plain": [
       "<Figure size 640x480 with 2 Axes>"
      ]
     },
     "metadata": {},
     "output_type": "display_data"
    }
   ],
   "source": [
    "# Plotting confusion matrix\n",
    "sns.reset_defaults()\n",
    "\n",
    "# Computing a confusion matrix\n",
    "cm = confusion_matrix(\n",
    "    y_true=target_test, y_pred=predictions_test, labels=best_model.classes_\n",
    ")\n",
    "\n",
    "# Instantiating CMD object\n",
    "cm_display = ConfusionMatrixDisplay(\n",
    "    confusion_matrix=cm,\n",
    "    display_labels=target_names,\n",
    ")\n",
    "\n",
    "# Plotting a confusion matrix\n",
    "cm_display.plot(cmap=\"Blues\")\n",
    "\n",
    "plt.xlabel(\"Predicted client status\")\n",
    "plt.ylabel(\"True client status\")\n",
    "plt.title(f\"Confusion matrix\", fontsize=15)\n",
    "plt.tight_layout()\n",
    "plt.show()"
   ]
  },
  {
   "cell_type": "code",
   "execution_count": 80,
   "id": "934982d2-c03c-4344-aadc-88ad9262a3f4",
   "metadata": {},
   "outputs": [
    {
     "data": {
      "text/plain": [
       "['churn_pred_model.joblib']"
      ]
     },
     "execution_count": 80,
     "metadata": {},
     "output_type": "execute_result"
    }
   ],
   "source": [
    "# Saving the final model in a file\n",
    "dump(best_model, \"churn_pred_model.joblib\")"
   ]
  },
  {
   "cell_type": "markdown",
   "id": "def9b759-eede-43e5-a684-2bd954398400",
   "metadata": {},
   "source": [
    "# Predicting new data"
   ]
  },
  {
   "cell_type": "markdown",
   "id": "d519c8d1-4dd9-46bd-8315-0c42a646082c",
   "metadata": {},
   "source": [
    "We can now use the trained model for predicting some new unseen data. Firstly, load the saved model."
   ]
  },
  {
   "cell_type": "code",
   "execution_count": 81,
   "id": "f213b5e6-8fbd-4a26-90ac-d4f21bf8031d",
   "metadata": {},
   "outputs": [],
   "source": [
    "# Loading the trained model\n",
    "model = load(\"churn_pred_model.joblib\")"
   ]
  },
  {
   "cell_type": "markdown",
   "id": "1d4fde47-705b-4a12-ae55-a971bd0baaf4",
   "metadata": {},
   "source": [
    "Now, let's come up with some potential bank clients with the following features."
   ]
  },
  {
   "cell_type": "code",
   "execution_count": 82,
   "id": "eaa9c65f-b413-4557-a038-f0a68686b61b",
   "metadata": {},
   "outputs": [
    {
     "data": {
      "text/html": [
       "<div>\n",
       "<style scoped>\n",
       "    .dataframe tbody tr th:only-of-type {\n",
       "        vertical-align: middle;\n",
       "    }\n",
       "\n",
       "    .dataframe tbody tr th {\n",
       "        vertical-align: top;\n",
       "    }\n",
       "\n",
       "    .dataframe thead th {\n",
       "        text-align: right;\n",
       "    }\n",
       "</style>\n",
       "<table border=\"1\" class=\"dataframe\">\n",
       "  <thead>\n",
       "    <tr style=\"text-align: right;\">\n",
       "      <th></th>\n",
       "      <th>credit_score</th>\n",
       "      <th>geography</th>\n",
       "      <th>gender</th>\n",
       "      <th>age</th>\n",
       "      <th>tenure</th>\n",
       "      <th>balance</th>\n",
       "      <th>num_of_products</th>\n",
       "      <th>has_cr_card</th>\n",
       "      <th>is_active_member</th>\n",
       "      <th>estimated_salary</th>\n",
       "    </tr>\n",
       "  </thead>\n",
       "  <tbody>\n",
       "    <tr>\n",
       "      <th>0</th>\n",
       "      <td>800</td>\n",
       "      <td>Germany</td>\n",
       "      <td>Male</td>\n",
       "      <td>28</td>\n",
       "      <td>2</td>\n",
       "      <td>54036</td>\n",
       "      <td>2</td>\n",
       "      <td>1</td>\n",
       "      <td>0</td>\n",
       "      <td>20000</td>\n",
       "    </tr>\n",
       "  </tbody>\n",
       "</table>\n",
       "</div>"
      ],
      "text/plain": [
       "   credit_score geography gender  age  tenure  balance  num_of_products  \\\n",
       "0           800   Germany   Male   28       2    54036                2   \n",
       "\n",
       "   has_cr_card  is_active_member  estimated_salary  \n",
       "0            1                 0             20000  "
      ]
     },
     "metadata": {},
     "output_type": "display_data"
    }
   ],
   "source": [
    "# Defining new data for classification\n",
    "new_data = pd.DataFrame(\n",
    "    data={\n",
    "        \"credit_score\": 800,\n",
    "        \"geography\": \"Germany\",\n",
    "        \"gender\": \"Male\",\n",
    "        \"age\": 28,\n",
    "        \"tenure\": 2,\n",
    "        \"balance\": 54036,\n",
    "        \"num_of_products\": 2,\n",
    "        \"has_cr_card\": 1,\n",
    "        \"is_active_member\": 0,\n",
    "        \"estimated_salary\": 20000,\n",
    "    },\n",
    "    index=[0],\n",
    ")\n",
    "\n",
    "display(new_data)"
   ]
  },
  {
   "cell_type": "markdown",
   "id": "1dd90a9a-bcdc-4c7f-a2ee-9c2a90746793",
   "metadata": {},
   "source": [
    "We can use the model to generate a prediction about this client."
   ]
  },
  {
   "cell_type": "code",
   "execution_count": 83,
   "id": "55c9bee1-2e21-4fcf-bb0f-50b838c40b70",
   "metadata": {},
   "outputs": [
    {
     "name": "stdout",
     "output_type": "stream",
     "text": [
      "Client is predicted to not to churn.\n",
      "Probability: 82.3%\n"
     ]
    }
   ],
   "source": [
    "# Predicting class and its probability\n",
    "new_data_prediction = model.predict(new_data)[0]\n",
    "new_data_prediction_prob = model.predict_proba(new_data)\n",
    "\n",
    "# Displaying prediction\n",
    "if new_data_prediction == 0:\n",
    "    print(\"Client is predicted to not to churn.\")\n",
    "else:\n",
    "    print(\"Client is predicted to churn.\")\n",
    "\n",
    "print(f\"Probability: {new_data_prediction_prob[0][new_data_prediction]:.1%}\")"
   ]
  },
  {
   "cell_type": "markdown",
   "id": "a3582f01-64e0-4530-af77-15816e72a124",
   "metadata": {},
   "source": [
    "# General conclusion"
   ]
  },
  {
   "cell_type": "markdown",
   "id": "6c3971e4-7a88-4bab-97d8-ecc26e015908",
   "metadata": {},
   "source": [
    "In this study, the data of \"Beta Bank\" customers were analyzed and an optimal model for predicting the clients churn from the bank was selected, which takes into account the features of the data, the most striking of which is the revealed fact of the presence of an imbalance of classes. The data has been thoroughly analyzed, preprocessed and prepared for their use in machine learning algorithms. \n",
    "\n",
    "The main part of the study consisted in carrying out several series of hyperparameter selections for the case of ignoring the imbalance and three cases of dealing with class imbalance, which include weighing classes, upsampling and downsampling. According to the results of the study, the final model, which was chosen at the final stage, is a Random Forest with 50 trees, where each of them has a depth of 6. It is worth mentioning that it was the method of upsampling that allowed us to obtain such results. In the test set, the model showed values of the metric *F1* at about 0.62, which is higher than the set threshold of 0.59. The model differs from the random one, which is manifested in a rather high value of the metric *AUC-ROC*."
   ]
  }
 ],
 "metadata": {
  "kernelspec": {
   "display_name": "Python 3 (ipykernel)",
   "language": "python",
   "name": "python3"
  },
  "language_info": {
   "codemirror_mode": {
    "name": "ipython",
    "version": 3
   },
   "file_extension": ".py",
   "mimetype": "text/x-python",
   "name": "python",
   "nbconvert_exporter": "python",
   "pygments_lexer": "ipython3",
   "version": "3.9.13"
  }
 },
 "nbformat": 4,
 "nbformat_minor": 5
}
