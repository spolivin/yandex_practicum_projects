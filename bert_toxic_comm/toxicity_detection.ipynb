{
 "cells": [
  {
   "cell_type": "markdown",
   "id": "edc3f0b9-ab8e-48cb-9f55-5ccadb596681",
   "metadata": {},
   "source": [
    "# Importing libraries"
   ]
  },
  {
   "cell_type": "code",
   "execution_count": 1,
   "id": "ff2eb328-7518-4b97-9112-4e8d668a7dd8",
   "metadata": {},
   "outputs": [],
   "source": [
    "from pprint import PrettyPrinter\n",
    "\n",
    "import matplotlib.pyplot as plt\n",
    "import numpy as np\n",
    "import pandas as pd\n",
    "import seaborn as sns\n",
    "import torch\n",
    "import transformers\n",
    "from catboost import CatBoostClassifier\n",
    "from imblearn.over_sampling import SMOTE\n",
    "from imblearn.pipeline import make_pipeline as make_imb_pipeline\n",
    "from lightgbm import LGBMClassifier\n",
    "from sklearn.base import BaseEstimator\n",
    "from sklearn.dummy import DummyClassifier\n",
    "from sklearn.ensemble import RandomForestClassifier\n",
    "from sklearn.metrics import (\n",
    "    ConfusionMatrixDisplay,\n",
    "    PrecisionRecallDisplay,\n",
    "    RocCurveDisplay,\n",
    "    classification_report,\n",
    "    f1_score,\n",
    "    roc_auc_score,\n",
    ")\n",
    "from sklearn.model_selection import KFold, RandomizedSearchCV, train_test_split\n",
    "from sklearn.neighbors import KNeighborsClassifier\n",
    "from sklearn.tree import DecisionTreeClassifier\n",
    "from tqdm import notebook\n",
    "from transformers import logging\n",
    "from xgboost import XGBClassifier\n",
    "\n",
    "RANDOM_STATE = 12345\n",
    "N_ITER = 5\n",
    "CV_FOLDS = 2\n",
    "DATA_SIZE = 1000\n",
    "MAX_LENGTH = 512\n",
    "F1_SCORE_THRESHOLD = 0.75\n",
    "ROC_AUC_THRESHOLD = 0.5\n",
    "TRAIN_SET_SIZE = 0.75\n",
    "ENABLE_PARALLELIZATION = False\n",
    "SCORER = \"f1\"\n",
    "BATCH_SIZE = 10"
   ]
  },
  {
   "cell_type": "code",
   "execution_count": 2,
   "id": "8016466a-8519-46fc-8827-304f51a946ef",
   "metadata": {},
   "outputs": [],
   "source": [
    "# Using all processors\n",
    "N_JOBS = -1 if ENABLE_PARALLELIZATION else None\n",
    "\n",
    "# Visual theme for plots\n",
    "sns.set_theme()\n",
    "\n",
    "# Ignoring warnings when defining a pretrained transformers model\n",
    "logging.set_verbosity_error()\n",
    "\n",
    "# Defining a cross-validator\n",
    "KF = KFold(n_splits=CV_FOLDS, random_state=RANDOM_STATE, shuffle=True)\n",
    "\n",
    "# Setting printing behavior\n",
    "pp = PrettyPrinter(depth=4)"
   ]
  },
  {
   "cell_type": "code",
   "execution_count": 3,
   "id": "d151b1a5-177c-495b-a8a0-bb3f8e336868",
   "metadata": {},
   "outputs": [
    {
     "name": "stdout",
     "output_type": "stream",
     "text": [
      "Using device: cpu\n"
     ]
    }
   ],
   "source": [
    "# Determining the device used\n",
    "device = torch.device(\"cuda:0\" if torch.cuda.is_available() else \"cpu\")\n",
    "print(\"Using device: {}\".format(device))\n",
    "\n",
    "# Printing details of GPU device (if present)\n",
    "if device.type == \"cuda\":\n",
    "    gpu_device_name = torch.cuda.get_device_name(0)\n",
    "    gpu_memory_alloc_GB = torch.cuda.memory_allocated(0) / 1024**3\n",
    "    gpu_memory_cached_GB = torch.cuda.memory_reserved(0) / 1024**3\n",
    "\n",
    "    print(f\"Device name: {gpu_device_name}\")\n",
    "    print(f\"Memory allocated: {np.round(gpu_memory_alloc_GB, 1)} GB\")\n",
    "    print(f\"Memory cached: {np.round(gpu_memory_cached_GB, 1)} GB\")"
   ]
  },
  {
   "cell_type": "markdown",
   "id": "b1e13590-d3df-4991-a14f-637015196ace",
   "metadata": {},
   "source": [
    "**Summary**\n",
    "\n",
    "In this small section, we have collected all the libraries and utilities that we will use during the process of completing the project. In particular, we defined a number of constants to achieve code flexibility, imported a number of libraries for gradient boosting and machine learning as well as transformers, and also added the opportunity to execute the code on *GPU*."
   ]
  },
  {
   "cell_type": "markdown",
   "id": "6b745de7-aad8-43e7-ad53-43fd05f96ae6",
   "metadata": {},
   "source": [
    "# Uploading data"
   ]
  },
  {
   "cell_type": "code",
   "execution_count": 4,
   "id": "94dae5e3-12da-4057-8fce-0bce40fdbbbc",
   "metadata": {},
   "outputs": [
    {
     "data": {
      "text/html": [
       "<div>\n",
       "<style scoped>\n",
       "    .dataframe tbody tr th:only-of-type {\n",
       "        vertical-align: middle;\n",
       "    }\n",
       "\n",
       "    .dataframe tbody tr th {\n",
       "        vertical-align: top;\n",
       "    }\n",
       "\n",
       "    .dataframe thead th {\n",
       "        text-align: right;\n",
       "    }\n",
       "</style>\n",
       "<table border=\"1\" class=\"dataframe\">\n",
       "  <thead>\n",
       "    <tr style=\"text-align: right;\">\n",
       "      <th></th>\n",
       "      <th>text</th>\n",
       "      <th>toxic</th>\n",
       "    </tr>\n",
       "  </thead>\n",
       "  <tbody>\n",
       "    <tr>\n",
       "      <th>109486</th>\n",
       "      <td>Expert Categorizers  \\n\\nWhy is there no menti...</td>\n",
       "      <td>0</td>\n",
       "    </tr>\n",
       "    <tr>\n",
       "      <th>104980</th>\n",
       "      <td>\"\\n\\n Noise \\n\\nfart*  talk. \"</td>\n",
       "      <td>1</td>\n",
       "    </tr>\n",
       "    <tr>\n",
       "      <th>82166</th>\n",
       "      <td>An indefinite block is appropriate, even for a...</td>\n",
       "      <td>0</td>\n",
       "    </tr>\n",
       "    <tr>\n",
       "      <th>18721</th>\n",
       "      <td>I don't understand why we have a screenshot of...</td>\n",
       "      <td>0</td>\n",
       "    </tr>\n",
       "    <tr>\n",
       "      <th>128178</th>\n",
       "      <td>Hello! Some of the people, places or things yo...</td>\n",
       "      <td>0</td>\n",
       "    </tr>\n",
       "  </tbody>\n",
       "</table>\n",
       "</div>"
      ],
      "text/plain": [
       "                                                     text  toxic\n",
       "109486  Expert Categorizers  \\n\\nWhy is there no menti...      0\n",
       "104980                     \"\\n\\n Noise \\n\\nfart*  talk. \"      1\n",
       "82166   An indefinite block is appropriate, even for a...      0\n",
       "18721   I don't understand why we have a screenshot of...      0\n",
       "128178  Hello! Some of the people, places or things yo...      0"
      ]
     },
     "execution_count": 4,
     "metadata": {},
     "output_type": "execute_result"
    }
   ],
   "source": [
    "# Loading data to a DataFrame\n",
    "toxic_comments_df = pd.read_csv(\n",
    "    \"datasets/toxic_comments.csv\", usecols=[\"text\", \"toxic\"], header=0\n",
    ")\n",
    "\n",
    "# Displaying random 5 rows\n",
    "toxic_comments_df.sample(5, random_state=RANDOM_STATE)"
   ]
  },
  {
   "cell_type": "markdown",
   "id": "ef56576d-fe1d-4a18-b3d9-7d1960f83765",
   "metadata": {},
   "source": [
    "We can see that the data we have uploaded contains the following information."
   ]
  },
  {
   "cell_type": "markdown",
   "id": "fef69c3c-4e0c-4283-913f-452ea2d55a49",
   "metadata": {},
   "source": [
    "<table>\n",
    "<thead>\n",
    "<tr><th>Column</th><th>Description</th></tr>\n",
    "</thead>\n",
    "<tbody>\n",
    "    <tr><td><code>text</code></td><td><i>Text of a commentary</i></td></tr>\n",
    "<tr><td><code>toxic</code></td><td><i>Indicator of the toxicity of a commentary</i></td></tr>\n",
    "</tbody>\n",
    "</table>"
   ]
  },
  {
   "cell_type": "markdown",
   "id": "87bbdffc-edc6-4dce-8b97-16dbb6b14829",
   "metadata": {},
   "source": [
    "We observe that the data consists of some comments, which are assigned toxicity values of zero (positive comment) or one (negative comment). Let's display more detailed information about the data."
   ]
  },
  {
   "cell_type": "code",
   "execution_count": 5,
   "id": "8d77a7db-4f9d-40d9-a86f-8e9a9e5fcc28",
   "metadata": {},
   "outputs": [
    {
     "name": "stdout",
     "output_type": "stream",
     "text": [
      "<class 'pandas.core.frame.DataFrame'>\n",
      "RangeIndex: 159292 entries, 0 to 159291\n",
      "Data columns (total 2 columns):\n",
      " #   Column  Non-Null Count   Dtype \n",
      "---  ------  --------------   ----- \n",
      " 0   text    159292 non-null  object\n",
      " 1   toxic   159292 non-null  int64 \n",
      "dtypes: int64(1), object(1)\n",
      "memory usage: 2.4+ MB\n"
     ]
    }
   ],
   "source": [
    "toxic_comments_df.info()"
   ]
  },
  {
   "cell_type": "markdown",
   "id": "4385d36f-3ee8-4a34-9528-9718ffd6117e",
   "metadata": {},
   "source": [
    "**Summary**\n",
    "\n",
    "At this stage, we were able to study the data that was provided to us, as a result of which we found out that the objects in the dataset represent texts of commentaries along with a binary indicator of its toxicity. Furthermore, there are no missing values in the data."
   ]
  },
  {
   "cell_type": "markdown",
   "id": "63700bfd-f7e7-46f9-bbe7-c7b31a5a11a9",
   "metadata": {},
   "source": [
    "# Data preparation"
   ]
  },
  {
   "cell_type": "markdown",
   "id": "7e33f112-5a1e-4082-ac03-c1fb827f7ed7",
   "metadata": {},
   "source": [
    "## Class balance and sampling"
   ]
  },
  {
   "cell_type": "markdown",
   "id": "865b103f-ec5e-4a04-b0d4-1bf1e8b9c88f",
   "metadata": {},
   "source": [
    "Since the task we are going to solve here is classification, let's first look at the balance of classes."
   ]
  },
  {
   "cell_type": "code",
   "execution_count": 6,
   "id": "97471338-bd4c-4880-86f5-7df25d3fedb3",
   "metadata": {},
   "outputs": [
    {
     "data": {
      "image/png": "[encoded data removed]",
      "text/plain": [
       "<Figure size 640x480 with 1 Axes>"
      ]
     },
     "metadata": {},
     "output_type": "display_data"
    },
    {
     "data": {
      "text/plain": [
       "Positive    0.898\n",
       "Toxic       0.102\n",
       "Name: toxic, dtype: float64"
      ]
     },
     "metadata": {},
     "output_type": "display_data"
    }
   ],
   "source": [
    "# Plotting the structure of the target\n",
    "toxic_comments_df[\"toxic\"].value_counts(normalize=True).plot(\n",
    "    kind=\"bar\",\n",
    "    xlabel=\"Commentary status\",\n",
    "    ylabel=\"Share\",\n",
    ")\n",
    "plt.xticks(ticks=[0, 1], labels=[\"Positive\", \"Toxic\"], rotation=0)\n",
    "plt.title(\"Structure of commentary texts (non-toxic vs toxic)\", fontsize=15)\n",
    "plt.tight_layout()\n",
    "plt.show()\n",
    "\n",
    "# Displaying the shares of classes\n",
    "toxicity_struct_num = toxic_comments_df[\"toxic\"].value_counts(normalize=True)\n",
    "toxicity_struct_num.index = [\"Positive\", \"Toxic\"]\n",
    "display(toxicity_struct_num.round(3))"
   ]
  },
  {
   "cell_type": "markdown",
   "id": "1c437328-251a-430b-99de-f4ce52e9fd51",
   "metadata": {},
   "source": [
    "We notice quite a strong class imbalance that may lead to poor learning performance. We will deal with this problem later. For now, the next step is to tokenize data and then use the tokenized data to create embeddings. However, it will be extremely time-consuming and computationally expensive to preprocess all 159,292 commentaries. Hence, let's choose a subset of them. "
   ]
  },
  {
   "cell_type": "code",
   "execution_count": 7,
   "id": "7d7c7747-7243-4763-ac0d-8ae4f1137018",
   "metadata": {},
   "outputs": [
    {
     "data": {
      "text/html": [
       "<div>\n",
       "<style scoped>\n",
       "    .dataframe tbody tr th:only-of-type {\n",
       "        vertical-align: middle;\n",
       "    }\n",
       "\n",
       "    .dataframe tbody tr th {\n",
       "        vertical-align: top;\n",
       "    }\n",
       "\n",
       "    .dataframe thead th {\n",
       "        text-align: right;\n",
       "    }\n",
       "</style>\n",
       "<table border=\"1\" class=\"dataframe\">\n",
       "  <thead>\n",
       "    <tr style=\"text-align: right;\">\n",
       "      <th></th>\n",
       "      <th>comment_num</th>\n",
       "      <th>comment_share</th>\n",
       "    </tr>\n",
       "  </thead>\n",
       "  <tbody>\n",
       "    <tr>\n",
       "      <th>0</th>\n",
       "      <td>890</td>\n",
       "      <td>0.89</td>\n",
       "    </tr>\n",
       "    <tr>\n",
       "      <th>1</th>\n",
       "      <td>110</td>\n",
       "      <td>0.11</td>\n",
       "    </tr>\n",
       "  </tbody>\n",
       "</table>\n",
       "</div>"
      ],
      "text/plain": [
       "   comment_num  comment_share\n",
       "0          890           0.89\n",
       "1          110           0.11"
      ]
     },
     "metadata": {},
     "output_type": "display_data"
    }
   ],
   "source": [
    "# Choosing a number of random objects\n",
    "toxic_df = toxic_comments_df.sample(DATA_SIZE, random_state=RANDOM_STATE).reset_index(\n",
    "    drop=True\n",
    ")\n",
    "\n",
    "# Displaying information about the subset of data chosen\n",
    "toxic_num = toxic_df[\"toxic\"].value_counts()\n",
    "toxic_num.name = \"comment_num\"\n",
    "\n",
    "toxic_share = toxic_df[\"toxic\"].value_counts(normalize=True)\n",
    "toxic_share.name = \"comment_share\"\n",
    "\n",
    "toxic_balance = pd.concat([toxic_num, toxic_share], axis=1)\n",
    "display(toxic_balance)"
   ]
  },
  {
   "cell_type": "markdown",
   "id": "0a1b74d8-b289-4237-80cf-cc779962b575",
   "metadata": {},
   "source": [
    "We chose 1000 randomly sampled observations and see that the balance of classes stayed approximately the same."
   ]
  },
  {
   "cell_type": "markdown",
   "id": "8dbdc199-e11b-48be-a3a8-8570f8f6556c",
   "metadata": {},
   "source": [
    "## Encoding"
   ]
  },
  {
   "cell_type": "markdown",
   "id": "40827f8c-8ae8-4475-870c-f24269b324e0",
   "metadata": {},
   "source": [
    "### Tokenization"
   ]
  },
  {
   "cell_type": "code",
   "execution_count": 8,
   "id": "1cc6458c-a0c2-4376-b2f2-9418a3b13964",
   "metadata": {},
   "outputs": [
    {
     "name": "stdout",
     "output_type": "stream",
     "text": [
      "CPU times: total: 6.94 s\n",
      "Wall time: 11.8 s\n"
     ]
    }
   ],
   "source": [
    "%%time\n",
    "\n",
    "# Defining a tokenizer\n",
    "tokenizer = transformers.AutoTokenizer.from_pretrained(\"unitary/toxic-bert\")\n",
    "\n",
    "# Tokenizing data\n",
    "data_tokenized = toxic_df[\"text\"].apply(\n",
    "    lambda x: tokenizer.encode(\n",
    "        x,\n",
    "        add_special_tokens=True,\n",
    "        max_length=MAX_LENGTH,\n",
    "        truncation=True,\n",
    "        padding=\"max_length\",\n",
    "    )\n",
    ")\n",
    "\n",
    "# Type conversion\n",
    "data_padded = np.array([i for i in data_tokenized.values])\n",
    "\n",
    "# Creating attention mask\n",
    "attention_mask = np.where(data_padded != 0, 1, 0)"
   ]
  },
  {
   "cell_type": "code",
   "execution_count": 9,
   "id": "ae091ffd-6ce4-4ac7-b947-47788c25be9a",
   "metadata": {},
   "outputs": [
    {
     "name": "stdout",
     "output_type": "stream",
     "text": [
      "Tokenized (padded) data dimensions: (1000, 512)\n",
      "Attention mask dimensions: (1000, 512)\n"
     ]
    }
   ],
   "source": [
    "print(f\"Tokenized (padded) data dimensions: {data_padded.shape}\")\n",
    "print(f\"Attention mask dimensions: {attention_mask.shape}\")"
   ]
  },
  {
   "cell_type": "markdown",
   "id": "46b560b9-6791-4115-b146-c207b840dd86",
   "metadata": {},
   "source": [
    "We see that we got the desired dimensions of the matrices for tokenized data and attention mask. "
   ]
  },
  {
   "cell_type": "markdown",
   "id": "9cac9a26-9f35-4426-85ec-de70a1f75a44",
   "metadata": {},
   "source": [
    "### Features extraction (embeddings)"
   ]
  },
  {
   "cell_type": "markdown",
   "id": "88a6d903-6bbb-44b3-9e3d-bcf6574cc3b2",
   "metadata": {},
   "source": [
    "The next logical step is to recover the features from the tokenized data (embeddings). Firstly, let's load the model from `unitary/toxic-bert` and add `to(device)` in order to allow for using *GPU*."
   ]
  },
  {
   "cell_type": "markdown",
   "id": "1ca8a362-aa77-488f-8afa-12433f6326a1",
   "metadata": {},
   "source": [
    "**Warning:** *Loading the model in the following cell may take approximately <u>8 minutes</u> on CPU.*"
   ]
  },
  {
   "cell_type": "code",
   "execution_count": 10,
   "id": "6981c05b-4c08-468f-a0e8-bdec4932ba39",
   "metadata": {},
   "outputs": [
    {
     "name": "stdout",
     "output_type": "stream",
     "text": [
      "CPU times: total: 2.11 s\n",
      "Wall time: 2.64 s\n"
     ]
    }
   ],
   "source": [
    "%%time\n",
    "\n",
    "# Loading the model (\"toxic-bert\")\n",
    "model = transformers.AutoModel.from_pretrained(\"unitary/toxic-bert\").to(device)"
   ]
  },
  {
   "cell_type": "markdown",
   "id": "68835790-7ff4-429b-a36d-ef3d69c282f0",
   "metadata": {},
   "source": [
    "Next, we launch the process of creating embeddings in batches which can also be executed on *GPU*."
   ]
  },
  {
   "cell_type": "markdown",
   "id": "a1558a03-31da-4bff-bb63-75ff661199e3",
   "metadata": {},
   "source": [
    "**Warning:** *The embedding creation process in the following cell may take approximately <u>40 minutes</u> to run on CPU.*"
   ]
  },
  {
   "cell_type": "code",
   "execution_count": 11,
   "id": "da2b0163-36db-40b4-97db-353bed669dd5",
   "metadata": {},
   "outputs": [
    {
     "data": {
      "application/vnd.jupyter.widget-view+json": {
       "model_id": "4c286daf4af4411787915735bf515237",
       "version_major": 2,
       "version_minor": 0
      },
      "text/plain": [
       "  0%|          | 0/100 [00:00<?, ?it/s]"
      ]
     },
     "metadata": {},
     "output_type": "display_data"
    },
    {
     "name": "stdout",
     "output_type": "stream",
     "text": [
      "CPU times: total: 2h 50min 55s\n",
      "Wall time: 43min 18s\n"
     ]
    }
   ],
   "source": [
    "%%time\n",
    "\n",
    "# Setting batch size\n",
    "batch_size = BATCH_SIZE\n",
    "\n",
    "# Preallocating an empty list to store embeddings\n",
    "embeddings = []\n",
    "\n",
    "# Launching features extraction algorithm (retrieving embeddings)\n",
    "for i in notebook.tqdm(range(data_padded.shape[0] // batch_size)):\n",
    "    \n",
    "    # Transforming batch data into Tensor\n",
    "    batch = torch.LongTensor(data_padded[batch_size * i : batch_size * (i + 1)]).to(device)\n",
    "    \n",
    "    # Transforming attention mask into Tensor\n",
    "    attention_mask_batch = torch.LongTensor(\n",
    "        attention_mask[batch_size * i : batch_size * (i + 1)]\n",
    "    ).to(device)\n",
    "    \n",
    "    # Retrieving embeddings (without training BERT)\n",
    "    with torch.no_grad():\n",
    "        \n",
    "        # Passing batch data and mask to the model\n",
    "        batch_embeddings = model(batch, attention_mask=attention_mask_batch)\n",
    "    \n",
    "    # Retrieving the appropriate elements and adding to other embeddings\n",
    "    embeddings.append(batch_embeddings[0][:, 0, :].cpu().numpy())"
   ]
  },
  {
   "cell_type": "code",
   "execution_count": 12,
   "id": "f1a130bd-4c9e-4f20-b686-8500d5b8631f",
   "metadata": {},
   "outputs": [
    {
     "name": "stdout",
     "output_type": "stream",
     "text": [
      "Batch size: 10\n",
      "Number of batches: 100\n",
      "Emdeddings dimensions per batch: (10, 768)\n",
      "Number of objects in data: 1000\n"
     ]
    }
   ],
   "source": [
    "print(f\"Batch size: {batch_size}\")\n",
    "print(f\"Number of batches: {len(embeddings)}\")\n",
    "print(f\"Emdeddings dimensions per batch: {embeddings[0].shape}\")\n",
    "print(f\"Number of objects in data: {data_padded.shape[0]}\")"
   ]
  },
  {
   "cell_type": "markdown",
   "id": "abcb1aea-bc13-40d1-8f2d-a2e7a0fd4271",
   "metadata": {},
   "source": [
    "### Data split"
   ]
  },
  {
   "cell_type": "markdown",
   "id": "ccbf16de-435b-43ea-9957-5097b3b14983",
   "metadata": {},
   "source": [
    "Now we can just concatenate all embeddings into one features matrix."
   ]
  },
  {
   "cell_type": "code",
   "execution_count": 13,
   "id": "17b5c0bc-6952-4420-a7b0-7ce864e640bf",
   "metadata": {},
   "outputs": [
    {
     "name": "stdout",
     "output_type": "stream",
     "text": [
      "Features matrix dimensions: (1000, 768)\n",
      "Target vector length: (1000,)\n"
     ]
    }
   ],
   "source": [
    "# Joining the embeddings together into a feature matrix\n",
    "features = np.concatenate(embeddings)\n",
    "\n",
    "# Defining target\n",
    "target = toxic_df[\"toxic\"]\n",
    "\n",
    "print(f\"Features matrix dimensions: {features.shape}\")\n",
    "print(f\"Target vector length: {target.shape}\")"
   ]
  },
  {
   "cell_type": "markdown",
   "id": "173adcc5-0a71-4c09-90c5-8fb74b54f8e0",
   "metadata": {},
   "source": [
    "We then split the data into training and test set, at the same time preserving the proportions of classes in `target` by using `stratify=target`."
   ]
  },
  {
   "cell_type": "code",
   "execution_count": 14,
   "id": "decfca98-aa98-454a-b8ce-b2274f2700a6",
   "metadata": {},
   "outputs": [
    {
     "data": {
      "text/plain": [
       "0    0.89\n",
       "1    0.11\n",
       "Name: toxic, dtype: float64"
      ]
     },
     "execution_count": 14,
     "metadata": {},
     "output_type": "execute_result"
    }
   ],
   "source": [
    "target.value_counts(normalize=True)"
   ]
  },
  {
   "cell_type": "code",
   "execution_count": 15,
   "id": "c20010fc-6d4a-447e-ad31-891bb1d1c4fb",
   "metadata": {},
   "outputs": [
    {
     "name": "stdout",
     "output_type": "stream",
     "text": [
      "Features matrix dimensions (train): (750, 768)\n",
      "Target vector length (train): (750,)\n",
      "\n",
      "Features matrix dimensions (test): (250, 768)\n",
      "Target vector length (test): (250,)\n"
     ]
    }
   ],
   "source": [
    "# Splitting the data into training and test sets\n",
    "features_train, features_test, target_train, target_test = train_test_split(\n",
    "    features, target, train_size=TRAIN_SET_SIZE, random_state=RANDOM_STATE, stratify=target\n",
    ")\n",
    "\n",
    "print(f\"Features matrix dimensions (train): {features_train.shape}\")\n",
    "print(f\"Target vector length (train): {target_train.shape}\\n\")\n",
    "print(f\"Features matrix dimensions (test): {features_test.shape}\")\n",
    "print(f\"Target vector length (test): {target_test.shape}\")"
   ]
  },
  {
   "cell_type": "code",
   "execution_count": 16,
   "id": "a6136092-0a50-4e76-9d57-69393218457e",
   "metadata": {},
   "outputs": [
    {
     "data": {
      "text/plain": [
       "0    0.89\n",
       "1    0.11\n",
       "Name: toxic, dtype: float64"
      ]
     },
     "execution_count": 16,
     "metadata": {},
     "output_type": "execute_result"
    }
   ],
   "source": [
    "target.value_counts(normalize=True)"
   ]
  },
  {
   "cell_type": "code",
   "execution_count": 17,
   "id": "aa593687-2769-46e3-9b02-27ff0bfae7c4",
   "metadata": {},
   "outputs": [
    {
     "data": {
      "text/plain": [
       "0    0.889333\n",
       "1    0.110667\n",
       "Name: toxic, dtype: float64"
      ]
     },
     "execution_count": 17,
     "metadata": {},
     "output_type": "execute_result"
    }
   ],
   "source": [
    "target_train.value_counts(normalize=True)"
   ]
  },
  {
   "cell_type": "code",
   "execution_count": 18,
   "id": "7bab79fb-7366-4ba1-a83d-8134f8e99ef2",
   "metadata": {},
   "outputs": [
    {
     "data": {
      "text/plain": [
       "0    0.892\n",
       "1    0.108\n",
       "Name: toxic, dtype: float64"
      ]
     },
     "execution_count": 18,
     "metadata": {},
     "output_type": "execute_result"
    }
   ],
   "source": [
    "target_test.value_counts(normalize=True)"
   ]
  },
  {
   "cell_type": "markdown",
   "id": "830fa4a8-a4b0-461e-9312-1b3338f9a785",
   "metadata": {},
   "source": [
    "Later, in addition to usual models, we will use `AutoModelForSequenceClassification` for which it suffices to just provide the original text of a commentary. Hence, we should also split the data here, preserving only the test set."
   ]
  },
  {
   "cell_type": "code",
   "execution_count": 19,
   "id": "d7db1720-a869-49ba-abcb-932d09fe8fc0",
   "metadata": {},
   "outputs": [],
   "source": [
    "features_text = toxic_df[\"text\"]\n",
    "_, test_text, _, _ = train_test_split(\n",
    "    features_text,\n",
    "    target,\n",
    "    train_size=TRAIN_SET_SIZE,\n",
    "    random_state=RANDOM_STATE,\n",
    "    stratify=target,\n",
    ")"
   ]
  },
  {
   "cell_type": "markdown",
   "id": "5faeeb93-de1b-4153-9fc4-b32d5f8d2b64",
   "metadata": {},
   "source": [
    "**Summary**\n",
    "\n",
    "This stage was aimed at encoding the dataset with commentaries in order to enable models to make predictions. The data has been tokenized which was later used for features extraction using embeddings. Lastly, we split the data."
   ]
  },
  {
   "cell_type": "markdown",
   "id": "8bb99b1c-a1fd-4876-ab6b-a4ad3c71118b",
   "metadata": {},
   "source": [
    "# Hyperparameter tuning"
   ]
  },
  {
   "cell_type": "markdown",
   "id": "701fdd58-15ee-4fa1-b962-fae713b1d29f",
   "metadata": {},
   "source": [
    "## Preparation for tuning"
   ]
  },
  {
   "cell_type": "markdown",
   "id": "95078a37-adc2-4468-89be-d1ea01e345f6",
   "metadata": {},
   "source": [
    "Now, we can start preparing for hyperparameter tuning. Here, we will write a function called `prepare_tuning()` where we can pass the model as well as some keyword parameters signifying what hyperparameters and what values we would like to consider in the grid search."
   ]
  },
  {
   "cell_type": "code",
   "execution_count": 20,
   "id": "46c27dc5-cf7f-42fb-a273-ca0f7da32873",
   "metadata": {},
   "outputs": [],
   "source": [
    "def prepare_tuning(model, **tuning_params):\n",
    "    \"\"\"Makes preparations for grid search.\n",
    "\n",
    "    Creates an Imbalanced-Learn Pipeline using\n",
    "    SMOTE and model as steps. Additionally, creates\n",
    "    a parameter grid as a dict with keys names prefixed\n",
    "    by the alias of the last estimator in the Pipeline created.\n",
    "\n",
    "    Parameters\n",
    "    ----------\n",
    "    model : BaseEstimator\n",
    "        Class implementing estimators from Scikit-Learn or\n",
    "        Gradient Boosting libraries. Intended to be the last\n",
    "        estimator in the pipeline.\n",
    "    **tuning_params\n",
    "        Keyword arguments used to create a grid of hyperparameters.\n",
    "\n",
    "    Returns\n",
    "    -------\n",
    "    BaseEstimator, dict\n",
    "        Pipeline object and hyperparameter grid mapping hyperparameter\n",
    "        names to the values to consider in grid search.\n",
    "    \"\"\"\n",
    "    # Creating Imblearn's Pipeline\n",
    "    upsampler = SMOTE(random_state=RANDOM_STATE)\n",
    "    pipeline = make_imb_pipeline(upsampler, model)\n",
    "\n",
    "    # Retrieving the last estimator name from pipeline\n",
    "    pipeline_steps = pipeline.named_steps\n",
    "    pipeline_steps_names = list(pipeline_steps.keys())\n",
    "    last_estimator_name = pipeline_steps_names[-1]\n",
    "\n",
    "    # Creating a parameter grid with alias-prefixed keys\n",
    "    grid = {\n",
    "        last_estimator_name + \"__\" + param: tuning_params[param]\n",
    "        for param in tuning_params\n",
    "    }\n",
    "\n",
    "    return pipeline, grid"
   ]
  },
  {
   "cell_type": "markdown",
   "id": "6ac39493-f701-4b67-8cb1-4861e0f68322",
   "metadata": {},
   "source": [
    "## Grid search"
   ]
  },
  {
   "cell_type": "markdown",
   "id": "abcbcb33-75d0-4a67-aeed-9dbc7c8a08eb",
   "metadata": {},
   "source": [
    "We will consider 3 machine learning models and 3 gradient boosting models. In addition, we will experiment with the transformer for direct text classification. Hence, the following models will be considered:\n",
    "\n",
    "1. `DecisionTreeClassifier`\n",
    "2. `RandomForestClassifier`\n",
    "3. `KNeighborsClassifier`\n",
    "4. `CatBoostClassifier`\n",
    "5. `XGBClassifier`\n",
    "6. `LGBMClassifier`\n",
    "7. `AutoModelForSequenceClassification`"
   ]
  },
  {
   "cell_type": "markdown",
   "id": "9973dd9e-cfb4-4f9d-8e66-39281b13a766",
   "metadata": {},
   "source": [
    "### `DecisionTree`"
   ]
  },
  {
   "cell_type": "code",
   "execution_count": 21,
   "id": "92bf99d0-bab6-4feb-978e-3da77f619450",
   "metadata": {},
   "outputs": [
    {
     "name": "stdout",
     "output_type": "stream",
     "text": [
      "{'decisiontreeclassifier__criterion': ['gini', 'entropy', 'log_loss'],\n",
      " 'decisiontreeclassifier__max_depth': array([1, 2, 3, 4, 5, 6, 7, 8, 9])}\n"
     ]
    }
   ],
   "source": [
    "# Defining Decision tree\n",
    "dt_model = DecisionTreeClassifier(random_state=RANDOM_STATE)\n",
    "\n",
    "# Creating the pipeline and hyperparameter grid\n",
    "dt_pipeline, dt_grid = prepare_tuning(\n",
    "    model=dt_model,\n",
    "    max_depth=np.arange(1, 10),\n",
    "    criterion=[\"gini\", \"entropy\", \"log_loss\"],\n",
    ")\n",
    "pp.pprint(dt_grid)"
   ]
  },
  {
   "cell_type": "code",
   "execution_count": 22,
   "id": "954d3120-5f71-479e-b0f6-b5d801cb0524",
   "metadata": {},
   "outputs": [
    {
     "name": "stdout",
     "output_type": "stream",
     "text": [
      "F1-score (Decision tree) = 0.89\n",
      "CPU times: total: 7.83 s\n",
      "Wall time: 7.56 s\n"
     ]
    }
   ],
   "source": [
    "%%time\n",
    "\n",
    "# Instantiating RSCV object\n",
    "dt_grid_search = RandomizedSearchCV(\n",
    "    estimator=dt_pipeline,\n",
    "    param_distributions=dt_grid,\n",
    "    random_state=RANDOM_STATE,\n",
    "    cv=KF,\n",
    "    n_iter=N_ITER,\n",
    "    scoring=SCORER,\n",
    "    n_jobs=N_JOBS,\n",
    ")\n",
    "\n",
    "# Launching grid search\n",
    "dt_grid_search.fit(features_train, target_train)\n",
    "\n",
    "# Displaying the best score\n",
    "print(\"F1-score (Decision tree) = {:.2f}\".format(dt_grid_search.best_score_))"
   ]
  },
  {
   "cell_type": "code",
   "execution_count": 23,
   "id": "22dfb378-3153-4797-bb08-bf9e84d20339",
   "metadata": {},
   "outputs": [
    {
     "data": {
      "text/plain": [
       "{'decisiontreeclassifier__max_depth': 9,\n",
       " 'decisiontreeclassifier__criterion': 'gini'}"
      ]
     },
     "metadata": {},
     "output_type": "display_data"
    }
   ],
   "source": [
    "# Displaying the best hyperparameters\n",
    "display(dt_grid_search.best_params_)"
   ]
  },
  {
   "cell_type": "markdown",
   "id": "2219a605-da38-4870-9866-6f4e49874c3e",
   "metadata": {},
   "source": [
    "### `RandomForest`"
   ]
  },
  {
   "cell_type": "code",
   "execution_count": 24,
   "id": "eb1de447-0b7d-4ed0-a3dc-5bb602d4a51b",
   "metadata": {},
   "outputs": [
    {
     "name": "stdout",
     "output_type": "stream",
     "text": [
      "{'randomforestclassifier__max_depth': array([1, 2, 3, 4]),\n",
      " 'randomforestclassifier__n_estimators': array([10, 20, 30, 40, 50, 60, 70, 80, 90])}\n"
     ]
    }
   ],
   "source": [
    "# Defining Random forest\n",
    "rf_model = RandomForestClassifier(random_state=RANDOM_STATE)\n",
    "\n",
    "# Creating the pipeline and grid\n",
    "rf_pipeline, rf_grid = prepare_tuning(\n",
    "    model=rf_model, max_depth=np.arange(1, 5), n_estimators=np.arange(10, 100, 10)\n",
    ")\n",
    "pp.pprint(rf_grid)"
   ]
  },
  {
   "cell_type": "code",
   "execution_count": 25,
   "id": "dbe43a44-855c-4fef-bea8-021f1768a021",
   "metadata": {},
   "outputs": [
    {
     "name": "stdout",
     "output_type": "stream",
     "text": [
      "F1-score (Random forest) = 0.9424\n",
      "CPU times: total: 11 s\n",
      "Wall time: 10.9 s\n"
     ]
    }
   ],
   "source": [
    "%%time\n",
    "\n",
    "# Instantiating RSCV object\n",
    "rf_grid_search = RandomizedSearchCV(\n",
    "    estimator=rf_pipeline,\n",
    "    param_distributions=rf_grid,\n",
    "    random_state=RANDOM_STATE,\n",
    "    cv=KF,\n",
    "    n_iter=N_ITER,\n",
    "    scoring=SCORER,\n",
    "    n_jobs=N_JOBS,\n",
    ")\n",
    "\n",
    "# Launching grid search\n",
    "rf_grid_search.fit(features_train, target_train)\n",
    "\n",
    "# Displaying the best score\n",
    "print(\"F1-score (Random forest) = {:.4f}\".format(rf_grid_search.best_score_))"
   ]
  },
  {
   "cell_type": "code",
   "execution_count": 26,
   "id": "bc0bbae3-8182-4d93-8dcd-fa208983c0a2",
   "metadata": {},
   "outputs": [
    {
     "data": {
      "text/plain": [
       "{'randomforestclassifier__n_estimators': 80,\n",
       " 'randomforestclassifier__max_depth': 3}"
      ]
     },
     "metadata": {},
     "output_type": "display_data"
    }
   ],
   "source": [
    "# Displaying the best hyperparameters\n",
    "display(rf_grid_search.best_params_)"
   ]
  },
  {
   "cell_type": "markdown",
   "id": "9c5741ed-527f-49f0-981b-9867a51e6ad9",
   "metadata": {},
   "source": [
    "### `KNN`"
   ]
  },
  {
   "cell_type": "code",
   "execution_count": 27,
   "id": "1d53ff80-43a1-4685-ade3-38b4934fa03f",
   "metadata": {},
   "outputs": [
    {
     "name": "stdout",
     "output_type": "stream",
     "text": [
      "{'kneighborsclassifier__n_neighbors': array([2, 3, 4, 5, 6, 7, 8]),\n",
      " 'kneighborsclassifier__weights': ['uniform', 'distance']}\n"
     ]
    }
   ],
   "source": [
    "# Defining KNN\n",
    "knn_model = KNeighborsClassifier()\n",
    "\n",
    "# Creating the pipeline and grid\n",
    "knn_pipeline, knn_grid = prepare_tuning(\n",
    "    model=knn_model, n_neighbors=np.arange(2, 9), weights=[\"uniform\", \"distance\"]\n",
    ")\n",
    "pp.pprint(knn_grid)"
   ]
  },
  {
   "cell_type": "code",
   "execution_count": 28,
   "id": "43516023-3b56-4095-9c12-c169c3ce302c",
   "metadata": {},
   "outputs": [
    {
     "name": "stdout",
     "output_type": "stream",
     "text": [
      "F1-score (KNN) = 0.9177\n",
      "CPU times: total: 1.72 s\n",
      "Wall time: 697 ms\n"
     ]
    }
   ],
   "source": [
    "%%time\n",
    "\n",
    "# Instantiating RSCV object\n",
    "knn_grid_search = RandomizedSearchCV(\n",
    "    estimator=knn_pipeline,\n",
    "    param_distributions=knn_grid,\n",
    "    random_state=RANDOM_STATE,\n",
    "    cv=KF,\n",
    "    n_iter=N_ITER,\n",
    "    scoring=SCORER,\n",
    "    n_jobs=N_JOBS,\n",
    ")\n",
    "\n",
    "# Launching grid search\n",
    "knn_grid_search.fit(features_train, target_train)\n",
    "\n",
    "# Displaying the best score\n",
    "print(\"F1-score (KNN) = {:.4f}\".format(knn_grid_search.best_score_))"
   ]
  },
  {
   "cell_type": "code",
   "execution_count": 29,
   "id": "962c6df9-6144-4d1b-b90a-b3112f64d1a9",
   "metadata": {},
   "outputs": [
    {
     "data": {
      "text/plain": [
       "{'kneighborsclassifier__weights': 'uniform',\n",
       " 'kneighborsclassifier__n_neighbors': 2}"
      ]
     },
     "metadata": {},
     "output_type": "display_data"
    }
   ],
   "source": [
    "# Displaying the best hyperparameters\n",
    "display(knn_grid_search.best_params_)"
   ]
  },
  {
   "cell_type": "markdown",
   "id": "408b58d4-7423-480e-8f0a-452d5290eb45",
   "metadata": {},
   "source": [
    "### `CatBoost`"
   ]
  },
  {
   "cell_type": "code",
   "execution_count": 30,
   "id": "691d3cac-e122-462f-8984-9956ff36811f",
   "metadata": {},
   "outputs": [
    {
     "name": "stdout",
     "output_type": "stream",
     "text": [
      "{'catboostclassifier__learning_rate': array([0.1, 0.2, 0.3, 0.4, 0.5, 0.6, 0.7, 0.8, 0.9]),\n",
      " 'catboostclassifier__max_depth': array([1, 2, 3, 4]),\n",
      " 'catboostclassifier__n_estimators': array([10, 20, 30, 40, 50, 60, 70, 80, 90])}\n"
     ]
    }
   ],
   "source": [
    "# Defining Catboost\n",
    "cb_model = CatBoostClassifier(verbose=0)\n",
    "\n",
    "# Creating the pipeline and grid\n",
    "cb_pipeline, cb_grid = prepare_tuning(\n",
    "    model=cb_model,\n",
    "    max_depth=np.arange(1, 5),\n",
    "    n_estimators=np.arange(10, 100, 10),\n",
    "    learning_rate=np.arange(0.1, 1.0, 0.1),\n",
    ")\n",
    "pp.pprint(cb_grid)"
   ]
  },
  {
   "cell_type": "code",
   "execution_count": 31,
   "id": "8e63fd10-a591-4716-a00c-2724daf59314",
   "metadata": {},
   "outputs": [
    {
     "name": "stdout",
     "output_type": "stream",
     "text": [
      "F1-score (Catboost) = 0.9284\n",
      "CPU times: total: 1min 20s\n",
      "Wall time: 13.6 s\n"
     ]
    }
   ],
   "source": [
    "%%time\n",
    "\n",
    "# Instantiating RSCV object\n",
    "cb_grid_search = RandomizedSearchCV(\n",
    "    estimator=cb_pipeline,\n",
    "    param_distributions=cb_grid,\n",
    "    random_state=RANDOM_STATE,\n",
    "    cv=KF,\n",
    "    n_iter=N_ITER,\n",
    "    scoring=SCORER,\n",
    "    n_jobs=N_JOBS,\n",
    ")\n",
    "\n",
    "# Launching grid search\n",
    "cb_grid_search.fit(features_train, target_train)\n",
    "\n",
    "# Displaying the best score\n",
    "print(\"F1-score (Catboost) = {:.4f}\".format(cb_grid_search.best_score_))"
   ]
  },
  {
   "cell_type": "code",
   "execution_count": 32,
   "id": "6903e737-0f1d-408c-9ec7-d57a42c8e720",
   "metadata": {},
   "outputs": [
    {
     "data": {
      "text/plain": [
       "{'catboostclassifier__n_estimators': 40,\n",
       " 'catboostclassifier__max_depth': 1,\n",
       " 'catboostclassifier__learning_rate': 0.6}"
      ]
     },
     "metadata": {},
     "output_type": "display_data"
    }
   ],
   "source": [
    "# Displaying the best hyperparameters\n",
    "display(cb_grid_search.best_params_)"
   ]
  },
  {
   "cell_type": "markdown",
   "id": "9bdfec7a-9f83-4d01-b6d5-8d86432394eb",
   "metadata": {},
   "source": [
    "### `XGBoost`"
   ]
  },
  {
   "cell_type": "code",
   "execution_count": 33,
   "id": "bbd439e4-8dd4-49df-93a0-661badc4bc88",
   "metadata": {},
   "outputs": [
    {
     "name": "stdout",
     "output_type": "stream",
     "text": [
      "{'xgbclassifier__learning_rate': array([0.1, 0.2, 0.3, 0.4, 0.5, 0.6, 0.7, 0.8, 0.9]),\n",
      " 'xgbclassifier__max_depth': array([1, 2, 3, 4]),\n",
      " 'xgbclassifier__n_estimators': array([10, 20, 30, 40, 50, 60, 70, 80, 90])}\n"
     ]
    }
   ],
   "source": [
    "# Defining XGBoost\n",
    "xgb_model = XGBClassifier()\n",
    "\n",
    "# Creating the pipeline and grid\n",
    "xgb_pipeline, xgb_grid = prepare_tuning(\n",
    "    model=xgb_model,\n",
    "    max_depth=np.arange(1, 5),\n",
    "    n_estimators=np.arange(10, 100, 10),\n",
    "    learning_rate=np.arange(0.1, 1.0, 0.1),\n",
    ")\n",
    "pp.pprint(xgb_grid)"
   ]
  },
  {
   "cell_type": "code",
   "execution_count": 34,
   "id": "1ad2cdd6-616f-456e-bd3d-490f889d2fab",
   "metadata": {},
   "outputs": [
    {
     "name": "stdout",
     "output_type": "stream",
     "text": [
      "F1-score (XGBoost) = 0.9259\n",
      "CPU times: total: 33 s\n",
      "Wall time: 4.63 s\n"
     ]
    }
   ],
   "source": [
    "%%time\n",
    "\n",
    "# Instantiating RSCV object\n",
    "xgb_grid_search = RandomizedSearchCV(\n",
    "    estimator=xgb_pipeline,\n",
    "    param_distributions=xgb_grid,\n",
    "    random_state=RANDOM_STATE,\n",
    "    cv=KF,\n",
    "    n_iter=N_ITER,\n",
    "    scoring=SCORER,\n",
    "    n_jobs=N_JOBS,\n",
    ")\n",
    "\n",
    "# Launching grid search\n",
    "xgb_grid_search.fit(features_train, target_train)\n",
    "\n",
    "# Displaying the best score\n",
    "print(\"F1-score (XGBoost) = {:.4f}\".format(xgb_grid_search.best_score_))"
   ]
  },
  {
   "cell_type": "code",
   "execution_count": 35,
   "id": "ade5571e-38b5-46ca-9db9-80cd600b1482",
   "metadata": {},
   "outputs": [
    {
     "data": {
      "text/plain": [
       "{'xgbclassifier__n_estimators': 40,\n",
       " 'xgbclassifier__max_depth': 3,\n",
       " 'xgbclassifier__learning_rate': 0.5}"
      ]
     },
     "metadata": {},
     "output_type": "display_data"
    }
   ],
   "source": [
    "# Displaying the best hyperparameters\n",
    "display(xgb_grid_search.best_params_)"
   ]
  },
  {
   "cell_type": "markdown",
   "id": "26121b17-556a-40ba-8fdb-2036c3554cc6",
   "metadata": {},
   "source": [
    "### `LightGBM`"
   ]
  },
  {
   "cell_type": "code",
   "execution_count": 36,
   "id": "794593e5-9587-434d-862e-2126cc3d1dd7",
   "metadata": {},
   "outputs": [
    {
     "name": "stdout",
     "output_type": "stream",
     "text": [
      "{'lgbmclassifier__learning_rate': array([0.1, 0.2, 0.3, 0.4, 0.5, 0.6, 0.7, 0.8, 0.9]),\n",
      " 'lgbmclassifier__max_depth': array([1, 2, 3, 4, 5]),\n",
      " 'lgbmclassifier__n_estimators': array([10, 20, 30, 40, 50, 60, 70, 80, 90])}\n"
     ]
    }
   ],
   "source": [
    "# Defining LightGBM\n",
    "lgbm_model = LGBMClassifier()\n",
    "\n",
    "# Creating the pipeline and grid\n",
    "lgbm_pipeline, lgbm_grid = prepare_tuning(\n",
    "    model=lgbm_model,\n",
    "    max_depth=np.arange(1, 6),\n",
    "    n_estimators=np.arange(10, 100, 10),\n",
    "    learning_rate=np.arange(0.1, 1.0, 0.1),\n",
    ")\n",
    "pp.pprint(lgbm_grid)"
   ]
  },
  {
   "cell_type": "code",
   "execution_count": 37,
   "id": "99749473-755c-4cb5-91ca-0ac3ea549450",
   "metadata": {},
   "outputs": [
    {
     "name": "stdout",
     "output_type": "stream",
     "text": [
      "F1-score (LightGBM) = 0.8970\n",
      "CPU times: total: 30.7 s\n",
      "Wall time: 4.4 s\n"
     ]
    }
   ],
   "source": [
    "%%time\n",
    "\n",
    "# Instantiating RSCV object\n",
    "lgbm_grid_search = RandomizedSearchCV(\n",
    "    estimator=lgbm_pipeline,\n",
    "    param_distributions=lgbm_grid,\n",
    "    random_state=RANDOM_STATE,\n",
    "    cv=KF,\n",
    "    n_iter=N_ITER,\n",
    "    scoring=SCORER,\n",
    "    n_jobs=N_JOBS,\n",
    ")\n",
    "\n",
    "# Launching grid search\n",
    "lgbm_grid_search.fit(features_train, target_train)\n",
    "\n",
    "# Displaying the best score\n",
    "print(\"F1-score (LightGBM) = {:.4f}\".format(lgbm_grid_search.best_score_))"
   ]
  },
  {
   "cell_type": "code",
   "execution_count": 38,
   "id": "54a18794-a376-46e1-9b5f-b01405acfd8b",
   "metadata": {},
   "outputs": [
    {
     "data": {
      "text/plain": [
       "{'xgbclassifier__n_estimators': 40,\n",
       " 'xgbclassifier__max_depth': 3,\n",
       " 'xgbclassifier__learning_rate': 0.5}"
      ]
     },
     "metadata": {},
     "output_type": "display_data"
    }
   ],
   "source": [
    "# Displaying the best hyperparameters\n",
    "display(xgb_grid_search.best_params_)"
   ]
  },
  {
   "cell_type": "markdown",
   "id": "f431c8e3-0fb9-4809-89b8-a3bb4d75dbc2",
   "metadata": {},
   "source": [
    "### `SequenceClassification`"
   ]
  },
  {
   "cell_type": "code",
   "execution_count": 39,
   "id": "900b25f5-6239-43a0-b875-40affd3d2c4d",
   "metadata": {},
   "outputs": [
    {
     "data": {
      "application/vnd.jupyter.widget-view+json": {
       "model_id": "1e5b55d40e3a441aa7f554a05f4f9619",
       "version_major": 2,
       "version_minor": 0
      },
      "text/plain": [
       "  0%|          | 0/250 [00:00<?, ?it/s]"
      ]
     },
     "metadata": {},
     "output_type": "display_data"
    },
    {
     "name": "stdout",
     "output_type": "stream",
     "text": [
      "F1-score (Sequence classification) = 0.8571\n",
      "CPU times: total: 1min 45s\n",
      "Wall time: 30.9 s\n"
     ]
    }
   ],
   "source": [
    "%%time\n",
    "\n",
    "# Defining the model name to load\n",
    "model_path = \"martin-ha/toxic-comment-model\"\n",
    "\n",
    "# Instantiating a tokenizer object\n",
    "tokenizer = transformers.AutoTokenizer.from_pretrained(model_path)\n",
    "\n",
    "# Defining the model for sequence classification\n",
    "model = transformers.AutoModelForSequenceClassification.from_pretrained(model_path)\n",
    "\n",
    "# Instantiating pipeline for text classification\n",
    "text_pipeline = transformers.TextClassificationPipeline(\n",
    "    model=model, tokenizer=tokenizer\n",
    ")\n",
    "\n",
    "# Lauching sequence classification algorithm\n",
    "predictions_text = []\n",
    "for text in notebook.tqdm(test_text):\n",
    "    prediction_text = text_pipeline(text[:MAX_LENGTH])\n",
    "    predictions_text.append(1 if prediction_text[0][\"label\"] == \"toxic\" else 0)\n",
    "\n",
    "# Computing test F1-score\n",
    "text_classification_f1_score = f1_score(y_true=target_test, y_pred=predictions_text)\n",
    "\n",
    "print(\"F1-score (Sequence classification) = {:.4f}\".format(text_classification_f1_score))"
   ]
  },
  {
   "cell_type": "markdown",
   "id": "02a2d35e-ca61-4e27-bb96-203ffb1a895e",
   "metadata": {},
   "source": [
    "**Summary**\n",
    "\n",
    "In this section, we have trained a number of different models with different hyperparameters."
   ]
  },
  {
   "cell_type": "markdown",
   "id": "b8a8cb40-7e46-4bc2-b6d4-d0c16aaad266",
   "metadata": {},
   "source": [
    "# Models analysis"
   ]
  },
  {
   "cell_type": "code",
   "execution_count": 40,
   "id": "cd94846b-06b7-4bd3-ad8e-e66952aa80c6",
   "metadata": {},
   "outputs": [],
   "source": [
    "def plot_model_comparison(\n",
    "    results,\n",
    "    metric_name=\"metric_name\",\n",
    "    title_name=\"title_name\",\n",
    "    dot_size=150,\n",
    "    figure_dims=(15, 7),\n",
    "    xticks_fontsize=15,\n",
    "    yticks_fontsize=12,\n",
    "    title_fontsize=20,\n",
    "    ylabel_fontsize=15,\n",
    "):\n",
    "    \"\"\"Provides models performance visualization.\n",
    "\n",
    "    Generates a scatterplot with model names and their\n",
    "    respective metric values for comparison.\n",
    "\n",
    "    Parameters\n",
    "    ----------\n",
    "    results : list of tuples\n",
    "        Sequence of tuples with model names and metric values.\n",
    "    metric_name : str, default=\"metric_name\"\n",
    "        Name of the metric.\n",
    "    title_name : str, default=\"title_name\"\n",
    "        Title of the plot.\n",
    "    dot_size : int, default=150\n",
    "        Size of scatterplot dots.\n",
    "    figure_dims : tuple of integers, default=(15, 7)\n",
    "        Dimensions of the figure.\n",
    "    xticks_fontsize : int, default=15\n",
    "        Size of xticks on the plot.\n",
    "    yticks_fontsize : int, default=12\n",
    "        Size of yticks on the plot.\n",
    "    title_fontsize : int, default=20\n",
    "        Size of the title of the plot.\n",
    "    ylabel_fontsize : int, default=15\n",
    "        Size of the Y-label.\n",
    "    \"\"\"\n",
    "    # Separating scores from a sequence of tuples passed\n",
    "    _, scores = zip(*results)\n",
    "    # Joining model names with scores\n",
    "    names_with_scores = [f\"{name}\\n{loss:.4f}\" for name, loss in results]\n",
    "\n",
    "    # Making a plot\n",
    "    plt.figure(figsize=figure_dims)\n",
    "\n",
    "    plt.scatter(range(len(results)), scores, s=dot_size)\n",
    "\n",
    "    plt.xticks(range(len(results)), names_with_scores, fontsize=xticks_fontsize)\n",
    "    plt.yticks(fontsize=yticks_fontsize)\n",
    "    plt.ylabel(metric_name, fontsize=ylabel_fontsize)\n",
    "    plt.title(title_name, fontsize=title_fontsize)\n",
    "\n",
    "    plt.tight_layout()\n",
    "    plt.show()"
   ]
  },
  {
   "cell_type": "code",
   "execution_count": 41,
   "id": "6fad01d6-b744-4b5b-bf15-48c82d8bd94b",
   "metadata": {},
   "outputs": [
    {
     "data": {
      "image/png": "[encoded data removed]",
      "text/plain": [
       "<Figure size 1500x700 with 1 Axes>"
      ]
     },
     "metadata": {},
     "output_type": "display_data"
    }
   ],
   "source": [
    "# Defining the results of grid search\n",
    "results = [\n",
    "    (\"Decision Tree\", dt_grid_search.best_score_),\n",
    "    (\"Random Forest\", rf_grid_search.best_score_),\n",
    "    (\"KNN\", knn_grid_search.best_score_),\n",
    "    (\"CatBoost\", cb_grid_search.best_score_),\n",
    "    (\"XGBoost\", xgb_grid_search.best_score_),\n",
    "    (\"LightGBM\", lgbm_grid_search.best_score_),\n",
    "    (\"TextPipeline\", text_classification_f1_score),\n",
    "]\n",
    "\n",
    "# Vizualizing the results of grid search\n",
    "plot_model_comparison(\n",
    "    results,\n",
    "    metric_name=\"F1-score\",\n",
    "    title_name=\"Grid search results\",\n",
    ")"
   ]
  },
  {
   "cell_type": "code",
   "execution_count": 42,
   "id": "17c0d96b-b85a-45f8-85de-101e3835fcc6",
   "metadata": {},
   "outputs": [],
   "source": [
    "# Selecting the optimal model\n",
    "final_model = rf_grid_search.best_estimator_"
   ]
  },
  {
   "cell_type": "code",
   "execution_count": 43,
   "id": "1feb45b8-0b11-45f3-896f-886c73a83072",
   "metadata": {},
   "outputs": [
    {
     "data": {
      "text/plain": [
       "{'randomforestclassifier__n_estimators': 80,\n",
       " 'randomforestclassifier__max_depth': 3}"
      ]
     },
     "metadata": {},
     "output_type": "display_data"
    }
   ],
   "source": [
    "# Displaying the best settings\n",
    "display(rf_grid_search.best_params_)"
   ]
  },
  {
   "cell_type": "markdown",
   "id": "dafdf9dd-c9ca-46d7-8fae-b0a25822a76f",
   "metadata": {},
   "source": [
    "# Quality and sanity check"
   ]
  },
  {
   "cell_type": "code",
   "execution_count": 44,
   "id": "9cb8f391-9544-421c-aa3f-f9af8c935a2c",
   "metadata": {},
   "outputs": [
    {
     "name": "stdout",
     "output_type": "stream",
     "text": [
      "QUALITY CHECK: PASSED\n",
      "F1-score (test) = 0.9630\n",
      "\n",
      "SANITY CHECK: PASSED\n",
      "AUC-ROC = 0.9965\n"
     ]
    }
   ],
   "source": [
    "# Computing F1-score on test set\n",
    "predictions_test = final_model.predict(features_test)\n",
    "final_model_f1_score = f1_score(y_true=target_test, y_pred=predictions_test)\n",
    "\n",
    "# Computing AUC-ROC\n",
    "class_probs = final_model.predict_proba(features_test)\n",
    "pos_class_probs = class_probs[:, 1]\n",
    "final_model_roc_auc = roc_auc_score(y_true=target_test, y_score=pos_class_probs)\n",
    "\n",
    "# Fitting dummy model\n",
    "dummy_model = DummyClassifier(strategy=\"constant\", constant=1)\n",
    "dummy_model.fit(features_train, target_train)\n",
    "dummy_predictions = dummy_model.predict(features_test)\n",
    "dummy_model_f1_score = f1_score(y_true=target_test, y_pred=dummy_predictions)\n",
    "\n",
    "# Quality check\n",
    "assert (\n",
    "    final_model_f1_score >= F1_SCORE_THRESHOLD\n",
    "), \"The model performance is unsatisfactory\"\n",
    "print(\"QUALITY CHECK: PASSED\")\n",
    "print(\"F1-score (test) = {:.4f}\\n\".format(final_model_f1_score))\n",
    "\n",
    "# Sanity check\n",
    "assert (final_model_roc_auc > ROC_AUC_THRESHOLD) & (\n",
    "    final_model_f1_score > dummy_model_f1_score\n",
    "), \"The model is inadequate\"\n",
    "print(\"SANITY CHECK: PASSED\")\n",
    "print(\"AUC-ROC = {:.4f}\".format(final_model_roc_auc))"
   ]
  },
  {
   "cell_type": "markdown",
   "id": "a64902b8-53ec-45dc-bd29-328416f42961",
   "metadata": {},
   "source": [
    "# Final model analysis"
   ]
  },
  {
   "cell_type": "markdown",
   "id": "1facdbfc-82e7-4cef-9291-d8d887012c70",
   "metadata": {},
   "source": [
    "## Classification statistics"
   ]
  },
  {
   "cell_type": "code",
   "execution_count": 45,
   "id": "5122c45a-dd44-4a21-94ae-1e77fb0eaaf6",
   "metadata": {},
   "outputs": [
    {
     "name": "stdout",
     "output_type": "stream",
     "text": [
      "              precision    recall  f1-score   support\n",
      "\n",
      "    positive       1.00      1.00      1.00       223\n",
      "       toxic       0.96      0.96      0.96        27\n",
      "\n",
      "    accuracy                           0.99       250\n",
      "   macro avg       0.98      0.98      0.98       250\n",
      "weighted avg       0.99      0.99      0.99       250\n",
      "\n"
     ]
    }
   ],
   "source": [
    "# Names of classes to be printed in the report\n",
    "target_names = [\"positive\", \"toxic\"]\n",
    "\n",
    "# Printing the classification metrics table\n",
    "print(\n",
    "    classification_report(\n",
    "        y_true=target_test, y_pred=predictions_test, target_names=target_names\n",
    "    )\n",
    ")"
   ]
  },
  {
   "cell_type": "markdown",
   "id": "a42cc4c7-c1c1-48e8-9fcf-b3d2b5975b5f",
   "metadata": {},
   "source": [
    "<table>\n",
    "<thead>\n",
    "<tr><th>Item</th><th>Description</th></tr>\n",
    "</thead>\n",
    "<tbody>\n",
    "    <tr><td><b>Final model</b></td><td><i>Random Forest</i></td></tr>\n",
    "    <tr><td><b>Hyperparameters</b></td><td><i>80 trees, depth 3</i></td></tr>\n",
    "    <tr><td><b>F1-score</b></td><td><i>96%</i></td></tr>\n",
    "    <tr><td><b>ROC_AUC</b></td><td><i>99.65%</i></td></tr>\n",
    "    <tr><td><b>Recall</b></td><td><i>Model correctly detects 96% of all toxic commentaries</i></td></tr>\n",
    "    <tr><td><b>Precision</b></td><td><i>Model correctly detected 96% of truly toxic commentaries</i></td></tr>\n",
    "</tbody>\n",
    "</table>"
   ]
  },
  {
   "cell_type": "markdown",
   "id": "41d2129d-b3e3-441a-9518-31aa0d9a5b8c",
   "metadata": {},
   "source": [
    "## ROC/PR curves"
   ]
  },
  {
   "cell_type": "code",
   "execution_count": 46,
   "id": "edb4a4dc-152b-454d-bcab-cdc1a2c3189d",
   "metadata": {},
   "outputs": [
    {
     "data": {
      "image/png": "[encoded data removed]",
      "text/plain": [
       "<Figure size 640x480 with 1 Axes>"
      ]
     },
     "metadata": {},
     "output_type": "display_data"
    }
   ],
   "source": [
    "# Displaying ROC Curve\n",
    "RocCurveDisplay.from_estimator(\n",
    "    estimator=final_model,\n",
    "    X=features_test,\n",
    "    y=target_test,\n",
    "    name=\"Random forest\",\n",
    "    plot_chance_level=True,\n",
    ")\n",
    "plt.title(\"ROC Curve\", fontsize=15)\n",
    "plt.tight_layout()\n",
    "plt.show()"
   ]
  },
  {
   "cell_type": "code",
   "execution_count": 47,
   "id": "8d18f3f7-e708-4f27-8939-4a03b41a6466",
   "metadata": {},
   "outputs": [
    {
     "data": {
      "image/png": "[encoded data removed]",
      "text/plain": [
       "<Figure size 640x480 with 1 Axes>"
      ]
     },
     "metadata": {},
     "output_type": "display_data"
    }
   ],
   "source": [
    "# Displaying Precision-Recall Curve\n",
    "PrecisionRecallDisplay.from_estimator(\n",
    "    estimator=final_model,\n",
    "    X=features_test,\n",
    "    y=target_test,\n",
    "    name=\"Random forest\",\n",
    "    plot_chance_level=True,\n",
    ")\n",
    "plt.title(\"Precision-Recall Curve\", fontsize=15)\n",
    "plt.tight_layout()\n",
    "plt.show()"
   ]
  },
  {
   "cell_type": "markdown",
   "id": "76a54cb1-e294-48e0-b12b-3f9c1ae45f21",
   "metadata": {},
   "source": [
    "## Confusion matrix"
   ]
  },
  {
   "cell_type": "code",
   "execution_count": 48,
   "id": "ca26cdee-1f23-418f-85b7-eb40eb1a36f5",
   "metadata": {},
   "outputs": [],
   "source": [
    "# Setting the default plot style\n",
    "sns.reset_defaults()"
   ]
  },
  {
   "cell_type": "code",
   "execution_count": 49,
   "id": "4c1fb225-a71d-4261-b35b-2c9318948abe",
   "metadata": {},
   "outputs": [
    {
     "data": {
      "image/png": "[encoded data removed]",
      "text/plain": [
       "<Figure size 640x480 with 2 Axes>"
      ]
     },
     "metadata": {},
     "output_type": "display_data"
    }
   ],
   "source": [
    "# Displaying Confusion Matrix\n",
    "ConfusionMatrixDisplay.from_estimator(\n",
    "    estimator=final_model,\n",
    "    X=features_test,\n",
    "    y=target_test,\n",
    "    display_labels=(\"Positive\", \"Toxic\"),\n",
    "    cmap=\"Blues\",\n",
    ")\n",
    "plt.title(\"Confusion matrix (Random forest)\", fontsize=15)\n",
    "plt.xlabel(\"Predicted commentary label\")\n",
    "plt.ylabel(\"True commentary label\")\n",
    "plt.tight_layout()\n",
    "plt.show()"
   ]
  },
  {
   "cell_type": "markdown",
   "id": "e6c0b75a-a0a4-4313-8e32-6c1d10c3f2f9",
   "metadata": {},
   "source": [
    "# Final conclusion"
   ]
  },
  {
   "cell_type": "markdown",
   "id": "43d7bfef-b09e-4f9e-bbcd-23a0ef4b330a",
   "metadata": {},
   "source": [
    "This project was devoted to the task of textual classification and determination of the toxicity of comments. During the execution of the project, the data was studied and encoded using embeddings. The subsequent procedure of selecting hyperparameters for a number of machine learning and gradient boosting models showed the success of the *Random Forest* model, which not only has the required quality, but is also adequate enough, which was noticeable by the high values of the *F1* and *AUC_ROC* metrics."
   ]
  }
 ],
 "metadata": {
  "kernelspec": {
   "display_name": "Python 3 (ipykernel)",
   "language": "python",
   "name": "python3"
  },
  "language_info": {
   "codemirror_mode": {
    "name": "ipython",
    "version": 3
   },
   "file_extension": ".py",
   "mimetype": "text/x-python",
   "name": "python",
   "nbconvert_exporter": "python",
   "pygments_lexer": "ipython3",
   "version": "3.9.13"
  }
 },
 "nbformat": 4,
 "nbformat_minor": 5
}
