{
 "cells": [
  {
   "cell_type": "markdown",
   "id": "edc3f0b9-ab8e-48cb-9f55-5ccadb596681",
   "metadata": {},
   "source": [
    "## Importing"
   ]
  },
  {
   "cell_type": "code",
   "execution_count": 1,
   "id": "ff2eb328-7518-4b97-9112-4e8d668a7dd8",
   "metadata": {},
   "outputs": [],
   "source": [
    "from typing import TypeVar, Dict, Tuple, Any, Union, Iterable, Optional, Sequence\n",
    "from pprint import PrettyPrinter\n",
    "\n",
    "import numpy as np\n",
    "import pandas as pd\n",
    "import matplotlib.pyplot as plt\n",
    "import seaborn as sns\n",
    "from sklearn.model_selection import train_test_split, RandomizedSearchCV, KFold\n",
    "from sklearn.tree import DecisionTreeClassifier\n",
    "from sklearn.ensemble import RandomForestClassifier\n",
    "from sklearn.neighbors import KNeighborsClassifier\n",
    "from sklearn.dummy import DummyClassifier\n",
    "from sklearn.metrics import f1_score, roc_auc_score, classification_report, ConfusionMatrixDisplay\n",
    "from sklearn.exceptions import NotFittedError\n",
    "import torch\n",
    "import transformers\n",
    "from transformers import logging\n",
    "from catboost import CatBoostClassifier\n",
    "from xgboost import XGBClassifier\n",
    "from lightgbm import LGBMClassifier\n",
    "from tqdm import notebook\n",
    "from imblearn.pipeline import make_pipeline as make_imb_pipeline\n",
    "from imblearn.over_sampling import SMOTE\n",
    "\n",
    "RANDOM_STATE = 12345\n",
    "N_ITER = 5\n",
    "CV_FOLDS = 2\n",
    "DATA_SIZE = 1000\n",
    "MAX_LENGTH = 512\n",
    "F1_SCORE_THRESHOLD = 0.75\n",
    "ROC_AUC_THRESHOLD = 0.5\n",
    "TRAIN_SET_SIZE = 0.75\n",
    "ENABLE_PARALLELIZATION = False\n",
    "SCORER = \"f1\"\n",
    "VERBOSITY = 5\n",
    "BATCH_SIZE = 10"
   ]
  },
  {
   "cell_type": "code",
   "execution_count": 2,
   "id": "8016466a-8519-46fc-8827-304f51a946ef",
   "metadata": {},
   "outputs": [],
   "source": [
    "# Using all processors\n",
    "N_JOBS = -1 if ENABLE_PARALLELIZATION else None\n",
    "\n",
    "# Visual theme for plots\n",
    "sns.set_theme()\n",
    "\n",
    "# Ignoring warnings when defining a pretrained transformers model\n",
    "logging.set_verbosity_error()\n",
    "\n",
    "# Defining a cross-validator\n",
    "KF = KFold(n_splits=CV_FOLDS, random_state=RANDOM_STATE, shuffle=True)\n",
    "\n",
    "# Setting printing behavior\n",
    "pp = PrettyPrinter(depth=4)"
   ]
  },
  {
   "cell_type": "code",
   "execution_count": 3,
   "id": "d151b1a5-177c-495b-a8a0-bb3f8e336868",
   "metadata": {},
   "outputs": [
    {
     "name": "stdout",
     "output_type": "stream",
     "text": [
      "Using device: cpu\n"
     ]
    }
   ],
   "source": [
    "device = torch.device(\"cuda:0\" if torch.cuda.is_available() else \"cpu\")\n",
    "print(\"Using device: {}\".format(device))\n",
    "\n",
    "# Printing details of GPU device\n",
    "if device.type == \"cuda\":\n",
    "    gpu_device_name = torch.cuda.get_device_name(0)\n",
    "    gpu_memory_alloc_GB = torch.cuda.memory_allocated(0) / 1024**3\n",
    "    gpu_memory_cached_GB = torch.cuda.memory_reserved(0) / 1024**3\n",
    "\n",
    "    print(f\"Device name: {gpu_device_name}\")\n",
    "    print(f\"Memory allocated: {np.round(gpu_memory_alloc_GB, 1)} GB\")\n",
    "    print(f\"Memory cached: {np.round(gpu_memory_cached_GB, 1)} GB\")"
   ]
  },
  {
   "cell_type": "markdown",
   "id": "b1e13590-d3df-4991-a14f-637015196ace",
   "metadata": {},
   "source": [
    "**Summary**\n",
    "\n",
    "In this small section, we have collected all the libraries and utilities that we will use during the process of completing the project. In particular, we defined a number of constants to achieve code flexibility, imported a number of libraries for gradient boosting and machine learning as well as transformers, and also added the opportunity to execute the code on *GPU*."
   ]
  },
  {
   "cell_type": "markdown",
   "id": "6b745de7-aad8-43e7-ad53-43fd05f96ae6",
   "metadata": {},
   "source": [
    "## Uploading data"
   ]
  },
  {
   "cell_type": "code",
   "execution_count": 4,
   "id": "94dae5e3-12da-4057-8fce-0bce40fdbbbc",
   "metadata": {},
   "outputs": [
    {
     "data": {
      "text/html": [
       "<div>\n",
       "<style scoped>\n",
       "    .dataframe tbody tr th:only-of-type {\n",
       "        vertical-align: middle;\n",
       "    }\n",
       "\n",
       "    .dataframe tbody tr th {\n",
       "        vertical-align: top;\n",
       "    }\n",
       "\n",
       "    .dataframe thead th {\n",
       "        text-align: right;\n",
       "    }\n",
       "</style>\n",
       "<table border=\"1\" class=\"dataframe\">\n",
       "  <thead>\n",
       "    <tr style=\"text-align: right;\">\n",
       "      <th></th>\n",
       "      <th>text</th>\n",
       "      <th>toxic</th>\n",
       "    </tr>\n",
       "  </thead>\n",
       "  <tbody>\n",
       "    <tr>\n",
       "      <th>109486</th>\n",
       "      <td>Expert Categorizers  \\n\\nWhy is there no menti...</td>\n",
       "      <td>0</td>\n",
       "    </tr>\n",
       "    <tr>\n",
       "      <th>104980</th>\n",
       "      <td>\"\\n\\n Noise \\n\\nfart*  talk. \"</td>\n",
       "      <td>1</td>\n",
       "    </tr>\n",
       "    <tr>\n",
       "      <th>82166</th>\n",
       "      <td>An indefinite block is appropriate, even for a...</td>\n",
       "      <td>0</td>\n",
       "    </tr>\n",
       "    <tr>\n",
       "      <th>18721</th>\n",
       "      <td>I don't understand why we have a screenshot of...</td>\n",
       "      <td>0</td>\n",
       "    </tr>\n",
       "    <tr>\n",
       "      <th>128178</th>\n",
       "      <td>Hello! Some of the people, places or things yo...</td>\n",
       "      <td>0</td>\n",
       "    </tr>\n",
       "  </tbody>\n",
       "</table>\n",
       "</div>"
      ],
      "text/plain": [
       "                                                     text  toxic\n",
       "109486  Expert Categorizers  \\n\\nWhy is there no menti...      0\n",
       "104980                     \"\\n\\n Noise \\n\\nfart*  talk. \"      1\n",
       "82166   An indefinite block is appropriate, even for a...      0\n",
       "18721   I don't understand why we have a screenshot of...      0\n",
       "128178  Hello! Some of the people, places or things yo...      0"
      ]
     },
     "execution_count": 4,
     "metadata": {},
     "output_type": "execute_result"
    }
   ],
   "source": [
    "toxic_comments_df = pd.read_csv(\n",
    "    \"toxic_comments.csv\", usecols=[\"text\", \"toxic\"], header=0\n",
    ")\n",
    "toxic_comments_df.sample(5, random_state=RANDOM_STATE)"
   ]
  },
  {
   "cell_type": "markdown",
   "id": "ef56576d-fe1d-4a18-b3d9-7d1960f83765",
   "metadata": {},
   "source": [
    "We can see that the data we have uploaded contains the following information."
   ]
  },
  {
   "cell_type": "markdown",
   "id": "fef69c3c-4e0c-4283-913f-452ea2d55a49",
   "metadata": {},
   "source": [
    "<table>\n",
    "<thead>\n",
    "<tr><th>Column</th><th>Description</th></tr>\n",
    "</thead>\n",
    "<tbody>\n",
    "    <tr><td><code>text</code></td><td><i>Text of a commentary</i></td></tr>\n",
    "<tr><td><code>toxic</code></td><td><i>Indicator of the toxicity of a commentary</i></td></tr>\n",
    "</tbody>\n",
    "</table>"
   ]
  },
  {
   "cell_type": "markdown",
   "id": "87bbdffc-edc6-4dce-8b97-16dbb6b14829",
   "metadata": {},
   "source": [
    "We observe that the data consists of some comments, which are assigned toxicity values of zero (positive comment) or one (negative comment). Let's display more detailed information about the data."
   ]
  },
  {
   "cell_type": "code",
   "execution_count": 5,
   "id": "8d77a7db-4f9d-40d9-a86f-8e9a9e5fcc28",
   "metadata": {},
   "outputs": [
    {
     "name": "stdout",
     "output_type": "stream",
     "text": [
      "<class 'pandas.core.frame.DataFrame'>\n",
      "RangeIndex: 159292 entries, 0 to 159291\n",
      "Data columns (total 2 columns):\n",
      " #   Column  Non-Null Count   Dtype \n",
      "---  ------  --------------   ----- \n",
      " 0   text    159292 non-null  object\n",
      " 1   toxic   159292 non-null  int64 \n",
      "dtypes: int64(1), object(1)\n",
      "memory usage: 2.4+ MB\n"
     ]
    }
   ],
   "source": [
    "toxic_comments_df.info()"
   ]
  },
  {
   "cell_type": "markdown",
   "id": "4385d36f-3ee8-4a34-9528-9718ffd6117e",
   "metadata": {},
   "source": [
    "**Summary**\n",
    "\n",
    "At this stage, we were able to study the data that was provided to us, as a result of which we found out that the objects in the dataset represent texts of commentaries along with a binary indicator of its toxicity. Furthermore, there are no missing values in the data."
   ]
  },
  {
   "cell_type": "markdown",
   "id": "63700bfd-f7e7-46f9-bbe7-c7b31a5a11a9",
   "metadata": {},
   "source": [
    "## Data preparation"
   ]
  },
  {
   "cell_type": "markdown",
   "id": "7e33f112-5a1e-4082-ac03-c1fb827f7ed7",
   "metadata": {},
   "source": [
    "### Class balance and sampling"
   ]
  },
  {
   "cell_type": "markdown",
   "id": "865b103f-ec5e-4a04-b0d4-1bf1e8b9c88f",
   "metadata": {},
   "source": [
    "Since the task we are going to solve here is classification, let's first look at the balance of classes."
   ]
  },
  {
   "cell_type": "code",
   "execution_count": 6,
   "id": "97471338-bd4c-4880-86f5-7df25d3fedb3",
   "metadata": {},
   "outputs": [
    {
     "data": {
      "image/png": "[encoded data removed]",
      "text/plain": [
       "<Figure size 640x480 with 1 Axes>"
      ]
     },
     "metadata": {},
     "output_type": "display_data"
    },
    {
     "data": {
      "text/plain": [
       "0    0.898388\n",
       "1    0.101612\n",
       "Name: toxic, dtype: float64"
      ]
     },
     "execution_count": 6,
     "metadata": {},
     "output_type": "execute_result"
    }
   ],
   "source": [
    "toxic_comments_df[\"toxic\"].value_counts(normalize=True).plot(\n",
    "    kind=\"bar\",\n",
    "    xlabel=\"Toxicity\",\n",
    "    ylabel=\"Share\",\n",
    "    title=\"Commentaries structure\",\n",
    ")\n",
    "plt.xticks(rotation=0)\n",
    "plt.show()\n",
    "\n",
    "toxic_comments_df[\"toxic\"].value_counts(normalize=True)"
   ]
  },
  {
   "cell_type": "markdown",
   "id": "1c437328-251a-430b-99de-f4ce52e9fd51",
   "metadata": {},
   "source": [
    "We notice quite a strong class imbalance that may lead to poor learning performance. We will deal with this problem later. For now, the next step is to tokenize data and then use the tokenized data to create embeddings. However, it will be extremely time-consuming and computationally expensive to preprocess all 159,292 commentaries. Hence, let's choose a subset of them. "
   ]
  },
  {
   "cell_type": "code",
   "execution_count": 7,
   "id": "7d7c7747-7243-4763-ac0d-8ae4f1137018",
   "metadata": {},
   "outputs": [
    {
     "data": {
      "text/html": [
       "<div>\n",
       "<style scoped>\n",
       "    .dataframe tbody tr th:only-of-type {\n",
       "        vertical-align: middle;\n",
       "    }\n",
       "\n",
       "    .dataframe tbody tr th {\n",
       "        vertical-align: top;\n",
       "    }\n",
       "\n",
       "    .dataframe thead th {\n",
       "        text-align: right;\n",
       "    }\n",
       "</style>\n",
       "<table border=\"1\" class=\"dataframe\">\n",
       "  <thead>\n",
       "    <tr style=\"text-align: right;\">\n",
       "      <th></th>\n",
       "      <th>comm_num</th>\n",
       "      <th>comm_share</th>\n",
       "    </tr>\n",
       "  </thead>\n",
       "  <tbody>\n",
       "    <tr>\n",
       "      <th>0</th>\n",
       "      <td>890</td>\n",
       "      <td>0.89</td>\n",
       "    </tr>\n",
       "    <tr>\n",
       "      <th>1</th>\n",
       "      <td>110</td>\n",
       "      <td>0.11</td>\n",
       "    </tr>\n",
       "  </tbody>\n",
       "</table>\n",
       "</div>"
      ],
      "text/plain": [
       "   comm_num  comm_share\n",
       "0       890        0.89\n",
       "1       110        0.11"
      ]
     },
     "execution_count": 7,
     "metadata": {},
     "output_type": "execute_result"
    }
   ],
   "source": [
    "toxic_df = toxic_comments_df.sample(DATA_SIZE, random_state=RANDOM_STATE).reset_index(\n",
    "    drop=True\n",
    ")\n",
    "toxic_num = toxic_df[\"toxic\"].value_counts()\n",
    "toxic_num.name = \"comm_num\"\n",
    "toxic_share = toxic_df[\"toxic\"].value_counts(normalize=True)\n",
    "toxic_share.name = \"comm_share\"\n",
    "toxic_balance = pd.concat([toxic_num, toxic_share], axis=1)\n",
    "toxic_balance"
   ]
  },
  {
   "cell_type": "markdown",
   "id": "0a1b74d8-b289-4237-80cf-cc779962b575",
   "metadata": {},
   "source": [
    "We chose 1000 randomly sampled observations and see that the balance of classes stayed approximately the same."
   ]
  },
  {
   "cell_type": "markdown",
   "id": "8dbdc199-e11b-48be-a3a8-8570f8f6556c",
   "metadata": {},
   "source": [
    "### Encoding"
   ]
  },
  {
   "cell_type": "markdown",
   "id": "40827f8c-8ae8-4475-870c-f24269b324e0",
   "metadata": {},
   "source": [
    "#### Tokenization"
   ]
  },
  {
   "cell_type": "code",
   "execution_count": 8,
   "id": "1cc6458c-a0c2-4376-b2f2-9418a3b13964",
   "metadata": {},
   "outputs": [],
   "source": [
    "# Defining a tokenizer\n",
    "tokenizer = transformers.AutoTokenizer.from_pretrained(\"unitary/toxic-bert\")\n",
    "\n",
    "# Tokenizing data\n",
    "data_tokenized = toxic_df[\"text\"].apply(\n",
    "    lambda x: tokenizer.encode(\n",
    "        x,\n",
    "        add_special_tokens=True,\n",
    "        max_length=MAX_LENGTH,\n",
    "        truncation=True,\n",
    "        padding=\"max_length\",\n",
    "    )\n",
    ")\n",
    "\n",
    "# Type conversion\n",
    "data_padded = np.array([i for i in data_tokenized.values])\n",
    "\n",
    "# Creating attention mask\n",
    "attention_mask = np.where(data_padded != 0, 1, 0)"
   ]
  },
  {
   "cell_type": "code",
   "execution_count": 9,
   "id": "ae091ffd-6ce4-4ac7-b947-47788c25be9a",
   "metadata": {},
   "outputs": [
    {
     "name": "stdout",
     "output_type": "stream",
     "text": [
      "Tokenized (padded) data dimensions: (1000, 512)\n",
      "Attention mask dimensions: (1000, 512)\n"
     ]
    }
   ],
   "source": [
    "print(f\"Tokenized (padded) data dimensions: {data_padded.shape}\")\n",
    "print(f\"Attention mask dimensions: {attention_mask.shape}\")"
   ]
  },
  {
   "cell_type": "markdown",
   "id": "46b560b9-6791-4115-b146-c207b840dd86",
   "metadata": {},
   "source": [
    "We see that we got the desired dimensions of the matrices for tokenized data and attention mask. "
   ]
  },
  {
   "cell_type": "markdown",
   "id": "9cac9a26-9f35-4426-85ec-de70a1f75a44",
   "metadata": {},
   "source": [
    "#### Features extraction (embeddings)"
   ]
  },
  {
   "cell_type": "markdown",
   "id": "88a6d903-6bbb-44b3-9e3d-bcf6574cc3b2",
   "metadata": {},
   "source": [
    "The next logical step is to recover the features from the tokenized data (embeddings). Firstly, let's load the model from `unitary/toxic-bert` and add `to(device)` in order to allow for using *GPU*."
   ]
  },
  {
   "cell_type": "markdown",
   "id": "1ca8a362-aa77-488f-8afa-12433f6326a1",
   "metadata": {},
   "source": [
    "**Warning:** *Loading the model in the following cell may take approximately <u>8 minutes</u> on CPU.*"
   ]
  },
  {
   "cell_type": "code",
   "execution_count": 10,
   "id": "6981c05b-4c08-468f-a0e8-bdec4932ba39",
   "metadata": {},
   "outputs": [],
   "source": [
    "model = transformers.AutoModel.from_pretrained(\"unitary/toxic-bert\").to(device)"
   ]
  },
  {
   "cell_type": "markdown",
   "id": "68835790-7ff4-429b-a36d-ef3d69c282f0",
   "metadata": {},
   "source": [
    "Next, we launch the process of creating embeddings in batches which can also be executed on *GPU*."
   ]
  },
  {
   "cell_type": "markdown",
   "id": "a1558a03-31da-4bff-bb63-75ff661199e3",
   "metadata": {},
   "source": [
    "**Warning:** *The embedding creation process in the following cell may take approximately <u>40 minutes</u> to run on CPU.*"
   ]
  },
  {
   "cell_type": "code",
   "execution_count": 11,
   "id": "da2b0163-36db-40b4-97db-353bed669dd5",
   "metadata": {},
   "outputs": [
    {
     "data": {
      "application/vnd.jupyter.widget-view+json": {
       "model_id": "ee491f6755c04e19a85550998bf44d64",
       "version_major": 2,
       "version_minor": 0
      },
      "text/plain": [
       "  0%|          | 0/100 [00:00<?, ?it/s]"
      ]
     },
     "metadata": {},
     "output_type": "display_data"
    }
   ],
   "source": [
    "# Features extraction (embeddings)\n",
    "batch_size = BATCH_SIZE\n",
    "embeddings = []\n",
    "for i in notebook.tqdm(range(data_padded.shape[0] // batch_size)):\n",
    "    batch = torch.LongTensor(data_padded[batch_size * i : batch_size * (i + 1)]).to(device)\n",
    "    attention_mask_batch = torch.LongTensor(\n",
    "        attention_mask[batch_size * i : batch_size * (i + 1)]\n",
    "    ).to(device)\n",
    "\n",
    "    with torch.no_grad():\n",
    "        batch_embeddings = model(batch, attention_mask=attention_mask_batch)\n",
    "\n",
    "    embeddings.append(batch_embeddings[0][:, 0, :].cpu().numpy())"
   ]
  },
  {
   "cell_type": "code",
   "execution_count": 12,
   "id": "f1a130bd-4c9e-4f20-b686-8500d5b8631f",
   "metadata": {},
   "outputs": [
    {
     "name": "stdout",
     "output_type": "stream",
     "text": [
      "Batch size: 10\n",
      "Number of batches: 100\n",
      "Emdeddings dimensions per batch: (10, 768)\n",
      "Number of objects in data: 1000\n"
     ]
    }
   ],
   "source": [
    "print(f\"Batch size: {batch_size}\")\n",
    "print(f\"Number of batches: {len(embeddings)}\")\n",
    "print(f\"Emdeddings dimensions per batch: {embeddings[0].shape}\")\n",
    "print(f\"Number of objects in data: {data_padded.shape[0]}\")"
   ]
  },
  {
   "cell_type": "markdown",
   "id": "abcb1aea-bc13-40d1-8f2d-a2e7a0fd4271",
   "metadata": {},
   "source": [
    "#### Data split"
   ]
  },
  {
   "cell_type": "markdown",
   "id": "ccbf16de-435b-43ea-9957-5097b3b14983",
   "metadata": {},
   "source": [
    "Now we can just concatenate all embeddings into one features matrix."
   ]
  },
  {
   "cell_type": "code",
   "execution_count": 13,
   "id": "17b5c0bc-6952-4420-a7b0-7ce864e640bf",
   "metadata": {},
   "outputs": [
    {
     "name": "stdout",
     "output_type": "stream",
     "text": [
      "Features matrix dimensions: (1000, 768)\n",
      "Target vector length: (1000,)\n"
     ]
    }
   ],
   "source": [
    "features = np.concatenate(embeddings)\n",
    "target = toxic_df['toxic']\n",
    "\n",
    "print(f\"Features matrix dimensions: {features.shape}\")\n",
    "print(f\"Target vector length: {target.shape}\")"
   ]
  },
  {
   "cell_type": "markdown",
   "id": "173adcc5-0a71-4c09-90c5-8fb74b54f8e0",
   "metadata": {},
   "source": [
    "We then split the data into training and test set, at the same time preserving the proportions of classes in `target` by using `stratify=target`."
   ]
  },
  {
   "cell_type": "code",
   "execution_count": 14,
   "id": "decfca98-aa98-454a-b8ce-b2274f2700a6",
   "metadata": {},
   "outputs": [
    {
     "data": {
      "text/plain": [
       "0    0.89\n",
       "1    0.11\n",
       "Name: toxic, dtype: float64"
      ]
     },
     "execution_count": 14,
     "metadata": {},
     "output_type": "execute_result"
    }
   ],
   "source": [
    "target.value_counts(normalize=True)"
   ]
  },
  {
   "cell_type": "code",
   "execution_count": 15,
   "id": "c20010fc-6d4a-447e-ad31-891bb1d1c4fb",
   "metadata": {},
   "outputs": [
    {
     "name": "stdout",
     "output_type": "stream",
     "text": [
      "Features matrix dimensions (train): (750, 768)\n",
      "Target vector length (train): (750,)\n",
      "\n",
      "Features matrix dimensions (test): (250, 768)\n",
      "Target vector length (test): (250,)\n"
     ]
    }
   ],
   "source": [
    "features_train, features_test, target_train, target_test = train_test_split(\n",
    "    features, target, train_size=TRAIN_SET_SIZE, random_state=RANDOM_STATE, stratify=target\n",
    ")\n",
    "\n",
    "print(f\"Features matrix dimensions (train): {features_train.shape}\")\n",
    "print(f\"Target vector length (train): {target_train.shape}\\n\")\n",
    "print(f\"Features matrix dimensions (test): {features_test.shape}\")\n",
    "print(f\"Target vector length (test): {target_test.shape}\")"
   ]
  },
  {
   "cell_type": "code",
   "execution_count": 16,
   "id": "aa593687-2769-46e3-9b02-27ff0bfae7c4",
   "metadata": {},
   "outputs": [
    {
     "data": {
      "text/plain": [
       "0    0.889333\n",
       "1    0.110667\n",
       "Name: toxic, dtype: float64"
      ]
     },
     "execution_count": 16,
     "metadata": {},
     "output_type": "execute_result"
    }
   ],
   "source": [
    "target_train.value_counts(normalize=True)"
   ]
  },
  {
   "cell_type": "code",
   "execution_count": 17,
   "id": "7bab79fb-7366-4ba1-a83d-8134f8e99ef2",
   "metadata": {},
   "outputs": [
    {
     "data": {
      "text/plain": [
       "0    0.892\n",
       "1    0.108\n",
       "Name: toxic, dtype: float64"
      ]
     },
     "execution_count": 17,
     "metadata": {},
     "output_type": "execute_result"
    }
   ],
   "source": [
    "target_test.value_counts(normalize=True)"
   ]
  },
  {
   "cell_type": "markdown",
   "id": "830fa4a8-a4b0-461e-9312-1b3338f9a785",
   "metadata": {},
   "source": [
    "Later, in addition to usual models, we will implement `AutoModelForSequenceClassification` for which it suffices to just provide the original text of a commentary. Hence, we should also split the data here, preserving only the test set."
   ]
  },
  {
   "cell_type": "code",
   "execution_count": 18,
   "id": "d7db1720-a869-49ba-abcb-932d09fe8fc0",
   "metadata": {},
   "outputs": [],
   "source": [
    "features_text = toxic_df['text']\n",
    "_, test_text, _, _ = train_test_split(\n",
    "    features_text, target, train_size=TRAIN_SET_SIZE, random_state=RANDOM_STATE, stratify=target\n",
    ")"
   ]
  },
  {
   "cell_type": "markdown",
   "id": "5faeeb93-de1b-4153-9fc4-b32d5f8d2b64",
   "metadata": {},
   "source": [
    "**Summary**\n",
    "\n",
    "This stage was aimed at encoding the dataset with commentaries in order to enable models to make predictions. The data has been tokenized which was later used for features extraction using embeddings. Lastly, we split the data."
   ]
  },
  {
   "cell_type": "markdown",
   "id": "8bb99b1c-a1fd-4876-ab6b-a4ad3c71118b",
   "metadata": {},
   "source": [
    "## Hyperparameter tuning"
   ]
  },
  {
   "cell_type": "markdown",
   "id": "701fdd58-15ee-4fa1-b962-fae713b1d29f",
   "metadata": {},
   "source": [
    "### Preparation for tuning"
   ]
  },
  {
   "cell_type": "markdown",
   "id": "95078a37-adc2-4468-89be-d1ea01e345f6",
   "metadata": {},
   "source": [
    "Now, we can start preparing for hyperparameter tuning. Here, we will write a function called `prepare_tuning()` where we can pass the model as well as some keyword parameters signifying what hyperparameters and what values we would like to consider in the grid search."
   ]
  },
  {
   "cell_type": "code",
   "execution_count": 19,
   "id": "46c27dc5-cf7f-42fb-a273-ca0f7da32873",
   "metadata": {},
   "outputs": [],
   "source": [
    "# Defining new types\n",
    "Model = TypeVar(\"Model\")\n",
    "ImblearnPipeline = TypeVar(\"ImblearnPipeline\")\n",
    "HyperparamsGrid = Dict[str, Sequence[Any]]\n",
    "\n",
    "\n",
    "def prepare_tuning(\n",
    "    model: Model, **tuning_params: Sequence[Any]\n",
    ") -> Tuple[ImblearnPipeline, HyperparamsGrid]:\n",
    "    \"\"\"Makes preparations for grid search.\n",
    "    \n",
    "    Creates an Imbalanced-Learn Pipeline using\n",
    "    SMOTE and model as steps. Additionally, creates\n",
    "    a parameter grid as a dict with keys names prefixed \n",
    "    by the alias of the last estimator in the Pipeline created.\n",
    "    \n",
    "    Args:\n",
    "        model: \n",
    "            Class implementing estimators from Scikit-Learn \n",
    "            or Gradient Boosting libraries.\n",
    "        **tuning_params:\n",
    "            Keyword arguments used to create a grid\n",
    "            of hyperparameters.\n",
    "    \n",
    "    Returns: \n",
    "        ImblearnPipeline object and HyperparamsGrid object \n",
    "        mapping hyperparameter names to the values to consider in\n",
    "        grid search.\n",
    "    \"\"\"\n",
    "    # Creating Imblearn's Pipeline\n",
    "    upsampler = SMOTE(random_state=RANDOM_STATE)\n",
    "    pipeline = make_imb_pipeline(upsampler, model)\n",
    "    # Creating a parameter grid with alias-prefixed keys\n",
    "    step_names = (*pipeline.named_steps,)\n",
    "    grid = {\n",
    "        step_names[-1] + \"__\" + param: tuning_params[param] for param in tuning_params\n",
    "    }\n",
    "\n",
    "    return pipeline, grid"
   ]
  },
  {
   "cell_type": "markdown",
   "id": "7139f7c3-399a-434a-ad55-6ee7af461455",
   "metadata": {},
   "source": [
    "Next, in order to simplify the code and avoiding dublicating, we will write a wrapper for `RandomizedSearchCV` which we will call `RandomizedClassificationHyperopt`. It will enable us not just to train several models and choose the best one, but also compute some classification metrics for evaluation dataset (`eval_dataset`). Additionally, we can also plot a confusion matrix quite easily."
   ]
  },
  {
   "cell_type": "code",
   "execution_count": 20,
   "id": "cd699c05-fd5e-4244-8f96-75c1acdc6955",
   "metadata": {},
   "outputs": [],
   "source": [
    "class RandomizedClassificationHyperopt(RandomizedSearchCV):\n",
    "    \"\"\"Wrapper for RandomizedSearchCV with custom defaults \n",
    "    and additional functionality.\n",
    "    \"\"\"\n",
    "\n",
    "    def __init__(\n",
    "        self,\n",
    "        estimator: Union[ImblearnPipeline, Model],\n",
    "        param_distributions: HyperparamsGrid,\n",
    "        train_dataset: Tuple[Any, Any],\n",
    "        eval_dataset: Tuple[Any, Any],\n",
    "        cv: Iterable[Any] = KF,\n",
    "        random_state: int = RANDOM_STATE,\n",
    "        scoring: str = SCORER,\n",
    "        n_iter: int = N_ITER,\n",
    "        n_jobs: Optional[int] = N_JOBS,\n",
    "        verbose: int = VERBOSITY,\n",
    "        return_train_score: bool = True,\n",
    "        **kwargs: Any,\n",
    "    ) -> None:\n",
    "        super().__init__(\n",
    "            estimator,\n",
    "            param_distributions,\n",
    "            cv=KF,\n",
    "            random_state=RANDOM_STATE,\n",
    "            scoring=SCORER,\n",
    "            n_iter=N_ITER,\n",
    "            n_jobs=N_JOBS,\n",
    "            verbose=VERBOSITY,\n",
    "            return_train_score=True,\n",
    "            **kwargs,\n",
    "        )\n",
    "        train_features, train_target = train_dataset\n",
    "        eval_features, eval_target = eval_dataset\n",
    "        self.train_features = train_features\n",
    "        self.train_target = train_target\n",
    "        self.eval_features = eval_features\n",
    "        self.eval_target = eval_target\n",
    "\n",
    "    def train_crossvalidate(self) -> None:\n",
    "        \"\"\"Launches grid search with cross-validation.\"\"\"\n",
    "        self.fit(self.train_features, self.train_target)\n",
    "        print(\"Fitting done\")\n",
    "\n",
    "    def compute_classification_stats(\n",
    "        self, metric: Optional[str] = None\n",
    "    ) -> Optional[float]:\n",
    "        \"\"\"Computes classification statistics for evaluation\n",
    "        data and either prints all metrics at ones or returns \n",
    "        the value of a particular metric.\n",
    "        \"\"\"\n",
    "        # Checking if the model has been fit\n",
    "        try:\n",
    "            self.eval_predictions = self.predict(self.eval_features)\n",
    "        except NotFittedError:\n",
    "            not_fitted_error_msg = (\n",
    "                f\"The {type(self).__name__} instance has not been fitted yet.\\n\"\n",
    "                \"Call 'train_crossvalidate' before using this estimator.\"\n",
    "            )\n",
    "            print(not_fitted_error_msg)\n",
    "        # Proceed if exception has not been raised\n",
    "        else:\n",
    "            target_names = [\"positive\", \"toxic\"]\n",
    "            # Return the value of a particular metric\n",
    "            if metric is not None:\n",
    "                # Adding ROC-AUC to metric values to be returned\n",
    "                if metric == \"roc-auc\":\n",
    "                    return roc_auc_score(\n",
    "                        self.eval_target, self.predict_proba(self.eval_features)[:, 1]\n",
    "                    )\n",
    "                # Return some other value of metrics contained in classification_report\n",
    "                else:\n",
    "                    classification_stats = classification_report(\n",
    "                        self.eval_target,\n",
    "                        self.eval_predictions,\n",
    "                        target_names=target_names,\n",
    "                        output_dict=True,\n",
    "                    )\n",
    "                    return classification_stats[\"toxic\"][metric]\n",
    "            # Print out a summary of all classification metrics if metric=None\n",
    "            classification_stats = classification_report(\n",
    "                self.eval_target, self.eval_predictions, target_names=target_names\n",
    "            )\n",
    "            print(classification_stats)\n",
    "\n",
    "    def plot_confusion_matrix(self) -> None:\n",
    "        \"\"\"Plots confusion matrix for the best estimator.\"\"\"\n",
    "        try:\n",
    "            self.eval_predictions = self.predict(self.eval_features)\n",
    "        except NotFittedError:\n",
    "            not_fitted_error_msg = (\n",
    "                f\"The {type(self).__name__} instance has not been fitted yet.\\n\"\n",
    "                \"Call 'train_crossvalidate' before using this estimator.\"\n",
    "            )\n",
    "            print(not_fitted_error_msg)\n",
    "        # Plot the confusion matrix if the exception has not been raised\n",
    "        else:\n",
    "            sns.reset_defaults()\n",
    "            disp = ConfusionMatrixDisplay.from_predictions(\n",
    "                self.eval_target,\n",
    "                self.eval_predictions,\n",
    "                cmap=plt.cm.Blues,\n",
    "                display_labels=[\"Positive\", \"Toxic\"],\n",
    "            )\n",
    "            model_name = type(\n",
    "                self.best_estimator_.named_steps[\n",
    "                    (*self.best_estimator_.named_steps,)[1]\n",
    "                ]\n",
    "            ).__name__\n",
    "            plt.title(f\"Confusion matrix ({model_name})\")\n",
    "            plt.tight_layout()\n",
    "            plt.show()"
   ]
  },
  {
   "cell_type": "code",
   "execution_count": 21,
   "id": "89e873aa-c115-4785-a1d7-381eda2cbc6a",
   "metadata": {},
   "outputs": [
    {
     "name": "stdout",
     "output_type": "stream",
     "text": [
      "__doc__\n",
      "__init__\n",
      "train_crossvalidate\n",
      "compute_classification_stats\n",
      "plot_confusion_matrix\n"
     ]
    }
   ],
   "source": [
    "# Outputing class methods written above\n",
    "for key, value in RandomizedClassificationHyperopt.__dict__.items():\n",
    "    if \"function\" in str(value):\n",
    "        print(key)"
   ]
  },
  {
   "cell_type": "markdown",
   "id": "5d6a8466-bbce-490e-a39a-8aac9b8e951a",
   "metadata": {},
   "source": [
    "All in all, apart from common `__doc__` and `__init__` attributes, we have written three additional methods:\n",
    "\n",
    "* `train_crossvalidate()` => a wrapper for `fit()` method;\n",
    "* `compute_classification_stats()` => computation of key classification metrics;\n",
    "* `plot_confusion_matrix()` => plotting confusion matrix."
   ]
  },
  {
   "cell_type": "markdown",
   "id": "6ac39493-f701-4b67-8cb1-4861e0f68322",
   "metadata": {},
   "source": [
    "### Grid search"
   ]
  },
  {
   "cell_type": "markdown",
   "id": "abcbcb33-75d0-4a67-aeed-9dbc7c8a08eb",
   "metadata": {},
   "source": [
    "We will consider 3 machine learning models and 3 gradient boosting models. In addition, we will experiment with the transformer for direct text classification. Hence, the following models will be considered:\n",
    "\n",
    "1. `DecisionTreeClassifier`\n",
    "2. `RandomForestClassifier`\n",
    "3. `KNeighborsClassifier`\n",
    "4. `CatBoostClassifier`\n",
    "5. `XGBClassifier`\n",
    "6. `LGBMClassifier`\n",
    "7. `AutoModelForSequenceClassification`"
   ]
  },
  {
   "cell_type": "markdown",
   "id": "9973dd9e-cfb4-4f9d-8e66-39281b13a766",
   "metadata": {},
   "source": [
    "#### `DecisionTree`"
   ]
  },
  {
   "cell_type": "code",
   "execution_count": 22,
   "id": "92bf99d0-bab6-4feb-978e-3da77f619450",
   "metadata": {},
   "outputs": [
    {
     "name": "stdout",
     "output_type": "stream",
     "text": [
      "{'decisiontreeclassifier__max_depth': array([1, 2, 3, 4, 5, 6, 7, 8, 9])}\n"
     ]
    }
   ],
   "source": [
    "dt_model = DecisionTreeClassifier(random_state=RANDOM_STATE)\n",
    "dt_pipeline, dt_grid = prepare_tuning(model=dt_model, max_depth=np.arange(1, 10))\n",
    "pp.pprint(dt_grid)"
   ]
  },
  {
   "cell_type": "code",
   "execution_count": 23,
   "id": "954d3120-5f71-479e-b0f6-b5d801cb0524",
   "metadata": {},
   "outputs": [
    {
     "name": "stdout",
     "output_type": "stream",
     "text": [
      "Fitting 2 folds for each of 5 candidates, totalling 10 fits\n",
      "[CV 1/2] END decisiontreeclassifier__max_depth=4;, score=(train=1.000, test=0.877) total time=   0.1s\n",
      "[CV 2/2] END decisiontreeclassifier__max_depth=4;, score=(train=1.000, test=0.897) total time=   0.1s\n",
      "[CV 1/2] END decisiontreeclassifier__max_depth=1;, score=(train=0.947, test=0.897) total time=   0.0s\n",
      "[CV 2/2] END decisiontreeclassifier__max_depth=1;, score=(train=0.938, test=0.869) total time=   0.0s\n",
      "[CV 1/2] END decisiontreeclassifier__max_depth=9;, score=(train=1.000, test=0.877) total time=   0.1s\n",
      "[CV 2/2] END decisiontreeclassifier__max_depth=9;, score=(train=1.000, test=0.897) total time=   0.1s\n",
      "[CV 1/2] END decisiontreeclassifier__max_depth=7;, score=(train=1.000, test=0.877) total time=   0.1s\n",
      "[CV 2/2] END decisiontreeclassifier__max_depth=7;, score=(train=1.000, test=0.897) total time=   0.1s\n",
      "[CV 1/2] END decisiontreeclassifier__max_depth=5;, score=(train=1.000, test=0.877) total time=   0.1s\n",
      "[CV 2/2] END decisiontreeclassifier__max_depth=5;, score=(train=1.000, test=0.897) total time=   0.1s\n",
      "Fitting done\n"
     ]
    }
   ],
   "source": [
    "dt_grid_search = RandomizedClassificationHyperopt(\n",
    "    estimator=dt_pipeline,\n",
    "    param_distributions=dt_grid,\n",
    "    train_dataset=(features_train, target_train),\n",
    "    eval_dataset=(features_test, target_test),\n",
    ")\n",
    "dt_grid_search.train_crossvalidate()"
   ]
  },
  {
   "cell_type": "markdown",
   "id": "2219a605-da38-4870-9866-6f4e49874c3e",
   "metadata": {},
   "source": [
    "#### `RandomForest`"
   ]
  },
  {
   "cell_type": "code",
   "execution_count": 24,
   "id": "eb1de447-0b7d-4ed0-a3dc-5bb602d4a51b",
   "metadata": {},
   "outputs": [
    {
     "name": "stdout",
     "output_type": "stream",
     "text": [
      "{'randomforestclassifier__max_depth': array([1, 2, 3, 4]),\n",
      " 'randomforestclassifier__n_estimators': array([10, 20, 30, 40, 50, 60, 70, 80, 90])}\n"
     ]
    }
   ],
   "source": [
    "rf_model = RandomForestClassifier(random_state=RANDOM_STATE)\n",
    "rf_pipeline, rf_grid = prepare_tuning(model=rf_model, max_depth=np.arange(1, 5), n_estimators=np.arange(10, 100, 10))\n",
    "pp.pprint(rf_grid)"
   ]
  },
  {
   "cell_type": "code",
   "execution_count": 25,
   "id": "dbe43a44-855c-4fef-bea8-021f1768a021",
   "metadata": {},
   "outputs": [
    {
     "name": "stdout",
     "output_type": "stream",
     "text": [
      "Fitting 2 folds for each of 5 candidates, totalling 10 fits\n",
      "[CV 1/2] END randomforestclassifier__max_depth=1, randomforestclassifier__n_estimators=60;, score=(train=0.918, test=0.927) total time=   0.2s\n",
      "[CV 2/2] END randomforestclassifier__max_depth=1, randomforestclassifier__n_estimators=60;, score=(train=0.927, test=0.889) total time=   0.2s\n",
      "[CV 1/2] END randomforestclassifier__max_depth=1, randomforestclassifier__n_estimators=30;, score=(train=0.947, test=0.927) total time=   0.1s\n",
      "[CV 2/2] END randomforestclassifier__max_depth=1, randomforestclassifier__n_estimators=30;, score=(train=0.927, test=0.898) total time=   0.1s\n",
      "[CV 1/2] END randomforestclassifier__max_depth=3, randomforestclassifier__n_estimators=40;, score=(train=1.000, test=0.935) total time=   0.2s\n",
      "[CV 2/2] END randomforestclassifier__max_depth=3, randomforestclassifier__n_estimators=40;, score=(train=0.962, test=0.936) total time=   0.2s\n",
      "[CV 1/2] END randomforestclassifier__max_depth=3, randomforestclassifier__n_estimators=80;, score=(train=1.000, test=0.949) total time=   0.5s\n",
      "[CV 2/2] END randomforestclassifier__max_depth=3, randomforestclassifier__n_estimators=80;, score=(train=0.974, test=0.936) total time=   0.5s\n",
      "[CV 1/2] END randomforestclassifier__max_depth=4, randomforestclassifier__n_estimators=20;, score=(train=1.000, test=0.935) total time=   0.1s\n",
      "[CV 2/2] END randomforestclassifier__max_depth=4, randomforestclassifier__n_estimators=20;, score=(train=0.987, test=0.936) total time=   0.1s\n",
      "Fitting done\n"
     ]
    }
   ],
   "source": [
    "rf_grid_search = RandomizedClassificationHyperopt(\n",
    "    estimator=rf_pipeline,\n",
    "    param_distributions=rf_grid,\n",
    "    train_dataset=(features_train, target_train),\n",
    "    eval_dataset=(features_test, target_test),\n",
    ")\n",
    "rf_grid_search.train_crossvalidate()"
   ]
  },
  {
   "cell_type": "markdown",
   "id": "9c5741ed-527f-49f0-981b-9867a51e6ad9",
   "metadata": {},
   "source": [
    "#### `KNN`"
   ]
  },
  {
   "cell_type": "code",
   "execution_count": 26,
   "id": "1d53ff80-43a1-4685-ade3-38b4934fa03f",
   "metadata": {},
   "outputs": [
    {
     "name": "stdout",
     "output_type": "stream",
     "text": [
      "{'kneighborsclassifier__n_neighbors': array([2, 3, 4, 5, 6, 7, 8]),\n",
      " 'kneighborsclassifier__weights': ['uniform', 'distance']}\n"
     ]
    }
   ],
   "source": [
    "knn_model = KNeighborsClassifier()\n",
    "knn_pipeline, knn_grid = prepare_tuning(\n",
    "    model=knn_model, n_neighbors=np.arange(2, 9), weights=[\"uniform\", \"distance\"]\n",
    ")\n",
    "pp.pprint(knn_grid)"
   ]
  },
  {
   "cell_type": "code",
   "execution_count": 27,
   "id": "43516023-3b56-4095-9c12-c169c3ce302c",
   "metadata": {},
   "outputs": [
    {
     "name": "stdout",
     "output_type": "stream",
     "text": [
      "Fitting 2 folds for each of 5 candidates, totalling 10 fits\n",
      "[CV 1/2] END kneighborsclassifier__n_neighbors=2, kneighborsclassifier__weights=uniform;, score=(train=1.000, test=0.909) total time=   0.0s\n",
      "[CV 2/2] END kneighborsclassifier__n_neighbors=2, kneighborsclassifier__weights=uniform;, score=(train=1.000, test=0.926) total time=   0.0s\n",
      "[CV 1/2] END kneighborsclassifier__n_neighbors=7, kneighborsclassifier__weights=uniform;, score=(train=0.900, test=0.900) total time=   0.0s\n",
      "[CV 2/2] END kneighborsclassifier__n_neighbors=7, kneighborsclassifier__weights=uniform;, score=(train=0.905, test=0.889) total time=   0.0s\n",
      "[CV 1/2] END kneighborsclassifier__n_neighbors=5, kneighborsclassifier__weights=distance;, score=(train=1.000, test=0.911) total time=   0.0s\n",
      "[CV 2/2] END kneighborsclassifier__n_neighbors=5, kneighborsclassifier__weights=distance;, score=(train=1.000, test=0.889) total time=   0.0s\n",
      "[CV 1/2] END kneighborsclassifier__n_neighbors=3, kneighborsclassifier__weights=distance;, score=(train=1.000, test=0.925) total time=   0.0s\n",
      "[CV 2/2] END kneighborsclassifier__n_neighbors=3, kneighborsclassifier__weights=distance;, score=(train=1.000, test=0.889) total time=   0.0s\n",
      "[CV 1/2] END kneighborsclassifier__n_neighbors=5, kneighborsclassifier__weights=uniform;, score=(train=0.918, test=0.911) total time=   0.0s\n",
      "[CV 2/2] END kneighborsclassifier__n_neighbors=5, kneighborsclassifier__weights=uniform;, score=(train=0.905, test=0.889) total time=   0.0s\n",
      "Fitting done\n"
     ]
    }
   ],
   "source": [
    "knn_grid_search = RandomizedClassificationHyperopt(\n",
    "    estimator=knn_pipeline,\n",
    "    param_distributions=knn_grid,\n",
    "    train_dataset=(features_train, target_train),\n",
    "    eval_dataset=(features_test, target_test),\n",
    ")\n",
    "knn_grid_search.train_crossvalidate()"
   ]
  },
  {
   "cell_type": "markdown",
   "id": "408b58d4-7423-480e-8f0a-452d5290eb45",
   "metadata": {},
   "source": [
    "#### `CatBoost`"
   ]
  },
  {
   "cell_type": "code",
   "execution_count": 28,
   "id": "691d3cac-e122-462f-8984-9956ff36811f",
   "metadata": {},
   "outputs": [
    {
     "name": "stdout",
     "output_type": "stream",
     "text": [
      "{'catboostclassifier__learning_rate': array([0.1, 0.2, 0.3, 0.4, 0.5, 0.6, 0.7, 0.8, 0.9]),\n",
      " 'catboostclassifier__max_depth': array([1, 2, 3, 4]),\n",
      " 'catboostclassifier__n_estimators': array([10, 20, 30, 40, 50, 60, 70, 80, 90])}\n"
     ]
    }
   ],
   "source": [
    "cb_model = CatBoostClassifier(verbose=0)\n",
    "cb_pipeline, cb_grid = prepare_tuning(\n",
    "    model=cb_model,\n",
    "    max_depth=np.arange(1, 5),\n",
    "    n_estimators=np.arange(10, 100, 10),\n",
    "    learning_rate=np.arange(0.1, 1.0, 0.1),\n",
    ")\n",
    "pp.pprint(cb_grid)"
   ]
  },
  {
   "cell_type": "code",
   "execution_count": 29,
   "id": "8e63fd10-a591-4716-a00c-2724daf59314",
   "metadata": {},
   "outputs": [
    {
     "name": "stdout",
     "output_type": "stream",
     "text": [
      "Fitting 2 folds for each of 5 candidates, totalling 10 fits\n",
      "[CV 1/2] END catboostclassifier__learning_rate=0.8, catboostclassifier__max_depth=2, catboostclassifier__n_estimators=40;, score=(train=1.000, test=0.843) total time=   1.0s\n",
      "[CV 2/2] END catboostclassifier__learning_rate=0.8, catboostclassifier__max_depth=2, catboostclassifier__n_estimators=40;, score=(train=1.000, test=0.876) total time=   0.7s\n",
      "[CV 1/2] END catboostclassifier__learning_rate=0.6, catboostclassifier__max_depth=1, catboostclassifier__n_estimators=20;, score=(train=1.000, test=0.833) total time=   0.3s\n",
      "[CV 2/2] END catboostclassifier__learning_rate=0.6, catboostclassifier__max_depth=1, catboostclassifier__n_estimators=20;, score=(train=1.000, test=0.920) total time=   0.2s\n",
      "[CV 1/2] END catboostclassifier__learning_rate=0.1, catboostclassifier__max_depth=4, catboostclassifier__n_estimators=70;, score=(train=1.000, test=0.925) total time=   3.3s\n",
      "[CV 2/2] END catboostclassifier__learning_rate=0.1, catboostclassifier__max_depth=4, catboostclassifier__n_estimators=70;, score=(train=1.000, test=0.905) total time=   3.3s\n",
      "[CV 1/2] END catboostclassifier__learning_rate=0.5, catboostclassifier__max_depth=3, catboostclassifier__n_estimators=40;, score=(train=1.000, test=0.900) total time=   1.2s\n",
      "[CV 2/2] END catboostclassifier__learning_rate=0.5, catboostclassifier__max_depth=3, catboostclassifier__n_estimators=40;, score=(train=1.000, test=0.930) total time=   1.2s\n",
      "[CV 1/2] END catboostclassifier__learning_rate=0.6, catboostclassifier__max_depth=1, catboostclassifier__n_estimators=40;, score=(train=1.000, test=0.925) total time=   0.4s\n",
      "[CV 2/2] END catboostclassifier__learning_rate=0.6, catboostclassifier__max_depth=1, catboostclassifier__n_estimators=40;, score=(train=1.000, test=0.932) total time=   0.4s\n",
      "Fitting done\n"
     ]
    }
   ],
   "source": [
    "cb_grid_search = RandomizedClassificationHyperopt(\n",
    "    estimator=cb_pipeline,\n",
    "    param_distributions=cb_grid,\n",
    "    train_dataset=(features_train, target_train),\n",
    "    eval_dataset=(features_test, target_test),\n",
    ")\n",
    "cb_grid_search.train_crossvalidate()"
   ]
  },
  {
   "cell_type": "markdown",
   "id": "9bdfec7a-9f83-4d01-b6d5-8d86432394eb",
   "metadata": {},
   "source": [
    "#### `XGBoost`"
   ]
  },
  {
   "cell_type": "code",
   "execution_count": 30,
   "id": "bbd439e4-8dd4-49df-93a0-661badc4bc88",
   "metadata": {},
   "outputs": [
    {
     "name": "stdout",
     "output_type": "stream",
     "text": [
      "{'xgbclassifier__learning_rate': array([0.1, 0.2, 0.3, 0.4, 0.5, 0.6, 0.7, 0.8, 0.9]),\n",
      " 'xgbclassifier__max_depth': array([1, 2, 3, 4]),\n",
      " 'xgbclassifier__n_estimators': array([10, 20, 30, 40, 50, 60, 70, 80, 90])}\n"
     ]
    }
   ],
   "source": [
    "xgb_model = XGBClassifier()\n",
    "xgb_pipeline, xgb_grid = prepare_tuning(\n",
    "    model=xgb_model,\n",
    "    max_depth=np.arange(1, 5),\n",
    "    n_estimators=np.arange(10, 100, 10),\n",
    "    learning_rate=np.arange(0.1, 1.0, 0.1),\n",
    ")\n",
    "pp.pprint(xgb_grid)"
   ]
  },
  {
   "cell_type": "code",
   "execution_count": 31,
   "id": "1ad2cdd6-616f-456e-bd3d-490f889d2fab",
   "metadata": {},
   "outputs": [
    {
     "name": "stdout",
     "output_type": "stream",
     "text": [
      "Fitting 2 folds for each of 5 candidates, totalling 10 fits\n",
      "[CV 1/2] END xgbclassifier__learning_rate=0.8, xgbclassifier__max_depth=2, xgbclassifier__n_estimators=40;, score=(train=1.000, test=0.921) total time=   0.1s\n",
      "[CV 2/2] END xgbclassifier__learning_rate=0.8, xgbclassifier__max_depth=2, xgbclassifier__n_estimators=40;, score=(train=1.000, test=0.923) total time=   0.1s\n",
      "[CV 1/2] END xgbclassifier__learning_rate=0.6, xgbclassifier__max_depth=1, xgbclassifier__n_estimators=20;, score=(train=1.000, test=0.909) total time=   0.1s\n",
      "[CV 2/2] END xgbclassifier__learning_rate=0.6, xgbclassifier__max_depth=1, xgbclassifier__n_estimators=20;, score=(train=1.000, test=0.925) total time=   0.1s\n",
      "[CV 1/2] END xgbclassifier__learning_rate=0.1, xgbclassifier__max_depth=4, xgbclassifier__n_estimators=70;, score=(train=1.000, test=0.909) total time=   0.9s\n",
      "[CV 2/2] END xgbclassifier__learning_rate=0.1, xgbclassifier__max_depth=4, xgbclassifier__n_estimators=70;, score=(train=1.000, test=0.915) total time=   0.9s\n",
      "[CV 1/2] END xgbclassifier__learning_rate=0.5, xgbclassifier__max_depth=3, xgbclassifier__n_estimators=40;, score=(train=1.000, test=0.935) total time=   0.2s\n",
      "[CV 2/2] END xgbclassifier__learning_rate=0.5, xgbclassifier__max_depth=3, xgbclassifier__n_estimators=40;, score=(train=1.000, test=0.917) total time=   0.2s\n",
      "[CV 1/2] END xgbclassifier__learning_rate=0.6, xgbclassifier__max_depth=1, xgbclassifier__n_estimators=40;, score=(train=1.000, test=0.909) total time=   0.1s\n",
      "[CV 2/2] END xgbclassifier__learning_rate=0.6, xgbclassifier__max_depth=1, xgbclassifier__n_estimators=40;, score=(train=1.000, test=0.925) total time=   0.1s\n",
      "Fitting done\n"
     ]
    }
   ],
   "source": [
    "xgb_grid_search = RandomizedClassificationHyperopt(\n",
    "    estimator=xgb_pipeline,\n",
    "    param_distributions=xgb_grid,\n",
    "    train_dataset=(features_train, target_train),\n",
    "    eval_dataset=(features_test, target_test),\n",
    ")\n",
    "xgb_grid_search.train_crossvalidate()"
   ]
  },
  {
   "cell_type": "markdown",
   "id": "26121b17-556a-40ba-8fdb-2036c3554cc6",
   "metadata": {},
   "source": [
    "#### `LightGBM`"
   ]
  },
  {
   "cell_type": "code",
   "execution_count": 32,
   "id": "794593e5-9587-434d-862e-2126cc3d1dd7",
   "metadata": {},
   "outputs": [
    {
     "name": "stdout",
     "output_type": "stream",
     "text": [
      "{'lgbmclassifier__learning_rate': array([0.1, 0.2, 0.3, 0.4, 0.5, 0.6, 0.7, 0.8, 0.9]),\n",
      " 'lgbmclassifier__max_depth': array([1, 2, 3, 4, 5]),\n",
      " 'lgbmclassifier__n_estimators': array([10, 20, 30, 40, 50, 60, 70, 80, 90])}\n"
     ]
    }
   ],
   "source": [
    "lgbm_model = LGBMClassifier()\n",
    "lgbm_pipeline, lgbm_grid = prepare_tuning(\n",
    "    model=lgbm_model,\n",
    "    max_depth=np.arange(1, 6),\n",
    "    n_estimators=np.arange(10, 100, 10),\n",
    "    learning_rate=np.arange(0.1, 1.0, 0.1),\n",
    ")\n",
    "pp.pprint(lgbm_grid)"
   ]
  },
  {
   "cell_type": "code",
   "execution_count": 33,
   "id": "99749473-755c-4cb5-91ca-0ac3ea549450",
   "metadata": {},
   "outputs": [
    {
     "name": "stdout",
     "output_type": "stream",
     "text": [
      "Fitting 2 folds for each of 5 candidates, totalling 10 fits\n",
      "[CV 1/2] END lgbmclassifier__learning_rate=0.2, lgbmclassifier__max_depth=5, lgbmclassifier__n_estimators=70;, score=(train=1.000, test=0.897) total time=   0.7s\n",
      "[CV 2/2] END lgbmclassifier__learning_rate=0.2, lgbmclassifier__max_depth=5, lgbmclassifier__n_estimators=70;, score=(train=1.000, test=0.897) total time=   0.5s\n",
      "[CV 1/2] END lgbmclassifier__learning_rate=0.5, lgbmclassifier__max_depth=4, lgbmclassifier__n_estimators=30;, score=(train=1.000, test=0.857) total time=   0.2s\n",
      "[CV 2/2] END lgbmclassifier__learning_rate=0.5, lgbmclassifier__max_depth=4, lgbmclassifier__n_estimators=30;, score=(train=1.000, test=0.897) total time=   0.3s\n",
      "[CV 1/2] END lgbmclassifier__learning_rate=0.5, lgbmclassifier__max_depth=2, lgbmclassifier__n_estimators=20;, score=(train=1.000, test=0.872) total time=   0.1s\n",
      "[CV 2/2] END lgbmclassifier__learning_rate=0.5, lgbmclassifier__max_depth=2, lgbmclassifier__n_estimators=20;, score=(train=1.000, test=0.897) total time=   0.1s\n",
      "[CV 1/2] END lgbmclassifier__learning_rate=0.4, lgbmclassifier__max_depth=4, lgbmclassifier__n_estimators=30;, score=(train=1.000, test=0.895) total time=   0.2s\n",
      "[CV 2/2] END lgbmclassifier__learning_rate=0.4, lgbmclassifier__max_depth=4, lgbmclassifier__n_estimators=30;, score=(train=1.000, test=0.884) total time=   0.2s\n",
      "[CV 1/2] END lgbmclassifier__learning_rate=0.5, lgbmclassifier__max_depth=4, lgbmclassifier__n_estimators=90;, score=(train=1.000, test=0.857) total time=   0.2s\n",
      "[CV 2/2] END lgbmclassifier__learning_rate=0.5, lgbmclassifier__max_depth=4, lgbmclassifier__n_estimators=90;, score=(train=1.000, test=0.897) total time=   0.3s\n",
      "Fitting done\n"
     ]
    }
   ],
   "source": [
    "lgbm_grid_search = RandomizedClassificationHyperopt(\n",
    "    estimator=lgbm_pipeline,\n",
    "    param_distributions=lgbm_grid,\n",
    "    train_dataset=(features_train, target_train),\n",
    "    eval_dataset=(features_test, target_test),\n",
    ")\n",
    "lgbm_grid_search.train_crossvalidate()"
   ]
  },
  {
   "cell_type": "markdown",
   "id": "f431c8e3-0fb9-4809-89b8-a3bb4d75dbc2",
   "metadata": {},
   "source": [
    "#### `SequenceClassification`"
   ]
  },
  {
   "cell_type": "code",
   "execution_count": 34,
   "id": "900b25f5-6239-43a0-b875-40affd3d2c4d",
   "metadata": {},
   "outputs": [
    {
     "data": {
      "application/vnd.jupyter.widget-view+json": {
       "model_id": "248ee68a0d8747e29fc22719ab46fb64",
       "version_major": 2,
       "version_minor": 0
      },
      "text/plain": [
       "  0%|          | 0/250 [00:00<?, ?it/s]"
      ]
     },
     "metadata": {},
     "output_type": "display_data"
    }
   ],
   "source": [
    "model_path = \"martin-ha/toxic-comment-model\"\n",
    "tokenizer = transformers.AutoTokenizer.from_pretrained(model_path)\n",
    "model = transformers.AutoModelForSequenceClassification.from_pretrained(model_path)\n",
    "\n",
    "text_pipeline = transformers.TextClassificationPipeline(\n",
    "    model=model, tokenizer=tokenizer\n",
    ")\n",
    "\n",
    "predictions_text = []\n",
    "for text in notebook.tqdm(test_text):\n",
    "    prediction_text = text_pipeline(text[:MAX_LENGTH])\n",
    "    predictions_text.append(1 if prediction_text[0][\"label\"] == \"toxic\" else 0)\n",
    "\n",
    "text_classification_f1_score = f1_score(target_test, predictions_text)"
   ]
  },
  {
   "cell_type": "markdown",
   "id": "02a2d35e-ca61-4e27-bb96-203ffb1a895e",
   "metadata": {},
   "source": [
    "**Summary**\n",
    "\n",
    "In this section, we have trained a number of different models with different hyperparameters."
   ]
  },
  {
   "cell_type": "markdown",
   "id": "b8a8cb40-7e46-4bc2-b6d4-d0c16aaad266",
   "metadata": {},
   "source": [
    "## Models analysis"
   ]
  },
  {
   "cell_type": "code",
   "execution_count": 35,
   "id": "6fad01d6-b744-4b5b-bf15-48c82d8bd94b",
   "metadata": {},
   "outputs": [
    {
     "data": {
      "image/png": "[encoded data removed]",
      "text/plain": [
       "<Figure size 1500x700 with 1 Axes>"
      ]
     },
     "metadata": {},
     "output_type": "display_data"
    }
   ],
   "source": [
    "results = [\n",
    "    (\"Decision Tree\", dt_grid_search.best_score_),\n",
    "    (\"Random Forest\", rf_grid_search.best_score_),\n",
    "    (\"KNN\", knn_grid_search.best_score_),\n",
    "    (\"CatBoost\", cb_grid_search.best_score_),\n",
    "    (\"XGBoost\", xgb_grid_search.best_score_),\n",
    "    (\"LightGBM\", lgbm_grid_search.best_score_),\n",
    "    (\"TextPipeline\", text_classification_f1_score),\n",
    "]\n",
    "\n",
    "names, scores = zip(*results)\n",
    "names_with_scores = [\"%s\\n%.4f\" % (name, loss) for name, loss in results]\n",
    "\n",
    "plt.figure(figsize=(15, 7))\n",
    "plt.scatter(range(len(results)), scores, s=150)\n",
    "plt.xticks(range(len(results)), names_with_scores, fontsize=15)\n",
    "plt.yticks(fontsize=12)\n",
    "plt.title(\"Cross-validation results\", fontsize=20)\n",
    "plt.ylabel(\"F1-score\", fontsize=15)\n",
    "plt.tight_layout()\n",
    "plt.show()"
   ]
  },
  {
   "cell_type": "markdown",
   "id": "dafdf9dd-c9ca-46d7-8fae-b0a25822a76f",
   "metadata": {},
   "source": [
    "## Quality and sanity check"
   ]
  },
  {
   "cell_type": "code",
   "execution_count": 36,
   "id": "17c0d96b-b85a-45f8-85de-101e3835fcc6",
   "metadata": {},
   "outputs": [],
   "source": [
    "# Selecting the optimal model\n",
    "final_model = rf_grid_search"
   ]
  },
  {
   "cell_type": "code",
   "execution_count": 37,
   "id": "9cb8f391-9544-421c-aa3f-f9af8c935a2c",
   "metadata": {},
   "outputs": [
    {
     "name": "stdout",
     "output_type": "stream",
     "text": [
      "QUALITY CHECK: PASSED\n",
      "SANITY CHECK: PASSED\n"
     ]
    }
   ],
   "source": [
    "# Computing classification statistics\n",
    "final_model_f1_score = final_model.compute_classification_stats(metric=\"f1-score\")\n",
    "final_model_roc_auc = final_model.compute_classification_stats(metric=\"roc-auc\")\n",
    "final_model_recall = final_model.compute_classification_stats(metric=\"recall\")\n",
    "final_model_precision = final_model.compute_classification_stats(metric=\"precision\")\n",
    "\n",
    "# Fitting dummy model\n",
    "dummy_model = DummyClassifier(strategy=\"constant\", constant=1)\n",
    "dummy_model.fit(features_train, target_train)\n",
    "dummy_predictions = dummy_model.predict(features_test)\n",
    "dummy_model_f1_score = f1_score(target_test, dummy_predictions)\n",
    "\n",
    "# Quality check\n",
    "assert (\n",
    "    final_model_f1_score >= F1_SCORE_THRESHOLD\n",
    "), \"The model performance is unsatisfactory\"\n",
    "print(\"QUALITY CHECK: PASSED\")\n",
    "\n",
    "# Sanity check\n",
    "assert (final_model_roc_auc > ROC_AUC_THRESHOLD) & (\n",
    "    final_model_f1_score > dummy_model_f1_score\n",
    "), \"The model is inadequate\"\n",
    "print(\"SANITY CHECK: PASSED\")"
   ]
  },
  {
   "cell_type": "markdown",
   "id": "a64902b8-53ec-45dc-bd29-328416f42961",
   "metadata": {},
   "source": [
    "## Final model analysis"
   ]
  },
  {
   "cell_type": "markdown",
   "id": "1facdbfc-82e7-4cef-9291-d8d887012c70",
   "metadata": {},
   "source": [
    "### Classification statistics"
   ]
  },
  {
   "cell_type": "code",
   "execution_count": 38,
   "id": "5122c45a-dd44-4a21-94ae-1e77fb0eaaf6",
   "metadata": {},
   "outputs": [
    {
     "name": "stdout",
     "output_type": "stream",
     "text": [
      "              precision    recall  f1-score   support\n",
      "\n",
      "    positive       1.00      1.00      1.00       223\n",
      "       toxic       0.96      0.96      0.96        27\n",
      "\n",
      "    accuracy                           0.99       250\n",
      "   macro avg       0.98      0.98      0.98       250\n",
      "weighted avg       0.99      0.99      0.99       250\n",
      "\n",
      "Hyperparameters: {'randomforestclassifier__n_estimators': 80, 'randomforestclassifier__max_depth': 3}\n",
      "F1-score: 0.9630\n",
      "ROC_AUC: 0.9965\n",
      "Recall: 0.9630\n",
      "Precision: 0.9630\n"
     ]
    }
   ],
   "source": [
    "final_model.compute_classification_stats()\n",
    "print(f\"Hyperparameters: {final_model.best_params_}\")\n",
    "print(f\"F1-score: {final_model_f1_score:.4f}\")\n",
    "print(f\"ROC_AUC: {final_model_roc_auc:.4f}\")\n",
    "print(f\"Recall: {final_model_recall:.4f}\")\n",
    "print(f\"Precision: {final_model_precision:.4f}\")"
   ]
  },
  {
   "cell_type": "markdown",
   "id": "a42cc4c7-c1c1-48e8-9fcf-b3d2b5975b5f",
   "metadata": {},
   "source": [
    "<table>\n",
    "<thead>\n",
    "<tr><th>Item</th><th>Description</th></tr>\n",
    "</thead>\n",
    "<tbody>\n",
    "    <tr><td><b>Final model</b></td><td><i>Random Forest</i></td></tr>\n",
    "    <tr><td><b>Hyperparameters</b></td><td><i>80 trees, depth 3</i></td></tr>\n",
    "    <tr><td><b>F1-score</b></td><td><i>96.3%</i></td></tr>\n",
    "    <tr><td><b>ROC_AUC</b></td><td><i>99.65%</i></td></tr>\n",
    "    <tr><td><b>Recall</b></td><td><i>Model correctly detects 96.3% of all toxic commentaries</i></td></tr>\n",
    "    <tr><td><b>Precision</b></td><td><i>Model correctly detected 96.3% of truly toxic commentaries</i></td></tr>\n",
    "</tbody>\n",
    "</table>"
   ]
  },
  {
   "cell_type": "markdown",
   "id": "76a54cb1-e294-48e0-b12b-3f9c1ae45f21",
   "metadata": {},
   "source": [
    "### Confusion matrix"
   ]
  },
  {
   "cell_type": "code",
   "execution_count": 39,
   "id": "4c1fb225-a71d-4261-b35b-2c9318948abe",
   "metadata": {},
   "outputs": [
    {
     "data": {
      "image/png": "[encoded data removed]",
      "text/plain": [
       "<Figure size 640x480 with 2 Axes>"
      ]
     },
     "metadata": {},
     "output_type": "display_data"
    },
    {
     "data": {
      "text/plain": [
       "0    223\n",
       "1     27\n",
       "Name: toxic, dtype: int64"
      ]
     },
     "execution_count": 39,
     "metadata": {},
     "output_type": "execute_result"
    }
   ],
   "source": [
    "final_model.plot_confusion_matrix()\n",
    "target_test.value_counts()"
   ]
  },
  {
   "cell_type": "markdown",
   "id": "e6c0b75a-a0a4-4313-8e32-6c1d10c3f2f9",
   "metadata": {},
   "source": [
    "## Final conclusion"
   ]
  },
  {
   "cell_type": "markdown",
   "id": "43d7bfef-b09e-4f9e-bbcd-23a0ef4b330a",
   "metadata": {},
   "source": [
    "This project was devoted to the task of textual classification and determination of the toxicity of comments. During the execution of the project, the data was studied and encoded using embeddings. The subsequent procedure of selecting hyperparameters for a number of machine learning and gradient boosting models showed the success of the *Random Forest* model, which not only has the required quality, but is also adequate enough, which was noticeable by the high values of the *F1* and *AUC_ROC* metrics."
   ]
  }
 ],
 "metadata": {
  "kernelspec": {
   "display_name": "Python 3 (ipykernel)",
   "language": "python",
   "name": "python3"
  },
  "language_info": {
   "codemirror_mode": {
    "name": "ipython",
    "version": 3
   },
   "file_extension": ".py",
   "mimetype": "text/x-python",
   "name": "python",
   "nbconvert_exporter": "python",
   "pygments_lexer": "ipython3",
   "version": "3.9.13"
  }
 },
 "nbformat": 4,
 "nbformat_minor": 5
}
