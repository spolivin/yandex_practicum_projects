{
 "cells": [
  {
   "cell_type": "markdown",
   "id": "24ca0a8e-0129-4b51-97ea-4c0f05731fa8",
   "metadata": {
    "tags": []
   },
   "source": [
    "# Uploading dataset"
   ]
  },
  {
   "cell_type": "code",
   "execution_count": 1,
   "id": "0a8a2b3e-a6d8-4a5e-a9ba-3defe8cfa281",
   "metadata": {},
   "outputs": [],
   "source": [
    "import itertools\n",
    "import time\n",
    "from typing import Any, Iterable, Mapping, Optional, Sequence, Tuple, Union\n",
    "\n",
    "import matplotlib.pyplot as plt\n",
    "import numpy as np\n",
    "import pandas as pd\n",
    "import seaborn as sns\n",
    "from catboost import CatBoostRegressor\n",
    "from IPython.display import display\n",
    "from lightgbm import LGBMRegressor\n",
    "from sklearn.base import BaseEstimator, TransformerMixin\n",
    "from sklearn.dummy import DummyRegressor\n",
    "from sklearn.ensemble import RandomForestRegressor\n",
    "from sklearn.exceptions import NotFittedError\n",
    "from sklearn.metrics import mean_absolute_error, mean_squared_error\n",
    "from sklearn.model_selection import (\n",
    "    RandomizedSearchCV,\n",
    "    TimeSeriesSplit,\n",
    "    train_test_split,\n",
    ")\n",
    "from sklearn.tree import DecisionTreeRegressor\n",
    "from statsmodels.tsa.seasonal import seasonal_decompose\n",
    "from xgboost import XGBRegressor\n",
    "\n",
    "# Constants\n",
    "RANDOM_STATE = 12345\n",
    "RMSE_THRESHOLD = 48\n",
    "TRAIN_SET_SHARE = 0.9\n",
    "TEST_SET_SHARE = 0.1\n",
    "CV_FOLDS = 5\n",
    "N_ITER = 14\n",
    "SCORER = \"neg_root_mean_squared_error\"\n",
    "\n",
    "# Setting visuals\n",
    "sns.set_theme()"
   ]
  },
  {
   "cell_type": "markdown",
   "id": "3653de4b-628f-4e78-9ea3-ea48c1e71a58",
   "metadata": {},
   "source": [
    "We have time series data so we should specify a column with dates as index of the DataFrame, which we will also have to sort in order to be time-consistent."
   ]
  },
  {
   "cell_type": "code",
   "execution_count": 2,
   "id": "9506fb9d-0ec6-4a6e-9c21-bc86f377407b",
   "metadata": {},
   "outputs": [
    {
     "data": {
      "text/plain": [
       "True"
      ]
     },
     "execution_count": 2,
     "metadata": {},
     "output_type": "execute_result"
    }
   ],
   "source": [
    "taxi_data = pd.read_csv(\"datasets/taxi.csv\", parse_dates=[0], index_col=[0])\n",
    "\n",
    "taxi_data.sort_index(inplace=True)\n",
    "\n",
    "taxi_data.index.is_monotonic == True"
   ]
  },
  {
   "cell_type": "code",
   "execution_count": 3,
   "id": "8402d558-cd8c-4449-b6f8-a306dfd5f034",
   "metadata": {},
   "outputs": [
    {
     "data": {
      "text/html": [
       "<div>\n",
       "<style scoped>\n",
       "    .dataframe tbody tr th:only-of-type {\n",
       "        vertical-align: middle;\n",
       "    }\n",
       "\n",
       "    .dataframe tbody tr th {\n",
       "        vertical-align: top;\n",
       "    }\n",
       "\n",
       "    .dataframe thead th {\n",
       "        text-align: right;\n",
       "    }\n",
       "</style>\n",
       "<table border=\"1\" class=\"dataframe\">\n",
       "  <thead>\n",
       "    <tr style=\"text-align: right;\">\n",
       "      <th></th>\n",
       "      <th>num_orders</th>\n",
       "    </tr>\n",
       "    <tr>\n",
       "      <th>datetime</th>\n",
       "      <th></th>\n",
       "    </tr>\n",
       "  </thead>\n",
       "  <tbody>\n",
       "    <tr>\n",
       "      <th>2018-03-01 00:00:00</th>\n",
       "      <td>9</td>\n",
       "    </tr>\n",
       "    <tr>\n",
       "      <th>2018-03-01 00:10:00</th>\n",
       "      <td>14</td>\n",
       "    </tr>\n",
       "    <tr>\n",
       "      <th>2018-03-01 00:20:00</th>\n",
       "      <td>28</td>\n",
       "    </tr>\n",
       "    <tr>\n",
       "      <th>2018-03-01 00:30:00</th>\n",
       "      <td>20</td>\n",
       "    </tr>\n",
       "    <tr>\n",
       "      <th>2018-03-01 00:40:00</th>\n",
       "      <td>32</td>\n",
       "    </tr>\n",
       "  </tbody>\n",
       "</table>\n",
       "</div>"
      ],
      "text/plain": [
       "                     num_orders\n",
       "datetime                       \n",
       "2018-03-01 00:00:00           9\n",
       "2018-03-01 00:10:00          14\n",
       "2018-03-01 00:20:00          28\n",
       "2018-03-01 00:30:00          20\n",
       "2018-03-01 00:40:00          32"
      ]
     },
     "metadata": {},
     "output_type": "display_data"
    }
   ],
   "source": [
    "display(taxi_data.head())"
   ]
  },
  {
   "cell_type": "code",
   "execution_count": 4,
   "id": "c6f12245-da81-4635-9676-15cdf3e6d9db",
   "metadata": {},
   "outputs": [
    {
     "data": {
      "text/html": [
       "<div>\n",
       "<style scoped>\n",
       "    .dataframe tbody tr th:only-of-type {\n",
       "        vertical-align: middle;\n",
       "    }\n",
       "\n",
       "    .dataframe tbody tr th {\n",
       "        vertical-align: top;\n",
       "    }\n",
       "\n",
       "    .dataframe thead th {\n",
       "        text-align: right;\n",
       "    }\n",
       "</style>\n",
       "<table border=\"1\" class=\"dataframe\">\n",
       "  <thead>\n",
       "    <tr style=\"text-align: right;\">\n",
       "      <th></th>\n",
       "      <th>num_orders</th>\n",
       "    </tr>\n",
       "    <tr>\n",
       "      <th>datetime</th>\n",
       "      <th></th>\n",
       "    </tr>\n",
       "  </thead>\n",
       "  <tbody>\n",
       "    <tr>\n",
       "      <th>2018-08-31 23:10:00</th>\n",
       "      <td>32</td>\n",
       "    </tr>\n",
       "    <tr>\n",
       "      <th>2018-08-31 23:20:00</th>\n",
       "      <td>24</td>\n",
       "    </tr>\n",
       "    <tr>\n",
       "      <th>2018-08-31 23:30:00</th>\n",
       "      <td>27</td>\n",
       "    </tr>\n",
       "    <tr>\n",
       "      <th>2018-08-31 23:40:00</th>\n",
       "      <td>39</td>\n",
       "    </tr>\n",
       "    <tr>\n",
       "      <th>2018-08-31 23:50:00</th>\n",
       "      <td>53</td>\n",
       "    </tr>\n",
       "  </tbody>\n",
       "</table>\n",
       "</div>"
      ],
      "text/plain": [
       "                     num_orders\n",
       "datetime                       \n",
       "2018-08-31 23:10:00          32\n",
       "2018-08-31 23:20:00          24\n",
       "2018-08-31 23:30:00          27\n",
       "2018-08-31 23:40:00          39\n",
       "2018-08-31 23:50:00          53"
      ]
     },
     "metadata": {},
     "output_type": "display_data"
    }
   ],
   "source": [
    "display(taxi_data.tail())"
   ]
  },
  {
   "cell_type": "markdown",
   "id": "73228810-f309-4871-8cb7-227850e4785e",
   "metadata": {},
   "source": [
    "For forecasting we will actually need to resample the data by one hour."
   ]
  },
  {
   "cell_type": "code",
   "execution_count": 5,
   "id": "b4da04f0-d727-4002-8db4-9d84fa786d74",
   "metadata": {},
   "outputs": [
    {
     "data": {
      "text/html": [
       "<div>\n",
       "<style scoped>\n",
       "    .dataframe tbody tr th:only-of-type {\n",
       "        vertical-align: middle;\n",
       "    }\n",
       "\n",
       "    .dataframe tbody tr th {\n",
       "        vertical-align: top;\n",
       "    }\n",
       "\n",
       "    .dataframe thead th {\n",
       "        text-align: right;\n",
       "    }\n",
       "</style>\n",
       "<table border=\"1\" class=\"dataframe\">\n",
       "  <thead>\n",
       "    <tr style=\"text-align: right;\">\n",
       "      <th></th>\n",
       "      <th>num_orders</th>\n",
       "    </tr>\n",
       "    <tr>\n",
       "      <th>datetime</th>\n",
       "      <th></th>\n",
       "    </tr>\n",
       "  </thead>\n",
       "  <tbody>\n",
       "    <tr>\n",
       "      <th>2018-03-01 00:00:00</th>\n",
       "      <td>124</td>\n",
       "    </tr>\n",
       "    <tr>\n",
       "      <th>2018-03-01 01:00:00</th>\n",
       "      <td>85</td>\n",
       "    </tr>\n",
       "    <tr>\n",
       "      <th>2018-03-01 02:00:00</th>\n",
       "      <td>71</td>\n",
       "    </tr>\n",
       "    <tr>\n",
       "      <th>2018-03-01 03:00:00</th>\n",
       "      <td>66</td>\n",
       "    </tr>\n",
       "    <tr>\n",
       "      <th>2018-03-01 04:00:00</th>\n",
       "      <td>43</td>\n",
       "    </tr>\n",
       "  </tbody>\n",
       "</table>\n",
       "</div>"
      ],
      "text/plain": [
       "                     num_orders\n",
       "datetime                       \n",
       "2018-03-01 00:00:00         124\n",
       "2018-03-01 01:00:00          85\n",
       "2018-03-01 02:00:00          71\n",
       "2018-03-01 03:00:00          66\n",
       "2018-03-01 04:00:00          43"
      ]
     },
     "metadata": {},
     "output_type": "display_data"
    }
   ],
   "source": [
    "periodicity = \"1H\"\n",
    "taxi_data_resampled = taxi_data.resample(periodicity).sum()\n",
    "\n",
    "display(taxi_data_resampled.head())"
   ]
  },
  {
   "cell_type": "markdown",
   "id": "c1581856-8949-4cf4-be15-feabee73f226",
   "metadata": {},
   "source": [
    "**Summary**\n",
    "\n",
    "This initial section enables us to set up all necessary libraries and load the data, which has been correctly saved in the DataFrame and resampled by 1 hour."
   ]
  },
  {
   "cell_type": "markdown",
   "id": "4ed8f5cf-c5f2-479f-8299-e3b15778f92e",
   "metadata": {},
   "source": [
    "# Data analysis"
   ]
  },
  {
   "cell_type": "code",
   "execution_count": 6,
   "id": "2dd6c9c3-bf0f-48e7-9ab8-b6ccde7f8ab4",
   "metadata": {},
   "outputs": [
    {
     "name": "stdout",
     "output_type": "stream",
     "text": [
      "<class 'pandas.core.frame.DataFrame'>\n",
      "DatetimeIndex: 4416 entries, 2018-03-01 00:00:00 to 2018-08-31 23:00:00\n",
      "Freq: H\n",
      "Data columns (total 1 columns):\n",
      " #   Column      Non-Null Count  Dtype\n",
      "---  ------      --------------  -----\n",
      " 0   num_orders  4416 non-null   int64\n",
      "dtypes: int64(1)\n",
      "memory usage: 69.0 KB\n"
     ]
    }
   ],
   "source": [
    "taxi_data_resampled.info()"
   ]
  },
  {
   "cell_type": "markdown",
   "id": "78496354-9d78-4b73-8b41-cea96eada060",
   "metadata": {},
   "source": [
    "There seem to be no missing values in the DataFrame containing only one `num_orders` column (number of taxi orders). Additionally, we can see data correctly resampled by hour and having `DatetimeIndex`. Now, let's look at how numbers of orders are distributed."
   ]
  },
  {
   "cell_type": "code",
   "execution_count": 7,
   "id": "9ef9b71b-fea8-4a59-8508-b54b24113a42",
   "metadata": {},
   "outputs": [
    {
     "data": {
      "image/png": "[encoded data removed]",
      "text/plain": [
       "<Figure size 640x480 with 1 Axes>"
      ]
     },
     "metadata": {},
     "output_type": "display_data"
    },
    {
     "data": {
      "text/html": [
       "<div>\n",
       "<style scoped>\n",
       "    .dataframe tbody tr th:only-of-type {\n",
       "        vertical-align: middle;\n",
       "    }\n",
       "\n",
       "    .dataframe tbody tr th {\n",
       "        vertical-align: top;\n",
       "    }\n",
       "\n",
       "    .dataframe thead th {\n",
       "        text-align: right;\n",
       "    }\n",
       "</style>\n",
       "<table border=\"1\" class=\"dataframe\">\n",
       "  <thead>\n",
       "    <tr style=\"text-align: right;\">\n",
       "      <th></th>\n",
       "      <th>count</th>\n",
       "      <th>mean</th>\n",
       "      <th>std</th>\n",
       "      <th>min</th>\n",
       "      <th>25%</th>\n",
       "      <th>50%</th>\n",
       "      <th>75%</th>\n",
       "      <th>max</th>\n",
       "    </tr>\n",
       "  </thead>\n",
       "  <tbody>\n",
       "    <tr>\n",
       "      <th>num_orders</th>\n",
       "      <td>4416.0</td>\n",
       "      <td>84.42</td>\n",
       "      <td>45.02</td>\n",
       "      <td>0.0</td>\n",
       "      <td>54.0</td>\n",
       "      <td>78.0</td>\n",
       "      <td>107.0</td>\n",
       "      <td>462.0</td>\n",
       "    </tr>\n",
       "  </tbody>\n",
       "</table>\n",
       "</div>"
      ],
      "text/plain": [
       "             count   mean    std  min   25%   50%    75%    max\n",
       "num_orders  4416.0  84.42  45.02  0.0  54.0  78.0  107.0  462.0"
      ]
     },
     "metadata": {},
     "output_type": "display_data"
    }
   ],
   "source": [
    "histogram = sns.histplot(data=taxi_data_resampled, x=\"num_orders\")\n",
    "histogram.set(\n",
    "    title=\"Distribution of taxi orders\",\n",
    "    xlabel=\"Taxi orders\",\n",
    "    ylabel=\"Objects\",\n",
    ")\n",
    "plt.show()\n",
    "\n",
    "display(taxi_data_resampled.describe().round(2).T)"
   ]
  },
  {
   "cell_type": "markdown",
   "id": "bc69832a-deb9-4aca-b210-0eb949f9e225",
   "metadata": {},
   "source": [
    "We can also visualize the data in a slightly different way - as a time series. For that, we will write a function called `plot_time_series()` that will display time series graph of the data for specific time period with a possibility to decompose time series and plot its components."
   ]
  },
  {
   "cell_type": "code",
   "execution_count": 8,
   "id": "44a6a891-6001-4eec-92e4-018a44998454",
   "metadata": {},
   "outputs": [],
   "source": [
    "def plot_time_series(\n",
    "    data: pd.DataFrame,\n",
    "    col: str,\n",
    "    period_start: str,\n",
    "    period_end: str,\n",
    "    kind: Optional[str] = None,\n",
    ") -> Any:\n",
    "    \"\"\"Plots time series.\n",
    "\n",
    "    When specifying kind=\"decomposed\", conducts seasonal decomposition\n",
    "    of the data and outputs graphs of trend, seasonal and residual\n",
    "    components.\n",
    "\n",
    "    Args:\n",
    "        data (pd.DataFrame): DataFrame with information\n",
    "            about taxi orders.\n",
    "        col (str): DataFrame column containing\n",
    "            data about taxi orders.\n",
    "        period_start (str): Time period start.\n",
    "        period_end (str): Time period end.\n",
    "        kind (Optional[str], optional): Boolean indicator\n",
    "            of performing time-series decomposition.\n",
    "    \"\"\"\n",
    "    # Plotting decomposed time series\n",
    "    if kind == \"decomposed\":\n",
    "        decomposed = seasonal_decompose(data)\n",
    "\n",
    "        plt.figure(figsize=(8, 10))\n",
    "\n",
    "        # Trend component\n",
    "        plt.subplot(311)\n",
    "        trend_plot = sns.lineplot(\n",
    "            data=decomposed.trend[period_start:period_end], ax=plt.gca()\n",
    "        )\n",
    "        trend_plot.set(title=\"Trend\", xlabel=\"Time period\", ylabel=\"Orders\")\n",
    "        plt.xticks(rotation=45)\n",
    "\n",
    "        # Seasonal component\n",
    "        plt.subplot(312)\n",
    "        seasonal_plot = sns.lineplot(\n",
    "            data=decomposed.seasonal[period_start:period_end], ax=plt.gca()\n",
    "        )\n",
    "        seasonal_plot.set(title=\"Seasonality\", xlabel=\"Time period\", ylabel=\"Orders\")\n",
    "        plt.xticks(rotation=45)\n",
    "\n",
    "        # Residual component\n",
    "        plt.subplot(313)\n",
    "        residual_plot = sns.lineplot(\n",
    "            data=decomposed.resid[period_start:period_end], ax=plt.gca()\n",
    "        )\n",
    "        residual_plot.set(title=\"Residual\", xlabel=\"Time period\", ylabel=\"Orders\")\n",
    "        plt.xticks(rotation=45)\n",
    "\n",
    "        plt.tight_layout()\n",
    "        plt.show()\n",
    "\n",
    "        return\n",
    "\n",
    "    # Plotting time series\n",
    "    full_data_plot = sns.lineplot(\n",
    "        data=data[period_start:period_end],\n",
    "        y=col,\n",
    "        x=data[period_start:period_end].index,\n",
    "        ax=plt.gca(),\n",
    "    )\n",
    "    full_data_plot.set(\n",
    "        title=\"Taxi orders number\", xlabel=\"Time period\", ylabel=\"Orders\"\n",
    "    )\n",
    "    plt.xticks(rotation=45)\n",
    "    plt.tight_layout()\n",
    "    plt.show()"
   ]
  },
  {
   "cell_type": "code",
   "execution_count": 9,
   "id": "c6f3d2d2-ea2d-4bd3-ac05-4b402408c1d8",
   "metadata": {},
   "outputs": [
    {
     "data": {
      "image/png": "[encoded data removed]",
      "text/plain": [
       "<Figure size 640x480 with 1 Axes>"
      ]
     },
     "metadata": {},
     "output_type": "display_data"
    }
   ],
   "source": [
    "plot_time_series(\n",
    "    data=taxi_data_resampled,\n",
    "    col=\"num_orders\",\n",
    "    period_start=\"2018-03-01\",\n",
    "    period_end=\"2018-03-03\",\n",
    ")"
   ]
  },
  {
   "cell_type": "code",
   "execution_count": 10,
   "id": "61db94b3-ca59-4f7f-9e55-90b492509c27",
   "metadata": {},
   "outputs": [
    {
     "data": {
      "image/png": "[encoded data removed]",
      "text/plain": [
       "<Figure size 800x1000 with 3 Axes>"
      ]
     },
     "metadata": {},
     "output_type": "display_data"
    }
   ],
   "source": [
    "plot_time_series(\n",
    "    data=taxi_data_resampled,\n",
    "    col=\"num_orders\",\n",
    "    period_start=\"2018-03-01\",\n",
    "    period_end=\"2018-03-03\",\n",
    "    kind=\"decomposed\",\n",
    ")"
   ]
  },
  {
   "cell_type": "markdown",
   "id": "be574998-24be-403e-aed7-a60717414ec2",
   "metadata": {},
   "source": [
    "We see here that there is a certain periodicity in taxi orders: every day at about 6 o'clock in the morning, orders reach their minimum and then grow, fluctuating, until reaching their maximum at midnight, after which the pattern repeats again. This fact makes us think about the possibility of the value of hours having an impact on the number of orders."
   ]
  },
  {
   "cell_type": "markdown",
   "id": "53a67e11-273b-414d-8809-3a26a36c9bf6",
   "metadata": {},
   "source": [
    "**Summary**\n",
    "\n",
    "This stage was devoted to data visualization, where we were able to decompose the time series into three components: trend, seasonality and residual. The function we have written enabled us to visualize any period of time within the time series period as well as display the results of the seasonal decomposition of the series."
   ]
  },
  {
   "cell_type": "markdown",
   "id": "f92ce5e1-a005-4167-9dfc-0e16c785087f",
   "metadata": {},
   "source": [
    "# Data preparation"
   ]
  },
  {
   "cell_type": "markdown",
   "id": "b8d0be45-6a54-4d18-a397-3d87d8d12d49",
   "metadata": {},
   "source": [
    "## Features extraction"
   ]
  },
  {
   "cell_type": "markdown",
   "id": "58ef4de1-84ec-4c6a-aa3f-aea28c583d20",
   "metadata": {},
   "source": [
    "Now let's move on to data preparation. To begin with, we need to actually create a dataset so that it can then be passed on to machine learning algorithms, because we have only one column, which is also a target feature. What we can do is create time variables from the DataFrame index itself, and also introduce lag values of the target attribute and a moving average as features. For that, we will write a class `FeaturesExtractor` which will inherit from `sklearn.base.BaseEstimator` and `sklearn.base.TransformerMixin`."
   ]
  },
  {
   "cell_type": "code",
   "execution_count": 11,
   "id": "b2df1cfb-5a00-46c2-8291-fbb382ea322c",
   "metadata": {},
   "outputs": [],
   "source": [
    "class FeaturesExtractor(BaseEstimator, TransformerMixin):\n",
    "    \"\"\"Implements feature engineering for time series DataFrame.\"\"\"\n",
    "\n",
    "    def __init__(\n",
    "        self,\n",
    "        max_lag: int = 1,\n",
    "        rolling_mean_order: int = 1,\n",
    "    ) -> None:\n",
    "        \"\"\"Constructor for FeaturesExtractor class.\"\"\"\n",
    "        self.max_lag = max_lag\n",
    "        self.rolling_mean_order = rolling_mean_order\n",
    "\n",
    "    def fit(self, x: pd.DataFrame, y=None) -> None:\n",
    "        \"\"\"Returns the object itself.\"\"\"\n",
    "        return self\n",
    "\n",
    "    def transform(self, x: pd.DataFrame, y=None) -> pd.DataFrame:\n",
    "        \"\"\"\n",
    "        Extracts features from DateTimeIndex in accordance\n",
    "        with arguments passed to `__init__`.\n",
    "        \"\"\"\n",
    "        X = x.copy()\n",
    "        # Adding time variables\n",
    "        X[\"quarter\"] = X.index.quarter\n",
    "        X[\"month\"] = X.index.month\n",
    "        X[\"day\"] = X.index.day\n",
    "        X[\"hour\"] = X.index.hour\n",
    "        # Adding lags\n",
    "        for lag in range(1, self.max_lag + 1):\n",
    "            X[\"lag_{}\".format(lag)] = X[\"num_orders\"].shift(lag)\n",
    "        # Adding moving average\n",
    "        X[\"rolling_mean_{}\".format(self.rolling_mean_order)] = (\n",
    "            X[\"num_orders\"].shift().rolling(self.rolling_mean_order).mean()\n",
    "        )\n",
    "\n",
    "        return X"
   ]
  },
  {
   "cell_type": "code",
   "execution_count": 12,
   "id": "213a9601-1f7e-4c43-9c37-05b373f45e54",
   "metadata": {},
   "outputs": [
    {
     "data": {
      "text/plain": [
       "{'max_lag': 1, 'rolling_mean_order': 1}"
      ]
     },
     "execution_count": 12,
     "metadata": {},
     "output_type": "execute_result"
    }
   ],
   "source": [
    "features_extractor = FeaturesExtractor()\n",
    "features_extractor.get_params()"
   ]
  },
  {
   "cell_type": "markdown",
   "id": "949e3f3c-8b97-4691-842e-028a3e41db36",
   "metadata": {},
   "source": [
    "So, we see that we have successfully created a class object and its parameters were initialized with their default values. \n",
    "\n",
    "Everything is fine, but the question arises about which parameters it would be better to set for the class object, because the final quality of the models will depend on this. We will proceed as follows: first, we will create a grid `dataset_size_setter` with all possible and reasonable values for class parameters."
   ]
  },
  {
   "cell_type": "code",
   "execution_count": 13,
   "id": "be559cad-e17c-4489-b487-0b36d6f85116",
   "metadata": {},
   "outputs": [
    {
     "data": {
      "text/plain": [
       "{'max_lag': array([1, 2, 3, 4]), 'rolling_mean_order': array([1, 2, 3, 4])}"
      ]
     },
     "execution_count": 13,
     "metadata": {},
     "output_type": "execute_result"
    }
   ],
   "source": [
    "dataset_size_setter = {\n",
    "    \"max_lag\": np.arange(1, 5),\n",
    "    \"rolling_mean_order\": np.arange(1, 5),\n",
    "}\n",
    "dataset_size_setter"
   ]
  },
  {
   "cell_type": "markdown",
   "id": "9afcc2a0-2e11-4e81-9fc7-4a7c2f0eb1d6",
   "metadata": {},
   "source": [
    "Now, we can actually convert this dictionary of arrays into a list of dictionaries with keys initialized by all possible combinations of parameter values."
   ]
  },
  {
   "cell_type": "code",
   "execution_count": 14,
   "id": "4072d85b-abff-4da1-a4a9-efa7c16dcf07",
   "metadata": {},
   "outputs": [
    {
     "name": "stdout",
     "output_type": "stream",
     "text": [
      "Number of model configurations: 16\n"
     ]
    }
   ],
   "source": [
    "keys, values = zip(*dataset_size_setter.items())\n",
    "config_list = [dict(zip(keys, v)) for v in itertools.product(*values)]\n",
    "config_num = len(config_list)\n",
    "print(f\"Number of model configurations: {config_num:,}\")"
   ]
  },
  {
   "cell_type": "code",
   "execution_count": 15,
   "id": "3f1c7911-2cbb-4778-9326-8721754ed779",
   "metadata": {},
   "outputs": [
    {
     "data": {
      "text/plain": [
       "[{'max_lag': 1, 'rolling_mean_order': 1},\n",
       " {'max_lag': 1, 'rolling_mean_order': 2},\n",
       " {'max_lag': 1, 'rolling_mean_order': 3},\n",
       " {'max_lag': 1, 'rolling_mean_order': 4},\n",
       " {'max_lag': 2, 'rolling_mean_order': 1},\n",
       " {'max_lag': 2, 'rolling_mean_order': 2},\n",
       " {'max_lag': 2, 'rolling_mean_order': 3},\n",
       " {'max_lag': 2, 'rolling_mean_order': 4},\n",
       " {'max_lag': 3, 'rolling_mean_order': 1},\n",
       " {'max_lag': 3, 'rolling_mean_order': 2},\n",
       " {'max_lag': 3, 'rolling_mean_order': 3},\n",
       " {'max_lag': 3, 'rolling_mean_order': 4},\n",
       " {'max_lag': 4, 'rolling_mean_order': 1},\n",
       " {'max_lag': 4, 'rolling_mean_order': 2},\n",
       " {'max_lag': 4, 'rolling_mean_order': 3},\n",
       " {'max_lag': 4, 'rolling_mean_order': 4}]"
      ]
     },
     "execution_count": 15,
     "metadata": {},
     "output_type": "execute_result"
    }
   ],
   "source": [
    "config_list"
   ]
  },
  {
   "cell_type": "markdown",
   "id": "af7777cf-6cb8-4ca9-badb-70d844bdb3b7",
   "metadata": {},
   "source": [
    "Let's choose some configuration (number 7, for example) and create the dataset."
   ]
  },
  {
   "cell_type": "code",
   "execution_count": 16,
   "id": "1ba833b7-4feb-4d32-bf98-304ddeae8709",
   "metadata": {},
   "outputs": [
    {
     "data": {
      "text/plain": [
       "{'max_lag': 2, 'rolling_mean_order': 3}"
      ]
     },
     "execution_count": 16,
     "metadata": {},
     "output_type": "execute_result"
    }
   ],
   "source": [
    "config_idx = 6\n",
    "config_selected = config_list[config_idx]\n",
    "config_selected"
   ]
  },
  {
   "cell_type": "code",
   "execution_count": 17,
   "id": "ba910f4a-ce54-4a36-920d-75a98ec9ec76",
   "metadata": {},
   "outputs": [
    {
     "data": {
      "text/plain": [
       "{'max_lag': 2, 'rolling_mean_order': 3}"
      ]
     },
     "execution_count": 17,
     "metadata": {},
     "output_type": "execute_result"
    }
   ],
   "source": [
    "features_extractor = features_extractor.set_params(**config_selected)\n",
    "features_extractor.get_params()"
   ]
  },
  {
   "cell_type": "code",
   "execution_count": 18,
   "id": "1b96d67a-86ef-48b1-a959-cc444d0c58ea",
   "metadata": {},
   "outputs": [
    {
     "data": {
      "text/html": [
       "<div>\n",
       "<style scoped>\n",
       "    .dataframe tbody tr th:only-of-type {\n",
       "        vertical-align: middle;\n",
       "    }\n",
       "\n",
       "    .dataframe tbody tr th {\n",
       "        vertical-align: top;\n",
       "    }\n",
       "\n",
       "    .dataframe thead th {\n",
       "        text-align: right;\n",
       "    }\n",
       "</style>\n",
       "<table border=\"1\" class=\"dataframe\">\n",
       "  <thead>\n",
       "    <tr style=\"text-align: right;\">\n",
       "      <th></th>\n",
       "      <th>num_orders</th>\n",
       "      <th>quarter</th>\n",
       "      <th>month</th>\n",
       "      <th>day</th>\n",
       "      <th>hour</th>\n",
       "      <th>lag_1</th>\n",
       "      <th>lag_2</th>\n",
       "      <th>rolling_mean_3</th>\n",
       "    </tr>\n",
       "    <tr>\n",
       "      <th>datetime</th>\n",
       "      <th></th>\n",
       "      <th></th>\n",
       "      <th></th>\n",
       "      <th></th>\n",
       "      <th></th>\n",
       "      <th></th>\n",
       "      <th></th>\n",
       "      <th></th>\n",
       "    </tr>\n",
       "  </thead>\n",
       "  <tbody>\n",
       "    <tr>\n",
       "      <th>2018-03-01 00:00:00</th>\n",
       "      <td>124</td>\n",
       "      <td>1</td>\n",
       "      <td>3</td>\n",
       "      <td>1</td>\n",
       "      <td>0</td>\n",
       "      <td>NaN</td>\n",
       "      <td>NaN</td>\n",
       "      <td>NaN</td>\n",
       "    </tr>\n",
       "    <tr>\n",
       "      <th>2018-03-01 01:00:00</th>\n",
       "      <td>85</td>\n",
       "      <td>1</td>\n",
       "      <td>3</td>\n",
       "      <td>1</td>\n",
       "      <td>1</td>\n",
       "      <td>124.0</td>\n",
       "      <td>NaN</td>\n",
       "      <td>NaN</td>\n",
       "    </tr>\n",
       "    <tr>\n",
       "      <th>2018-03-01 02:00:00</th>\n",
       "      <td>71</td>\n",
       "      <td>1</td>\n",
       "      <td>3</td>\n",
       "      <td>1</td>\n",
       "      <td>2</td>\n",
       "      <td>85.0</td>\n",
       "      <td>124.0</td>\n",
       "      <td>NaN</td>\n",
       "    </tr>\n",
       "    <tr>\n",
       "      <th>2018-03-01 03:00:00</th>\n",
       "      <td>66</td>\n",
       "      <td>1</td>\n",
       "      <td>3</td>\n",
       "      <td>1</td>\n",
       "      <td>3</td>\n",
       "      <td>71.0</td>\n",
       "      <td>85.0</td>\n",
       "      <td>93.333333</td>\n",
       "    </tr>\n",
       "    <tr>\n",
       "      <th>2018-03-01 04:00:00</th>\n",
       "      <td>43</td>\n",
       "      <td>1</td>\n",
       "      <td>3</td>\n",
       "      <td>1</td>\n",
       "      <td>4</td>\n",
       "      <td>66.0</td>\n",
       "      <td>71.0</td>\n",
       "      <td>74.000000</td>\n",
       "    </tr>\n",
       "  </tbody>\n",
       "</table>\n",
       "</div>"
      ],
      "text/plain": [
       "                     num_orders  quarter  month  day  hour  lag_1  lag_2  \\\n",
       "datetime                                                                   \n",
       "2018-03-01 00:00:00         124        1      3    1     0    NaN    NaN   \n",
       "2018-03-01 01:00:00          85        1      3    1     1  124.0    NaN   \n",
       "2018-03-01 02:00:00          71        1      3    1     2   85.0  124.0   \n",
       "2018-03-01 03:00:00          66        1      3    1     3   71.0   85.0   \n",
       "2018-03-01 04:00:00          43        1      3    1     4   66.0   71.0   \n",
       "\n",
       "                     rolling_mean_3  \n",
       "datetime                             \n",
       "2018-03-01 00:00:00             NaN  \n",
       "2018-03-01 01:00:00             NaN  \n",
       "2018-03-01 02:00:00             NaN  \n",
       "2018-03-01 03:00:00       93.333333  \n",
       "2018-03-01 04:00:00       74.000000  "
      ]
     },
     "execution_count": 18,
     "metadata": {},
     "output_type": "execute_result"
    }
   ],
   "source": [
    "taxi_dataset = features_extractor.fit_transform(taxi_data_resampled)\n",
    "taxi_dataset.head()"
   ]
  },
  {
   "cell_type": "markdown",
   "id": "8610ae85-ee68-4a99-9814-c698e3c099ca",
   "metadata": {},
   "source": [
    "We can now see that all four time variables have been created in addition to two lagged columns of `num_orders` as well as moving average of order 3."
   ]
  },
  {
   "cell_type": "markdown",
   "id": "6214c087-f879-43f4-b115-56bcc815db19",
   "metadata": {},
   "source": [
    "## Correlation matrix"
   ]
  },
  {
   "cell_type": "markdown",
   "id": "bff79b1e-bb29-4b54-b8bf-9539e040446c",
   "metadata": {},
   "source": [
    "Let's now plot correlation matrix heatmap using a function we will write."
   ]
  },
  {
   "cell_type": "code",
   "execution_count": 19,
   "id": "5b121958-65cf-4b09-817e-c8b683814cd6",
   "metadata": {},
   "outputs": [],
   "source": [
    "def plot_corr_heatmap(\n",
    "    data: pd.DataFrame,\n",
    "    target_var: Optional[pd.Series] = None,\n",
    "    annot_num_size: Optional[int] = None,\n",
    "    heatmap_coloring: Optional[Any] = None,\n",
    "    upper_triangle: bool = False,\n",
    "    lower_triangle: bool = False,\n",
    ") -> Any:\n",
    "    \"\"\"Plots a heatmap for the correlation matrix.\n",
    "\n",
    "    Args:\n",
    "        data (pd.DataFrame): DataFrame for which a heatmap needs\n",
    "            to be plotted.\n",
    "        target_var(Optional[pd.Series], optional): Target-vector\n",
    "            which needs to be included in the heatmap. Defaults\n",
    "            to None.\n",
    "        annot_num_size (Optional[int], optional): Size of the\n",
    "            figures inside the plot. Defaults to None.\n",
    "        heatmap_coloring (Optional[Any], optional): Heatmap colormap.\n",
    "            Defaults to None.\n",
    "        upper_triangle (bool, optional): Boolean indicator of displaying\n",
    "            only the upper triangle of the matrix. Defaults to False.\n",
    "        lower_triangle (bool, optional): Boolean indicator of displaying\n",
    "            only the lower triangle of the matrix. Defaults to False.\n",
    "    \"\"\"\n",
    "    # Adding target variable to the data\n",
    "    if target_var is not None:\n",
    "        data = pd.concat([data, target_var], axis=1)\n",
    "\n",
    "    # Computing correlation matrix\n",
    "    corr_matrix = data.corr()\n",
    "\n",
    "    # Showing upper/lower triangle of a matrix\n",
    "    if upper_triangle:\n",
    "        mask = np.zeros_like(corr_matrix)\n",
    "        mask[np.tril_indices_from(mask)] = True\n",
    "    elif lower_triangle:\n",
    "        mask = np.zeros_like(corr_matrix)\n",
    "        mask[np.triu_indices_from(mask)] = True\n",
    "    else:\n",
    "        mask = None\n",
    "\n",
    "    # Plotting a matrix\n",
    "    corr_heatmap = sns.heatmap(\n",
    "        corr_matrix,\n",
    "        annot=True,\n",
    "        mask=mask,\n",
    "        annot_kws={\"size\": annot_num_size},\n",
    "        cmap=heatmap_coloring,\n",
    "    )\n",
    "    corr_heatmap.xaxis.tick_bottom()\n",
    "    corr_heatmap.yaxis.tick_left()\n",
    "    corr_heatmap.set(title=\"Correlation matrix\")\n",
    "    plt.show()"
   ]
  },
  {
   "cell_type": "code",
   "execution_count": 20,
   "id": "c3062bf8-fbf7-47eb-a757-246b2474d2b2",
   "metadata": {},
   "outputs": [
    {
     "data": {
      "image/png": "[encoded data removed]",
      "text/plain": [
       "<Figure size 640x480 with 2 Axes>"
      ]
     },
     "metadata": {},
     "output_type": "display_data"
    }
   ],
   "source": [
    "# Correlation matrix heatmap\n",
    "plot_corr_heatmap(\n",
    "    data=taxi_dataset, annot_num_size=10, heatmap_coloring=\"Greens\", lower_triangle=True\n",
    ")"
   ]
  },
  {
   "cell_type": "markdown",
   "id": "74eb7e44-53ce-434e-a118-2e9d385b8ba7",
   "metadata": {},
   "source": [
    "The dataset has been successfully created and we see that many of the features are correlated with the target variable. Of course, `hour` column does not correlate well with the number of orders, but still the correlation does not imply causality, so we will leave it intact in the DataFrame and see later how important it will be for prediction."
   ]
  },
  {
   "cell_type": "markdown",
   "id": "1b6b915c-c2e5-4093-acf6-0e61a757b326",
   "metadata": {},
   "source": [
    "## Data split"
   ]
  },
  {
   "cell_type": "markdown",
   "id": "be1f49ea-f349-4ed6-8cec-fa12ecab58f0",
   "metadata": {},
   "source": [
    "Lastly, let's separate the dataset into training and testing sets by a means of `prepare_ts()` function defined below."
   ]
  },
  {
   "cell_type": "code",
   "execution_count": 21,
   "id": "ed296107-b0c9-4317-b672-78a10dfc6a17",
   "metadata": {},
   "outputs": [],
   "source": [
    "TrainValidTest = Tuple[\n",
    "    pd.DataFrame, pd.Series, pd.DataFrame, pd.Series, pd.DataFrame, pd.Series\n",
    "]\n",
    "TrainTest = Tuple[pd.DataFrame, pd.Series, pd.DataFrame, pd.Series]"
   ]
  },
  {
   "cell_type": "code",
   "execution_count": 22,
   "id": "06a77a0c-dc33-4120-b56c-0405dd9a4cf9",
   "metadata": {},
   "outputs": [],
   "source": [
    "def prepare_ts(\n",
    "    data: pd.DataFrame,\n",
    "    target_name: str,\n",
    "    train_share: float,\n",
    "    test_share: float,\n",
    "    valid_share: Optional[float] = None,\n",
    ") -> Union[TrainValidTest, TrainTest]:\n",
    "    \"\"\"Conducts time series data split into sets.\n",
    "\n",
    "    Depending on the value passed to `valid_share`,\n",
    "    splits the data either into training, validation\n",
    "    and test sets or into training and test sets.\n",
    "\n",
    "    Args:\n",
    "        data (pd.DataFrame): DataFrame which needs to be\n",
    "            split into sets.\n",
    "        target_name (str): Name of the target variable.\n",
    "        train_share (float): Share of the training set.\n",
    "        test_share (float): Share of the test set.\n",
    "        valid_share (Optional[float], optional): Share of\n",
    "            the validation set. Defaults to None.\n",
    "\n",
    "    Returns:\n",
    "        Union[TrainValidTest, TrainTest]: Tuple of training,\n",
    "        validation and test sets or Tuple of training and\n",
    "        test sets.\n",
    "    \"\"\"\n",
    "    # Data split into train/validation/test\n",
    "    if valid_share is not None:\n",
    "        # Checking consistency of set shares\n",
    "        if np.sum([train_share, valid_share, test_share]) != 1.0:\n",
    "            raise ValueError(\"Incorrect sets proportions specified\")\n",
    "\n",
    "        split_1 = 1 - train_share\n",
    "        split_2 = test_share / np.sum([valid_share, test_share])\n",
    "\n",
    "        training_set, valid_test_set = train_test_split(\n",
    "            data, shuffle=False, test_size=split_1\n",
    "        )\n",
    "        valid_set, test_set = train_test_split(\n",
    "            valid_test_set, shuffle=False, test_size=split_2\n",
    "        )\n",
    "\n",
    "        # Dropping nans due to lags\n",
    "        training_set = training_set.dropna()\n",
    "\n",
    "        features_train = training_set.drop([target_name], axis=1)\n",
    "        target_train = training_set[target_name]\n",
    "\n",
    "        features_valid = valid_set.drop([target_name], axis=1)\n",
    "        target_valid = valid_set[target_name]\n",
    "\n",
    "        features_test = test_set.drop([target_name], axis=1)\n",
    "        target_test = test_set[target_name]\n",
    "\n",
    "        return (\n",
    "            features_train,\n",
    "            target_train,\n",
    "            features_valid,\n",
    "            target_valid,\n",
    "            features_test,\n",
    "            target_test,\n",
    "        )\n",
    "\n",
    "    # Data split into training/test\n",
    "    if np.sum([train_share, test_share]) != 1.0:\n",
    "        raise ValueError(\"Incorrect sets proportions specified\")\n",
    "\n",
    "    # Data split\n",
    "    training_set, test_set = train_test_split(data, shuffle=False, test_size=test_share)\n",
    "\n",
    "    # Dropping nans due to lags\n",
    "    training_set = training_set.dropna()\n",
    "\n",
    "    # Separating features from target\n",
    "    features_train = training_set.drop([target_name], axis=1)\n",
    "    target_train = training_set[target_name]\n",
    "\n",
    "    features_test = test_set.drop([target_name], axis=1)\n",
    "    target_test = test_set[target_name]\n",
    "\n",
    "    return features_train, target_train, features_test, target_test"
   ]
  },
  {
   "cell_type": "code",
   "execution_count": 23,
   "id": "c08b153f-3de5-4370-8555-fe6396faac0d",
   "metadata": {},
   "outputs": [],
   "source": [
    "features_train, target_train, features_test, target_test = prepare_ts(\n",
    "    data=taxi_dataset,\n",
    "    target_name=\"num_orders\",\n",
    "    train_share=TRAIN_SET_SHARE,\n",
    "    test_share=TEST_SET_SHARE,\n",
    ")"
   ]
  },
  {
   "cell_type": "code",
   "execution_count": 24,
   "id": "a83e22ea-847f-413c-9395-b9aedf2538bb",
   "metadata": {},
   "outputs": [],
   "source": [
    "features_train_share = np.round(features_train.shape[0] / taxi_dataset.shape[0], 2)\n",
    "target_train_share = np.round(target_train.shape[0] / taxi_dataset.shape[0], 2)\n",
    "\n",
    "features_test_share = np.round(features_test.shape[0] / taxi_dataset.shape[0], 2)\n",
    "target_test_share = np.round(target_test.shape[0] / taxi_dataset.shape[0], 2)\n",
    "\n",
    "assert features_train_share == target_train_share == TRAIN_SET_SHARE\n",
    "assert features_test_share == target_test_share == TEST_SET_SHARE"
   ]
  },
  {
   "cell_type": "markdown",
   "id": "39f8e2ca-d302-4af9-917b-d88f776b8694",
   "metadata": {},
   "source": [
    "**Summary**\n",
    "\n",
    "At this stage, we were able to prepare data for machine learning algorithms. In particular, we were able to create a dataset by extracting features from the dataframe index and its data, and also divided the data into samples."
   ]
  },
  {
   "cell_type": "markdown",
   "id": "8c57605a-fdec-4859-ad19-5feeb2ea690e",
   "metadata": {},
   "source": [
    "# Hyperparameter tuning"
   ]
  },
  {
   "cell_type": "markdown",
   "id": "f97955cf-a543-47e1-aa2a-1004037e35a2",
   "metadata": {},
   "source": [
    "Now we move on to training models, which we will do by selecting hyperparameters. Consider the following regression models:\n",
    "\n",
    "1. `DecisionTreeRegressor()`\n",
    "2. `RandomForestRegressor()`\n",
    "3. `CatBoostRegressor()`\n",
    "4. `XGBRegressor()`\n",
    "5. `LGBMRegressor()`\n",
    "\n",
    "To select optimal combinations of hyperparameters, we will write a wrapper `HyperparamsOptimizer` for `GridSearchCV` with an opportunity to additionally generate hyperparameter tuning results in the DataFrame format."
   ]
  },
  {
   "cell_type": "code",
   "execution_count": 25,
   "id": "87db01fc-e293-43ac-ba11-3b308959cc67",
   "metadata": {},
   "outputs": [],
   "source": [
    "RandomStateInstance = np.random.mtrand.RandomState"
   ]
  },
  {
   "cell_type": "code",
   "execution_count": 26,
   "id": "54469147-eb79-4344-8ea8-a2505552f2f6",
   "metadata": {},
   "outputs": [],
   "source": [
    "class RandomizedHyperoptRegression(RandomizedSearchCV):\n",
    "    \"\"\"\n",
    "    Wrapper for RandomizedSearchCV with custom defaults\n",
    "    and additional functionality for running regressions.\n",
    "    \"\"\"\n",
    "\n",
    "    def __init__(\n",
    "        self,\n",
    "        estimator: BaseEstimator,\n",
    "        param_distributions: Union[Sequence[Mapping], Mapping],\n",
    "        train_dataset: Tuple[Any, Any],\n",
    "        eval_dataset: Tuple[Any, Any],\n",
    "        cv: Union[Iterable, int] = 2,\n",
    "        random_state: Union[RandomStateInstance, int] = 12345,\n",
    "        scoring: str = \"neg_root_mean_squared_error\",\n",
    "        n_iter: int = 5,\n",
    "        n_jobs: Optional[int] = None,\n",
    "        return_train_score: bool = True,\n",
    "    ) -> None:\n",
    "        \"\"\"Initializes an instance.\n",
    "\n",
    "        Args:\n",
    "            estimator (BaseEstimator): Sklearn model, Gradient Boosting model or\n",
    "                Pipeline object.\n",
    "            param_distributions (Union[Sequence[Mapping], Mapping]): Grid of\n",
    "                hyperparameter names and their values to be varied.\n",
    "            train_dataset (Tuple[Any, Any]): Tuple of training features and\n",
    "                training target-vector.\n",
    "            eval_dataset (Tuple[Any, Any]): Tuple of testing features and\n",
    "                testing target-vector.\n",
    "            cv (Union[Iterable, int], optional): Crossvalidator represented\n",
    "                as an iterator or an integer. Defaults to 2.\n",
    "            random_state (Union[RandomStateInstance, int], optional): Random seed\n",
    "                represented as either RandomState instance or an integer.\n",
    "                Defaults to 12345.\n",
    "            scoring (str, optional): Scoring metric.\n",
    "                Defaults to \"neg_root_mean_squared_error\".\n",
    "            n_iter (int, optional): Number of hyperparameter combinations\n",
    "                to consider. Defaults to 5.\n",
    "            n_jobs (Optional[int], optional): Parallelization of computations.\n",
    "                Defaults to None.\n",
    "            return_train_score (bool, optional): Boolean indicating returning\n",
    "                metric values scores computed on training set. Defaults to True.\n",
    "        \"\"\"\n",
    "        super().__init__(\n",
    "            estimator=estimator,\n",
    "            param_distributions=param_distributions,\n",
    "            cv=cv,\n",
    "            random_state=random_state,\n",
    "            scoring=scoring,\n",
    "            n_iter=n_iter,\n",
    "            n_jobs=n_jobs,\n",
    "            return_train_score=return_train_score,\n",
    "        )\n",
    "        self.train_dataset = train_dataset\n",
    "        self.eval_dataset = eval_dataset\n",
    "        self.train_features, self.train_target = self.train_dataset\n",
    "        self.eval_features, self.eval_target = self.eval_dataset\n",
    "\n",
    "    def train_crossvalidate(self) -> Any:\n",
    "        \"\"\"Launching grid search algorithm.\"\"\"\n",
    "        # Computing grid search time\n",
    "        start = time.time()\n",
    "        self.fit(self.train_features, self.train_target)\n",
    "        end = time.time() - start\n",
    "\n",
    "        # Choosing the appropriate name of the last estimator\n",
    "        try:\n",
    "            model_name = type(\n",
    "                self.estimator.named_steps[(*self.estimator.named_steps,)[1]]\n",
    "            ).__name__\n",
    "        except:\n",
    "            model_name = type(self.best_estimator_).__name__\n",
    "\n",
    "        print(f\"Grid search for {model_name} completed.\")\n",
    "        print(f\"Time elasped:{end: .1f} s\")\n",
    "\n",
    "    def display_tuning_process(self, best_iter: bool = False) -> pd.DataFrame:\n",
    "        \"\"\"\n",
    "        Displaying the results of grid search. Additionally, displays the\n",
    "        best combination of hyperparameters and scoring metric values.\n",
    "        \"\"\"\n",
    "        # Verifying if the grid search has been lauched\n",
    "        try:\n",
    "            cv_results_df = pd.DataFrame(self.cv_results_)\n",
    "        except AttributeError:\n",
    "            not_fitted_error_msg = (\n",
    "                f\"The {type(self).__name__} instance has not been fitted yet.\\n\"\n",
    "                \"Call 'train_crossvalidate' before using this method.\"\n",
    "            )\n",
    "            print(not_fitted_error_msg)\n",
    "        else:\n",
    "            if self.return_train_score:\n",
    "                # Selecting varied hyperparameters and train/test metric values\n",
    "                relevant_columns = (\n",
    "                    list(\n",
    "                        cv_results_df.columns[\n",
    "                            cv_results_df.columns.str.startswith(\"param_\")\n",
    "                        ]\n",
    "                    )\n",
    "                    + [\"mean_train_score\"]\n",
    "                    + [\"mean_test_score\"]\n",
    "                )\n",
    "                cv_results_df = cv_results_df[relevant_columns]\n",
    "                cv_results_df[\"mean_train_score\"] = -cv_results_df[\"mean_train_score\"]\n",
    "            else:\n",
    "                # Selecting varied hyperparameters and test metric values\n",
    "                relevant_columns = list(\n",
    "                    cv_results_df.columns[\n",
    "                        cv_results_df.columns.str.startswith(\"param_\")\n",
    "                    ]\n",
    "                ) + [\"mean_test_score\"]\n",
    "                cv_results_df = cv_results_df[relevant_columns]\n",
    "\n",
    "            cv_results_df[\"mean_test_score\"] = -cv_results_df[\"mean_test_score\"]\n",
    "\n",
    "            # Fixing column names and precision\n",
    "            try:\n",
    "                last_estimator_name = (*self.best_estimator_.named_steps,)[1]\n",
    "                col_name = \"param_\" + last_estimator_name + \"__\"\n",
    "                cv_results_df.columns = cv_results_df.columns.str.replace(col_name, \"\")\n",
    "            except AttributeError:\n",
    "                cv_results_df.columns = cv_results_df.columns.str.replace(\"param_\", \"\")\n",
    "\n",
    "            cv_results_df = cv_results_df.round(4)\n",
    "\n",
    "            if best_iter:\n",
    "                # Displaying the best iteration\n",
    "                try:\n",
    "                    cv_results_df = cv_results_df.iloc[self.best_index_].rename(\n",
    "                        type(self.best_estimator_[\"model\"]).__name__\n",
    "                    )\n",
    "                except:\n",
    "                    cv_results_df = cv_results_df.iloc[self.best_index_].rename(\n",
    "                        type(self.best_estimator_).__name__\n",
    "                    )\n",
    "\n",
    "            return cv_results_df\n",
    "\n",
    "    def compute_regression_stats(self, metric: str) -> Optional[float]:\n",
    "        \"\"\"Computes key regression metrics.\"\"\"\n",
    "        try:\n",
    "            self.eval_predictions = self.predict(self.eval_features)\n",
    "        except NotFittedError:\n",
    "            not_fitted_error_msg = (\n",
    "                f\"The {type(self).__name__} instance has not been fitted yet.\\n\"\n",
    "                \"Call 'train_crossvalidate' before using this method.\"\n",
    "            )\n",
    "            print(not_fitted_error_msg)\n",
    "        # Proceed if exception has not been activated\n",
    "        else:\n",
    "            if metric == \"rmse\":\n",
    "                rmse = mean_squared_error(\n",
    "                    self.eval_target, self.eval_predictions, squared=False\n",
    "                )\n",
    "                return rmse\n",
    "            elif metric == \"mse\":\n",
    "                mse = mean_squared_error(\n",
    "                    self.eval_target, self.eval_predictions, squared=True\n",
    "                )\n",
    "                return mse\n",
    "            elif metric == \"mae\":\n",
    "                mae = mean_absolute_error(self.eval_target, self.eval_predictions)\n",
    "                return mae\n",
    "            else:\n",
    "                raise ValueError(\"Incorrect metric name specified\")"
   ]
  },
  {
   "cell_type": "markdown",
   "id": "6312d756-c851-4383-9446-c6c439ef8559",
   "metadata": {},
   "source": [
    "Since we deal with time series data, we will use an appropriate cross-validator."
   ]
  },
  {
   "cell_type": "code",
   "execution_count": 27,
   "id": "77ff867d-c4ba-4233-9156-7349b09d10fb",
   "metadata": {},
   "outputs": [],
   "source": [
    "tscv = TimeSeriesSplit(n_splits=CV_FOLDS, test_size=target_test.shape[0])"
   ]
  },
  {
   "cell_type": "markdown",
   "id": "062c21f1-54fd-4d04-bc81-83e0fa7e4a55",
   "metadata": {},
   "source": [
    "## Parameter grids"
   ]
  },
  {
   "cell_type": "code",
   "execution_count": 28,
   "id": "26cff2d9-0e31-4e6f-8d44-5bdf4816fabc",
   "metadata": {},
   "outputs": [],
   "source": [
    "decision_tree_params_grid = {\"max_depth\": np.arange(1, 15)}"
   ]
  },
  {
   "cell_type": "code",
   "execution_count": 29,
   "id": "aea1c3ab-1d4d-4969-8aef-ab59dbc80a66",
   "metadata": {},
   "outputs": [],
   "source": [
    "random_forest_params_grid = {\n",
    "    \"max_depth\": np.arange(1, 7),\n",
    "    \"n_estimators\": np.arange(10, 70, 10),\n",
    "}"
   ]
  },
  {
   "cell_type": "code",
   "execution_count": 30,
   "id": "06ce534c-f8de-4c5a-bf64-b4b4db4e1589",
   "metadata": {},
   "outputs": [],
   "source": [
    "catboost_params_grid = {\n",
    "    \"max_depth\": np.arange(1, 7),\n",
    "    \"n_estimators\": np.arange(10, 70, 10),\n",
    "}"
   ]
  },
  {
   "cell_type": "code",
   "execution_count": 31,
   "id": "f8dbcb48-03e2-42b8-b90a-7161eb96ecba",
   "metadata": {},
   "outputs": [],
   "source": [
    "xgboost_params_grid = {\n",
    "    \"max_depth\": np.arange(1, 7),\n",
    "    \"n_estimators\": np.arange(10, 70, 10),\n",
    "}"
   ]
  },
  {
   "cell_type": "code",
   "execution_count": 32,
   "id": "573b074c-da06-4fd6-879f-08eebfd92cb8",
   "metadata": {},
   "outputs": [],
   "source": [
    "lgbm_params_grid = {\n",
    "    \"max_depth\": np.arange(1, 7),\n",
    "    \"n_estimators\": np.arange(10, 70, 10),\n",
    "}"
   ]
  },
  {
   "cell_type": "markdown",
   "id": "de31d769-b901-4e70-ab2f-0c0a855d2d2b",
   "metadata": {},
   "source": [
    "## Models"
   ]
  },
  {
   "cell_type": "code",
   "execution_count": 33,
   "id": "6462bc5a-fb96-4160-ae3b-2fd78ee85990",
   "metadata": {},
   "outputs": [],
   "source": [
    "decision_tree_model = DecisionTreeRegressor(random_state=12345)"
   ]
  },
  {
   "cell_type": "code",
   "execution_count": 34,
   "id": "6287ee3e-0745-4370-8922-b229a9f0fe42",
   "metadata": {},
   "outputs": [],
   "source": [
    "random_forest_model = RandomForestRegressor(random_state=12345)"
   ]
  },
  {
   "cell_type": "code",
   "execution_count": 35,
   "id": "cef8774d-4a9e-46eb-88d9-3fedfbbc0ec1",
   "metadata": {},
   "outputs": [],
   "source": [
    "catboost_model = CatBoostRegressor(verbose=0)"
   ]
  },
  {
   "cell_type": "code",
   "execution_count": 36,
   "id": "63375c92-47cc-4df5-a00f-a482a70a89db",
   "metadata": {},
   "outputs": [],
   "source": [
    "xgboost_model = XGBRegressor()"
   ]
  },
  {
   "cell_type": "code",
   "execution_count": 37,
   "id": "a330ab2b-97c4-4226-ba99-44ad1cb4a8f6",
   "metadata": {},
   "outputs": [],
   "source": [
    "lgbm_model = LGBMRegressor()"
   ]
  },
  {
   "cell_type": "markdown",
   "id": "385fbc6f-6669-4023-a03c-94eaf106d7a3",
   "metadata": {},
   "source": [
    "## Selection"
   ]
  },
  {
   "cell_type": "markdown",
   "id": "572c07bb-24de-4a4c-86cf-74514b63e297",
   "metadata": {},
   "source": [
    "### `DecisionTree`"
   ]
  },
  {
   "cell_type": "code",
   "execution_count": 38,
   "id": "6d6f302f-ae2a-461b-8f58-8f3c2d2c61e9",
   "metadata": {},
   "outputs": [
    {
     "name": "stdout",
     "output_type": "stream",
     "text": [
      "Grid search for DecisionTreeRegressor completed.\n",
      "Time elasped: 0.7 s\n"
     ]
    }
   ],
   "source": [
    "decision_tree_grid_search = RandomizedHyperoptRegression(\n",
    "    estimator=decision_tree_model,\n",
    "    param_distributions=decision_tree_params_grid,\n",
    "    train_dataset=(features_train, target_train),\n",
    "    eval_dataset=(features_test, target_test),\n",
    "    n_iter=N_ITER,\n",
    "    cv=tscv,\n",
    "    random_state=RANDOM_STATE,\n",
    "    scoring=SCORER,\n",
    ")\n",
    "decision_tree_grid_search.train_crossvalidate()"
   ]
  },
  {
   "cell_type": "code",
   "execution_count": 39,
   "id": "c83de278-cd58-4885-8d8e-c1230973240a",
   "metadata": {},
   "outputs": [
    {
     "data": {
      "text/html": [
       "<div>\n",
       "<style scoped>\n",
       "    .dataframe tbody tr th:only-of-type {\n",
       "        vertical-align: middle;\n",
       "    }\n",
       "\n",
       "    .dataframe tbody tr th {\n",
       "        vertical-align: top;\n",
       "    }\n",
       "\n",
       "    .dataframe thead th {\n",
       "        text-align: right;\n",
       "    }\n",
       "</style>\n",
       "<table border=\"1\" class=\"dataframe\">\n",
       "  <thead>\n",
       "    <tr style=\"text-align: right;\">\n",
       "      <th></th>\n",
       "      <th>max_depth</th>\n",
       "      <th>mean_train_score</th>\n",
       "      <th>mean_test_score</th>\n",
       "    </tr>\n",
       "  </thead>\n",
       "  <tbody>\n",
       "    <tr>\n",
       "      <th>0</th>\n",
       "      <td>1</td>\n",
       "      <td>30.1159</td>\n",
       "      <td>38.8689</td>\n",
       "    </tr>\n",
       "    <tr>\n",
       "      <th>1</th>\n",
       "      <td>2</td>\n",
       "      <td>27.0543</td>\n",
       "      <td>36.5981</td>\n",
       "    </tr>\n",
       "    <tr>\n",
       "      <th>2</th>\n",
       "      <td>3</td>\n",
       "      <td>25.1506</td>\n",
       "      <td>34.5144</td>\n",
       "    </tr>\n",
       "    <tr>\n",
       "      <th>3</th>\n",
       "      <td>4</td>\n",
       "      <td>23.8868</td>\n",
       "      <td>33.4580</td>\n",
       "    </tr>\n",
       "    <tr>\n",
       "      <th>4</th>\n",
       "      <td>5</td>\n",
       "      <td>22.3387</td>\n",
       "      <td>31.7670</td>\n",
       "    </tr>\n",
       "    <tr>\n",
       "      <th>5</th>\n",
       "      <td>6</td>\n",
       "      <td>20.9436</td>\n",
       "      <td>31.0397</td>\n",
       "    </tr>\n",
       "    <tr>\n",
       "      <th>6</th>\n",
       "      <td>7</td>\n",
       "      <td>19.3465</td>\n",
       "      <td>30.8343</td>\n",
       "    </tr>\n",
       "    <tr>\n",
       "      <th>7</th>\n",
       "      <td>8</td>\n",
       "      <td>17.7602</td>\n",
       "      <td>31.3972</td>\n",
       "    </tr>\n",
       "    <tr>\n",
       "      <th>8</th>\n",
       "      <td>9</td>\n",
       "      <td>15.9921</td>\n",
       "      <td>31.3697</td>\n",
       "    </tr>\n",
       "    <tr>\n",
       "      <th>9</th>\n",
       "      <td>10</td>\n",
       "      <td>14.2560</td>\n",
       "      <td>32.2536</td>\n",
       "    </tr>\n",
       "    <tr>\n",
       "      <th>10</th>\n",
       "      <td>11</td>\n",
       "      <td>12.4786</td>\n",
       "      <td>32.3693</td>\n",
       "    </tr>\n",
       "    <tr>\n",
       "      <th>11</th>\n",
       "      <td>12</td>\n",
       "      <td>10.6963</td>\n",
       "      <td>32.9762</td>\n",
       "    </tr>\n",
       "    <tr>\n",
       "      <th>12</th>\n",
       "      <td>13</td>\n",
       "      <td>8.7460</td>\n",
       "      <td>34.0489</td>\n",
       "    </tr>\n",
       "    <tr>\n",
       "      <th>13</th>\n",
       "      <td>14</td>\n",
       "      <td>7.0903</td>\n",
       "      <td>34.9055</td>\n",
       "    </tr>\n",
       "  </tbody>\n",
       "</table>\n",
       "</div>"
      ],
      "text/plain": [
       "   max_depth  mean_train_score  mean_test_score\n",
       "0          1           30.1159          38.8689\n",
       "1          2           27.0543          36.5981\n",
       "2          3           25.1506          34.5144\n",
       "3          4           23.8868          33.4580\n",
       "4          5           22.3387          31.7670\n",
       "5          6           20.9436          31.0397\n",
       "6          7           19.3465          30.8343\n",
       "7          8           17.7602          31.3972\n",
       "8          9           15.9921          31.3697\n",
       "9         10           14.2560          32.2536\n",
       "10        11           12.4786          32.3693\n",
       "11        12           10.6963          32.9762\n",
       "12        13            8.7460          34.0489\n",
       "13        14            7.0903          34.9055"
      ]
     },
     "execution_count": 39,
     "metadata": {},
     "output_type": "execute_result"
    }
   ],
   "source": [
    "decision_tree_grid_search.display_tuning_process()"
   ]
  },
  {
   "cell_type": "code",
   "execution_count": 40,
   "id": "3c1f7520-62d6-4f10-a0de-95df6d938226",
   "metadata": {},
   "outputs": [
    {
     "data": {
      "text/plain": [
       "max_depth                 7\n",
       "mean_train_score    19.3465\n",
       "mean_test_score     30.8343\n",
       "Name: DecisionTreeRegressor, dtype: object"
      ]
     },
     "execution_count": 40,
     "metadata": {},
     "output_type": "execute_result"
    }
   ],
   "source": [
    "decision_tree_grid_search.display_tuning_process(best_iter=True)"
   ]
  },
  {
   "cell_type": "markdown",
   "id": "dcefe48c-99e7-438b-8d32-49834176c202",
   "metadata": {},
   "source": [
    "### `RandomForest`"
   ]
  },
  {
   "cell_type": "code",
   "execution_count": 41,
   "id": "052c06b7-aa11-4f66-a283-ae5809e65b78",
   "metadata": {},
   "outputs": [
    {
     "name": "stdout",
     "output_type": "stream",
     "text": [
      "Grid search for RandomForestRegressor completed.\n",
      "Time elasped: 5.9 s\n"
     ]
    }
   ],
   "source": [
    "random_forest_grid_search = RandomizedHyperoptRegression(\n",
    "    estimator=random_forest_model,\n",
    "    param_distributions=random_forest_params_grid,\n",
    "    train_dataset=(features_train, target_train),\n",
    "    eval_dataset=(features_test, target_test),\n",
    "    n_iter=N_ITER,\n",
    "    cv=tscv,\n",
    "    random_state=RANDOM_STATE,\n",
    "    scoring=SCORER,\n",
    ")\n",
    "random_forest_grid_search.train_crossvalidate()"
   ]
  },
  {
   "cell_type": "code",
   "execution_count": 42,
   "id": "f1b39f1f-6cd2-4c2e-8bec-201f334ce557",
   "metadata": {},
   "outputs": [
    {
     "data": {
      "text/html": [
       "<div>\n",
       "<style scoped>\n",
       "    .dataframe tbody tr th:only-of-type {\n",
       "        vertical-align: middle;\n",
       "    }\n",
       "\n",
       "    .dataframe tbody tr th {\n",
       "        vertical-align: top;\n",
       "    }\n",
       "\n",
       "    .dataframe thead th {\n",
       "        text-align: right;\n",
       "    }\n",
       "</style>\n",
       "<table border=\"1\" class=\"dataframe\">\n",
       "  <thead>\n",
       "    <tr style=\"text-align: right;\">\n",
       "      <th></th>\n",
       "      <th>n_estimators</th>\n",
       "      <th>max_depth</th>\n",
       "      <th>mean_train_score</th>\n",
       "      <th>mean_test_score</th>\n",
       "    </tr>\n",
       "  </thead>\n",
       "  <tbody>\n",
       "    <tr>\n",
       "      <th>0</th>\n",
       "      <td>60</td>\n",
       "      <td>1</td>\n",
       "      <td>29.6087</td>\n",
       "      <td>38.6828</td>\n",
       "    </tr>\n",
       "    <tr>\n",
       "      <th>1</th>\n",
       "      <td>30</td>\n",
       "      <td>1</td>\n",
       "      <td>29.5781</td>\n",
       "      <td>38.7111</td>\n",
       "    </tr>\n",
       "    <tr>\n",
       "      <th>2</th>\n",
       "      <td>40</td>\n",
       "      <td>4</td>\n",
       "      <td>22.9363</td>\n",
       "      <td>32.2418</td>\n",
       "    </tr>\n",
       "    <tr>\n",
       "      <th>3</th>\n",
       "      <td>20</td>\n",
       "      <td>5</td>\n",
       "      <td>21.5913</td>\n",
       "      <td>30.5243</td>\n",
       "    </tr>\n",
       "    <tr>\n",
       "      <th>4</th>\n",
       "      <td>50</td>\n",
       "      <td>5</td>\n",
       "      <td>21.4595</td>\n",
       "      <td>30.4141</td>\n",
       "    </tr>\n",
       "    <tr>\n",
       "      <th>5</th>\n",
       "      <td>40</td>\n",
       "      <td>1</td>\n",
       "      <td>29.5960</td>\n",
       "      <td>38.6759</td>\n",
       "    </tr>\n",
       "    <tr>\n",
       "      <th>6</th>\n",
       "      <td>10</td>\n",
       "      <td>1</td>\n",
       "      <td>29.7292</td>\n",
       "      <td>38.7365</td>\n",
       "    </tr>\n",
       "    <tr>\n",
       "      <th>7</th>\n",
       "      <td>50</td>\n",
       "      <td>1</td>\n",
       "      <td>29.6121</td>\n",
       "      <td>38.7133</td>\n",
       "    </tr>\n",
       "    <tr>\n",
       "      <th>8</th>\n",
       "      <td>10</td>\n",
       "      <td>5</td>\n",
       "      <td>21.6767</td>\n",
       "      <td>30.7151</td>\n",
       "    </tr>\n",
       "    <tr>\n",
       "      <th>9</th>\n",
       "      <td>20</td>\n",
       "      <td>6</td>\n",
       "      <td>20.1381</td>\n",
       "      <td>29.3127</td>\n",
       "    </tr>\n",
       "    <tr>\n",
       "      <th>10</th>\n",
       "      <td>10</td>\n",
       "      <td>3</td>\n",
       "      <td>24.4411</td>\n",
       "      <td>33.9575</td>\n",
       "    </tr>\n",
       "    <tr>\n",
       "      <th>11</th>\n",
       "      <td>30</td>\n",
       "      <td>2</td>\n",
       "      <td>26.3760</td>\n",
       "      <td>36.2323</td>\n",
       "    </tr>\n",
       "    <tr>\n",
       "      <th>12</th>\n",
       "      <td>20</td>\n",
       "      <td>4</td>\n",
       "      <td>22.9687</td>\n",
       "      <td>32.1423</td>\n",
       "    </tr>\n",
       "    <tr>\n",
       "      <th>13</th>\n",
       "      <td>40</td>\n",
       "      <td>3</td>\n",
       "      <td>24.3302</td>\n",
       "      <td>33.8244</td>\n",
       "    </tr>\n",
       "  </tbody>\n",
       "</table>\n",
       "</div>"
      ],
      "text/plain": [
       "   n_estimators max_depth  mean_train_score  mean_test_score\n",
       "0            60         1           29.6087          38.6828\n",
       "1            30         1           29.5781          38.7111\n",
       "2            40         4           22.9363          32.2418\n",
       "3            20         5           21.5913          30.5243\n",
       "4            50         5           21.4595          30.4141\n",
       "5            40         1           29.5960          38.6759\n",
       "6            10         1           29.7292          38.7365\n",
       "7            50         1           29.6121          38.7133\n",
       "8            10         5           21.6767          30.7151\n",
       "9            20         6           20.1381          29.3127\n",
       "10           10         3           24.4411          33.9575\n",
       "11           30         2           26.3760          36.2323\n",
       "12           20         4           22.9687          32.1423\n",
       "13           40         3           24.3302          33.8244"
      ]
     },
     "execution_count": 42,
     "metadata": {},
     "output_type": "execute_result"
    }
   ],
   "source": [
    "random_forest_grid_search.display_tuning_process()"
   ]
  },
  {
   "cell_type": "code",
   "execution_count": 43,
   "id": "c1c41273-8fa3-4963-b37c-da60d38e1535",
   "metadata": {},
   "outputs": [
    {
     "data": {
      "text/plain": [
       "n_estimators             20\n",
       "max_depth                 6\n",
       "mean_train_score    20.1381\n",
       "mean_test_score     29.3127\n",
       "Name: RandomForestRegressor, dtype: object"
      ]
     },
     "execution_count": 43,
     "metadata": {},
     "output_type": "execute_result"
    }
   ],
   "source": [
    "random_forest_grid_search.display_tuning_process(best_iter=True)"
   ]
  },
  {
   "cell_type": "markdown",
   "id": "18c2b805-b795-47a5-a094-4ea078e49e74",
   "metadata": {},
   "source": [
    "### `Catboost`"
   ]
  },
  {
   "cell_type": "code",
   "execution_count": 44,
   "id": "6745cf33-0921-4532-a40b-2fde831a4298",
   "metadata": {},
   "outputs": [
    {
     "name": "stdout",
     "output_type": "stream",
     "text": [
      "Grid search for CatBoostRegressor completed.\n",
      "Time elasped: 6.3 s\n"
     ]
    }
   ],
   "source": [
    "catboost_grid_search = RandomizedHyperoptRegression(\n",
    "    estimator=catboost_model,\n",
    "    param_distributions=catboost_params_grid,\n",
    "    train_dataset=(features_train, target_train),\n",
    "    eval_dataset=(features_test, target_test),\n",
    "    n_iter=N_ITER,\n",
    "    cv=tscv,\n",
    "    random_state=RANDOM_STATE,\n",
    "    scoring=SCORER,\n",
    ")\n",
    "catboost_grid_search.train_crossvalidate()"
   ]
  },
  {
   "cell_type": "code",
   "execution_count": 45,
   "id": "ff479af1-82da-4014-b6d6-467ca1431524",
   "metadata": {},
   "outputs": [
    {
     "data": {
      "text/html": [
       "<div>\n",
       "<style scoped>\n",
       "    .dataframe tbody tr th:only-of-type {\n",
       "        vertical-align: middle;\n",
       "    }\n",
       "\n",
       "    .dataframe tbody tr th {\n",
       "        vertical-align: top;\n",
       "    }\n",
       "\n",
       "    .dataframe thead th {\n",
       "        text-align: right;\n",
       "    }\n",
       "</style>\n",
       "<table border=\"1\" class=\"dataframe\">\n",
       "  <thead>\n",
       "    <tr style=\"text-align: right;\">\n",
       "      <th></th>\n",
       "      <th>n_estimators</th>\n",
       "      <th>max_depth</th>\n",
       "      <th>mean_train_score</th>\n",
       "      <th>mean_test_score</th>\n",
       "    </tr>\n",
       "  </thead>\n",
       "  <tbody>\n",
       "    <tr>\n",
       "      <th>0</th>\n",
       "      <td>60</td>\n",
       "      <td>1</td>\n",
       "      <td>22.2389</td>\n",
       "      <td>29.3180</td>\n",
       "    </tr>\n",
       "    <tr>\n",
       "      <th>1</th>\n",
       "      <td>30</td>\n",
       "      <td>1</td>\n",
       "      <td>23.2515</td>\n",
       "      <td>30.4490</td>\n",
       "    </tr>\n",
       "    <tr>\n",
       "      <th>2</th>\n",
       "      <td>40</td>\n",
       "      <td>4</td>\n",
       "      <td>17.9252</td>\n",
       "      <td>26.4651</td>\n",
       "    </tr>\n",
       "    <tr>\n",
       "      <th>3</th>\n",
       "      <td>20</td>\n",
       "      <td>5</td>\n",
       "      <td>18.7881</td>\n",
       "      <td>26.5099</td>\n",
       "    </tr>\n",
       "    <tr>\n",
       "      <th>4</th>\n",
       "      <td>50</td>\n",
       "      <td>5</td>\n",
       "      <td>16.3210</td>\n",
       "      <td>26.8390</td>\n",
       "    </tr>\n",
       "    <tr>\n",
       "      <th>5</th>\n",
       "      <td>40</td>\n",
       "      <td>1</td>\n",
       "      <td>22.8082</td>\n",
       "      <td>30.0239</td>\n",
       "    </tr>\n",
       "    <tr>\n",
       "      <th>6</th>\n",
       "      <td>10</td>\n",
       "      <td>1</td>\n",
       "      <td>25.5848</td>\n",
       "      <td>33.8353</td>\n",
       "    </tr>\n",
       "    <tr>\n",
       "      <th>7</th>\n",
       "      <td>50</td>\n",
       "      <td>1</td>\n",
       "      <td>22.4668</td>\n",
       "      <td>29.5421</td>\n",
       "    </tr>\n",
       "    <tr>\n",
       "      <th>8</th>\n",
       "      <td>10</td>\n",
       "      <td>5</td>\n",
       "      <td>20.6249</td>\n",
       "      <td>27.6673</td>\n",
       "    </tr>\n",
       "    <tr>\n",
       "      <th>9</th>\n",
       "      <td>20</td>\n",
       "      <td>6</td>\n",
       "      <td>18.0788</td>\n",
       "      <td>26.7969</td>\n",
       "    </tr>\n",
       "    <tr>\n",
       "      <th>10</th>\n",
       "      <td>10</td>\n",
       "      <td>3</td>\n",
       "      <td>22.0939</td>\n",
       "      <td>29.5368</td>\n",
       "    </tr>\n",
       "    <tr>\n",
       "      <th>11</th>\n",
       "      <td>30</td>\n",
       "      <td>2</td>\n",
       "      <td>20.7818</td>\n",
       "      <td>28.3876</td>\n",
       "    </tr>\n",
       "    <tr>\n",
       "      <th>12</th>\n",
       "      <td>20</td>\n",
       "      <td>4</td>\n",
       "      <td>19.5416</td>\n",
       "      <td>26.8145</td>\n",
       "    </tr>\n",
       "    <tr>\n",
       "      <th>13</th>\n",
       "      <td>40</td>\n",
       "      <td>3</td>\n",
       "      <td>19.1103</td>\n",
       "      <td>27.1588</td>\n",
       "    </tr>\n",
       "  </tbody>\n",
       "</table>\n",
       "</div>"
      ],
      "text/plain": [
       "   n_estimators max_depth  mean_train_score  mean_test_score\n",
       "0            60         1           22.2389          29.3180\n",
       "1            30         1           23.2515          30.4490\n",
       "2            40         4           17.9252          26.4651\n",
       "3            20         5           18.7881          26.5099\n",
       "4            50         5           16.3210          26.8390\n",
       "5            40         1           22.8082          30.0239\n",
       "6            10         1           25.5848          33.8353\n",
       "7            50         1           22.4668          29.5421\n",
       "8            10         5           20.6249          27.6673\n",
       "9            20         6           18.0788          26.7969\n",
       "10           10         3           22.0939          29.5368\n",
       "11           30         2           20.7818          28.3876\n",
       "12           20         4           19.5416          26.8145\n",
       "13           40         3           19.1103          27.1588"
      ]
     },
     "execution_count": 45,
     "metadata": {},
     "output_type": "execute_result"
    }
   ],
   "source": [
    "catboost_grid_search.display_tuning_process()"
   ]
  },
  {
   "cell_type": "code",
   "execution_count": 46,
   "id": "aa801e88-5f66-4a92-85e5-94380814a69b",
   "metadata": {},
   "outputs": [
    {
     "data": {
      "text/plain": [
       "n_estimators             40\n",
       "max_depth                 4\n",
       "mean_train_score    17.9252\n",
       "mean_test_score     26.4651\n",
       "Name: CatBoostRegressor, dtype: object"
      ]
     },
     "execution_count": 46,
     "metadata": {},
     "output_type": "execute_result"
    }
   ],
   "source": [
    "catboost_grid_search.display_tuning_process(best_iter=True)"
   ]
  },
  {
   "cell_type": "markdown",
   "id": "484781bd-a0d4-441c-8d99-69fd0136991e",
   "metadata": {},
   "source": [
    "### `XGBoost`"
   ]
  },
  {
   "cell_type": "code",
   "execution_count": 47,
   "id": "1154d0a7-a299-4b8b-9546-e7b13a2cf701",
   "metadata": {},
   "outputs": [
    {
     "name": "stdout",
     "output_type": "stream",
     "text": [
      "Grid search for XGBRegressor completed.\n",
      "Time elasped: 1.7 s\n"
     ]
    }
   ],
   "source": [
    "xgboost_grid_search = RandomizedHyperoptRegression(\n",
    "    estimator=xgboost_model,\n",
    "    param_distributions=xgboost_params_grid,\n",
    "    train_dataset=(features_train, target_train),\n",
    "    eval_dataset=(features_test, target_test),\n",
    "    n_iter=N_ITER,\n",
    "    cv=tscv,\n",
    "    random_state=RANDOM_STATE,\n",
    "    scoring=SCORER,\n",
    ")\n",
    "xgboost_grid_search.train_crossvalidate()"
   ]
  },
  {
   "cell_type": "code",
   "execution_count": 48,
   "id": "8798f0a6-0c7f-4134-aeda-11bdae86d9e9",
   "metadata": {},
   "outputs": [
    {
     "data": {
      "text/html": [
       "<div>\n",
       "<style scoped>\n",
       "    .dataframe tbody tr th:only-of-type {\n",
       "        vertical-align: middle;\n",
       "    }\n",
       "\n",
       "    .dataframe tbody tr th {\n",
       "        vertical-align: top;\n",
       "    }\n",
       "\n",
       "    .dataframe thead th {\n",
       "        text-align: right;\n",
       "    }\n",
       "</style>\n",
       "<table border=\"1\" class=\"dataframe\">\n",
       "  <thead>\n",
       "    <tr style=\"text-align: right;\">\n",
       "      <th></th>\n",
       "      <th>n_estimators</th>\n",
       "      <th>max_depth</th>\n",
       "      <th>mean_train_score</th>\n",
       "      <th>mean_test_score</th>\n",
       "    </tr>\n",
       "  </thead>\n",
       "  <tbody>\n",
       "    <tr>\n",
       "      <th>0</th>\n",
       "      <td>60</td>\n",
       "      <td>1</td>\n",
       "      <td>22.6426</td>\n",
       "      <td>29.7273</td>\n",
       "    </tr>\n",
       "    <tr>\n",
       "      <th>1</th>\n",
       "      <td>30</td>\n",
       "      <td>1</td>\n",
       "      <td>23.6837</td>\n",
       "      <td>31.7712</td>\n",
       "    </tr>\n",
       "    <tr>\n",
       "      <th>2</th>\n",
       "      <td>40</td>\n",
       "      <td>4</td>\n",
       "      <td>15.9530</td>\n",
       "      <td>27.0962</td>\n",
       "    </tr>\n",
       "    <tr>\n",
       "      <th>3</th>\n",
       "      <td>20</td>\n",
       "      <td>5</td>\n",
       "      <td>15.8875</td>\n",
       "      <td>27.1484</td>\n",
       "    </tr>\n",
       "    <tr>\n",
       "      <th>4</th>\n",
       "      <td>50</td>\n",
       "      <td>5</td>\n",
       "      <td>12.5719</td>\n",
       "      <td>27.4848</td>\n",
       "    </tr>\n",
       "    <tr>\n",
       "      <th>5</th>\n",
       "      <td>40</td>\n",
       "      <td>1</td>\n",
       "      <td>23.1716</td>\n",
       "      <td>30.7445</td>\n",
       "    </tr>\n",
       "    <tr>\n",
       "      <th>6</th>\n",
       "      <td>10</td>\n",
       "      <td>1</td>\n",
       "      <td>26.7608</td>\n",
       "      <td>36.7633</td>\n",
       "    </tr>\n",
       "    <tr>\n",
       "      <th>7</th>\n",
       "      <td>50</td>\n",
       "      <td>1</td>\n",
       "      <td>22.8625</td>\n",
       "      <td>30.1623</td>\n",
       "    </tr>\n",
       "    <tr>\n",
       "      <th>8</th>\n",
       "      <td>10</td>\n",
       "      <td>5</td>\n",
       "      <td>18.1347</td>\n",
       "      <td>28.6351</td>\n",
       "    </tr>\n",
       "    <tr>\n",
       "      <th>9</th>\n",
       "      <td>20</td>\n",
       "      <td>6</td>\n",
       "      <td>13.9973</td>\n",
       "      <td>27.5620</td>\n",
       "    </tr>\n",
       "    <tr>\n",
       "      <th>10</th>\n",
       "      <td>10</td>\n",
       "      <td>3</td>\n",
       "      <td>21.4272</td>\n",
       "      <td>30.0106</td>\n",
       "    </tr>\n",
       "    <tr>\n",
       "      <th>11</th>\n",
       "      <td>30</td>\n",
       "      <td>2</td>\n",
       "      <td>20.6071</td>\n",
       "      <td>27.9667</td>\n",
       "    </tr>\n",
       "    <tr>\n",
       "      <th>12</th>\n",
       "      <td>20</td>\n",
       "      <td>4</td>\n",
       "      <td>17.7686</td>\n",
       "      <td>27.2692</td>\n",
       "    </tr>\n",
       "    <tr>\n",
       "      <th>13</th>\n",
       "      <td>40</td>\n",
       "      <td>3</td>\n",
       "      <td>17.9501</td>\n",
       "      <td>26.7804</td>\n",
       "    </tr>\n",
       "  </tbody>\n",
       "</table>\n",
       "</div>"
      ],
      "text/plain": [
       "   n_estimators max_depth  mean_train_score  mean_test_score\n",
       "0            60         1           22.6426          29.7273\n",
       "1            30         1           23.6837          31.7712\n",
       "2            40         4           15.9530          27.0962\n",
       "3            20         5           15.8875          27.1484\n",
       "4            50         5           12.5719          27.4848\n",
       "5            40         1           23.1716          30.7445\n",
       "6            10         1           26.7608          36.7633\n",
       "7            50         1           22.8625          30.1623\n",
       "8            10         5           18.1347          28.6351\n",
       "9            20         6           13.9973          27.5620\n",
       "10           10         3           21.4272          30.0106\n",
       "11           30         2           20.6071          27.9667\n",
       "12           20         4           17.7686          27.2692\n",
       "13           40         3           17.9501          26.7804"
      ]
     },
     "execution_count": 48,
     "metadata": {},
     "output_type": "execute_result"
    }
   ],
   "source": [
    "xgboost_grid_search.display_tuning_process()"
   ]
  },
  {
   "cell_type": "code",
   "execution_count": 49,
   "id": "6845770a-0551-4bd1-ad8f-ed5186ed950b",
   "metadata": {},
   "outputs": [
    {
     "data": {
      "text/plain": [
       "n_estimators             40\n",
       "max_depth                 3\n",
       "mean_train_score    17.9501\n",
       "mean_test_score     26.7804\n",
       "Name: XGBRegressor, dtype: object"
      ]
     },
     "execution_count": 49,
     "metadata": {},
     "output_type": "execute_result"
    }
   ],
   "source": [
    "xgboost_grid_search.display_tuning_process(best_iter=True)"
   ]
  },
  {
   "cell_type": "markdown",
   "id": "1eff2d12-9876-445b-8cc1-fbcf0eb960a8",
   "metadata": {},
   "source": [
    "### `LGBM`"
   ]
  },
  {
   "cell_type": "code",
   "execution_count": 50,
   "id": "15734c66-611a-439c-9194-c959c9bea350",
   "metadata": {},
   "outputs": [
    {
     "name": "stdout",
     "output_type": "stream",
     "text": [
      "Grid search for LGBMRegressor completed.\n",
      "Time elasped: 1.1 s\n"
     ]
    }
   ],
   "source": [
    "lgbm_grid_search = RandomizedHyperoptRegression(\n",
    "    estimator=lgbm_model,\n",
    "    param_distributions=lgbm_params_grid,\n",
    "    train_dataset=(features_train, target_train),\n",
    "    eval_dataset=(features_test, target_test),\n",
    "    n_iter=N_ITER,\n",
    "    cv=tscv,\n",
    "    random_state=RANDOM_STATE,\n",
    "    scoring=SCORER,\n",
    ")\n",
    "lgbm_grid_search.train_crossvalidate()"
   ]
  },
  {
   "cell_type": "code",
   "execution_count": 51,
   "id": "b7169465-32c9-456f-8cbd-0dad82dc3c20",
   "metadata": {},
   "outputs": [
    {
     "data": {
      "text/html": [
       "<div>\n",
       "<style scoped>\n",
       "    .dataframe tbody tr th:only-of-type {\n",
       "        vertical-align: middle;\n",
       "    }\n",
       "\n",
       "    .dataframe tbody tr th {\n",
       "        vertical-align: top;\n",
       "    }\n",
       "\n",
       "    .dataframe thead th {\n",
       "        text-align: right;\n",
       "    }\n",
       "</style>\n",
       "<table border=\"1\" class=\"dataframe\">\n",
       "  <thead>\n",
       "    <tr style=\"text-align: right;\">\n",
       "      <th></th>\n",
       "      <th>n_estimators</th>\n",
       "      <th>max_depth</th>\n",
       "      <th>mean_train_score</th>\n",
       "      <th>mean_test_score</th>\n",
       "    </tr>\n",
       "  </thead>\n",
       "  <tbody>\n",
       "    <tr>\n",
       "      <th>0</th>\n",
       "      <td>60</td>\n",
       "      <td>1</td>\n",
       "      <td>24.8435</td>\n",
       "      <td>33.5962</td>\n",
       "    </tr>\n",
       "    <tr>\n",
       "      <th>1</th>\n",
       "      <td>30</td>\n",
       "      <td>1</td>\n",
       "      <td>26.9121</td>\n",
       "      <td>36.0875</td>\n",
       "    </tr>\n",
       "    <tr>\n",
       "      <th>2</th>\n",
       "      <td>40</td>\n",
       "      <td>4</td>\n",
       "      <td>19.2357</td>\n",
       "      <td>27.6687</td>\n",
       "    </tr>\n",
       "    <tr>\n",
       "      <th>3</th>\n",
       "      <td>20</td>\n",
       "      <td>5</td>\n",
       "      <td>20.3311</td>\n",
       "      <td>29.4083</td>\n",
       "    </tr>\n",
       "    <tr>\n",
       "      <th>4</th>\n",
       "      <td>50</td>\n",
       "      <td>5</td>\n",
       "      <td>17.5863</td>\n",
       "      <td>26.6084</td>\n",
       "    </tr>\n",
       "    <tr>\n",
       "      <th>5</th>\n",
       "      <td>40</td>\n",
       "      <td>1</td>\n",
       "      <td>26.0529</td>\n",
       "      <td>35.1083</td>\n",
       "    </tr>\n",
       "    <tr>\n",
       "      <th>6</th>\n",
       "      <td>10</td>\n",
       "      <td>1</td>\n",
       "      <td>29.7285</td>\n",
       "      <td>39.7297</td>\n",
       "    </tr>\n",
       "    <tr>\n",
       "      <th>7</th>\n",
       "      <td>50</td>\n",
       "      <td>1</td>\n",
       "      <td>25.3763</td>\n",
       "      <td>34.3222</td>\n",
       "    </tr>\n",
       "    <tr>\n",
       "      <th>8</th>\n",
       "      <td>10</td>\n",
       "      <td>5</td>\n",
       "      <td>23.4221</td>\n",
       "      <td>33.0431</td>\n",
       "    </tr>\n",
       "    <tr>\n",
       "      <th>9</th>\n",
       "      <td>20</td>\n",
       "      <td>6</td>\n",
       "      <td>19.5103</td>\n",
       "      <td>28.7977</td>\n",
       "    </tr>\n",
       "    <tr>\n",
       "      <th>10</th>\n",
       "      <td>10</td>\n",
       "      <td>3</td>\n",
       "      <td>25.3273</td>\n",
       "      <td>35.3357</td>\n",
       "    </tr>\n",
       "    <tr>\n",
       "      <th>11</th>\n",
       "      <td>30</td>\n",
       "      <td>2</td>\n",
       "      <td>23.0540</td>\n",
       "      <td>31.6369</td>\n",
       "    </tr>\n",
       "    <tr>\n",
       "      <th>12</th>\n",
       "      <td>20</td>\n",
       "      <td>4</td>\n",
       "      <td>21.4207</td>\n",
       "      <td>30.3030</td>\n",
       "    </tr>\n",
       "    <tr>\n",
       "      <th>13</th>\n",
       "      <td>40</td>\n",
       "      <td>3</td>\n",
       "      <td>20.6288</td>\n",
       "      <td>28.5452</td>\n",
       "    </tr>\n",
       "  </tbody>\n",
       "</table>\n",
       "</div>"
      ],
      "text/plain": [
       "   n_estimators max_depth  mean_train_score  mean_test_score\n",
       "0            60         1           24.8435          33.5962\n",
       "1            30         1           26.9121          36.0875\n",
       "2            40         4           19.2357          27.6687\n",
       "3            20         5           20.3311          29.4083\n",
       "4            50         5           17.5863          26.6084\n",
       "5            40         1           26.0529          35.1083\n",
       "6            10         1           29.7285          39.7297\n",
       "7            50         1           25.3763          34.3222\n",
       "8            10         5           23.4221          33.0431\n",
       "9            20         6           19.5103          28.7977\n",
       "10           10         3           25.3273          35.3357\n",
       "11           30         2           23.0540          31.6369\n",
       "12           20         4           21.4207          30.3030\n",
       "13           40         3           20.6288          28.5452"
      ]
     },
     "execution_count": 51,
     "metadata": {},
     "output_type": "execute_result"
    }
   ],
   "source": [
    "lgbm_grid_search.display_tuning_process()"
   ]
  },
  {
   "cell_type": "code",
   "execution_count": 52,
   "id": "c3bc1651-7b83-4a33-8af2-4e9e899a41f7",
   "metadata": {},
   "outputs": [
    {
     "data": {
      "text/plain": [
       "n_estimators             50\n",
       "max_depth                 5\n",
       "mean_train_score    17.5863\n",
       "mean_test_score     26.6084\n",
       "Name: LGBMRegressor, dtype: object"
      ]
     },
     "execution_count": 52,
     "metadata": {},
     "output_type": "execute_result"
    }
   ],
   "source": [
    "lgbm_grid_search.display_tuning_process(best_iter=True)"
   ]
  },
  {
   "cell_type": "markdown",
   "id": "c2bc0680-d714-425d-8269-201862cfd8c4",
   "metadata": {},
   "source": [
    "# Model analysis"
   ]
  },
  {
   "cell_type": "code",
   "execution_count": 53,
   "id": "3cc5c3b7-a6cb-4f17-8bb2-9a667a37784b",
   "metadata": {},
   "outputs": [],
   "source": [
    "def plot_model_comparison(\n",
    "    results: Sequence[Tuple[str, float]],\n",
    "    metric_name: str = \"metric_name\",\n",
    "    title_name: str = \"title_name\",\n",
    "    dot_size: int = 150,\n",
    "    figure_dims: Tuple[int] = (15, 7),\n",
    "    xticks_fontsize: int = 15,\n",
    "    yticks_fontsize: int = 12,\n",
    "    title_fontsize: int = 20,\n",
    "    ylabel_fontsize: int = 15,\n",
    ") -> Any:\n",
    "    \"\"\"Provides models performance vizualization.\n",
    "\n",
    "    Generates a scatterplot with model names and their\n",
    "    respective metric values for comparison.\n",
    "\n",
    "    Args:\n",
    "        results (Sequence[Tuple[str, float]]): Sequence of Tuples with\n",
    "            model names and metric values.\n",
    "        metric_name (str, optional): Name of the metric. Defaults to\n",
    "            \"metric_name\".\n",
    "        title_name (str, optional): Title of the plot. Defaults to\n",
    "            \"title_name\".\n",
    "        dot_size (int, optional): Size of scatterplot dots.\n",
    "            Defaults to 150.\n",
    "        figure_dims (Tuple[int], optional): Dimensions of the figure.\n",
    "            Defaults to (15, 7).\n",
    "        xticks_fontsize (int, optional): Size of xticks on the plot.\n",
    "            Defaults to 15.\n",
    "        yticks_fontsize (int, optional): Size of yticks on the plot.\n",
    "            Defaults to 12.\n",
    "        title_fontsize (int, optional): Size of the title of the plot.\n",
    "            Defaults to 20.\n",
    "        ylabel_fontsize (int, optional): Size of the Y-label.\n",
    "            Defaults to 15.\n",
    "    \"\"\"\n",
    "    # Separating scores from a sequence of tuples passed\n",
    "    _, scores = zip(*results)\n",
    "    # Joining model names with scores\n",
    "    names_with_scores = [\"%s\\n%.4f\" % (name, loss) for name, loss in results]\n",
    "\n",
    "    # Making a plot\n",
    "    plt.figure(figsize=figure_dims)\n",
    "\n",
    "    plt.scatter(range(len(results)), scores, s=dot_size)\n",
    "\n",
    "    plt.xticks(range(len(results)), names_with_scores, fontsize=xticks_fontsize)\n",
    "    plt.yticks(fontsize=yticks_fontsize)\n",
    "\n",
    "    plt.title(title_name, fontsize=title_fontsize)\n",
    "    plt.ylabel(metric_name, fontsize=ylabel_fontsize)\n",
    "\n",
    "    plt.tight_layout()"
   ]
  },
  {
   "cell_type": "code",
   "execution_count": 54,
   "id": "fccdf24a-31ad-46b6-a641-8fd771c69a3e",
   "metadata": {},
   "outputs": [
    {
     "data": {
      "image/png": "[encoded data removed]",
      "text/plain": [
       "<Figure size 1500x700 with 1 Axes>"
      ]
     },
     "metadata": {},
     "output_type": "display_data"
    }
   ],
   "source": [
    "results = [\n",
    "    (\"Decision Tree\", -decision_tree_grid_search.best_score_),\n",
    "    (\"Random Forest\", -random_forest_grid_search.best_score_),\n",
    "    (\"Catboost\", -catboost_grid_search.best_score_),\n",
    "    (\"Xgboost\", -xgboost_grid_search.best_score_),\n",
    "    (\"LightGBM\", -lgbm_grid_search.best_score_),\n",
    "]\n",
    "plot_model_comparison(\n",
    "    results,\n",
    "    metric_name=\"RMSE\",\n",
    "    title_name=\"Grid search results\",\n",
    ")"
   ]
  },
  {
   "cell_type": "code",
   "execution_count": 55,
   "id": "78861fda-5034-43d2-b44c-b0073e7a9f45",
   "metadata": {},
   "outputs": [],
   "source": [
    "# Dynamically selecting the best model\n",
    "grids = (\n",
    "    decision_tree_grid_search,\n",
    "    random_forest_grid_search,\n",
    "    catboost_grid_search,\n",
    "    xgboost_grid_search,\n",
    "    lgbm_grid_search,\n",
    ")\n",
    "\n",
    "final_score = np.Inf\n",
    "final_grid = None\n",
    "for grid in grids:\n",
    "    score = -grid.best_score_\n",
    "    if score < final_score:\n",
    "        final_score = score\n",
    "        final_grid = grid"
   ]
  },
  {
   "cell_type": "markdown",
   "id": "7c812413-a1ac-4358-bfd9-31c98ea4c5d1",
   "metadata": {},
   "source": [
    "**Summary**\n",
    "\n",
    "The results of hyperparameter tuning showed that it would be reasonable to select *Catboost* model."
   ]
  },
  {
   "cell_type": "markdown",
   "id": "0d7c3f77-2391-499e-9f4b-cda25ac9e383",
   "metadata": {},
   "source": [
    "# Testing"
   ]
  },
  {
   "cell_type": "code",
   "execution_count": 56,
   "id": "3f5fddfe-0337-458f-81e0-35dc4f62d8ba",
   "metadata": {},
   "outputs": [
    {
     "name": "stdout",
     "output_type": "stream",
     "text": [
      "Test score: 46.5618\n"
     ]
    }
   ],
   "source": [
    "rmse_test = final_grid.compute_regression_stats(metric=\"rmse\")\n",
    "\n",
    "assert rmse_test < RMSE_THRESHOLD, \"Model quality is insufficient\"\n",
    "\n",
    "print(f\"Test score: {rmse_test:.4f}\")"
   ]
  },
  {
   "cell_type": "code",
   "execution_count": 57,
   "id": "e975fd90-07f3-42bc-aa77-d37e13d592e5",
   "metadata": {},
   "outputs": [
    {
     "data": {
      "image/png": "[encoded data removed]",
      "text/plain": [
       "<Figure size 640x480 with 1 Axes>"
      ]
     },
     "metadata": {},
     "output_type": "display_data"
    }
   ],
   "source": [
    "# Plotting feature importance\n",
    "feature_importances = pd.Series(\n",
    "    final_grid.best_estimator_.feature_importances_, index=features_train.columns\n",
    ").sort_values()\n",
    "\n",
    "feature_importances.plot(kind=\"barh\", color=\"maroon\")\n",
    "\n",
    "plt.title(\"Feature importances\")\n",
    "plt.ylabel(\"Features\")\n",
    "plt.xlabel(\"Score\")\n",
    "plt.tight_layout()\n",
    "plt.show()"
   ]
  },
  {
   "cell_type": "code",
   "execution_count": 58,
   "id": "55c8cac6-bd40-481d-ae56-eb910a02c0e4",
   "metadata": {},
   "outputs": [
    {
     "name": "stdout",
     "output_type": "stream",
     "text": [
      "Model is adequate\n"
     ]
    }
   ],
   "source": [
    "dummy_model = DummyRegressor(strategy=\"mean\")\n",
    "dummy_model.fit(features_train, target_train)\n",
    "predictions_dummy = dummy_model.predict(features_test)\n",
    "rmse_dummy = mean_squared_error(predictions_dummy, target_test, squared=False)\n",
    "\n",
    "assert rmse_test < rmse_dummy, \"Model is inadequate\"\n",
    "\n",
    "print(\"Model is adequate\")"
   ]
  },
  {
   "cell_type": "code",
   "execution_count": 59,
   "id": "fde64ed3-506a-402d-beda-433435c13476",
   "metadata": {},
   "outputs": [
    {
     "data": {
      "image/png": "[encoded data removed]",
      "text/plain": [
       "<Figure size 1000x500 with 1 Axes>"
      ]
     },
     "metadata": {},
     "output_type": "display_data"
    }
   ],
   "source": [
    "# Computing predictions\n",
    "predictions_test = final_grid.best_estimator_.predict(features_test)\n",
    "predictions = pd.Series(\n",
    "    predictions_test, index=target_test.index, name=\"num_orders_predicted\"\n",
    ")\n",
    "predictions_comparison = pd.concat([target_test, predictions], axis=1)\n",
    "\n",
    "plt.figure(figsize=(10, 5))\n",
    "sns.lineplot(\n",
    "    data=predictions_comparison,\n",
    "    x=predictions_comparison.index,\n",
    "    y=\"num_orders\",\n",
    "    label=\"Real data\",\n",
    ")\n",
    "sns.lineplot(\n",
    "    data=predictions_comparison,\n",
    "    x=predictions_comparison.index,\n",
    "    y=\"num_orders_predicted\",\n",
    "    label=\"Predictions\",\n",
    ")\n",
    "plt.legend()\n",
    "plt.xticks(rotation=45)\n",
    "plt.ylabel(\"Number of orders\")\n",
    "plt.xlabel(\"Time\")\n",
    "plt.title(\"Data vs Predictions\")\n",
    "plt.tight_layout()\n",
    "plt.show()"
   ]
  },
  {
   "cell_type": "markdown",
   "id": "0a3821cb-5c10-4c4d-94e6-d02c844fdc9e",
   "metadata": {},
   "source": [
    "**Summary**\n",
    "\n",
    "Testing showed that the chosen model indeed passes both quality and adequacy checks. "
   ]
  },
  {
   "cell_type": "markdown",
   "id": "ff238a7e-deed-4e74-b4e0-374197c70303",
   "metadata": {},
   "source": [
    "# General conclusion"
   ]
  },
  {
   "cell_type": "markdown",
   "id": "0a6f8db6-80a2-4a74-8a60-9f7c39abc7ff",
   "metadata": {},
   "source": [
    "This study was devoted to developing of a time series forecasting model, where the data was the number of orders at the airport. During the analysis, we visualized and analyzed the data. The data was also prepared by creating additional features for machine learning. During the training of models, we were able to choose the optimal combinations of hyperparameters for each of the models under consideration, the best of which, according to the test value of the metric *RMSE*, turned out to be *CatBoostRegressor*. It was also additionally established that hours are a particularly important factor in predicting order values."
   ]
  }
 ],
 "metadata": {
  "kernelspec": {
   "display_name": "Python 3 (ipykernel)",
   "language": "python",
   "name": "python3"
  },
  "language_info": {
   "codemirror_mode": {
    "name": "ipython",
    "version": 3
   },
   "file_extension": ".py",
   "mimetype": "text/x-python",
   "name": "python",
   "nbconvert_exporter": "python",
   "pygments_lexer": "ipython3",
   "version": "3.9.13"
  }
 },
 "nbformat": 4,
 "nbformat_minor": 5
}
